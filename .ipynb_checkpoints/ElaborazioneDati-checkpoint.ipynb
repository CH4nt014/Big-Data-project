{
 "cells": [
  {
   "cell_type": "markdown",
   "metadata": {
    "id": "jRWos7EAz5ne",
    "scrolled": true
   },
   "source": [
    "# Import dipendeze"
   ]
  },
  {
   "cell_type": "code",
   "execution_count": 8,
   "metadata": {
    "collapsed": true,
    "executionInfo": {
     "elapsed": 740,
     "status": "ok",
     "timestamp": 1655304178382,
     "user": {
      "displayName": "Carmine Martinelli",
      "userId": "17979448709595778797"
     },
     "user_tz": -120
    },
    "id": "asX5o8d9AMMy"
   },
   "outputs": [],
   "source": [
    "import pandas as pd\n",
    "import numpy as np\n",
    "import operator\n",
    "import matplotlib.pyplot as plt"
   ]
  },
  {
   "cell_type": "markdown",
   "metadata": {},
   "source": [
    "# Caricamento dati"
   ]
  },
  {
   "cell_type": "code",
   "execution_count": 35,
   "metadata": {
    "executionInfo": {
     "elapsed": 44414,
     "status": "ok",
     "timestamp": 1655304225101,
     "user": {
      "displayName": "Carmine Martinelli",
      "userId": "17979448709595778797"
     },
     "user_tz": -120
    },
    "id": "7eM0PG6QUg8c"
   },
   "outputs": [],
   "source": [
    "#Modifica la precisione nella visualizzazione delle cifre\n",
    "pd.options.display.precision = 10\n",
    "\n",
    "## Importa i dati dal file excel\n",
    "df_DatiSensori = pd.read_excel('Dati_gruppo1.xlsx')\n",
    "\n",
    "# Mostra tutte le colonne\n",
    "# pd.set_option('display.max_rows', None)"
   ]
  },
  {
   "cell_type": "markdown",
   "metadata": {},
   "source": [
    "# Pulizia dataset"
   ]
  },
  {
   "cell_type": "code",
   "execution_count": 36,
   "metadata": {},
   "outputs": [],
   "source": [
    "#Rinomina le colonne con carattersi speciali e assegna il valore di soglia \n",
    "df_DatiSensori.rename(columns = {'C6H6_ug/m3':'C6H6_ug_m3', 'H2S_ug/m3':'H2S_ug_m3', 'H2SJ_ug/m3':'H2SJ_ug_m3'}, inplace = True)\n",
    "threshold = 24\n",
    "\n",
    "# crea una copia del dataset per lavorarci\n",
    "df_Dati = df_DatiSensori.copy()"
   ]
  },
  {
   "cell_type": "code",
   "execution_count": 37,
   "metadata": {},
   "outputs": [],
   "source": [
    "#Restituisce la lista con gli indici delle righe con almeno un valore di threshold di zeri consecutivi\n",
    "def find_fail(colonna, df, threshold): \n",
    "    index, dizionario = {} , {}\n",
    "    listaTagli, out  = [], []\n",
    "    df1 =df[[colonna]].copy() \n",
    "    df1[\"Somma\"] = df1.rolling(threshold).sum() \n",
    "    for i in df1.index: \n",
    "        if df1['Somma'][i] == 0: \n",
    "            index[i] = df1['Somma'][i] \n",
    "    indici = list(index.keys()) \n",
    "    for i in range(len(indici)-1): \n",
    "        if (indici[i+1] - indici[i] > 1): \n",
    "            listaTagli.append(i) \n",
    "    listaTagli.append(0) \n",
    "    listaTagli.sort() \n",
    "    for i in range(len(listaTagli)-1): \n",
    "        if i == 0: \n",
    "            dizionario[i] = indici[listaTagli[i]:listaTagli[i+1]+1] \n",
    "        else: \n",
    "            dizionario[i] = indici[listaTagli[i]+1:listaTagli[i+1]+1] \n",
    "    dizionario[len(dizionario.values())] = indici[listaTagli[-1]+1:] \n",
    "    if (len(dizionario[0]) == 0):\n",
    "      return out\n",
    "    else:\n",
    "      for key in dizionario.keys(): \n",
    "          maxIndice= dizionario[key][0] \n",
    "          minIndice = maxIndice - threshold \n",
    "          maxIndice = maxIndice + len(dizionario[key]) - 1 \n",
    "          out = out + list(np.arange(minIndice,maxIndice+1)) \n",
    "      return out"
   ]
  },
  {
   "cell_type": "code",
   "execution_count": 38,
   "metadata": {},
   "outputs": [],
   "source": [
    "# creo diversi dataframe quanti sono i sensori ed effettuo il controllo sui 24 zeri consecutivi ritenuti fallimento\n",
    "# e infine effettuo il drop degli indici delle righe trovate\n",
    "dfTRS = df_Dati[['TRS_ppb', 'TRS_stato']]\n",
    "dfTRS = dfTRS.drop(find_fail('TRS_ppb', df_Dati, threshold)).reset_index()#TRS_ppb\n",
    "dfVOC = df_Dati[['VOC_ppm', 'VOC_stato']]\n",
    "dfVOC = dfVOC.drop(find_fail('VOC_ppm', df_Dati, threshold)).reset_index() #VOC\n",
    "dfC6H6 = df_Dati[['C6H6_ug_m3', 'C6H6_stato']]\n",
    "dfC6H6 = dfC6H6.drop(find_fail('C6H6_ug_m3', df_Dati, threshold)).reset_index().reset_index() #C6H6_ug/m3\n",
    "dfH2S = df_Dati[['H2S_ug_m3', 'H2S_stato']]\n",
    "dfH2S = dfH2S.drop(find_fail('H2S_ug_m3', df_Dati, threshold)).reset_index() #H2S_ug/m3\n",
    "dfH2SJ = df_Dati[['H2SJ_ug_m3', 'H2SJ_stato']]\n",
    "dfH2SJ = dfH2SJ.drop(find_fail('H2SJ_ug_m3', df_Dati, threshold)).reset_index() #H2SJ_ug/m3\n",
    "dfPIDVOC = df_Dati[['PIDVOC_ppb', 'PIDVOC_stato']]\n",
    "dfPIDVOC = dfPIDVOC.drop(find_fail('PIDVOC_ppb', df_Dati, threshold)).reset_index() #PIDVOC_ppb"
   ]
  },
  {
   "cell_type": "code",
   "execution_count": 39,
   "metadata": {},
   "outputs": [
    {
     "data": {
      "text/plain": [
       "152376"
      ]
     },
     "execution_count": 39,
     "metadata": {},
     "output_type": "execute_result"
    }
   ],
   "source": [
    "len(dfTRS)"
   ]
  },
  {
   "cell_type": "code",
   "execution_count": 40,
   "metadata": {},
   "outputs": [
    {
     "data": {
      "text/html": [
       "<div>\n",
       "<style scoped>\n",
       "    .dataframe tbody tr th:only-of-type {\n",
       "        vertical-align: middle;\n",
       "    }\n",
       "\n",
       "    .dataframe tbody tr th {\n",
       "        vertical-align: top;\n",
       "    }\n",
       "\n",
       "    .dataframe thead th {\n",
       "        text-align: right;\n",
       "    }\n",
       "</style>\n",
       "<table border=\"1\" class=\"dataframe\">\n",
       "  <thead>\n",
       "    <tr style=\"text-align: right;\">\n",
       "      <th></th>\n",
       "      <th>TRS_ppb</th>\n",
       "      <th>TRS_stato</th>\n",
       "      <th>VOC_ppm</th>\n",
       "      <th>VOC_stato</th>\n",
       "      <th>C6H6_ug_m3</th>\n",
       "      <th>C6H6_stato</th>\n",
       "      <th>H2S_ug_m3</th>\n",
       "      <th>H2S_stato</th>\n",
       "      <th>H2SJ_ug_m3</th>\n",
       "      <th>H2SJ_stato</th>\n",
       "      <th>PIDVOC_ppb</th>\n",
       "      <th>PIDVOC_stato</th>\n",
       "    </tr>\n",
       "  </thead>\n",
       "  <tbody>\n",
       "    <tr>\n",
       "      <th>0</th>\n",
       "      <td>2.0000000000</td>\n",
       "      <td>K</td>\n",
       "      <td>0.0</td>\n",
       "      <td>K</td>\n",
       "      <td>0.3000000119</td>\n",
       "      <td>K</td>\n",
       "      <td>0.0000000000</td>\n",
       "      <td>K</td>\n",
       "      <td>0.0</td>\n",
       "      <td>K</td>\n",
       "      <td>44.5999984741</td>\n",
       "      <td>K</td>\n",
       "    </tr>\n",
       "    <tr>\n",
       "      <th>1</th>\n",
       "      <td>0.0000000000</td>\n",
       "      <td>K</td>\n",
       "      <td>0.0</td>\n",
       "      <td>K</td>\n",
       "      <td>0.2000000030</td>\n",
       "      <td>K</td>\n",
       "      <td>0.2000000030</td>\n",
       "      <td>K</td>\n",
       "      <td>0.0</td>\n",
       "      <td>K</td>\n",
       "      <td>44.0000000000</td>\n",
       "      <td>K</td>\n",
       "    </tr>\n",
       "    <tr>\n",
       "      <th>2</th>\n",
       "      <td>0.0000000000</td>\n",
       "      <td>K</td>\n",
       "      <td>0.0</td>\n",
       "      <td>K</td>\n",
       "      <td>0.2000000030</td>\n",
       "      <td>K</td>\n",
       "      <td>1.7000000477</td>\n",
       "      <td>K</td>\n",
       "      <td>0.0</td>\n",
       "      <td>K</td>\n",
       "      <td>44.2000007629</td>\n",
       "      <td>K</td>\n",
       "    </tr>\n",
       "    <tr>\n",
       "      <th>3</th>\n",
       "      <td>11.8999996185</td>\n",
       "      <td>K</td>\n",
       "      <td>0.0</td>\n",
       "      <td>K</td>\n",
       "      <td>0.2000000030</td>\n",
       "      <td>K</td>\n",
       "      <td>1.8999999762</td>\n",
       "      <td>K</td>\n",
       "      <td>0.0</td>\n",
       "      <td>K</td>\n",
       "      <td>44.4000015259</td>\n",
       "      <td>K</td>\n",
       "    </tr>\n",
       "    <tr>\n",
       "      <th>4</th>\n",
       "      <td>26.1000003815</td>\n",
       "      <td>K</td>\n",
       "      <td>0.0</td>\n",
       "      <td>K</td>\n",
       "      <td>0.2000000030</td>\n",
       "      <td>K</td>\n",
       "      <td>2.5000000000</td>\n",
       "      <td>K</td>\n",
       "      <td>0.0</td>\n",
       "      <td>K</td>\n",
       "      <td>40.7999992371</td>\n",
       "      <td>K</td>\n",
       "    </tr>\n",
       "    <tr>\n",
       "      <th>...</th>\n",
       "      <td>...</td>\n",
       "      <td>...</td>\n",
       "      <td>...</td>\n",
       "      <td>...</td>\n",
       "      <td>...</td>\n",
       "      <td>...</td>\n",
       "      <td>...</td>\n",
       "      <td>...</td>\n",
       "      <td>...</td>\n",
       "      <td>...</td>\n",
       "      <td>...</td>\n",
       "      <td>...</td>\n",
       "    </tr>\n",
       "    <tr>\n",
       "      <th>153211</th>\n",
       "      <td>NaN</td>\n",
       "      <td>NaN</td>\n",
       "      <td>NaN</td>\n",
       "      <td>NaN</td>\n",
       "      <td>NaN</td>\n",
       "      <td>ND</td>\n",
       "      <td>NaN</td>\n",
       "      <td>NaN</td>\n",
       "      <td>NaN</td>\n",
       "      <td>NaN</td>\n",
       "      <td>NaN</td>\n",
       "      <td>NaN</td>\n",
       "    </tr>\n",
       "    <tr>\n",
       "      <th>153212</th>\n",
       "      <td>NaN</td>\n",
       "      <td>NaN</td>\n",
       "      <td>NaN</td>\n",
       "      <td>NaN</td>\n",
       "      <td>NaN</td>\n",
       "      <td>ND</td>\n",
       "      <td>NaN</td>\n",
       "      <td>NaN</td>\n",
       "      <td>NaN</td>\n",
       "      <td>NaN</td>\n",
       "      <td>NaN</td>\n",
       "      <td>NaN</td>\n",
       "    </tr>\n",
       "    <tr>\n",
       "      <th>153213</th>\n",
       "      <td>NaN</td>\n",
       "      <td>NaN</td>\n",
       "      <td>NaN</td>\n",
       "      <td>NaN</td>\n",
       "      <td>NaN</td>\n",
       "      <td>ND</td>\n",
       "      <td>NaN</td>\n",
       "      <td>NaN</td>\n",
       "      <td>NaN</td>\n",
       "      <td>NaN</td>\n",
       "      <td>NaN</td>\n",
       "      <td>NaN</td>\n",
       "    </tr>\n",
       "    <tr>\n",
       "      <th>153214</th>\n",
       "      <td>NaN</td>\n",
       "      <td>NaN</td>\n",
       "      <td>NaN</td>\n",
       "      <td>NaN</td>\n",
       "      <td>NaN</td>\n",
       "      <td>ND</td>\n",
       "      <td>NaN</td>\n",
       "      <td>NaN</td>\n",
       "      <td>NaN</td>\n",
       "      <td>NaN</td>\n",
       "      <td>NaN</td>\n",
       "      <td>NaN</td>\n",
       "    </tr>\n",
       "    <tr>\n",
       "      <th>153215</th>\n",
       "      <td>NaN</td>\n",
       "      <td>NaN</td>\n",
       "      <td>NaN</td>\n",
       "      <td>NaN</td>\n",
       "      <td>NaN</td>\n",
       "      <td>ND</td>\n",
       "      <td>NaN</td>\n",
       "      <td>NaN</td>\n",
       "      <td>NaN</td>\n",
       "      <td>NaN</td>\n",
       "      <td>NaN</td>\n",
       "      <td>NaN</td>\n",
       "    </tr>\n",
       "  </tbody>\n",
       "</table>\n",
       "<p>153216 rows × 12 columns</p>\n",
       "</div>"
      ],
      "text/plain": [
       "              TRS_ppb TRS_stato  VOC_ppm VOC_stato    C6H6_ug_m3 C6H6_stato  \\\n",
       "0        2.0000000000         K      0.0         K  0.3000000119          K   \n",
       "1        0.0000000000         K      0.0         K  0.2000000030          K   \n",
       "2        0.0000000000         K      0.0         K  0.2000000030          K   \n",
       "3       11.8999996185         K      0.0         K  0.2000000030          K   \n",
       "4       26.1000003815         K      0.0         K  0.2000000030          K   \n",
       "...               ...       ...      ...       ...           ...        ...   \n",
       "153211            NaN       NaN      NaN       NaN           NaN         ND   \n",
       "153212            NaN       NaN      NaN       NaN           NaN         ND   \n",
       "153213            NaN       NaN      NaN       NaN           NaN         ND   \n",
       "153214            NaN       NaN      NaN       NaN           NaN         ND   \n",
       "153215            NaN       NaN      NaN       NaN           NaN         ND   \n",
       "\n",
       "           H2S_ug_m3 H2S_stato  H2SJ_ug_m3 H2SJ_stato     PIDVOC_ppb  \\\n",
       "0       0.0000000000         K         0.0          K  44.5999984741   \n",
       "1       0.2000000030         K         0.0          K  44.0000000000   \n",
       "2       1.7000000477         K         0.0          K  44.2000007629   \n",
       "3       1.8999999762         K         0.0          K  44.4000015259   \n",
       "4       2.5000000000         K         0.0          K  40.7999992371   \n",
       "...              ...       ...         ...        ...            ...   \n",
       "153211           NaN       NaN         NaN        NaN            NaN   \n",
       "153212           NaN       NaN         NaN        NaN            NaN   \n",
       "153213           NaN       NaN         NaN        NaN            NaN   \n",
       "153214           NaN       NaN         NaN        NaN            NaN   \n",
       "153215           NaN       NaN         NaN        NaN            NaN   \n",
       "\n",
       "       PIDVOC_stato  \n",
       "0                 K  \n",
       "1                 K  \n",
       "2                 K  \n",
       "3                 K  \n",
       "4                 K  \n",
       "...             ...  \n",
       "153211          NaN  \n",
       "153212          NaN  \n",
       "153213          NaN  \n",
       "153214          NaN  \n",
       "153215          NaN  \n",
       "\n",
       "[153216 rows x 12 columns]"
      ]
     },
     "execution_count": 40,
     "metadata": {},
     "output_type": "execute_result"
    }
   ],
   "source": [
    "df_DatiPuliti = pd.concat([dfTRS[['TRS_ppb', 'TRS_stato']], dfVOC[['VOC_ppm', 'VOC_stato']],\n",
    "                           dfC6H6[['C6H6_ug_m3', 'C6H6_stato']],dfH2S[['H2S_ug_m3', 'H2S_stato']],\n",
    "                           dfH2SJ[['H2SJ_ug_m3', 'H2SJ_stato']],dfPIDVOC[['PIDVOC_ppb', 'PIDVOC_stato']]], axis=1)\n",
    "df_DatiPuliti"
   ]
  },
  {
   "cell_type": "code",
   "execution_count": 41,
   "metadata": {},
   "outputs": [
    {
     "data": {
      "text/html": [
       "<div>\n",
       "<style scoped>\n",
       "    .dataframe tbody tr th:only-of-type {\n",
       "        vertical-align: middle;\n",
       "    }\n",
       "\n",
       "    .dataframe tbody tr th {\n",
       "        vertical-align: top;\n",
       "    }\n",
       "\n",
       "    .dataframe thead th {\n",
       "        text-align: right;\n",
       "    }\n",
       "</style>\n",
       "<table border=\"1\" class=\"dataframe\">\n",
       "  <thead>\n",
       "    <tr style=\"text-align: right;\">\n",
       "      <th></th>\n",
       "      <th>TRS_ppb</th>\n",
       "      <th>TRS_stato</th>\n",
       "      <th>VOC_ppm</th>\n",
       "      <th>VOC_stato</th>\n",
       "      <th>C6H6_ug_m3</th>\n",
       "      <th>C6H6_stato</th>\n",
       "      <th>H2S_ug_m3</th>\n",
       "      <th>H2S_stato</th>\n",
       "      <th>H2SJ_ug_m3</th>\n",
       "      <th>H2SJ_stato</th>\n",
       "      <th>PIDVOC_ppb</th>\n",
       "      <th>PIDVOC_stato</th>\n",
       "    </tr>\n",
       "  </thead>\n",
       "  <tbody>\n",
       "    <tr>\n",
       "      <th>0</th>\n",
       "      <td>2.0000000000</td>\n",
       "      <td>K</td>\n",
       "      <td>0.0</td>\n",
       "      <td>K</td>\n",
       "      <td>0.3000000119</td>\n",
       "      <td>K</td>\n",
       "      <td>0.0000000000</td>\n",
       "      <td>K</td>\n",
       "      <td>0.0</td>\n",
       "      <td>K</td>\n",
       "      <td>44.5999984741</td>\n",
       "      <td>K</td>\n",
       "    </tr>\n",
       "    <tr>\n",
       "      <th>1</th>\n",
       "      <td>0.0000000000</td>\n",
       "      <td>K</td>\n",
       "      <td>0.0</td>\n",
       "      <td>K</td>\n",
       "      <td>0.2000000030</td>\n",
       "      <td>K</td>\n",
       "      <td>0.2000000030</td>\n",
       "      <td>K</td>\n",
       "      <td>0.0</td>\n",
       "      <td>K</td>\n",
       "      <td>44.0000000000</td>\n",
       "      <td>K</td>\n",
       "    </tr>\n",
       "    <tr>\n",
       "      <th>2</th>\n",
       "      <td>0.0000000000</td>\n",
       "      <td>K</td>\n",
       "      <td>0.0</td>\n",
       "      <td>K</td>\n",
       "      <td>0.2000000030</td>\n",
       "      <td>K</td>\n",
       "      <td>1.7000000477</td>\n",
       "      <td>K</td>\n",
       "      <td>0.0</td>\n",
       "      <td>K</td>\n",
       "      <td>44.2000007629</td>\n",
       "      <td>K</td>\n",
       "    </tr>\n",
       "    <tr>\n",
       "      <th>3</th>\n",
       "      <td>11.8999996185</td>\n",
       "      <td>K</td>\n",
       "      <td>0.0</td>\n",
       "      <td>K</td>\n",
       "      <td>0.2000000030</td>\n",
       "      <td>K</td>\n",
       "      <td>1.8999999762</td>\n",
       "      <td>K</td>\n",
       "      <td>0.0</td>\n",
       "      <td>K</td>\n",
       "      <td>44.4000015259</td>\n",
       "      <td>K</td>\n",
       "    </tr>\n",
       "    <tr>\n",
       "      <th>4</th>\n",
       "      <td>26.1000003815</td>\n",
       "      <td>K</td>\n",
       "      <td>0.0</td>\n",
       "      <td>K</td>\n",
       "      <td>0.2000000030</td>\n",
       "      <td>K</td>\n",
       "      <td>2.5000000000</td>\n",
       "      <td>K</td>\n",
       "      <td>0.0</td>\n",
       "      <td>K</td>\n",
       "      <td>40.7999992371</td>\n",
       "      <td>K</td>\n",
       "    </tr>\n",
       "    <tr>\n",
       "      <th>...</th>\n",
       "      <td>...</td>\n",
       "      <td>...</td>\n",
       "      <td>...</td>\n",
       "      <td>...</td>\n",
       "      <td>...</td>\n",
       "      <td>...</td>\n",
       "      <td>...</td>\n",
       "      <td>...</td>\n",
       "      <td>...</td>\n",
       "      <td>...</td>\n",
       "      <td>...</td>\n",
       "      <td>...</td>\n",
       "    </tr>\n",
       "    <tr>\n",
       "      <th>152923</th>\n",
       "      <td>NaN</td>\n",
       "      <td>NaN</td>\n",
       "      <td>NaN</td>\n",
       "      <td>NaN</td>\n",
       "      <td>0.6000000238</td>\n",
       "      <td>K</td>\n",
       "      <td>NaN</td>\n",
       "      <td>NaN</td>\n",
       "      <td>NaN</td>\n",
       "      <td>NaN</td>\n",
       "      <td>NaN</td>\n",
       "      <td>NaN</td>\n",
       "    </tr>\n",
       "    <tr>\n",
       "      <th>152924</th>\n",
       "      <td>NaN</td>\n",
       "      <td>NaN</td>\n",
       "      <td>NaN</td>\n",
       "      <td>NaN</td>\n",
       "      <td>0.6000000238</td>\n",
       "      <td>K</td>\n",
       "      <td>NaN</td>\n",
       "      <td>NaN</td>\n",
       "      <td>NaN</td>\n",
       "      <td>NaN</td>\n",
       "      <td>NaN</td>\n",
       "      <td>NaN</td>\n",
       "    </tr>\n",
       "    <tr>\n",
       "      <th>152925</th>\n",
       "      <td>NaN</td>\n",
       "      <td>NaN</td>\n",
       "      <td>NaN</td>\n",
       "      <td>NaN</td>\n",
       "      <td>0.6000000238</td>\n",
       "      <td>K</td>\n",
       "      <td>NaN</td>\n",
       "      <td>NaN</td>\n",
       "      <td>NaN</td>\n",
       "      <td>NaN</td>\n",
       "      <td>NaN</td>\n",
       "      <td>NaN</td>\n",
       "    </tr>\n",
       "    <tr>\n",
       "      <th>152926</th>\n",
       "      <td>NaN</td>\n",
       "      <td>NaN</td>\n",
       "      <td>NaN</td>\n",
       "      <td>NaN</td>\n",
       "      <td>0.6000000238</td>\n",
       "      <td>K</td>\n",
       "      <td>NaN</td>\n",
       "      <td>NaN</td>\n",
       "      <td>NaN</td>\n",
       "      <td>NaN</td>\n",
       "      <td>NaN</td>\n",
       "      <td>NaN</td>\n",
       "    </tr>\n",
       "    <tr>\n",
       "      <th>152927</th>\n",
       "      <td>NaN</td>\n",
       "      <td>NaN</td>\n",
       "      <td>NaN</td>\n",
       "      <td>NaN</td>\n",
       "      <td>0.6000000238</td>\n",
       "      <td>K</td>\n",
       "      <td>NaN</td>\n",
       "      <td>NaN</td>\n",
       "      <td>NaN</td>\n",
       "      <td>NaN</td>\n",
       "      <td>NaN</td>\n",
       "      <td>NaN</td>\n",
       "    </tr>\n",
       "  </tbody>\n",
       "</table>\n",
       "<p>140198 rows × 12 columns</p>\n",
       "</div>"
      ],
      "text/plain": [
       "              TRS_ppb TRS_stato  VOC_ppm VOC_stato    C6H6_ug_m3 C6H6_stato  \\\n",
       "0        2.0000000000         K      0.0         K  0.3000000119          K   \n",
       "1        0.0000000000         K      0.0         K  0.2000000030          K   \n",
       "2        0.0000000000         K      0.0         K  0.2000000030          K   \n",
       "3       11.8999996185         K      0.0         K  0.2000000030          K   \n",
       "4       26.1000003815         K      0.0         K  0.2000000030          K   \n",
       "...               ...       ...      ...       ...           ...        ...   \n",
       "152923            NaN       NaN      NaN       NaN  0.6000000238          K   \n",
       "152924            NaN       NaN      NaN       NaN  0.6000000238          K   \n",
       "152925            NaN       NaN      NaN       NaN  0.6000000238          K   \n",
       "152926            NaN       NaN      NaN       NaN  0.6000000238          K   \n",
       "152927            NaN       NaN      NaN       NaN  0.6000000238          K   \n",
       "\n",
       "           H2S_ug_m3 H2S_stato  H2SJ_ug_m3 H2SJ_stato     PIDVOC_ppb  \\\n",
       "0       0.0000000000         K         0.0          K  44.5999984741   \n",
       "1       0.2000000030         K         0.0          K  44.0000000000   \n",
       "2       1.7000000477         K         0.0          K  44.2000007629   \n",
       "3       1.8999999762         K         0.0          K  44.4000015259   \n",
       "4       2.5000000000         K         0.0          K  40.7999992371   \n",
       "...              ...       ...         ...        ...            ...   \n",
       "152923           NaN       NaN         NaN        NaN            NaN   \n",
       "152924           NaN       NaN         NaN        NaN            NaN   \n",
       "152925           NaN       NaN         NaN        NaN            NaN   \n",
       "152926           NaN       NaN         NaN        NaN            NaN   \n",
       "152927           NaN       NaN         NaN        NaN            NaN   \n",
       "\n",
       "       PIDVOC_stato  \n",
       "0                 K  \n",
       "1                 K  \n",
       "2                 K  \n",
       "3                 K  \n",
       "4                 K  \n",
       "...             ...  \n",
       "152923          NaN  \n",
       "152924          NaN  \n",
       "152925          NaN  \n",
       "152926          NaN  \n",
       "152927          NaN  \n",
       "\n",
       "[140198 rows x 12 columns]"
      ]
     },
     "execution_count": 41,
     "metadata": {},
     "output_type": "execute_result"
    }
   ],
   "source": [
    "# elimina i valori ND\n",
    "df_DatiPuliti = df_DatiPuliti[~df_Dati.TRS_stato.str.match('ND')]\n",
    "df_DatiPuliti "
   ]
  },
  {
   "cell_type": "code",
   "execution_count": 32,
   "metadata": {},
   "outputs": [
    {
     "data": {
      "text/html": [
       "<div>\n",
       "<style scoped>\n",
       "    .dataframe tbody tr th:only-of-type {\n",
       "        vertical-align: middle;\n",
       "    }\n",
       "\n",
       "    .dataframe tbody tr th {\n",
       "        vertical-align: top;\n",
       "    }\n",
       "\n",
       "    .dataframe thead th {\n",
       "        text-align: right;\n",
       "    }\n",
       "</style>\n",
       "<table border=\"1\" class=\"dataframe\">\n",
       "  <thead>\n",
       "    <tr style=\"text-align: right;\">\n",
       "      <th></th>\n",
       "      <th>postazione</th>\n",
       "      <th>Data</th>\n",
       "      <th>TRS_ppb</th>\n",
       "      <th>TRS_stato</th>\n",
       "      <th>VOC_ppm</th>\n",
       "      <th>VOC_stato</th>\n",
       "      <th>C6H6_ug_m3</th>\n",
       "      <th>C6H6_stato</th>\n",
       "      <th>H2S_ug_m3</th>\n",
       "      <th>H2S_stato</th>\n",
       "      <th>H2SJ_ug_m3</th>\n",
       "      <th>H2SJ_stato</th>\n",
       "      <th>PIDVOC_ppb</th>\n",
       "      <th>PIDVOC_stato</th>\n",
       "    </tr>\n",
       "  </thead>\n",
       "  <tbody>\n",
       "    <tr>\n",
       "      <th>0</th>\n",
       "      <td>ATM05_01479</td>\n",
       "      <td>2021-04-12 00:00:00</td>\n",
       "      <td>2.0000000000</td>\n",
       "      <td>K</td>\n",
       "      <td>0.0</td>\n",
       "      <td>K</td>\n",
       "      <td>0.3000000119</td>\n",
       "      <td>K</td>\n",
       "      <td>0.0000000000</td>\n",
       "      <td>K</td>\n",
       "      <td>0.0000000000</td>\n",
       "      <td>K</td>\n",
       "      <td>44.5999984741</td>\n",
       "      <td>K</td>\n",
       "    </tr>\n",
       "    <tr>\n",
       "      <th>1</th>\n",
       "      <td>ATM05_01479</td>\n",
       "      <td>2021-04-12 00:05:00</td>\n",
       "      <td>0.0000000000</td>\n",
       "      <td>K</td>\n",
       "      <td>0.0</td>\n",
       "      <td>K</td>\n",
       "      <td>0.2000000030</td>\n",
       "      <td>K</td>\n",
       "      <td>0.2000000030</td>\n",
       "      <td>K</td>\n",
       "      <td>0.0000000000</td>\n",
       "      <td>K</td>\n",
       "      <td>44.0000000000</td>\n",
       "      <td>K</td>\n",
       "    </tr>\n",
       "    <tr>\n",
       "      <th>2</th>\n",
       "      <td>ATM05_01479</td>\n",
       "      <td>2021-04-12 00:10:00</td>\n",
       "      <td>0.0000000000</td>\n",
       "      <td>K</td>\n",
       "      <td>0.0</td>\n",
       "      <td>K</td>\n",
       "      <td>0.2000000030</td>\n",
       "      <td>K</td>\n",
       "      <td>1.7000000477</td>\n",
       "      <td>K</td>\n",
       "      <td>0.0000000000</td>\n",
       "      <td>K</td>\n",
       "      <td>44.2000007629</td>\n",
       "      <td>K</td>\n",
       "    </tr>\n",
       "    <tr>\n",
       "      <th>3</th>\n",
       "      <td>ATM05_01479</td>\n",
       "      <td>2021-04-12 00:15:00</td>\n",
       "      <td>11.8999996185</td>\n",
       "      <td>K</td>\n",
       "      <td>0.0</td>\n",
       "      <td>K</td>\n",
       "      <td>0.2000000030</td>\n",
       "      <td>K</td>\n",
       "      <td>1.8999999762</td>\n",
       "      <td>K</td>\n",
       "      <td>0.0000000000</td>\n",
       "      <td>K</td>\n",
       "      <td>44.4000015259</td>\n",
       "      <td>K</td>\n",
       "    </tr>\n",
       "    <tr>\n",
       "      <th>4</th>\n",
       "      <td>ATM05_01479</td>\n",
       "      <td>2021-04-12 00:20:00</td>\n",
       "      <td>26.1000003815</td>\n",
       "      <td>K</td>\n",
       "      <td>0.0</td>\n",
       "      <td>K</td>\n",
       "      <td>0.2000000030</td>\n",
       "      <td>K</td>\n",
       "      <td>2.5000000000</td>\n",
       "      <td>K</td>\n",
       "      <td>0.0000000000</td>\n",
       "      <td>K</td>\n",
       "      <td>40.7999992371</td>\n",
       "      <td>K</td>\n",
       "    </tr>\n",
       "    <tr>\n",
       "      <th>...</th>\n",
       "      <td>...</td>\n",
       "      <td>...</td>\n",
       "      <td>...</td>\n",
       "      <td>...</td>\n",
       "      <td>...</td>\n",
       "      <td>...</td>\n",
       "      <td>...</td>\n",
       "      <td>...</td>\n",
       "      <td>...</td>\n",
       "      <td>...</td>\n",
       "      <td>...</td>\n",
       "      <td>...</td>\n",
       "      <td>...</td>\n",
       "      <td>...</td>\n",
       "    </tr>\n",
       "    <tr>\n",
       "      <th>140193</th>\n",
       "      <td>ATM14_01486</td>\n",
       "      <td>2021-11-28 23:35:00</td>\n",
       "      <td>0.0000000000</td>\n",
       "      <td>K</td>\n",
       "      <td>0.0</td>\n",
       "      <td>K</td>\n",
       "      <td>0.6000000238</td>\n",
       "      <td>K</td>\n",
       "      <td>8.8999996185</td>\n",
       "      <td>K</td>\n",
       "      <td>0.3000000119</td>\n",
       "      <td>K</td>\n",
       "      <td>352.6000061035</td>\n",
       "      <td>K</td>\n",
       "    </tr>\n",
       "    <tr>\n",
       "      <th>140194</th>\n",
       "      <td>ATM14_01486</td>\n",
       "      <td>2021-11-28 23:40:00</td>\n",
       "      <td>0.0000000000</td>\n",
       "      <td>K</td>\n",
       "      <td>0.0</td>\n",
       "      <td>K</td>\n",
       "      <td>0.6000000238</td>\n",
       "      <td>K</td>\n",
       "      <td>8.3000001907</td>\n",
       "      <td>K</td>\n",
       "      <td>0.3000000119</td>\n",
       "      <td>K</td>\n",
       "      <td>350.6000061035</td>\n",
       "      <td>K</td>\n",
       "    </tr>\n",
       "    <tr>\n",
       "      <th>140195</th>\n",
       "      <td>ATM14_01486</td>\n",
       "      <td>2021-11-28 23:45:00</td>\n",
       "      <td>0.0000000000</td>\n",
       "      <td>K</td>\n",
       "      <td>0.0</td>\n",
       "      <td>K</td>\n",
       "      <td>0.6000000238</td>\n",
       "      <td>K</td>\n",
       "      <td>8.6999998093</td>\n",
       "      <td>K</td>\n",
       "      <td>0.3000000119</td>\n",
       "      <td>K</td>\n",
       "      <td>353.0000000000</td>\n",
       "      <td>K</td>\n",
       "    </tr>\n",
       "    <tr>\n",
       "      <th>140196</th>\n",
       "      <td>ATM14_01486</td>\n",
       "      <td>2021-11-28 23:50:00</td>\n",
       "      <td>0.0000000000</td>\n",
       "      <td>K</td>\n",
       "      <td>0.0</td>\n",
       "      <td>K</td>\n",
       "      <td>0.6000000238</td>\n",
       "      <td>K</td>\n",
       "      <td>9.1999998093</td>\n",
       "      <td>K</td>\n",
       "      <td>1.2000000477</td>\n",
       "      <td>K</td>\n",
       "      <td>352.7999877930</td>\n",
       "      <td>K</td>\n",
       "    </tr>\n",
       "    <tr>\n",
       "      <th>140197</th>\n",
       "      <td>ATM14_01486</td>\n",
       "      <td>2021-11-28 23:55:00</td>\n",
       "      <td>0.0000000000</td>\n",
       "      <td>K</td>\n",
       "      <td>0.0</td>\n",
       "      <td>K</td>\n",
       "      <td>0.6000000238</td>\n",
       "      <td>K</td>\n",
       "      <td>9.1999998093</td>\n",
       "      <td>K</td>\n",
       "      <td>1.1000000238</td>\n",
       "      <td>K</td>\n",
       "      <td>352.2000122070</td>\n",
       "      <td>K</td>\n",
       "    </tr>\n",
       "  </tbody>\n",
       "</table>\n",
       "<p>140198 rows × 14 columns</p>\n",
       "</div>"
      ],
      "text/plain": [
       "         postazione                Data        TRS_ppb TRS_stato  VOC_ppm  \\\n",
       "0       ATM05_01479 2021-04-12 00:00:00   2.0000000000         K      0.0   \n",
       "1       ATM05_01479 2021-04-12 00:05:00   0.0000000000         K      0.0   \n",
       "2       ATM05_01479 2021-04-12 00:10:00   0.0000000000         K      0.0   \n",
       "3       ATM05_01479 2021-04-12 00:15:00  11.8999996185         K      0.0   \n",
       "4       ATM05_01479 2021-04-12 00:20:00  26.1000003815         K      0.0   \n",
       "...             ...                 ...            ...       ...      ...   \n",
       "140193  ATM14_01486 2021-11-28 23:35:00   0.0000000000         K      0.0   \n",
       "140194  ATM14_01486 2021-11-28 23:40:00   0.0000000000         K      0.0   \n",
       "140195  ATM14_01486 2021-11-28 23:45:00   0.0000000000         K      0.0   \n",
       "140196  ATM14_01486 2021-11-28 23:50:00   0.0000000000         K      0.0   \n",
       "140197  ATM14_01486 2021-11-28 23:55:00   0.0000000000         K      0.0   \n",
       "\n",
       "       VOC_stato    C6H6_ug_m3 C6H6_stato     H2S_ug_m3 H2S_stato  \\\n",
       "0              K  0.3000000119          K  0.0000000000         K   \n",
       "1              K  0.2000000030          K  0.2000000030         K   \n",
       "2              K  0.2000000030          K  1.7000000477         K   \n",
       "3              K  0.2000000030          K  1.8999999762         K   \n",
       "4              K  0.2000000030          K  2.5000000000         K   \n",
       "...          ...           ...        ...           ...       ...   \n",
       "140193         K  0.6000000238          K  8.8999996185         K   \n",
       "140194         K  0.6000000238          K  8.3000001907         K   \n",
       "140195         K  0.6000000238          K  8.6999998093         K   \n",
       "140196         K  0.6000000238          K  9.1999998093         K   \n",
       "140197         K  0.6000000238          K  9.1999998093         K   \n",
       "\n",
       "          H2SJ_ug_m3 H2SJ_stato      PIDVOC_ppb PIDVOC_stato  \n",
       "0       0.0000000000          K   44.5999984741            K  \n",
       "1       0.0000000000          K   44.0000000000            K  \n",
       "2       0.0000000000          K   44.2000007629            K  \n",
       "3       0.0000000000          K   44.4000015259            K  \n",
       "4       0.0000000000          K   40.7999992371            K  \n",
       "...              ...        ...             ...          ...  \n",
       "140193  0.3000000119          K  352.6000061035            K  \n",
       "140194  0.3000000119          K  350.6000061035            K  \n",
       "140195  0.3000000119          K  353.0000000000            K  \n",
       "140196  1.2000000477          K  352.7999877930            K  \n",
       "140197  1.1000000238          K  352.2000122070            K  \n",
       "\n",
       "[140198 rows x 14 columns]"
      ]
     },
     "execution_count": 32,
     "metadata": {},
     "output_type": "execute_result"
    }
   ],
   "source": [
    "# elimina i valori NaN \n",
    "df_DatiPuliti = df_Dati.dropna().reset_index(drop=True)\n",
    "df_DatiPuliti"
   ]
  },
  {
   "cell_type": "code",
   "execution_count": 42,
   "metadata": {},
   "outputs": [],
   "source": [
    "df_copia = df_DatiPuliti.copy()"
   ]
  },
  {
   "cell_type": "code",
   "execution_count": 43,
   "metadata": {},
   "outputs": [],
   "source": [
    "# df_Dati\n",
    "# scrive il dataset su disco\n",
    "df_DatiPuliti.to_excel('datiPuliti.xlsx')"
   ]
  },
  {
   "cell_type": "markdown",
   "metadata": {},
   "source": [
    "# # QUERY"
   ]
  },
  {
   "cell_type": "markdown",
   "metadata": {},
   "source": [
    "# Query 1"
   ]
  },
  {
   "cell_type": "code",
   "execution_count": null,
   "metadata": {
    "colab": {
     "base_uri": "https://localhost:8080/",
     "height": 424
    },
    "collapsed": true,
    "executionInfo": {
     "elapsed": 258,
     "status": "ok",
     "timestamp": 1655304229556,
     "user": {
      "displayName": "Carmine Martinelli",
      "userId": "17979448709595778797"
     },
     "user_tz": -120
    },
    "id": "Jp4Vpjsgz5nl",
    "outputId": "92fbd876-807c-4d8e-d24a-e0d0a2ddcc8e"
   },
   "outputs": [],
   "source": [
    "# query effettuata con un unico comando\n",
    "# df_Benzene = df_DatiSensori.sort_values(by='C6H6_ug/m3', ascending =False)[['postazione', 'Data', 'C6H6_ug/m3']].head(100)\n",
    "\n",
    "# creazione di un dataFrame ordinato in modo discendente per i valori di benzene\n",
    "df_C6H6 = df_DatiPuliti.sort_values(by='C6H6_ug_m3', ascending =False).drop_duplicates(subset=['Data'])\n",
    "# creazione di un dataFrame contenente i 100 maggiori valori di benzene\n",
    "df_C6H6 = df_C6H6[['postazione', 'Data', 'C6H6_ug_m3']]\n",
    "df_C6H6.head(100)"
   ]
  },
  {
   "cell_type": "markdown",
   "metadata": {},
   "source": [
    "# Query 2"
   ]
  },
  {
   "cell_type": "code",
   "execution_count": null,
   "metadata": {
    "collapsed": true,
    "id": "J5TlwbyEz5nm"
   },
   "outputs": [],
   "source": [
    "# sensore H2S\n",
    "\n",
    "# query effettuata con un unico comando\n",
    "# df_H2S = df_DatiSensori.sort_values(by='H2S_ug/m3', ascending =False)[['postazione', 'Data', 'H2S_ug/m3']].head(100)\n",
    "\n",
    "# creazione di un dataFrame ordinato in modo discendente per i valori di acido solfidrico del sensore H2S\n",
    "df_H2S = df_DatiPuliti.sort_values(by='H2S_ug_m3', ascending =False).drop_duplicates(subset=['Data'])\n",
    "# creazione di un dataFrame contenente i 100 maggiori valori di acido solfidrico del sensore H2SJ\n",
    "df_H2S = df_H2S[['postazione', 'Data', 'H2S_ug_m3']].head(100)\n",
    "df_H2S"
   ]
  },
  {
   "cell_type": "code",
   "execution_count": null,
   "metadata": {
    "collapsed": true,
    "id": "42y6B_Svz5nm"
   },
   "outputs": [],
   "source": [
    "# sensore H2SJ\n",
    "\n",
    "# query effettuata con un unico comando\n",
    "# df_H2SJ = df_DatiSensori.sort_values(by='H2SJ_ug/m3', ascending =False)[['postazione', 'Data', 'H2SJ_ug/m3']].head(100)\n",
    "\n",
    "# creazione di un dataFrame ordinato in modo discendente per i valori di acido solfidrico del sensore H2SJ\n",
    "df_H2SJ = df_DatiPuliti.sort_values(by='H2SJ_ug_m3', ascending =False).drop_duplicates(subset=['Data'])\n",
    "# creazione di un dataFrame contenente i 100 maggiori valori di acido solfidrico del sensore H2SJ\n",
    "df_H2SJ = df_H2SJ[['postazione', 'Data', 'H2SJ_ug_m3']].head(100)\n",
    "df_H2SJ"
   ]
  },
  {
   "cell_type": "markdown",
   "metadata": {},
   "source": [
    "# Query 3"
   ]
  },
  {
   "cell_type": "code",
   "execution_count": null,
   "metadata": {
    "collapsed": true,
    "id": "RAzMuBQWz5nn"
   },
   "outputs": [],
   "source": [
    "# sensore VOC\n",
    "\n",
    "# query effettuata con un unico comando\n",
    "# df_VOC = df_DatiSensori.sort_values(by='VOC_ppm', ascending =True)[['postazione', 'Data', 'VOC_ppm']].head(100)\n",
    "\n",
    "# creazione di un dataFrame ordinato in modo discendente per i valori del sensore VOC\n",
    "df_VOC = df_DatiPuliti.sort_values(by='VOC_ppm', ascending =True).drop_duplicates(subset=['Data'])\n",
    "# creazione di un dataFrame contenente i 100 più bassi valori del sensore VOC\n",
    "df_VOC = df_VOC[['postazione', 'Data', 'VOC_ppm']].head(100)\n",
    "df_VOC"
   ]
  },
  {
   "cell_type": "code",
   "execution_count": null,
   "metadata": {
    "collapsed": true,
    "id": "TQcNGJiyz5no"
   },
   "outputs": [],
   "source": [
    "# sensore PIDVOC\n",
    "\n",
    "# query effettuata con un unico comando\n",
    "# df_PIDVOC = df_DatiSensori.sort_values(by='PIDVOC_ppb', ascending =True)[['postazione', 'Data', 'PIDVOC_ppb']].head(100)\n",
    "\n",
    "# creazione di un dataFrame ordinato in modo discendente per i valori del sensore PIDVOC\n",
    "df_PIDVOC = df_DatiPuliti.sort_values(by='PIDVOC_ppb', ascending =True).drop_duplicates(subset=['Data'])\n",
    "# creazione di un dataFrame contenente i 100 più bassi valori del sensore PIDVOC\n",
    "df_PIDVOC = df_PIDVOC[['postazione', 'Data', 'PIDVOC_ppb']].head(100)\n",
    "df_PIDVOC"
   ]
  },
  {
   "cell_type": "markdown",
   "metadata": {
    "id": "H90_aPnbz5np"
   },
   "source": [
    "# Query 4"
   ]
  },
  {
   "cell_type": "code",
   "execution_count": null,
   "metadata": {
    "collapsed": true
   },
   "outputs": [],
   "source": [
    "# funzione che permette di eliminare i valori nulli, calcola la media oraria e restituisce un dataframe ordinato sull'ora\n",
    "def media_oraria(df, compound ):\n",
    "  df1 = df[['postazione', 'Data', compound]].copy()\n",
    "  df1['Data'] = pd.to_datetime(df1['Data'])\n",
    "  df1 = df1[df1[compound].notna()]\n",
    "  indexName = df1[(df1[compound]==0)].index\n",
    "  df1.drop(indexName, inplace = True)\n",
    "  return df1[['Data', compound]].resample(\"H\", label = 'right', on = 'Data').mean()"
   ]
  },
  {
   "cell_type": "code",
   "execution_count": null,
   "metadata": {
    "collapsed": true,
    "executionInfo": {
     "elapsed": 251,
     "status": "ok",
     "timestamp": 1655304751704,
     "user": {
      "displayName": "Carmine Martinelli",
      "userId": "17979448709595778797"
     },
     "user_tz": -120
    },
    "id": "6y6LFUlgz5nq"
   },
   "outputs": [],
   "source": [
    "# Creazione dataframe ordinato sulla media oraria\n",
    "df_C6H6avg = media_oraria(df_DatiPuliti, 'C6H6_ug_m3')\n",
    "df_C6H6avg"
   ]
  },
  {
   "cell_type": "code",
   "execution_count": null,
   "metadata": {
    "collapsed": true,
    "id": "wJ4C4Rr7z5nr"
   },
   "outputs": [],
   "source": [
    "# Stampa le 50 ore con i livelli di benzene più alti\n",
    "df_C6H6Max = df_C6H6avg.sort_values('C6H6_ug_m3', ascending = False).head(50)\n",
    "df_C6H6Max"
   ]
  },
  {
   "cell_type": "code",
   "execution_count": null,
   "metadata": {
    "collapsed": true,
    "id": "29GB_Un3z5nr"
   },
   "outputs": [],
   "source": [
    "# Stampa le 50 ore con i livelli di benzene più bassi\n",
    "df_C6H6Min = df_C6H6avg.sort_values('C6H6_ug_m3', ascending = True).head(50)\n",
    "df_C6H6Min"
   ]
  },
  {
   "cell_type": "markdown",
   "metadata": {
    "id": "_K-JKaLUz5nt"
   },
   "source": [
    "# Query 5"
   ]
  },
  {
   "cell_type": "code",
   "execution_count": null,
   "metadata": {
    "collapsed": true,
    "id": "_ijWhBlMz5nt"
   },
   "outputs": [],
   "source": [
    "#Elimina i valori nulli e calcola la media oraria sul dataframe creato per il sensore H2S\n",
    "df_H2Savg = media_oraria(df_DatiPuliti, 'H2S_ug_m3')"
   ]
  },
  {
   "cell_type": "code",
   "execution_count": null,
   "metadata": {
    "collapsed": true,
    "id": "2P9kMGkGz5nu",
    "outputId": "d6a186ca-fa6c-4a82-9331-de146d23b0e2"
   },
   "outputs": [],
   "source": [
    "# Stampa le 50 ore con i livelli di acido solfidrico del sensore H2S più alti\n",
    "df_H2SMax= df_H2Savg.sort_values('H2S_ug_m3', ascending = False).head(50)\n",
    "df_H2SMax"
   ]
  },
  {
   "cell_type": "code",
   "execution_count": null,
   "metadata": {
    "collapsed": true,
    "id": "vif-8rM_z5nu",
    "outputId": "76f5ed23-910c-4f7b-f3cd-a6153aa37480"
   },
   "outputs": [],
   "source": [
    "# Stampa le 50 ore con i livelli di acido solfidrico del sensore H2S più basso\n",
    "df_H2SMin= df_H2Savg.sort_values('H2S_ug_m3', ascending = True).head(50)\n",
    "df_H2SMin"
   ]
  },
  {
   "cell_type": "code",
   "execution_count": null,
   "metadata": {
    "collapsed": true
   },
   "outputs": [],
   "source": [
    "#Elimina i valori nulli e calcola la media oraria sul dataframe creato per il sensore H2SJ\n",
    "df_H2SJavg = media_oraria(df_DatiPuliti, 'H2SJ_ug_m3')"
   ]
  },
  {
   "cell_type": "code",
   "execution_count": null,
   "metadata": {
    "collapsed": true,
    "id": "sAQXorXOz5nv",
    "outputId": "730016d1-5367-4305-e72b-003e23572482"
   },
   "outputs": [],
   "source": [
    "# Stampa le 50 ore con i livelli di acido solfidrico del sensore H2SJ più alti\n",
    "df_H2SJMax= df_H2SJavg.sort_values('H2SJ_ug_m3', ascending = False).head(50)\n",
    "df_H2SJMax"
   ]
  },
  {
   "cell_type": "code",
   "execution_count": null,
   "metadata": {
    "collapsed": true,
    "id": "YFfCxcBSz5nw",
    "outputId": "2e3d8e86-eaea-4db4-a871-02df83507686"
   },
   "outputs": [],
   "source": [
    "# Stampa le 50 ore con i livelli di acido solfidrico del sensore H2SJ più bassi\n",
    "df_H2SJMin= df_H2SJavg.sort_values('H2SJ_ug_m3', ascending = True).head(50)\n",
    "df_H2SJMin"
   ]
  },
  {
   "cell_type": "markdown",
   "metadata": {
    "id": "juoqhY7-z5nw"
   },
   "source": [
    "# Query 6"
   ]
  },
  {
   "cell_type": "code",
   "execution_count": null,
   "metadata": {
    "collapsed": true,
    "executionInfo": {
     "elapsed": 255,
     "status": "ok",
     "timestamp": 1655304361634,
     "user": {
      "displayName": "Carmine Martinelli",
      "userId": "17979448709595778797"
     },
     "user_tz": -120
    },
    "id": "jWf6C1cSz5nw"
   },
   "outputs": [],
   "source": [
    "#Elimina i valori nulli e calcola la media oraria sul dataframe creato per il sensore VOC\n",
    "df_VOCavg = media_oraria(df_DatiPuliti, 'VOC_ppm')"
   ]
  },
  {
   "cell_type": "code",
   "execution_count": null,
   "metadata": {
    "collapsed": true,
    "id": "q8ucBSp1z5nx"
   },
   "outputs": [],
   "source": [
    "# Stampa le 50 ore con i livelli di VOC del sensore VOC più alti\n",
    "df_VOCMax= df_VOCavg.sort_values('VOC_ppm', ascending = False).head(50)\n",
    "df_VOCMax"
   ]
  },
  {
   "cell_type": "code",
   "execution_count": null,
   "metadata": {
    "collapsed": true,
    "id": "BSlxPad6z5ny",
    "outputId": "9dcd347b-55dc-4c9b-966c-44f9ee0bca99"
   },
   "outputs": [],
   "source": [
    "# Stampa le 50 ore con i livelli di VOC del sensore VOC più bassi\n",
    "df_VOCMin= df_VOCavg.sort_values('VOC_ppm', ascending = True).head(50)\n",
    "df_VOCMin"
   ]
  },
  {
   "cell_type": "code",
   "execution_count": null,
   "metadata": {
    "collapsed": true
   },
   "outputs": [],
   "source": [
    "#Elimina i valori nulli e calcola la media oraria sul dataframe creato per il sensore PIDVOC\n",
    "df_PIDVOCavg = media_oraria(df_DatiPuliti, 'PIDVOC_ppb')"
   ]
  },
  {
   "cell_type": "code",
   "execution_count": null,
   "metadata": {
    "collapsed": true,
    "id": "ap47eeIJz5ny",
    "outputId": "8e6c2df2-f6a8-45d1-8c11-936bebcad5df"
   },
   "outputs": [],
   "source": [
    "# Stampa le 50 ore con i livelli di VOC del sensore PIDVOC più alti\n",
    "df_PIDVOCMax= df_PIDVOCavg.sort_values('PIDVOC_ppb', ascending = False).head(50)\n",
    "df_PIDVOCMax"
   ]
  },
  {
   "cell_type": "code",
   "execution_count": null,
   "metadata": {
    "collapsed": true,
    "id": "zmmjSGmoz5ny"
   },
   "outputs": [],
   "source": [
    "# Stampa le 50 ore con i livelli di VOC del sensore PIDVOC più bassi\n",
    "df_PIDVOCMin= df_PIDVOCavg.sort_values('PIDVOC_ppb', ascending = True).head(50)\n",
    "df_PIDVOCMin"
   ]
  },
  {
   "cell_type": "markdown",
   "metadata": {
    "id": "bQbwEz_xz5nz"
   },
   "source": [
    "# Query 7 & 8"
   ]
  },
  {
   "cell_type": "code",
   "execution_count": null,
   "metadata": {
    "collapsed": true
   },
   "outputs": [],
   "source": [
    "# Giornate con fallimenti ND (i fallimenti nell'invio dei dati sono uguali per ogni sensore)\n",
    "df_Fail_ND = df_DatiSensori[['Data','TRS_ppb','VOC_ppm','C6H6_ug_m3','H2S_ug_m3','H2SJ_ug_m3','PIDVOC_ppb']].copy()\n",
    "df_Fail_ND['Giorno'] = pd.to_datetime(df_Fail_ND['Data'].dt.strftime('%Y/%m/%d'))\n",
    "df_Fail_ND = df_Fail_ND.TRS_ppb.isnull().groupby(df_Fail_ND['Giorno']).sum().transform(int).reset_index(name='count')\n",
    "df_Fail_ND"
   ]
  },
  {
   "cell_type": "code",
   "execution_count": null,
   "metadata": {
    "collapsed": true
   },
   "outputs": [],
   "source": [
    "# 3 giorni con il maggior numero di fallimenti\n",
    "df_Fail_ND.sort_values('count', ascending = False).head(3)"
   ]
  },
  {
   "cell_type": "code",
   "execution_count": null,
   "metadata": {
    "collapsed": true
   },
   "outputs": [],
   "source": [
    "# 3 giorni con il minor numero di fallimenti\n",
    "df_Fail_ND.sort_values('count', ascending = True).head(3)"
   ]
  },
  {
   "cell_type": "markdown",
   "metadata": {},
   "source": [
    "# Query 9, 10 e 11"
   ]
  },
  {
   "cell_type": "code",
   "execution_count": null,
   "metadata": {
    "collapsed": true
   },
   "outputs": [],
   "source": [
    "# crea due liste con tutti gli inquinanti e i relativi stati\n",
    "inquinanti = ['TRS_ppb','VOC_ppm','C6H6_ug_m3','H2S_ug_m3','H2SJ_ug_m3','PIDVOC_ppb']\n",
    "stato_Inquinanti = ['TRS_stato','VOC_stato','C6H6_stato', 'H2S_stato','H2SJ_stato', 'PIDVOC_stato']"
   ]
  },
  {
   "cell_type": "code",
   "execution_count": null,
   "metadata": {
    "collapsed": true
   },
   "outputs": [],
   "source": [
    "# crea un dataframe che contiene la somma dei fallimenti \n",
    "# oltre alle righe con 'ND' che indicano il fallimento nel trasmettere i dati, consideriamo fallimento\n",
    "# anche la presenza consecutiva massiccia di valori 0\n",
    "fails = []\n",
    "df_NFails = pd.DataFrame({'Fallimenti':np.arange(6)})\n",
    "df_NFails = pd.DataFrame({'Sensori':np.arange(6)})\n",
    "for column in range(len(inquinanti)):\n",
    "    df_Fail = df_Dati[[inquinanti[column], stato_Inquinanti[column]]].copy()\n",
    "    errors = df_Fail[inquinanti[column]].ne(df_Fail\n",
    "                                  [inquinanti[column]].shift()).cumsum()[df_Fail\n",
    "                                                                         [inquinanti[column]].eq(0.0)].value_counts().ge(24).sum()\n",
    "    num_ND= df_Fail[stato_Inquinanti[column]].value_counts()[\"ND\"]\n",
    "    fails.append(num_ND + errors)\n",
    "\n",
    "df_NFails['Sensori'] = inquinanti\n",
    "df_NFails['Fallimenti'] = fails\n",
    "df_NFails\n"
   ]
  },
  {
   "cell_type": "markdown",
   "metadata": {},
   "source": [
    "# Query 9"
   ]
  },
  {
   "cell_type": "code",
   "execution_count": null,
   "metadata": {
    "collapsed": true
   },
   "outputs": [],
   "source": [
    "df_NFails.at[0, 'Dati TOT'] = len(dfTRS)\n",
    "df_NFails.at[1, 'Dati TOT'] = len(dfVOC)\n",
    "df_NFails.at[2, 'Dati TOT'] = len(dfC6H6)\n",
    "df_NFails.at[3, 'Dati TOT'] = len(dfH2S)\n",
    "df_NFails.at[4, 'Dati TOT'] = len(dfH2SJ)\n",
    "df_NFails.at[5, 'Dati TOT'] = len(dfPIDVOC)\n",
    "df_NFails['Media'] = df_NFails['Fallimenti'].div(df_NFails['Dati TOT'])\n",
    "df_NFails"
   ]
  },
  {
   "cell_type": "markdown",
   "metadata": {},
   "source": [
    "# Query 10"
   ]
  },
  {
   "cell_type": "code",
   "execution_count": null,
   "metadata": {
    "collapsed": true
   },
   "outputs": [],
   "source": [
    "# Prende il massimo dal dataframe\n",
    "df_NFails['Fallimenti'].max()"
   ]
  },
  {
   "cell_type": "markdown",
   "metadata": {},
   "source": [
    "# Query 11"
   ]
  },
  {
   "cell_type": "code",
   "execution_count": null,
   "metadata": {
    "collapsed": true
   },
   "outputs": [],
   "source": [
    "# Prende il minimo dal dataframe\n",
    "df_NFails['Fallimenti'].min()"
   ]
  },
  {
   "cell_type": "code",
   "execution_count": null,
   "metadata": {
    "collapsed": true
   },
   "outputs": [],
   "source": [
    "# ANALISI VISUALE"
   ]
  },
  {
   "cell_type": "code",
   "execution_count": null,
   "metadata": {
    "collapsed": true
   },
   "outputs": [],
   "source": [
    "# Creazione di un dataset per la media oraria"
   ]
  },
  {
   "cell_type": "code",
   "execution_count": null,
   "metadata": {
    "collapsed": true
   },
   "outputs": [],
   "source": [
    "df_TRSavg = media_oraria(df_DatiPuliti, 'TRS_ppb')\n",
    "df_MediaOraria = pd.concat([df_TRSavg, df_C6H6avg['C6H6_ug_m3'] ,df_H2Savg['H2S_ug_m3'], df_H2SJavg['H2SJ_ug_m3'], df_VOCavg['VOC_ppm'], df_PIDVOCavg['PIDVOC_ppb']], axis=1)\n",
    "df_MediaOraria\n",
    "# df_MediaOraria.to_excel('media_oraria.xlsx')"
   ]
  },
  {
   "cell_type": "markdown",
   "metadata": {},
   "source": [
    "# # CORRELAZIONI"
   ]
  },
  {
   "cell_type": "code",
   "execution_count": 14,
   "metadata": {
    "collapsed": true
   },
   "outputs": [],
   "source": [
    "# Funzione correlazione\n",
    "def corr_Sensori1(df, colonna1, colonna2, postazione = None):\n",
    "    if postazione != None:\n",
    "        df1 = df[df['postazione'] == postazione]\n",
    "    else:\n",
    "        df1 = df.copy()\n",
    "    df1.plot.scatter(x= colonna1, y=colonna2)\n",
    "    a,b = np.polyfit(df1[colonna1].to_list(), df1[colonna2].to_list(), 1) #Inferiamo y =ax + b\n",
    "    x1 = min(df1[colonna1].to_list())\n",
    "    x2 = max(df1[colonna1].to_list())\n",
    "    plt.plot([x1,x2], [a*x1 +b, a*x2 +b], color = 'red')\n",
    "    plt.show()\n",
    "    cc = np.corrcoef(df1[colonna1], df1[colonna2])[1,0]\n",
    "    cs = df1[[colonna1, colonna2]].corr(method = 'spearman')\n",
    "    ck = df1[[colonna1, colonna2]].corr(method = 'kendall')\n",
    "    return cc, cs.iloc[1,0], ck.iloc[1,0]"
   ]
  },
  {
   "cell_type": "code",
   "execution_count": 30,
   "metadata": {
    "collapsed": true
   },
   "outputs": [],
   "source": [
    "# Funzione correlazione\n",
    "def corr_Sensori(df, colonna1, colonna2, postazione = None):\n",
    "    cc = -2\n",
    "    cs = pd.DataFrame([{'a': 0},{'a': -2}])\n",
    "    ck = pd.DataFrame([{'a': 0},{'a': -2}])\n",
    "    if postazione != None:\n",
    "        df1 = df[df['postazione'] == postazione]\n",
    "    else:\n",
    "        df1 = df.copy()\n",
    "    df1.plot.scatter(x= colonna1, y=colonna2)\n",
    "    if np.sum(df1[colonna1].to_list())!=0 and np.sum(df1[colonna2].to_list()) !=0:\n",
    "        a,b = np.polyfit(df1[colonna1].to_list(), df1[colonna2].to_list(), 1) #Inferiamo y =ax + b\n",
    "        x1 = min(df1[colonna1].to_list())\n",
    "        x2 = max(df1[colonna1].to_list())\n",
    "        plt.plot([x1,x2], [a*x1 +b, a*x2 +b], color = 'red')\n",
    "        plt.show()\n",
    "        cc = np.corrcoef(df1[colonna1], df1[colonna2])[1,0]\n",
    "        cs = df1[[colonna1, colonna2]].corr(method = 'spearman')\n",
    "        ck = df1[[colonna1, colonna2]].corr(method = 'kendall')  \n",
    "    return cc, cs.iloc[1,0], ck.iloc[1,0]"
   ]
  },
  {
   "cell_type": "markdown",
   "metadata": {},
   "source": [
    "# CORRELAZIONE 1 TRA I SENSORI H2S E H2SJ NELLE VARIE POSTAZIONI"
   ]
  },
  {
   "cell_type": "code",
   "execution_count": 21,
   "metadata": {
    "collapsed": true
   },
   "outputs": [
    {
     "data": {
      "text/html": [
       "<div>\n",
       "<style scoped>\n",
       "    .dataframe tbody tr th:only-of-type {\n",
       "        vertical-align: middle;\n",
       "    }\n",
       "\n",
       "    .dataframe tbody tr th {\n",
       "        vertical-align: top;\n",
       "    }\n",
       "\n",
       "    .dataframe thead th {\n",
       "        text-align: right;\n",
       "    }\n",
       "</style>\n",
       "<table border=\"1\" class=\"dataframe\">\n",
       "  <thead>\n",
       "    <tr style=\"text-align: right;\">\n",
       "      <th></th>\n",
       "      <th>postazione</th>\n",
       "      <th>Data</th>\n",
       "      <th>H2S_ug_m3</th>\n",
       "      <th>H2SJ_ug_m3</th>\n",
       "    </tr>\n",
       "  </thead>\n",
       "  <tbody>\n",
       "    <tr>\n",
       "      <th>0</th>\n",
       "      <td>ATM05_01479</td>\n",
       "      <td>2021-04-12 00:00:00</td>\n",
       "      <td>0.0000000000</td>\n",
       "      <td>0.0000000000</td>\n",
       "    </tr>\n",
       "    <tr>\n",
       "      <th>1</th>\n",
       "      <td>ATM05_01479</td>\n",
       "      <td>2021-04-12 00:05:00</td>\n",
       "      <td>0.2000000030</td>\n",
       "      <td>0.0000000000</td>\n",
       "    </tr>\n",
       "    <tr>\n",
       "      <th>2</th>\n",
       "      <td>ATM05_01479</td>\n",
       "      <td>2021-04-12 00:10:00</td>\n",
       "      <td>1.7000000477</td>\n",
       "      <td>0.0000000000</td>\n",
       "    </tr>\n",
       "    <tr>\n",
       "      <th>3</th>\n",
       "      <td>ATM05_01479</td>\n",
       "      <td>2021-04-12 00:15:00</td>\n",
       "      <td>1.8999999762</td>\n",
       "      <td>0.0000000000</td>\n",
       "    </tr>\n",
       "    <tr>\n",
       "      <th>4</th>\n",
       "      <td>ATM05_01479</td>\n",
       "      <td>2021-04-12 00:20:00</td>\n",
       "      <td>2.5000000000</td>\n",
       "      <td>0.0000000000</td>\n",
       "    </tr>\n",
       "    <tr>\n",
       "      <th>...</th>\n",
       "      <td>...</td>\n",
       "      <td>...</td>\n",
       "      <td>...</td>\n",
       "      <td>...</td>\n",
       "    </tr>\n",
       "    <tr>\n",
       "      <th>140193</th>\n",
       "      <td>ATM14_01486</td>\n",
       "      <td>2021-11-28 23:35:00</td>\n",
       "      <td>8.8999996185</td>\n",
       "      <td>0.3000000119</td>\n",
       "    </tr>\n",
       "    <tr>\n",
       "      <th>140194</th>\n",
       "      <td>ATM14_01486</td>\n",
       "      <td>2021-11-28 23:40:00</td>\n",
       "      <td>8.3000001907</td>\n",
       "      <td>0.3000000119</td>\n",
       "    </tr>\n",
       "    <tr>\n",
       "      <th>140195</th>\n",
       "      <td>ATM14_01486</td>\n",
       "      <td>2021-11-28 23:45:00</td>\n",
       "      <td>8.6999998093</td>\n",
       "      <td>0.3000000119</td>\n",
       "    </tr>\n",
       "    <tr>\n",
       "      <th>140196</th>\n",
       "      <td>ATM14_01486</td>\n",
       "      <td>2021-11-28 23:50:00</td>\n",
       "      <td>9.1999998093</td>\n",
       "      <td>1.2000000477</td>\n",
       "    </tr>\n",
       "    <tr>\n",
       "      <th>140197</th>\n",
       "      <td>ATM14_01486</td>\n",
       "      <td>2021-11-28 23:55:00</td>\n",
       "      <td>9.1999998093</td>\n",
       "      <td>1.1000000238</td>\n",
       "    </tr>\n",
       "  </tbody>\n",
       "</table>\n",
       "<p>140198 rows × 4 columns</p>\n",
       "</div>"
      ],
      "text/plain": [
       "         postazione                Data     H2S_ug_m3    H2SJ_ug_m3\n",
       "0       ATM05_01479 2021-04-12 00:00:00  0.0000000000  0.0000000000\n",
       "1       ATM05_01479 2021-04-12 00:05:00  0.2000000030  0.0000000000\n",
       "2       ATM05_01479 2021-04-12 00:10:00  1.7000000477  0.0000000000\n",
       "3       ATM05_01479 2021-04-12 00:15:00  1.8999999762  0.0000000000\n",
       "4       ATM05_01479 2021-04-12 00:20:00  2.5000000000  0.0000000000\n",
       "...             ...                 ...           ...           ...\n",
       "140193  ATM14_01486 2021-11-28 23:35:00  8.8999996185  0.3000000119\n",
       "140194  ATM14_01486 2021-11-28 23:40:00  8.3000001907  0.3000000119\n",
       "140195  ATM14_01486 2021-11-28 23:45:00  8.6999998093  0.3000000119\n",
       "140196  ATM14_01486 2021-11-28 23:50:00  9.1999998093  1.2000000477\n",
       "140197  ATM14_01486 2021-11-28 23:55:00  9.1999998093  1.1000000238\n",
       "\n",
       "[140198 rows x 4 columns]"
      ]
     },
     "execution_count": 21,
     "metadata": {},
     "output_type": "execute_result"
    }
   ],
   "source": [
    "# Crea un dataframe contenente entrambi i sensori, rinomina le colonne ed elimina i valori nulli\n",
    "df_AcidoSolf = df_DatiPuliti[['postazione', 'Data', 'H2S_ug_m3', 'H2SJ_ug_m3']]\n",
    "df_AcidoSolf = df_AcidoSolf.dropna()\n",
    "df_AcidoSolf"
   ]
  },
  {
   "cell_type": "code",
   "execution_count": null,
   "metadata": {
    "collapsed": true
   },
   "outputs": [],
   "source": [
    "# correlazione per la stazione ATM05_01479\n",
    "pearson, spearman, kendall= corr_Sensori(df_AcidoSolf, 'H2S_ug_m3', 'H2SJ_ug_m3','ATM05_01479')\n",
    "print('Correlazione tra H2S e H2SJ:\\npearson: ', pearson,' spearman: ', spearman,' kendall: ', kendall)"
   ]
  },
  {
   "cell_type": "code",
   "execution_count": null,
   "metadata": {
    "collapsed": true
   },
   "outputs": [],
   "source": [
    "# correlazione per la stazione ATM07_01480\n",
    "pearson, spearman, kendall = corr_Sensori(df_AcidoSolf, 'H2S_ug_m3', 'H2SJ_ug_m3', 'ATM07_01480')\n",
    "print('Correlazione tra H2S e H2SJ:\\npearson: ', pearson,' spearman: ', spearman,' kendall: ', kendall)"
   ]
  },
  {
   "cell_type": "code",
   "execution_count": null,
   "metadata": {
    "collapsed": true
   },
   "outputs": [],
   "source": [
    "# correlazione per la stazione ATM10_01481\n",
    "pearson, spearman, kendall = corr_Sensori(df_AcidoSolf, 'H2S_ug_m3', 'H2SJ_ug_m3', 'ATM10_01481' )\n",
    "print('Correlazione tra H2S e H2SJ:\\npearson: ', pearson,' spearman: ', spearman,' kendall: ', kendall)"
   ]
  },
  {
   "cell_type": "code",
   "execution_count": 28,
   "metadata": {
    "collapsed": true
   },
   "outputs": [
    {
     "data": {
      "image/png": "[encoded data removed]",
      "text/plain": [
       "<Figure size 432x288 with 1 Axes>"
      ]
     },
     "metadata": {
      "needs_background": "light"
     },
     "output_type": "display_data"
    },
    {
     "name": "stdout",
     "output_type": "stream",
     "text": [
      "Correlazione tra H2S e H2SJ:\n",
      "pearson:  -0.1158907857083714  spearman:  -0.05214788209965612  kendall:  -0.03650438839833214\n"
     ]
    }
   ],
   "source": [
    "# correlazione per la stazione ATM14_01486\n",
    "pearson, spearman, kendall= corr_Sensori(df_AcidoSolf, 'H2S_ug_m3', 'H2SJ_ug_m3', 'ATM14_01486' )\n",
    "print('Correlazione tra H2S e H2SJ:\\npearson: ', pearson,' spearman: ', spearman,' kendall: ', kendall)"
   ]
  },
  {
   "cell_type": "markdown",
   "metadata": {},
   "source": [
    "# CORRELAZIONE 2 TRA I SENSORI VOC E PIDVOC NELLE VARIE POSTAZIONI"
   ]
  },
  {
   "cell_type": "code",
   "execution_count": null,
   "metadata": {
    "collapsed": true
   },
   "outputs": [],
   "source": [
    "# Crea un dataframe contenente entrambi i sensori, rinomina le colonne ed elimina i valori nulli\n",
    "df_SensoriVOC = df_DatiPuliti[['postazione', 'Data', 'VOC_ppm', 'PIDVOC_ppb']]\n",
    "df_SensoriVOC = df_SensoriVOC.dropna()\n",
    "df_SensoriVOC"
   ]
  },
  {
   "cell_type": "code",
   "execution_count": null,
   "metadata": {
    "collapsed": true
   },
   "outputs": [],
   "source": [
    "# correlazione per la stazione ATM05_01479\n",
    "pearson, spearman, kendall= corr_Sensori(df_SensoriVOC, 'VOC_ppm', 'PIDVOC_ppb', 'ATM05_01479' )\n",
    "print('Correlazione tra VOC e PIDVOC:\\npearson: ', pearson,' spearman: ', spearman,' kendall: ', kendall)"
   ]
  },
  {
   "cell_type": "code",
   "execution_count": null,
   "metadata": {
    "collapsed": true
   },
   "outputs": [],
   "source": [
    "# correlazione per la stazione ATM07_01480\n",
    "pearson, spearman, kendall = corr_Sensori(df_SensoriVOC, 'VOC_ppm', 'PIDVOC_ppb', 'ATM07_01480' )\n",
    "print('Correlazione tra VOC e PIDVOC:\\npearson: ', pearson,' spearman: ', spearman,' kendall: ', kendall)"
   ]
  },
  {
   "cell_type": "code",
   "execution_count": null,
   "metadata": {
    "collapsed": true
   },
   "outputs": [],
   "source": [
    "# correlazione per la stazione ATM10_01481\n",
    "pearson, spearman, kendall = corr_Sensori(df_SensoriVOC, 'VOC_ppm', 'PIDVOC_ppb' , 'ATM10_01481')\n",
    "print('Correlazione tra VOC e PIDVOC:\\npearson: ', pearson,' spearman: ', spearman,' kendall: ', kendall)"
   ]
  },
  {
   "cell_type": "code",
   "execution_count": null,
   "metadata": {
    "collapsed": true
   },
   "outputs": [],
   "source": [
    "# correlazione per la stazione ATM14_01486\n",
    "pearson, spearman, kendall= corr_Sensori(df_SensoriVOC, 'VOC_ppm', 'PIDVOC_ppb', 'ATM14_01486' )\n",
    "print('Correlazione tra VOC e PIDVOC:\\npearson: ', pearson,' spearman: ', spearman,' kendall: ', kendall)"
   ]
  },
  {
   "cell_type": "markdown",
   "metadata": {},
   "source": [
    "# CORRELAZIONE 3 TRA I SENSORI TRS E H2S NELLE VARIE POSTAZIONI"
   ]
  },
  {
   "cell_type": "code",
   "execution_count": 24,
   "metadata": {
    "collapsed": true
   },
   "outputs": [
    {
     "data": {
      "text/html": [
       "<div>\n",
       "<style scoped>\n",
       "    .dataframe tbody tr th:only-of-type {\n",
       "        vertical-align: middle;\n",
       "    }\n",
       "\n",
       "    .dataframe tbody tr th {\n",
       "        vertical-align: top;\n",
       "    }\n",
       "\n",
       "    .dataframe thead th {\n",
       "        text-align: right;\n",
       "    }\n",
       "</style>\n",
       "<table border=\"1\" class=\"dataframe\">\n",
       "  <thead>\n",
       "    <tr style=\"text-align: right;\">\n",
       "      <th></th>\n",
       "      <th>postazione</th>\n",
       "      <th>Data</th>\n",
       "      <th>TRS_ppb</th>\n",
       "      <th>H2S_ug_m3</th>\n",
       "    </tr>\n",
       "  </thead>\n",
       "  <tbody>\n",
       "    <tr>\n",
       "      <th>0</th>\n",
       "      <td>ATM05_01479</td>\n",
       "      <td>2021-04-12 00:00:00</td>\n",
       "      <td>2.0000000000</td>\n",
       "      <td>0.0000000000</td>\n",
       "    </tr>\n",
       "    <tr>\n",
       "      <th>1</th>\n",
       "      <td>ATM05_01479</td>\n",
       "      <td>2021-04-12 00:05:00</td>\n",
       "      <td>0.0000000000</td>\n",
       "      <td>0.2000000030</td>\n",
       "    </tr>\n",
       "    <tr>\n",
       "      <th>2</th>\n",
       "      <td>ATM05_01479</td>\n",
       "      <td>2021-04-12 00:10:00</td>\n",
       "      <td>0.0000000000</td>\n",
       "      <td>1.7000000477</td>\n",
       "    </tr>\n",
       "    <tr>\n",
       "      <th>3</th>\n",
       "      <td>ATM05_01479</td>\n",
       "      <td>2021-04-12 00:15:00</td>\n",
       "      <td>11.8999996185</td>\n",
       "      <td>1.8999999762</td>\n",
       "    </tr>\n",
       "    <tr>\n",
       "      <th>4</th>\n",
       "      <td>ATM05_01479</td>\n",
       "      <td>2021-04-12 00:20:00</td>\n",
       "      <td>26.1000003815</td>\n",
       "      <td>2.5000000000</td>\n",
       "    </tr>\n",
       "    <tr>\n",
       "      <th>...</th>\n",
       "      <td>...</td>\n",
       "      <td>...</td>\n",
       "      <td>...</td>\n",
       "      <td>...</td>\n",
       "    </tr>\n",
       "    <tr>\n",
       "      <th>140193</th>\n",
       "      <td>ATM14_01486</td>\n",
       "      <td>2021-11-28 23:35:00</td>\n",
       "      <td>0.0000000000</td>\n",
       "      <td>8.8999996185</td>\n",
       "    </tr>\n",
       "    <tr>\n",
       "      <th>140194</th>\n",
       "      <td>ATM14_01486</td>\n",
       "      <td>2021-11-28 23:40:00</td>\n",
       "      <td>0.0000000000</td>\n",
       "      <td>8.3000001907</td>\n",
       "    </tr>\n",
       "    <tr>\n",
       "      <th>140195</th>\n",
       "      <td>ATM14_01486</td>\n",
       "      <td>2021-11-28 23:45:00</td>\n",
       "      <td>0.0000000000</td>\n",
       "      <td>8.6999998093</td>\n",
       "    </tr>\n",
       "    <tr>\n",
       "      <th>140196</th>\n",
       "      <td>ATM14_01486</td>\n",
       "      <td>2021-11-28 23:50:00</td>\n",
       "      <td>0.0000000000</td>\n",
       "      <td>9.1999998093</td>\n",
       "    </tr>\n",
       "    <tr>\n",
       "      <th>140197</th>\n",
       "      <td>ATM14_01486</td>\n",
       "      <td>2021-11-28 23:55:00</td>\n",
       "      <td>0.0000000000</td>\n",
       "      <td>9.1999998093</td>\n",
       "    </tr>\n",
       "  </tbody>\n",
       "</table>\n",
       "<p>140198 rows × 4 columns</p>\n",
       "</div>"
      ],
      "text/plain": [
       "         postazione                Data        TRS_ppb     H2S_ug_m3\n",
       "0       ATM05_01479 2021-04-12 00:00:00   2.0000000000  0.0000000000\n",
       "1       ATM05_01479 2021-04-12 00:05:00   0.0000000000  0.2000000030\n",
       "2       ATM05_01479 2021-04-12 00:10:00   0.0000000000  1.7000000477\n",
       "3       ATM05_01479 2021-04-12 00:15:00  11.8999996185  1.8999999762\n",
       "4       ATM05_01479 2021-04-12 00:20:00  26.1000003815  2.5000000000\n",
       "...             ...                 ...            ...           ...\n",
       "140193  ATM14_01486 2021-11-28 23:35:00   0.0000000000  8.8999996185\n",
       "140194  ATM14_01486 2021-11-28 23:40:00   0.0000000000  8.3000001907\n",
       "140195  ATM14_01486 2021-11-28 23:45:00   0.0000000000  8.6999998093\n",
       "140196  ATM14_01486 2021-11-28 23:50:00   0.0000000000  9.1999998093\n",
       "140197  ATM14_01486 2021-11-28 23:55:00   0.0000000000  9.1999998093\n",
       "\n",
       "[140198 rows x 4 columns]"
      ]
     },
     "execution_count": 24,
     "metadata": {},
     "output_type": "execute_result"
    }
   ],
   "source": [
    "df_SenTRS_H2S = df_DatiPuliti[['postazione', 'Data', 'TRS_ppb', 'H2S_ug_m3']]\n",
    "df_SenTRS_H2S = df_SenTRS_H2S.dropna()\n",
    "df_SenTRS_H2S.fillna(0)"
   ]
  },
  {
   "cell_type": "code",
   "execution_count": null,
   "metadata": {
    "collapsed": true
   },
   "outputs": [],
   "source": [
    "# correlazione per la stazione ATM05_01479\n",
    "pearson, spearman, kendall = corr_Sensori(df_SenTRS_H2S, 'TRS_ppb', 'H2S_ug_m3', 'ATM05_01479' )\n",
    "print('Correlazione tra TRS e H2S:\\npearson: ', pearson,' spearman: ', spearman,' kendall: ', kendall)"
   ]
  },
  {
   "cell_type": "code",
   "execution_count": null,
   "metadata": {
    "collapsed": true
   },
   "outputs": [],
   "source": [
    "# correlazione per la stazione ATM07_01480\n",
    "pearson, spearman, kendall= corr_Sensori(df_SenTRS_H2S, 'TRS_ppb', 'H2S_ug_m3', 'ATM07_01480' )\n",
    "print('Correlazione tra TRS e H2S:\\npearson: ', pearson,' spearman: ', spearman,' kendall: ', kendall)"
   ]
  },
  {
   "cell_type": "code",
   "execution_count": null,
   "metadata": {
    "collapsed": true
   },
   "outputs": [],
   "source": [
    "# correlazione per la stazione ATM10_01481\n",
    "pearson, spearman, kendall= corr_Sensori(df_SenTRS_H2S, 'TRS_ppb', 'H2S_ug_m3', 'ATM10_01481' )\n",
    "print('Correlazione tra TRS e H2S:\\npearson: ', pearson,' spearman: ', spearman,' kendall: ', kendall)"
   ]
  },
  {
   "cell_type": "code",
   "execution_count": null,
   "metadata": {
    "scrolled": true
   },
   "outputs": [],
   "source": [
    "# correlazione per la stazione ATM14_01486\n",
    "pearson, spearman, kendall= corr_Sensori(df_SenTRS_H2S, 'TRS_ppb', 'H2S_ug_m3', 'ATM14_01486' )\n",
    "print('Correlazione tra TRS e H2SJ:\\npearson: ', pearson,' spearman: ', spearman,' kendall: ', kendall)"
   ]
  },
  {
   "cell_type": "markdown",
   "metadata": {},
   "source": [
    "# CORRELAZIONE 4 TRA I SENSORI TRS E H2SJ NELLE VARIE POSTAZIONI"
   ]
  },
  {
   "cell_type": "code",
   "execution_count": null,
   "metadata": {
    "collapsed": true
   },
   "outputs": [],
   "source": [
    "df_SenTRS_H2SJ = df_DatiPuliti[['postazione', 'Data', 'TRS_ppb', 'H2SJ_ug_m3']]\n",
    "df_SenTRS_H2SJ = df_SenTRS_H2SJ.dropna()\n",
    "df_SenTRS_H2SJ"
   ]
  },
  {
   "cell_type": "code",
   "execution_count": null,
   "metadata": {
    "collapsed": true
   },
   "outputs": [],
   "source": [
    "# correlazione per la stazione ATM05_01479\n",
    "pearson, spearman, kendall= corr_Sensori(df_SenTRS_H2SJ, 'TRS_ppb', 'H2SJ_ug_m3' , 'ATM05_01479')\n",
    "print('Correlazione tra TRS e H2SJ:\\npearson: ', pearson,' spearman: ', spearman,' kendall: ', kendall)"
   ]
  },
  {
   "cell_type": "code",
   "execution_count": null,
   "metadata": {
    "collapsed": true
   },
   "outputs": [],
   "source": [
    "# correlazione per la stazione ATM07_01480\n",
    "pearson, spearman, kendall= corr_Sensori(df_SenTRS_H2SJ, 'TRS_ppb', 'H2SJ_ug_m3', 'ATM07_01480' )\n",
    "print('Correlazione tra TRS e H2SJ:\\npearson: ', pearson,' spearman: ', spearman,' kendall: ', kendall)"
   ]
  },
  {
   "cell_type": "code",
   "execution_count": null,
   "metadata": {
    "collapsed": true
   },
   "outputs": [],
   "source": [
    "# correlazione per la stazione ATM10_01481\n",
    "pearson, spearman, kendall= corr_Sensori(df_SenTRS_H2SJ, 'TRS_ppb', 'H2SJ_ug_m3' , 'ATM10_01481')\n",
    "print('Correlazione tra TRS e H2SJ:\\npearson: ', pearson,' spearman: ', spearman,' kendall: ', kendall)"
   ]
  },
  {
   "cell_type": "code",
   "execution_count": null,
   "metadata": {
    "collapsed": true
   },
   "outputs": [],
   "source": [
    "# correlazione per la stazione ATM14_01486\n",
    "pearson, spearman, kendall= corr_Sensori(df_SenTRS_H2SJ, 'TRS_ppb', 'H2SJ_ug_m3' , 'ATM14_01486')\n",
    "print('Correlazione tra TRS e H2SJ:\\npearson: ', pearson,' spearman: ', spearman,' kendall: ', kendall)"
   ]
  },
  {
   "cell_type": "markdown",
   "metadata": {},
   "source": [
    "# CORRELAZIONE 5 TRA I SENSORI VOC E C6H6 NELLE VARIE POSTAZIONI"
   ]
  },
  {
   "cell_type": "code",
   "execution_count": null,
   "metadata": {
    "collapsed": true
   },
   "outputs": [],
   "source": [
    "df_SenVOC_C6H6 = df_DatiPuliti[['postazione', 'Data', 'VOC_ppm', 'C6H6_ug_m3']]\n",
    "df_SenVOC_C6H6 = df_SenVOC_C6H6.dropna()\n",
    "df_SenVOC_C6H6"
   ]
  },
  {
   "cell_type": "code",
   "execution_count": null,
   "metadata": {
    "collapsed": true
   },
   "outputs": [],
   "source": [
    "# correlazione per la stazione ATM05_01479\n",
    "pearson, spearman, kendall= corr_Sensori(df_SenVOC_C6H6, 'VOC_ppm', 'C6H6_ug_m3' , 'ATM05_01479')\n",
    "print('Correlazione tra VOC e C6H6:\\npearson: ', pearson,' spearman: ', spearman,' kendall: ', kendall)"
   ]
  },
  {
   "cell_type": "code",
   "execution_count": null,
   "metadata": {
    "collapsed": true
   },
   "outputs": [],
   "source": [
    "# correlazione per la stazione ATM07_01480\n",
    "pearson, spearman, kendall= corr_Sensori(df_SenVOC_C6H6, 'VOC_ppm', 'C6H6_ug_m3', 'ATM07_01480' )\n",
    "print('Correlazione tra VOC e C6H6:\\npearson: ', pearson,' spearman: ', spearman,' kendall: ', kendall)"
   ]
  },
  {
   "cell_type": "code",
   "execution_count": null,
   "metadata": {
    "collapsed": true
   },
   "outputs": [],
   "source": [
    "# correlazione per la stazione ATM10_01481\n",
    "pearson, spearman, kendall= corr_Sensori(df_SenVOC_C6H6, 'VOC_ppm', 'C6H6_ug_m3' , 'ATM10_01481')\n",
    "print('Correlazione tra VOC e C6H6:\\npearson: ', pearson,' spearman: ', spearman,' kendall: ', kendall)"
   ]
  },
  {
   "cell_type": "code",
   "execution_count": null,
   "metadata": {
    "collapsed": true
   },
   "outputs": [],
   "source": [
    "# correlazione per la stazione ATM14_01486\n",
    "pearson, spearman, kendall= corr_Sensori(df_SenVOC_C6H6, 'VOC_ppm', 'C6H6_ug_m3', 'ATM14_01486' )\n",
    "print('Correlazione tra VOC e C6H6:\\npearson: ', pearson,' spearman: ', spearman,' kendall: ', kendall)"
   ]
  },
  {
   "cell_type": "markdown",
   "metadata": {},
   "source": [
    "# CORRELAZIONE 6 TRA I SENSORI PIDVOC E C6H6 NELLE VARIE POSTAZIONI"
   ]
  },
  {
   "cell_type": "code",
   "execution_count": null,
   "metadata": {
    "collapsed": true
   },
   "outputs": [],
   "source": [
    "df_SenPIDVOC_C6H6 = df_DatiPuliti[['postazione', 'Data', 'PIDVOC_ppb', 'C6H6_ug_m3']]\n",
    "df_SenPIDVOC_C6H6 = df_SenPIDVOC_C6H6.dropna()\n",
    "df_SenPIDVOC_C6H6"
   ]
  },
  {
   "cell_type": "code",
   "execution_count": null,
   "metadata": {
    "collapsed": true
   },
   "outputs": [],
   "source": [
    "# correlazione per la stazione ATM05_01479\n",
    "pearson, spearman, kendall= corr_Sensori(df_SenPIDVOC_C6H6, 'PIDVOC_ppb', 'C6H6_ug_m3', 'ATM05_01479' )\n",
    "print('Correlazione tra PIDVOC e C6H6:\\npearson: ', pearson,' spearman: ', spearman,' kendall: ', kendall)"
   ]
  },
  {
   "cell_type": "code",
   "execution_count": null,
   "metadata": {
    "collapsed": true
   },
   "outputs": [],
   "source": [
    "# correlazione per la stazione ATM07_01480\n",
    "pearson, spearman, kendall= corr_Sensori(df_SenPIDVOC_C6H6, 'PIDVOC_ppb', 'C6H6_ug_m3' , 'ATM07_01480')\n",
    "print('Correlazione tra PIDVOC e C6H6:\\npearson: ', pearson,' spearman: ', spearman,' kendall: ', kendall)"
   ]
  },
  {
   "cell_type": "code",
   "execution_count": null,
   "metadata": {
    "collapsed": true
   },
   "outputs": [],
   "source": [
    "# correlazione per la stazione ATM10_01481\n",
    "pearson, spearman, kendall= corr_Sensori(df_SenPIDVOC_C6H6, 'PIDVOC_ppb', 'C6H6_ug_m3', 'ATM10_01481' )\n",
    "print('Correlazione tra PIDVOC e C6H6:\\npearson: ', pearson,' spearman: ', spearman,' kendall: ', kendall)"
   ]
  },
  {
   "cell_type": "code",
   "execution_count": null,
   "metadata": {
    "collapsed": true
   },
   "outputs": [],
   "source": [
    "# correlazione per la stazione ATM14_01486\n",
    "pearson, spearman, kendall= corr_Sensori(df_SenPIDVOC_C6H6, 'PIDVOC_ppb', 'C6H6_ug_m3', 'ATM14_01486' )\n",
    "print('Correlazione tra PIDVOC e C6H6:\\npearson: ', pearson,' spearman: ', spearman,' kendall: ', kendall)"
   ]
  },
  {
   "cell_type": "markdown",
   "metadata": {},
   "source": [
    "# CORRELAZIONE 7 "
   ]
  },
  {
   "cell_type": "markdown",
   "metadata": {},
   "source": [
    "# POSTAZIONI ATM05_01479 E ATM07_01480 "
   ]
  },
  {
   "cell_type": "code",
   "execution_count": null,
   "metadata": {
    "collapsed": true
   },
   "outputs": [],
   "source": [
    "def creazione_df(df, colonna1, colonna2, composto, df2 = None):\n",
    "    df_1 = df[df['postazione'] == colonna1].dropna()[composto].reset_index(drop = True).to_frame()\n",
    "    if df2 is None:\n",
    "        df_2 = df.copy()\n",
    "        df_2 = df_2[df_2['postazione'] == colonna2].dropna()[composto].reset_index(drop = True).to_frame()\n",
    "    else:\n",
    "        df_2 = df2.copy()\n",
    "        df_2 = df_2[colonna2].dropna().reset_index(drop = True).to_frame()\n",
    "    df_Full = pd.concat([df_1, df_2], axis=1)\n",
    "    df_Full.columns = [colonna1,colonna2]\n",
    "    df_Full = df_Full[[colonna1,colonna2]].fillna(0)\n",
    "    return df_Full"
   ]
  },
  {
   "cell_type": "code",
   "execution_count": null,
   "metadata": {
    "collapsed": true
   },
   "outputs": [],
   "source": [
    "# correlazione per il sensore TRS_ppb\n",
    "pearson, spearman, kendall= corr_Sensori(creazione_df(df_Dati, 'ATM05_01479', 'ATM07_01480', 'TRS_ppb' ),\n",
    "                                         'ATM05_01479', 'ATM07_01480')\n",
    "print('pearson: ', pearson, ' spearman: ', spearman, ' kendall: ', kendall)\n",
    " "
   ]
  },
  {
   "cell_type": "code",
   "execution_count": null,
   "metadata": {
    "collapsed": true
   },
   "outputs": [],
   "source": [
    "# correlazione per il sensore C6H6_ug_m3\n",
    "pearson, spearman, kendall= corr_Sensori(creazione_df(df_Dati, 'ATM05_01479', 'ATM07_01480', 'C6H6_ug_m3' ), 'ATM05_01479', 'ATM07_01480')\n",
    "print('pearson: ', pearson, ' spearman: ', spearman, ' kendall: ', kendall)\n",
    " "
   ]
  },
  {
   "cell_type": "code",
   "execution_count": null,
   "metadata": {
    "collapsed": true
   },
   "outputs": [],
   "source": [
    "# correlazione per il sensore VOC_ppm\n",
    "pearson, spearman, kendall= corr_Sensori(creazione_df(df_Dati, 'ATM05_01479', 'ATM07_01480', 'VOC_ppm' ), 'ATM05_01479', 'ATM07_01480')\n",
    "print('pearson: ', pearson, ' spearman: ', spearman, ' kendall: ', kendall)\n",
    " "
   ]
  },
  {
   "cell_type": "code",
   "execution_count": null,
   "metadata": {
    "collapsed": true
   },
   "outputs": [],
   "source": [
    "# correlazione per il sensore PIDVOC_ppb\n",
    "pearson, spearman, kendall= corr_Sensori(creazione_df(df_Dati, 'ATM05_01479', 'ATM07_01480', 'PIDVOC_ppb' ), 'ATM05_01479', 'ATM07_01480')\n",
    "print('pearson: ', pearson, ' spearman: ', spearman, ' kendall: ', kendall)\n",
    " "
   ]
  },
  {
   "cell_type": "code",
   "execution_count": null,
   "metadata": {
    "collapsed": true
   },
   "outputs": [],
   "source": [
    "# correlazione per il sensore H2S_ug_m3\n",
    "pearson, spearman, kendall= corr_Sensori(creazione_df(df_Dati, 'ATM05_01479', 'ATM07_01480', 'H2S_ug_m3' ), 'ATM05_01479', 'ATM07_01480')\n",
    "print('pearson: ', pearson, ' spearman: ', spearman, ' kendall: ', kendall)\n",
    " "
   ]
  },
  {
   "cell_type": "code",
   "execution_count": null,
   "metadata": {
    "collapsed": true
   },
   "outputs": [],
   "source": [
    "# correlazione per il sensore H2SJ_ug_m3\n",
    "pearson, spearman, kendall= corr_Sensori(creazione_df(df_Dati, 'ATM05_01479', 'ATM07_01480', 'H2SJ_ug_m3' ), 'ATM05_01479', 'ATM07_01480')\n",
    "print('pearson: ', pearson, ' spearman: ', spearman, ' kendall: ', kendall)\n",
    " "
   ]
  },
  {
   "cell_type": "markdown",
   "metadata": {},
   "source": [
    "# POSTAZIONI ATM05_01479 E ATM10_01481"
   ]
  },
  {
   "cell_type": "code",
   "execution_count": null,
   "metadata": {
    "collapsed": true
   },
   "outputs": [],
   "source": [
    "# correlazione per il sensore TRS_ppb\n",
    "pearson, spearman, kendall= corr_Sensori(creazione_df(df_Dati, 'ATM05_01479', 'ATM10_01481', 'TRS_ppb' ), 'ATM05_01479', 'ATM10_01481')\n",
    "print('pearson: ', pearson, ' spearman: ', spearman, ' kendall: ', kendall)\n",
    " "
   ]
  },
  {
   "cell_type": "code",
   "execution_count": null,
   "metadata": {
    "collapsed": true
   },
   "outputs": [],
   "source": [
    "# correlazione per il sensore C6H6_ug_m3\n",
    "pearson, spearman, kendall= corr_Sensori(creazione_df(df_Dati, 'ATM05_01479', 'ATM10_01481', 'C6H6_ug_m3' ), 'ATM05_01479', 'ATM10_01481')\n",
    "print('pearson: ', pearson, ' spearman: ', spearman, ' kendall: ', kendall)\n",
    " "
   ]
  },
  {
   "cell_type": "code",
   "execution_count": null,
   "metadata": {
    "collapsed": true
   },
   "outputs": [],
   "source": [
    "# correlazione per il sensore VOC_pp\n",
    "pearson, spearman, kendall= corr_Sensori(creazione_df(df_Dati, 'ATM05_01479', 'ATM10_01481', 'VOC_ppm' ), 'ATM05_01479', 'ATM10_01481')\n",
    "print('pearson: ', pearson, ' spearman: ', spearman, ' kendall: ', kendall)\n",
    " "
   ]
  },
  {
   "cell_type": "code",
   "execution_count": null,
   "metadata": {
    "collapsed": true
   },
   "outputs": [],
   "source": [
    "# correlazione per il sensore PIDVOC_ppm\n",
    "pearson, spearman, kendall= corr_Sensori(creazione_df(df_Dati, 'ATM05_01479', 'ATM10_01481', 'PIDVOC_ppb' ), 'ATM05_01479', 'ATM10_01481')\n",
    "print('pearson: ', pearson, ' spearman: ', spearman, ' kendall: ', kendall)\n",
    " "
   ]
  },
  {
   "cell_type": "code",
   "execution_count": null,
   "metadata": {
    "collapsed": true
   },
   "outputs": [],
   "source": [
    "# correlazione per il sensore H2S_ug_m3\n",
    "pearson, spearman, kendall= corr_Sensori(creazione_df(df_Dati, 'ATM05_01479', 'ATM10_01481', 'H2S_ug_m3' ), 'ATM05_01479', 'ATM10_01481')\n",
    "print('pearson: ', pearson, ' spearman: ', spearman, ' kendall: ', kendall)\n",
    " "
   ]
  },
  {
   "cell_type": "code",
   "execution_count": null,
   "metadata": {
    "collapsed": true
   },
   "outputs": [],
   "source": [
    "# correlazione per il sensore H2SJ_ug_m3\n",
    "pearson, spearman, kendall= corr_Sensori(creazione_df(df_Dati, 'ATM05_01479', 'ATM10_01481', 'H2SJ_ug_m3' ), 'ATM05_01479', 'ATM10_01481')\n",
    "print('pearson: ', pearson, ' spearman: ', spearman, ' kendall: ', kendall)\n",
    " "
   ]
  },
  {
   "cell_type": "markdown",
   "metadata": {},
   "source": [
    "# POSTAZIONI ATM05_01479 E ATM14_01486"
   ]
  },
  {
   "cell_type": "code",
   "execution_count": null,
   "metadata": {
    "collapsed": true
   },
   "outputs": [],
   "source": [
    "# correlazione per il sensore TRS_ppb\n",
    "pearson, spearman, kendall= corr_Sensori(creazione_df(df_Dati, 'ATM05_01479', 'ATM14_01486', 'TRS_ppb' ), 'ATM05_01479', 'ATM14_01486')\n",
    "print('pearson: ', pearson, ' spearman: ', spearman, ' kendall: ', kendall)\n",
    " "
   ]
  },
  {
   "cell_type": "code",
   "execution_count": null,
   "metadata": {
    "collapsed": true
   },
   "outputs": [],
   "source": [
    "# correlazione per il sensore C6H6_ug_m3\n",
    "pearson, spearman, kendall= corr_Sensori(creazione_df(df_Dati, 'ATM05_01479', 'ATM14_01486', 'C6H6_ug_m3' ), 'ATM05_01479', 'ATM14_01486')\n",
    "print('pearson: ', pearson, ' spearman: ', spearman, ' kendall: ', kendall)\n",
    " "
   ]
  },
  {
   "cell_type": "code",
   "execution_count": null,
   "metadata": {
    "collapsed": true
   },
   "outputs": [],
   "source": [
    "# correlazione per il sensore VOC_ppm\n",
    "pearsonPost4, spearman, kendall= corr_Sensori(creazione_df(df_Dati, 'ATM05_01479', 'ATM14_01486', 'VOC_ppm' ), 'ATM05_01479', 'ATM14_01486')\n",
    "print('pearson: ', pearson, ' spearman: ', spearman, ' kendall: ', kendall)\n",
    " "
   ]
  },
  {
   "cell_type": "code",
   "execution_count": null,
   "metadata": {
    "collapsed": true
   },
   "outputs": [],
   "source": [
    "# correlazione per il sensore PIDVOC_ppb\n",
    "pearson, spearman, kendall= corr_Sensori(creazione_df(df_Dati, 'ATM05_01479', 'ATM14_01486', 'PIDVOC_ppb' ), 'ATM05_01479', 'ATM14_01486')\n",
    "print('pearson: ', pearson, ' spearman: ', spearman, ' kendall: ', kendall)\n",
    " "
   ]
  },
  {
   "cell_type": "code",
   "execution_count": null,
   "metadata": {
    "collapsed": true
   },
   "outputs": [],
   "source": [
    "# correlazione per il sensore H2S_ug_m3\n",
    "pearson, spearman, kendall= corr_Sensori(creazione_df(df_Dati, 'ATM05_01479', 'ATM14_01486', 'H2S_ug_m3' ), 'ATM05_01479', 'ATM14_01486')\n",
    "print('pearson: ', pearson, ' spearman: ', spearman, ' kendall: ', kendall)\n",
    " "
   ]
  },
  {
   "cell_type": "code",
   "execution_count": null,
   "metadata": {
    "collapsed": true
   },
   "outputs": [],
   "source": [
    "# correlazione per il sensore H2SJ_ug_m3\n",
    "pearson, spearman, kendall= corr_Sensori(creazione_df(df_Dati, 'ATM05_01479', 'ATM14_01486', 'H2SJ_ug_m3' ), 'ATM05_01479', 'ATM14_01486')\n",
    "print('pearson: ', pearson, ' spearman: ', spearman, ' kendall: ', kendall)\n",
    " "
   ]
  },
  {
   "cell_type": "markdown",
   "metadata": {},
   "source": [
    "# POSTAZIONI ATM07_01480 E ATM10_01481"
   ]
  },
  {
   "cell_type": "code",
   "execution_count": null,
   "metadata": {
    "collapsed": true
   },
   "outputs": [],
   "source": [
    "# correlazione per il sensore TRS_ppb\n",
    "pearson, spearman, kendall= corr_Sensori(creazione_df(df_Dati, 'ATM07_01480', 'ATM10_01481', 'TRS_ppb' ), 'ATM07_01480', 'ATM10_01481')\n",
    "print('pearson: ', pearson, ' spearman: ', spearman, ' kendall: ', kendall)\n",
    " "
   ]
  },
  {
   "cell_type": "code",
   "execution_count": null,
   "metadata": {
    "collapsed": true
   },
   "outputs": [],
   "source": [
    "# correlazione per il sensore C6H6_ug_m3\n",
    "pearson, spearman, kendall= corr_Sensori(creazione_df(df_Dati, 'ATM07_01480', 'ATM10_01481', 'C6H6_ug_m3' ), 'ATM07_01480', 'ATM10_01481')\n",
    "print('pearson: ', pearson, ' spearman: ', spearman, ' kendall: ', kendall)\n",
    " "
   ]
  },
  {
   "cell_type": "code",
   "execution_count": null,
   "metadata": {
    "collapsed": true
   },
   "outputs": [],
   "source": [
    "# correlazione per il sensore VOC_ppm\n",
    "pearson, spearman, kendall= corr_Sensori(creazione_df(df_Dati, 'ATM07_01480', 'ATM10_01481', 'VOC_ppm' ), 'ATM07_01480', 'ATM10_01481')\n",
    "print('pearson: ', pearson, ' spearman: ', spearman, ' kendall: ', kendall)\n",
    " "
   ]
  },
  {
   "cell_type": "code",
   "execution_count": null,
   "metadata": {
    "collapsed": true
   },
   "outputs": [],
   "source": [
    "# correlazione per il sensore PIDVOC_ppb\n",
    "pearson, spearman, kendall= corr_Sensori(creazione_df(df_Dati, 'ATM07_01480', 'ATM10_01481', 'PIDVOC_ppb' ), 'ATM07_01480', 'ATM10_01481')\n",
    "print('pearson: ', pearson, ' spearman: ', spearman, ' kendall: ', kendall)\n",
    " "
   ]
  },
  {
   "cell_type": "code",
   "execution_count": null,
   "metadata": {
    "collapsed": true
   },
   "outputs": [],
   "source": [
    "# correlazione per il sensore H2S_ug_m3\n",
    "pearson, spearman, kendall= corr_Sensori(creazione_df(df_Dati, 'ATM07_01480', 'ATM10_01481', 'H2S_ug_m3' ), 'ATM07_01480', 'ATM10_01481')\n",
    "print('pearson: ', pearson, ' spearman: ', spearman, ' kendall: ', kendall)\n",
    " "
   ]
  },
  {
   "cell_type": "code",
   "execution_count": null,
   "metadata": {
    "collapsed": true
   },
   "outputs": [],
   "source": [
    "# correlazione per il sensore H2SJ_ug_m3\n",
    "pearson, spearman, kendall= corr_Sensori(creazione_df(df_Dati, 'ATM07_01480', 'ATM10_01481', 'H2SJ_ug_m3' ), 'ATM07_01480', 'ATM10_01481')\n",
    "print('pearson: ', pearson, ' spearman: ', spearman, ' kendall: ', kendall)\n",
    " "
   ]
  },
  {
   "cell_type": "markdown",
   "metadata": {},
   "source": [
    "# POSTAZIONI ATM07_01480 E ATM14_01486"
   ]
  },
  {
   "cell_type": "code",
   "execution_count": null,
   "metadata": {
    "collapsed": true
   },
   "outputs": [],
   "source": [
    "# correlazione per il sensore TRS_ppb\n",
    "pearson, spearman, kendall= corr_Sensori(creazione_df(df_Dati, 'ATM07_01480', 'ATM14_01486', 'TRS_ppb' ), 'ATM07_01480', 'ATM14_01486')\n",
    "print('pearson: ', pearson, ' spearman: ', spearman, ' kendall: ', kendall)\n",
    " "
   ]
  },
  {
   "cell_type": "code",
   "execution_count": null,
   "metadata": {
    "collapsed": true
   },
   "outputs": [],
   "source": [
    "# correlazione per il sensore C6H6_ug_m3\n",
    "pearson, spearman, kendall= corr_Sensori(creazione_df(df_Dati, 'ATM07_01480', 'ATM14_01486', 'C6H6_ug_m3' ), 'ATM07_01480', 'ATM14_01486')\n",
    "print('pearson: ', pearson, ' spearman: ', spearman, ' kendall: ', kendall)\n",
    " "
   ]
  },
  {
   "cell_type": "code",
   "execution_count": null,
   "metadata": {
    "collapsed": true
   },
   "outputs": [],
   "source": [
    "# correlazione per il sensore VOC_ppm\n",
    "pearson, spearman, kendall= corr_Sensori(creazione_df(df_Dati, 'ATM07_01480', 'ATM14_01486', 'VOC_ppm' ), 'ATM07_01480', 'ATM14_01486')\n",
    "print('pearson: ', pearson, ' spearman: ', spearman, ' kendall: ', kendall)\n",
    " "
   ]
  },
  {
   "cell_type": "code",
   "execution_count": null,
   "metadata": {
    "collapsed": true
   },
   "outputs": [],
   "source": [
    "# correlazione per il sensore PIDVOC_ppb\n",
    "pearson, spearman, kendall= corr_Sensori(creazione_df(df_Dati, 'ATM07_01480', 'ATM14_01486', 'PIDVOC_ppb' ), 'ATM07_01480', 'ATM14_01486')\n",
    "print('pearson: ', pearson, ' spearman: ', spearman, ' kendall: ', kendall)\n",
    " "
   ]
  },
  {
   "cell_type": "code",
   "execution_count": null,
   "metadata": {
    "collapsed": true
   },
   "outputs": [],
   "source": [
    "# correlazione per il sensore H2S_ug_m3\n",
    "pearson, spearman, kendall= corr_Sensori(creazione_df(df_Dati, 'ATM07_01480', 'ATM14_01486', 'H2S_ug_m3' ), 'ATM07_01480', 'ATM14_01486')\n",
    "print('pearson: ', pearson, ' spearman: ', spearman, ' kendall: ', kendall)\n",
    " "
   ]
  },
  {
   "cell_type": "code",
   "execution_count": null,
   "metadata": {
    "collapsed": true
   },
   "outputs": [],
   "source": [
    "# correlazione per il sensore H2SJ_ug_m3\n",
    "pearson, spearman, kendall= corr_Sensori(creazione_df(df_Dati, 'ATM07_01480', 'ATM14_01486', 'H2SJ_ug_m3' ), 'ATM07_01480', 'ATM14_01486')\n",
    "print('pearson: ', pearson, ' spearman: ', spearman, ' kendall: ', kendall)\n",
    " "
   ]
  },
  {
   "cell_type": "markdown",
   "metadata": {},
   "source": [
    "# POSTAZIONI ATM10_01481 E ATM14_01486"
   ]
  },
  {
   "cell_type": "code",
   "execution_count": null,
   "metadata": {
    "collapsed": true
   },
   "outputs": [],
   "source": [
    "# correlazione per il sensore TRS_ppb\n",
    "pearson, spearman, kendall= corr_Sensori(creazione_df(df_Dati, 'ATM10_01481', 'ATM14_01486', 'TRS_ppb' ), 'ATM10_01481', 'ATM14_01486')\n",
    "print('pearson: ', pearson, ' spearman: ', spearman, ' kendall: ', kendall)\n",
    " "
   ]
  },
  {
   "cell_type": "code",
   "execution_count": null,
   "metadata": {
    "collapsed": true
   },
   "outputs": [],
   "source": [
    "# correlazione per il sensore C6H6_ug_m3\n",
    "pearson, spearman, kendall= corr_Sensori(creazione_df(df_Dati, 'ATM10_01481', 'ATM14_01486', 'C6H6_ug_m3' ), 'ATM10_01481', 'ATM14_01486')\n",
    "print('pearson: ', pearson, ' spearman: ', spearman, ' kendall: ', kendall)\n",
    " "
   ]
  },
  {
   "cell_type": "code",
   "execution_count": null,
   "metadata": {
    "collapsed": true
   },
   "outputs": [],
   "source": [
    "# correlazione per il sensore VOC_ppm\n",
    "pearson, spearman, kendall= corr_Sensori(creazione_df(df_Dati, 'ATM10_01481', 'ATM14_01486', 'VOC_ppm' ), 'ATM10_01481', 'ATM14_01486')\n",
    "print('pearson: ', pearson, ' spearman: ', spearman, ' kendall: ', kendall)\n",
    " "
   ]
  },
  {
   "cell_type": "code",
   "execution_count": null,
   "metadata": {
    "collapsed": true
   },
   "outputs": [],
   "source": [
    "# correlazione per il sensore PIDVOC_ppb\n",
    "pearson, spearman, kendall= corr_Sensori(creazione_df(df_Dati, 'ATM10_01481', 'ATM14_01486', 'PIDVOC_ppb' ), 'ATM10_01481', 'ATM14_01486')\n",
    "print('pearson: ', pearson, ' spearman: ', spearman, ' kendall: ', kendall)\n",
    " "
   ]
  },
  {
   "cell_type": "code",
   "execution_count": null,
   "metadata": {
    "collapsed": true
   },
   "outputs": [],
   "source": [
    "# correlazione per il sensore H2S_ug_m3\n",
    "pearson, spearman, kendall= corr_Sensori(creazione_df(df_Dati, 'ATM10_01481', 'ATM14_01486', 'H2S_ug_m3' ), 'ATM10_01481', 'ATM14_01486')\n",
    "print('pearson: ', pearson, ' spearman: ', spearman, ' kendall: ', kendall)\n",
    " "
   ]
  },
  {
   "cell_type": "code",
   "execution_count": null,
   "metadata": {
    "collapsed": true
   },
   "outputs": [],
   "source": [
    "# correlazione per il sensore H2SJ_ug_m3\n",
    "pearson, spearman, kendall= corr_Sensori(creazione_df(df_Dati, 'ATM10_01481', 'ATM14_01486', 'H2SJ_ug_m3' ), 'ATM10_01481', 'ATM14_01486')\n",
    "print('pearson: ', pearson, ' spearman: ', spearman, ' kendall: ', kendall)\n",
    " "
   ]
  },
  {
   "cell_type": "markdown",
   "metadata": {},
   "source": [
    "# CORRELAZIONE 8"
   ]
  },
  {
   "cell_type": "code",
   "execution_count": null,
   "metadata": {
    "collapsed": true
   },
   "outputs": [],
   "source": [
    "df_DatiMeteo = pd.read_excel('Dati_Meteo.xlsx')"
   ]
  },
  {
   "cell_type": "code",
   "execution_count": null,
   "metadata": {
    "collapsed": true
   },
   "outputs": [],
   "source": [
    "df_DatiMeteo"
   ]
  },
  {
   "cell_type": "code",
   "execution_count": null,
   "metadata": {
    "collapsed": true
   },
   "outputs": [],
   "source": [
    "# crea un dataframe composto dalla media oraria dei sensori in base alla stazione scelta\n",
    "def media_Stazione(df, postazione):\n",
    "    df1 = df[df['postazione'] == postazione]\n",
    "    df2 = pd.concat([media_oraria(df1, 'C6H6_ug_m3')['C6H6_ug_m3'],\n",
    "                      media_oraria(df1, 'H2S_ug_m3')['H2S_ug_m3'],\n",
    "                      media_oraria(df1, 'H2SJ_ug_m3')['H2SJ_ug_m3'],\n",
    "                      media_oraria(df1, 'VOC_ppm')['VOC_ppm'], \n",
    "                      media_oraria(df1, 'PIDVOC_ppb')['PIDVOC_ppb']], axis=1)\n",
    "    if postazione == 'ATM14_01486':\n",
    "        df2['TRS_ppb'] = 0\n",
    "    else:\n",
    "        df2['TRS_ppb'] = media_oraria(df1, 'TRS_ppb')['TRS_ppb']\n",
    "    return df2"
   ]
  },
  {
   "cell_type": "code",
   "execution_count": null,
   "metadata": {
    "collapsed": true
   },
   "outputs": [],
   "source": [
    "stazione = ['ATM05_01479','ATM07_01480','ATM10_01481', 'ATM14_01486']\n",
    "sensore = ['TRS_ppb','C6H6_ug_m3', 'VOC_ppm', 'PIDVOC_ppb', 'H2S_ug_m3', 'H2SJ_ug_m3']\n",
    "meteo = ['temperatura_gradiC', 'direzione_vento_gradi','pressione_hPa', 'intensità_vento_km_h' ]"
   ]
  },
  {
   "cell_type": "code",
   "execution_count": null,
   "metadata": {
    "collapsed": true
   },
   "outputs": [],
   "source": [
    "# correlazione con la temperatura per il sensore ATM05_01479 \n",
    "df_ATM5 = media_Stazione(df_DatiPuliti, stazione[0]).fillna(0)\n",
    "df_ATM5['postazione'] = 'ATM05_01479'\n",
    "df_ATM5"
   ]
  },
  {
   "cell_type": "code",
   "execution_count": null,
   "metadata": {
    "collapsed": true
   },
   "outputs": [],
   "source": [
    "pearson, spearman, kendall = corr_Sensori(creazione_df(df_ATM5, \n",
    "                                              stazione[0], meteo[0], sensore[0], df2 = df_DatiMeteo), stazione[0], meteo[0])\n",
    "print('pearson: ', pearson, ' spearman: ', spearman, ' kendall: ', kendall)\n",
    " "
   ]
  },
  {
   "cell_type": "code",
   "execution_count": null,
   "metadata": {
    "collapsed": true
   },
   "outputs": [],
   "source": [
    "pearson, spearman, kendall = corr_Sensori(creazione_df(df_ATM5, \n",
    "                                              stazione[0], meteo[0], sensore[1], df2 = df_DatiMeteo), stazione[0], meteo[0])\n",
    "print('pearson: ', pearson, ' spearman: ', spearman, ' kendall: ', kendall)\n",
    " "
   ]
  },
  {
   "cell_type": "code",
   "execution_count": null,
   "metadata": {
    "collapsed": true
   },
   "outputs": [],
   "source": [
    "pearson, spearman, kendall = corr_Sensori(creazione_df(df_ATM5, \n",
    "                                              stazione[0], meteo[0], sensore[2], df2 = df_DatiMeteo), stazione[0], meteo[0])\n",
    "print('pearson: ', pearson, ' spearman: ', spearman, ' kendall: ', kendall)\n",
    " "
   ]
  },
  {
   "cell_type": "code",
   "execution_count": null,
   "metadata": {
    "collapsed": true
   },
   "outputs": [],
   "source": [
    "pearson, spearman, kendall = corr_Sensori(creazione_df(df_ATM5, \n",
    "                                              stazione[0], meteo[0], sensore[3], df2 = df_DatiMeteo), stazione[0], meteo[0])\n",
    "print('pearson: ', pearson, ' spearman: ', spearman, ' kendall: ', kendall)\n",
    " "
   ]
  },
  {
   "cell_type": "code",
   "execution_count": null,
   "metadata": {
    "collapsed": true
   },
   "outputs": [],
   "source": [
    "pearson, spearman, kendall = corr_Sensori(creazione_df(df_ATM5, \n",
    "                                              stazione[0], meteo[0], sensore[4], df2 = df_DatiMeteo), stazione[0], meteo[0])\n",
    "print('pearson: ', pearson, ' spearman: ', spearman, ' kendall: ', kendall)\n",
    " "
   ]
  },
  {
   "cell_type": "code",
   "execution_count": null,
   "metadata": {
    "collapsed": true
   },
   "outputs": [],
   "source": [
    "pearson, spearman, kendall = corr_Sensori(creazione_df(df_ATM5, \n",
    "                                              stazione[0], meteo[0], sensore[5], df2 = df_DatiMeteo), stazione[0], meteo[0])\n",
    "print('pearson: ', pearson, ' spearman: ', spearman, ' kendall: ', kendall)\n",
    " "
   ]
  },
  {
   "cell_type": "code",
   "execution_count": null,
   "metadata": {
    "collapsed": true
   },
   "outputs": [],
   "source": [
    "# correlazione con la temperatura per il sensore ATM07_01480\n",
    "df_ATM7 = media_Stazione(df_DatiPuliti, stazione[1]).fillna(0)\n",
    "df_ATM7['postazione'] = 'ATM07_01480'\n",
    "df_ATM7\n"
   ]
  },
  {
   "cell_type": "code",
   "execution_count": null,
   "metadata": {
    "collapsed": true
   },
   "outputs": [],
   "source": [
    "pearson, spearman, kendall = corr_Sensori(creazione_df(df_ATM7, \n",
    "                                              stazione[1], meteo[0], sensore[0], df2 = df_DatiMeteo), stazione[1], meteo[0])\n",
    "print('pearson: ', pearson, ' spearman: ', spearman, ' kendall: ', kendall)\n",
    " "
   ]
  },
  {
   "cell_type": "code",
   "execution_count": null,
   "metadata": {
    "collapsed": true
   },
   "outputs": [],
   "source": [
    "pearson, spearman, kendall = corr_Sensori(creazione_df(df_ATM7, \n",
    "                                              stazione[1], meteo[0], sensore[1], df2 = df_DatiMeteo), stazione[1], meteo[0])\n",
    "print('pearson: ', pearson, ' spearman: ', spearman, ' kendall: ', kendall)\n",
    " "
   ]
  },
  {
   "cell_type": "code",
   "execution_count": null,
   "metadata": {
    "collapsed": true
   },
   "outputs": [],
   "source": [
    "pearson, spearman, kendall = corr_Sensori(creazione_df(df_ATM7, \n",
    "                                              stazione[1], meteo[0], sensore[2], df2 = df_DatiMeteo), stazione[1], meteo[0])\n",
    "print('pearson: ', pearson, ' spearman: ', spearman, ' kendall: ', kendall)\n",
    " "
   ]
  },
  {
   "cell_type": "code",
   "execution_count": null,
   "metadata": {
    "collapsed": true
   },
   "outputs": [],
   "source": [
    "pearson, spearman, kendall = corr_Sensori(creazione_df(df_ATM7, \n",
    "                                              stazione[1], meteo[0], sensore[3], df2 = df_DatiMeteo), stazione[1], meteo[0])\n",
    "print('pearson: ', pearson, ' spearman: ', spearman, ' kendall: ', kendall)\n",
    " "
   ]
  },
  {
   "cell_type": "code",
   "execution_count": null,
   "metadata": {
    "collapsed": true
   },
   "outputs": [],
   "source": [
    "pearson, spearman, kendall = corr_Sensori(creazione_df(df_ATM7, \n",
    "                                              stazione[1], meteo[0], sensore[4], df2 = df_DatiMeteo), stazione[1], meteo[0])\n",
    "print('pearson: ', pearson, ' spearman: ', spearman, ' kendall: ', kendall)\n",
    " "
   ]
  },
  {
   "cell_type": "code",
   "execution_count": null,
   "metadata": {
    "collapsed": true
   },
   "outputs": [],
   "source": [
    "pearson, spearman, kendall = corr_Sensori(creazione_df(df_ATM7, \n",
    "                                              stazione[1], meteo[0], sensore[5], df2 = df_DatiMeteo), stazione[1], meteo[0])\n",
    "print('pearson: ', pearson, ' spearman: ', spearman, ' kendall: ', kendall)\n",
    " "
   ]
  },
  {
   "cell_type": "code",
   "execution_count": null,
   "metadata": {
    "collapsed": true
   },
   "outputs": [],
   "source": [
    "# correlazione con la temperatura per il sensore ATM10_01481\n",
    "df_ATM10 = media_Stazione(df_DatiPuliti, stazione[2]).fillna(0)\n",
    "df_ATM10['postazione'] = 'ATM10_01481'\n",
    "df_ATM10"
   ]
  },
  {
   "cell_type": "code",
   "execution_count": null,
   "metadata": {
    "collapsed": true
   },
   "outputs": [],
   "source": [
    "pearson, spearman, kendall = corr_Sensori(creazione_df(df_ATM10, \n",
    "                                              stazione[2], meteo[0], sensore[0], df2 = df_DatiMeteo), stazione[2], meteo[0])\n",
    "print('pearson: ', pearson, ' spearman: ', spearman, ' kendall: ', kendall)\n",
    " "
   ]
  },
  {
   "cell_type": "code",
   "execution_count": null,
   "metadata": {
    "collapsed": true
   },
   "outputs": [],
   "source": [
    "pearson, spearman, kendall = corr_Sensori(creazione_df(df_ATM10, \n",
    "                                              stazione[2], meteo[0], sensore[1], df2 = df_DatiMeteo), stazione[2], meteo[0])\n",
    "print('pearson: ', pearson, ' spearman: ', spearman, ' kendall: ', kendall)\n",
    " "
   ]
  },
  {
   "cell_type": "code",
   "execution_count": null,
   "metadata": {
    "collapsed": true
   },
   "outputs": [],
   "source": [
    "pearson, spearman, kendall = corr_Sensori(creazione_df(df_ATM10, \n",
    "                                              stazione[2], meteo[0], sensore[2], df2 = df_DatiMeteo), stazione[2], meteo[0])\n",
    "print('pearson: ', pearson, ' spearman: ', spearman, ' kendall: ', kendall)\n",
    " "
   ]
  },
  {
   "cell_type": "code",
   "execution_count": null,
   "metadata": {
    "collapsed": true
   },
   "outputs": [],
   "source": [
    "pearson, spearman, kendall = corr_Sensori(creazione_df(df_ATM10, \n",
    "                                              stazione[2], meteo[0], sensore[3], df2 = df_DatiMeteo), stazione[2], meteo[0])\n",
    "print('pearson: ', pearson, ' spearman: ', spearman, ' kendall: ', kendall)\n",
    " "
   ]
  },
  {
   "cell_type": "code",
   "execution_count": null,
   "metadata": {
    "collapsed": true
   },
   "outputs": [],
   "source": [
    "pearson, spearman, kendall = corr_Sensori(creazione_df(df_ATM10, \n",
    "                                              stazione[2], meteo[0], sensore[4], df2 = df_DatiMeteo), stazione[2], meteo[0])\n",
    "print('pearson: ', pearson, ' spearman: ', spearman, ' kendall: ', kendall)\n",
    " "
   ]
  },
  {
   "cell_type": "code",
   "execution_count": null,
   "metadata": {
    "collapsed": true
   },
   "outputs": [],
   "source": [
    "pearson, spearman, kendall = corr_Sensori(creazione_df(df_ATM10, \n",
    "                                              stazione[2], meteo[0], sensore[5], df2 = df_DatiMeteo), stazione[2], meteo[0])\n",
    "print('pearson: ', pearson, ' spearman: ', spearman, ' kendall: ', kendall)\n",
    " "
   ]
  },
  {
   "cell_type": "code",
   "execution_count": null,
   "metadata": {
    "collapsed": true
   },
   "outputs": [],
   "source": [
    "# correlazione con la temperatura per il sensore ATM14_01486\n",
    "df_ATM14 = media_Stazione(df_DatiPuliti, stazione[3]).fillna(0)\n",
    "df_ATM14['postazione'] = 'ATM14_01486'\n",
    "df_ATM14\n"
   ]
  },
  {
   "cell_type": "code",
   "execution_count": null,
   "metadata": {
    "collapsed": true
   },
   "outputs": [],
   "source": [
    "pearson, spearman, kendall = corr_Sensori(creazione_df(df_ATM14, \n",
    "                                              stazione[3], meteo[0], sensore[0], df2 = df_DatiMeteo), stazione[3], meteo[0])\n",
    "print('pearson: ', pearson, ' spearman: ', spearman, ' kendall: ', kendall)"
   ]
  },
  {
   "cell_type": "code",
   "execution_count": null,
   "metadata": {
    "collapsed": true
   },
   "outputs": [],
   "source": [
    "pearson, spearman, kendall = corr_Sensori(creazione_df(df_ATM14, \n",
    "                                              stazione[3], meteo[0], sensore[1], df2 = df_DatiMeteo), stazione[3], meteo[0])\n",
    "print('pearson: ', pearson, ' spearman: ', spearman, ' kendall: ', kendall)"
   ]
  },
  {
   "cell_type": "code",
   "execution_count": null,
   "metadata": {
    "collapsed": true
   },
   "outputs": [],
   "source": [
    "pearson, spearman, kendall = corr_Sensori(creazione_df(df_ATM14, \n",
    "                                              stazione[3], meteo[0], sensore[2], df2 = df_DatiMeteo), stazione[3], meteo[0])\n",
    "print('pearson: ', pearson, ' spearman: ', spearman, ' kendall: ', kendall)"
   ]
  },
  {
   "cell_type": "code",
   "execution_count": null,
   "metadata": {
    "collapsed": true
   },
   "outputs": [],
   "source": [
    "pearson, spearman, kendall = corr_Sensori(creazione_df(df_ATM14, \n",
    "                                              stazione[3], meteo[0], sensore[3], df2 = df_DatiMeteo), stazione[3], meteo[0])\n",
    "print('pearson: ', pearson, ' spearman: ', spearman, ' kendall: ', kendall)\n",
    " "
   ]
  },
  {
   "cell_type": "code",
   "execution_count": null,
   "metadata": {
    "collapsed": true
   },
   "outputs": [],
   "source": [
    "pearson, spearman, kendall = corr_Sensori(creazione_df(df_ATM14, \n",
    "                                              stazione[3], meteo[0], sensore[4], df2 = df_DatiMeteo), stazione[3], meteo[0])\n",
    "print('pearson: ', pearson, ' spearman: ', spearman, ' kendall: ', kendall) "
   ]
  },
  {
   "cell_type": "code",
   "execution_count": null,
   "metadata": {
    "collapsed": true
   },
   "outputs": [],
   "source": [
    "pearson, spearman, kendall = corr_Sensori(creazione_df(df_ATM14, \n",
    "                                              stazione[3], meteo[0], sensore[5], df2 = df_DatiMeteo), stazione[3], meteo[0])\n",
    "print('pearson: ', pearson, ' spearman: ', spearman, ' kendall: ', kendall)"
   ]
  },
  {
   "cell_type": "markdown",
   "metadata": {},
   "source": [
    "# CORRELAZIONE 9"
   ]
  },
  {
   "cell_type": "code",
   "execution_count": null,
   "metadata": {
    "collapsed": true
   },
   "outputs": [],
   "source": [
    "# correlazione con la direzione del vento per il sensore ATM05_01479 \n",
    "df_ATM5 = media_Stazione(df_DatiPuliti, stazione[0]).fillna(0)\n",
    "df_ATM5['postazione'] = 'ATM05_01479'\n",
    "df_ATM5"
   ]
  },
  {
   "cell_type": "code",
   "execution_count": null,
   "metadata": {
    "collapsed": true
   },
   "outputs": [],
   "source": [
    "pearson, spearman, kendall = corr_Sensori(creazione_df(df_ATM5, \n",
    "                                              stazione[0], meteo[1], sensore[0], df2 = df_DatiMeteo), stazione[0], meteo[1])\n",
    "print('pearson: ', pearson, ' spearman: ', spearman, ' kendall: ', kendall)\n",
    " "
   ]
  },
  {
   "cell_type": "code",
   "execution_count": null,
   "metadata": {
    "collapsed": true
   },
   "outputs": [],
   "source": [
    "pearson, spearman, kendall = corr_Sensori(creazione_df(df_ATM5, \n",
    "                                              stazione[0], meteo[1], sensore[1], df2 = df_DatiMeteo), stazione[0], meteo[1])\n",
    "print('pearson: ', pearson, ' spearman: ', spearman, ' kendall: ', kendall)\n",
    " "
   ]
  },
  {
   "cell_type": "code",
   "execution_count": null,
   "metadata": {
    "collapsed": true
   },
   "outputs": [],
   "source": [
    "pearson, spearman, kendall = corr_Sensori(creazione_df(df_ATM5, \n",
    "                                              stazione[0], meteo[1], sensore[2], df2 = df_DatiMeteo), stazione[0], meteo[1])\n",
    "print('pearson: ', pearson, ' spearman: ', spearman, ' kendall: ', kendall)\n",
    " "
   ]
  },
  {
   "cell_type": "code",
   "execution_count": null,
   "metadata": {
    "collapsed": true
   },
   "outputs": [],
   "source": [
    "pearson, spearman, kendall = corr_Sensori(creazione_df(df_ATM5, \n",
    "                                              stazione[0], meteo[1], sensore[3], df2 = df_DatiMeteo), stazione[0], meteo[1])\n",
    "print('pearson: ', pearson, ' spearman: ', spearman, ' kendall: ', kendall)\n",
    " "
   ]
  },
  {
   "cell_type": "code",
   "execution_count": null,
   "metadata": {
    "collapsed": true
   },
   "outputs": [],
   "source": [
    "pearson, spearman, kendall = corr_Sensori(creazione_df(df_ATM5, \n",
    "                                              stazione[0], meteo[1], sensore[4], df2 = df_DatiMeteo), stazione[0], meteo[1])\n",
    "print('pearson: ', pearson, ' spearman: ', spearman, ' kendall: ', kendall)\n",
    " "
   ]
  },
  {
   "cell_type": "code",
   "execution_count": null,
   "metadata": {
    "collapsed": true
   },
   "outputs": [],
   "source": [
    "pearson, spearman, kendall = corr_Sensori(creazione_df(df_ATM5, \n",
    "                                              stazione[0], meteo[1], sensore[5], df2 = df_DatiMeteo), stazione[0], meteo[1])\n",
    "print('pearson: ', pearson, ' spearman: ', spearman, ' kendall: ', kendall)\n",
    " "
   ]
  },
  {
   "cell_type": "code",
   "execution_count": null,
   "metadata": {
    "collapsed": true
   },
   "outputs": [],
   "source": [
    "# correlazione con la direzione del vento per il sensore ATM07_01480\n",
    "df_ATM7 = media_Stazione(df_DatiPuliti, stazione[1]).fillna(0)\n",
    "df_ATM7['postazione'] = 'ATM07_01480'\n",
    "df_ATM7\n"
   ]
  },
  {
   "cell_type": "code",
   "execution_count": null,
   "metadata": {
    "collapsed": true
   },
   "outputs": [],
   "source": [
    "pearson, spearman, kendall = corr_Sensori(creazione_df(df_ATM7, \n",
    "                                              stazione[1], meteo[1], sensore[0], df2 = df_DatiMeteo), stazione[1], meteo[1])\n",
    "print('pearson: ', pearson, ' spearman: ', spearman, ' kendall: ', kendall)\n",
    " "
   ]
  },
  {
   "cell_type": "code",
   "execution_count": null,
   "metadata": {
    "collapsed": true
   },
   "outputs": [],
   "source": [
    "pearson, spearman, kendall = corr_Sensori(creazione_df(df_ATM7, \n",
    "                                              stazione[1], meteo[1], sensore[1], df2 = df_DatiMeteo), stazione[1], meteo[1])\n",
    "print('pearson: ', pearson, ' spearman: ', spearman, ' kendall: ', kendall)\n",
    " "
   ]
  },
  {
   "cell_type": "code",
   "execution_count": null,
   "metadata": {
    "collapsed": true
   },
   "outputs": [],
   "source": [
    "pearson, spearman, kendall = corr_Sensori(creazione_df(df_ATM7, \n",
    "                                              stazione[1], meteo[1], sensore[2], df2 = df_DatiMeteo), stazione[1], meteo[1])\n",
    "print('pearson: ', pearson, ' spearman: ', spearman, ' kendall: ', kendall)\n",
    " "
   ]
  },
  {
   "cell_type": "code",
   "execution_count": null,
   "metadata": {
    "collapsed": true
   },
   "outputs": [],
   "source": [
    "pearson, spearman, kendall = corr_Sensori(creazione_df(df_ATM7, \n",
    "                                              stazione[1], meteo[1], sensore[3], df2 = df_DatiMeteo), stazione[1], meteo[1])\n",
    "print('pearson: ', pearson, ' spearman: ', spearman, ' kendall: ', kendall)\n",
    " "
   ]
  },
  {
   "cell_type": "code",
   "execution_count": null,
   "metadata": {
    "collapsed": true
   },
   "outputs": [],
   "source": [
    "pearson, spearman, kendall = corr_Sensori(creazione_df(df_ATM7, \n",
    "                                              stazione[1], meteo[1], sensore[4], df2 = df_DatiMeteo), stazione[1], meteo[1])\n",
    "print('pearson: ', pearson, ' spearman: ', spearman, ' kendall: ', kendall)"
   ]
  },
  {
   "cell_type": "code",
   "execution_count": null,
   "metadata": {
    "collapsed": true
   },
   "outputs": [],
   "source": [
    "pearson, spearman, kendall = corr_Sensori(creazione_df(df_ATM7, \n",
    "                                              stazione[1], meteo[1], sensore[5], df2 = df_DatiMeteo), stazione[1], meteo[1])\n",
    "print('pearson: ', pearson, ' spearman: ', spearman, ' kendall: ', kendall)\n",
    " "
   ]
  },
  {
   "cell_type": "code",
   "execution_count": null,
   "metadata": {
    "collapsed": true
   },
   "outputs": [],
   "source": [
    "# correlazione con la direzione del vento per il sensore ATM10_01481\n",
    "df_ATM10 = media_Stazione(df_DatiPuliti, stazione[2]).fillna(0)\n",
    "df_ATM10['postazione'] = 'ATM10_01481'\n",
    "df_ATM10\n"
   ]
  },
  {
   "cell_type": "code",
   "execution_count": null,
   "metadata": {
    "collapsed": true
   },
   "outputs": [],
   "source": [
    "pearson, spearman, kendall = corr_Sensori(creazione_df(df_ATM10, \n",
    "                                              stazione[2], meteo[1], sensore[0], df2 = df_DatiMeteo), stazione[2], meteo[1])\n",
    "print('pearson: ', pearson, ' spearman: ', spearman, ' kendall: ', kendall)\n",
    " "
   ]
  },
  {
   "cell_type": "code",
   "execution_count": null,
   "metadata": {
    "collapsed": true
   },
   "outputs": [],
   "source": [
    "pearson, spearman, kendall = corr_Sensori(creazione_df(df_ATM10, \n",
    "                                              stazione[2], meteo[1], sensore[1], df2 = df_DatiMeteo), stazione[2], meteo[1])\n",
    "print('pearson: ', pearson, ' spearman: ', spearman, ' kendall: ', kendall)\n"
   ]
  },
  {
   "cell_type": "code",
   "execution_count": null,
   "metadata": {
    "collapsed": true
   },
   "outputs": [],
   "source": [
    "pearson, spearman, kendall = corr_Sensori(creazione_df(df_ATM10, \n",
    "                                              stazione[2], meteo[1], sensore[2], df2 = df_DatiMeteo), stazione[2], meteo[1])\n",
    "print('pearson: ', pearson, ' spearman: ', spearman, ' kendall: ', kendall)\n",
    " "
   ]
  },
  {
   "cell_type": "code",
   "execution_count": null,
   "metadata": {
    "collapsed": true
   },
   "outputs": [],
   "source": [
    "pearson, spearman, kendall = corr_Sensori(creazione_df(df_ATM10, \n",
    "                                              stazione[2], meteo[1], sensore[3], df2 = df_DatiMeteo), stazione[2], meteo[1])\n",
    "print('pearson: ', pearson, ' spearman: ', spearman, ' kendall: ', kendall)\n",
    " "
   ]
  },
  {
   "cell_type": "code",
   "execution_count": null,
   "metadata": {
    "collapsed": true
   },
   "outputs": [],
   "source": [
    "pearson, spearman, kendall = corr_Sensori(creazione_df(df_ATM10, \n",
    "                                              stazione[2], meteo[1], sensore[4], df2 = df_DatiMeteo), stazione[2], meteo[1])\n",
    "print('pearson: ', pearson, ' spearman: ', spearman, ' kendall: ', kendall)\n",
    " "
   ]
  },
  {
   "cell_type": "code",
   "execution_count": null,
   "metadata": {
    "collapsed": true
   },
   "outputs": [],
   "source": [
    "pearson, spearman, kendall = corr_Sensori(creazione_df(df_ATM10, \n",
    "                                              stazione[2], meteo[1], sensore[5], df2 = df_DatiMeteo), stazione[2], meteo[1])\n",
    "print('pearson: ', pearson, ' spearman: ', spearman, ' kendall: ', kendall)\n",
    " "
   ]
  },
  {
   "cell_type": "code",
   "execution_count": null,
   "metadata": {
    "collapsed": true
   },
   "outputs": [],
   "source": [
    "# correlazione con la direzione del vento per il sensore ATM14_01486\n",
    "df_ATM14 = media_Stazione(df_DatiPuliti, stazione[3]).fillna(0)\n",
    "df_ATM14['postazione'] = 'ATM14_01486'\n",
    "df_ATM14"
   ]
  },
  {
   "cell_type": "code",
   "execution_count": null,
   "metadata": {
    "collapsed": true
   },
   "outputs": [],
   "source": [
    "pearson, spearman, kendall = corr_Sensori(creazione_df(df_ATM14, \n",
    "                                              stazione[3], meteo[1], sensore[0], df2 = df_DatiMeteo), stazione[3], meteo[1])\n",
    "print('pearson: ', pearson, ' spearman: ', spearman, ' kendall: ', kendall)"
   ]
  },
  {
   "cell_type": "code",
   "execution_count": null,
   "metadata": {
    "collapsed": true
   },
   "outputs": [],
   "source": [
    "pearson, spearman, kendall = corr_Sensori(creazione_df(df_ATM14, \n",
    "                                              stazione[3], meteo[1], sensore[1], df2 = df_DatiMeteo), stazione[3], meteo[1])\n",
    "print('pearson: ', pearson, ' spearman: ', spearman, ' kendall: ', kendall)\n",
    " "
   ]
  },
  {
   "cell_type": "code",
   "execution_count": null,
   "metadata": {
    "collapsed": true
   },
   "outputs": [],
   "source": [
    "pearson, spearman, kendall = corr_Sensori(creazione_df(df_ATM14, \n",
    "                                              stazione[3], meteo[1], sensore[2], df2 = df_DatiMeteo), stazione[3], meteo[1])\n",
    "print('pearson: ', pearson, ' spearman: ', spearman, ' kendall: ', kendall)\n",
    " "
   ]
  },
  {
   "cell_type": "code",
   "execution_count": null,
   "metadata": {
    "collapsed": true
   },
   "outputs": [],
   "source": [
    "pearson, spearman, kendall = corr_Sensori(creazione_df(df_ATM14, \n",
    "                                              stazione[3], meteo[1], sensore[3], df2 = df_DatiMeteo), stazione[3], meteo[1])\n",
    "print('pearson: ', pearson, ' spearman: ', spearman, ' kendall: ', kendall)\n",
    " "
   ]
  },
  {
   "cell_type": "code",
   "execution_count": null,
   "metadata": {
    "collapsed": true
   },
   "outputs": [],
   "source": [
    "pearson, spearman, kendall = corr_Sensori(creazione_df(df_ATM14, \n",
    "                                              stazione[3], meteo[1], sensore[4], df2 = df_DatiMeteo), stazione[3], meteo[1])\n",
    "print('pearson: ', pearson, ' spearman: ', spearman, ' kendall: ', kendall)\n",
    " "
   ]
  },
  {
   "cell_type": "code",
   "execution_count": null,
   "metadata": {
    "collapsed": true
   },
   "outputs": [],
   "source": [
    "pearson, spearman, kendall = corr_Sensori(creazione_df(df_ATM14, \n",
    "                                              stazione[3], meteo[1], sensore[5], df2 = df_DatiMeteo), stazione[3], meteo[1])\n",
    "print('pearson: ', pearson, ' spearman: ', spearman, ' kendall: ', kendall)\n",
    " "
   ]
  },
  {
   "cell_type": "markdown",
   "metadata": {},
   "source": [
    "# CORRELAZIONE 10"
   ]
  },
  {
   "cell_type": "code",
   "execution_count": null,
   "metadata": {
    "collapsed": true
   },
   "outputs": [],
   "source": [
    "# correlazione con la pressione atmosferica per il sensore ATM05_01479 \n",
    "df_ATM5 = media_Stazione(df_DatiPuliti, stazione[0]).fillna(0)\n",
    "df_ATM5['postazione'] = 'ATM05_01479'\n",
    "df_ATM5"
   ]
  },
  {
   "cell_type": "code",
   "execution_count": null,
   "metadata": {
    "collapsed": true
   },
   "outputs": [],
   "source": [
    "pearson, spearman, kendall = corr_Sensori(creazione_df(df_ATM5, \n",
    "                                              stazione[0], meteo[2], sensore[0], df2 = df_DatiMeteo), stazione[0], meteo[2])\n",
    "print('pearson: ', pearson, ' spearman: ', spearman, ' kendall: ', kendall)\n",
    " "
   ]
  },
  {
   "cell_type": "code",
   "execution_count": null,
   "metadata": {
    "collapsed": true
   },
   "outputs": [],
   "source": [
    "pearson, spearman, kendall = corr_Sensori(creazione_df(df_ATM5, \n",
    "                                              stazione[0], meteo[2], sensore[1], df2 = df_DatiMeteo), stazione[0], meteo[2])\n",
    "print('pearson: ', pearson, ' spearman: ', spearman, ' kendall: ', kendall)\n",
    " "
   ]
  },
  {
   "cell_type": "code",
   "execution_count": null,
   "metadata": {
    "collapsed": true
   },
   "outputs": [],
   "source": [
    "pearson, spearman, kendall = corr_Sensori(creazione_df(df_ATM5, \n",
    "                                              stazione[0], meteo[2], sensore[2], df2 = df_DatiMeteo), stazione[0], meteo[2])\n",
    "print('pearson: ', pearson, ' spearman: ', spearman, ' kendall: ', kendall)\n",
    " "
   ]
  },
  {
   "cell_type": "code",
   "execution_count": null,
   "metadata": {
    "collapsed": true
   },
   "outputs": [],
   "source": [
    "pearson, spearman, kendall = corr_Sensori(creazione_df(df_ATM5, \n",
    "                                              stazione[0], meteo[2], sensore[3], df2 = df_DatiMeteo), stazione[0], meteo[2])\n",
    "print('pearson: ', pearson, ' spearman: ', spearman, ' kendall: ', kendall)\n",
    " "
   ]
  },
  {
   "cell_type": "code",
   "execution_count": null,
   "metadata": {
    "collapsed": true
   },
   "outputs": [],
   "source": [
    "pearson, spearman, kendall = corr_Sensori(creazione_df(df_ATM5, \n",
    "                                              stazione[0], meteo[2], sensore[4], df2 = df_DatiMeteo), stazione[0], meteo[2])\n",
    "print('pearson: ', pearson, ' spearman: ', spearman, ' kendall: ', kendall)\n",
    " "
   ]
  },
  {
   "cell_type": "code",
   "execution_count": null,
   "metadata": {
    "collapsed": true
   },
   "outputs": [],
   "source": [
    "pearson, spearman, kendall = corr_Sensori(creazione_df(df_ATM5, \n",
    "                                              stazione[0], meteo[2], sensore[5], df2 = df_DatiMeteo), stazione[0], meteo[2])\n",
    "print('pearson: ', pearson, ' spearman: ', spearman, ' kendall: ', kendall)\n",
    " "
   ]
  },
  {
   "cell_type": "code",
   "execution_count": null,
   "metadata": {
    "collapsed": true
   },
   "outputs": [],
   "source": [
    "# correlazione con la pressione atmosferica per il sensore ATM07_01480\n",
    "df_ATM7 = media_Stazione(df_DatiPuliti, stazione[1]).fillna(0)\n",
    "df_ATM7['postazione'] = 'ATM07_01480'\n",
    "df_ATM7"
   ]
  },
  {
   "cell_type": "code",
   "execution_count": null,
   "metadata": {
    "collapsed": true
   },
   "outputs": [],
   "source": [
    "pearson, spearman, kendall = corr_Sensori(creazione_df(df_ATM7, \n",
    "                                              stazione[1], meteo[2], sensore[0], df2 = df_DatiMeteo), stazione[1], meteo[2])\n",
    "print('pearson: ', pearson, ' spearman: ', spearman, ' kendall: ', kendall)\n",
    " "
   ]
  },
  {
   "cell_type": "code",
   "execution_count": null,
   "metadata": {
    "collapsed": true
   },
   "outputs": [],
   "source": [
    "pearson, spearman, kendall = corr_Sensori(creazione_df(df_ATM7, \n",
    "                                              stazione[1], meteo[2], sensore[1], df2 = df_DatiMeteo), stazione[1], meteo[2])\n",
    "print('pearson: ', pearson, ' spearman: ', spearman, ' kendall: ', kendall)\n",
    " "
   ]
  },
  {
   "cell_type": "code",
   "execution_count": null,
   "metadata": {
    "collapsed": true
   },
   "outputs": [],
   "source": [
    "pearson, spearman, kendall = corr_Sensori(creazione_df(df_ATM7, \n",
    "                                              stazione[1], meteo[2], sensore[2], df2 = df_DatiMeteo), stazione[1], meteo[2])\n",
    "print('pearson: ', pearson, ' spearman: ', spearman, ' kendall: ', kendall)\n",
    " "
   ]
  },
  {
   "cell_type": "code",
   "execution_count": null,
   "metadata": {
    "collapsed": true
   },
   "outputs": [],
   "source": [
    "pearson, spearman, kendall = corr_Sensori(creazione_df(df_ATM7, \n",
    "                                              stazione[1], meteo[2], sensore[3], df2 = df_DatiMeteo), stazione[1], meteo[2])\n",
    "print('pearson: ', pearson, ' spearman: ', spearman, ' kendall: ', kendall)\n",
    " "
   ]
  },
  {
   "cell_type": "code",
   "execution_count": null,
   "metadata": {
    "collapsed": true
   },
   "outputs": [],
   "source": [
    "pearson, spearman, kendall = corr_Sensori(creazione_df(df_ATM7, \n",
    "                                              stazione[1], meteo[2], sensore[4], df2 = df_DatiMeteo), stazione[1], meteo[2])\n",
    "print('pearson: ', pearson, ' spearman: ', spearman, ' kendall: ', kendall)\n",
    " "
   ]
  },
  {
   "cell_type": "code",
   "execution_count": null,
   "metadata": {
    "collapsed": true
   },
   "outputs": [],
   "source": [
    "pearson, spearman, kendall = corr_Sensori(creazione_df(df_ATM7, \n",
    "                                              stazione[1], meteo[2], sensore[5], df2 = df_DatiMeteo), stazione[1], meteo[2])\n",
    "print('pearson: ', pearson, ' spearman: ', spearman, ' kendall: ', kendall)\n",
    " "
   ]
  },
  {
   "cell_type": "code",
   "execution_count": null,
   "metadata": {
    "collapsed": true
   },
   "outputs": [],
   "source": [
    "# correlazione con la pressione atmosferica per il sensore ATM10_01481\n",
    "df_ATM10 = media_Stazione(df_DatiPuliti, stazione[2]).fillna(0)\n",
    "df_ATM10['postazione'] = 'ATM10_01481'\n",
    "df_ATM10"
   ]
  },
  {
   "cell_type": "code",
   "execution_count": null,
   "metadata": {
    "collapsed": true
   },
   "outputs": [],
   "source": [
    "pearson, spearman, kendall = corr_Sensori(creazione_df(df_ATM10, \n",
    "                                              stazione[2], meteo[2], sensore[0], df2 = df_DatiMeteo), stazione[2], meteo[2])\n",
    "print('pearson: ', pearson, ' spearman: ', spearman, ' kendall: ', kendall)\n",
    " "
   ]
  },
  {
   "cell_type": "code",
   "execution_count": null,
   "metadata": {
    "collapsed": true
   },
   "outputs": [],
   "source": [
    "pearson, spearman, kendall = corr_Sensori(creazione_df(df_ATM10, \n",
    "                                              stazione[2], meteo[2], sensore[1], df2 = df_DatiMeteo), stazione[2], meteo[2])\n",
    "print('pearson: ', pearson, ' spearman: ', spearman, ' kendall: ', kendall)\n",
    " "
   ]
  },
  {
   "cell_type": "code",
   "execution_count": null,
   "metadata": {
    "collapsed": true
   },
   "outputs": [],
   "source": [
    "pearson, spearman, kendall = corr_Sensori(creazione_df(df_ATM10, \n",
    "                                              stazione[2], meteo[2], sensore[2], df2 = df_DatiMeteo), stazione[2], meteo[2])\n",
    "print('pearson: ', pearson, ' spearman: ', spearman, ' kendall: ', kendall)\n",
    " "
   ]
  },
  {
   "cell_type": "code",
   "execution_count": null,
   "metadata": {
    "collapsed": true
   },
   "outputs": [],
   "source": [
    "pearson, spearman, kendall = corr_Sensori(creazione_df(df_ATM10, \n",
    "                                              stazione[2], meteo[2], sensore[3], df2 = df_DatiMeteo), stazione[2], meteo[2])\n",
    "print('pearson: ', pearson, ' spearman: ', spearman, ' kendall: ', kendall)\n",
    " "
   ]
  },
  {
   "cell_type": "code",
   "execution_count": null,
   "metadata": {
    "collapsed": true
   },
   "outputs": [],
   "source": [
    "pearson, spearman, kendall = corr_Sensori(creazione_df(df_ATM10, \n",
    "                                              stazione[2], meteo[2], sensore[4], df2 = df_DatiMeteo), stazione[2], meteo[2])\n",
    "print('pearson: ', pearson, ' spearman: ', spearman, ' kendall: ', kendall)\n",
    " "
   ]
  },
  {
   "cell_type": "code",
   "execution_count": null,
   "metadata": {
    "collapsed": true
   },
   "outputs": [],
   "source": [
    "pearson, spearman, kendall = corr_Sensori(creazione_df(df_ATM10, \n",
    "                                              stazione[2], meteo[2], sensore[5], df2 = df_DatiMeteo), stazione[2], meteo[2])\n",
    "print('pearson: ', pearson, ' spearman: ', spearman, ' kendall: ', kendall)\n",
    " "
   ]
  },
  {
   "cell_type": "code",
   "execution_count": null,
   "metadata": {
    "collapsed": true
   },
   "outputs": [],
   "source": [
    "# correlazione con la pressione atmosferica per il sensore ATM14_01486\n",
    "df_ATM14 = media_Stazione(df_DatiPuliti, stazione[3]).fillna(0)\n",
    "df_ATM14['postazione'] = 'ATM14_01486'\n",
    "df_ATM14"
   ]
  },
  {
   "cell_type": "code",
   "execution_count": null,
   "metadata": {
    "collapsed": true
   },
   "outputs": [],
   "source": [
    "pearson, spearman, kendall = corr_Sensori(creazione_df(df_ATM14, \n",
    "                                              stazione[3], meteo[2], sensore[0], df2 = df_DatiMeteo), stazione[3], meteo[2])\n",
    "print('pearson: ', pearson, ' spearman: ', spearman, ' kendall: ', kendall)\n",
    " "
   ]
  },
  {
   "cell_type": "code",
   "execution_count": null,
   "metadata": {
    "collapsed": true
   },
   "outputs": [],
   "source": [
    "pearson, spearman, kendall = corr_Sensori(creazione_df(df_ATM14, \n",
    "                                              stazione[3], meteo[2], sensore[1], df2 = df_DatiMeteo), stazione[3], meteo[2])\n",
    "print('pearson: ', pearson, ' spearman: ', spearman, ' kendall: ', kendall)\n",
    " "
   ]
  },
  {
   "cell_type": "code",
   "execution_count": null,
   "metadata": {
    "collapsed": true
   },
   "outputs": [],
   "source": [
    "pearson, spearman, kendall = corr_Sensori(creazione_df(df_ATM14, \n",
    "                                              stazione[3], meteo[2], sensore[2], df2 = df_DatiMeteo), stazione[3], meteo[2])\n",
    "print('pearson: ', pearson, ' spearman: ', spearman, ' kendall: ', kendall)\n",
    " "
   ]
  },
  {
   "cell_type": "code",
   "execution_count": null,
   "metadata": {
    "collapsed": true
   },
   "outputs": [],
   "source": [
    "pearson, spearman, kendall = corr_Sensori(creazione_df(df_ATM14, \n",
    "                                              stazione[3], meteo[2], sensore[3], df2 = df_DatiMeteo), stazione[3], meteo[2])\n",
    "print('pearson: ', pearson, ' spearman: ', spearman, ' kendall: ', kendall)\n",
    " "
   ]
  },
  {
   "cell_type": "code",
   "execution_count": null,
   "metadata": {
    "collapsed": true
   },
   "outputs": [],
   "source": [
    "pearson, spearman, kendall = corr_Sensori(creazione_df(df_ATM14, \n",
    "                                              stazione[3], meteo[2], sensore[4], df2 = df_DatiMeteo), stazione[3], meteo[2])\n",
    "print('pearson: ', pearson, ' spearman: ', spearman, ' kendall: ', kendall)\n",
    " "
   ]
  },
  {
   "cell_type": "code",
   "execution_count": null,
   "metadata": {
    "collapsed": true
   },
   "outputs": [],
   "source": [
    "pearson, spearman, kendall = corr_Sensori(creazione_df(df_ATM14, \n",
    "                                              stazione[3], meteo[2], sensore[5], df2 = df_DatiMeteo), stazione[3], meteo[2])\n",
    "print('pearson: ', pearson, ' spearman: ', spearman, ' kendall: ', kendall)\n",
    " "
   ]
  },
  {
   "cell_type": "markdown",
   "metadata": {},
   "source": [
    "# CORRELAZIONE 11"
   ]
  },
  {
   "cell_type": "code",
   "execution_count": null,
   "metadata": {
    "collapsed": true
   },
   "outputs": [],
   "source": [
    "# correlazione con l'intensità del vento per il sensore ATM05_01479 \n",
    "df_ATM5 = media_Stazione(df_DatiPuliti, stazione[0]).fillna(0)\n",
    "df_ATM5['postazione'] = 'ATM05_01479'\n",
    "df_ATM5"
   ]
  },
  {
   "cell_type": "code",
   "execution_count": null,
   "metadata": {
    "collapsed": true
   },
   "outputs": [],
   "source": [
    "pearson, spearman, kendall = corr_Sensori(creazione_df(df_ATM5, \n",
    "                                              stazione[0], meteo[3], sensore[0], df2 = df_DatiMeteo), stazione[0], meteo[3])\n",
    "print('pearson: ', pearson, ' spearman: ', spearman, ' kendall: ', kendall)\n",
    " "
   ]
  },
  {
   "cell_type": "code",
   "execution_count": null,
   "metadata": {
    "collapsed": true
   },
   "outputs": [],
   "source": [
    "pearson, spearman, kendall = corr_Sensori(creazione_df(df_ATM5, \n",
    "                                              stazione[0], meteo[3], sensore[1], df2 = df_DatiMeteo), stazione[0], meteo[3])\n",
    "print('pearson: ', pearson, ' spearman: ', spearman, ' kendall: ', kendall)\n",
    " "
   ]
  },
  {
   "cell_type": "code",
   "execution_count": null,
   "metadata": {
    "collapsed": true
   },
   "outputs": [],
   "source": [
    "pearson, spearman, kendall = corr_Sensori(creazione_df(df_ATM5, \n",
    "                                              stazione[0], meteo[3], sensore[2], df2 = df_DatiMeteo), stazione[0], meteo[3])\n",
    "print('pearson: ', pearson, ' spearman: ', spearman, ' kendall: ', kendall)\n",
    " "
   ]
  },
  {
   "cell_type": "code",
   "execution_count": null,
   "metadata": {
    "collapsed": true
   },
   "outputs": [],
   "source": [
    "pearson, spearman, kendall = corr_Sensori(creazione_df(df_ATM5, \n",
    "                                              stazione[0], meteo[3], sensore[3], df2 = df_DatiMeteo), stazione[0], meteo[3])\n",
    "print('pearson: ', pearson, ' spearman: ', spearman, ' kendall: ', kendall)\n",
    " "
   ]
  },
  {
   "cell_type": "code",
   "execution_count": null,
   "metadata": {
    "collapsed": true
   },
   "outputs": [],
   "source": [
    "pearson, spearman, kendall = corr_Sensori(creazione_df(df_ATM5, \n",
    "                                              stazione[0], meteo[3], sensore[4], df2 = df_DatiMeteo), stazione[0], meteo[3])\n",
    "print('pearson: ', pearson, ' spearman: ', spearman, ' kendall: ', kendall)\n",
    " "
   ]
  },
  {
   "cell_type": "code",
   "execution_count": null,
   "metadata": {
    "collapsed": true
   },
   "outputs": [],
   "source": [
    "pearson, spearman, kendall = corr_Sensori(creazione_df(df_ATM5, \n",
    "                                              stazione[0], meteo[3], sensore[5], df2 = df_DatiMeteo), stazione[0], meteo[3])\n",
    "print('pearson: ', pearson, ' spearman: ', spearman, ' kendall: ', kendall)\n",
    " "
   ]
  },
  {
   "cell_type": "code",
   "execution_count": null,
   "metadata": {
    "collapsed": true
   },
   "outputs": [],
   "source": [
    "# correlazione con l'intensità del vento per il sensore ATM07_01480\n",
    "df_ATM7 = media_Stazione(df_DatiPuliti, stazione[1]).fillna(0)\n",
    "df_ATM7['postazione'] = 'ATM07_01480'\n",
    "df_ATM7"
   ]
  },
  {
   "cell_type": "code",
   "execution_count": null,
   "metadata": {
    "collapsed": true
   },
   "outputs": [],
   "source": [
    "pearson, spearman, kendall = corr_Sensori(creazione_df(df_ATM7, \n",
    "                                              stazione[1], meteo[3], sensore[0], df2 = df_DatiMeteo), stazione[1], meteo[3])\n",
    "print('pearson: ', pearson, ' spearman: ', spearman, ' kendall: ', kendall)\n",
    " "
   ]
  },
  {
   "cell_type": "code",
   "execution_count": null,
   "metadata": {
    "collapsed": true
   },
   "outputs": [],
   "source": [
    "pearson, spearman, kendall = corr_Sensori(creazione_df(df_ATM7, \n",
    "                                              stazione[1], meteo[3], sensore[1], df2 = df_DatiMeteo), stazione[1], meteo[3])\n",
    "print('pearson: ', pearson, ' spearman: ', spearman, ' kendall: ', kendall)\n",
    " "
   ]
  },
  {
   "cell_type": "code",
   "execution_count": null,
   "metadata": {
    "collapsed": true
   },
   "outputs": [],
   "source": [
    "pearson, spearman, kendall = corr_Sensori(creazione_df(df_ATM7, \n",
    "                                              stazione[1], meteo[3], sensore[2], df2 = df_DatiMeteo), stazione[1], meteo[3])\n",
    "print('pearson: ', pearson, ' spearman: ', spearman, ' kendall: ', kendall)\n",
    " "
   ]
  },
  {
   "cell_type": "code",
   "execution_count": null,
   "metadata": {
    "collapsed": true
   },
   "outputs": [],
   "source": [
    "pearson, spearman, kendall = corr_Sensori(creazione_df(df_ATM7, \n",
    "                                              stazione[1], meteo[3], sensore[3], df2 = df_DatiMeteo), stazione[1], meteo[3])\n",
    "print('pearson: ', pearson, ' spearman: ', spearman, ' kendall: ', kendall)\n",
    " "
   ]
  },
  {
   "cell_type": "code",
   "execution_count": null,
   "metadata": {
    "collapsed": true
   },
   "outputs": [],
   "source": [
    "pearson, spearman, kendall = corr_Sensori(creazione_df(df_ATM7, \n",
    "                                              stazione[1], meteo[3], sensore[4], df2 = df_DatiMeteo), stazione[1], meteo[3])\n",
    "print('pearson: ', pearson, ' spearman: ', spearman, ' kendall: ', kendall)\n",
    " "
   ]
  },
  {
   "cell_type": "code",
   "execution_count": null,
   "metadata": {
    "collapsed": true
   },
   "outputs": [],
   "source": [
    "pearson, spearman, kendall = corr_Sensori(creazione_df(df_ATM7, \n",
    "                                              stazione[1], meteo[3], sensore[5], df2 = df_DatiMeteo), stazione[1], meteo[3])\n",
    "print('pearson: ', pearson, ' spearman: ', spearman, ' kendall: ', kendall)\n",
    " "
   ]
  },
  {
   "cell_type": "code",
   "execution_count": null,
   "metadata": {
    "collapsed": true
   },
   "outputs": [],
   "source": [
    "# correlazione con l'intensità del vento per il sensore ATM10_01481\n",
    "df_ATM10 = media_Stazione(df_DatiPuliti, stazione[2]).fillna(0)\n",
    "df_ATM10['postazione'] = 'ATM10_01481'\n",
    "df_ATM10"
   ]
  },
  {
   "cell_type": "code",
   "execution_count": null,
   "metadata": {
    "collapsed": true
   },
   "outputs": [],
   "source": [
    "pearson, spearman, kendall = corr_Sensori(creazione_df(df_ATM10, \n",
    "                                              stazione[2], meteo[3], sensore[0], df2 = df_DatiMeteo), stazione[2], meteo[3])\n",
    "print('pearson: ', pearson, ' spearman: ', spearman, ' kendall: ', kendall)\n",
    " "
   ]
  },
  {
   "cell_type": "code",
   "execution_count": null,
   "metadata": {
    "collapsed": true
   },
   "outputs": [],
   "source": [
    "pearson, spearman, kendall = corr_Sensori(creazione_df(df_ATM10, \n",
    "                                              stazione[2], meteo[3], sensore[1], df2 = df_DatiMeteo), stazione[2], meteo[3])\n",
    "print('pearson: ', pearson, ' spearman: ', spearman, ' kendall: ', kendall)\n",
    " "
   ]
  },
  {
   "cell_type": "code",
   "execution_count": null,
   "metadata": {
    "collapsed": true
   },
   "outputs": [],
   "source": [
    "pearson, spearman, kendall = corr_Sensori(creazione_df(df_ATM10, \n",
    "                                              stazione[2], meteo[3], sensore[2], df2 = df_DatiMeteo), stazione[2], meteo[3])\n",
    "print('pearson: ', pearson, ' spearman: ', spearman, ' kendall: ', kendall)\n",
    " "
   ]
  },
  {
   "cell_type": "code",
   "execution_count": null,
   "metadata": {
    "collapsed": true
   },
   "outputs": [],
   "source": [
    "pearson, spearman, kendall = corr_Sensori(creazione_df(df_ATM10, \n",
    "                                              stazione[2], meteo[3], sensore[3], df2 = df_DatiMeteo), stazione[2], meteo[3])\n",
    "print('pearson: ', pearson, ' spearman: ', spearman, ' kendall: ', kendall)\n",
    " "
   ]
  },
  {
   "cell_type": "code",
   "execution_count": null,
   "metadata": {
    "collapsed": true
   },
   "outputs": [],
   "source": [
    "pearson, spearman, kendall = corr_Sensori(creazione_df(df_ATM10, \n",
    "                                              stazione[2], meteo[3], sensore[4], df2 = df_DatiMeteo), stazione[2], meteo[3])\n",
    "print('pearson: ', pearson, ' spearman: ', spearman, ' kendall: ', kendall)\n",
    " "
   ]
  },
  {
   "cell_type": "code",
   "execution_count": null,
   "metadata": {
    "collapsed": true
   },
   "outputs": [],
   "source": [
    "pearson, spearman, kendall = corr_Sensori(creazione_df(df_ATM10, \n",
    "                                              stazione[2], meteo[3], sensore[5], df2 = df_DatiMeteo), stazione[2], meteo[3])\n",
    "print('pearson: ', pearson, ' spearman: ', spearman, ' kendall: ', kendall)\n"
   ]
  },
  {
   "cell_type": "code",
   "execution_count": null,
   "metadata": {
    "collapsed": true
   },
   "outputs": [],
   "source": [
    "# correlazione con l'intensità del vento per il sensore ATM14_01486\n",
    "df_ATM14 = media_Stazione(df_DatiPuliti, stazione[3])\n",
    "df_ATM14['postazione'] = 'ATM14_01486'\n",
    "df_ATM14"
   ]
  },
  {
   "cell_type": "code",
   "execution_count": null,
   "metadata": {
    "collapsed": true
   },
   "outputs": [],
   "source": [
    "pearson, spearman, kendall = corr_Sensori(creazione_df(df_ATM14, \n",
    "                                              stazione[3], meteo[3], sensore[0], df2 = df_DatiMeteo), stazione[3], meteo[3])\n",
    "print('pearson: ', pearson, ' spearman: ', spearman, ' kendall: ', kendall)\n",
    " "
   ]
  },
  {
   "cell_type": "code",
   "execution_count": null,
   "metadata": {
    "collapsed": true
   },
   "outputs": [],
   "source": [
    "pearson, spearman, kendall = corr_Sensori(creazione_df(df_ATM14, \n",
    "                                              stazione[3], meteo[3], sensore[1], df2 = df_DatiMeteo), stazione[3], meteo[3])\n",
    "print('pearson: ', pearson, ' spearman: ', spearman, ' kendall: ', kendall)\n",
    " "
   ]
  },
  {
   "cell_type": "code",
   "execution_count": null,
   "metadata": {
    "collapsed": true
   },
   "outputs": [],
   "source": [
    "pearson, spearman, kendall = corr_Sensori(creazione_df(df_ATM14, \n",
    "                                              stazione[3], meteo[3], sensore[2], df2 = df_DatiMeteo), stazione[3], meteo[3])\n",
    "print('pearson: ', pearson, ' spearman: ', spearman, ' kendall: ', kendall)\n",
    " "
   ]
  },
  {
   "cell_type": "code",
   "execution_count": null,
   "metadata": {
    "collapsed": true
   },
   "outputs": [],
   "source": [
    "pearson, spearman, kendall = corr_Sensori(creazione_df(df_ATM14, \n",
    "                                              stazione[3], meteo[3], sensore[3], df2 = df_DatiMeteo), stazione[3], meteo[3])\n",
    "print('pearson: ', pearson, ' spearman: ', spearman, ' kendall: ', kendall)\n",
    " "
   ]
  },
  {
   "cell_type": "code",
   "execution_count": null,
   "metadata": {
    "collapsed": true
   },
   "outputs": [],
   "source": [
    "pearson, spearman, kendall = corr_Sensori(creazione_df(df_ATM14, \n",
    "                                              stazione[3], meteo[3], sensore[4], df2 = df_DatiMeteo), stazione[3], meteo[3])\n",
    "print('pearson: ', pearson, ' spearman: ', spearman, ' kendall: ', kendall)\n",
    " "
   ]
  },
  {
   "cell_type": "code",
   "execution_count": null,
   "metadata": {
    "collapsed": true
   },
   "outputs": [],
   "source": [
    "pearson, spearman, kendall = corr_Sensori(creazione_df(df_ATM14, \n",
    "                                              stazione[3], meteo[3], sensore[5], df2 = df_DatiMeteo), stazione[3], meteo[3])\n",
    "print('pearson: ', pearson, ' spearman: ', spearman, ' kendall: ', kendall)"
   ]
  },
  {
   "cell_type": "code",
   "execution_count": null,
   "metadata": {
    "collapsed": true
   },
   "outputs": [],
   "source": []
  }
 ],
 "metadata": {
  "colab": {
   "name": "ElaborazioneDati.ipynb",
   "provenance": []
  },
  "kernelspec": {
   "display_name": "Python 3 (ipykernel)",
   "language": "python",
   "name": "python3"
  },
  "language_info": {
   "codemirror_mode": {
    "name": "ipython",
    "version": 3
   },
   "file_extension": ".py",
   "mimetype": "text/x-python",
   "name": "python",
   "nbconvert_exporter": "python",
   "pygments_lexer": "ipython3",
   "version": "3.9.5"
  }
 },
 "nbformat": 4,
 "nbformat_minor": 1
}
