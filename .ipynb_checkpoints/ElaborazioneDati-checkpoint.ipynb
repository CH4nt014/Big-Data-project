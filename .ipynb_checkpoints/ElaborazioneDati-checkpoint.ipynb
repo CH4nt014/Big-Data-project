{
 "cells": [
  {
   "cell_type": "code",
   "execution_count": null,
   "metadata": {
    "id": "jRWos7EAz5ne",
    "scrolled": true
   },
   "outputs": [],
   "source": [
    "# Grupppo 1"
   ]
  },
  {
   "cell_type": "code",
   "execution_count": 10,
   "metadata": {
    "executionInfo": {
     "elapsed": 740,
     "status": "ok",
     "timestamp": 1655304178382,
     "user": {
      "displayName": "Carmine Martinelli",
      "userId": "17979448709595778797"
     },
     "user_tz": -120
    },
    "id": "asX5o8d9AMMy",
    "scrolled": true
   },
   "outputs": [],
   "source": [
    "import pandas as pd\n",
    "import numpy as np\n",
    "import operator\n",
    "import os"
   ]
  },
  {
   "cell_type": "code",
   "execution_count": 12,
   "metadata": {},
   "outputs": [],
   "source": [
    "os.makedirs('C:/Users/Antonio/Desktop/Università/Big-Data-21-22-Gruppo1', exist_ok=True)"
   ]
  },
  {
   "cell_type": "code",
   "execution_count": 40,
   "metadata": {
    "executionInfo": {
     "elapsed": 44414,
     "status": "ok",
     "timestamp": 1655304225101,
     "user": {
      "displayName": "Carmine Martinelli",
      "userId": "17979448709595778797"
     },
     "user_tz": -120
    },
    "id": "7eM0PG6QUg8c",
    "scrolled": false
   },
   "outputs": [],
   "source": [
    "# Importa i dati dal file excel\n",
    "#Modifica la precisione nella visualizzazione delle cifre\n",
    "pd.options.display.precision = 10\n",
    "\n",
    "#Legge il csv e lo stampa\n",
    "df_DatiSensori = pd.read_excel('Dati_gruppo1.xlsx')"
   ]
  },
  {
   "cell_type": "code",
   "execution_count": 46,
   "metadata": {
    "id": "hdQ5HrWPz5nk"
   },
   "outputs": [
    {
     "data": {
      "text/html": [
       "<div>\n",
       "<style scoped>\n",
       "    .dataframe tbody tr th:only-of-type {\n",
       "        vertical-align: middle;\n",
       "    }\n",
       "\n",
       "    .dataframe tbody tr th {\n",
       "        vertical-align: top;\n",
       "    }\n",
       "\n",
       "    .dataframe thead th {\n",
       "        text-align: right;\n",
       "    }\n",
       "</style>\n",
       "<table border=\"1\" class=\"dataframe\">\n",
       "  <thead>\n",
       "    <tr style=\"text-align: right;\">\n",
       "      <th></th>\n",
       "      <th>postazione</th>\n",
       "      <th>Data</th>\n",
       "      <th>TRS_ppb</th>\n",
       "      <th>TRS_stato</th>\n",
       "      <th>VOC_ppm</th>\n",
       "      <th>VOC_stato</th>\n",
       "      <th>C6H6_ug/m3</th>\n",
       "      <th>C6H6_stato</th>\n",
       "      <th>H2S_ug/m3</th>\n",
       "      <th>H2S_stato</th>\n",
       "      <th>H2SJ_ug/m3</th>\n",
       "      <th>H2SJ_stato</th>\n",
       "      <th>PIDVOC_ppb</th>\n",
       "      <th>PIDVOC_stato</th>\n",
       "    </tr>\n",
       "  </thead>\n",
       "  <tbody>\n",
       "    <tr>\n",
       "      <th>0</th>\n",
       "      <td>ATM05_01479</td>\n",
       "      <td>2021-04-12 00:00:00</td>\n",
       "      <td>2.0000000000</td>\n",
       "      <td>K</td>\n",
       "      <td>0.0</td>\n",
       "      <td>K</td>\n",
       "      <td>0.3000000119</td>\n",
       "      <td>K</td>\n",
       "      <td>0.0000000000</td>\n",
       "      <td>K</td>\n",
       "      <td>0.0</td>\n",
       "      <td>K</td>\n",
       "      <td>44.5999984741</td>\n",
       "      <td>K</td>\n",
       "    </tr>\n",
       "    <tr>\n",
       "      <th>1</th>\n",
       "      <td>ATM05_01479</td>\n",
       "      <td>2021-04-12 00:05:00</td>\n",
       "      <td>0.0000000000</td>\n",
       "      <td>K</td>\n",
       "      <td>0.0</td>\n",
       "      <td>K</td>\n",
       "      <td>0.2000000030</td>\n",
       "      <td>K</td>\n",
       "      <td>0.2000000030</td>\n",
       "      <td>K</td>\n",
       "      <td>0.0</td>\n",
       "      <td>K</td>\n",
       "      <td>44.0000000000</td>\n",
       "      <td>K</td>\n",
       "    </tr>\n",
       "    <tr>\n",
       "      <th>2</th>\n",
       "      <td>ATM05_01479</td>\n",
       "      <td>2021-04-12 00:10:00</td>\n",
       "      <td>0.0000000000</td>\n",
       "      <td>K</td>\n",
       "      <td>0.0</td>\n",
       "      <td>K</td>\n",
       "      <td>0.2000000030</td>\n",
       "      <td>K</td>\n",
       "      <td>1.7000000477</td>\n",
       "      <td>K</td>\n",
       "      <td>0.0</td>\n",
       "      <td>K</td>\n",
       "      <td>44.2000007629</td>\n",
       "      <td>K</td>\n",
       "    </tr>\n",
       "    <tr>\n",
       "      <th>3</th>\n",
       "      <td>ATM05_01479</td>\n",
       "      <td>2021-04-12 00:15:00</td>\n",
       "      <td>11.8999996185</td>\n",
       "      <td>K</td>\n",
       "      <td>0.0</td>\n",
       "      <td>K</td>\n",
       "      <td>0.2000000030</td>\n",
       "      <td>K</td>\n",
       "      <td>1.8999999762</td>\n",
       "      <td>K</td>\n",
       "      <td>0.0</td>\n",
       "      <td>K</td>\n",
       "      <td>44.4000015259</td>\n",
       "      <td>K</td>\n",
       "    </tr>\n",
       "    <tr>\n",
       "      <th>4</th>\n",
       "      <td>ATM05_01479</td>\n",
       "      <td>2021-04-12 00:20:00</td>\n",
       "      <td>26.1000003815</td>\n",
       "      <td>K</td>\n",
       "      <td>0.0</td>\n",
       "      <td>K</td>\n",
       "      <td>0.2000000030</td>\n",
       "      <td>K</td>\n",
       "      <td>2.5000000000</td>\n",
       "      <td>K</td>\n",
       "      <td>0.0</td>\n",
       "      <td>K</td>\n",
       "      <td>40.7999992371</td>\n",
       "      <td>K</td>\n",
       "    </tr>\n",
       "    <tr>\n",
       "      <th>...</th>\n",
       "      <td>...</td>\n",
       "      <td>...</td>\n",
       "      <td>...</td>\n",
       "      <td>...</td>\n",
       "      <td>...</td>\n",
       "      <td>...</td>\n",
       "      <td>...</td>\n",
       "      <td>...</td>\n",
       "      <td>...</td>\n",
       "      <td>...</td>\n",
       "      <td>...</td>\n",
       "      <td>...</td>\n",
       "      <td>...</td>\n",
       "      <td>...</td>\n",
       "    </tr>\n",
       "    <tr>\n",
       "      <th>153211</th>\n",
       "      <td>ATM14_01486</td>\n",
       "      <td>NaT</td>\n",
       "      <td>NaN</td>\n",
       "      <td>ND</td>\n",
       "      <td>NaN</td>\n",
       "      <td>ND</td>\n",
       "      <td>NaN</td>\n",
       "      <td>ND</td>\n",
       "      <td>NaN</td>\n",
       "      <td>ND</td>\n",
       "      <td>NaN</td>\n",
       "      <td>ND</td>\n",
       "      <td>NaN</td>\n",
       "      <td>ND</td>\n",
       "    </tr>\n",
       "    <tr>\n",
       "      <th>153212</th>\n",
       "      <td>ATM14_01486</td>\n",
       "      <td>NaT</td>\n",
       "      <td>NaN</td>\n",
       "      <td>ND</td>\n",
       "      <td>NaN</td>\n",
       "      <td>ND</td>\n",
       "      <td>NaN</td>\n",
       "      <td>ND</td>\n",
       "      <td>NaN</td>\n",
       "      <td>ND</td>\n",
       "      <td>NaN</td>\n",
       "      <td>ND</td>\n",
       "      <td>NaN</td>\n",
       "      <td>ND</td>\n",
       "    </tr>\n",
       "    <tr>\n",
       "      <th>153213</th>\n",
       "      <td>ATM14_01486</td>\n",
       "      <td>NaT</td>\n",
       "      <td>NaN</td>\n",
       "      <td>ND</td>\n",
       "      <td>NaN</td>\n",
       "      <td>ND</td>\n",
       "      <td>NaN</td>\n",
       "      <td>ND</td>\n",
       "      <td>NaN</td>\n",
       "      <td>ND</td>\n",
       "      <td>NaN</td>\n",
       "      <td>ND</td>\n",
       "      <td>NaN</td>\n",
       "      <td>ND</td>\n",
       "    </tr>\n",
       "    <tr>\n",
       "      <th>153214</th>\n",
       "      <td>ATM14_01486</td>\n",
       "      <td>NaT</td>\n",
       "      <td>NaN</td>\n",
       "      <td>ND</td>\n",
       "      <td>NaN</td>\n",
       "      <td>ND</td>\n",
       "      <td>NaN</td>\n",
       "      <td>ND</td>\n",
       "      <td>NaN</td>\n",
       "      <td>ND</td>\n",
       "      <td>NaN</td>\n",
       "      <td>ND</td>\n",
       "      <td>NaN</td>\n",
       "      <td>ND</td>\n",
       "    </tr>\n",
       "    <tr>\n",
       "      <th>153215</th>\n",
       "      <td>ATM14_01486</td>\n",
       "      <td>NaT</td>\n",
       "      <td>NaN</td>\n",
       "      <td>ND</td>\n",
       "      <td>NaN</td>\n",
       "      <td>ND</td>\n",
       "      <td>NaN</td>\n",
       "      <td>ND</td>\n",
       "      <td>NaN</td>\n",
       "      <td>ND</td>\n",
       "      <td>NaN</td>\n",
       "      <td>ND</td>\n",
       "      <td>NaN</td>\n",
       "      <td>ND</td>\n",
       "    </tr>\n",
       "  </tbody>\n",
       "</table>\n",
       "<p>153216 rows × 14 columns</p>\n",
       "</div>"
      ],
      "text/plain": [
       "         postazione                Data        TRS_ppb TRS_stato  VOC_ppm  \\\n",
       "0       ATM05_01479 2021-04-12 00:00:00   2.0000000000         K      0.0   \n",
       "1       ATM05_01479 2021-04-12 00:05:00   0.0000000000         K      0.0   \n",
       "2       ATM05_01479 2021-04-12 00:10:00   0.0000000000         K      0.0   \n",
       "3       ATM05_01479 2021-04-12 00:15:00  11.8999996185         K      0.0   \n",
       "4       ATM05_01479 2021-04-12 00:20:00  26.1000003815         K      0.0   \n",
       "...             ...                 ...            ...       ...      ...   \n",
       "153211  ATM14_01486                 NaT            NaN        ND      NaN   \n",
       "153212  ATM14_01486                 NaT            NaN        ND      NaN   \n",
       "153213  ATM14_01486                 NaT            NaN        ND      NaN   \n",
       "153214  ATM14_01486                 NaT            NaN        ND      NaN   \n",
       "153215  ATM14_01486                 NaT            NaN        ND      NaN   \n",
       "\n",
       "       VOC_stato    C6H6_ug/m3 C6H6_stato     H2S_ug/m3 H2S_stato  H2SJ_ug/m3  \\\n",
       "0              K  0.3000000119          K  0.0000000000         K         0.0   \n",
       "1              K  0.2000000030          K  0.2000000030         K         0.0   \n",
       "2              K  0.2000000030          K  1.7000000477         K         0.0   \n",
       "3              K  0.2000000030          K  1.8999999762         K         0.0   \n",
       "4              K  0.2000000030          K  2.5000000000         K         0.0   \n",
       "...          ...           ...        ...           ...       ...         ...   \n",
       "153211        ND           NaN         ND           NaN        ND         NaN   \n",
       "153212        ND           NaN         ND           NaN        ND         NaN   \n",
       "153213        ND           NaN         ND           NaN        ND         NaN   \n",
       "153214        ND           NaN         ND           NaN        ND         NaN   \n",
       "153215        ND           NaN         ND           NaN        ND         NaN   \n",
       "\n",
       "       H2SJ_stato     PIDVOC_ppb PIDVOC_stato  \n",
       "0               K  44.5999984741            K  \n",
       "1               K  44.0000000000            K  \n",
       "2               K  44.2000007629            K  \n",
       "3               K  44.4000015259            K  \n",
       "4               K  40.7999992371            K  \n",
       "...           ...            ...          ...  \n",
       "153211         ND            NaN           ND  \n",
       "153212         ND            NaN           ND  \n",
       "153213         ND            NaN           ND  \n",
       "153214         ND            NaN           ND  \n",
       "153215         ND            NaN           ND  \n",
       "\n",
       "[153216 rows x 14 columns]"
      ]
     },
     "execution_count": 46,
     "metadata": {},
     "output_type": "execute_result"
    }
   ],
   "source": [
    "#Mostra tutte le colonne\n",
    "# pd.set_option('display.max_rows', None)\n",
    "\n",
    "# dataset iniziale\n",
    "df_DatiSensori\n",
    "\n",
    "# dataset con i duplicati eliminati\n",
    "# df_DatiSensori = df_DatiSensori.drop_duplicates()"
   ]
  },
  {
   "cell_type": "code",
   "execution_count": null,
   "metadata": {},
   "outputs": [],
   "source": [
    "# Query 1"
   ]
  },
  {
   "cell_type": "code",
   "execution_count": null,
   "metadata": {
    "colab": {
     "base_uri": "https://localhost:8080/",
     "height": 424
    },
    "executionInfo": {
     "elapsed": 258,
     "status": "ok",
     "timestamp": 1655304229556,
     "user": {
      "displayName": "Carmine Martinelli",
      "userId": "17979448709595778797"
     },
     "user_tz": -120
    },
    "id": "Jp4Vpjsgz5nl",
    "outputId": "92fbd876-807c-4d8e-d24a-e0d0a2ddcc8e"
   },
   "outputs": [],
   "source": [
    "# query effettuata con un unico comando\n",
    "# df_Benzene = df_DatiSensori.sort_values(by='C6H6_ug/m3', ascending =False)[['postazione', 'Data', 'C6H6_ug/m3']].head(100)\n",
    "\n",
    "# creazione di un dataFrame ordinato in modo discendente per i valori di benzene\n",
    "df_C6H6 = df_DatiSensori.sort_values(by='C6H6_ug/m3', ascending =False).drop_duplicates(subset=['Data'])\n",
    "# creazione di un dataFrame contenente i 100 maggiori valori di benzene\n",
    "query_C6H6 = df_C6H6[['postazione', 'Data', 'C6H6_ug/m3']]\n",
    "query_C6H6.head(100)"
   ]
  },
  {
   "cell_type": "code",
   "execution_count": null,
   "metadata": {},
   "outputs": [],
   "source": [
    "# Query 2"
   ]
  },
  {
   "cell_type": "code",
   "execution_count": null,
   "metadata": {
    "id": "J5TlwbyEz5nm",
    "scrolled": true
   },
   "outputs": [],
   "source": [
    "# sensore H2S\n",
    "\n",
    "# query effettuata con un unico comando\n",
    "# df_H2S = df_DatiSensori.sort_values(by='H2S_ug/m3', ascending =False)[['postazione', 'Data', 'H2S_ug/m3']].head(100)\n",
    "# creazione di un dataFrame ordinato in modo discendente per i valori di acido solfidrico del sensore H2S\n",
    "df_H2S = df_DatiSensori.sort_values(by='H2S_ug/m3', ascending =False).drop_duplicates(subset=['Data'])\n",
    "# creazione di un dataFrame contenente i 100 maggiori valori di acido solfidrico del sensore H2SJ\n",
    "query_H2S = df_H2S[['postazione', 'Data', 'H2S_ug/m3', 'H2SJ_ug/m3']].head(100)\n",
    "query_H2S"
   ]
  },
  {
   "cell_type": "code",
   "execution_count": null,
   "metadata": {
    "id": "42y6B_Svz5nm",
    "scrolled": false
   },
   "outputs": [],
   "source": [
    "# sensore H2SJ\n",
    "\n",
    "# query effettuata con un unico comando\n",
    "# df_H2SJ = df_DatiSensori.sort_values(by='H2SJ_ug/m3', ascending =False)[['postazione', 'Data', 'H2SJ_ug/m3']].head(100)\n",
    "# creazione di un dataFrame ordinato in modo discendente per i valori di acido solfidrico del sensore H2SJ\n",
    "df_H2SJ = df_DatiSensori.sort_values(by='H2SJ_ug/m3', ascending =False).drop_duplicates(subset=['Data'])\n",
    "# creazione di un dataFrame contenente i 100 maggiori valori di acido solfidrico del sensore H2SJ\n",
    "query_H2SJ = df_H2SJ[['postazione', 'Data', 'H2SJ_ug/m3']].head(100)\n",
    "query_H2SJ"
   ]
  },
  {
   "cell_type": "code",
   "execution_count": null,
   "metadata": {},
   "outputs": [],
   "source": [
    "# Query 3"
   ]
  },
  {
   "cell_type": "code",
   "execution_count": null,
   "metadata": {
    "id": "RAzMuBQWz5nn",
    "scrolled": false
   },
   "outputs": [],
   "source": [
    "# sensore VOC\n",
    "\n",
    "# query effettuata con un unico comando\n",
    "# df_VOC = df_DatiSensori.sort_values(by='VOC_ppm', ascending =True)[['postazione', 'Data', 'VOC_ppm']].head(100)\n",
    "# creazione di un dataFrame ordinato in modo discendente per i valori del sensore VOC\n",
    "df_VOC = df_DatiSensori.sort_values(by='VOC_ppm', ascending =True).drop_duplicates(subset=['Data'])\n",
    "# creazione di un dataFrame contenente i 100 più bassi valori del sensore VOC\n",
    "query_VOC = df_VOC[['postazione', 'Data', 'VOC_ppm']].head(100)\n",
    "query_VOC"
   ]
  },
  {
   "cell_type": "code",
   "execution_count": null,
   "metadata": {
    "id": "TQcNGJiyz5no",
    "scrolled": false
   },
   "outputs": [],
   "source": [
    "# sensore PIDVOC\n",
    "\n",
    "# query effettuata con un unico comando\n",
    "# df_PIDVOC = df_DatiSensori.sort_values(by='PIDVOC_ppb', ascending =True)[['postazione', 'Data', 'PIDVOC_ppb']].head(100)\n",
    "# creazione di un dataFrame ordinato in modo discendente per i valori del sensore PIDVOC\n",
    "df_PIDVOC = df_DatiSensori.sort_values(by='PIDVOC_ppb', ascending =True).drop_duplicates(subset=['Data'])\n",
    "# creazione di un dataFrame contenente i 100 più bassi valori del sensore PIDVOC\n",
    "query_PIDVOC = df_PIDVOC[['postazione', 'Data', 'PIDVOC_ppb']].head(100)\n",
    "query_PIDVOC"
   ]
  },
  {
   "cell_type": "code",
   "execution_count": null,
   "metadata": {
    "id": "H90_aPnbz5np"
   },
   "outputs": [],
   "source": [
    "# Query 4"
   ]
  },
  {
   "cell_type": "code",
   "execution_count": 41,
   "metadata": {
    "executionInfo": {
     "elapsed": 251,
     "status": "ok",
     "timestamp": 1655304751704,
     "user": {
      "displayName": "Carmine Martinelli",
      "userId": "17979448709595778797"
     },
     "user_tz": -120
    },
    "id": "6y6LFUlgz5nq"
   },
   "outputs": [
    {
     "data": {
      "text/html": [
       "<div>\n",
       "<style scoped>\n",
       "    .dataframe tbody tr th:only-of-type {\n",
       "        vertical-align: middle;\n",
       "    }\n",
       "\n",
       "    .dataframe tbody tr th {\n",
       "        vertical-align: top;\n",
       "    }\n",
       "\n",
       "    .dataframe thead th {\n",
       "        text-align: right;\n",
       "    }\n",
       "</style>\n",
       "<table border=\"1\" class=\"dataframe\">\n",
       "  <thead>\n",
       "    <tr style=\"text-align: right;\">\n",
       "      <th></th>\n",
       "      <th>C6H6_ug/m3</th>\n",
       "    </tr>\n",
       "    <tr>\n",
       "      <th>Data</th>\n",
       "      <th></th>\n",
       "    </tr>\n",
       "  </thead>\n",
       "  <tbody>\n",
       "    <tr>\n",
       "      <th>2021-04-12 01:00:00</th>\n",
       "      <td>0.2750000053</td>\n",
       "    </tr>\n",
       "    <tr>\n",
       "      <th>2021-04-12 02:00:00</th>\n",
       "      <td>0.2461538498</td>\n",
       "    </tr>\n",
       "    <tr>\n",
       "      <th>2021-04-12 03:00:00</th>\n",
       "      <td>0.2400000036</td>\n",
       "    </tr>\n",
       "    <tr>\n",
       "      <th>2021-04-12 04:00:00</th>\n",
       "      <td>0.2739130476</td>\n",
       "    </tr>\n",
       "    <tr>\n",
       "      <th>2021-04-12 05:00:00</th>\n",
       "      <td>0.2409090948</td>\n",
       "    </tr>\n",
       "    <tr>\n",
       "      <th>...</th>\n",
       "      <td>...</td>\n",
       "    </tr>\n",
       "    <tr>\n",
       "      <th>2021-11-28 20:00:00</th>\n",
       "      <td>0.2999999989</td>\n",
       "    </tr>\n",
       "    <tr>\n",
       "      <th>2021-11-28 21:00:00</th>\n",
       "      <td>0.2999999989</td>\n",
       "    </tr>\n",
       "    <tr>\n",
       "      <th>2021-11-28 22:00:00</th>\n",
       "      <td>0.2999999989</td>\n",
       "    </tr>\n",
       "    <tr>\n",
       "      <th>2021-11-28 23:00:00</th>\n",
       "      <td>0.2958333337</td>\n",
       "    </tr>\n",
       "    <tr>\n",
       "      <th>2021-11-29 00:00:00</th>\n",
       "      <td>0.2875000034</td>\n",
       "    </tr>\n",
       "  </tbody>\n",
       "</table>\n",
       "<p>5544 rows × 1 columns</p>\n",
       "</div>"
      ],
      "text/plain": [
       "                       C6H6_ug/m3\n",
       "Data                             \n",
       "2021-04-12 01:00:00  0.2750000053\n",
       "2021-04-12 02:00:00  0.2461538498\n",
       "2021-04-12 03:00:00  0.2400000036\n",
       "2021-04-12 04:00:00  0.2739130476\n",
       "2021-04-12 05:00:00  0.2409090948\n",
       "...                           ...\n",
       "2021-11-28 20:00:00  0.2999999989\n",
       "2021-11-28 21:00:00  0.2999999989\n",
       "2021-11-28 22:00:00  0.2999999989\n",
       "2021-11-28 23:00:00  0.2958333337\n",
       "2021-11-29 00:00:00  0.2875000034\n",
       "\n",
       "[5544 rows x 1 columns]"
      ]
     },
     "execution_count": 41,
     "metadata": {},
     "output_type": "execute_result"
    }
   ],
   "source": [
    "#Elimina i valori nulli e calcola la media oraria sul dataframe creato\n",
    "df_C6H6 = df_DatiSensori[['Data','C6H6_ug/m3']].copy()\n",
    "df_C6H6['Data'] = pd.to_datetime(df_C6H6['Data'])\n",
    "df_C6H6 = df_C6H6[df_C6H6['C6H6_ug/m3'].notna()]\n",
    "indexName = df_C6H6[(df_C6H6['C6H6_ug/m3']==0)].index\n",
    "df_C6H6.drop(indexName, inplace = True)\n",
    "df_C6H6 = df_C6H6[['Data', 'C6H6_ug/m3']].resample(\"H\", label = 'right', on = 'Data').mean()\n",
    "df_C6H6"
   ]
  },
  {
   "cell_type": "code",
   "execution_count": null,
   "metadata": {
    "id": "wJ4C4Rr7z5nr"
   },
   "outputs": [],
   "source": [
    "# Stampa le 50 ore con i livelli di benzene più alti\n",
    "df_C6H6Max = df_C6H6.sort_values('C6H6_ug/m3', ascending = False).head(50)\n",
    "df_C6H6Max"
   ]
  },
  {
   "cell_type": "code",
   "execution_count": null,
   "metadata": {
    "id": "29GB_Un3z5nr"
   },
   "outputs": [],
   "source": [
    "# Stampa le 50 ore con i livelli di benzene più bassi\n",
    "df_C6H6Min = df_C6H6.sort_values('C6H6_ug/m3', ascending = True).head(50)\n",
    "df_C6H6Min"
   ]
  },
  {
   "cell_type": "code",
   "execution_count": null,
   "metadata": {
    "id": "fyY2GieZz5ns",
    "scrolled": true
   },
   "outputs": [],
   "source": [
    "#50 ore con il pù basso livello medio di benzene\n",
    "df_C6H6 = df_DatiSensori[['ora','C6H6_ug/m3']].copy()\n",
    "df_ore = df_C6H6.groupby('ora').mean().sort_values(['C6H6_ug/m3'], ascending =True).head(50).reset_index()\n",
    "df_ore[['ora']]"
   ]
  },
  {
   "cell_type": "code",
   "execution_count": null,
   "metadata": {
    "id": "_K-JKaLUz5nt"
   },
   "outputs": [],
   "source": [
    "# Query 5"
   ]
  },
  {
   "cell_type": "code",
   "execution_count": 42,
   "metadata": {
    "id": "_ijWhBlMz5nt"
   },
   "outputs": [
    {
     "data": {
      "text/html": [
       "<div>\n",
       "<style scoped>\n",
       "    .dataframe tbody tr th:only-of-type {\n",
       "        vertical-align: middle;\n",
       "    }\n",
       "\n",
       "    .dataframe tbody tr th {\n",
       "        vertical-align: top;\n",
       "    }\n",
       "\n",
       "    .dataframe thead th {\n",
       "        text-align: right;\n",
       "    }\n",
       "</style>\n",
       "<table border=\"1\" class=\"dataframe\">\n",
       "  <thead>\n",
       "    <tr style=\"text-align: right;\">\n",
       "      <th></th>\n",
       "      <th>H2S_ug/m3</th>\n",
       "      <th>H2SJ_ug/m3</th>\n",
       "    </tr>\n",
       "    <tr>\n",
       "      <th>Data</th>\n",
       "      <th></th>\n",
       "      <th></th>\n",
       "    </tr>\n",
       "  </thead>\n",
       "  <tbody>\n",
       "    <tr>\n",
       "      <th>2021-04-12 01:00:00</th>\n",
       "      <td>21.3625001907</td>\n",
       "      <td>3.4125000437</td>\n",
       "    </tr>\n",
       "    <tr>\n",
       "      <th>2021-04-12 02:00:00</th>\n",
       "      <td>20.5631577843</td>\n",
       "      <td>4.7315790151</td>\n",
       "    </tr>\n",
       "    <tr>\n",
       "      <th>2021-04-12 03:00:00</th>\n",
       "      <td>20.1238095420</td>\n",
       "      <td>4.7190475691</td>\n",
       "    </tr>\n",
       "    <tr>\n",
       "      <th>2021-04-12 04:00:00</th>\n",
       "      <td>22.1409091082</td>\n",
       "      <td>4.8954545476</td>\n",
       "    </tr>\n",
       "    <tr>\n",
       "      <th>2021-04-12 05:00:00</th>\n",
       "      <td>20.6900000095</td>\n",
       "      <td>4.2450000584</td>\n",
       "    </tr>\n",
       "    <tr>\n",
       "      <th>...</th>\n",
       "      <td>...</td>\n",
       "      <td>...</td>\n",
       "    </tr>\n",
       "    <tr>\n",
       "      <th>2021-11-28 20:00:00</th>\n",
       "      <td>11.5541667144</td>\n",
       "      <td>0.7375000169</td>\n",
       "    </tr>\n",
       "    <tr>\n",
       "      <th>2021-11-28 21:00:00</th>\n",
       "      <td>9.6958333254</td>\n",
       "      <td>1.0874999911</td>\n",
       "    </tr>\n",
       "    <tr>\n",
       "      <th>2021-11-28 22:00:00</th>\n",
       "      <td>9.6583332817</td>\n",
       "      <td>1.0749999881</td>\n",
       "    </tr>\n",
       "    <tr>\n",
       "      <th>2021-11-28 23:00:00</th>\n",
       "      <td>11.0874999563</td>\n",
       "      <td>1.0874999911</td>\n",
       "    </tr>\n",
       "    <tr>\n",
       "      <th>2021-11-29 00:00:00</th>\n",
       "      <td>11.1583333413</td>\n",
       "      <td>1.1624999940</td>\n",
       "    </tr>\n",
       "  </tbody>\n",
       "</table>\n",
       "<p>5544 rows × 2 columns</p>\n",
       "</div>"
      ],
      "text/plain": [
       "                         H2S_ug/m3    H2SJ_ug/m3\n",
       "Data                                            \n",
       "2021-04-12 01:00:00  21.3625001907  3.4125000437\n",
       "2021-04-12 02:00:00  20.5631577843  4.7315790151\n",
       "2021-04-12 03:00:00  20.1238095420  4.7190475691\n",
       "2021-04-12 04:00:00  22.1409091082  4.8954545476\n",
       "2021-04-12 05:00:00  20.6900000095  4.2450000584\n",
       "...                            ...           ...\n",
       "2021-11-28 20:00:00  11.5541667144  0.7375000169\n",
       "2021-11-28 21:00:00   9.6958333254  1.0874999911\n",
       "2021-11-28 22:00:00   9.6583332817  1.0749999881\n",
       "2021-11-28 23:00:00  11.0874999563  1.0874999911\n",
       "2021-11-29 00:00:00  11.1583333413  1.1624999940\n",
       "\n",
       "[5544 rows x 2 columns]"
      ]
     },
     "execution_count": 42,
     "metadata": {},
     "output_type": "execute_result"
    }
   ],
   "source": [
    "#Elimina i valori nulli e calcola la media oraria sul dataframe creato\n",
    "df_AcidoSolf = df_DatiSensori[['Data','H2S_ug/m3','H2SJ_ug/m3' ]].copy()\n",
    "df_AcidoSolf['Data'] = pd.to_datetime(df_AcidoSolf['Data'])\n",
    "df_AcidoSolf = df_AcidoSolf[df_AcidoSolf['H2S_ug/m3'].notna()]\n",
    "df_AcidoSolf = df_AcidoSolf[df_AcidoSolf['H2SJ_ug/m3'].notna()]\n",
    "indexName = df_AcidoSolf[(df_AcidoSolf['H2S_ug/m3']==0)].index\n",
    "indexName = df_AcidoSolf[(df_AcidoSolf['H2SJ_ug/m3']==0)].index\n",
    "df_AcidoSolf.drop(indexName, inplace = True)\n",
    "df_AcidoSolf = df_AcidoSolf[['Data', 'H2S_ug/m3', 'H2SJ_ug/m3']].resample(\"H\", label = 'right', on = 'Data').mean()\n",
    "df_AcidoSolf"
   ]
  },
  {
   "cell_type": "code",
   "execution_count": null,
   "metadata": {
    "id": "2P9kMGkGz5nu",
    "outputId": "d6a186ca-fa6c-4a82-9331-de146d23b0e2"
   },
   "outputs": [],
   "source": [
    "# Stampa le 50 ore con i livelli di acido solfidrico del sensore H2S più alti\n",
    "df_H2SMax = df_AcidoSolf[df_AcidoSolf.columns[:-1]].sort_values('H2S_ug/m3', ascending = False).head(50)\n",
    "df_H2SMax"
   ]
  },
  {
   "cell_type": "code",
   "execution_count": null,
   "metadata": {
    "id": "vif-8rM_z5nu",
    "outputId": "76f5ed23-910c-4f7b-f3cd-a6153aa37480"
   },
   "outputs": [],
   "source": [
    "# Stampa le 50 ore con i livelli di acido solfidrico del sensore H2S più basso\n",
    "df_H2SMin = df_AcidoSolf[df_AcidoSolf.columns[:-1]].sort_values('H2S_ug/m3', ascending = True).head(50)\n",
    "df_H2SMin"
   ]
  },
  {
   "cell_type": "code",
   "execution_count": 38,
   "metadata": {
    "collapsed": true,
    "id": "sAQXorXOz5nv",
    "outputId": "730016d1-5367-4305-e72b-003e23572482"
   },
   "outputs": [
    {
     "data": {
      "text/html": [
       "<div>\n",
       "<style scoped>\n",
       "    .dataframe tbody tr th:only-of-type {\n",
       "        vertical-align: middle;\n",
       "    }\n",
       "\n",
       "    .dataframe tbody tr th {\n",
       "        vertical-align: top;\n",
       "    }\n",
       "\n",
       "    .dataframe thead th {\n",
       "        text-align: right;\n",
       "    }\n",
       "</style>\n",
       "<table border=\"1\" class=\"dataframe\">\n",
       "  <thead>\n",
       "    <tr style=\"text-align: right;\">\n",
       "      <th></th>\n",
       "      <th>H2SJ_ug/m3</th>\n",
       "    </tr>\n",
       "    <tr>\n",
       "      <th>Data</th>\n",
       "      <th></th>\n",
       "    </tr>\n",
       "  </thead>\n",
       "  <tbody>\n",
       "    <tr>\n",
       "      <th>2021-06-29 00:00:00</th>\n",
       "      <td>27.3925924963</td>\n",
       "    </tr>\n",
       "    <tr>\n",
       "      <th>2021-10-18 05:00:00</th>\n",
       "      <td>24.9048773156</td>\n",
       "    </tr>\n",
       "    <tr>\n",
       "      <th>2021-06-24 21:00:00</th>\n",
       "      <td>24.0804883627</td>\n",
       "    </tr>\n",
       "    <tr>\n",
       "      <th>2021-10-18 04:00:00</th>\n",
       "      <td>23.9319141907</td>\n",
       "    </tr>\n",
       "    <tr>\n",
       "      <th>2021-06-22 15:00:00</th>\n",
       "      <td>23.8913049562</td>\n",
       "    </tr>\n",
       "    <tr>\n",
       "      <th>2021-08-13 23:00:00</th>\n",
       "      <td>23.3565211199</td>\n",
       "    </tr>\n",
       "    <tr>\n",
       "      <th>2021-07-02 10:00:00</th>\n",
       "      <td>22.6272728364</td>\n",
       "    </tr>\n",
       "    <tr>\n",
       "      <th>2021-07-14 11:00:00</th>\n",
       "      <td>21.8096153325</td>\n",
       "    </tr>\n",
       "    <tr>\n",
       "      <th>2021-07-26 15:00:00</th>\n",
       "      <td>21.0155551387</td>\n",
       "    </tr>\n",
       "    <tr>\n",
       "      <th>2021-06-21 13:00:00</th>\n",
       "      <td>20.9514286714</td>\n",
       "    </tr>\n",
       "    <tr>\n",
       "      <th>2021-07-28 23:00:00</th>\n",
       "      <td>20.5846152776</td>\n",
       "    </tr>\n",
       "    <tr>\n",
       "      <th>2021-07-12 13:00:00</th>\n",
       "      <td>20.5424999097</td>\n",
       "    </tr>\n",
       "    <tr>\n",
       "      <th>2021-10-18 06:00:00</th>\n",
       "      <td>20.2463408689</td>\n",
       "    </tr>\n",
       "    <tr>\n",
       "      <th>2021-07-26 16:00:00</th>\n",
       "      <td>19.7924997032</td>\n",
       "    </tr>\n",
       "    <tr>\n",
       "      <th>2021-06-15 13:00:00</th>\n",
       "      <td>19.4794867650</td>\n",
       "    </tr>\n",
       "    <tr>\n",
       "      <th>2021-07-04 07:00:00</th>\n",
       "      <td>19.4763156423</td>\n",
       "    </tr>\n",
       "    <tr>\n",
       "      <th>2021-06-30 02:00:00</th>\n",
       "      <td>18.4280002296</td>\n",
       "    </tr>\n",
       "    <tr>\n",
       "      <th>2021-06-29 17:00:00</th>\n",
       "      <td>18.2687500669</td>\n",
       "    </tr>\n",
       "    <tr>\n",
       "      <th>2021-07-28 01:00:00</th>\n",
       "      <td>17.9790701131</td>\n",
       "    </tr>\n",
       "    <tr>\n",
       "      <th>2021-06-27 20:00:00</th>\n",
       "      <td>17.8999997997</td>\n",
       "    </tr>\n",
       "    <tr>\n",
       "      <th>2021-07-28 18:00:00</th>\n",
       "      <td>17.7000002074</td>\n",
       "    </tr>\n",
       "    <tr>\n",
       "      <th>2021-07-01 19:00:00</th>\n",
       "      <td>17.5690471473</td>\n",
       "    </tr>\n",
       "    <tr>\n",
       "      <th>2021-07-06 13:00:00</th>\n",
       "      <td>16.9875003519</td>\n",
       "    </tr>\n",
       "    <tr>\n",
       "      <th>2021-06-15 15:00:00</th>\n",
       "      <td>16.5294116472</td>\n",
       "    </tr>\n",
       "    <tr>\n",
       "      <th>2021-06-23 14:00:00</th>\n",
       "      <td>16.5200001131</td>\n",
       "    </tr>\n",
       "    <tr>\n",
       "      <th>2021-08-13 13:00:00</th>\n",
       "      <td>16.3612901924</td>\n",
       "    </tr>\n",
       "    <tr>\n",
       "      <th>2021-06-29 19:00:00</th>\n",
       "      <td>16.2884615797</td>\n",
       "    </tr>\n",
       "    <tr>\n",
       "      <th>2021-06-23 22:00:00</th>\n",
       "      <td>16.2322578699</td>\n",
       "    </tr>\n",
       "    <tr>\n",
       "      <th>2021-07-02 12:00:00</th>\n",
       "      <td>16.0846154701</td>\n",
       "    </tr>\n",
       "    <tr>\n",
       "      <th>2021-06-20 17:00:00</th>\n",
       "      <td>16.0805555226</td>\n",
       "    </tr>\n",
       "    <tr>\n",
       "      <th>2021-08-11 04:00:00</th>\n",
       "      <td>15.6037038819</td>\n",
       "    </tr>\n",
       "    <tr>\n",
       "      <th>2021-06-17 09:00:00</th>\n",
       "      <td>15.4848485372</td>\n",
       "    </tr>\n",
       "    <tr>\n",
       "      <th>2021-06-26 19:00:00</th>\n",
       "      <td>15.4285713102</td>\n",
       "    </tr>\n",
       "    <tr>\n",
       "      <th>2021-06-30 15:00:00</th>\n",
       "      <td>15.4037034765</td>\n",
       "    </tr>\n",
       "    <tr>\n",
       "      <th>2021-10-19 13:00:00</th>\n",
       "      <td>15.3813955597</td>\n",
       "    </tr>\n",
       "    <tr>\n",
       "      <th>2021-07-02 08:00:00</th>\n",
       "      <td>15.3606056151</td>\n",
       "    </tr>\n",
       "    <tr>\n",
       "      <th>2021-07-28 09:00:00</th>\n",
       "      <td>15.1361107909</td>\n",
       "    </tr>\n",
       "    <tr>\n",
       "      <th>2021-06-24 20:00:00</th>\n",
       "      <td>15.0916666918</td>\n",
       "    </tr>\n",
       "    <tr>\n",
       "      <th>2021-07-30 16:00:00</th>\n",
       "      <td>15.0735291146</td>\n",
       "    </tr>\n",
       "    <tr>\n",
       "      <th>2021-07-07 15:00:00</th>\n",
       "      <td>14.9999996957</td>\n",
       "    </tr>\n",
       "    <tr>\n",
       "      <th>2021-07-09 04:00:00</th>\n",
       "      <td>14.9658532826</td>\n",
       "    </tr>\n",
       "    <tr>\n",
       "      <th>2021-07-06 08:00:00</th>\n",
       "      <td>14.9111111200</td>\n",
       "    </tr>\n",
       "    <tr>\n",
       "      <th>2021-07-31 18:00:00</th>\n",
       "      <td>14.7857141920</td>\n",
       "    </tr>\n",
       "    <tr>\n",
       "      <th>2021-06-20 10:00:00</th>\n",
       "      <td>14.7617647499</td>\n",
       "    </tr>\n",
       "    <tr>\n",
       "      <th>2021-06-27 08:00:00</th>\n",
       "      <td>14.6270270158</td>\n",
       "    </tr>\n",
       "    <tr>\n",
       "      <th>2021-07-09 05:00:00</th>\n",
       "      <td>14.4528300142</td>\n",
       "    </tr>\n",
       "    <tr>\n",
       "      <th>2021-07-01 16:00:00</th>\n",
       "      <td>14.3916668966</td>\n",
       "    </tr>\n",
       "    <tr>\n",
       "      <th>2021-07-30 14:00:00</th>\n",
       "      <td>14.3333333850</td>\n",
       "    </tr>\n",
       "    <tr>\n",
       "      <th>2021-07-09 19:00:00</th>\n",
       "      <td>14.3174998567</td>\n",
       "    </tr>\n",
       "    <tr>\n",
       "      <th>2021-07-26 05:00:00</th>\n",
       "      <td>14.2363635970</td>\n",
       "    </tr>\n",
       "  </tbody>\n",
       "</table>\n",
       "</div>"
      ],
      "text/plain": [
       "                        H2SJ_ug/m3\n",
       "Data                              \n",
       "2021-06-29 00:00:00  27.3925924963\n",
       "2021-10-18 05:00:00  24.9048773156\n",
       "2021-06-24 21:00:00  24.0804883627\n",
       "2021-10-18 04:00:00  23.9319141907\n",
       "2021-06-22 15:00:00  23.8913049562\n",
       "2021-08-13 23:00:00  23.3565211199\n",
       "2021-07-02 10:00:00  22.6272728364\n",
       "2021-07-14 11:00:00  21.8096153325\n",
       "2021-07-26 15:00:00  21.0155551387\n",
       "2021-06-21 13:00:00  20.9514286714\n",
       "2021-07-28 23:00:00  20.5846152776\n",
       "2021-07-12 13:00:00  20.5424999097\n",
       "2021-10-18 06:00:00  20.2463408689\n",
       "2021-07-26 16:00:00  19.7924997032\n",
       "2021-06-15 13:00:00  19.4794867650\n",
       "2021-07-04 07:00:00  19.4763156423\n",
       "2021-06-30 02:00:00  18.4280002296\n",
       "2021-06-29 17:00:00  18.2687500669\n",
       "2021-07-28 01:00:00  17.9790701131\n",
       "2021-06-27 20:00:00  17.8999997997\n",
       "2021-07-28 18:00:00  17.7000002074\n",
       "2021-07-01 19:00:00  17.5690471473\n",
       "2021-07-06 13:00:00  16.9875003519\n",
       "2021-06-15 15:00:00  16.5294116472\n",
       "2021-06-23 14:00:00  16.5200001131\n",
       "2021-08-13 13:00:00  16.3612901924\n",
       "2021-06-29 19:00:00  16.2884615797\n",
       "2021-06-23 22:00:00  16.2322578699\n",
       "2021-07-02 12:00:00  16.0846154701\n",
       "2021-06-20 17:00:00  16.0805555226\n",
       "2021-08-11 04:00:00  15.6037038819\n",
       "2021-06-17 09:00:00  15.4848485372\n",
       "2021-06-26 19:00:00  15.4285713102\n",
       "2021-06-30 15:00:00  15.4037034765\n",
       "2021-10-19 13:00:00  15.3813955597\n",
       "2021-07-02 08:00:00  15.3606056151\n",
       "2021-07-28 09:00:00  15.1361107909\n",
       "2021-06-24 20:00:00  15.0916666918\n",
       "2021-07-30 16:00:00  15.0735291146\n",
       "2021-07-07 15:00:00  14.9999996957\n",
       "2021-07-09 04:00:00  14.9658532826\n",
       "2021-07-06 08:00:00  14.9111111200\n",
       "2021-07-31 18:00:00  14.7857141920\n",
       "2021-06-20 10:00:00  14.7617647499\n",
       "2021-06-27 08:00:00  14.6270270158\n",
       "2021-07-09 05:00:00  14.4528300142\n",
       "2021-07-01 16:00:00  14.3916668966\n",
       "2021-07-30 14:00:00  14.3333333850\n",
       "2021-07-09 19:00:00  14.3174998567\n",
       "2021-07-26 05:00:00  14.2363635970"
      ]
     },
     "execution_count": 38,
     "metadata": {},
     "output_type": "execute_result"
    }
   ],
   "source": [
    "# Stampa le 50 ore con i livelli di acido solfidrico del sensore H2SJ più alti\n",
    "df_H2SJMax = df_AcidoSolf['H2SJ_ug/m3']\n",
    "df_H2SJMax= df_H2SJMax.to_frame().sort_values('H2SJ_ug/m3', ascending = False).head(50)\n",
    "df_H2SJMax"
   ]
  },
  {
   "cell_type": "code",
   "execution_count": null,
   "metadata": {
    "id": "YFfCxcBSz5nw",
    "outputId": "2e3d8e86-eaea-4db4-a871-02df83507686"
   },
   "outputs": [],
   "source": [
    "# Stampa le 50 ore con i livelli di acido solfidrico del sensore H2SJ più bassi\n",
    "df_H2SJMin = df_AcidoSolf['H2SJ_ug/m3']\n",
    "df_H2SJMin= df_H2SJMin.to_frame().sort_values('H2SJ_ug/m3', ascending = True).head(50)\n",
    "df_H2SJMin"
   ]
  },
  {
   "cell_type": "code",
   "execution_count": null,
   "metadata": {
    "id": "juoqhY7-z5nw"
   },
   "outputs": [],
   "source": [
    "# Query 6"
   ]
  },
  {
   "cell_type": "code",
   "execution_count": 43,
   "metadata": {
    "executionInfo": {
     "elapsed": 255,
     "status": "ok",
     "timestamp": 1655304361634,
     "user": {
      "displayName": "Carmine Martinelli",
      "userId": "17979448709595778797"
     },
     "user_tz": -120
    },
    "id": "jWf6C1cSz5nw",
    "scrolled": true
   },
   "outputs": [],
   "source": [
    "#Elimina i valori nulli e calcola la media oraria sul dataframe creato\n",
    "df_VOC = df_DatiSensori[['Data','VOC_ppm','PIDVOC_ppb' ]].copy()\n",
    "df_VOC['Data'] = pd.to_datetime(df_VOC['Data'])\n",
    "df_VOC = df_VOC[df_VOC['VOC_ppm'].notna()]\n",
    "df_VOC = df_VOC[df_VOC['PIDVOC_ppb'].notna()]\n",
    "indexName = df_VOC[(df_VOC['VOC_ppm']==0)].index\n",
    "indexName = df_VOC[(df_VOC['PIDVOC_ppb']==0)].index\n",
    "df_VOC.drop(indexName, inplace = True)\n",
    "df_VOC = df_VOC[['Data', 'VOC_ppm', 'PIDVOC_ppb']].resample(\"H\", label = 'right', on = 'Data').mean()"
   ]
  },
  {
   "cell_type": "code",
   "execution_count": null,
   "metadata": {
    "id": "q8ucBSp1z5nx"
   },
   "outputs": [],
   "source": [
    "# Stampa le 50 ore con i livelli di VOC del sensore VOC più alti\n",
    "df_VOCMax = df_VOC[df_VOC.columns[:-1]].sort_values('VOC_ppm', ascending = False).head(50)\n",
    "df_VOCMax"
   ]
  },
  {
   "cell_type": "code",
   "execution_count": null,
   "metadata": {
    "id": "BSlxPad6z5ny",
    "outputId": "9dcd347b-55dc-4c9b-966c-44f9ee0bca99"
   },
   "outputs": [],
   "source": [
    "# Stampa le 50 ore con i livelli di VOC del sensore VOC più bassi\n",
    "df_VOCMin = df_VOC[df_VOC.columns[:-1]].sort_values('VOC_ppm', ascending = True).head(50)\n",
    "df_VOCMin"
   ]
  },
  {
   "cell_type": "code",
   "execution_count": null,
   "metadata": {
    "id": "ap47eeIJz5ny",
    "outputId": "8e6c2df2-f6a8-45d1-8c11-936bebcad5df"
   },
   "outputs": [],
   "source": [
    "# Stampa le 50 ore con i livelli di VOC del sensore PIDVOC più alti\n",
    "df_PIDVOCMax = df_VOC['PIDVOC_ppb']\n",
    "df_PIDVOCMax= df_PIDVOCMax.to_frame().sort_values('PIDVOC_ppb', ascending = False).head(50)\n",
    "df_PIDVOCMax"
   ]
  },
  {
   "cell_type": "code",
   "execution_count": null,
   "metadata": {
    "id": "zmmjSGmoz5ny"
   },
   "outputs": [],
   "source": [
    "# Stampa le 50 ore con i livelli di VOC del sensore PIDVOC più bassi\n",
    "df_PIDVOCMin = df_VOC['PIDVOC_ppb']\n",
    "df_PIDVOCMin= df_PIDVOCMin.to_frame().sort_values('PIDVOC_ppb', ascending = True).head(50)\n",
    "df_PIDVOCMin"
   ]
  },
  {
   "cell_type": "code",
   "execution_count": null,
   "metadata": {},
   "outputs": [],
   "source": [
    "# Creazione di un dataset per la media oraria"
   ]
  },
  {
   "cell_type": "code",
   "execution_count": 45,
   "metadata": {},
   "outputs": [],
   "source": [
    "df_MediaOraria = df_C6H6.copy()\n",
    "df_MediaOraria['H2S_ug/m3'] = df_AcidoSolf['H2S_ug/m3']\n",
    "df_MediaOraria['H2SJ_ug/m3'] = df_AcidoSolf['H2SJ_ug/m3']\n",
    "df_MediaOraria['VOC_ppm'] = df_VOC['VOC_ppm']\n",
    "df_MediaOraria['PIDVOC_ppb'] = df_VOC['PIDVOC_ppb']\n",
    "df_MediaOraria.to_excel('media_oraria.xlsx')"
   ]
  },
  {
   "cell_type": "code",
   "execution_count": null,
   "metadata": {
    "id": "bQbwEz_xz5nz"
   },
   "outputs": [],
   "source": [
    "# Query 7"
   ]
  },
  {
   "cell_type": "code",
   "execution_count": null,
   "metadata": {},
   "outputs": [],
   "source": [
    "# Giornate con fallimenti ND\n",
    "df_Fail_ND = df_DatiSensori[['Data','TRS_ppb','VOC_ppm','C6H6_ug/m3','H2S_ug/m3','H2SJ_ug/m3','PIDVOC_ppb']].copy()\n",
    "df_Fail_ND['Giorno'] = pd.to_datetime(df_Fail_ND['Data'].dt.strftime('%d/%m/%Y'))\n",
    "df_Fail_ND = df_Fail_ND[(df_Fail_ND['TRS_ppb'].isna()) | (df_Fail_ND['VOC_ppm'].isna()) | (df_Fail_ND['C6H6_ug/m3'].isna()) | (df_Fail_ND['H2S_ug/m3'].isna()) | (df_Fail_ND['H2SJ_ug/m3'].isna()) | (df_Fail_ND['PIDVOC_ppb'].isna())]\n",
    "df_Fail_ND = df_Fail_ND.groupby('Giorno').count()\n",
    "df_Fail_ND"
   ]
  },
  {
   "cell_type": "code",
   "execution_count": null,
   "metadata": {},
   "outputs": [],
   "source": [
    "# Serve trovare anche le righe con 24 (144)(Praticamente per 12h della stessa giornata non ha registrato) 0 che sono comunque ND.\n",
    "df_Fail_0 = df_DatiSensori[['Data','TRS_ppb','VOC_ppm','C6H6_ug/m3','H2S_ug/m3','H2SJ_ug/m3','PIDVOC_ppb']].copy()\n",
    "df_Fail_0['Giorno'] = pd.to_datetime(df_Fail_0['Data'].dt.strftime('%d/%m/%Y'))\n",
    "df_Fail_0['TRS_ppb'].astype(float)\n",
    "df_Fail_0['VOC_ppm'].astype(float)\n",
    "df_Fail_0['C6H6_ug/m3'].astype(float)\n",
    "df_Fail_0['H2S_ug/m3'].astype(float)\n",
    "df_Fail_0['H2SJ_ug/m3'].astype(float)\n",
    "df_Fail_0['PIDVOC_ppb'].astype(float)\n",
    "df_Fail_0 = df_Fail_0[(df_Fail_0['TRS_ppb'] == 0) | (df_Fail_0['VOC_ppm'] == 0) | (df_Fail_0['C6H6_ug/m3']== 0) | (df_Fail_0['H2S_ug/m3']== 0) | (df_Fail_0['H2SJ_ug/m3']== 0) | (df_Fail_0['PIDVOC_ppb']== 0)]\n",
    "df_Fail_0 = df_Fail_0.groupby('Giorno').count()\n",
    "# df_Fail_0 = df_Fail_0[(df_Fail_0.Data >= 144)]\n",
    "df_Fail_0 = df_Fail_0[(df_Fail_0.Data >= 24)]\n",
    "df_Fail_0"
   ]
  },
  {
   "cell_type": "code",
   "execution_count": null,
   "metadata": {},
   "outputs": [],
   "source": [
    "#Unisco i dati per i fallimenti(Banale union)\n",
    "df_fail = pd.concat([df_Fail_ND, df_Fail_0])"
   ]
  },
  {
   "cell_type": "code",
   "execution_count": null,
   "metadata": {},
   "outputs": [],
   "source": [
    "#3 giorni con il maggior numero di fallimenti\n",
    "df_fail.sort_values(['Data'], ascending=False).head(3)"
   ]
  },
  {
   "cell_type": "code",
   "execution_count": null,
   "metadata": {},
   "outputs": [],
   "source": [
    "#3 giorni con il minor numero di fallimenti\n",
    "df_fail.sort_values(['Data'], ascending=True).head(3)"
   ]
  },
  {
   "cell_type": "code",
   "execution_count": null,
   "metadata": {},
   "outputs": [],
   "source": [
    "# Query 8"
   ]
  },
  {
   "cell_type": "code",
   "execution_count": null,
   "metadata": {
    "colab": {
     "base_uri": "https://localhost:8080/",
     "height": 206
    },
    "executionInfo": {
     "elapsed": 1317,
     "status": "ok",
     "timestamp": 1655309855770,
     "user": {
      "displayName": "Carmine Martinelli",
      "userId": "17979448709595778797"
     },
     "user_tz": -120
    },
    "id": "Z9ibKzKhJlNM",
    "outputId": "976f3915-25ad-433d-ac68-ffedd2aea0f3"
   },
   "outputs": [],
   "source": [
    "# 3 giornate con il minor numero di fallimenti (manca il calcolo dei 24 zeri consecutivi)\n",
    "df_Fail = df_DatiSensori[['Data','C6H6_ug/m3']].copy()\n",
    "df_Fail['Data'] = pd.to_datetime(df_Fail['Data'].dt.strftime('%d/%m/%Y'))\n",
    "df_Fail['Giorno'] = df_Fail['Data']\n",
    "df_Fail = df_Fail[df_Fail['C6H6_ug/m3'].isna()]\n",
    "df_Fail = df_Fail[(df_Fail['C6H6_ug/m3']!='0')]\n",
    "df_Fail = df_Fail.groupby('Giorno').count().sort_values('Data', ascending = True)\n",
    "df_Fail.head(3)"
   ]
  },
  {
   "cell_type": "code",
   "execution_count": null,
   "metadata": {},
   "outputs": [],
   "source": [
    "# Query 9, 10 e 11"
   ]
  },
  {
   "cell_type": "code",
   "execution_count": null,
   "metadata": {},
   "outputs": [],
   "source": [
    "# creiamo una lista con tutti gli inquinanti\n",
    "inquinanti = ['TRS_ppb','VOC_ppm','C6H6_ug/m3','H2S_ug/m3','H2SJ_ug/m3','PIDVOC_ppb']\n",
    "stato_Inquinanti = ['TRS_stato','VOC_stato','C6H6_stato', 'H2S_stato','H2SJ_stato', 'PIDVOC_stato']"
   ]
  },
  {
   "cell_type": "code",
   "execution_count": null,
   "metadata": {},
   "outputs": [],
   "source": [
    "# crea un dataframe che contiene la somma dei fallimenti \n",
    "# oltre alle righe con 'ND' che indicano il fallimento nel trasmettere i dati, consideriamo fallimento\n",
    "# anche la presenza consecutiva massiccia di valori 0\n",
    "fails = []\n",
    "df_NFails = pd.DataFrame({'Fallimenti':np.arange(6)})\n",
    "df_NFails = pd.DataFrame({'Sensori':np.arange(6)})\n",
    "for column in range(len(inquinanti)):\n",
    "    df_Fail = df_DatiSensori[[inquinanti[column], stato_Inquinanti[column]]].copy()\n",
    "    errors = df_Fail[inquinanti[column]].ne(df_Fail[inquinanti[column]].shift()).cumsum()[df_Fail[inquinanti[column]].eq(0.0)].value_counts().ge(24).sum()\n",
    "    num_ND= df_Fail[stato_Inquinanti[column]].value_counts()[\"ND\"]\n",
    "    fails.append(num_ND + errors)\n",
    "    column+1\n",
    "\n",
    "\n",
    "df_NFails['Sensori'] = inquinanti\n",
    "df_NFails['Fallimenti'] = fails\n",
    "df_NFails"
   ]
  },
  {
   "cell_type": "code",
   "execution_count": null,
   "metadata": {},
   "outputs": [],
   "source": [
    "# Query 9"
   ]
  },
  {
   "cell_type": "code",
   "execution_count": null,
   "metadata": {},
   "outputs": [],
   "source": [
    "df_NFails['Dati TOT'] = len(df_DatiSensori)\n",
    "df_NFails['Media'] = df_NFails['Fallimenti'].div(len(df_DatiSensori))\n",
    "df_NFails"
   ]
  },
  {
   "cell_type": "code",
   "execution_count": null,
   "metadata": {},
   "outputs": [],
   "source": [
    "# Query 10"
   ]
  },
  {
   "cell_type": "code",
   "execution_count": null,
   "metadata": {},
   "outputs": [],
   "source": [
    "# Prende il massimo dal dataframe\n",
    "df_NFails['Fallimenti'].max()"
   ]
  },
  {
   "cell_type": "code",
   "execution_count": null,
   "metadata": {},
   "outputs": [],
   "source": [
    "# Query 11"
   ]
  },
  {
   "cell_type": "code",
   "execution_count": null,
   "metadata": {},
   "outputs": [],
   "source": [
    "# Prende il minimo dal dataframe\n",
    "df_NFails['Fallimenti'].min()"
   ]
  }
 ],
 "metadata": {
  "colab": {
   "name": "ElaborazioneDati.ipynb",
   "provenance": []
  },
  "kernelspec": {
   "display_name": "Python 3 (ipykernel)",
   "language": "python",
   "name": "python3"
  },
  "language_info": {
   "codemirror_mode": {
    "name": "ipython",
    "version": 3
   },
   "file_extension": ".py",
   "mimetype": "text/x-python",
   "name": "python",
   "nbconvert_exporter": "python",
   "pygments_lexer": "ipython3",
   "version": "3.9.12"
  }
 },
 "nbformat": 4,
 "nbformat_minor": 1
}
