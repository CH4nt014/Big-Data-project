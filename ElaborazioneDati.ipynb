{
 "cells": [
  {
   "cell_type": "markdown",
   "metadata": {
    "id": "jRWos7EAz5ne",
    "scrolled": true
   },
   "source": [
    "# Import dipendeze"
   ]
  },
  {
   "cell_type": "code",
   "execution_count": null,
   "metadata": {
    "executionInfo": {
     "elapsed": 740,
     "status": "ok",
     "timestamp": 1655304178382,
     "user": {
      "displayName": "Carmine Martinelli",
      "userId": "17979448709595778797"
     },
     "user_tz": -120
    },
    "id": "asX5o8d9AMMy"
   },
   "outputs": [],
   "source": [
    "import pandas as pd\n",
    "import numpy as np\n",
    "import operator\n",
    "import matplotlib.pyplot as plt"
   ]
  },
  {
   "cell_type": "markdown",
   "metadata": {},
   "source": [
    "# Caricamento dati"
   ]
  },
  {
   "cell_type": "code",
   "execution_count": null,
   "metadata": {
    "executionInfo": {
     "elapsed": 44414,
     "status": "ok",
     "timestamp": 1655304225101,
     "user": {
      "displayName": "Carmine Martinelli",
      "userId": "17979448709595778797"
     },
     "user_tz": -120
    },
    "id": "7eM0PG6QUg8c"
   },
   "outputs": [],
   "source": [
    "#Modifica la precisione nella visualizzazione delle cifre\n",
    "pd.options.display.precision = 10\n",
    "\n",
    "## Importa i dati dal file excel\n",
    "df_DatiSensori = pd.read_excel('Dati_gruppo1.xlsx')\n",
    "\n",
    "# Mostra tutte le colonne\n",
    "# pd.set_option('display.max_rows', None)"
   ]
  },
  {
   "cell_type": "markdown",
   "metadata": {},
   "source": [
    "# Pulizia dataset"
   ]
  },
  {
   "cell_type": "code",
   "execution_count": null,
   "metadata": {},
   "outputs": [],
   "source": [
    "#Rinomina le colonne con carattersi speciali e assegna il valore di soglia \n",
    "df_DatiSensori.rename(columns = {'C6H6_ug/m3':'C6H6_ug_m3', 'H2S_ug/m3':'H2S_ug_m3', 'H2SJ_ug/m3':'H2SJ_ug_m3'}, inplace = True)\n",
    "threshold = 24\n",
    "\n",
    "# crea una copia del dataset per lavorarci\n",
    "df_Dati = df_DatiSensori.copy()"
   ]
  },
  {
   "cell_type": "code",
   "execution_count": null,
   "metadata": {},
   "outputs": [],
   "source": [
    "#Restituisce la lista con gli indici delle righe con almeno un valore di threshold di zeri consecutivi\n",
    "def find_fail(colonna, df, threshold): \n",
    "    index, dizionario = {} , {}\n",
    "    listaTagli, out  = [], []\n",
    "    df1 =df[[colonna]].copy() \n",
    "    df1[\"Somma\"] = df1.rolling(threshold).sum() \n",
    "    for i in df1.index: \n",
    "        if df1['Somma'][i] == 0: \n",
    "            index[i] = df1['Somma'][i] \n",
    "    indici = list(index.keys()) \n",
    "    for i in range(len(indici)-1): \n",
    "        if (indici[i+1] - indici[i] > 1): \n",
    "            listaTagli.append(i) \n",
    "    listaTagli.append(0) \n",
    "    listaTagli.sort() \n",
    "    for i in range(len(listaTagli)-1): \n",
    "        if i == 0: \n",
    "            dizionario[i] = indici[listaTagli[i]:listaTagli[i+1]+1] \n",
    "        else: \n",
    "            dizionario[i] = indici[listaTagli[i]+1:listaTagli[i+1]+1] \n",
    "    dizionario[len(dizionario.values())] = indici[listaTagli[-1]+1:] \n",
    "    if (len(dizionario[0]) == 0):\n",
    "        return out\n",
    "    else:\n",
    "        for key in dizionario.keys(): \n",
    "            maxIndice= dizionario[key][0] \n",
    "            minIndice = maxIndice - threshold \n",
    "            maxIndice = maxIndice + len(dizionario[key]) - 1 \n",
    "            out = out + list(np.arange(minIndice,maxIndice+1)) \n",
    "        return out"
   ]
  },
  {
   "cell_type": "code",
   "execution_count": null,
   "metadata": {},
   "outputs": [],
   "source": [
    "# creo diversi dataframe quanti sono i sensori ed effettuo il controllo sui 24 zeri consecutivi ritenuti fallimento\n",
    "# e infine effettuo il drop degli indici delle righe trovate\n",
    "dfTRS = df_Dati[['TRS_ppb', 'TRS_stato']]\n",
    "dfTRS = dfTRS.drop(find_fail('TRS_ppb', df_Dati, threshold)).reset_index()#TRS_ppb\n",
    "dfVOC = df_Dati[['VOC_ppm', 'VOC_stato']]\n",
    "dfVOC = dfVOC.drop(find_fail('VOC_ppm', df_Dati, threshold)).reset_index() #VOC\n",
    "dfC6H6 = df_Dati[['C6H6_ug_m3', 'C6H6_stato']]\n",
    "dfC6H6 = dfC6H6.drop(find_fail('C6H6_ug_m3', df_Dati, threshold)).reset_index().reset_index() #C6H6_ug/m3\n",
    "dfH2S = df_Dati[['H2S_ug_m3', 'H2S_stato']]\n",
    "dfH2S = dfH2S.drop(find_fail('H2S_ug_m3', df_Dati, threshold)).reset_index() #H2S_ug/m3\n",
    "dfH2SJ = df_Dati[['H2SJ_ug_m3', 'H2SJ_stato']]\n",
    "dfH2SJ = dfH2SJ.drop(find_fail('H2SJ_ug_m3', df_Dati, threshold)).reset_index() #H2SJ_ug/m3\n",
    "dfPIDVOC = df_Dati[['PIDVOC_ppb', 'PIDVOC_stato']]\n",
    "dfPIDVOC = dfPIDVOC.drop(find_fail('PIDVOC_ppb', df_Dati, threshold)).reset_index() #PIDVOC_ppb"
   ]
  },
  {
   "cell_type": "code",
   "execution_count": null,
   "metadata": {},
   "outputs": [],
   "source": [
    "df_DatiPuliti = pd.concat([dfTRS[['TRS_ppb', 'TRS_stato']], dfVOC[['VOC_ppm', 'VOC_stato']],\n",
    "                           dfC6H6[['C6H6_ug_m3', 'C6H6_stato']],dfH2S[['H2S_ug_m3', 'H2S_stato']],\n",
    "                           dfH2SJ[['H2SJ_ug_m3', 'H2SJ_stato']],dfPIDVOC[['PIDVOC_ppb', 'PIDVOC_stato']]], axis=1)\n",
    "# df_DatiPuliti"
   ]
  },
  {
   "cell_type": "code",
   "execution_count": null,
   "metadata": {
    "scrolled": true
   },
   "outputs": [],
   "source": [
    "# elimina i valori ND\n",
    "df_DatiPuliti = df_DatiPuliti[~df_Dati.TRS_stato.str.match('ND')]\n",
    "# df_DatiPuliti "
   ]
  },
  {
   "cell_type": "code",
   "execution_count": null,
   "metadata": {},
   "outputs": [],
   "source": [
    "# elimina i valori NaN \n",
    "df_DatiPuliti = df_Dati.dropna().reset_index(drop=True)\n",
    "# df_DatiPuliti"
   ]
  },
  {
   "cell_type": "code",
   "execution_count": null,
   "metadata": {},
   "outputs": [],
   "source": [
    "df_copia = df_DatiPuliti.copy()"
   ]
  },
  {
   "cell_type": "code",
   "execution_count": null,
   "metadata": {},
   "outputs": [],
   "source": [
    "# df_Dati\n",
    "# scrive il dataset su disco\n",
    "df_DatiPuliti.to_excel('datiPuliti.xlsx')"
   ]
  },
  {
   "cell_type": "markdown",
   "metadata": {},
   "source": [
    "# # QUERY"
   ]
  },
  {
   "cell_type": "markdown",
   "metadata": {},
   "source": [
    "# Query 1"
   ]
  },
  {
   "cell_type": "code",
   "execution_count": null,
   "metadata": {
    "colab": {
     "base_uri": "https://localhost:8080/",
     "height": 424
    },
    "executionInfo": {
     "elapsed": 258,
     "status": "ok",
     "timestamp": 1655304229556,
     "user": {
      "displayName": "Carmine Martinelli",
      "userId": "17979448709595778797"
     },
     "user_tz": -120
    },
    "id": "Jp4Vpjsgz5nl",
    "outputId": "92fbd876-807c-4d8e-d24a-e0d0a2ddcc8e",
    "pycharm": {
     "name": "#%%\n"
    }
   },
   "outputs": [],
   "source": [
    "# query effettuata con un unico comando\n",
    "\n",
    "# creazione di un dataFrame ordinato in modo discendente per i valori di benzene\n",
    "df_C6H6 = df_DatiPuliti.sort_values(by='C6H6_ug_m3', ascending =False)[['postazione', 'Data', 'C6H6_ug/m3']].head(100)\n",
    "df_C6H6"
   ]
  },
  {
   "cell_type": "markdown",
   "metadata": {},
   "source": [
    "# Query 2"
   ]
  },
  {
   "cell_type": "code",
   "execution_count": null,
   "metadata": {
    "id": "J5TlwbyEz5nm"
   },
   "outputs": [],
   "source": [
    "# sensore H2S\n",
    "\n",
    "# creazione di un dataFrame ordinato in modo discendente per i valori di acido solfidrico del sensore H2S\n",
    "df_H2S = df_DatiPuliti.sort_values(by='H2S_ug_m3', ascending =False)[['postazione', 'Data', 'H2S_ug_m3']].head(100)\n",
    "df_H2S"
   ]
  },
  {
   "cell_type": "code",
   "execution_count": null,
   "metadata": {
    "id": "42y6B_Svz5nm"
   },
   "outputs": [],
   "source": [
    "# sensore H2SJ\n",
    "\n",
    "# creazione di un dataFrame ordinato in modo discendente per i valori di acido solfidrico del sensore H2SJ\n",
    "df_H2SJ = df_DatiPuliti.sort_values(by='H2SJ_ug_m3', ascending =False)[['postazione', 'Data', 'H2SJ_ug_m3']].head(100)\n",
    "df_H2SJ"
   ]
  },
  {
   "cell_type": "markdown",
   "metadata": {},
   "source": [
    "# Query 3"
   ]
  },
  {
   "cell_type": "code",
   "execution_count": null,
   "metadata": {
    "id": "RAzMuBQWz5nn"
   },
   "outputs": [],
   "source": [
    "# sensore VOC\n",
    "\n",
    "# creazione di un dataFrame ordinato in modo discendente per i valori del sensore VOC\n",
    "df_VOC = df_DatiPuliti.sort_values(by='VOC_ppm', ascending =True)[['postazione', 'Data', 'VOC_ppm']].head(100)\n",
    "df_VOC"
   ]
  },
  {
   "cell_type": "code",
   "execution_count": null,
   "metadata": {
    "id": "TQcNGJiyz5no"
   },
   "outputs": [],
   "source": [
    "# sensore PIDVOC\n",
    "\n",
    "# creazione di un dataFrame ordinato in modo discendente per i valori del sensore PIDVOC\n",
    "df_PIDVOC = df_DatiPuliti.sort_values(by='PIDVOC_ppb', ascending =True)[['postazione', 'Data', 'PIDVOC_ppb']].head(100)\n",
    "df_PIDVOC"
   ]
  },
  {
   "cell_type": "markdown",
   "metadata": {
    "id": "H90_aPnbz5np"
   },
   "source": [
    "# Query 4"
   ]
  },
  {
   "cell_type": "code",
   "execution_count": null,
   "metadata": {},
   "outputs": [],
   "source": [
    "# funzione che permette di eliminare i valori nulli, calcola la media oraria e restituisce un dataframe ordinato sull'ora\n",
    "def media_oraria(df, compound):\n",
    "    df1 = df[['postazione', 'Data', compound]].copy()\n",
    "    df1['Data'] = pd.to_datetime(df1['Data'].dt.strftime('%Y/%m/%d %H'))\n",
    "    indexName = df1[(df1[compound]==0)].index\n",
    "    df1.drop(indexName, inplace = True)\n",
    "    return df1.groupby('Data').mean().dropna()"
   ]
  },
  {
   "cell_type": "code",
   "execution_count": null,
   "metadata": {
    "executionInfo": {
     "elapsed": 251,
     "status": "ok",
     "timestamp": 1655304751704,
     "user": {
      "displayName": "Carmine Martinelli",
      "userId": "17979448709595778797"
     },
     "user_tz": -120
    },
    "id": "6y6LFUlgz5nq"
   },
   "outputs": [],
   "source": [
    "# Creazione di un dataframe ordinato sulla media oraria \n",
    "df_C6H6avg = media_oraria(df_DatiPuliti, 'C6H6_ug_m3')"
   ]
  },
  {
   "cell_type": "code",
   "execution_count": null,
   "metadata": {
    "id": "wJ4C4Rr7z5nr"
   },
   "outputs": [],
   "source": [
    "# Stampa le 50 ore con i livelli di benzene più alti\n",
    "df_C6H6avg.sort_values('C6H6_ug_m3', ascending = False).head(50)"
   ]
  },
  {
   "cell_type": "code",
   "execution_count": null,
   "metadata": {
    "id": "29GB_Un3z5nr"
   },
   "outputs": [],
   "source": [
    "# Stampa le 50 ore con i livelli di benzene più bassi\n",
    "df_C6H6avg.sort_values('C6H6_ug_m3', ascending = True).head(50)"
   ]
  },
  {
   "cell_type": "markdown",
   "metadata": {
    "id": "_K-JKaLUz5nt"
   },
   "source": [
    "# Query 5"
   ]
  },
  {
   "cell_type": "markdown",
   "metadata": {},
   "source": [
    "## H2S "
   ]
  },
  {
   "cell_type": "code",
   "execution_count": null,
   "metadata": {
    "id": "_ijWhBlMz5nt"
   },
   "outputs": [],
   "source": [
    "#Elimina i valori nulli e calcola la media oraria sul dataframe creato per il sensore H2S\n",
    "df_H2Savg = media_oraria(df_DatiPuliti, 'H2S_ug_m3')"
   ]
  },
  {
   "cell_type": "code",
   "execution_count": null,
   "metadata": {
    "id": "2P9kMGkGz5nu",
    "outputId": "d6a186ca-fa6c-4a82-9331-de146d23b0e2",
    "scrolled": true
   },
   "outputs": [],
   "source": [
    "# Stampa le 50 ore con i livelli di acido solfidrico del sensore H2S più alti\n",
    "df_H2Savg.sort_values('H2S_ug_m3', ascending = False).head(50)"
   ]
  },
  {
   "cell_type": "code",
   "execution_count": null,
   "metadata": {
    "id": "vif-8rM_z5nu",
    "outputId": "76f5ed23-910c-4f7b-f3cd-a6153aa37480",
    "scrolled": true
   },
   "outputs": [],
   "source": [
    "# Stampa le 50 ore con i livelli di acido solfidrico del sensore H2S più basso\n",
    "df_H2Savg.sort_values('H2S_ug_m3', ascending = True).head(50)"
   ]
  },
  {
   "cell_type": "markdown",
   "metadata": {},
   "source": [
    "## H2SJ "
   ]
  },
  {
   "cell_type": "code",
   "execution_count": null,
   "metadata": {},
   "outputs": [],
   "source": [
    "#Elimina i valori nulli e calcola la media oraria sul dataframe creato per il sensore H2SJ\n",
    "df_H2SJavg = media_oraria(df_DatiPuliti, 'H2SJ_ug_m3')"
   ]
  },
  {
   "cell_type": "code",
   "execution_count": null,
   "metadata": {
    "id": "sAQXorXOz5nv",
    "outputId": "730016d1-5367-4305-e72b-003e23572482"
   },
   "outputs": [],
   "source": [
    "# Stampa le 50 ore con i livelli di acido solfidrico del sensore H2SJ più alti\n",
    "df_H2SJavg.sort_values('H2SJ_ug_m3', ascending = False).head(50)"
   ]
  },
  {
   "cell_type": "code",
   "execution_count": null,
   "metadata": {
    "id": "YFfCxcBSz5nw",
    "outputId": "2e3d8e86-eaea-4db4-a871-02df83507686"
   },
   "outputs": [],
   "source": [
    "# Stampa le 50 ore con i livelli di acido solfidrico del sensore H2SJ più bassi\n",
    "df_H2SJavg.sort_values('H2SJ_ug_m3', ascending = True).head(50)"
   ]
  },
  {
   "cell_type": "markdown",
   "metadata": {
    "id": "juoqhY7-z5nw"
   },
   "source": [
    "# Query 6"
   ]
  },
  {
   "cell_type": "markdown",
   "metadata": {},
   "source": [
    "## VOC "
   ]
  },
  {
   "cell_type": "code",
   "execution_count": null,
   "metadata": {
    "executionInfo": {
     "elapsed": 255,
     "status": "ok",
     "timestamp": 1655304361634,
     "user": {
      "displayName": "Carmine Martinelli",
      "userId": "17979448709595778797"
     },
     "user_tz": -120
    },
    "id": "jWf6C1cSz5nw"
   },
   "outputs": [],
   "source": [
    "#Elimina i valori nulli e calcola la media oraria sul dataframe creato per il sensore VOC\n",
    "df_VOCavg = media_oraria(df_DatiPuliti, 'VOC_ppm')"
   ]
  },
  {
   "cell_type": "code",
   "execution_count": null,
   "metadata": {
    "id": "q8ucBSp1z5nx"
   },
   "outputs": [],
   "source": [
    "# Stampa le 50 ore con i livelli di VOC del sensore VOC più alti\n",
    "df_VOCavg.sort_values('VOC_ppm', ascending = False).head(50)"
   ]
  },
  {
   "cell_type": "code",
   "execution_count": null,
   "metadata": {
    "id": "BSlxPad6z5ny",
    "outputId": "9dcd347b-55dc-4c9b-966c-44f9ee0bca99"
   },
   "outputs": [],
   "source": [
    "# Stampa le 50 ore con i livelli di VOC del sensore VOC più bassi\n",
    "df_VOCavg.sort_values('VOC_ppm', ascending = True).head(50)"
   ]
  },
  {
   "cell_type": "markdown",
   "metadata": {},
   "source": [
    "## PIDVOC"
   ]
  },
  {
   "cell_type": "code",
   "execution_count": null,
   "metadata": {},
   "outputs": [],
   "source": [
    "#Elimina i valori nulli e calcola la media oraria sul dataframe creato per il sensore PIDVOC\n",
    "df_PIDVOCavg = media_oraria(df_DatiPuliti, 'PIDVOC_ppb')"
   ]
  },
  {
   "cell_type": "code",
   "execution_count": null,
   "metadata": {
    "id": "ap47eeIJz5ny",
    "outputId": "8e6c2df2-f6a8-45d1-8c11-936bebcad5df"
   },
   "outputs": [],
   "source": [
    "# Stampa le 50 ore con i livelli di VOC del sensore PIDVOC più alti\n",
    "df_PIDVOCavg.sort_values('PIDVOC_ppb', ascending = False).head(50)"
   ]
  },
  {
   "cell_type": "code",
   "execution_count": null,
   "metadata": {
    "id": "zmmjSGmoz5ny"
   },
   "outputs": [],
   "source": [
    "# Stampa le 50 ore con i livelli di VOC del sensore PIDVOC più bassi\n",
    "df_PIDVOCavg.sort_values('PIDVOC_ppb', ascending = True).head(50)"
   ]
  },
  {
   "cell_type": "markdown",
   "metadata": {
    "id": "bQbwEz_xz5nz"
   },
   "source": [
    "# Query 7 & 8"
   ]
  },
  {
   "cell_type": "code",
   "execution_count": null,
   "metadata": {},
   "outputs": [],
   "source": [
    "# Giornate con fallimenti ND (i fallimenti nell'invio dei dati sono uguali per ogni sensore)\n",
    "df_Fail_ND = df_DatiSensori.copy()\n",
    "df_Fail_ND['Giorno'] = pd.to_datetime(df_Fail_ND['Data'].dt.strftime('%Y/%m/%d'))\n",
    "df_Fail_ND = df_Fail_ND.TRS_ppb.isnull().groupby(df_Fail_ND['Giorno']).sum().transform(int).reset_index(name='count')\n",
    "df_Fail_ND"
   ]
  },
  {
   "cell_type": "code",
   "execution_count": null,
   "metadata": {},
   "outputs": [],
   "source": [
    "# 3 giorni con il maggior numero di fallimenti\n",
    "df_Fail_ND.sort_values('count', ascending = False).head(3)"
   ]
  },
  {
   "cell_type": "code",
   "execution_count": null,
   "metadata": {},
   "outputs": [],
   "source": [
    "# 3 giorni con il minor numero di fallimenti\n",
    "df_Fail_ND.sort_values('count', ascending = True).head(3)"
   ]
  },
  {
   "cell_type": "markdown",
   "metadata": {},
   "source": [
    "# Query 9, 10 e 11"
   ]
  },
  {
   "cell_type": "code",
   "execution_count": null,
   "metadata": {},
   "outputs": [],
   "source": [
    "# crea due liste con tutti gli inquinanti e i relativi stati\n",
    "inquinanti = ['TRS_ppb','VOC_ppm','C6H6_ug_m3','H2S_ug_m3','H2SJ_ug_m3','PIDVOC_ppb']\n",
    "stato_Inquinanti = ['TRS_stato','VOC_stato','C6H6_stato', 'H2S_stato','H2SJ_stato', 'PIDVOC_stato']"
   ]
  },
  {
   "cell_type": "code",
   "execution_count": null,
   "metadata": {
    "scrolled": true
   },
   "outputs": [],
   "source": [
    "# crea un dataframe che contiene la somma dei fallimenti \n",
    "# oltre alle righe con 'ND' che indicano il fallimento nel trasmettere i dati, consideriamo fallimento\n",
    "# anche la presenza consecutiva massiccia di valori 0\n",
    "fails = []\n",
    "df_NFails = pd.DataFrame({'Fallimenti':np.arange(6)})\n",
    "df_NFails = pd.DataFrame({'Sensori':np.arange(6)})\n",
    "for column in range(len(inquinanti)):\n",
    "    df_Fail = df_Dati[[inquinanti[column], stato_Inquinanti[column]]].copy()\n",
    "    errors = df_Fail[inquinanti[column]].ne(df_Fail\n",
    "                                  [inquinanti[column]].shift()).cumsum()[df_Fail\n",
    "                                                                         [inquinanti[column]].eq(0.0)].value_counts().ge(24).sum()\n",
    "    num_ND= df_Fail[stato_Inquinanti[column]].value_counts()[\"ND\"]\n",
    "    fails.append(num_ND + errors)\n",
    "\n",
    "df_NFails['Sensori'] = inquinanti\n",
    "df_NFails['Fallimenti'] = fails\n",
    "df_NFails"
   ]
  },
  {
   "cell_type": "markdown",
   "metadata": {},
   "source": [
    "## Query 9"
   ]
  },
  {
   "cell_type": "code",
   "execution_count": null,
   "metadata": {},
   "outputs": [],
   "source": [
    "df_NFails['Dati TOT'] = [len(dfTRS), len(dfVOC), len(dfC6H6), len(dfH2S), len(dfH2SJ), len(dfPIDVOC)]\n",
    "df_NFails['Media'] = df_NFails['Fallimenti'].div(df_NFails['Dati TOT'])\n",
    "df_NFails"
   ]
  },
  {
   "cell_type": "markdown",
   "metadata": {},
   "source": [
    "## Query 10"
   ]
  },
  {
   "cell_type": "code",
   "execution_count": null,
   "metadata": {},
   "outputs": [],
   "source": [
    "# Prende il massimo dal dataframe\n",
    "df_NFails['Fallimenti'].max()"
   ]
  },
  {
   "cell_type": "markdown",
   "metadata": {},
   "source": [
    "## Query 11"
   ]
  },
  {
   "cell_type": "code",
   "execution_count": null,
   "metadata": {},
   "outputs": [],
   "source": [
    "# Prende il minimo dal dataframe\n",
    "df_NFails['Fallimenti'].min()"
   ]
  },
  {
   "cell_type": "markdown",
   "metadata": {},
   "source": [
    "# ANALISI VISUALI"
   ]
  },
  {
   "cell_type": "code",
   "execution_count": null,
   "metadata": {},
   "outputs": [],
   "source": [
    "# Creazione di un dataset per la media oraria"
   ]
  },
  {
   "cell_type": "code",
   "execution_count": null,
   "metadata": {},
   "outputs": [],
   "source": [
    "df_TRSavg = media_oraria(df_DatiPuliti, 'TRS_ppb')\n",
    "df_MediaOraria = pd.concat([df_TRSavg, df_C6H6avg['C6H6_ug_m3'] ,df_H2Savg['H2S_ug_m3'], df_H2SJavg['H2SJ_ug_m3'], df_VOCavg['VOC_ppm'], df_PIDVOCavg['PIDVOC_ppb']], axis=1)\n",
    "df_MediaOraria\n",
    "# df_MediaOraria.to_excel('media_oraria.xlsx')"
   ]
  },
  {
   "cell_type": "code",
   "execution_count": null,
   "metadata": {
    "scrolled": true
   },
   "outputs": [],
   "source": [
    "# Creazione di file excel per il sensore C6H6 per ogni stazione, utili alle considerazioni sul traffico\n",
    "\n",
    "df_atm5 = media_oraria(df_DatiPuliti[df_DatiPuliti['postazione'] == 'ATM05_01479'], 'C6H6_ug_m3')\n",
    "df_atm7 = media_oraria(df_DatiPuliti[df_DatiPuliti['postazione'] == 'ATM07_01480'], 'C6H6_ug_m3')\n",
    "df_atm10 = media_oraria(df_DatiPuliti[df_DatiPuliti['postazione'] == 'ATM10_01481'], 'C6H6_ug_m3')\n",
    "df_atm14 = media_oraria(df_DatiPuliti[df_DatiPuliti['postazione'] == 'ATM14_01486'], 'C6H6_ug_m3')\n",
    "df_atm5.iloc[768:959].to_excel('mediaBenzene5.xlsx')\n",
    "# df_atm5.to_excel('mediaBenzene5.xlsx')\n",
    "df_atm7.iloc[768:959].to_excel('mediaBenzene7.xlsx')\n",
    "# df_atm7.to_excel('mediaBenzene7.xlsx')\n",
    "df_atm10.iloc[768:959].to_excel('mediaBenzene10.xlsx')\n",
    "# df_atm10.to_excel('mediaBenzene10.xlsx')\n",
    "df_atm14.iloc[768:959].to_excel('mediaBenzene14.xlsx')\n",
    "# df_atm14.to_excel('mediaBenzene14.xlsx')"
   ]
  },
  {
   "cell_type": "markdown",
   "metadata": {},
   "source": [
    "# # CORRELAZIONI"
   ]
  },
  {
   "cell_type": "code",
   "execution_count": null,
   "metadata": {},
   "outputs": [],
   "source": [
    "# Funzione correlazione\n",
    "def corr_Sensori(df, colonna1, colonna2, postazione = None):\n",
    "    cc = -2\n",
    "    cs = pd.DataFrame([{'a': 0},{'a': -2}])\n",
    "    ck = pd.DataFrame([{'a': 0},{'a': -2}])\n",
    "    if postazione != None:\n",
    "        df1 = df[df['postazione'] == postazione]\n",
    "    else:\n",
    "        df1 = df.copy()\n",
    "    df1.plot.scatter(x= colonna1, y=colonna2)\n",
    "    if np.sum(df1[colonna1].to_list())!=0 and np.sum(df1[colonna2].to_list()) !=0:\n",
    "        a,b = np.polyfit(df1[colonna1].to_list(), df1[colonna2].to_list(), 1) #Inferiamo y =ax + b\n",
    "        x1 = min(df1[colonna1].to_list())\n",
    "        x2 = max(df1[colonna1].to_list())\n",
    "        plt.plot([x1,x2], [a*x1 +b, a*x2 +b], color = 'red')\n",
    "        plt.show()\n",
    "        cc = np.corrcoef(df1[colonna1], df1[colonna2])[1,0]\n",
    "        cs = df1[[colonna1, colonna2]].corr(method = 'spearman')\n",
    "        ck = df1[[colonna1, colonna2]].corr(method = 'kendall')  \n",
    "    return cc, cs.iloc[1,0], ck.iloc[1,0]"
   ]
  },
  {
   "cell_type": "markdown",
   "metadata": {},
   "source": [
    "# CORRELAZIONE 1 TRA I SENSORI H2S E H2SJ NELLE VARIE POSTAZIONI"
   ]
  },
  {
   "cell_type": "code",
   "execution_count": null,
   "metadata": {},
   "outputs": [],
   "source": [
    "# Crea un dataframe contenente entrambi i sensori, rinomina le colonne ed elimina i valori nulli\n",
    "df_AcidoSolf = df_DatiPuliti[['postazione', 'Data', 'H2S_ug_m3', 'H2SJ_ug_m3']]\n",
    "df_AcidoSolf = df_AcidoSolf.dropna()\n",
    "df_AcidoSolf"
   ]
  },
  {
   "cell_type": "code",
   "execution_count": null,
   "metadata": {},
   "outputs": [],
   "source": [
    "# correlazione per la stazione ATM05_01479\n",
    "pearson, spearman, kendall= corr_Sensori(df_AcidoSolf, 'H2S_ug_m3', 'H2SJ_ug_m3','ATM05_01479')\n",
    "print('Correlazione tra H2S e H2SJ:\\npearson: ', pearson,' spearman: ', spearman,' kendall: ', kendall)"
   ]
  },
  {
   "cell_type": "code",
   "execution_count": null,
   "metadata": {},
   "outputs": [],
   "source": [
    "# correlazione per la stazione ATM07_01480\n",
    "pearson, spearman, kendall = corr_Sensori(df_AcidoSolf, 'H2S_ug_m3', 'H2SJ_ug_m3', 'ATM07_01480')\n",
    "print('Correlazione tra H2S e H2SJ:\\npearson: ', pearson,' spearman: ', spearman,' kendall: ', kendall)"
   ]
  },
  {
   "cell_type": "code",
   "execution_count": null,
   "metadata": {},
   "outputs": [],
   "source": [
    "# correlazione per la stazione ATM10_01481\n",
    "pearson, spearman, kendall = corr_Sensori(df_AcidoSolf, 'H2S_ug_m3', 'H2SJ_ug_m3', 'ATM10_01481' )\n",
    "print('Correlazione tra H2S e H2SJ:\\npearson: ', pearson,' spearman: ', spearman,' kendall: ', kendall)"
   ]
  },
  {
   "cell_type": "code",
   "execution_count": null,
   "metadata": {},
   "outputs": [],
   "source": [
    "# correlazione per la stazione ATM14_01486\n",
    "pearson, spearman, kendall= corr_Sensori(df_AcidoSolf, 'H2S_ug_m3', 'H2SJ_ug_m3', 'ATM14_01486' )\n",
    "print('Correlazione tra H2S e H2SJ:\\npearson: ', pearson,' spearman: ', spearman,' kendall: ', kendall)"
   ]
  },
  {
   "cell_type": "markdown",
   "metadata": {},
   "source": [
    "# CORRELAZIONE 2 TRA I SENSORI VOC E PIDVOC NELLE VARIE POSTAZIONI"
   ]
  },
  {
   "cell_type": "code",
   "execution_count": null,
   "metadata": {},
   "outputs": [],
   "source": [
    "# Crea un dataframe contenente entrambi i sensori, rinomina le colonne ed elimina i valori nulli\n",
    "df_SensoriVOC = df_DatiPuliti[['postazione', 'Data', 'VOC_ppm', 'PIDVOC_ppb']]\n",
    "df_SensoriVOC = df_SensoriVOC.dropna()\n",
    "df_SensoriVOC"
   ]
  },
  {
   "cell_type": "code",
   "execution_count": null,
   "metadata": {},
   "outputs": [],
   "source": [
    "# correlazione per la stazione ATM05_01479\n",
    "pearson, spearman, kendall= corr_Sensori(df_SensoriVOC, 'VOC_ppm', 'PIDVOC_ppb', 'ATM05_01479' )\n",
    "print('Correlazione tra VOC e PIDVOC:\\npearson: ', pearson,' spearman: ', spearman,' kendall: ', kendall)"
   ]
  },
  {
   "cell_type": "code",
   "execution_count": null,
   "metadata": {},
   "outputs": [],
   "source": [
    "# correlazione per la stazione ATM07_01480\n",
    "pearson, spearman, kendall = corr_Sensori(df_SensoriVOC, 'VOC_ppm', 'PIDVOC_ppb', 'ATM07_01480' )\n",
    "print('Correlazione tra VOC e PIDVOC:\\npearson: ', pearson,' spearman: ', spearman,' kendall: ', kendall)"
   ]
  },
  {
   "cell_type": "code",
   "execution_count": null,
   "metadata": {},
   "outputs": [],
   "source": [
    "# correlazione per la stazione ATM10_01481\n",
    "pearson, spearman, kendall = corr_Sensori(df_SensoriVOC, 'VOC_ppm', 'PIDVOC_ppb' , 'ATM10_01481')\n",
    "print('Correlazione tra VOC e PIDVOC:\\npearson: ', pearson,' spearman: ', spearman,' kendall: ', kendall)"
   ]
  },
  {
   "cell_type": "code",
   "execution_count": null,
   "metadata": {},
   "outputs": [],
   "source": [
    "# correlazione per la stazione ATM14_01486\n",
    "pearson, spearman, kendall= corr_Sensori(df_SensoriVOC, 'VOC_ppm', 'PIDVOC_ppb', 'ATM14_01486' )\n",
    "print('Correlazione tra VOC e PIDVOC:\\npearson: ', pearson,' spearman: ', spearman,' kendall: ', kendall)"
   ]
  },
  {
   "cell_type": "markdown",
   "metadata": {},
   "source": [
    "# CORRELAZIONE 3 TRA I SENSORI TRS E H2S NELLE VARIE POSTAZIONI"
   ]
  },
  {
   "cell_type": "code",
   "execution_count": null,
   "metadata": {},
   "outputs": [],
   "source": [
    "df_SenTRS_H2S = df_DatiPuliti[['postazione', 'Data', 'TRS_ppb', 'H2S_ug_m3']]\n",
    "df_SenTRS_H2S = df_SenTRS_H2S.dropna()\n",
    "df_SenTRS_H2S.fillna(0)"
   ]
  },
  {
   "cell_type": "code",
   "execution_count": null,
   "metadata": {},
   "outputs": [],
   "source": [
    "# correlazione per la stazione ATM05_01479\n",
    "pearson, spearman, kendall = corr_Sensori(df_SenTRS_H2S, 'TRS_ppb', 'H2S_ug_m3', 'ATM05_01479' )\n",
    "print('Correlazione tra TRS e H2S:\\npearson: ', pearson,' spearman: ', spearman,' kendall: ', kendall)"
   ]
  },
  {
   "cell_type": "code",
   "execution_count": null,
   "metadata": {},
   "outputs": [],
   "source": [
    "# correlazione per la stazione ATM07_01480\n",
    "pearson, spearman, kendall= corr_Sensori(df_SenTRS_H2S, 'TRS_ppb', 'H2S_ug_m3', 'ATM07_01480' )\n",
    "print('Correlazione tra TRS e H2S:\\npearson: ', pearson,' spearman: ', spearman,' kendall: ', kendall)"
   ]
  },
  {
   "cell_type": "code",
   "execution_count": null,
   "metadata": {},
   "outputs": [],
   "source": [
    "# correlazione per la stazione ATM10_01481\n",
    "pearson, spearman, kendall= corr_Sensori(df_SenTRS_H2S, 'TRS_ppb', 'H2S_ug_m3', 'ATM10_01481' )\n",
    "print('Correlazione tra TRS e H2S:\\npearson: ', pearson,' spearman: ', spearman,' kendall: ', kendall)"
   ]
  },
  {
   "cell_type": "code",
   "execution_count": null,
   "metadata": {
    "scrolled": true
   },
   "outputs": [],
   "source": [
    "# correlazione per la stazione ATM14_01486\n",
    "pearson, spearman, kendall= corr_Sensori(df_SenTRS_H2S, 'TRS_ppb', 'H2S_ug_m3', 'ATM14_01486' )\n",
    "print('Correlazione tra TRS e H2SJ:\\npearson: ', pearson,' spearman: ', spearman,' kendall: ', kendall)"
   ]
  },
  {
   "cell_type": "markdown",
   "metadata": {},
   "source": [
    "# CORRELAZIONE 4 TRA I SENSORI TRS E H2SJ NELLE VARIE POSTAZIONI"
   ]
  },
  {
   "cell_type": "code",
   "execution_count": null,
   "metadata": {},
   "outputs": [],
   "source": [
    "df_SenTRS_H2SJ = df_DatiPuliti[['postazione', 'Data', 'TRS_ppb', 'H2SJ_ug_m3']]\n",
    "df_SenTRS_H2SJ = df_SenTRS_H2SJ.dropna()\n",
    "df_SenTRS_H2SJ"
   ]
  },
  {
   "cell_type": "code",
   "execution_count": null,
   "metadata": {},
   "outputs": [],
   "source": [
    "# correlazione per la stazione ATM05_01479\n",
    "pearson, spearman, kendall= corr_Sensori(df_SenTRS_H2SJ, 'TRS_ppb', 'H2SJ_ug_m3' , 'ATM05_01479')\n",
    "print('Correlazione tra TRS e H2SJ:\\npearson: ', pearson,' spearman: ', spearman,' kendall: ', kendall)"
   ]
  },
  {
   "cell_type": "code",
   "execution_count": null,
   "metadata": {},
   "outputs": [],
   "source": [
    "# correlazione per la stazione ATM07_01480\n",
    "pearson, spearman, kendall= corr_Sensori(df_SenTRS_H2SJ, 'TRS_ppb', 'H2SJ_ug_m3', 'ATM07_01480' )\n",
    "print('Correlazione tra TRS e H2SJ:\\npearson: ', pearson,' spearman: ', spearman,' kendall: ', kendall)"
   ]
  },
  {
   "cell_type": "code",
   "execution_count": null,
   "metadata": {},
   "outputs": [],
   "source": [
    "# correlazione per la stazione ATM10_01481\n",
    "pearson, spearman, kendall= corr_Sensori(df_SenTRS_H2SJ, 'TRS_ppb', 'H2SJ_ug_m3' , 'ATM10_01481')\n",
    "print('Correlazione tra TRS e H2SJ:\\npearson: ', pearson,' spearman: ', spearman,' kendall: ', kendall)"
   ]
  },
  {
   "cell_type": "code",
   "execution_count": null,
   "metadata": {},
   "outputs": [],
   "source": [
    "# correlazione per la stazione ATM14_01486\n",
    "pearson, spearman, kendall= corr_Sensori(df_SenTRS_H2SJ, 'TRS_ppb', 'H2SJ_ug_m3' , 'ATM14_01486')\n",
    "print('Correlazione tra TRS e H2SJ:\\npearson: ', pearson,' spearman: ', spearman,' kendall: ', kendall)"
   ]
  },
  {
   "cell_type": "markdown",
   "metadata": {},
   "source": [
    "# CORRELAZIONE 5 TRA I SENSORI VOC E C6H6 NELLE VARIE POSTAZIONI"
   ]
  },
  {
   "cell_type": "code",
   "execution_count": null,
   "metadata": {},
   "outputs": [],
   "source": [
    "df_SenVOC_C6H6 = df_DatiPuliti[['postazione', 'Data', 'VOC_ppm', 'C6H6_ug_m3']]\n",
    "df_SenVOC_C6H6 = df_SenVOC_C6H6.dropna()\n",
    "df_SenVOC_C6H6"
   ]
  },
  {
   "cell_type": "code",
   "execution_count": null,
   "metadata": {},
   "outputs": [],
   "source": [
    "# correlazione per la stazione ATM05_01479\n",
    "pearson, spearman, kendall= corr_Sensori(df_SenVOC_C6H6, 'VOC_ppm', 'C6H6_ug_m3' , 'ATM05_01479')\n",
    "print('Correlazione tra VOC e C6H6:\\npearson: ', pearson,' spearman: ', spearman,' kendall: ', kendall)"
   ]
  },
  {
   "cell_type": "code",
   "execution_count": null,
   "metadata": {},
   "outputs": [],
   "source": [
    "# correlazione per la stazione ATM07_01480\n",
    "pearson, spearman, kendall= corr_Sensori(df_SenVOC_C6H6, 'VOC_ppm', 'C6H6_ug_m3', 'ATM07_01480' )\n",
    "print('Correlazione tra VOC e C6H6:\\npearson: ', pearson,' spearman: ', spearman,' kendall: ', kendall)"
   ]
  },
  {
   "cell_type": "code",
   "execution_count": null,
   "metadata": {},
   "outputs": [],
   "source": [
    "# correlazione per la stazione ATM10_01481\n",
    "pearson, spearman, kendall= corr_Sensori(df_SenVOC_C6H6, 'VOC_ppm', 'C6H6_ug_m3' , 'ATM10_01481')\n",
    "print('Correlazione tra VOC e C6H6:\\npearson: ', pearson,' spearman: ', spearman,' kendall: ', kendall)"
   ]
  },
  {
   "cell_type": "code",
   "execution_count": null,
   "metadata": {},
   "outputs": [],
   "source": [
    "# correlazione per la stazione ATM14_01486\n",
    "pearson, spearman, kendall= corr_Sensori(df_SenVOC_C6H6, 'VOC_ppm', 'C6H6_ug_m3', 'ATM14_01486' )\n",
    "print('Correlazione tra VOC e C6H6:\\npearson: ', pearson,' spearman: ', spearman,' kendall: ', kendall)"
   ]
  },
  {
   "cell_type": "markdown",
   "metadata": {},
   "source": [
    "# CORRELAZIONE 6 TRA I SENSORI PIDVOC E C6H6 NELLE VARIE POSTAZIONI"
   ]
  },
  {
   "cell_type": "code",
   "execution_count": null,
   "metadata": {},
   "outputs": [],
   "source": [
    "df_SenPIDVOC_C6H6 = df_DatiPuliti[['postazione', 'Data', 'PIDVOC_ppb', 'C6H6_ug_m3']]\n",
    "df_SenPIDVOC_C6H6 = df_SenPIDVOC_C6H6.dropna()\n",
    "df_SenPIDVOC_C6H6"
   ]
  },
  {
   "cell_type": "code",
   "execution_count": null,
   "metadata": {},
   "outputs": [],
   "source": [
    "# correlazione per la stazione ATM05_01479\n",
    "pearson, spearman, kendall= corr_Sensori(df_SenPIDVOC_C6H6, 'PIDVOC_ppb', 'C6H6_ug_m3', 'ATM05_01479' )\n",
    "print('Correlazione tra PIDVOC e C6H6:\\npearson: ', pearson,' spearman: ', spearman,' kendall: ', kendall)"
   ]
  },
  {
   "cell_type": "code",
   "execution_count": null,
   "metadata": {},
   "outputs": [],
   "source": [
    "# correlazione per la stazione ATM07_01480\n",
    "pearson, spearman, kendall= corr_Sensori(df_SenPIDVOC_C6H6, 'PIDVOC_ppb', 'C6H6_ug_m3' , 'ATM07_01480')\n",
    "print('Correlazione tra PIDVOC e C6H6:\\npearson: ', pearson,' spearman: ', spearman,' kendall: ', kendall)"
   ]
  },
  {
   "cell_type": "code",
   "execution_count": null,
   "metadata": {},
   "outputs": [],
   "source": [
    "# correlazione per la stazione ATM10_01481\n",
    "pearson, spearman, kendall= corr_Sensori(df_SenPIDVOC_C6H6, 'PIDVOC_ppb', 'C6H6_ug_m3', 'ATM10_01481' )\n",
    "print('Correlazione tra PIDVOC e C6H6:\\npearson: ', pearson,' spearman: ', spearman,' kendall: ', kendall)"
   ]
  },
  {
   "cell_type": "code",
   "execution_count": null,
   "metadata": {},
   "outputs": [],
   "source": [
    "# correlazione per la stazione ATM14_01486\n",
    "pearson, spearman, kendall= corr_Sensori(df_SenPIDVOC_C6H6, 'PIDVOC_ppb', 'C6H6_ug_m3', 'ATM14_01486' )\n",
    "print('Correlazione tra PIDVOC e C6H6:\\npearson: ', pearson,' spearman: ', spearman,' kendall: ', kendall)"
   ]
  },
  {
   "cell_type": "markdown",
   "metadata": {},
   "source": [
    "# CORRELAZIONE 7 "
   ]
  },
  {
   "cell_type": "markdown",
   "metadata": {},
   "source": [
    "# POSTAZIONI ATM05_01479 E ATM07_01480 "
   ]
  },
  {
   "cell_type": "code",
   "execution_count": null,
   "metadata": {},
   "outputs": [],
   "source": [
    "def creazione_df(df, colonna1, colonna2, composto, df2 = None):\n",
    "    df_1 = df[df['postazione'] == colonna1].dropna()[composto].reset_index(drop = True).to_frame()\n",
    "    if df2 is None:\n",
    "        df_2 = df.copy()\n",
    "        df_2 = df_2[df_2['postazione'] == colonna2].dropna()[composto].reset_index(drop = True).to_frame()\n",
    "    else:\n",
    "        df_2 = df2.copy()\n",
    "        df_2 = df_2[colonna2].dropna().reset_index(drop = True).to_frame()\n",
    "    df_Full = pd.concat([df_1, df_2], axis=1)\n",
    "    df_Full.columns = [colonna1,colonna2]\n",
    "    df_Full = df_Full[[colonna1,colonna2]].fillna(0)\n",
    "    return df_Full"
   ]
  },
  {
   "cell_type": "code",
   "execution_count": null,
   "metadata": {},
   "outputs": [],
   "source": [
    "# correlazione per il sensore TRS_ppb\n",
    "pearson, spearman, kendall= corr_Sensori(creazione_df(df_Dati, 'ATM05_01479', 'ATM07_01480', 'TRS_ppb' ),\n",
    "                                         'ATM05_01479', 'ATM07_01480')\n",
    "print('pearson: ', pearson, ' spearman: ', spearman, ' kendall: ', kendall)\n",
    " "
   ]
  },
  {
   "cell_type": "code",
   "execution_count": null,
   "metadata": {},
   "outputs": [],
   "source": [
    "# correlazione per il sensore C6H6_ug_m3\n",
    "pearson, spearman, kendall= corr_Sensori(creazione_df(df_Dati, 'ATM05_01479', 'ATM07_01480', 'C6H6_ug_m3' ), 'ATM05_01479', 'ATM07_01480')\n",
    "print('pearson: ', pearson, ' spearman: ', spearman, ' kendall: ', kendall)\n",
    " "
   ]
  },
  {
   "cell_type": "code",
   "execution_count": null,
   "metadata": {},
   "outputs": [],
   "source": [
    "# correlazione per il sensore VOC_ppm\n",
    "pearson, spearman, kendall= corr_Sensori(creazione_df(df_Dati, 'ATM05_01479', 'ATM07_01480', 'VOC_ppm' ), 'ATM05_01479', 'ATM07_01480')\n",
    "print('pearson: ', pearson, ' spearman: ', spearman, ' kendall: ', kendall)\n",
    " "
   ]
  },
  {
   "cell_type": "code",
   "execution_count": null,
   "metadata": {},
   "outputs": [],
   "source": [
    "# correlazione per il sensore PIDVOC_ppb\n",
    "pearson, spearman, kendall= corr_Sensori(creazione_df(df_Dati, 'ATM05_01479', 'ATM07_01480', 'PIDVOC_ppb' ), 'ATM05_01479', 'ATM07_01480')\n",
    "print('pearson: ', pearson, ' spearman: ', spearman, ' kendall: ', kendall)\n",
    " "
   ]
  },
  {
   "cell_type": "code",
   "execution_count": null,
   "metadata": {},
   "outputs": [],
   "source": [
    "# correlazione per il sensore H2S_ug_m3\n",
    "pearson, spearman, kendall= corr_Sensori(creazione_df(df_Dati, 'ATM05_01479', 'ATM07_01480', 'H2S_ug_m3' ), 'ATM05_01479', 'ATM07_01480')\n",
    "print('pearson: ', pearson, ' spearman: ', spearman, ' kendall: ', kendall)\n",
    " "
   ]
  },
  {
   "cell_type": "code",
   "execution_count": null,
   "metadata": {},
   "outputs": [],
   "source": [
    "# correlazione per il sensore H2SJ_ug_m3\n",
    "pearson, spearman, kendall= corr_Sensori(creazione_df(df_Dati, 'ATM05_01479', 'ATM07_01480', 'H2SJ_ug_m3' ), 'ATM05_01479', 'ATM07_01480')\n",
    "print('pearson: ', pearson, ' spearman: ', spearman, ' kendall: ', kendall)\n",
    " "
   ]
  },
  {
   "cell_type": "markdown",
   "metadata": {},
   "source": [
    "# POSTAZIONI ATM05_01479 E ATM10_01481"
   ]
  },
  {
   "cell_type": "code",
   "execution_count": null,
   "metadata": {},
   "outputs": [],
   "source": [
    "# correlazione per il sensore TRS_ppb\n",
    "pearson, spearman, kendall= corr_Sensori(creazione_df(df_Dati, 'ATM05_01479', 'ATM10_01481', 'TRS_ppb' ), 'ATM05_01479', 'ATM10_01481')\n",
    "print('pearson: ', pearson, ' spearman: ', spearman, ' kendall: ', kendall)\n",
    " "
   ]
  },
  {
   "cell_type": "code",
   "execution_count": null,
   "metadata": {},
   "outputs": [],
   "source": [
    "# correlazione per il sensore C6H6_ug_m3\n",
    "pearson, spearman, kendall= corr_Sensori(creazione_df(df_Dati, 'ATM05_01479', 'ATM10_01481', 'C6H6_ug_m3' ), 'ATM05_01479', 'ATM10_01481')\n",
    "print('pearson: ', pearson, ' spearman: ', spearman, ' kendall: ', kendall)\n",
    " "
   ]
  },
  {
   "cell_type": "code",
   "execution_count": null,
   "metadata": {},
   "outputs": [],
   "source": [
    "# correlazione per il sensore VOC_pp\n",
    "pearson, spearman, kendall= corr_Sensori(creazione_df(df_Dati, 'ATM05_01479', 'ATM10_01481', 'VOC_ppm' ), 'ATM05_01479', 'ATM10_01481')\n",
    "print('pearson: ', pearson, ' spearman: ', spearman, ' kendall: ', kendall)\n",
    " "
   ]
  },
  {
   "cell_type": "code",
   "execution_count": null,
   "metadata": {},
   "outputs": [],
   "source": [
    "# correlazione per il sensore PIDVOC_ppm\n",
    "pearson, spearman, kendall= corr_Sensori(creazione_df(df_Dati, 'ATM05_01479', 'ATM10_01481', 'PIDVOC_ppb' ), 'ATM05_01479', 'ATM10_01481')\n",
    "print('pearson: ', pearson, ' spearman: ', spearman, ' kendall: ', kendall)\n",
    " "
   ]
  },
  {
   "cell_type": "code",
   "execution_count": null,
   "metadata": {},
   "outputs": [],
   "source": [
    "# correlazione per il sensore H2S_ug_m3\n",
    "pearson, spearman, kendall= corr_Sensori(creazione_df(df_Dati, 'ATM05_01479', 'ATM10_01481', 'H2S_ug_m3' ), 'ATM05_01479', 'ATM10_01481')\n",
    "print('pearson: ', pearson, ' spearman: ', spearman, ' kendall: ', kendall)\n",
    " "
   ]
  },
  {
   "cell_type": "code",
   "execution_count": null,
   "metadata": {},
   "outputs": [],
   "source": [
    "# correlazione per il sensore H2SJ_ug_m3\n",
    "pearson, spearman, kendall= corr_Sensori(creazione_df(df_Dati, 'ATM05_01479', 'ATM10_01481', 'H2SJ_ug_m3' ), 'ATM05_01479', 'ATM10_01481')\n",
    "print('pearson: ', pearson, ' spearman: ', spearman, ' kendall: ', kendall)\n",
    " "
   ]
  },
  {
   "cell_type": "markdown",
   "metadata": {},
   "source": [
    "# POSTAZIONI ATM05_01479 E ATM14_01486"
   ]
  },
  {
   "cell_type": "code",
   "execution_count": null,
   "metadata": {},
   "outputs": [],
   "source": [
    "# correlazione per il sensore TRS_ppb\n",
    "pearson, spearman, kendall= corr_Sensori(creazione_df(df_Dati, 'ATM05_01479', 'ATM14_01486', 'TRS_ppb' ), 'ATM05_01479', 'ATM14_01486')\n",
    "print('pearson: ', pearson, ' spearman: ', spearman, ' kendall: ', kendall)\n",
    " "
   ]
  },
  {
   "cell_type": "code",
   "execution_count": null,
   "metadata": {},
   "outputs": [],
   "source": [
    "# correlazione per il sensore C6H6_ug_m3\n",
    "pearson, spearman, kendall= corr_Sensori(creazione_df(df_Dati, 'ATM05_01479', 'ATM14_01486', 'C6H6_ug_m3' ), 'ATM05_01479', 'ATM14_01486')\n",
    "print('pearson: ', pearson, ' spearman: ', spearman, ' kendall: ', kendall)\n",
    " "
   ]
  },
  {
   "cell_type": "code",
   "execution_count": null,
   "metadata": {},
   "outputs": [],
   "source": [
    "# correlazione per il sensore VOC_ppm\n",
    "pearsonPost4, spearman, kendall= corr_Sensori(creazione_df(df_Dati, 'ATM05_01479', 'ATM14_01486', 'VOC_ppm' ), 'ATM05_01479', 'ATM14_01486')\n",
    "print('pearson: ', pearson, ' spearman: ', spearman, ' kendall: ', kendall)\n",
    " "
   ]
  },
  {
   "cell_type": "code",
   "execution_count": null,
   "metadata": {},
   "outputs": [],
   "source": [
    "# correlazione per il sensore PIDVOC_ppb\n",
    "pearson, spearman, kendall= corr_Sensori(creazione_df(df_Dati, 'ATM05_01479', 'ATM14_01486', 'PIDVOC_ppb' ), 'ATM05_01479', 'ATM14_01486')\n",
    "print('pearson: ', pearson, ' spearman: ', spearman, ' kendall: ', kendall)\n",
    " "
   ]
  },
  {
   "cell_type": "code",
   "execution_count": null,
   "metadata": {},
   "outputs": [],
   "source": [
    "# correlazione per il sensore H2S_ug_m3\n",
    "pearson, spearman, kendall= corr_Sensori(creazione_df(df_Dati, 'ATM05_01479', 'ATM14_01486', 'H2S_ug_m3' ), 'ATM05_01479', 'ATM14_01486')\n",
    "print('pearson: ', pearson, ' spearman: ', spearman, ' kendall: ', kendall)\n",
    " "
   ]
  },
  {
   "cell_type": "code",
   "execution_count": null,
   "metadata": {},
   "outputs": [],
   "source": [
    "# correlazione per il sensore H2SJ_ug_m3\n",
    "pearson, spearman, kendall= corr_Sensori(creazione_df(df_Dati, 'ATM05_01479', 'ATM14_01486', 'H2SJ_ug_m3' ), 'ATM05_01479', 'ATM14_01486')\n",
    "print('pearson: ', pearson, ' spearman: ', spearman, ' kendall: ', kendall)\n",
    " "
   ]
  },
  {
   "cell_type": "markdown",
   "metadata": {},
   "source": [
    "# POSTAZIONI ATM07_01480 E ATM10_01481"
   ]
  },
  {
   "cell_type": "code",
   "execution_count": null,
   "metadata": {},
   "outputs": [],
   "source": [
    "# correlazione per il sensore TRS_ppb\n",
    "pearson, spearman, kendall= corr_Sensori(creazione_df(df_Dati, 'ATM07_01480', 'ATM10_01481', 'TRS_ppb' ), 'ATM07_01480', 'ATM10_01481')\n",
    "print('pearson: ', pearson, ' spearman: ', spearman, ' kendall: ', kendall)\n",
    " "
   ]
  },
  {
   "cell_type": "code",
   "execution_count": null,
   "metadata": {},
   "outputs": [],
   "source": [
    "# correlazione per il sensore C6H6_ug_m3\n",
    "pearson, spearman, kendall= corr_Sensori(creazione_df(df_Dati, 'ATM07_01480', 'ATM10_01481', 'C6H6_ug_m3' ), 'ATM07_01480', 'ATM10_01481')\n",
    "print('pearson: ', pearson, ' spearman: ', spearman, ' kendall: ', kendall)\n",
    " "
   ]
  },
  {
   "cell_type": "code",
   "execution_count": null,
   "metadata": {},
   "outputs": [],
   "source": [
    "# correlazione per il sensore VOC_ppm\n",
    "pearson, spearman, kendall= corr_Sensori(creazione_df(df_Dati, 'ATM07_01480', 'ATM10_01481', 'VOC_ppm' ), 'ATM07_01480', 'ATM10_01481')\n",
    "print('pearson: ', pearson, ' spearman: ', spearman, ' kendall: ', kendall)\n",
    " "
   ]
  },
  {
   "cell_type": "code",
   "execution_count": null,
   "metadata": {},
   "outputs": [],
   "source": [
    "# correlazione per il sensore PIDVOC_ppb\n",
    "pearson, spearman, kendall= corr_Sensori(creazione_df(df_Dati, 'ATM07_01480', 'ATM10_01481', 'PIDVOC_ppb' ), 'ATM07_01480', 'ATM10_01481')\n",
    "print('pearson: ', pearson, ' spearman: ', spearman, ' kendall: ', kendall)\n",
    " "
   ]
  },
  {
   "cell_type": "code",
   "execution_count": null,
   "metadata": {},
   "outputs": [],
   "source": [
    "# correlazione per il sensore H2S_ug_m3\n",
    "pearson, spearman, kendall= corr_Sensori(creazione_df(df_Dati, 'ATM07_01480', 'ATM10_01481', 'H2S_ug_m3' ), 'ATM07_01480', 'ATM10_01481')\n",
    "print('pearson: ', pearson, ' spearman: ', spearman, ' kendall: ', kendall)\n",
    " "
   ]
  },
  {
   "cell_type": "code",
   "execution_count": null,
   "metadata": {},
   "outputs": [],
   "source": [
    "# correlazione per il sensore H2SJ_ug_m3\n",
    "pearson, spearman, kendall= corr_Sensori(creazione_df(df_Dati, 'ATM07_01480', 'ATM10_01481', 'H2SJ_ug_m3' ), 'ATM07_01480', 'ATM10_01481')\n",
    "print('pearson: ', pearson, ' spearman: ', spearman, ' kendall: ', kendall)\n",
    " "
   ]
  },
  {
   "cell_type": "markdown",
   "metadata": {},
   "source": [
    "# POSTAZIONI ATM07_01480 E ATM14_01486"
   ]
  },
  {
   "cell_type": "code",
   "execution_count": null,
   "metadata": {},
   "outputs": [],
   "source": [
    "# correlazione per il sensore TRS_ppb\n",
    "pearson, spearman, kendall= corr_Sensori(creazione_df(df_Dati, 'ATM07_01480', 'ATM14_01486', 'TRS_ppb' ), 'ATM07_01480', 'ATM14_01486')\n",
    "print('pearson: ', pearson, ' spearman: ', spearman, ' kendall: ', kendall)\n",
    " "
   ]
  },
  {
   "cell_type": "code",
   "execution_count": null,
   "metadata": {},
   "outputs": [],
   "source": [
    "# correlazione per il sensore C6H6_ug_m3\n",
    "pearson, spearman, kendall= corr_Sensori(creazione_df(df_Dati, 'ATM07_01480', 'ATM14_01486', 'C6H6_ug_m3' ), 'ATM07_01480', 'ATM14_01486')\n",
    "print('pearson: ', pearson, ' spearman: ', spearman, ' kendall: ', kendall)\n",
    " "
   ]
  },
  {
   "cell_type": "code",
   "execution_count": null,
   "metadata": {},
   "outputs": [],
   "source": [
    "# correlazione per il sensore VOC_ppm\n",
    "pearson, spearman, kendall= corr_Sensori(creazione_df(df_Dati, 'ATM07_01480', 'ATM14_01486', 'VOC_ppm' ), 'ATM07_01480', 'ATM14_01486')\n",
    "print('pearson: ', pearson, ' spearman: ', spearman, ' kendall: ', kendall)\n",
    " "
   ]
  },
  {
   "cell_type": "code",
   "execution_count": null,
   "metadata": {},
   "outputs": [],
   "source": [
    "# correlazione per il sensore PIDVOC_ppb\n",
    "pearson, spearman, kendall= corr_Sensori(creazione_df(df_Dati, 'ATM07_01480', 'ATM14_01486', 'PIDVOC_ppb' ), 'ATM07_01480', 'ATM14_01486')\n",
    "print('pearson: ', pearson, ' spearman: ', spearman, ' kendall: ', kendall)\n",
    " "
   ]
  },
  {
   "cell_type": "code",
   "execution_count": null,
   "metadata": {},
   "outputs": [],
   "source": [
    "# correlazione per il sensore H2S_ug_m3\n",
    "pearson, spearman, kendall= corr_Sensori(creazione_df(df_Dati, 'ATM07_01480', 'ATM14_01486', 'H2S_ug_m3' ), 'ATM07_01480', 'ATM14_01486')\n",
    "print('pearson: ', pearson, ' spearman: ', spearman, ' kendall: ', kendall)\n",
    " "
   ]
  },
  {
   "cell_type": "code",
   "execution_count": null,
   "metadata": {},
   "outputs": [],
   "source": [
    "# correlazione per il sensore H2SJ_ug_m3\n",
    "pearson, spearman, kendall= corr_Sensori(creazione_df(df_Dati, 'ATM07_01480', 'ATM14_01486', 'H2SJ_ug_m3' ), 'ATM07_01480', 'ATM14_01486')\n",
    "print('pearson: ', pearson, ' spearman: ', spearman, ' kendall: ', kendall)\n",
    " "
   ]
  },
  {
   "cell_type": "markdown",
   "metadata": {},
   "source": [
    "# POSTAZIONI ATM10_01481 E ATM14_01486"
   ]
  },
  {
   "cell_type": "code",
   "execution_count": null,
   "metadata": {},
   "outputs": [],
   "source": [
    "# correlazione per il sensore TRS_ppb\n",
    "pearson, spearman, kendall= corr_Sensori(creazione_df(df_Dati, 'ATM10_01481', 'ATM14_01486', 'TRS_ppb' ), 'ATM10_01481', 'ATM14_01486')\n",
    "print('pearson: ', pearson, ' spearman: ', spearman, ' kendall: ', kendall)\n",
    " "
   ]
  },
  {
   "cell_type": "code",
   "execution_count": null,
   "metadata": {},
   "outputs": [],
   "source": [
    "# correlazione per il sensore C6H6_ug_m3\n",
    "pearson, spearman, kendall= corr_Sensori(creazione_df(df_Dati, 'ATM10_01481', 'ATM14_01486', 'C6H6_ug_m3' ), 'ATM10_01481', 'ATM14_01486')\n",
    "print('pearson: ', pearson, ' spearman: ', spearman, ' kendall: ', kendall)\n",
    " "
   ]
  },
  {
   "cell_type": "code",
   "execution_count": null,
   "metadata": {},
   "outputs": [],
   "source": [
    "# correlazione per il sensore VOC_ppm\n",
    "pearson, spearman, kendall= corr_Sensori(creazione_df(df_Dati, 'ATM10_01481', 'ATM14_01486', 'VOC_ppm' ), 'ATM10_01481', 'ATM14_01486')\n",
    "print('pearson: ', pearson, ' spearman: ', spearman, ' kendall: ', kendall)\n",
    " "
   ]
  },
  {
   "cell_type": "code",
   "execution_count": null,
   "metadata": {},
   "outputs": [],
   "source": [
    "# correlazione per il sensore PIDVOC_ppb\n",
    "pearson, spearman, kendall= corr_Sensori(creazione_df(df_Dati, 'ATM10_01481', 'ATM14_01486', 'PIDVOC_ppb' ), 'ATM10_01481', 'ATM14_01486')\n",
    "print('pearson: ', pearson, ' spearman: ', spearman, ' kendall: ', kendall)\n",
    " "
   ]
  },
  {
   "cell_type": "code",
   "execution_count": null,
   "metadata": {},
   "outputs": [],
   "source": [
    "# correlazione per il sensore H2S_ug_m3\n",
    "pearson, spearman, kendall= corr_Sensori(creazione_df(df_Dati, 'ATM10_01481', 'ATM14_01486', 'H2S_ug_m3' ), 'ATM10_01481', 'ATM14_01486')\n",
    "print('pearson: ', pearson, ' spearman: ', spearman, ' kendall: ', kendall)\n",
    " "
   ]
  },
  {
   "cell_type": "code",
   "execution_count": null,
   "metadata": {},
   "outputs": [],
   "source": [
    "# correlazione per il sensore H2SJ_ug_m3\n",
    "pearson, spearman, kendall= corr_Sensori(creazione_df(df_Dati, 'ATM10_01481', 'ATM14_01486', 'H2SJ_ug_m3' ), 'ATM10_01481', 'ATM14_01486')\n",
    "print('pearson: ', pearson, ' spearman: ', spearman, ' kendall: ', kendall)\n",
    " "
   ]
  },
  {
   "cell_type": "markdown",
   "metadata": {},
   "source": [
    "# CORRELAZIONE 8"
   ]
  },
  {
   "cell_type": "code",
   "execution_count": 281,
   "metadata": {},
   "outputs": [],
   "source": [
    "df_DatiMeteo = pd.read_excel('Dati_Meteo.xlsx')"
   ]
  },
  {
   "cell_type": "code",
   "execution_count": null,
   "metadata": {},
   "outputs": [],
   "source": [
    "df_DatiMeteo.plot()"
   ]
  },
  {
   "cell_type": "code",
   "execution_count": null,
   "metadata": {},
   "outputs": [],
   "source": [
    "# crea un dataframe composto dalla media oraria dei sensori in base alla stazione scelta\n",
    "def media_Stazione(df, postazione):\n",
    "    df1 = df[df['postazione'] == postazione]\n",
    "    df2 = pd.concat([media_oraria(df1, 'C6H6_ug_m3')['C6H6_ug_m3'],\n",
    "                      media_oraria(df1, 'H2S_ug_m3')['H2S_ug_m3'],\n",
    "                      media_oraria(df1, 'H2SJ_ug_m3')['H2SJ_ug_m3'],\n",
    "                      media_oraria(df1, 'VOC_ppm')['VOC_ppm'], \n",
    "                      media_oraria(df1, 'PIDVOC_ppb')['PIDVOC_ppb']], axis=1)\n",
    "    if postazione == 'ATM14_01486':\n",
    "        df2['TRS_ppb'] = 0\n",
    "    else:\n",
    "        df2['TRS_ppb'] = media_oraria(df1, 'TRS_ppb')['TRS_ppb']\n",
    "    return df2"
   ]
  },
  {
   "cell_type": "code",
   "execution_count": 279,
   "metadata": {},
   "outputs": [],
   "source": [
    "stazione = ['ATM05_01479','ATM07_01480','ATM10_01481', 'ATM14_01486']\n",
    "sensore = ['TRS_ppb','C6H6_ug_m3', 'VOC_ppm', 'PIDVOC_ppb', 'H2S_ug_m3', 'H2SJ_ug_m3']\n",
    "meteo = ['temperatura_gradiC', 'direzione_vento_gradi','pressione_hPa', 'intensità_vento_km_h',\n",
    "         'umidità_relativa', 'precipitazioni']"
   ]
  },
  {
   "cell_type": "code",
   "execution_count": null,
   "metadata": {},
   "outputs": [],
   "source": [
    "# correlazione con la temperatura per il sensore ATM05_01479 \n",
    "df_ATM5 = media_Stazione(df_DatiPuliti, stazione[0]).fillna(0)\n",
    "df_ATM5['postazione'] = 'ATM05_01479'\n",
    "df_ATM5"
   ]
  },
  {
   "cell_type": "code",
   "execution_count": null,
   "metadata": {},
   "outputs": [],
   "source": [
    "pearson, spearman, kendall = corr_Sensori(creazione_df(df_ATM5, \n",
    "                                              stazione[0], meteo[0], sensore[0], df2 = df_DatiMeteo), stazione[0], meteo[0])\n",
    "print('pearson: ', pearson, ' spearman: ', spearman, ' kendall: ', kendall)"
   ]
  },
  {
   "cell_type": "code",
   "execution_count": null,
   "metadata": {},
   "outputs": [],
   "source": [
    "pearson, spearman, kendall = corr_Sensori(creazione_df(df_ATM5, \n",
    "                                              stazione[0], meteo[0], sensore[1], df2 = df_DatiMeteo), stazione[0], meteo[0])\n",
    "print('pearson: ', pearson, ' spearman: ', spearman, ' kendall: ', kendall)"
   ]
  },
  {
   "cell_type": "code",
   "execution_count": null,
   "metadata": {},
   "outputs": [],
   "source": [
    "pearson, spearman, kendall = corr_Sensori(creazione_df(df_ATM5, \n",
    "                                              stazione[0], meteo[0], sensore[2], df2 = df_DatiMeteo), stazione[0], meteo[0])\n",
    "print('pearson: ', pearson, ' spearman: ', spearman, ' kendall: ', kendall)"
   ]
  },
  {
   "cell_type": "code",
   "execution_count": null,
   "metadata": {},
   "outputs": [],
   "source": [
    "pearson, spearman, kendall = corr_Sensori(creazione_df(df_ATM5, \n",
    "                                              stazione[0], meteo[0], sensore[3], df2 = df_DatiMeteo), stazione[0], meteo[0])\n",
    "print('pearson: ', pearson, ' spearman: ', spearman, ' kendall: ', kendall)"
   ]
  },
  {
   "cell_type": "code",
   "execution_count": null,
   "metadata": {},
   "outputs": [],
   "source": [
    "pearson, spearman, kendall = corr_Sensori(creazione_df(df_ATM5, \n",
    "                                              stazione[0], meteo[0], sensore[4], df2 = df_DatiMeteo), stazione[0], meteo[0])\n",
    "print('pearson: ', pearson, ' spearman: ', spearman, ' kendall: ', kendall)"
   ]
  },
  {
   "cell_type": "code",
   "execution_count": null,
   "metadata": {},
   "outputs": [],
   "source": [
    "pearson, spearman, kendall = corr_Sensori(creazione_df(df_ATM5, \n",
    "                                              stazione[0], meteo[0], sensore[5], df2 = df_DatiMeteo), stazione[0], meteo[0])\n",
    "print('pearson: ', pearson, ' spearman: ', spearman, ' kendall: ', kendall)"
   ]
  },
  {
   "cell_type": "code",
   "execution_count": null,
   "metadata": {},
   "outputs": [],
   "source": [
    "# correlazione con la temperatura per il sensore ATM07_01480\n",
    "df_ATM7 = media_Stazione(df_DatiPuliti, stazione[1]).fillna(0)\n",
    "df_ATM7['postazione'] = 'ATM07_01480'\n",
    "df_ATM7"
   ]
  },
  {
   "cell_type": "code",
   "execution_count": null,
   "metadata": {},
   "outputs": [],
   "source": [
    "pearson, spearman, kendall = corr_Sensori(creazione_df(df_ATM7, \n",
    "                                              stazione[1], meteo[0], sensore[0], df2 = df_DatiMeteo), stazione[1], meteo[0])\n",
    "print('pearson: ', pearson, ' spearman: ', spearman, ' kendall: ', kendall)\n",
    " "
   ]
  },
  {
   "cell_type": "code",
   "execution_count": null,
   "metadata": {},
   "outputs": [],
   "source": [
    "pearson, spearman, kendall = corr_Sensori(creazione_df(df_ATM7, \n",
    "                                              stazione[1], meteo[0], sensore[1], df2 = df_DatiMeteo), stazione[1], meteo[0])\n",
    "print('pearson: ', pearson, ' spearman: ', spearman, ' kendall: ', kendall)\n",
    " "
   ]
  },
  {
   "cell_type": "code",
   "execution_count": null,
   "metadata": {},
   "outputs": [],
   "source": [
    "pearson, spearman, kendall = corr_Sensori(creazione_df(df_ATM7, \n",
    "                                              stazione[1], meteo[0], sensore[2], df2 = df_DatiMeteo), stazione[1], meteo[0])\n",
    "print('pearson: ', pearson, ' spearman: ', spearman, ' kendall: ', kendall)\n",
    " "
   ]
  },
  {
   "cell_type": "code",
   "execution_count": null,
   "metadata": {},
   "outputs": [],
   "source": [
    "pearson, spearman, kendall = corr_Sensori(creazione_df(df_ATM7, \n",
    "                                              stazione[1], meteo[0], sensore[3], df2 = df_DatiMeteo), stazione[1], meteo[0])\n",
    "print('pearson: ', pearson, ' spearman: ', spearman, ' kendall: ', kendall)\n",
    " "
   ]
  },
  {
   "cell_type": "code",
   "execution_count": null,
   "metadata": {},
   "outputs": [],
   "source": [
    "pearson, spearman, kendall = corr_Sensori(creazione_df(df_ATM7, \n",
    "                                              stazione[1], meteo[0], sensore[4], df2 = df_DatiMeteo), stazione[1], meteo[0])\n",
    "print('pearson: ', pearson, ' spearman: ', spearman, ' kendall: ', kendall)\n",
    " "
   ]
  },
  {
   "cell_type": "code",
   "execution_count": null,
   "metadata": {},
   "outputs": [],
   "source": [
    "pearson, spearman, kendall = corr_Sensori(creazione_df(df_ATM7, \n",
    "                                              stazione[1], meteo[0], sensore[5], df2 = df_DatiMeteo), stazione[1], meteo[0])\n",
    "print('pearson: ', pearson, ' spearman: ', spearman, ' kendall: ', kendall)\n",
    " "
   ]
  },
  {
   "cell_type": "code",
   "execution_count": null,
   "metadata": {},
   "outputs": [],
   "source": [
    "# correlazione con la temperatura per il sensore ATM10_01481\n",
    "df_ATM10 = media_Stazione(df_DatiPuliti, stazione[2]).fillna(0)\n",
    "df_ATM10['postazione'] = 'ATM10_01481'\n",
    "df_ATM10"
   ]
  },
  {
   "cell_type": "code",
   "execution_count": null,
   "metadata": {},
   "outputs": [],
   "source": [
    "pearson, spearman, kendall = corr_Sensori(creazione_df(df_ATM10, \n",
    "                                              stazione[2], meteo[0], sensore[0], df2 = df_DatiMeteo), stazione[2], meteo[0])\n",
    "print('pearson: ', pearson, ' spearman: ', spearman, ' kendall: ', kendall)\n",
    " "
   ]
  },
  {
   "cell_type": "code",
   "execution_count": null,
   "metadata": {},
   "outputs": [],
   "source": [
    "pearson, spearman, kendall = corr_Sensori(creazione_df(df_ATM10, \n",
    "                                              stazione[2], meteo[0], sensore[1], df2 = df_DatiMeteo), stazione[2], meteo[0])\n",
    "print('pearson: ', pearson, ' spearman: ', spearman, ' kendall: ', kendall)\n",
    " "
   ]
  },
  {
   "cell_type": "code",
   "execution_count": null,
   "metadata": {},
   "outputs": [],
   "source": [
    "pearson, spearman, kendall = corr_Sensori(creazione_df(df_ATM10, \n",
    "                                              stazione[2], meteo[0], sensore[2], df2 = df_DatiMeteo), stazione[2], meteo[0])\n",
    "print('pearson: ', pearson, ' spearman: ', spearman, ' kendall: ', kendall)\n",
    " "
   ]
  },
  {
   "cell_type": "code",
   "execution_count": null,
   "metadata": {},
   "outputs": [],
   "source": [
    "pearson, spearman, kendall = corr_Sensori(creazione_df(df_ATM10, \n",
    "                                              stazione[2], meteo[0], sensore[3], df2 = df_DatiMeteo), stazione[2], meteo[0])\n",
    "print('pearson: ', pearson, ' spearman: ', spearman, ' kendall: ', kendall)\n",
    " "
   ]
  },
  {
   "cell_type": "code",
   "execution_count": null,
   "metadata": {},
   "outputs": [],
   "source": [
    "pearson, spearman, kendall = corr_Sensori(creazione_df(df_ATM10, \n",
    "                                              stazione[2], meteo[0], sensore[4], df2 = df_DatiMeteo), stazione[2], meteo[0])\n",
    "print('pearson: ', pearson, ' spearman: ', spearman, ' kendall: ', kendall)\n",
    " "
   ]
  },
  {
   "cell_type": "code",
   "execution_count": null,
   "metadata": {},
   "outputs": [],
   "source": [
    "pearson, spearman, kendall = corr_Sensori(creazione_df(df_ATM10, \n",
    "                                              stazione[2], meteo[0], sensore[5], df2 = df_DatiMeteo), stazione[2], meteo[0])\n",
    "print('pearson: ', pearson, ' spearman: ', spearman, ' kendall: ', kendall)\n",
    " "
   ]
  },
  {
   "cell_type": "code",
   "execution_count": null,
   "metadata": {},
   "outputs": [],
   "source": [
    "# correlazione con la temperatura per il sensore ATM14_01486\n",
    "df_ATM14 = media_Stazione(df_DatiPuliti, stazione[3]).fillna(0)\n",
    "df_ATM14['postazione'] = 'ATM14_01486'\n",
    "df_ATM14\n"
   ]
  },
  {
   "cell_type": "code",
   "execution_count": null,
   "metadata": {},
   "outputs": [],
   "source": [
    "pearson, spearman, kendall = corr_Sensori(creazione_df(df_ATM14, \n",
    "                                              stazione[3], meteo[0], sensore[0], df2 = df_DatiMeteo), stazione[3], meteo[0])\n",
    "print('pearson: ', pearson, ' spearman: ', spearman, ' kendall: ', kendall)"
   ]
  },
  {
   "cell_type": "code",
   "execution_count": null,
   "metadata": {},
   "outputs": [],
   "source": [
    "pearson, spearman, kendall = corr_Sensori(creazione_df(df_ATM14, \n",
    "                                              stazione[3], meteo[0], sensore[1], df2 = df_DatiMeteo), stazione[3], meteo[0])\n",
    "print('pearson: ', pearson, ' spearman: ', spearman, ' kendall: ', kendall)"
   ]
  },
  {
   "cell_type": "code",
   "execution_count": null,
   "metadata": {},
   "outputs": [],
   "source": [
    "pearson, spearman, kendall = corr_Sensori(creazione_df(df_ATM14, \n",
    "                                              stazione[3], meteo[0], sensore[2], df2 = df_DatiMeteo), stazione[3], meteo[0])\n",
    "print('pearson: ', pearson, ' spearman: ', spearman, ' kendall: ', kendall)"
   ]
  },
  {
   "cell_type": "code",
   "execution_count": null,
   "metadata": {},
   "outputs": [],
   "source": [
    "pearson, spearman, kendall = corr_Sensori(creazione_df(df_ATM14, \n",
    "                                              stazione[3], meteo[0], sensore[3], df2 = df_DatiMeteo), stazione[3], meteo[0])\n",
    "print('pearson: ', pearson, ' spearman: ', spearman, ' kendall: ', kendall)\n",
    " "
   ]
  },
  {
   "cell_type": "code",
   "execution_count": null,
   "metadata": {},
   "outputs": [],
   "source": [
    "pearson, spearman, kendall = corr_Sensori(creazione_df(df_ATM14, \n",
    "                                              stazione[3], meteo[0], sensore[4], df2 = df_DatiMeteo), stazione[3], meteo[0])\n",
    "print('pearson: ', pearson, ' spearman: ', spearman, ' kendall: ', kendall) "
   ]
  },
  {
   "cell_type": "code",
   "execution_count": null,
   "metadata": {},
   "outputs": [],
   "source": [
    "pearson, spearman, kendall = corr_Sensori(creazione_df(df_ATM14, \n",
    "                                              stazione[3], meteo[0], sensore[5], df2 = df_DatiMeteo), stazione[3], meteo[0])\n",
    "print('pearson: ', pearson, ' spearman: ', spearman, ' kendall: ', kendall)"
   ]
  },
  {
   "cell_type": "markdown",
   "metadata": {},
   "source": [
    "# CORRELAZIONE 9"
   ]
  },
  {
   "cell_type": "code",
   "execution_count": null,
   "metadata": {},
   "outputs": [],
   "source": [
    "# correlazione con la direzione del vento per il sensore ATM05_01479 \n",
    "df_ATM5 = media_Stazione(df_DatiPuliti, stazione[0]).fillna(0)\n",
    "df_ATM5['postazione'] = 'ATM05_01479'\n",
    "df_ATM5"
   ]
  },
  {
   "cell_type": "code",
   "execution_count": null,
   "metadata": {},
   "outputs": [],
   "source": [
    "pearson, spearman, kendall = corr_Sensori(creazione_df(df_ATM5, \n",
    "                                              stazione[0], meteo[1], sensore[0], df2 = df_DatiMeteo), stazione[0], meteo[1])\n",
    "print('pearson: ', pearson, ' spearman: ', spearman, ' kendall: ', kendall)\n",
    " "
   ]
  },
  {
   "cell_type": "code",
   "execution_count": null,
   "metadata": {},
   "outputs": [],
   "source": [
    "pearson, spearman, kendall = corr_Sensori(creazione_df(df_ATM5, \n",
    "                                              stazione[0], meteo[1], sensore[1], df2 = df_DatiMeteo), stazione[0], meteo[1])\n",
    "print('pearson: ', pearson, ' spearman: ', spearman, ' kendall: ', kendall)\n",
    " "
   ]
  },
  {
   "cell_type": "code",
   "execution_count": null,
   "metadata": {},
   "outputs": [],
   "source": [
    "pearson, spearman, kendall = corr_Sensori(creazione_df(df_ATM5, \n",
    "                                              stazione[0], meteo[1], sensore[2], df2 = df_DatiMeteo), stazione[0], meteo[1])\n",
    "print('pearson: ', pearson, ' spearman: ', spearman, ' kendall: ', kendall)\n",
    " "
   ]
  },
  {
   "cell_type": "code",
   "execution_count": null,
   "metadata": {},
   "outputs": [],
   "source": [
    "pearson, spearman, kendall = corr_Sensori(creazione_df(df_ATM5, \n",
    "                                              stazione[0], meteo[1], sensore[3], df2 = df_DatiMeteo), stazione[0], meteo[1])\n",
    "print('pearson: ', pearson, ' spearman: ', spearman, ' kendall: ', kendall)\n",
    " "
   ]
  },
  {
   "cell_type": "code",
   "execution_count": null,
   "metadata": {},
   "outputs": [],
   "source": [
    "pearson, spearman, kendall = corr_Sensori(creazione_df(df_ATM5, \n",
    "                                              stazione[0], meteo[1], sensore[4], df2 = df_DatiMeteo), stazione[0], meteo[1])\n",
    "print('pearson: ', pearson, ' spearman: ', spearman, ' kendall: ', kendall)\n",
    " "
   ]
  },
  {
   "cell_type": "code",
   "execution_count": null,
   "metadata": {},
   "outputs": [],
   "source": [
    "pearson, spearman, kendall = corr_Sensori(creazione_df(df_ATM5, \n",
    "                                              stazione[0], meteo[1], sensore[5], df2 = df_DatiMeteo), stazione[0], meteo[1])\n",
    "print('pearson: ', pearson, ' spearman: ', spearman, ' kendall: ', kendall)\n",
    " "
   ]
  },
  {
   "cell_type": "code",
   "execution_count": null,
   "metadata": {},
   "outputs": [],
   "source": [
    "# correlazione con la direzione del vento per il sensore ATM07_01480\n",
    "df_ATM7 = media_Stazione(df_DatiPuliti, stazione[1]).fillna(0)\n",
    "df_ATM7['postazione'] = 'ATM07_01480'\n",
    "df_ATM7\n"
   ]
  },
  {
   "cell_type": "code",
   "execution_count": null,
   "metadata": {},
   "outputs": [],
   "source": [
    "pearson, spearman, kendall = corr_Sensori(creazione_df(df_ATM7, \n",
    "                                              stazione[1], meteo[1], sensore[0], df2 = df_DatiMeteo), stazione[1], meteo[1])\n",
    "print('pearson: ', pearson, ' spearman: ', spearman, ' kendall: ', kendall)\n",
    " "
   ]
  },
  {
   "cell_type": "code",
   "execution_count": null,
   "metadata": {},
   "outputs": [],
   "source": [
    "pearson, spearman, kendall = corr_Sensori(creazione_df(df_ATM7, \n",
    "                                              stazione[1], meteo[1], sensore[1], df2 = df_DatiMeteo), stazione[1], meteo[1])\n",
    "print('pearson: ', pearson, ' spearman: ', spearman, ' kendall: ', kendall)\n",
    " "
   ]
  },
  {
   "cell_type": "code",
   "execution_count": null,
   "metadata": {},
   "outputs": [],
   "source": [
    "pearson, spearman, kendall = corr_Sensori(creazione_df(df_ATM7, \n",
    "                                              stazione[1], meteo[1], sensore[2], df2 = df_DatiMeteo), stazione[1], meteo[1])\n",
    "print('pearson: ', pearson, ' spearman: ', spearman, ' kendall: ', kendall)\n",
    " "
   ]
  },
  {
   "cell_type": "code",
   "execution_count": null,
   "metadata": {},
   "outputs": [],
   "source": [
    "pearson, spearman, kendall = corr_Sensori(creazione_df(df_ATM7, \n",
    "                                              stazione[1], meteo[1], sensore[3], df2 = df_DatiMeteo), stazione[1], meteo[1])\n",
    "print('pearson: ', pearson, ' spearman: ', spearman, ' kendall: ', kendall)\n",
    " "
   ]
  },
  {
   "cell_type": "code",
   "execution_count": null,
   "metadata": {},
   "outputs": [],
   "source": [
    "pearson, spearman, kendall = corr_Sensori(creazione_df(df_ATM7, \n",
    "                                              stazione[1], meteo[1], sensore[4], df2 = df_DatiMeteo), stazione[1], meteo[1])\n",
    "print('pearson: ', pearson, ' spearman: ', spearman, ' kendall: ', kendall)"
   ]
  },
  {
   "cell_type": "code",
   "execution_count": null,
   "metadata": {},
   "outputs": [],
   "source": [
    "pearson, spearman, kendall = corr_Sensori(creazione_df(df_ATM7, \n",
    "                                              stazione[1], meteo[1], sensore[5], df2 = df_DatiMeteo), stazione[1], meteo[1])\n",
    "print('pearson: ', pearson, ' spearman: ', spearman, ' kendall: ', kendall)\n",
    " "
   ]
  },
  {
   "cell_type": "code",
   "execution_count": null,
   "metadata": {},
   "outputs": [],
   "source": [
    "# correlazione con la direzione del vento per il sensore ATM10_01481\n",
    "df_ATM10 = media_Stazione(df_DatiPuliti, stazione[2]).fillna(0)\n",
    "df_ATM10['postazione'] = 'ATM10_01481'\n",
    "df_ATM10\n"
   ]
  },
  {
   "cell_type": "code",
   "execution_count": null,
   "metadata": {},
   "outputs": [],
   "source": [
    "pearson, spearman, kendall = corr_Sensori(creazione_df(df_ATM10, \n",
    "                                              stazione[2], meteo[1], sensore[0], df2 = df_DatiMeteo), stazione[2], meteo[1])\n",
    "print('pearson: ', pearson, ' spearman: ', spearman, ' kendall: ', kendall)\n",
    " "
   ]
  },
  {
   "cell_type": "code",
   "execution_count": null,
   "metadata": {},
   "outputs": [],
   "source": [
    "pearson, spearman, kendall = corr_Sensori(creazione_df(df_ATM10, \n",
    "                                              stazione[2], meteo[1], sensore[1], df2 = df_DatiMeteo), stazione[2], meteo[1])\n",
    "print('pearson: ', pearson, ' spearman: ', spearman, ' kendall: ', kendall)\n"
   ]
  },
  {
   "cell_type": "code",
   "execution_count": null,
   "metadata": {},
   "outputs": [],
   "source": [
    "pearson, spearman, kendall = corr_Sensori(creazione_df(df_ATM10, \n",
    "                                              stazione[2], meteo[1], sensore[2], df2 = df_DatiMeteo), stazione[2], meteo[1])\n",
    "print('pearson: ', pearson, ' spearman: ', spearman, ' kendall: ', kendall)\n",
    " "
   ]
  },
  {
   "cell_type": "code",
   "execution_count": null,
   "metadata": {},
   "outputs": [],
   "source": [
    "pearson, spearman, kendall = corr_Sensori(creazione_df(df_ATM10, \n",
    "                                              stazione[2], meteo[1], sensore[3], df2 = df_DatiMeteo), stazione[2], meteo[1])\n",
    "print('pearson: ', pearson, ' spearman: ', spearman, ' kendall: ', kendall)\n",
    " "
   ]
  },
  {
   "cell_type": "code",
   "execution_count": null,
   "metadata": {},
   "outputs": [],
   "source": [
    "pearson, spearman, kendall = corr_Sensori(creazione_df(df_ATM10, \n",
    "                                              stazione[2], meteo[1], sensore[4], df2 = df_DatiMeteo), stazione[2], meteo[1])\n",
    "print('pearson: ', pearson, ' spearman: ', spearman, ' kendall: ', kendall)\n",
    " "
   ]
  },
  {
   "cell_type": "code",
   "execution_count": null,
   "metadata": {},
   "outputs": [],
   "source": [
    "pearson, spearman, kendall = corr_Sensori(creazione_df(df_ATM10, \n",
    "                                              stazione[2], meteo[1], sensore[5], df2 = df_DatiMeteo), stazione[2], meteo[1])\n",
    "print('pearson: ', pearson, ' spearman: ', spearman, ' kendall: ', kendall)\n",
    " "
   ]
  },
  {
   "cell_type": "code",
   "execution_count": null,
   "metadata": {},
   "outputs": [],
   "source": [
    "# correlazione con la direzione del vento per il sensore ATM14_01486\n",
    "df_ATM14 = media_Stazione(df_DatiPuliti, stazione[3]).fillna(0)\n",
    "df_ATM14['postazione'] = 'ATM14_01486'\n",
    "df_ATM14"
   ]
  },
  {
   "cell_type": "code",
   "execution_count": null,
   "metadata": {},
   "outputs": [],
   "source": [
    "pearson, spearman, kendall = corr_Sensori(creazione_df(df_ATM14, \n",
    "                                              stazione[3], meteo[1], sensore[0], df2 = df_DatiMeteo), stazione[3], meteo[1])\n",
    "print('pearson: ', pearson, ' spearman: ', spearman, ' kendall: ', kendall)"
   ]
  },
  {
   "cell_type": "code",
   "execution_count": null,
   "metadata": {},
   "outputs": [],
   "source": [
    "pearson, spearman, kendall = corr_Sensori(creazione_df(df_ATM14, \n",
    "                                              stazione[3], meteo[1], sensore[1], df2 = df_DatiMeteo), stazione[3], meteo[1])\n",
    "print('pearson: ', pearson, ' spearman: ', spearman, ' kendall: ', kendall)\n",
    " "
   ]
  },
  {
   "cell_type": "code",
   "execution_count": null,
   "metadata": {},
   "outputs": [],
   "source": [
    "pearson, spearman, kendall = corr_Sensori(creazione_df(df_ATM14, \n",
    "                                              stazione[3], meteo[1], sensore[2], df2 = df_DatiMeteo), stazione[3], meteo[1])\n",
    "print('pearson: ', pearson, ' spearman: ', spearman, ' kendall: ', kendall)\n",
    " "
   ]
  },
  {
   "cell_type": "code",
   "execution_count": null,
   "metadata": {},
   "outputs": [],
   "source": [
    "pearson, spearman, kendall = corr_Sensori(creazione_df(df_ATM14, \n",
    "                                              stazione[3], meteo[1], sensore[3], df2 = df_DatiMeteo), stazione[3], meteo[1])\n",
    "print('pearson: ', pearson, ' spearman: ', spearman, ' kendall: ', kendall)\n",
    " "
   ]
  },
  {
   "cell_type": "code",
   "execution_count": null,
   "metadata": {},
   "outputs": [],
   "source": [
    "pearson, spearman, kendall = corr_Sensori(creazione_df(df_ATM14, \n",
    "                                              stazione[3], meteo[1], sensore[4], df2 = df_DatiMeteo), stazione[3], meteo[1])\n",
    "print('pearson: ', pearson, ' spearman: ', spearman, ' kendall: ', kendall)\n",
    " "
   ]
  },
  {
   "cell_type": "code",
   "execution_count": null,
   "metadata": {},
   "outputs": [],
   "source": [
    "pearson, spearman, kendall = corr_Sensori(creazione_df(df_ATM14, \n",
    "                                              stazione[3], meteo[1], sensore[5], df2 = df_DatiMeteo), stazione[3], meteo[1])\n",
    "print('pearson: ', pearson, ' spearman: ', spearman, ' kendall: ', kendall)\n",
    " "
   ]
  },
  {
   "cell_type": "markdown",
   "metadata": {},
   "source": [
    "# CORRELAZIONE 10"
   ]
  },
  {
   "cell_type": "code",
   "execution_count": null,
   "metadata": {},
   "outputs": [],
   "source": [
    "# correlazione con la pressione atmosferica per il sensore ATM05_01479 \n",
    "df_ATM5 = media_Stazione(df_DatiPuliti, stazione[0]).fillna(0)\n",
    "df_ATM5['postazione'] = 'ATM05_01479'\n",
    "df_ATM5"
   ]
  },
  {
   "cell_type": "code",
   "execution_count": null,
   "metadata": {},
   "outputs": [],
   "source": [
    "pearson, spearman, kendall = corr_Sensori(creazione_df(df_ATM5, \n",
    "                                              stazione[0], meteo[2], sensore[0], df2 = df_DatiMeteo), stazione[0], meteo[2])\n",
    "print('pearson: ', pearson, ' spearman: ', spearman, ' kendall: ', kendall)\n",
    " "
   ]
  },
  {
   "cell_type": "code",
   "execution_count": null,
   "metadata": {},
   "outputs": [],
   "source": [
    "pearson, spearman, kendall = corr_Sensori(creazione_df(df_ATM5, \n",
    "                                              stazione[0], meteo[2], sensore[1], df2 = df_DatiMeteo), stazione[0], meteo[2])\n",
    "print('pearson: ', pearson, ' spearman: ', spearman, ' kendall: ', kendall)\n",
    " "
   ]
  },
  {
   "cell_type": "code",
   "execution_count": null,
   "metadata": {},
   "outputs": [],
   "source": [
    "pearson, spearman, kendall = corr_Sensori(creazione_df(df_ATM5, \n",
    "                                              stazione[0], meteo[2], sensore[2], df2 = df_DatiMeteo), stazione[0], meteo[2])\n",
    "print('pearson: ', pearson, ' spearman: ', spearman, ' kendall: ', kendall)\n",
    " "
   ]
  },
  {
   "cell_type": "code",
   "execution_count": null,
   "metadata": {},
   "outputs": [],
   "source": [
    "pearson, spearman, kendall = corr_Sensori(creazione_df(df_ATM5, \n",
    "                                              stazione[0], meteo[2], sensore[3], df2 = df_DatiMeteo), stazione[0], meteo[2])\n",
    "print('pearson: ', pearson, ' spearman: ', spearman, ' kendall: ', kendall)\n",
    " "
   ]
  },
  {
   "cell_type": "code",
   "execution_count": null,
   "metadata": {},
   "outputs": [],
   "source": [
    "pearson, spearman, kendall = corr_Sensori(creazione_df(df_ATM5, \n",
    "                                              stazione[0], meteo[2], sensore[4], df2 = df_DatiMeteo), stazione[0], meteo[2])\n",
    "print('pearson: ', pearson, ' spearman: ', spearman, ' kendall: ', kendall)\n",
    " "
   ]
  },
  {
   "cell_type": "code",
   "execution_count": null,
   "metadata": {},
   "outputs": [],
   "source": [
    "pearson, spearman, kendall = corr_Sensori(creazione_df(df_ATM5, \n",
    "                                              stazione[0], meteo[2], sensore[5], df2 = df_DatiMeteo), stazione[0], meteo[2])\n",
    "print('pearson: ', pearson, ' spearman: ', spearman, ' kendall: ', kendall)\n",
    " "
   ]
  },
  {
   "cell_type": "code",
   "execution_count": null,
   "metadata": {},
   "outputs": [],
   "source": [
    "# correlazione con la pressione atmosferica per il sensore ATM07_01480\n",
    "df_ATM7 = media_Stazione(df_DatiPuliti, stazione[1]).fillna(0)\n",
    "df_ATM7['postazione'] = 'ATM07_01480'\n",
    "df_ATM7"
   ]
  },
  {
   "cell_type": "code",
   "execution_count": null,
   "metadata": {},
   "outputs": [],
   "source": [
    "pearson, spearman, kendall = corr_Sensori(creazione_df(df_ATM7, \n",
    "                                              stazione[1], meteo[2], sensore[0], df2 = df_DatiMeteo), stazione[1], meteo[2])\n",
    "print('pearson: ', pearson, ' spearman: ', spearman, ' kendall: ', kendall)\n",
    " "
   ]
  },
  {
   "cell_type": "code",
   "execution_count": null,
   "metadata": {},
   "outputs": [],
   "source": [
    "pearson, spearman, kendall = corr_Sensori(creazione_df(df_ATM7, \n",
    "                                              stazione[1], meteo[2], sensore[1], df2 = df_DatiMeteo), stazione[1], meteo[2])\n",
    "print('pearson: ', pearson, ' spearman: ', spearman, ' kendall: ', kendall)\n",
    " "
   ]
  },
  {
   "cell_type": "code",
   "execution_count": null,
   "metadata": {},
   "outputs": [],
   "source": [
    "pearson, spearman, kendall = corr_Sensori(creazione_df(df_ATM7, \n",
    "                                              stazione[1], meteo[2], sensore[2], df2 = df_DatiMeteo), stazione[1], meteo[2])\n",
    "print('pearson: ', pearson, ' spearman: ', spearman, ' kendall: ', kendall)\n",
    " "
   ]
  },
  {
   "cell_type": "code",
   "execution_count": null,
   "metadata": {},
   "outputs": [],
   "source": [
    "pearson, spearman, kendall = corr_Sensori(creazione_df(df_ATM7, \n",
    "                                              stazione[1], meteo[2], sensore[3], df2 = df_DatiMeteo), stazione[1], meteo[2])\n",
    "print('pearson: ', pearson, ' spearman: ', spearman, ' kendall: ', kendall)\n",
    " "
   ]
  },
  {
   "cell_type": "code",
   "execution_count": null,
   "metadata": {},
   "outputs": [],
   "source": [
    "pearson, spearman, kendall = corr_Sensori(creazione_df(df_ATM7, \n",
    "                                              stazione[1], meteo[2], sensore[4], df2 = df_DatiMeteo), stazione[1], meteo[2])\n",
    "print('pearson: ', pearson, ' spearman: ', spearman, ' kendall: ', kendall)\n",
    " "
   ]
  },
  {
   "cell_type": "code",
   "execution_count": null,
   "metadata": {},
   "outputs": [],
   "source": [
    "pearson, spearman, kendall = corr_Sensori(creazione_df(df_ATM7, \n",
    "                                              stazione[1], meteo[2], sensore[5], df2 = df_DatiMeteo), stazione[1], meteo[2])\n",
    "print('pearson: ', pearson, ' spearman: ', spearman, ' kendall: ', kendall)\n",
    " "
   ]
  },
  {
   "cell_type": "code",
   "execution_count": null,
   "metadata": {},
   "outputs": [],
   "source": [
    "# correlazione con la pressione atmosferica per il sensore ATM10_01481\n",
    "df_ATM10 = media_Stazione(df_DatiPuliti, stazione[2]).fillna(0)\n",
    "df_ATM10['postazione'] = 'ATM10_01481'\n",
    "df_ATM10"
   ]
  },
  {
   "cell_type": "code",
   "execution_count": null,
   "metadata": {},
   "outputs": [],
   "source": [
    "pearson, spearman, kendall = corr_Sensori(creazione_df(df_ATM10, \n",
    "                                              stazione[2], meteo[2], sensore[0], df2 = df_DatiMeteo), stazione[2], meteo[2])\n",
    "print('pearson: ', pearson, ' spearman: ', spearman, ' kendall: ', kendall)\n",
    " "
   ]
  },
  {
   "cell_type": "code",
   "execution_count": null,
   "metadata": {},
   "outputs": [],
   "source": [
    "pearson, spearman, kendall = corr_Sensori(creazione_df(df_ATM10, \n",
    "                                              stazione[2], meteo[2], sensore[1], df2 = df_DatiMeteo), stazione[2], meteo[2])\n",
    "print('pearson: ', pearson, ' spearman: ', spearman, ' kendall: ', kendall)\n",
    " "
   ]
  },
  {
   "cell_type": "code",
   "execution_count": null,
   "metadata": {},
   "outputs": [],
   "source": [
    "pearson, spearman, kendall = corr_Sensori(creazione_df(df_ATM10, \n",
    "                                              stazione[2], meteo[2], sensore[2], df2 = df_DatiMeteo), stazione[2], meteo[2])\n",
    "print('pearson: ', pearson, ' spearman: ', spearman, ' kendall: ', kendall)\n",
    " "
   ]
  },
  {
   "cell_type": "code",
   "execution_count": null,
   "metadata": {},
   "outputs": [],
   "source": [
    "pearson, spearman, kendall = corr_Sensori(creazione_df(df_ATM10, \n",
    "                                              stazione[2], meteo[2], sensore[3], df2 = df_DatiMeteo), stazione[2], meteo[2])\n",
    "print('pearson: ', pearson, ' spearman: ', spearman, ' kendall: ', kendall)\n",
    " "
   ]
  },
  {
   "cell_type": "code",
   "execution_count": null,
   "metadata": {},
   "outputs": [],
   "source": [
    "pearson, spearman, kendall = corr_Sensori(creazione_df(df_ATM10, \n",
    "                                              stazione[2], meteo[2], sensore[4], df2 = df_DatiMeteo), stazione[2], meteo[2])\n",
    "print('pearson: ', pearson, ' spearman: ', spearman, ' kendall: ', kendall)\n",
    " "
   ]
  },
  {
   "cell_type": "code",
   "execution_count": null,
   "metadata": {},
   "outputs": [],
   "source": [
    "pearson, spearman, kendall = corr_Sensori(creazione_df(df_ATM10, \n",
    "                                              stazione[2], meteo[2], sensore[5], df2 = df_DatiMeteo), stazione[2], meteo[2])\n",
    "print('pearson: ', pearson, ' spearman: ', spearman, ' kendall: ', kendall)\n",
    " "
   ]
  },
  {
   "cell_type": "code",
   "execution_count": null,
   "metadata": {},
   "outputs": [],
   "source": [
    "# correlazione con la pressione atmosferica per il sensore ATM14_01486\n",
    "df_ATM14 = media_Stazione(df_DatiPuliti, stazione[3]).fillna(0)\n",
    "df_ATM14['postazione'] = 'ATM14_01486'\n",
    "df_ATM14"
   ]
  },
  {
   "cell_type": "code",
   "execution_count": null,
   "metadata": {},
   "outputs": [],
   "source": [
    "pearson, spearman, kendall = corr_Sensori(creazione_df(df_ATM14, \n",
    "                                              stazione[3], meteo[2], sensore[0], df2 = df_DatiMeteo), stazione[3], meteo[2])\n",
    "print('pearson: ', pearson, ' spearman: ', spearman, ' kendall: ', kendall)\n",
    " "
   ]
  },
  {
   "cell_type": "code",
   "execution_count": null,
   "metadata": {},
   "outputs": [],
   "source": [
    "pearson, spearman, kendall = corr_Sensori(creazione_df(df_ATM14, \n",
    "                                              stazione[3], meteo[2], sensore[1], df2 = df_DatiMeteo), stazione[3], meteo[2])\n",
    "print('pearson: ', pearson, ' spearman: ', spearman, ' kendall: ', kendall)\n",
    " "
   ]
  },
  {
   "cell_type": "code",
   "execution_count": null,
   "metadata": {},
   "outputs": [],
   "source": [
    "pearson, spearman, kendall = corr_Sensori(creazione_df(df_ATM14, \n",
    "                                              stazione[3], meteo[2], sensore[2], df2 = df_DatiMeteo), stazione[3], meteo[2])\n",
    "print('pearson: ', pearson, ' spearman: ', spearman, ' kendall: ', kendall)\n",
    " "
   ]
  },
  {
   "cell_type": "code",
   "execution_count": null,
   "metadata": {},
   "outputs": [],
   "source": [
    "pearson, spearman, kendall = corr_Sensori(creazione_df(df_ATM14, \n",
    "                                              stazione[3], meteo[2], sensore[3], df2 = df_DatiMeteo), stazione[3], meteo[2])\n",
    "print('pearson: ', pearson, ' spearman: ', spearman, ' kendall: ', kendall)\n",
    " "
   ]
  },
  {
   "cell_type": "code",
   "execution_count": null,
   "metadata": {},
   "outputs": [],
   "source": [
    "pearson, spearman, kendall = corr_Sensori(creazione_df(df_ATM14, \n",
    "                                              stazione[3], meteo[2], sensore[4], df2 = df_DatiMeteo), stazione[3], meteo[2])\n",
    "print('pearson: ', pearson, ' spearman: ', spearman, ' kendall: ', kendall)\n",
    " "
   ]
  },
  {
   "cell_type": "code",
   "execution_count": null,
   "metadata": {},
   "outputs": [],
   "source": [
    "pearson, spearman, kendall = corr_Sensori(creazione_df(df_ATM14, \n",
    "                                              stazione[3], meteo[2], sensore[5], df2 = df_DatiMeteo), stazione[3], meteo[2])\n",
    "print('pearson: ', pearson, ' spearman: ', spearman, ' kendall: ', kendall)\n",
    " "
   ]
  },
  {
   "cell_type": "markdown",
   "metadata": {},
   "source": [
    "# CORRELAZIONE 11"
   ]
  },
  {
   "cell_type": "code",
   "execution_count": null,
   "metadata": {},
   "outputs": [],
   "source": [
    "# correlazione con l'intensità del vento per il sensore ATM05_01479 \n",
    "df_ATM5 = media_Stazione(df_DatiPuliti, stazione[0]).fillna(0)\n",
    "df_ATM5['postazione'] = 'ATM05_01479'\n",
    "df_ATM5"
   ]
  },
  {
   "cell_type": "code",
   "execution_count": null,
   "metadata": {},
   "outputs": [],
   "source": [
    "pearson, spearman, kendall = corr_Sensori(creazione_df(df_ATM5, \n",
    "                                              stazione[0], meteo[3], sensore[0], df2 = df_DatiMeteo), stazione[0], meteo[3])\n",
    "print('pearson: ', pearson, ' spearman: ', spearman, ' kendall: ', kendall)\n",
    " "
   ]
  },
  {
   "cell_type": "code",
   "execution_count": null,
   "metadata": {},
   "outputs": [],
   "source": [
    "pearson, spearman, kendall = corr_Sensori(creazione_df(df_ATM5, \n",
    "                                              stazione[0], meteo[3], sensore[1], df2 = df_DatiMeteo), stazione[0], meteo[3])\n",
    "print('pearson: ', pearson, ' spearman: ', spearman, ' kendall: ', kendall)\n",
    " "
   ]
  },
  {
   "cell_type": "code",
   "execution_count": null,
   "metadata": {},
   "outputs": [],
   "source": [
    "pearson, spearman, kendall = corr_Sensori(creazione_df(df_ATM5, \n",
    "                                              stazione[0], meteo[3], sensore[2], df2 = df_DatiMeteo), stazione[0], meteo[3])\n",
    "print('pearson: ', pearson, ' spearman: ', spearman, ' kendall: ', kendall)\n",
    " "
   ]
  },
  {
   "cell_type": "code",
   "execution_count": null,
   "metadata": {},
   "outputs": [],
   "source": [
    "pearson, spearman, kendall = corr_Sensori(creazione_df(df_ATM5, \n",
    "                                              stazione[0], meteo[3], sensore[3], df2 = df_DatiMeteo), stazione[0], meteo[3])\n",
    "print('pearson: ', pearson, ' spearman: ', spearman, ' kendall: ', kendall)\n",
    " "
   ]
  },
  {
   "cell_type": "code",
   "execution_count": null,
   "metadata": {},
   "outputs": [],
   "source": [
    "pearson, spearman, kendall = corr_Sensori(creazione_df(df_ATM5, \n",
    "                                              stazione[0], meteo[3], sensore[4], df2 = df_DatiMeteo), stazione[0], meteo[3])\n",
    "print('pearson: ', pearson, ' spearman: ', spearman, ' kendall: ', kendall)\n",
    " "
   ]
  },
  {
   "cell_type": "code",
   "execution_count": null,
   "metadata": {},
   "outputs": [],
   "source": [
    "pearson, spearman, kendall = corr_Sensori(creazione_df(df_ATM5, \n",
    "                                              stazione[0], meteo[3], sensore[5], df2 = df_DatiMeteo), stazione[0], meteo[3])\n",
    "print('pearson: ', pearson, ' spearman: ', spearman, ' kendall: ', kendall)\n",
    " "
   ]
  },
  {
   "cell_type": "code",
   "execution_count": null,
   "metadata": {},
   "outputs": [],
   "source": [
    "# correlazione con l'intensità del vento per il sensore ATM07_01480\n",
    "df_ATM7 = media_Stazione(df_DatiPuliti, stazione[1]).fillna(0)\n",
    "df_ATM7['postazione'] = 'ATM07_01480'\n",
    "df_ATM7"
   ]
  },
  {
   "cell_type": "code",
   "execution_count": null,
   "metadata": {},
   "outputs": [],
   "source": [
    "pearson, spearman, kendall = corr_Sensori(creazione_df(df_ATM7, \n",
    "                                              stazione[1], meteo[3], sensore[0], df2 = df_DatiMeteo), stazione[1], meteo[3])\n",
    "print('pearson: ', pearson, ' spearman: ', spearman, ' kendall: ', kendall)\n",
    " "
   ]
  },
  {
   "cell_type": "code",
   "execution_count": null,
   "metadata": {},
   "outputs": [],
   "source": [
    "pearson, spearman, kendall = corr_Sensori(creazione_df(df_ATM7, \n",
    "                                              stazione[1], meteo[3], sensore[1], df2 = df_DatiMeteo), stazione[1], meteo[3])\n",
    "print('pearson: ', pearson, ' spearman: ', spearman, ' kendall: ', kendall)\n",
    " "
   ]
  },
  {
   "cell_type": "code",
   "execution_count": null,
   "metadata": {},
   "outputs": [],
   "source": [
    "pearson, spearman, kendall = corr_Sensori(creazione_df(df_ATM7, \n",
    "                                              stazione[1], meteo[3], sensore[2], df2 = df_DatiMeteo), stazione[1], meteo[3])\n",
    "print('pearson: ', pearson, ' spearman: ', spearman, ' kendall: ', kendall)\n",
    " "
   ]
  },
  {
   "cell_type": "code",
   "execution_count": null,
   "metadata": {},
   "outputs": [],
   "source": [
    "pearson, spearman, kendall = corr_Sensori(creazione_df(df_ATM7, \n",
    "                                              stazione[1], meteo[3], sensore[3], df2 = df_DatiMeteo), stazione[1], meteo[3])\n",
    "print('pearson: ', pearson, ' spearman: ', spearman, ' kendall: ', kendall)\n",
    " "
   ]
  },
  {
   "cell_type": "code",
   "execution_count": null,
   "metadata": {},
   "outputs": [],
   "source": [
    "pearson, spearman, kendall = corr_Sensori(creazione_df(df_ATM7, \n",
    "                                              stazione[1], meteo[3], sensore[4], df2 = df_DatiMeteo), stazione[1], meteo[3])\n",
    "print('pearson: ', pearson, ' spearman: ', spearman, ' kendall: ', kendall)\n",
    " "
   ]
  },
  {
   "cell_type": "code",
   "execution_count": null,
   "metadata": {},
   "outputs": [],
   "source": [
    "pearson, spearman, kendall = corr_Sensori(creazione_df(df_ATM7, \n",
    "                                              stazione[1], meteo[3], sensore[5], df2 = df_DatiMeteo), stazione[1], meteo[3])\n",
    "print('pearson: ', pearson, ' spearman: ', spearman, ' kendall: ', kendall)\n",
    " "
   ]
  },
  {
   "cell_type": "code",
   "execution_count": null,
   "metadata": {},
   "outputs": [],
   "source": [
    "# correlazione con l'intensità del vento per il sensore ATM10_01481\n",
    "df_ATM10 = media_Stazione(df_DatiPuliti, stazione[2]).fillna(0)\n",
    "df_ATM10['postazione'] = 'ATM10_01481'\n",
    "df_ATM10"
   ]
  },
  {
   "cell_type": "code",
   "execution_count": null,
   "metadata": {},
   "outputs": [],
   "source": [
    "pearson, spearman, kendall = corr_Sensori(creazione_df(df_ATM10, \n",
    "                                              stazione[2], meteo[3], sensore[0], df2 = df_DatiMeteo), stazione[2], meteo[3])\n",
    "print('pearson: ', pearson, ' spearman: ', spearman, ' kendall: ', kendall)\n",
    " "
   ]
  },
  {
   "cell_type": "code",
   "execution_count": null,
   "metadata": {},
   "outputs": [],
   "source": [
    "pearson, spearman, kendall = corr_Sensori(creazione_df(df_ATM10, \n",
    "                                              stazione[2], meteo[3], sensore[1], df2 = df_DatiMeteo), stazione[2], meteo[3])\n",
    "print('pearson: ', pearson, ' spearman: ', spearman, ' kendall: ', kendall)\n",
    " "
   ]
  },
  {
   "cell_type": "code",
   "execution_count": null,
   "metadata": {},
   "outputs": [],
   "source": [
    "pearson, spearman, kendall = corr_Sensori(creazione_df(df_ATM10, \n",
    "                                              stazione[2], meteo[3], sensore[2], df2 = df_DatiMeteo), stazione[2], meteo[3])\n",
    "print('pearson: ', pearson, ' spearman: ', spearman, ' kendall: ', kendall)\n",
    " "
   ]
  },
  {
   "cell_type": "code",
   "execution_count": null,
   "metadata": {},
   "outputs": [],
   "source": [
    "pearson, spearman, kendall = corr_Sensori(creazione_df(df_ATM10, \n",
    "                                              stazione[2], meteo[3], sensore[3], df2 = df_DatiMeteo), stazione[2], meteo[3])\n",
    "print('pearson: ', pearson, ' spearman: ', spearman, ' kendall: ', kendall)\n",
    " "
   ]
  },
  {
   "cell_type": "code",
   "execution_count": null,
   "metadata": {},
   "outputs": [],
   "source": [
    "pearson, spearman, kendall = corr_Sensori(creazione_df(df_ATM10, \n",
    "                                              stazione[2], meteo[3], sensore[4], df2 = df_DatiMeteo), stazione[2], meteo[3])\n",
    "print('pearson: ', pearson, ' spearman: ', spearman, ' kendall: ', kendall)\n",
    " "
   ]
  },
  {
   "cell_type": "code",
   "execution_count": null,
   "metadata": {},
   "outputs": [],
   "source": [
    "pearson, spearman, kendall = corr_Sensori(creazione_df(df_ATM10, \n",
    "                                              stazione[2], meteo[3], sensore[5], df2 = df_DatiMeteo), stazione[2], meteo[3])\n",
    "print('pearson: ', pearson, ' spearman: ', spearman, ' kendall: ', kendall)\n"
   ]
  },
  {
   "cell_type": "code",
   "execution_count": null,
   "metadata": {},
   "outputs": [],
   "source": [
    "# correlazione con l'intensità del vento per il sensore ATM14_01486\n",
    "df_ATM14 = media_Stazione(df_DatiPuliti, stazione[3])\n",
    "df_ATM14['postazione'] = 'ATM14_01486'\n",
    "df_ATM14"
   ]
  },
  {
   "cell_type": "code",
   "execution_count": null,
   "metadata": {},
   "outputs": [],
   "source": [
    "pearson, spearman, kendall = corr_Sensori(creazione_df(df_ATM14, \n",
    "                                              stazione[3], meteo[3], sensore[0], df2 = df_DatiMeteo), stazione[3], meteo[3])\n",
    "print('pearson: ', pearson, ' spearman: ', spearman, ' kendall: ', kendall)\n",
    " "
   ]
  },
  {
   "cell_type": "code",
   "execution_count": null,
   "metadata": {},
   "outputs": [],
   "source": [
    "pearson, spearman, kendall = corr_Sensori(creazione_df(df_ATM14, \n",
    "                                              stazione[3], meteo[3], sensore[1], df2 = df_DatiMeteo), stazione[3], meteo[3])\n",
    "print('pearson: ', pearson, ' spearman: ', spearman, ' kendall: ', kendall)\n",
    " "
   ]
  },
  {
   "cell_type": "code",
   "execution_count": null,
   "metadata": {},
   "outputs": [],
   "source": [
    "pearson, spearman, kendall = corr_Sensori(creazione_df(df_ATM14, \n",
    "                                              stazione[3], meteo[3], sensore[2], df2 = df_DatiMeteo), stazione[3], meteo[3])\n",
    "print('pearson: ', pearson, ' spearman: ', spearman, ' kendall: ', kendall)\n",
    " "
   ]
  },
  {
   "cell_type": "code",
   "execution_count": null,
   "metadata": {},
   "outputs": [],
   "source": [
    "pearson, spearman, kendall = corr_Sensori(creazione_df(df_ATM14, \n",
    "                                              stazione[3], meteo[3], sensore[3], df2 = df_DatiMeteo), stazione[3], meteo[3])\n",
    "print('pearson: ', pearson, ' spearman: ', spearman, ' kendall: ', kendall)\n",
    " "
   ]
  },
  {
   "cell_type": "code",
   "execution_count": null,
   "metadata": {},
   "outputs": [],
   "source": [
    "pearson, spearman, kendall = corr_Sensori(creazione_df(df_ATM14, \n",
    "                                              stazione[3], meteo[3], sensore[4], df2 = df_DatiMeteo), stazione[3], meteo[3])\n",
    "print('pearson: ', pearson, ' spearman: ', spearman, ' kendall: ', kendall)\n",
    " "
   ]
  },
  {
   "cell_type": "code",
   "execution_count": null,
   "metadata": {},
   "outputs": [],
   "source": [
    "pearson, spearman, kendall = corr_Sensori(creazione_df(df_ATM14, \n",
    "                                              stazione[3], meteo[3], sensore[5], df2 = df_DatiMeteo), stazione[3], meteo[3])\n",
    "print('pearson: ', pearson, ' spearman: ', spearman, ' kendall: ', kendall)"
   ]
  },
  {
   "cell_type": "markdown",
   "metadata": {
    "collapsed": true
   },
   "source": [
    "# Altre correlazioni, anche spurie"
   ]
  },
  {
   "cell_type": "markdown",
   "metadata": {},
   "source": [
    "## calcolo correlazione tra i dati meteo e i fallimenti giornalieri"
   ]
  },
  {
   "cell_type": "code",
   "execution_count": 282,
   "metadata": {},
   "outputs": [],
   "source": [
    "df1 = df_DatiMeteo.copy()\n",
    "df1['Giorno'] = pd.to_datetime(df1['Data'].dt.strftime('%Y/%m/%d'))\n",
    "df1 = df1.groupby(['Giorno']).mean()\n",
    "df_nuovo = df1.merge(df_Fail_ND, on= 'Giorno')"
   ]
  },
  {
   "cell_type": "code",
   "execution_count": 283,
   "metadata": {},
   "outputs": [
    {
     "data": {
      "text/html": [
       "<div>\n",
       "<style scoped>\n",
       "    .dataframe tbody tr th:only-of-type {\n",
       "        vertical-align: middle;\n",
       "    }\n",
       "\n",
       "    .dataframe tbody tr th {\n",
       "        vertical-align: top;\n",
       "    }\n",
       "\n",
       "    .dataframe thead th {\n",
       "        text-align: right;\n",
       "    }\n",
       "</style>\n",
       "<table border=\"1\" class=\"dataframe\">\n",
       "  <thead>\n",
       "    <tr style=\"text-align: right;\">\n",
       "      <th></th>\n",
       "      <th>Giorno</th>\n",
       "      <th>temperatura_gradiC</th>\n",
       "      <th>pressione_hPa</th>\n",
       "      <th>intensità_vento_km_h</th>\n",
       "      <th>direzione_vento_gradi</th>\n",
       "      <th>umidità_relativa</th>\n",
       "      <th>precipitazioni</th>\n",
       "      <th>count</th>\n",
       "    </tr>\n",
       "  </thead>\n",
       "  <tbody>\n",
       "    <tr>\n",
       "      <th>0</th>\n",
       "      <td>2021-04-12</td>\n",
       "      <td>14.5532102333</td>\n",
       "      <td>1019.0000000000</td>\n",
       "      <td>9.2184421867</td>\n",
       "      <td>208.2432833333</td>\n",
       "      <td>46.6000000000</td>\n",
       "      <td>0.0000000000</td>\n",
       "      <td>48</td>\n",
       "    </tr>\n",
       "    <tr>\n",
       "      <th>1</th>\n",
       "      <td>2021-04-13</td>\n",
       "      <td>8.6704604125</td>\n",
       "      <td>1017.5416666667</td>\n",
       "      <td>24.3623620000</td>\n",
       "      <td>253.7933245833</td>\n",
       "      <td>72.2083333333</td>\n",
       "      <td>0.0125000000</td>\n",
       "      <td>43</td>\n",
       "    </tr>\n",
       "    <tr>\n",
       "      <th>2</th>\n",
       "      <td>2021-04-14</td>\n",
       "      <td>4.3467103554</td>\n",
       "      <td>1021.3833333333</td>\n",
       "      <td>30.6183717917</td>\n",
       "      <td>333.5009300000</td>\n",
       "      <td>74.5833333333</td>\n",
       "      <td>0.0125000000</td>\n",
       "      <td>337</td>\n",
       "    </tr>\n",
       "    <tr>\n",
       "      <th>3</th>\n",
       "      <td>2021-04-15</td>\n",
       "      <td>4.8871270100</td>\n",
       "      <td>1021.5708333333</td>\n",
       "      <td>13.4111311750</td>\n",
       "      <td>203.7779434792</td>\n",
       "      <td>67.7916666667</td>\n",
       "      <td>0.0000000000</td>\n",
       "      <td>380</td>\n",
       "    </tr>\n",
       "    <tr>\n",
       "      <th>4</th>\n",
       "      <td>2021-04-16</td>\n",
       "      <td>4.6808770042</td>\n",
       "      <td>1017.0750000000</td>\n",
       "      <td>13.4124664958</td>\n",
       "      <td>57.5458903125</td>\n",
       "      <td>73.7083333333</td>\n",
       "      <td>0.0416666667</td>\n",
       "      <td>43</td>\n",
       "    </tr>\n",
       "    <tr>\n",
       "      <th>5</th>\n",
       "      <td>2021-04-17</td>\n",
       "      <td>6.2658771042</td>\n",
       "      <td>1011.2291666667</td>\n",
       "      <td>19.5349872917</td>\n",
       "      <td>179.3287344875</td>\n",
       "      <td>52.7500000000</td>\n",
       "      <td>0.0041666667</td>\n",
       "      <td>42</td>\n",
       "    </tr>\n",
       "    <tr>\n",
       "      <th>6</th>\n",
       "      <td>2021-04-18</td>\n",
       "      <td>6.6479603833</td>\n",
       "      <td>1014.1625000000</td>\n",
       "      <td>16.1754003583</td>\n",
       "      <td>244.8319887500</td>\n",
       "      <td>48.7083333333</td>\n",
       "      <td>0.0083333333</td>\n",
       "      <td>51</td>\n",
       "    </tr>\n",
       "    <tr>\n",
       "      <th>7</th>\n",
       "      <td>2021-04-19</td>\n",
       "      <td>5.1325436500</td>\n",
       "      <td>1014.8250000000</td>\n",
       "      <td>9.9492308667</td>\n",
       "      <td>288.6925308333</td>\n",
       "      <td>49.5000000000</td>\n",
       "      <td>0.1083333333</td>\n",
       "      <td>53</td>\n",
       "    </tr>\n",
       "    <tr>\n",
       "      <th>8</th>\n",
       "      <td>2021-04-20</td>\n",
       "      <td>6.2371270750</td>\n",
       "      <td>1017.5458333333</td>\n",
       "      <td>17.6074919458</td>\n",
       "      <td>275.8744458333</td>\n",
       "      <td>62.6666666667</td>\n",
       "      <td>0.0833333333</td>\n",
       "      <td>47</td>\n",
       "    </tr>\n",
       "    <tr>\n",
       "      <th>9</th>\n",
       "      <td>2021-04-21</td>\n",
       "      <td>8.3400436500</td>\n",
       "      <td>1018.9750000000</td>\n",
       "      <td>9.6898162958</td>\n",
       "      <td>197.5802775417</td>\n",
       "      <td>56.1250000000</td>\n",
       "      <td>0.0000000000</td>\n",
       "      <td>61</td>\n",
       "    </tr>\n",
       "    <tr>\n",
       "      <th>10</th>\n",
       "      <td>2021-04-22</td>\n",
       "      <td>9.4929603917</td>\n",
       "      <td>1018.4875000000</td>\n",
       "      <td>6.9588710321</td>\n",
       "      <td>220.3895850000</td>\n",
       "      <td>44.7083333333</td>\n",
       "      <td>0.2666666667</td>\n",
       "      <td>58</td>\n",
       "    </tr>\n",
       "    <tr>\n",
       "      <th>11</th>\n",
       "      <td>2021-04-23</td>\n",
       "      <td>8.9633771667</td>\n",
       "      <td>1018.0833333333</td>\n",
       "      <td>14.6236129833</td>\n",
       "      <td>96.7058202375</td>\n",
       "      <td>29.1666666667</td>\n",
       "      <td>0.3750000000</td>\n",
       "      <td>53</td>\n",
       "    </tr>\n",
       "    <tr>\n",
       "      <th>12</th>\n",
       "      <td>2021-04-24</td>\n",
       "      <td>9.6800437625</td>\n",
       "      <td>1018.4416666667</td>\n",
       "      <td>24.4394731250</td>\n",
       "      <td>82.9471551250</td>\n",
       "      <td>34.9583333333</td>\n",
       "      <td>0.6250000000</td>\n",
       "      <td>38</td>\n",
       "    </tr>\n",
       "    <tr>\n",
       "      <th>13</th>\n",
       "      <td>2021-04-25</td>\n",
       "      <td>11.2029602333</td>\n",
       "      <td>1018.0125000000</td>\n",
       "      <td>10.5305082062</td>\n",
       "      <td>318.4669420833</td>\n",
       "      <td>28.8333333333</td>\n",
       "      <td>0.0041666667</td>\n",
       "      <td>33</td>\n",
       "    </tr>\n",
       "    <tr>\n",
       "      <th>14</th>\n",
       "      <td>2021-05-10</td>\n",
       "      <td>17.8387931250</td>\n",
       "      <td>1018.2333333333</td>\n",
       "      <td>7.7810937575</td>\n",
       "      <td>204.1011535833</td>\n",
       "      <td>73.3750000000</td>\n",
       "      <td>0.0000000000</td>\n",
       "      <td>89</td>\n",
       "    </tr>\n",
       "    <tr>\n",
       "      <th>15</th>\n",
       "      <td>2021-05-11</td>\n",
       "      <td>18.9612932917</td>\n",
       "      <td>1013.2333333333</td>\n",
       "      <td>11.9384369750</td>\n",
       "      <td>241.0832850000</td>\n",
       "      <td>57.1666666667</td>\n",
       "      <td>0.0000000000</td>\n",
       "      <td>73</td>\n",
       "    </tr>\n",
       "    <tr>\n",
       "      <th>16</th>\n",
       "      <td>2021-05-12</td>\n",
       "      <td>12.9258767500</td>\n",
       "      <td>1012.2166666667</td>\n",
       "      <td>31.2529952083</td>\n",
       "      <td>258.0494904167</td>\n",
       "      <td>50.0833333333</td>\n",
       "      <td>0.0083333333</td>\n",
       "      <td>457</td>\n",
       "    </tr>\n",
       "    <tr>\n",
       "      <th>17</th>\n",
       "      <td>2021-05-13</td>\n",
       "      <td>11.3708771167</td>\n",
       "      <td>1011.0541666667</td>\n",
       "      <td>35.8940957083</td>\n",
       "      <td>256.6298258333</td>\n",
       "      <td>59.2916666667</td>\n",
       "      <td>0.0000000000</td>\n",
       "      <td>467</td>\n",
       "    </tr>\n",
       "    <tr>\n",
       "      <th>18</th>\n",
       "      <td>2021-05-14</td>\n",
       "      <td>11.8371268417</td>\n",
       "      <td>1012.6500000000</td>\n",
       "      <td>21.7850632917</td>\n",
       "      <td>250.3123041667</td>\n",
       "      <td>48.4583333333</td>\n",
       "      <td>0.0000000000</td>\n",
       "      <td>45</td>\n",
       "    </tr>\n",
       "    <tr>\n",
       "      <th>19</th>\n",
       "      <td>2021-05-15</td>\n",
       "      <td>11.6575435542</td>\n",
       "      <td>1011.0625000000</td>\n",
       "      <td>22.2354602083</td>\n",
       "      <td>263.8312320833</td>\n",
       "      <td>52.2916666667</td>\n",
       "      <td>0.5625000000</td>\n",
       "      <td>39</td>\n",
       "    </tr>\n",
       "    <tr>\n",
       "      <th>20</th>\n",
       "      <td>2021-05-16</td>\n",
       "      <td>14.0242100000</td>\n",
       "      <td>1012.5291666667</td>\n",
       "      <td>25.6402046667</td>\n",
       "      <td>268.8258779167</td>\n",
       "      <td>48.0833333333</td>\n",
       "      <td>0.0000000000</td>\n",
       "      <td>42</td>\n",
       "    </tr>\n",
       "    <tr>\n",
       "      <th>21</th>\n",
       "      <td>2021-05-17</td>\n",
       "      <td>15.8862933125</td>\n",
       "      <td>1010.3583333333</td>\n",
       "      <td>32.1037397500</td>\n",
       "      <td>265.2353950000</td>\n",
       "      <td>47.1250000000</td>\n",
       "      <td>0.0000000000</td>\n",
       "      <td>26</td>\n",
       "    </tr>\n",
       "    <tr>\n",
       "      <th>22</th>\n",
       "      <td>2021-05-18</td>\n",
       "      <td>13.1912933250</td>\n",
       "      <td>1015.7083333333</td>\n",
       "      <td>15.1663451708</td>\n",
       "      <td>277.1862912500</td>\n",
       "      <td>36.9583333333</td>\n",
       "      <td>0.0000000000</td>\n",
       "      <td>16</td>\n",
       "    </tr>\n",
       "    <tr>\n",
       "      <th>23</th>\n",
       "      <td>2021-05-19</td>\n",
       "      <td>13.0596267833</td>\n",
       "      <td>1013.9583333333</td>\n",
       "      <td>28.4910232917</td>\n",
       "      <td>269.7338812500</td>\n",
       "      <td>39.2916666667</td>\n",
       "      <td>0.0000000000</td>\n",
       "      <td>13</td>\n",
       "    </tr>\n",
       "    <tr>\n",
       "      <th>24</th>\n",
       "      <td>2021-05-20</td>\n",
       "      <td>11.2208768125</td>\n",
       "      <td>1016.5708333333</td>\n",
       "      <td>26.0600275833</td>\n",
       "      <td>326.6717437500</td>\n",
       "      <td>45.2916666667</td>\n",
       "      <td>0.0000000000</td>\n",
       "      <td>14</td>\n",
       "    </tr>\n",
       "    <tr>\n",
       "      <th>25</th>\n",
       "      <td>2021-05-21</td>\n",
       "      <td>13.6687933125</td>\n",
       "      <td>1020.8875000000</td>\n",
       "      <td>14.2175156458</td>\n",
       "      <td>311.9606008333</td>\n",
       "      <td>41.4166666667</td>\n",
       "      <td>0.0000000000</td>\n",
       "      <td>10</td>\n",
       "    </tr>\n",
       "    <tr>\n",
       "      <th>26</th>\n",
       "      <td>2021-05-22</td>\n",
       "      <td>16.2533765542</td>\n",
       "      <td>1017.5250000000</td>\n",
       "      <td>15.9321177708</td>\n",
       "      <td>259.0529187500</td>\n",
       "      <td>34.7916666667</td>\n",
       "      <td>0.0000000000</td>\n",
       "      <td>12</td>\n",
       "    </tr>\n",
       "    <tr>\n",
       "      <th>27</th>\n",
       "      <td>2021-05-23</td>\n",
       "      <td>21.8800430833</td>\n",
       "      <td>1017.2250000000</td>\n",
       "      <td>13.5754900083</td>\n",
       "      <td>264.4714308333</td>\n",
       "      <td>26.7083333333</td>\n",
       "      <td>0.0000000000</td>\n",
       "      <td>10</td>\n",
       "    </tr>\n",
       "    <tr>\n",
       "      <th>28</th>\n",
       "      <td>2021-05-24</td>\n",
       "      <td>23.4217093750</td>\n",
       "      <td>1017.4583333333</td>\n",
       "      <td>14.2319286500</td>\n",
       "      <td>240.1980520833</td>\n",
       "      <td>24.4583333333</td>\n",
       "      <td>0.0000000000</td>\n",
       "      <td>19</td>\n",
       "    </tr>\n",
       "    <tr>\n",
       "      <th>29</th>\n",
       "      <td>2021-05-25</td>\n",
       "      <td>19.8475429375</td>\n",
       "      <td>1017.7333333333</td>\n",
       "      <td>18.6655245208</td>\n",
       "      <td>250.0375372500</td>\n",
       "      <td>21.6250000000</td>\n",
       "      <td>0.0000000000</td>\n",
       "      <td>28</td>\n",
       "    </tr>\n",
       "    <tr>\n",
       "      <th>30</th>\n",
       "      <td>2021-05-26</td>\n",
       "      <td>16.6175434167</td>\n",
       "      <td>1017.1541666667</td>\n",
       "      <td>10.6551424167</td>\n",
       "      <td>269.0827887500</td>\n",
       "      <td>19.6250000000</td>\n",
       "      <td>0.0000000000</td>\n",
       "      <td>10</td>\n",
       "    </tr>\n",
       "    <tr>\n",
       "      <th>31</th>\n",
       "      <td>2021-05-27</td>\n",
       "      <td>17.0254599167</td>\n",
       "      <td>1015.2416666667</td>\n",
       "      <td>10.7377124333</td>\n",
       "      <td>262.4077137500</td>\n",
       "      <td>23.5416666667</td>\n",
       "      <td>0.0000000000</td>\n",
       "      <td>8</td>\n",
       "    </tr>\n",
       "    <tr>\n",
       "      <th>32</th>\n",
       "      <td>2021-05-28</td>\n",
       "      <td>17.4350435000</td>\n",
       "      <td>1016.1625000000</td>\n",
       "      <td>14.3317863083</td>\n",
       "      <td>250.0265061917</td>\n",
       "      <td>32.2916666667</td>\n",
       "      <td>0.0000000000</td>\n",
       "      <td>13</td>\n",
       "    </tr>\n",
       "    <tr>\n",
       "      <th>33</th>\n",
       "      <td>2021-05-29</td>\n",
       "      <td>17.5512931458</td>\n",
       "      <td>1015.9375000000</td>\n",
       "      <td>9.7520454625</td>\n",
       "      <td>232.8456025833</td>\n",
       "      <td>33.6666666667</td>\n",
       "      <td>0.0000000000</td>\n",
       "      <td>16</td>\n",
       "    </tr>\n",
       "    <tr>\n",
       "      <th>34</th>\n",
       "      <td>2021-05-30</td>\n",
       "      <td>14.8529600417</td>\n",
       "      <td>1015.8291666667</td>\n",
       "      <td>13.5732833125</td>\n",
       "      <td>325.0658908333</td>\n",
       "      <td>26.2083333333</td>\n",
       "      <td>0.0458333333</td>\n",
       "      <td>21</td>\n",
       "    </tr>\n",
       "    <tr>\n",
       "      <th>35</th>\n",
       "      <td>2021-05-31</td>\n",
       "      <td>13.0675433000</td>\n",
       "      <td>1017.2041666667</td>\n",
       "      <td>21.2373545000</td>\n",
       "      <td>333.6494775000</td>\n",
       "      <td>21.3333333333</td>\n",
       "      <td>0.1208333333</td>\n",
       "      <td>32</td>\n",
       "    </tr>\n",
       "    <tr>\n",
       "      <th>36</th>\n",
       "      <td>2021-06-01</td>\n",
       "      <td>14.3725433042</td>\n",
       "      <td>1017.3041666667</td>\n",
       "      <td>17.6090480042</td>\n",
       "      <td>268.5467712917</td>\n",
       "      <td>34.2083333333</td>\n",
       "      <td>0.0000000000</td>\n",
       "      <td>38</td>\n",
       "    </tr>\n",
       "    <tr>\n",
       "      <th>37</th>\n",
       "      <td>2021-06-02</td>\n",
       "      <td>16.5483767708</td>\n",
       "      <td>1019.3375000000</td>\n",
       "      <td>8.6143806542</td>\n",
       "      <td>196.1643380000</td>\n",
       "      <td>30.7500000000</td>\n",
       "      <td>0.0000000000</td>\n",
       "      <td>42</td>\n",
       "    </tr>\n",
       "    <tr>\n",
       "      <th>38</th>\n",
       "      <td>2021-06-03</td>\n",
       "      <td>19.2071264583</td>\n",
       "      <td>1022.3875000000</td>\n",
       "      <td>10.2838242000</td>\n",
       "      <td>168.5619632792</td>\n",
       "      <td>39.4583333333</td>\n",
       "      <td>0.0000000000</td>\n",
       "      <td>84</td>\n",
       "    </tr>\n",
       "    <tr>\n",
       "      <th>39</th>\n",
       "      <td>2021-06-04</td>\n",
       "      <td>20.5033763333</td>\n",
       "      <td>1022.5916666667</td>\n",
       "      <td>10.0616439708</td>\n",
       "      <td>302.5562206125</td>\n",
       "      <td>47.4166666667</td>\n",
       "      <td>0.0000000000</td>\n",
       "      <td>205</td>\n",
       "    </tr>\n",
       "    <tr>\n",
       "      <th>40</th>\n",
       "      <td>2021-06-05</td>\n",
       "      <td>21.8271262917</td>\n",
       "      <td>1021.5083333333</td>\n",
       "      <td>10.6648441833</td>\n",
       "      <td>286.4864258333</td>\n",
       "      <td>35.2500000000</td>\n",
       "      <td>0.0000000000</td>\n",
       "      <td>75</td>\n",
       "    </tr>\n",
       "    <tr>\n",
       "      <th>41</th>\n",
       "      <td>2021-06-06</td>\n",
       "      <td>21.7071264167</td>\n",
       "      <td>1018.3083333333</td>\n",
       "      <td>10.7042587375</td>\n",
       "      <td>279.1240933333</td>\n",
       "      <td>50.0416666667</td>\n",
       "      <td>0.0041666667</td>\n",
       "      <td>62</td>\n",
       "    </tr>\n",
       "    <tr>\n",
       "      <th>42</th>\n",
       "      <td>2021-06-14</td>\n",
       "      <td>19.0483767083</td>\n",
       "      <td>1016.8916666667</td>\n",
       "      <td>21.5112790417</td>\n",
       "      <td>314.5547331792</td>\n",
       "      <td>29.0833333333</td>\n",
       "      <td>0.0000000000</td>\n",
       "      <td>292</td>\n",
       "    </tr>\n",
       "    <tr>\n",
       "      <th>43</th>\n",
       "      <td>2021-06-15</td>\n",
       "      <td>17.2804597708</td>\n",
       "      <td>1017.5208333333</td>\n",
       "      <td>16.4052951667</td>\n",
       "      <td>171.1251770208</td>\n",
       "      <td>39.6250000000</td>\n",
       "      <td>0.0000000000</td>\n",
       "      <td>105</td>\n",
       "    </tr>\n",
       "    <tr>\n",
       "      <th>44</th>\n",
       "      <td>2021-06-16</td>\n",
       "      <td>20.1171266042</td>\n",
       "      <td>1016.3166666667</td>\n",
       "      <td>9.7977931083</td>\n",
       "      <td>192.6969221625</td>\n",
       "      <td>46.1666666667</td>\n",
       "      <td>0.0000000000</td>\n",
       "      <td>16</td>\n",
       "    </tr>\n",
       "    <tr>\n",
       "      <th>45</th>\n",
       "      <td>2021-06-17</td>\n",
       "      <td>21.2829598333</td>\n",
       "      <td>1016.8291666667</td>\n",
       "      <td>9.8881981958</td>\n",
       "      <td>190.4152078750</td>\n",
       "      <td>51.6666666667</td>\n",
       "      <td>0.0000000000</td>\n",
       "      <td>13</td>\n",
       "    </tr>\n",
       "    <tr>\n",
       "      <th>46</th>\n",
       "      <td>2021-06-18</td>\n",
       "      <td>22.9654593750</td>\n",
       "      <td>1017.8166666667</td>\n",
       "      <td>10.1761051000</td>\n",
       "      <td>265.9396927083</td>\n",
       "      <td>68.5833333333</td>\n",
       "      <td>0.0000000000</td>\n",
       "      <td>18</td>\n",
       "    </tr>\n",
       "    <tr>\n",
       "      <th>47</th>\n",
       "      <td>2021-06-19</td>\n",
       "      <td>25.3667095417</td>\n",
       "      <td>1015.8291666667</td>\n",
       "      <td>16.4907270833</td>\n",
       "      <td>317.3529920833</td>\n",
       "      <td>71.4166666667</td>\n",
       "      <td>0.0000000000</td>\n",
       "      <td>20</td>\n",
       "    </tr>\n",
       "    <tr>\n",
       "      <th>48</th>\n",
       "      <td>2021-06-20</td>\n",
       "      <td>27.7412925417</td>\n",
       "      <td>1012.7458333333</td>\n",
       "      <td>13.4378652958</td>\n",
       "      <td>263.7146867917</td>\n",
       "      <td>73.1666666667</td>\n",
       "      <td>0.0000000000</td>\n",
       "      <td>15</td>\n",
       "    </tr>\n",
       "    <tr>\n",
       "      <th>49</th>\n",
       "      <td>2021-06-21</td>\n",
       "      <td>29.4658762083</td>\n",
       "      <td>1011.8000000000</td>\n",
       "      <td>15.2298108750</td>\n",
       "      <td>278.0097395833</td>\n",
       "      <td>64.2500000000</td>\n",
       "      <td>0.0041666667</td>\n",
       "      <td>15</td>\n",
       "    </tr>\n",
       "    <tr>\n",
       "      <th>50</th>\n",
       "      <td>2021-06-22</td>\n",
       "      <td>29.8767099167</td>\n",
       "      <td>1012.2291666667</td>\n",
       "      <td>19.5234175417</td>\n",
       "      <td>254.5662866667</td>\n",
       "      <td>37.3333333333</td>\n",
       "      <td>0.0000000000</td>\n",
       "      <td>10</td>\n",
       "    </tr>\n",
       "    <tr>\n",
       "      <th>51</th>\n",
       "      <td>2021-06-23</td>\n",
       "      <td>30.8571260000</td>\n",
       "      <td>1014.5000000000</td>\n",
       "      <td>9.1755420750</td>\n",
       "      <td>213.6350935833</td>\n",
       "      <td>35.2916666667</td>\n",
       "      <td>0.0000000000</td>\n",
       "      <td>10</td>\n",
       "    </tr>\n",
       "    <tr>\n",
       "      <th>52</th>\n",
       "      <td>2021-06-24</td>\n",
       "      <td>31.7567093333</td>\n",
       "      <td>1017.5125000000</td>\n",
       "      <td>14.0805848167</td>\n",
       "      <td>272.8198183333</td>\n",
       "      <td>35.2916666667</td>\n",
       "      <td>0.0083333333</td>\n",
       "      <td>8</td>\n",
       "    </tr>\n",
       "    <tr>\n",
       "      <th>53</th>\n",
       "      <td>2021-06-25</td>\n",
       "      <td>29.8912932083</td>\n",
       "      <td>1016.9583333333</td>\n",
       "      <td>20.3530894167</td>\n",
       "      <td>265.3348829167</td>\n",
       "      <td>41.7500000000</td>\n",
       "      <td>0.0041666667</td>\n",
       "      <td>160</td>\n",
       "    </tr>\n",
       "    <tr>\n",
       "      <th>54</th>\n",
       "      <td>2021-06-26</td>\n",
       "      <td>28.1079597500</td>\n",
       "      <td>1014.7666666667</td>\n",
       "      <td>13.9764011000</td>\n",
       "      <td>231.1399881667</td>\n",
       "      <td>32.6666666667</td>\n",
       "      <td>0.0000000000</td>\n",
       "      <td>8</td>\n",
       "    </tr>\n",
       "    <tr>\n",
       "      <th>55</th>\n",
       "      <td>2021-06-27</td>\n",
       "      <td>26.0221262917</td>\n",
       "      <td>1015.3291666667</td>\n",
       "      <td>8.4948814000</td>\n",
       "      <td>187.7001675000</td>\n",
       "      <td>22.5416666667</td>\n",
       "      <td>0.0000000000</td>\n",
       "      <td>15</td>\n",
       "    </tr>\n",
       "    <tr>\n",
       "      <th>56</th>\n",
       "      <td>2021-06-28</td>\n",
       "      <td>28.0692094167</td>\n",
       "      <td>1015.9583333333</td>\n",
       "      <td>11.5960430792</td>\n",
       "      <td>232.0933341667</td>\n",
       "      <td>20.7916666667</td>\n",
       "      <td>0.0000000000</td>\n",
       "      <td>20</td>\n",
       "    </tr>\n",
       "    <tr>\n",
       "      <th>57</th>\n",
       "      <td>2021-06-29</td>\n",
       "      <td>29.6796259583</td>\n",
       "      <td>1014.5041666667</td>\n",
       "      <td>18.8338527917</td>\n",
       "      <td>265.7247062500</td>\n",
       "      <td>20.0000000000</td>\n",
       "      <td>0.0000000000</td>\n",
       "      <td>30</td>\n",
       "    </tr>\n",
       "    <tr>\n",
       "      <th>58</th>\n",
       "      <td>2021-06-30</td>\n",
       "      <td>28.6933765417</td>\n",
       "      <td>1013.0541666667</td>\n",
       "      <td>19.1574301708</td>\n",
       "      <td>260.5284845833</td>\n",
       "      <td>20.6250000000</td>\n",
       "      <td>0.0041666667</td>\n",
       "      <td>37</td>\n",
       "    </tr>\n",
       "    <tr>\n",
       "      <th>59</th>\n",
       "      <td>2021-07-01</td>\n",
       "      <td>24.4283759167</td>\n",
       "      <td>1014.2541666667</td>\n",
       "      <td>25.6433468333</td>\n",
       "      <td>278.1408345833</td>\n",
       "      <td>24.4583333333</td>\n",
       "      <td>0.0000000000</td>\n",
       "      <td>42</td>\n",
       "    </tr>\n",
       "    <tr>\n",
       "      <th>60</th>\n",
       "      <td>2021-07-02</td>\n",
       "      <td>22.3696261667</td>\n",
       "      <td>1014.1958333333</td>\n",
       "      <td>21.1417508750</td>\n",
       "      <td>291.9351904167</td>\n",
       "      <td>24.9583333333</td>\n",
       "      <td>0.0000000000</td>\n",
       "      <td>59</td>\n",
       "    </tr>\n",
       "    <tr>\n",
       "      <th>61</th>\n",
       "      <td>2021-07-03</td>\n",
       "      <td>23.2646260833</td>\n",
       "      <td>1014.7500000000</td>\n",
       "      <td>6.2762620312</td>\n",
       "      <td>238.7976744583</td>\n",
       "      <td>22.0000000000</td>\n",
       "      <td>0.0000000000</td>\n",
       "      <td>70</td>\n",
       "    </tr>\n",
       "    <tr>\n",
       "      <th>62</th>\n",
       "      <td>2021-07-04</td>\n",
       "      <td>25.4137925417</td>\n",
       "      <td>1011.9125000000</td>\n",
       "      <td>16.1889184625</td>\n",
       "      <td>280.3632762500</td>\n",
       "      <td>26.9166666667</td>\n",
       "      <td>0.0041666667</td>\n",
       "      <td>77</td>\n",
       "    </tr>\n",
       "    <tr>\n",
       "      <th>63</th>\n",
       "      <td>2021-07-05</td>\n",
       "      <td>24.0967093750</td>\n",
       "      <td>1010.4333333333</td>\n",
       "      <td>19.6835511075</td>\n",
       "      <td>297.7089979167</td>\n",
       "      <td>19.6250000000</td>\n",
       "      <td>0.0000000000</td>\n",
       "      <td>95</td>\n",
       "    </tr>\n",
       "    <tr>\n",
       "      <th>64</th>\n",
       "      <td>2021-07-06</td>\n",
       "      <td>24.9683760417</td>\n",
       "      <td>1014.1500000000</td>\n",
       "      <td>15.1700154167</td>\n",
       "      <td>275.4100227708</td>\n",
       "      <td>25.4583333333</td>\n",
       "      <td>0.0000000000</td>\n",
       "      <td>92</td>\n",
       "    </tr>\n",
       "    <tr>\n",
       "      <th>65</th>\n",
       "      <td>2021-07-07</td>\n",
       "      <td>28.6771261667</td>\n",
       "      <td>1014.8166666667</td>\n",
       "      <td>10.3208526042</td>\n",
       "      <td>187.7487850000</td>\n",
       "      <td>50.6666666667</td>\n",
       "      <td>0.0000000000</td>\n",
       "      <td>375</td>\n",
       "    </tr>\n",
       "    <tr>\n",
       "      <th>66</th>\n",
       "      <td>2021-07-08</td>\n",
       "      <td>30.2579594583</td>\n",
       "      <td>1016.6125000000</td>\n",
       "      <td>10.3952280333</td>\n",
       "      <td>198.4858695833</td>\n",
       "      <td>52.7083333333</td>\n",
       "      <td>0.0000000000</td>\n",
       "      <td>5</td>\n",
       "    </tr>\n",
       "    <tr>\n",
       "      <th>67</th>\n",
       "      <td>2021-07-09</td>\n",
       "      <td>29.1204595000</td>\n",
       "      <td>1015.5833333333</td>\n",
       "      <td>11.5914215292</td>\n",
       "      <td>267.9053708333</td>\n",
       "      <td>38.8333333333</td>\n",
       "      <td>0.0000000000</td>\n",
       "      <td>14</td>\n",
       "    </tr>\n",
       "    <tr>\n",
       "      <th>68</th>\n",
       "      <td>2021-07-10</td>\n",
       "      <td>25.1362930833</td>\n",
       "      <td>1013.6083333333</td>\n",
       "      <td>10.6278348583</td>\n",
       "      <td>163.1785426583</td>\n",
       "      <td>25.5416666667</td>\n",
       "      <td>0.0000000000</td>\n",
       "      <td>485</td>\n",
       "    </tr>\n",
       "    <tr>\n",
       "      <th>69</th>\n",
       "      <td>2021-07-11</td>\n",
       "      <td>25.0950427917</td>\n",
       "      <td>1013.2583333333</td>\n",
       "      <td>11.2635175708</td>\n",
       "      <td>305.7789383333</td>\n",
       "      <td>28.2083333333</td>\n",
       "      <td>0.0000000000</td>\n",
       "      <td>1152</td>\n",
       "    </tr>\n",
       "    <tr>\n",
       "      <th>70</th>\n",
       "      <td>2021-07-12</td>\n",
       "      <td>26.1479594167</td>\n",
       "      <td>1013.9625000000</td>\n",
       "      <td>9.0660978667</td>\n",
       "      <td>203.8271402500</td>\n",
       "      <td>23.9166666667</td>\n",
       "      <td>0.0000000000</td>\n",
       "      <td>475</td>\n",
       "    </tr>\n",
       "    <tr>\n",
       "      <th>71</th>\n",
       "      <td>2021-07-13</td>\n",
       "      <td>28.3725424583</td>\n",
       "      <td>1011.6791666667</td>\n",
       "      <td>11.4294463292</td>\n",
       "      <td>239.5852229167</td>\n",
       "      <td>27.2916666667</td>\n",
       "      <td>0.0000000000</td>\n",
       "      <td>9</td>\n",
       "    </tr>\n",
       "    <tr>\n",
       "      <th>72</th>\n",
       "      <td>2021-07-14</td>\n",
       "      <td>24.8733758333</td>\n",
       "      <td>1012.9833333333</td>\n",
       "      <td>26.0319357500</td>\n",
       "      <td>256.1206429167</td>\n",
       "      <td>32.9583333333</td>\n",
       "      <td>0.0000000000</td>\n",
       "      <td>205</td>\n",
       "    </tr>\n",
       "    <tr>\n",
       "      <th>73</th>\n",
       "      <td>2021-07-15</td>\n",
       "      <td>20.9129597083</td>\n",
       "      <td>1013.9916666667</td>\n",
       "      <td>20.2698464583</td>\n",
       "      <td>274.0202933333</td>\n",
       "      <td>28.0416666667</td>\n",
       "      <td>0.0000000000</td>\n",
       "      <td>10</td>\n",
       "    </tr>\n",
       "    <tr>\n",
       "      <th>74</th>\n",
       "      <td>2021-07-16</td>\n",
       "      <td>20.1583764167</td>\n",
       "      <td>1011.9250000000</td>\n",
       "      <td>20.4437861667</td>\n",
       "      <td>283.1524429167</td>\n",
       "      <td>26.4583333333</td>\n",
       "      <td>0.0000000000</td>\n",
       "      <td>8</td>\n",
       "    </tr>\n",
       "    <tr>\n",
       "      <th>75</th>\n",
       "      <td>2021-07-17</td>\n",
       "      <td>17.7646265000</td>\n",
       "      <td>1009.1875000000</td>\n",
       "      <td>9.5223663667</td>\n",
       "      <td>281.6302400000</td>\n",
       "      <td>28.0416666667</td>\n",
       "      <td>0.0041666667</td>\n",
       "      <td>9</td>\n",
       "    </tr>\n",
       "    <tr>\n",
       "      <th>76</th>\n",
       "      <td>2021-07-18</td>\n",
       "      <td>18.1000432083</td>\n",
       "      <td>1006.6708333333</td>\n",
       "      <td>14.5179460417</td>\n",
       "      <td>265.2342217417</td>\n",
       "      <td>29.3333333333</td>\n",
       "      <td>0.0541666667</td>\n",
       "      <td>6</td>\n",
       "    </tr>\n",
       "    <tr>\n",
       "      <th>77</th>\n",
       "      <td>2021-07-26</td>\n",
       "      <td>30.4629595417</td>\n",
       "      <td>1015.2625000000</td>\n",
       "      <td>9.2611011750</td>\n",
       "      <td>219.1385664167</td>\n",
       "      <td>34.7500000000</td>\n",
       "      <td>0.0000000000</td>\n",
       "      <td>10</td>\n",
       "    </tr>\n",
       "    <tr>\n",
       "      <th>78</th>\n",
       "      <td>2021-07-27</td>\n",
       "      <td>30.9950428333</td>\n",
       "      <td>1017.1083333333</td>\n",
       "      <td>8.6737032958</td>\n",
       "      <td>214.2965447500</td>\n",
       "      <td>53.7083333333</td>\n",
       "      <td>0.0000000000</td>\n",
       "      <td>163</td>\n",
       "    </tr>\n",
       "    <tr>\n",
       "      <th>79</th>\n",
       "      <td>2021-07-28</td>\n",
       "      <td>30.9379595833</td>\n",
       "      <td>1016.6333333333</td>\n",
       "      <td>8.7909560083</td>\n",
       "      <td>241.0273072500</td>\n",
       "      <td>68.9583333333</td>\n",
       "      <td>0.0000000000</td>\n",
       "      <td>248</td>\n",
       "    </tr>\n",
       "    <tr>\n",
       "      <th>80</th>\n",
       "      <td>2021-07-29</td>\n",
       "      <td>30.6954594167</td>\n",
       "      <td>1016.1000000000</td>\n",
       "      <td>16.2364814792</td>\n",
       "      <td>266.9066925000</td>\n",
       "      <td>68.6666666667</td>\n",
       "      <td>0.0000000000</td>\n",
       "      <td>514</td>\n",
       "    </tr>\n",
       "    <tr>\n",
       "      <th>81</th>\n",
       "      <td>2021-07-30</td>\n",
       "      <td>28.7483761250</td>\n",
       "      <td>1013.8875000000</td>\n",
       "      <td>20.7510122083</td>\n",
       "      <td>271.1131920833</td>\n",
       "      <td>64.7500000000</td>\n",
       "      <td>0.0000000000</td>\n",
       "      <td>320</td>\n",
       "    </tr>\n",
       "    <tr>\n",
       "      <th>82</th>\n",
       "      <td>2021-07-31</td>\n",
       "      <td>28.9929592083</td>\n",
       "      <td>1011.7250000000</td>\n",
       "      <td>12.4758684375</td>\n",
       "      <td>261.8535766667</td>\n",
       "      <td>66.1666666667</td>\n",
       "      <td>0.0000000000</td>\n",
       "      <td>485</td>\n",
       "    </tr>\n",
       "    <tr>\n",
       "      <th>83</th>\n",
       "      <td>2021-08-01</td>\n",
       "      <td>30.4379596667</td>\n",
       "      <td>1011.4083333333</td>\n",
       "      <td>17.9030877500</td>\n",
       "      <td>263.7384066667</td>\n",
       "      <td>48.7083333333</td>\n",
       "      <td>0.0000000000</td>\n",
       "      <td>235</td>\n",
       "    </tr>\n",
       "    <tr>\n",
       "      <th>84</th>\n",
       "      <td>2021-08-09</td>\n",
       "      <td>30.1417098750</td>\n",
       "      <td>1017.2083333333</td>\n",
       "      <td>15.3815813583</td>\n",
       "      <td>274.4624983333</td>\n",
       "      <td>54.8333333333</td>\n",
       "      <td>0.0000000000</td>\n",
       "      <td>48</td>\n",
       "    </tr>\n",
       "    <tr>\n",
       "      <th>85</th>\n",
       "      <td>2021-08-10</td>\n",
       "      <td>31.5487929583</td>\n",
       "      <td>1017.3583333333</td>\n",
       "      <td>14.0834279250</td>\n",
       "      <td>258.8325710833</td>\n",
       "      <td>43.0833333333</td>\n",
       "      <td>0.0000000000</td>\n",
       "      <td>61</td>\n",
       "    </tr>\n",
       "    <tr>\n",
       "      <th>86</th>\n",
       "      <td>2021-08-11</td>\n",
       "      <td>31.6204594167</td>\n",
       "      <td>1015.3416666667</td>\n",
       "      <td>15.1022448333</td>\n",
       "      <td>238.5281013583</td>\n",
       "      <td>50.0833333333</td>\n",
       "      <td>0.0000000000</td>\n",
       "      <td>95</td>\n",
       "    </tr>\n",
       "    <tr>\n",
       "      <th>87</th>\n",
       "      <td>2021-08-12</td>\n",
       "      <td>27.2783762917</td>\n",
       "      <td>1017.2916666667</td>\n",
       "      <td>18.3083810833</td>\n",
       "      <td>184.6869465208</td>\n",
       "      <td>58.1250000000</td>\n",
       "      <td>0.0166666667</td>\n",
       "      <td>79</td>\n",
       "    </tr>\n",
       "    <tr>\n",
       "      <th>88</th>\n",
       "      <td>2021-08-13</td>\n",
       "      <td>27.5367093750</td>\n",
       "      <td>1020.0625000000</td>\n",
       "      <td>13.2097515625</td>\n",
       "      <td>181.5782768333</td>\n",
       "      <td>78.0416666667</td>\n",
       "      <td>0.0000000000</td>\n",
       "      <td>52</td>\n",
       "    </tr>\n",
       "    <tr>\n",
       "      <th>89</th>\n",
       "      <td>2021-08-14</td>\n",
       "      <td>27.1675428750</td>\n",
       "      <td>1019.3041666667</td>\n",
       "      <td>14.3556141458</td>\n",
       "      <td>160.6745566250</td>\n",
       "      <td>62.2083333333</td>\n",
       "      <td>0.0000000000</td>\n",
       "      <td>1025</td>\n",
       "    </tr>\n",
       "    <tr>\n",
       "      <th>90</th>\n",
       "      <td>2021-10-18</td>\n",
       "      <td>12.5158769583</td>\n",
       "      <td>1023.5083333333</td>\n",
       "      <td>4.8801530508</td>\n",
       "      <td>168.7680585000</td>\n",
       "      <td>95.0416666667</td>\n",
       "      <td>0.0666666667</td>\n",
       "      <td>167</td>\n",
       "    </tr>\n",
       "    <tr>\n",
       "      <th>91</th>\n",
       "      <td>2021-10-19</td>\n",
       "      <td>12.7392101083</td>\n",
       "      <td>1027.8666666667</td>\n",
       "      <td>6.9319459875</td>\n",
       "      <td>218.5508091667</td>\n",
       "      <td>89.1666666667</td>\n",
       "      <td>0.0083333333</td>\n",
       "      <td>125</td>\n",
       "    </tr>\n",
       "    <tr>\n",
       "      <th>92</th>\n",
       "      <td>2021-10-20</td>\n",
       "      <td>13.0487935417</td>\n",
       "      <td>1026.0500000000</td>\n",
       "      <td>8.9902449208</td>\n",
       "      <td>264.9723704167</td>\n",
       "      <td>83.7916666667</td>\n",
       "      <td>0.0000000000</td>\n",
       "      <td>4</td>\n",
       "    </tr>\n",
       "    <tr>\n",
       "      <th>93</th>\n",
       "      <td>2021-10-21</td>\n",
       "      <td>12.2921269167</td>\n",
       "      <td>1020.8625000000</td>\n",
       "      <td>23.0706302083</td>\n",
       "      <td>257.7468733333</td>\n",
       "      <td>79.0833333333</td>\n",
       "      <td>0.0041666667</td>\n",
       "      <td>8</td>\n",
       "    </tr>\n",
       "    <tr>\n",
       "      <th>94</th>\n",
       "      <td>2021-10-22</td>\n",
       "      <td>14.4033768125</td>\n",
       "      <td>1018.7541666667</td>\n",
       "      <td>19.5934975000</td>\n",
       "      <td>249.3021050000</td>\n",
       "      <td>56.5833333333</td>\n",
       "      <td>0.0000000000</td>\n",
       "      <td>11</td>\n",
       "    </tr>\n",
       "    <tr>\n",
       "      <th>95</th>\n",
       "      <td>2021-10-23</td>\n",
       "      <td>15.9762933333</td>\n",
       "      <td>1019.7583333333</td>\n",
       "      <td>12.3982133250</td>\n",
       "      <td>173.7504059583</td>\n",
       "      <td>65.5833333333</td>\n",
       "      <td>0.0000000000</td>\n",
       "      <td>5</td>\n",
       "    </tr>\n",
       "    <tr>\n",
       "      <th>96</th>\n",
       "      <td>2021-10-24</td>\n",
       "      <td>13.1708771250</td>\n",
       "      <td>1021.9416666667</td>\n",
       "      <td>17.8360333333</td>\n",
       "      <td>38.2444618208</td>\n",
       "      <td>79.1666666667</td>\n",
       "      <td>0.0041666667</td>\n",
       "      <td>4</td>\n",
       "    </tr>\n",
       "    <tr>\n",
       "      <th>97</th>\n",
       "      <td>2021-10-25</td>\n",
       "      <td>11.6150438958</td>\n",
       "      <td>1020.0875000000</td>\n",
       "      <td>22.3826535417</td>\n",
       "      <td>73.5053989167</td>\n",
       "      <td>83.7500000000</td>\n",
       "      <td>0.6166666667</td>\n",
       "      <td>6</td>\n",
       "    </tr>\n",
       "    <tr>\n",
       "      <th>98</th>\n",
       "      <td>2021-10-26</td>\n",
       "      <td>11.7567103958</td>\n",
       "      <td>1020.0416666667</td>\n",
       "      <td>11.8173591208</td>\n",
       "      <td>102.8008642083</td>\n",
       "      <td>81.5416666667</td>\n",
       "      <td>0.2083333333</td>\n",
       "      <td>10</td>\n",
       "    </tr>\n",
       "    <tr>\n",
       "      <th>99</th>\n",
       "      <td>2021-10-27</td>\n",
       "      <td>11.8154603333</td>\n",
       "      <td>1021.3583333333</td>\n",
       "      <td>10.5946719125</td>\n",
       "      <td>73.4707132750</td>\n",
       "      <td>88.2916666667</td>\n",
       "      <td>0.0208333333</td>\n",
       "      <td>8</td>\n",
       "    </tr>\n",
       "    <tr>\n",
       "      <th>100</th>\n",
       "      <td>2021-10-28</td>\n",
       "      <td>9.8929602625</td>\n",
       "      <td>1021.5916666667</td>\n",
       "      <td>11.1309083708</td>\n",
       "      <td>185.2224182917</td>\n",
       "      <td>86.3750000000</td>\n",
       "      <td>0.0000000000</td>\n",
       "      <td>5</td>\n",
       "    </tr>\n",
       "    <tr>\n",
       "      <th>101</th>\n",
       "      <td>2021-10-29</td>\n",
       "      <td>9.6187937458</td>\n",
       "      <td>1019.0875000000</td>\n",
       "      <td>8.6679184458</td>\n",
       "      <td>186.9672160417</td>\n",
       "      <td>85.7083333333</td>\n",
       "      <td>0.0000000000</td>\n",
       "      <td>7</td>\n",
       "    </tr>\n",
       "    <tr>\n",
       "      <th>102</th>\n",
       "      <td>2021-10-30</td>\n",
       "      <td>12.0621271042</td>\n",
       "      <td>1018.2250000000</td>\n",
       "      <td>9.3823934417</td>\n",
       "      <td>128.6091032083</td>\n",
       "      <td>76.8333333333</td>\n",
       "      <td>0.0000000000</td>\n",
       "      <td>7</td>\n",
       "    </tr>\n",
       "    <tr>\n",
       "      <th>103</th>\n",
       "      <td>2021-10-31</td>\n",
       "      <td>13.4992103750</td>\n",
       "      <td>1016.6958333333</td>\n",
       "      <td>5.1258373462</td>\n",
       "      <td>169.7066689583</td>\n",
       "      <td>85.7916666667</td>\n",
       "      <td>0.0000000000</td>\n",
       "      <td>4</td>\n",
       "    </tr>\n",
       "    <tr>\n",
       "      <th>104</th>\n",
       "      <td>2021-11-01</td>\n",
       "      <td>12.8792104167</td>\n",
       "      <td>1010.0791666667</td>\n",
       "      <td>9.3489599908</td>\n",
       "      <td>186.8767458333</td>\n",
       "      <td>88.0416666667</td>\n",
       "      <td>0.0166666667</td>\n",
       "      <td>6</td>\n",
       "    </tr>\n",
       "    <tr>\n",
       "      <th>105</th>\n",
       "      <td>2021-11-02</td>\n",
       "      <td>13.4850436667</td>\n",
       "      <td>1007.1250000000</td>\n",
       "      <td>31.7005657500</td>\n",
       "      <td>256.8259470833</td>\n",
       "      <td>84.1666666667</td>\n",
       "      <td>0.1333333333</td>\n",
       "      <td>8</td>\n",
       "    </tr>\n",
       "    <tr>\n",
       "      <th>106</th>\n",
       "      <td>2021-11-03</td>\n",
       "      <td>13.6412934583</td>\n",
       "      <td>1011.8750000000</td>\n",
       "      <td>22.9857560417</td>\n",
       "      <td>223.6004500000</td>\n",
       "      <td>72.5833333333</td>\n",
       "      <td>0.0000000000</td>\n",
       "      <td>9</td>\n",
       "    </tr>\n",
       "    <tr>\n",
       "      <th>107</th>\n",
       "      <td>2021-11-04</td>\n",
       "      <td>17.3292100208</td>\n",
       "      <td>1010.5166666667</td>\n",
       "      <td>17.4568897875</td>\n",
       "      <td>213.1987115833</td>\n",
       "      <td>67.3750000000</td>\n",
       "      <td>0.0000000000</td>\n",
       "      <td>15</td>\n",
       "    </tr>\n",
       "    <tr>\n",
       "      <th>108</th>\n",
       "      <td>2021-11-05</td>\n",
       "      <td>14.8646268125</td>\n",
       "      <td>1014.8000000000</td>\n",
       "      <td>6.4897379229</td>\n",
       "      <td>146.6379696250</td>\n",
       "      <td>81.0000000000</td>\n",
       "      <td>0.0000000000</td>\n",
       "      <td>172</td>\n",
       "    </tr>\n",
       "    <tr>\n",
       "      <th>109</th>\n",
       "      <td>2021-11-06</td>\n",
       "      <td>14.7183769583</td>\n",
       "      <td>1018.2583333333</td>\n",
       "      <td>8.6146294208</td>\n",
       "      <td>99.8385232500</td>\n",
       "      <td>88.7083333333</td>\n",
       "      <td>0.0583333333</td>\n",
       "      <td>19</td>\n",
       "    </tr>\n",
       "    <tr>\n",
       "      <th>110</th>\n",
       "      <td>2021-11-07</td>\n",
       "      <td>14.9512933958</td>\n",
       "      <td>1017.2125000000</td>\n",
       "      <td>5.8357753583</td>\n",
       "      <td>152.8652723333</td>\n",
       "      <td>89.2916666667</td>\n",
       "      <td>0.0916666667</td>\n",
       "      <td>38</td>\n",
       "    </tr>\n",
       "    <tr>\n",
       "      <th>111</th>\n",
       "      <td>2021-11-08</td>\n",
       "      <td>15.4846265417</td>\n",
       "      <td>1012.5083333333</td>\n",
       "      <td>12.0012252083</td>\n",
       "      <td>197.7644175833</td>\n",
       "      <td>61.7916666667</td>\n",
       "      <td>0.0041666667</td>\n",
       "      <td>26</td>\n",
       "    </tr>\n",
       "    <tr>\n",
       "      <th>112</th>\n",
       "      <td>2021-11-09</td>\n",
       "      <td>14.4583769375</td>\n",
       "      <td>1017.0208333333</td>\n",
       "      <td>10.8061936917</td>\n",
       "      <td>103.0895955000</td>\n",
       "      <td>81.8750000000</td>\n",
       "      <td>0.0458333333</td>\n",
       "      <td>36</td>\n",
       "    </tr>\n",
       "    <tr>\n",
       "      <th>113</th>\n",
       "      <td>2021-11-10</td>\n",
       "      <td>13.8279601250</td>\n",
       "      <td>1022.8666666667</td>\n",
       "      <td>14.3177909375</td>\n",
       "      <td>92.4106777917</td>\n",
       "      <td>83.7500000000</td>\n",
       "      <td>0.0041666667</td>\n",
       "      <td>45</td>\n",
       "    </tr>\n",
       "    <tr>\n",
       "      <th>114</th>\n",
       "      <td>2021-11-11</td>\n",
       "      <td>12.6221270625</td>\n",
       "      <td>1022.6333333333</td>\n",
       "      <td>9.1617975396</td>\n",
       "      <td>153.5755462500</td>\n",
       "      <td>87.9583333333</td>\n",
       "      <td>0.0083333333</td>\n",
       "      <td>10</td>\n",
       "    </tr>\n",
       "    <tr>\n",
       "      <th>115</th>\n",
       "      <td>2021-11-12</td>\n",
       "      <td>12.0708770417</td>\n",
       "      <td>1018.6791666667</td>\n",
       "      <td>4.2881856542</td>\n",
       "      <td>198.6805883333</td>\n",
       "      <td>84.9583333333</td>\n",
       "      <td>0.0000000000</td>\n",
       "      <td>11</td>\n",
       "    </tr>\n",
       "    <tr>\n",
       "      <th>116</th>\n",
       "      <td>2021-11-13</td>\n",
       "      <td>11.3967105208</td>\n",
       "      <td>1017.8458333333</td>\n",
       "      <td>5.2971628458</td>\n",
       "      <td>220.9103054167</td>\n",
       "      <td>84.0000000000</td>\n",
       "      <td>0.0166666667</td>\n",
       "      <td>12</td>\n",
       "    </tr>\n",
       "    <tr>\n",
       "      <th>117</th>\n",
       "      <td>2021-11-14</td>\n",
       "      <td>10.9587936708</td>\n",
       "      <td>1016.2791666667</td>\n",
       "      <td>6.8428324154</td>\n",
       "      <td>221.4761479167</td>\n",
       "      <td>79.3750000000</td>\n",
       "      <td>0.1875000000</td>\n",
       "      <td>14</td>\n",
       "    </tr>\n",
       "    <tr>\n",
       "      <th>118</th>\n",
       "      <td>2021-11-15</td>\n",
       "      <td>10.5792103750</td>\n",
       "      <td>1016.5166666667</td>\n",
       "      <td>11.6477682500</td>\n",
       "      <td>160.3365789583</td>\n",
       "      <td>79.4583333333</td>\n",
       "      <td>0.0125000000</td>\n",
       "      <td>27</td>\n",
       "    </tr>\n",
       "    <tr>\n",
       "      <th>119</th>\n",
       "      <td>2021-11-16</td>\n",
       "      <td>11.3121270000</td>\n",
       "      <td>1016.1916666667</td>\n",
       "      <td>22.2963957917</td>\n",
       "      <td>106.5880213750</td>\n",
       "      <td>95.2083333333</td>\n",
       "      <td>1.1041666667</td>\n",
       "      <td>12</td>\n",
       "    </tr>\n",
       "    <tr>\n",
       "      <th>120</th>\n",
       "      <td>2021-11-17</td>\n",
       "      <td>10.8667103750</td>\n",
       "      <td>1016.5791666667</td>\n",
       "      <td>8.6446595583</td>\n",
       "      <td>115.8061985833</td>\n",
       "      <td>92.2916666667</td>\n",
       "      <td>0.1250000000</td>\n",
       "      <td>17</td>\n",
       "    </tr>\n",
       "    <tr>\n",
       "      <th>121</th>\n",
       "      <td>2021-11-18</td>\n",
       "      <td>9.4887937292</td>\n",
       "      <td>1019.9208333333</td>\n",
       "      <td>10.1651129458</td>\n",
       "      <td>329.2615074583</td>\n",
       "      <td>85.3750000000</td>\n",
       "      <td>0.0000000000</td>\n",
       "      <td>207</td>\n",
       "    </tr>\n",
       "    <tr>\n",
       "      <th>122</th>\n",
       "      <td>2021-11-19</td>\n",
       "      <td>8.9308770417</td>\n",
       "      <td>1024.5208333333</td>\n",
       "      <td>19.4201213750</td>\n",
       "      <td>310.3822994167</td>\n",
       "      <td>83.3750000000</td>\n",
       "      <td>0.0000000000</td>\n",
       "      <td>171</td>\n",
       "    </tr>\n",
       "    <tr>\n",
       "      <th>123</th>\n",
       "      <td>2021-11-20</td>\n",
       "      <td>9.4108771167</td>\n",
       "      <td>1022.5458333333</td>\n",
       "      <td>15.5879998958</td>\n",
       "      <td>320.1530329167</td>\n",
       "      <td>64.9583333333</td>\n",
       "      <td>0.0000000000</td>\n",
       "      <td>6</td>\n",
       "    </tr>\n",
       "    <tr>\n",
       "      <th>124</th>\n",
       "      <td>2021-11-21</td>\n",
       "      <td>11.4012936250</td>\n",
       "      <td>1013.7166666667</td>\n",
       "      <td>6.8719627542</td>\n",
       "      <td>255.5063862500</td>\n",
       "      <td>55.5833333333</td>\n",
       "      <td>0.0000000000</td>\n",
       "      <td>7</td>\n",
       "    </tr>\n",
       "    <tr>\n",
       "      <th>125</th>\n",
       "      <td>2021-11-22</td>\n",
       "      <td>10.1596270833</td>\n",
       "      <td>1011.6541666667</td>\n",
       "      <td>15.8583205833</td>\n",
       "      <td>250.6219795833</td>\n",
       "      <td>79.0833333333</td>\n",
       "      <td>0.0000000000</td>\n",
       "      <td>7</td>\n",
       "    </tr>\n",
       "    <tr>\n",
       "      <th>126</th>\n",
       "      <td>2021-11-23</td>\n",
       "      <td>9.5829604750</td>\n",
       "      <td>1015.7041666667</td>\n",
       "      <td>8.5285002333</td>\n",
       "      <td>169.4970741000</td>\n",
       "      <td>78.7916666667</td>\n",
       "      <td>0.0500000000</td>\n",
       "      <td>6</td>\n",
       "    </tr>\n",
       "    <tr>\n",
       "      <th>127</th>\n",
       "      <td>2021-11-24</td>\n",
       "      <td>8.9933771208</td>\n",
       "      <td>1018.6375000000</td>\n",
       "      <td>12.9304147708</td>\n",
       "      <td>92.5281422083</td>\n",
       "      <td>84.3750000000</td>\n",
       "      <td>0.0625000000</td>\n",
       "      <td>10</td>\n",
       "    </tr>\n",
       "    <tr>\n",
       "      <th>128</th>\n",
       "      <td>2021-11-25</td>\n",
       "      <td>9.7775437833</td>\n",
       "      <td>1011.1666666667</td>\n",
       "      <td>5.8988277250</td>\n",
       "      <td>158.1244851667</td>\n",
       "      <td>86.0833333333</td>\n",
       "      <td>0.0791666667</td>\n",
       "      <td>10</td>\n",
       "    </tr>\n",
       "    <tr>\n",
       "      <th>129</th>\n",
       "      <td>2021-11-26</td>\n",
       "      <td>8.3046271000</td>\n",
       "      <td>1002.1125000000</td>\n",
       "      <td>37.7325642917</td>\n",
       "      <td>247.1577183333</td>\n",
       "      <td>86.9166666667</td>\n",
       "      <td>0.5000000000</td>\n",
       "      <td>9</td>\n",
       "    </tr>\n",
       "    <tr>\n",
       "      <th>130</th>\n",
       "      <td>2021-11-27</td>\n",
       "      <td>7.5417104250</td>\n",
       "      <td>1000.2333333333</td>\n",
       "      <td>37.6644851250</td>\n",
       "      <td>235.0498420833</td>\n",
       "      <td>86.3750000000</td>\n",
       "      <td>1.0208333333</td>\n",
       "      <td>9</td>\n",
       "    </tr>\n",
       "    <tr>\n",
       "      <th>131</th>\n",
       "      <td>2021-11-28</td>\n",
       "      <td>7.6787938083</td>\n",
       "      <td>997.4875000000</td>\n",
       "      <td>39.6162832083</td>\n",
       "      <td>238.2624462500</td>\n",
       "      <td>82.1250000000</td>\n",
       "      <td>0.0708333333</td>\n",
       "      <td>8</td>\n",
       "    </tr>\n",
       "  </tbody>\n",
       "</table>\n",
       "</div>"
      ],
      "text/plain": [
       "        Giorno  temperatura_gradiC    pressione_hPa  intensità_vento_km_h  \\\n",
       "0   2021-04-12       14.5532102333  1019.0000000000          9.2184421867   \n",
       "1   2021-04-13        8.6704604125  1017.5416666667         24.3623620000   \n",
       "2   2021-04-14        4.3467103554  1021.3833333333         30.6183717917   \n",
       "3   2021-04-15        4.8871270100  1021.5708333333         13.4111311750   \n",
       "4   2021-04-16        4.6808770042  1017.0750000000         13.4124664958   \n",
       "5   2021-04-17        6.2658771042  1011.2291666667         19.5349872917   \n",
       "6   2021-04-18        6.6479603833  1014.1625000000         16.1754003583   \n",
       "7   2021-04-19        5.1325436500  1014.8250000000          9.9492308667   \n",
       "8   2021-04-20        6.2371270750  1017.5458333333         17.6074919458   \n",
       "9   2021-04-21        8.3400436500  1018.9750000000          9.6898162958   \n",
       "10  2021-04-22        9.4929603917  1018.4875000000          6.9588710321   \n",
       "11  2021-04-23        8.9633771667  1018.0833333333         14.6236129833   \n",
       "12  2021-04-24        9.6800437625  1018.4416666667         24.4394731250   \n",
       "13  2021-04-25       11.2029602333  1018.0125000000         10.5305082062   \n",
       "14  2021-05-10       17.8387931250  1018.2333333333          7.7810937575   \n",
       "15  2021-05-11       18.9612932917  1013.2333333333         11.9384369750   \n",
       "16  2021-05-12       12.9258767500  1012.2166666667         31.2529952083   \n",
       "17  2021-05-13       11.3708771167  1011.0541666667         35.8940957083   \n",
       "18  2021-05-14       11.8371268417  1012.6500000000         21.7850632917   \n",
       "19  2021-05-15       11.6575435542  1011.0625000000         22.2354602083   \n",
       "20  2021-05-16       14.0242100000  1012.5291666667         25.6402046667   \n",
       "21  2021-05-17       15.8862933125  1010.3583333333         32.1037397500   \n",
       "22  2021-05-18       13.1912933250  1015.7083333333         15.1663451708   \n",
       "23  2021-05-19       13.0596267833  1013.9583333333         28.4910232917   \n",
       "24  2021-05-20       11.2208768125  1016.5708333333         26.0600275833   \n",
       "25  2021-05-21       13.6687933125  1020.8875000000         14.2175156458   \n",
       "26  2021-05-22       16.2533765542  1017.5250000000         15.9321177708   \n",
       "27  2021-05-23       21.8800430833  1017.2250000000         13.5754900083   \n",
       "28  2021-05-24       23.4217093750  1017.4583333333         14.2319286500   \n",
       "29  2021-05-25       19.8475429375  1017.7333333333         18.6655245208   \n",
       "30  2021-05-26       16.6175434167  1017.1541666667         10.6551424167   \n",
       "31  2021-05-27       17.0254599167  1015.2416666667         10.7377124333   \n",
       "32  2021-05-28       17.4350435000  1016.1625000000         14.3317863083   \n",
       "33  2021-05-29       17.5512931458  1015.9375000000          9.7520454625   \n",
       "34  2021-05-30       14.8529600417  1015.8291666667         13.5732833125   \n",
       "35  2021-05-31       13.0675433000  1017.2041666667         21.2373545000   \n",
       "36  2021-06-01       14.3725433042  1017.3041666667         17.6090480042   \n",
       "37  2021-06-02       16.5483767708  1019.3375000000          8.6143806542   \n",
       "38  2021-06-03       19.2071264583  1022.3875000000         10.2838242000   \n",
       "39  2021-06-04       20.5033763333  1022.5916666667         10.0616439708   \n",
       "40  2021-06-05       21.8271262917  1021.5083333333         10.6648441833   \n",
       "41  2021-06-06       21.7071264167  1018.3083333333         10.7042587375   \n",
       "42  2021-06-14       19.0483767083  1016.8916666667         21.5112790417   \n",
       "43  2021-06-15       17.2804597708  1017.5208333333         16.4052951667   \n",
       "44  2021-06-16       20.1171266042  1016.3166666667          9.7977931083   \n",
       "45  2021-06-17       21.2829598333  1016.8291666667          9.8881981958   \n",
       "46  2021-06-18       22.9654593750  1017.8166666667         10.1761051000   \n",
       "47  2021-06-19       25.3667095417  1015.8291666667         16.4907270833   \n",
       "48  2021-06-20       27.7412925417  1012.7458333333         13.4378652958   \n",
       "49  2021-06-21       29.4658762083  1011.8000000000         15.2298108750   \n",
       "50  2021-06-22       29.8767099167  1012.2291666667         19.5234175417   \n",
       "51  2021-06-23       30.8571260000  1014.5000000000          9.1755420750   \n",
       "52  2021-06-24       31.7567093333  1017.5125000000         14.0805848167   \n",
       "53  2021-06-25       29.8912932083  1016.9583333333         20.3530894167   \n",
       "54  2021-06-26       28.1079597500  1014.7666666667         13.9764011000   \n",
       "55  2021-06-27       26.0221262917  1015.3291666667          8.4948814000   \n",
       "56  2021-06-28       28.0692094167  1015.9583333333         11.5960430792   \n",
       "57  2021-06-29       29.6796259583  1014.5041666667         18.8338527917   \n",
       "58  2021-06-30       28.6933765417  1013.0541666667         19.1574301708   \n",
       "59  2021-07-01       24.4283759167  1014.2541666667         25.6433468333   \n",
       "60  2021-07-02       22.3696261667  1014.1958333333         21.1417508750   \n",
       "61  2021-07-03       23.2646260833  1014.7500000000          6.2762620312   \n",
       "62  2021-07-04       25.4137925417  1011.9125000000         16.1889184625   \n",
       "63  2021-07-05       24.0967093750  1010.4333333333         19.6835511075   \n",
       "64  2021-07-06       24.9683760417  1014.1500000000         15.1700154167   \n",
       "65  2021-07-07       28.6771261667  1014.8166666667         10.3208526042   \n",
       "66  2021-07-08       30.2579594583  1016.6125000000         10.3952280333   \n",
       "67  2021-07-09       29.1204595000  1015.5833333333         11.5914215292   \n",
       "68  2021-07-10       25.1362930833  1013.6083333333         10.6278348583   \n",
       "69  2021-07-11       25.0950427917  1013.2583333333         11.2635175708   \n",
       "70  2021-07-12       26.1479594167  1013.9625000000          9.0660978667   \n",
       "71  2021-07-13       28.3725424583  1011.6791666667         11.4294463292   \n",
       "72  2021-07-14       24.8733758333  1012.9833333333         26.0319357500   \n",
       "73  2021-07-15       20.9129597083  1013.9916666667         20.2698464583   \n",
       "74  2021-07-16       20.1583764167  1011.9250000000         20.4437861667   \n",
       "75  2021-07-17       17.7646265000  1009.1875000000          9.5223663667   \n",
       "76  2021-07-18       18.1000432083  1006.6708333333         14.5179460417   \n",
       "77  2021-07-26       30.4629595417  1015.2625000000          9.2611011750   \n",
       "78  2021-07-27       30.9950428333  1017.1083333333          8.6737032958   \n",
       "79  2021-07-28       30.9379595833  1016.6333333333          8.7909560083   \n",
       "80  2021-07-29       30.6954594167  1016.1000000000         16.2364814792   \n",
       "81  2021-07-30       28.7483761250  1013.8875000000         20.7510122083   \n",
       "82  2021-07-31       28.9929592083  1011.7250000000         12.4758684375   \n",
       "83  2021-08-01       30.4379596667  1011.4083333333         17.9030877500   \n",
       "84  2021-08-09       30.1417098750  1017.2083333333         15.3815813583   \n",
       "85  2021-08-10       31.5487929583  1017.3583333333         14.0834279250   \n",
       "86  2021-08-11       31.6204594167  1015.3416666667         15.1022448333   \n",
       "87  2021-08-12       27.2783762917  1017.2916666667         18.3083810833   \n",
       "88  2021-08-13       27.5367093750  1020.0625000000         13.2097515625   \n",
       "89  2021-08-14       27.1675428750  1019.3041666667         14.3556141458   \n",
       "90  2021-10-18       12.5158769583  1023.5083333333          4.8801530508   \n",
       "91  2021-10-19       12.7392101083  1027.8666666667          6.9319459875   \n",
       "92  2021-10-20       13.0487935417  1026.0500000000          8.9902449208   \n",
       "93  2021-10-21       12.2921269167  1020.8625000000         23.0706302083   \n",
       "94  2021-10-22       14.4033768125  1018.7541666667         19.5934975000   \n",
       "95  2021-10-23       15.9762933333  1019.7583333333         12.3982133250   \n",
       "96  2021-10-24       13.1708771250  1021.9416666667         17.8360333333   \n",
       "97  2021-10-25       11.6150438958  1020.0875000000         22.3826535417   \n",
       "98  2021-10-26       11.7567103958  1020.0416666667         11.8173591208   \n",
       "99  2021-10-27       11.8154603333  1021.3583333333         10.5946719125   \n",
       "100 2021-10-28        9.8929602625  1021.5916666667         11.1309083708   \n",
       "101 2021-10-29        9.6187937458  1019.0875000000          8.6679184458   \n",
       "102 2021-10-30       12.0621271042  1018.2250000000          9.3823934417   \n",
       "103 2021-10-31       13.4992103750  1016.6958333333          5.1258373462   \n",
       "104 2021-11-01       12.8792104167  1010.0791666667          9.3489599908   \n",
       "105 2021-11-02       13.4850436667  1007.1250000000         31.7005657500   \n",
       "106 2021-11-03       13.6412934583  1011.8750000000         22.9857560417   \n",
       "107 2021-11-04       17.3292100208  1010.5166666667         17.4568897875   \n",
       "108 2021-11-05       14.8646268125  1014.8000000000          6.4897379229   \n",
       "109 2021-11-06       14.7183769583  1018.2583333333          8.6146294208   \n",
       "110 2021-11-07       14.9512933958  1017.2125000000          5.8357753583   \n",
       "111 2021-11-08       15.4846265417  1012.5083333333         12.0012252083   \n",
       "112 2021-11-09       14.4583769375  1017.0208333333         10.8061936917   \n",
       "113 2021-11-10       13.8279601250  1022.8666666667         14.3177909375   \n",
       "114 2021-11-11       12.6221270625  1022.6333333333          9.1617975396   \n",
       "115 2021-11-12       12.0708770417  1018.6791666667          4.2881856542   \n",
       "116 2021-11-13       11.3967105208  1017.8458333333          5.2971628458   \n",
       "117 2021-11-14       10.9587936708  1016.2791666667          6.8428324154   \n",
       "118 2021-11-15       10.5792103750  1016.5166666667         11.6477682500   \n",
       "119 2021-11-16       11.3121270000  1016.1916666667         22.2963957917   \n",
       "120 2021-11-17       10.8667103750  1016.5791666667          8.6446595583   \n",
       "121 2021-11-18        9.4887937292  1019.9208333333         10.1651129458   \n",
       "122 2021-11-19        8.9308770417  1024.5208333333         19.4201213750   \n",
       "123 2021-11-20        9.4108771167  1022.5458333333         15.5879998958   \n",
       "124 2021-11-21       11.4012936250  1013.7166666667          6.8719627542   \n",
       "125 2021-11-22       10.1596270833  1011.6541666667         15.8583205833   \n",
       "126 2021-11-23        9.5829604750  1015.7041666667          8.5285002333   \n",
       "127 2021-11-24        8.9933771208  1018.6375000000         12.9304147708   \n",
       "128 2021-11-25        9.7775437833  1011.1666666667          5.8988277250   \n",
       "129 2021-11-26        8.3046271000  1002.1125000000         37.7325642917   \n",
       "130 2021-11-27        7.5417104250  1000.2333333333         37.6644851250   \n",
       "131 2021-11-28        7.6787938083   997.4875000000         39.6162832083   \n",
       "\n",
       "     direzione_vento_gradi  umidità_relativa  precipitazioni  count  \n",
       "0           208.2432833333     46.6000000000    0.0000000000     48  \n",
       "1           253.7933245833     72.2083333333    0.0125000000     43  \n",
       "2           333.5009300000     74.5833333333    0.0125000000    337  \n",
       "3           203.7779434792     67.7916666667    0.0000000000    380  \n",
       "4            57.5458903125     73.7083333333    0.0416666667     43  \n",
       "5           179.3287344875     52.7500000000    0.0041666667     42  \n",
       "6           244.8319887500     48.7083333333    0.0083333333     51  \n",
       "7           288.6925308333     49.5000000000    0.1083333333     53  \n",
       "8           275.8744458333     62.6666666667    0.0833333333     47  \n",
       "9           197.5802775417     56.1250000000    0.0000000000     61  \n",
       "10          220.3895850000     44.7083333333    0.2666666667     58  \n",
       "11           96.7058202375     29.1666666667    0.3750000000     53  \n",
       "12           82.9471551250     34.9583333333    0.6250000000     38  \n",
       "13          318.4669420833     28.8333333333    0.0041666667     33  \n",
       "14          204.1011535833     73.3750000000    0.0000000000     89  \n",
       "15          241.0832850000     57.1666666667    0.0000000000     73  \n",
       "16          258.0494904167     50.0833333333    0.0083333333    457  \n",
       "17          256.6298258333     59.2916666667    0.0000000000    467  \n",
       "18          250.3123041667     48.4583333333    0.0000000000     45  \n",
       "19          263.8312320833     52.2916666667    0.5625000000     39  \n",
       "20          268.8258779167     48.0833333333    0.0000000000     42  \n",
       "21          265.2353950000     47.1250000000    0.0000000000     26  \n",
       "22          277.1862912500     36.9583333333    0.0000000000     16  \n",
       "23          269.7338812500     39.2916666667    0.0000000000     13  \n",
       "24          326.6717437500     45.2916666667    0.0000000000     14  \n",
       "25          311.9606008333     41.4166666667    0.0000000000     10  \n",
       "26          259.0529187500     34.7916666667    0.0000000000     12  \n",
       "27          264.4714308333     26.7083333333    0.0000000000     10  \n",
       "28          240.1980520833     24.4583333333    0.0000000000     19  \n",
       "29          250.0375372500     21.6250000000    0.0000000000     28  \n",
       "30          269.0827887500     19.6250000000    0.0000000000     10  \n",
       "31          262.4077137500     23.5416666667    0.0000000000      8  \n",
       "32          250.0265061917     32.2916666667    0.0000000000     13  \n",
       "33          232.8456025833     33.6666666667    0.0000000000     16  \n",
       "34          325.0658908333     26.2083333333    0.0458333333     21  \n",
       "35          333.6494775000     21.3333333333    0.1208333333     32  \n",
       "36          268.5467712917     34.2083333333    0.0000000000     38  \n",
       "37          196.1643380000     30.7500000000    0.0000000000     42  \n",
       "38          168.5619632792     39.4583333333    0.0000000000     84  \n",
       "39          302.5562206125     47.4166666667    0.0000000000    205  \n",
       "40          286.4864258333     35.2500000000    0.0000000000     75  \n",
       "41          279.1240933333     50.0416666667    0.0041666667     62  \n",
       "42          314.5547331792     29.0833333333    0.0000000000    292  \n",
       "43          171.1251770208     39.6250000000    0.0000000000    105  \n",
       "44          192.6969221625     46.1666666667    0.0000000000     16  \n",
       "45          190.4152078750     51.6666666667    0.0000000000     13  \n",
       "46          265.9396927083     68.5833333333    0.0000000000     18  \n",
       "47          317.3529920833     71.4166666667    0.0000000000     20  \n",
       "48          263.7146867917     73.1666666667    0.0000000000     15  \n",
       "49          278.0097395833     64.2500000000    0.0041666667     15  \n",
       "50          254.5662866667     37.3333333333    0.0000000000     10  \n",
       "51          213.6350935833     35.2916666667    0.0000000000     10  \n",
       "52          272.8198183333     35.2916666667    0.0083333333      8  \n",
       "53          265.3348829167     41.7500000000    0.0041666667    160  \n",
       "54          231.1399881667     32.6666666667    0.0000000000      8  \n",
       "55          187.7001675000     22.5416666667    0.0000000000     15  \n",
       "56          232.0933341667     20.7916666667    0.0000000000     20  \n",
       "57          265.7247062500     20.0000000000    0.0000000000     30  \n",
       "58          260.5284845833     20.6250000000    0.0041666667     37  \n",
       "59          278.1408345833     24.4583333333    0.0000000000     42  \n",
       "60          291.9351904167     24.9583333333    0.0000000000     59  \n",
       "61          238.7976744583     22.0000000000    0.0000000000     70  \n",
       "62          280.3632762500     26.9166666667    0.0041666667     77  \n",
       "63          297.7089979167     19.6250000000    0.0000000000     95  \n",
       "64          275.4100227708     25.4583333333    0.0000000000     92  \n",
       "65          187.7487850000     50.6666666667    0.0000000000    375  \n",
       "66          198.4858695833     52.7083333333    0.0000000000      5  \n",
       "67          267.9053708333     38.8333333333    0.0000000000     14  \n",
       "68          163.1785426583     25.5416666667    0.0000000000    485  \n",
       "69          305.7789383333     28.2083333333    0.0000000000   1152  \n",
       "70          203.8271402500     23.9166666667    0.0000000000    475  \n",
       "71          239.5852229167     27.2916666667    0.0000000000      9  \n",
       "72          256.1206429167     32.9583333333    0.0000000000    205  \n",
       "73          274.0202933333     28.0416666667    0.0000000000     10  \n",
       "74          283.1524429167     26.4583333333    0.0000000000      8  \n",
       "75          281.6302400000     28.0416666667    0.0041666667      9  \n",
       "76          265.2342217417     29.3333333333    0.0541666667      6  \n",
       "77          219.1385664167     34.7500000000    0.0000000000     10  \n",
       "78          214.2965447500     53.7083333333    0.0000000000    163  \n",
       "79          241.0273072500     68.9583333333    0.0000000000    248  \n",
       "80          266.9066925000     68.6666666667    0.0000000000    514  \n",
       "81          271.1131920833     64.7500000000    0.0000000000    320  \n",
       "82          261.8535766667     66.1666666667    0.0000000000    485  \n",
       "83          263.7384066667     48.7083333333    0.0000000000    235  \n",
       "84          274.4624983333     54.8333333333    0.0000000000     48  \n",
       "85          258.8325710833     43.0833333333    0.0000000000     61  \n",
       "86          238.5281013583     50.0833333333    0.0000000000     95  \n",
       "87          184.6869465208     58.1250000000    0.0166666667     79  \n",
       "88          181.5782768333     78.0416666667    0.0000000000     52  \n",
       "89          160.6745566250     62.2083333333    0.0000000000   1025  \n",
       "90          168.7680585000     95.0416666667    0.0666666667    167  \n",
       "91          218.5508091667     89.1666666667    0.0083333333    125  \n",
       "92          264.9723704167     83.7916666667    0.0000000000      4  \n",
       "93          257.7468733333     79.0833333333    0.0041666667      8  \n",
       "94          249.3021050000     56.5833333333    0.0000000000     11  \n",
       "95          173.7504059583     65.5833333333    0.0000000000      5  \n",
       "96           38.2444618208     79.1666666667    0.0041666667      4  \n",
       "97           73.5053989167     83.7500000000    0.6166666667      6  \n",
       "98          102.8008642083     81.5416666667    0.2083333333     10  \n",
       "99           73.4707132750     88.2916666667    0.0208333333      8  \n",
       "100         185.2224182917     86.3750000000    0.0000000000      5  \n",
       "101         186.9672160417     85.7083333333    0.0000000000      7  \n",
       "102         128.6091032083     76.8333333333    0.0000000000      7  \n",
       "103         169.7066689583     85.7916666667    0.0000000000      4  \n",
       "104         186.8767458333     88.0416666667    0.0166666667      6  \n",
       "105         256.8259470833     84.1666666667    0.1333333333      8  \n",
       "106         223.6004500000     72.5833333333    0.0000000000      9  \n",
       "107         213.1987115833     67.3750000000    0.0000000000     15  \n",
       "108         146.6379696250     81.0000000000    0.0000000000    172  \n",
       "109          99.8385232500     88.7083333333    0.0583333333     19  \n",
       "110         152.8652723333     89.2916666667    0.0916666667     38  \n",
       "111         197.7644175833     61.7916666667    0.0041666667     26  \n",
       "112         103.0895955000     81.8750000000    0.0458333333     36  \n",
       "113          92.4106777917     83.7500000000    0.0041666667     45  \n",
       "114         153.5755462500     87.9583333333    0.0083333333     10  \n",
       "115         198.6805883333     84.9583333333    0.0000000000     11  \n",
       "116         220.9103054167     84.0000000000    0.0166666667     12  \n",
       "117         221.4761479167     79.3750000000    0.1875000000     14  \n",
       "118         160.3365789583     79.4583333333    0.0125000000     27  \n",
       "119         106.5880213750     95.2083333333    1.1041666667     12  \n",
       "120         115.8061985833     92.2916666667    0.1250000000     17  \n",
       "121         329.2615074583     85.3750000000    0.0000000000    207  \n",
       "122         310.3822994167     83.3750000000    0.0000000000    171  \n",
       "123         320.1530329167     64.9583333333    0.0000000000      6  \n",
       "124         255.5063862500     55.5833333333    0.0000000000      7  \n",
       "125         250.6219795833     79.0833333333    0.0000000000      7  \n",
       "126         169.4970741000     78.7916666667    0.0500000000      6  \n",
       "127          92.5281422083     84.3750000000    0.0625000000     10  \n",
       "128         158.1244851667     86.0833333333    0.0791666667     10  \n",
       "129         247.1577183333     86.9166666667    0.5000000000      9  \n",
       "130         235.0498420833     86.3750000000    1.0208333333      9  \n",
       "131         238.2624462500     82.1250000000    0.0708333333      8  "
      ]
     },
     "execution_count": 283,
     "metadata": {},
     "output_type": "execute_result"
    }
   ],
   "source": [
    "df_nuovo"
   ]
  },
  {
   "cell_type": "code",
   "execution_count": null,
   "metadata": {},
   "outputs": [],
   "source": [
    "# correlazione tra fallimenti e temperatura in gradi\n",
    "pearson, spearman , kendall = corr_Sensori(df_nuovo,meteo[0], 'count')\n",
    "print('pearson: ', pearson, ' spearman: ', spearman, ' kendall: ', kendall)"
   ]
  },
  {
   "cell_type": "code",
   "execution_count": null,
   "metadata": {},
   "outputs": [],
   "source": [
    "# correlazione tra fallimenti e direzione del vento in gradi\n",
    "pearson, spearman , kendall = corr_Sensori(df_nuovo,meteo[1], 'count')\n",
    "print('pearson: ', pearson, ' spearman: ', spearman, ' kendall: ', kendall)"
   ]
  },
  {
   "cell_type": "code",
   "execution_count": null,
   "metadata": {},
   "outputs": [],
   "source": [
    "# correlazione tra fallimenti e pressione atmosferica in gradi\n",
    "pearson, spearman , kendall = corr_Sensori(df_nuovo,meteo[2], 'count')\n",
    "print('pearson: ', pearson, ' spearman: ', spearman, ' kendall: ', kendall)"
   ]
  },
  {
   "cell_type": "code",
   "execution_count": null,
   "metadata": {},
   "outputs": [],
   "source": [
    "# correlazione tra fallimenti e intensità del vento in gradi\n",
    "pearson, spearman , kendall = corr_Sensori(df_nuovo,meteo[3], 'count')\n",
    "print('pearson: ', pearson, ' spearman: ', spearman, ' kendall: ', kendall)"
   ]
  },
  {
   "cell_type": "code",
   "execution_count": null,
   "metadata": {},
   "outputs": [],
   "source": [
    "# correlazione tra fallimenti e umidità relativa in gradi\n",
    "pearson, spearman , kendall = corr_Sensori(df_nuovo,meteo[4], 'count')\n",
    "print('pearson: ', pearson, ' spearman: ', spearman, ' kendall: ', kendall)"
   ]
  },
  {
   "cell_type": "code",
   "execution_count": null,
   "metadata": {},
   "outputs": [],
   "source": [
    "# correlazione tra fallimenti e precipitazioni in gradi\n",
    "pearson, spearman , kendall = corr_Sensori(df_nuovo,meteo[5], 'count')\n",
    "print('pearson: ', pearson, ' spearman: ', spearman, ' kendall: ', kendall)"
   ]
  },
  {
   "cell_type": "markdown",
   "metadata": {},
   "source": [
    "# Odori"
   ]
  },
  {
   "cell_type": "code",
   "execution_count": null,
   "metadata": {},
   "outputs": [],
   "source": [
    "# Considerando che la massa molare del H2S è 34.08 g/mol\n",
    "# Per convertire il ppm in ug/m3 basta moliplicarlo \n",
    "# per il peso molecolare (PM) della sostanza espressa in grammi \n",
    "# e dividere tutto per 24,45 m3mol−1\n",
    "puzza_min = (0.0005*34.08)/(24.45)\n",
    "puzza_max = (0.3*34.08)/(24.45)\n",
    "print('La soglia minima per la puzza in ug_m3 è: ',puzza_min)\n",
    "print('La soglia massima per la puzza in ug_m3 è: ',puzza_max)"
   ]
  },
  {
   "cell_type": "markdown",
   "metadata": {},
   "source": [
    "## ATM05"
   ]
  },
  {
   "cell_type": "code",
   "execution_count": null,
   "metadata": {},
   "outputs": [],
   "source": [
    "df_H2S = df_DatiPuliti[df_DatiPuliti['postazione'] == 'ATM05_01479'][['Data','H2S_ug_m3']].reset_index(drop = True)\n",
    "df_H2SJ = df_DatiPuliti[df_DatiPuliti['postazione'] == 'ATM05_01479'][['Data','H2SJ_ug_m3']].reset_index(drop = True)\n",
    "df_od = pd.concat([df_H2S,df_H2SJ]).reset_index().drop(['index'], axis = 1) \n",
    "df_od['Data'] = pd.to_datetime(df_od['Data'].dt.strftime('%Y/%m/%d'))\n",
    "df_od = df_od.groupby('Data').mean()\n",
    "df_od.insert(1,'H2S_odore', df_od['H2S_ug_m3'].apply(lambda x: True if x >= puzza_max else \n",
    "                                                     (False if x <= puzza_min else None )))\n",
    "df_od.insert(3,'H2SJ_odore', df_od['H2SJ_ug_m3'].apply(lambda x: True if x >= puzza_max else \n",
    "                                                     (False if x <= puzza_min else None)))\n",
    "df_od"
   ]
  },
  {
   "cell_type": "markdown",
   "metadata": {},
   "source": [
    "## ATM07"
   ]
  },
  {
   "cell_type": "code",
   "execution_count": null,
   "metadata": {},
   "outputs": [],
   "source": [
    "df_H2S = df_DatiPuliti[df_DatiPuliti['postazione'] == 'ATM07_01480'][['Data','H2S_ug_m3']].reset_index(drop = True)\n",
    "df_H2SJ = df_DatiPuliti[df_DatiPuliti['postazione'] == 'ATM07_01480'][['Data','H2SJ_ug_m3']].reset_index(drop = True)\n",
    "df_od = pd.concat([df_H2S,df_H2SJ]).reset_index().drop(['index'], axis = 1) \n",
    "df_od['Data'] = pd.to_datetime(df_od['Data'].dt.strftime('%Y/%m/%d'))\n",
    "df_od = df_od.groupby('Data').mean()\n",
    "df_od.insert(1,'H2S_odore', df_od['H2S_ug_m3'].apply(lambda x: True if x >= puzza_max else \n",
    "                                                     (False if x <= puzza_min else None )))\n",
    "df_od.insert(3,'H2SJ_odore', df_od['H2SJ_ug_m3'].apply(lambda x: True if x >= puzza_max else \n",
    "                                                     (False if x <= puzza_min else None)))\n",
    "df_od"
   ]
  },
  {
   "cell_type": "markdown",
   "metadata": {},
   "source": [
    "## ATM10"
   ]
  },
  {
   "cell_type": "code",
   "execution_count": null,
   "metadata": {},
   "outputs": [],
   "source": [
    "df_H2S = df_DatiPuliti[df_DatiPuliti['postazione'] == 'ATM10_01481'][['Data','H2S_ug_m3']].reset_index(drop = True)\n",
    "df_H2SJ = df_DatiPuliti[df_DatiPuliti['postazione'] == 'ATM10_01481'][['Data','H2SJ_ug_m3']].reset_index(drop = True)\n",
    "df_od = pd.concat([df_H2S,df_H2SJ]).reset_index().drop(['index'], axis = 1) \n",
    "df_od['Data'] = pd.to_datetime(df_od['Data'].dt.strftime('%Y/%m/%d'))\n",
    "df_od = df_od.groupby('Data').mean()\n",
    "df_od.insert(1,'H2S_odore', df_od['H2S_ug_m3'].apply(lambda x: True if x >= puzza_max else \n",
    "                                                     (False if x <= puzza_min else None)))\n",
    "df_od.insert(3,'H2SJ_odore', df_od['H2SJ_ug_m3'].apply(lambda x: True if x >= puzza_max else \n",
    "                                                       (False if x <= puzza_min else None)))\n",
    "df_od"
   ]
  },
  {
   "cell_type": "markdown",
   "metadata": {},
   "source": [
    "## ATM14"
   ]
  },
  {
   "cell_type": "code",
   "execution_count": null,
   "metadata": {},
   "outputs": [],
   "source": [
    "df_H2S = df_DatiPuliti[df_DatiPuliti['postazione'] == 'ATM14_01486'][['Data','H2S_ug_m3']].reset_index(drop = True)\n",
    "df_H2SJ = df_DatiPuliti[df_DatiPuliti['postazione'] == 'ATM14_01486'][['Data','H2SJ_ug_m3']].reset_index(drop = True)\n",
    "df_od = pd.concat([df_H2S,df_H2SJ]).reset_index().drop(['index'], axis = 1) \n",
    "df_od['Data'] = pd.to_datetime(df_od['Data'].dt.strftime('%Y/%m/%d'))\n",
    "df_od = df_od.groupby('Data').mean()\n",
    "df_od.insert(1,'H2S_odore', df_od['H2S_ug_m3'].apply(lambda x: True if x >= puzza_max else \n",
    "                                                     (False if x <= puzza_min else None )))\n",
    "df_od.insert(3,'H2SJ_odore', df_od['H2SJ_ug_m3'].apply(lambda x: True if x >= puzza_max else \n",
    "                                                     (False if x <= puzza_min else None)))\n",
    "df_od"
   ]
  }
 ],
 "metadata": {
  "celltoolbar": "Raw Cell Format",
  "colab": {
   "name": "ElaborazioneDati.ipynb",
   "provenance": []
  },
  "kernelspec": {
   "display_name": "Python 3 (ipykernel)",
   "language": "python",
   "name": "python3"
  },
  "language_info": {
   "codemirror_mode": {
    "name": "ipython",
    "version": 3
   },
   "file_extension": ".py",
   "mimetype": "text/x-python",
   "name": "python",
   "nbconvert_exporter": "python",
   "pygments_lexer": "ipython3",
   "version": "3.9.12"
  }
 },
 "nbformat": 4,
 "nbformat_minor": 1
}
