{
 "cells": [
  {
   "cell_type": "code",
   "execution_count": null,
   "metadata": {
    "id": "jRWos7EAz5ne",
    "scrolled": true
   },
   "outputs": [],
   "source": [
    "# Import dipendeze"
   ]
  },
  {
   "cell_type": "code",
   "execution_count": 2,
   "metadata": {
    "executionInfo": {
     "elapsed": 740,
     "status": "ok",
     "timestamp": 1655304178382,
     "user": {
      "displayName": "Carmine Martinelli",
      "userId": "17979448709595778797"
     },
     "user_tz": -120
    },
    "id": "asX5o8d9AMMy",
    "scrolled": true
   },
   "outputs": [],
   "source": [
    "import pandas as pd\n",
    "import numpy as np\n",
    "import operator\n",
    "import matplotlib.pyplot as plt"
   ]
  },
  {
   "cell_type": "code",
   "execution_count": null,
   "metadata": {},
   "outputs": [],
   "source": [
    "# Caricamento dati"
   ]
  },
  {
   "cell_type": "code",
   "execution_count": 3,
   "metadata": {
    "executionInfo": {
     "elapsed": 44414,
     "status": "ok",
     "timestamp": 1655304225101,
     "user": {
      "displayName": "Carmine Martinelli",
      "userId": "17979448709595778797"
     },
     "user_tz": -120
    },
    "id": "7eM0PG6QUg8c",
    "scrolled": false
   },
   "outputs": [],
   "source": [
    "# Importa i dati dal file excel\n",
    "#Modifica la precisione nella visualizzazione delle cifre\n",
    "pd.options.display.precision = 10\n",
    "\n",
    "#Legge il csv e lo stampa\n",
    "df_DatiSensori = pd.read_excel('Dati_gruppo1.xlsx')"
   ]
  },
  {
   "cell_type": "code",
   "execution_count": null,
   "metadata": {},
   "outputs": [],
   "source": [
    "# Creazione di un dataframe di lavoro"
   ]
  },
  {
   "cell_type": "code",
   "execution_count": 4,
   "metadata": {},
   "outputs": [
    {
     "data": {
      "text/html": [
       "<div>\n",
       "<style scoped>\n",
       "    .dataframe tbody tr th:only-of-type {\n",
       "        vertical-align: middle;\n",
       "    }\n",
       "\n",
       "    .dataframe tbody tr th {\n",
       "        vertical-align: top;\n",
       "    }\n",
       "\n",
       "    .dataframe thead th {\n",
       "        text-align: right;\n",
       "    }\n",
       "</style>\n",
       "<table border=\"1\" class=\"dataframe\">\n",
       "  <thead>\n",
       "    <tr style=\"text-align: right;\">\n",
       "      <th></th>\n",
       "      <th>postazione</th>\n",
       "      <th>Data</th>\n",
       "      <th>TRS_ppb</th>\n",
       "      <th>TRS_stato</th>\n",
       "      <th>VOC_ppm</th>\n",
       "      <th>VOC_stato</th>\n",
       "      <th>C6H6_ug/m3</th>\n",
       "      <th>C6H6_stato</th>\n",
       "      <th>H2S_ug/m3</th>\n",
       "      <th>H2S_stato</th>\n",
       "      <th>H2SJ_ug/m3</th>\n",
       "      <th>H2SJ_stato</th>\n",
       "      <th>PIDVOC_ppb</th>\n",
       "      <th>PIDVOC_stato</th>\n",
       "    </tr>\n",
       "  </thead>\n",
       "  <tbody>\n",
       "    <tr>\n",
       "      <th>0</th>\n",
       "      <td>ATM05_01479</td>\n",
       "      <td>2021-04-12 00:00:00</td>\n",
       "      <td>2.0000000000</td>\n",
       "      <td>K</td>\n",
       "      <td>0.0</td>\n",
       "      <td>K</td>\n",
       "      <td>0.3000000119</td>\n",
       "      <td>K</td>\n",
       "      <td>0.0000000000</td>\n",
       "      <td>K</td>\n",
       "      <td>0.0</td>\n",
       "      <td>K</td>\n",
       "      <td>44.5999984741</td>\n",
       "      <td>K</td>\n",
       "    </tr>\n",
       "    <tr>\n",
       "      <th>1</th>\n",
       "      <td>ATM05_01479</td>\n",
       "      <td>2021-04-12 00:05:00</td>\n",
       "      <td>0.0000000000</td>\n",
       "      <td>K</td>\n",
       "      <td>0.0</td>\n",
       "      <td>K</td>\n",
       "      <td>0.2000000030</td>\n",
       "      <td>K</td>\n",
       "      <td>0.2000000030</td>\n",
       "      <td>K</td>\n",
       "      <td>0.0</td>\n",
       "      <td>K</td>\n",
       "      <td>44.0000000000</td>\n",
       "      <td>K</td>\n",
       "    </tr>\n",
       "    <tr>\n",
       "      <th>2</th>\n",
       "      <td>ATM05_01479</td>\n",
       "      <td>2021-04-12 00:10:00</td>\n",
       "      <td>0.0000000000</td>\n",
       "      <td>K</td>\n",
       "      <td>0.0</td>\n",
       "      <td>K</td>\n",
       "      <td>0.2000000030</td>\n",
       "      <td>K</td>\n",
       "      <td>1.7000000477</td>\n",
       "      <td>K</td>\n",
       "      <td>0.0</td>\n",
       "      <td>K</td>\n",
       "      <td>44.2000007629</td>\n",
       "      <td>K</td>\n",
       "    </tr>\n",
       "    <tr>\n",
       "      <th>3</th>\n",
       "      <td>ATM05_01479</td>\n",
       "      <td>2021-04-12 00:15:00</td>\n",
       "      <td>11.8999996185</td>\n",
       "      <td>K</td>\n",
       "      <td>0.0</td>\n",
       "      <td>K</td>\n",
       "      <td>0.2000000030</td>\n",
       "      <td>K</td>\n",
       "      <td>1.8999999762</td>\n",
       "      <td>K</td>\n",
       "      <td>0.0</td>\n",
       "      <td>K</td>\n",
       "      <td>44.4000015259</td>\n",
       "      <td>K</td>\n",
       "    </tr>\n",
       "    <tr>\n",
       "      <th>4</th>\n",
       "      <td>ATM05_01479</td>\n",
       "      <td>2021-04-12 00:20:00</td>\n",
       "      <td>26.1000003815</td>\n",
       "      <td>K</td>\n",
       "      <td>0.0</td>\n",
       "      <td>K</td>\n",
       "      <td>0.2000000030</td>\n",
       "      <td>K</td>\n",
       "      <td>2.5000000000</td>\n",
       "      <td>K</td>\n",
       "      <td>0.0</td>\n",
       "      <td>K</td>\n",
       "      <td>40.7999992371</td>\n",
       "      <td>K</td>\n",
       "    </tr>\n",
       "    <tr>\n",
       "      <th>...</th>\n",
       "      <td>...</td>\n",
       "      <td>...</td>\n",
       "      <td>...</td>\n",
       "      <td>...</td>\n",
       "      <td>...</td>\n",
       "      <td>...</td>\n",
       "      <td>...</td>\n",
       "      <td>...</td>\n",
       "      <td>...</td>\n",
       "      <td>...</td>\n",
       "      <td>...</td>\n",
       "      <td>...</td>\n",
       "      <td>...</td>\n",
       "      <td>...</td>\n",
       "    </tr>\n",
       "    <tr>\n",
       "      <th>153211</th>\n",
       "      <td>ATM14_01486</td>\n",
       "      <td>NaT</td>\n",
       "      <td>NaN</td>\n",
       "      <td>ND</td>\n",
       "      <td>NaN</td>\n",
       "      <td>ND</td>\n",
       "      <td>NaN</td>\n",
       "      <td>ND</td>\n",
       "      <td>NaN</td>\n",
       "      <td>ND</td>\n",
       "      <td>NaN</td>\n",
       "      <td>ND</td>\n",
       "      <td>NaN</td>\n",
       "      <td>ND</td>\n",
       "    </tr>\n",
       "    <tr>\n",
       "      <th>153212</th>\n",
       "      <td>ATM14_01486</td>\n",
       "      <td>NaT</td>\n",
       "      <td>NaN</td>\n",
       "      <td>ND</td>\n",
       "      <td>NaN</td>\n",
       "      <td>ND</td>\n",
       "      <td>NaN</td>\n",
       "      <td>ND</td>\n",
       "      <td>NaN</td>\n",
       "      <td>ND</td>\n",
       "      <td>NaN</td>\n",
       "      <td>ND</td>\n",
       "      <td>NaN</td>\n",
       "      <td>ND</td>\n",
       "    </tr>\n",
       "    <tr>\n",
       "      <th>153213</th>\n",
       "      <td>ATM14_01486</td>\n",
       "      <td>NaT</td>\n",
       "      <td>NaN</td>\n",
       "      <td>ND</td>\n",
       "      <td>NaN</td>\n",
       "      <td>ND</td>\n",
       "      <td>NaN</td>\n",
       "      <td>ND</td>\n",
       "      <td>NaN</td>\n",
       "      <td>ND</td>\n",
       "      <td>NaN</td>\n",
       "      <td>ND</td>\n",
       "      <td>NaN</td>\n",
       "      <td>ND</td>\n",
       "    </tr>\n",
       "    <tr>\n",
       "      <th>153214</th>\n",
       "      <td>ATM14_01486</td>\n",
       "      <td>NaT</td>\n",
       "      <td>NaN</td>\n",
       "      <td>ND</td>\n",
       "      <td>NaN</td>\n",
       "      <td>ND</td>\n",
       "      <td>NaN</td>\n",
       "      <td>ND</td>\n",
       "      <td>NaN</td>\n",
       "      <td>ND</td>\n",
       "      <td>NaN</td>\n",
       "      <td>ND</td>\n",
       "      <td>NaN</td>\n",
       "      <td>ND</td>\n",
       "    </tr>\n",
       "    <tr>\n",
       "      <th>153215</th>\n",
       "      <td>ATM14_01486</td>\n",
       "      <td>NaT</td>\n",
       "      <td>NaN</td>\n",
       "      <td>ND</td>\n",
       "      <td>NaN</td>\n",
       "      <td>ND</td>\n",
       "      <td>NaN</td>\n",
       "      <td>ND</td>\n",
       "      <td>NaN</td>\n",
       "      <td>ND</td>\n",
       "      <td>NaN</td>\n",
       "      <td>ND</td>\n",
       "      <td>NaN</td>\n",
       "      <td>ND</td>\n",
       "    </tr>\n",
       "  </tbody>\n",
       "</table>\n",
       "<p>153216 rows × 14 columns</p>\n",
       "</div>"
      ],
      "text/plain": [
       "         postazione                Data        TRS_ppb TRS_stato  VOC_ppm  \\\n",
       "0       ATM05_01479 2021-04-12 00:00:00   2.0000000000         K      0.0   \n",
       "1       ATM05_01479 2021-04-12 00:05:00   0.0000000000         K      0.0   \n",
       "2       ATM05_01479 2021-04-12 00:10:00   0.0000000000         K      0.0   \n",
       "3       ATM05_01479 2021-04-12 00:15:00  11.8999996185         K      0.0   \n",
       "4       ATM05_01479 2021-04-12 00:20:00  26.1000003815         K      0.0   \n",
       "...             ...                 ...            ...       ...      ...   \n",
       "153211  ATM14_01486                 NaT            NaN        ND      NaN   \n",
       "153212  ATM14_01486                 NaT            NaN        ND      NaN   \n",
       "153213  ATM14_01486                 NaT            NaN        ND      NaN   \n",
       "153214  ATM14_01486                 NaT            NaN        ND      NaN   \n",
       "153215  ATM14_01486                 NaT            NaN        ND      NaN   \n",
       "\n",
       "       VOC_stato    C6H6_ug/m3 C6H6_stato     H2S_ug/m3 H2S_stato  H2SJ_ug/m3  \\\n",
       "0              K  0.3000000119          K  0.0000000000         K         0.0   \n",
       "1              K  0.2000000030          K  0.2000000030         K         0.0   \n",
       "2              K  0.2000000030          K  1.7000000477         K         0.0   \n",
       "3              K  0.2000000030          K  1.8999999762         K         0.0   \n",
       "4              K  0.2000000030          K  2.5000000000         K         0.0   \n",
       "...          ...           ...        ...           ...       ...         ...   \n",
       "153211        ND           NaN         ND           NaN        ND         NaN   \n",
       "153212        ND           NaN         ND           NaN        ND         NaN   \n",
       "153213        ND           NaN         ND           NaN        ND         NaN   \n",
       "153214        ND           NaN         ND           NaN        ND         NaN   \n",
       "153215        ND           NaN         ND           NaN        ND         NaN   \n",
       "\n",
       "       H2SJ_stato     PIDVOC_ppb PIDVOC_stato  \n",
       "0               K  44.5999984741            K  \n",
       "1               K  44.0000000000            K  \n",
       "2               K  44.2000007629            K  \n",
       "3               K  44.4000015259            K  \n",
       "4               K  40.7999992371            K  \n",
       "...           ...            ...          ...  \n",
       "153211         ND            NaN           ND  \n",
       "153212         ND            NaN           ND  \n",
       "153213         ND            NaN           ND  \n",
       "153214         ND            NaN           ND  \n",
       "153215         ND            NaN           ND  \n",
       "\n",
       "[153216 rows x 14 columns]"
      ]
     },
     "execution_count": 4,
     "metadata": {},
     "output_type": "execute_result"
    }
   ],
   "source": [
    "# Mostra tutte le colonne\n",
    "# pd.set_option('display.max_rows', None)\n",
    "\n",
    "# crea una copia del dataset\n",
    "df_Dati = df_DatiSensori.copy()\n",
    "df_Dati"
   ]
  },
  {
   "cell_type": "code",
   "execution_count": null,
   "metadata": {},
   "outputs": [],
   "source": [
    "# Pulizia dataset"
   ]
  },
  {
   "cell_type": "code",
   "execution_count": 8,
   "metadata": {},
   "outputs": [],
   "source": [
    "#Rinomina le colonne con carattersi speciali e assegna la soglia \n",
    "df_Dati.rename(columns = {'C6H6_ug/m3':'C6H6_ug_m3', 'H2S_ug/m3':'H2S_ug_m3', 'H2SJ_ug/m3':'H2SJ_ug_m3'}, inplace = True)\n",
    "theshold = 24"
   ]
  },
  {
   "cell_type": "code",
   "execution_count": null,
   "metadata": {},
   "outputs": [],
   "source": [
    "#Restituisce la lista con i valori della colonna e assegna il valore NaN ai theshold-valori consescutivi\n",
    "def find_fail(colonna,df,threshold):\n",
    "    dfSensor = df[['Data', colonna]]\n",
    "    indexList = []\n",
    "    lista = []\n",
    "    for indexRows in range(len(dfSensor)):\n",
    "      if(dfSensor.at[indexRows,colonna] == 0):\n",
    "        indexList.append(indexRows)\n",
    "    for idx in range(len(indexList)-1):\n",
    "      if(indexList[idx] == indexList[idx+1]-1):\n",
    "        lista.append( indexList[idx])\n",
    "        lista.append( indexList[idx+1])\n",
    "      else:\n",
    "        lista.clear()\n",
    "    if(len(lista) < threshold):\n",
    "      lista.clear()\n",
    "    for idxDataFrame in range(len(dfSensor)):\n",
    "      if idxDataFrame in lista:\n",
    "        dfSensor.drop([idxDataFrame], axis=0, inplace=True)\n",
    "    return dfSensor"
   ]
  },
  {
   "cell_type": "code",
   "execution_count": null,
   "metadata": {},
   "outputs": [],
   "source": [
    "#funzione find_fail sostituisce NaN, così evitiamo una coversione inutile\n",
    "# def find_fail(column, df, theshold):\n",
    "#   dfSensor = df[[column]]\n",
    "#   sensor_list = dfSensor[column].values.tolist()\n",
    "#   sensor_indexList = find_repeats(sensor_list, 0, theshold)\n",
    "#   dfSensor[column] = pd.DataFrame(sensor_indexList)\n",
    "#   return dfSensor"
   ]
  },
  {
   "cell_type": "code",
   "execution_count": null,
   "metadata": {},
   "outputs": [],
   "source": [
    "dfTRS = df_Dati[['postazione', 'Data']]\n",
    "dfTRS['TRS_ppb'] = find_fail('TRS_ppb', df_Dati, theshold) #TRS_ppb\n",
    "dfVOC = df_Dati[['postazione', 'Data']]\n",
    "dfVOC['VOC_ppm'] = find_fail('VOC_ppm', df_Dati, theshold) #VOC_ppm\n",
    "dfC6H6 = df_Dati[['postazione', 'Data']]\n",
    "dfC6H6['C6H6_ug_m3'] = find_fail('C6H6_ug_m3', df_Dati, theshold) #C6H6_ug/m3\n",
    "dfH2S = df_Dati[['postazione', 'Data']]\n",
    "dfH2S['H2S_ug_m3'] = find_fail('H2S_ug_m3', df_Dati, theshold) #H2S_ug/m3\n",
    "dfH2SJ = df_Dati[['postazione', 'Data']]\n",
    "dfH2SJ['H2SJ_ug_m3'] = find_fail('H2SJ_ug_m3', df_Dati, theshold) #H2SJ_ug/m3\n",
    "dfPIDVOC = df_Dati[['postazione', 'Data']]\n",
    "dfPIDVOC['PIDVOC_ppb'] = find_fail('PIDVOC_ppb', df_Dati, theshold) #PIDVOC_ppb"
   ]
  },
  {
   "cell_type": "code",
   "execution_count": null,
   "metadata": {},
   "outputs": [],
   "source": [
    "dfTRS = df_Dati['Data']\n",
    "dfTRS['TRS_ppb'] = find_fail('TRS_ppb', df_Dati, theshold) \n",
    "dfTRS"
   ]
  },
  {
   "cell_type": "code",
   "execution_count": 9,
   "metadata": {},
   "outputs": [],
   "source": [
    "# elimina i valori NaN e i valori ND\n",
    "df_DatiPuliti = df_Dati[~df_Dati.TRS_stato.str.match('ND')]\n",
    "df_DatiPuliti = df_Dati.dropna().reset_index(drop=True)\n",
    "# df_Dati\n",
    "# scrive il dataset su disco\n",
    "# df_DatiPuliti.to_excel('datiPuliti.xlsx')"
   ]
  },
  {
   "cell_type": "code",
   "execution_count": null,
   "metadata": {},
   "outputs": [],
   "source": [
    "# crea una lista con tutti gli indici degli 0 presenti nella colonna TRS_ppb del dataset\n",
    "# zero_indices_list = df_DatiPuliti.index[df_DatiPuliti[\"TRS_ppb\"] == 0].tolist()\n",
    "# zero_indices_list\n",
    "\n",
    "col_List = df_Dati.TRS_ppb.values.tolist()\n",
    "indexList = find_repeats(col_List, 0, 24)\n",
    "df_Dati['TRS_ppb'] = pd.DataFrame(indexList)\n",
    "\n",
    "for indexDataFrame in range(len(df_Dati)):\n",
    "  if(df_Dati.at[indexDataFrame, 'TRS_ppb'] == True):\n",
    "    df_Dati.drop(indexDataFrame, inplace=True)\n"
   ]
  },
  {
   "cell_type": "code",
   "execution_count": null,
   "metadata": {},
   "outputs": [],
   "source": [
    "df_DatiPuliti"
   ]
  },
  {
   "cell_type": "code",
   "execution_count": null,
   "metadata": {},
   "outputs": [],
   "source": [
    "# # QUERY"
   ]
  },
  {
   "cell_type": "code",
   "execution_count": null,
   "metadata": {},
   "outputs": [],
   "source": [
    "# Query 1"
   ]
  },
  {
   "cell_type": "code",
   "execution_count": null,
   "metadata": {
    "colab": {
     "base_uri": "https://localhost:8080/",
     "height": 424
    },
    "executionInfo": {
     "elapsed": 258,
     "status": "ok",
     "timestamp": 1655304229556,
     "user": {
      "displayName": "Carmine Martinelli",
      "userId": "17979448709595778797"
     },
     "user_tz": -120
    },
    "id": "Jp4Vpjsgz5nl",
    "outputId": "92fbd876-807c-4d8e-d24a-e0d0a2ddcc8e"
   },
   "outputs": [],
   "source": [
    "# query effettuata con un unico comando\n",
    "# df_Benzene = df_DatiSensori.sort_values(by='C6H6_ug/m3', ascending =False)[['postazione', 'Data', 'C6H6_ug/m3']].head(100)\n",
    "\n",
    "# creazione di un dataFrame ordinato in modo discendente per i valori di benzene\n",
    "df_C6H6 = df_DatiPuliti.sort_values(by='C6H6_ug_m3', ascending =False).drop_duplicates(subset=['Data'])\n",
    "# creazione di un dataFrame contenente i 100 maggiori valori di benzene\n",
    "query_C6H6 = df_C6H6[['postazione', 'Data', 'C6H6_ug_m3']]\n",
    "query_C6H6.head(100)"
   ]
  },
  {
   "cell_type": "code",
   "execution_count": null,
   "metadata": {},
   "outputs": [],
   "source": [
    "# Query 2"
   ]
  },
  {
   "cell_type": "code",
   "execution_count": null,
   "metadata": {
    "id": "J5TlwbyEz5nm"
   },
   "outputs": [],
   "source": [
    "# sensore H2S\n",
    "\n",
    "# query effettuata con un unico comando\n",
    "# df_H2S = df_DatiSensori.sort_values(by='H2S_ug/m3', ascending =False)[['postazione', 'Data', 'H2S_ug/m3']].head(100)\n",
    "# creazione di un dataFrame ordinato in modo discendente per i valori di acido solfidrico del sensore H2S\n",
    "df_H2S = df_DatiPuliti.sort_values(by='H2S_ug_m3', ascending =False).drop_duplicates(subset=['Data'])\n",
    "# creazione di un dataFrame contenente i 100 maggiori valori di acido solfidrico del sensore H2SJ\n",
    "query_H2S = df_H2S[['postazione', 'Data', 'H2S_ug_m3']].head(100)\n",
    "query_H2S"
   ]
  },
  {
   "cell_type": "code",
   "execution_count": null,
   "metadata": {
    "id": "42y6B_Svz5nm",
    "scrolled": false
   },
   "outputs": [],
   "source": [
    "# sensore H2SJ\n",
    "\n",
    "# query effettuata con un unico comando\n",
    "# df_H2SJ = df_DatiSensori.sort_values(by='H2SJ_ug/m3', ascending =False)[['postazione', 'Data', 'H2SJ_ug/m3']].head(100)\n",
    "# creazione di un dataFrame ordinato in modo discendente per i valori di acido solfidrico del sensore H2SJ\n",
    "df_H2SJ = df_DatiPuliti.sort_values(by='H2SJ_ug_m3', ascending =False).drop_duplicates(subset=['Data'])\n",
    "# creazione di un dataFrame contenente i 100 maggiori valori di acido solfidrico del sensore H2SJ\n",
    "query_H2SJ = df_H2SJ[['postazione', 'Data', 'H2SJ_ug_m3']].head(100)\n",
    "query_H2SJ"
   ]
  },
  {
   "cell_type": "code",
   "execution_count": null,
   "metadata": {},
   "outputs": [],
   "source": [
    "# Query 3"
   ]
  },
  {
   "cell_type": "code",
   "execution_count": null,
   "metadata": {
    "id": "RAzMuBQWz5nn",
    "scrolled": false
   },
   "outputs": [],
   "source": [
    "# sensore VOC\n",
    "\n",
    "# query effettuata con un unico comando\n",
    "# df_VOC = df_DatiSensori.sort_values(by='VOC_ppm', ascending =True)[['postazione', 'Data', 'VOC_ppm']].head(100)\n",
    "# creazione di un dataFrame ordinato in modo discendente per i valori del sensore VOC\n",
    "df_VOC = df_DatiPuliti.sort_values(by='VOC_ppm', ascending =True).drop_duplicates(subset=['Data'])\n",
    "# creazione di un dataFrame contenente i 100 più bassi valori del sensore VOC\n",
    "query_VOC = df_VOC[['postazione', 'Data', 'VOC_ppm']].head(100)\n",
    "query_VOC"
   ]
  },
  {
   "cell_type": "code",
   "execution_count": null,
   "metadata": {
    "id": "TQcNGJiyz5no",
    "scrolled": false
   },
   "outputs": [],
   "source": [
    "# sensore PIDVOC\n",
    "\n",
    "# query effettuata con un unico comando\n",
    "# df_PIDVOC = df_DatiSensori.sort_values(by='PIDVOC_ppb', ascending =True)[['postazione', 'Data', 'PIDVOC_ppb']].head(100)\n",
    "# creazione di un dataFrame ordinato in modo discendente per i valori del sensore PIDVOC\n",
    "df_PIDVOC = df_DatiPuliti.sort_values(by='PIDVOC_ppb', ascending =True).drop_duplicates(subset=['Data'])\n",
    "# creazione di un dataFrame contenente i 100 più bassi valori del sensore PIDVOC\n",
    "query_PIDVOC = df_PIDVOC[['postazione', 'Data', 'PIDVOC_ppb']].head(100)\n",
    "query_PIDVOC"
   ]
  },
  {
   "cell_type": "code",
   "execution_count": null,
   "metadata": {
    "id": "H90_aPnbz5np"
   },
   "outputs": [],
   "source": [
    "# Query 4"
   ]
  },
  {
   "cell_type": "code",
   "execution_count": null,
   "metadata": {},
   "outputs": [],
   "source": [
    "# funzione che permette di eliminare i valori nulli, calcola la media oraria e restituisce un dataframe ordinato sull'ora\n",
    "def media_oraria(df, compound ):\n",
    "  df1 = df[['postazione', 'Data', compound]].copy()\n",
    "  df1['Data'] = pd.to_datetime(df1['Data'])\n",
    "  df1 = df1[df1[compound].notna()]\n",
    "  indexName = df1[(df1[compound]==0)].index\n",
    "  df1.drop(indexName, inplace = True)\n",
    "  return df1, df1[['Data', compound]].resample(\"H\", label = 'right', on = 'Data').mean()"
   ]
  },
  {
   "cell_type": "code",
   "execution_count": null,
   "metadata": {
    "executionInfo": {
     "elapsed": 251,
     "status": "ok",
     "timestamp": 1655304751704,
     "user": {
      "displayName": "Carmine Martinelli",
      "userId": "17979448709595778797"
     },
     "user_tz": -120
    },
    "id": "6y6LFUlgz5nq"
   },
   "outputs": [],
   "source": [
    "# Creazione dataframe ordinato sulla media oraria\n",
    "df_C6H6, df_C6H6avg = media_oraria(df_DatiPuliti, 'C6H6_ug_m3')\n",
    "df_C6H6avg"
   ]
  },
  {
   "cell_type": "code",
   "execution_count": null,
   "metadata": {
    "id": "wJ4C4Rr7z5nr"
   },
   "outputs": [],
   "source": [
    "# Stampa le 50 ore con i livelli di benzene più alti\n",
    "df_C6H6Max = df_C6H6avg.sort_values('C6H6_ug_m3', ascending = False).head(50)\n",
    "df_C6H6Max"
   ]
  },
  {
   "cell_type": "code",
   "execution_count": null,
   "metadata": {
    "id": "29GB_Un3z5nr"
   },
   "outputs": [],
   "source": [
    "# Stampa le 50 ore con i livelli di benzene più bassi\n",
    "df_C6H6Min = df_C6H6avg.sort_values('C6H6_ug_m3', ascending = True).head(50)\n",
    "df_C6H6Min"
   ]
  },
  {
   "cell_type": "code",
   "execution_count": null,
   "metadata": {
    "id": "_K-JKaLUz5nt"
   },
   "outputs": [],
   "source": [
    "# Query 5"
   ]
  },
  {
   "cell_type": "code",
   "execution_count": null,
   "metadata": {
    "id": "_ijWhBlMz5nt"
   },
   "outputs": [],
   "source": [
    "#Elimina i valori nulli e calcola la media oraria sul dataframe creato per il sensore H2S\n",
    "df_H2S, df_H2Savg = media_oraria(df_DatiPuliti, 'H2S_ug_m3')\n",
    "# df_H2Savg"
   ]
  },
  {
   "cell_type": "code",
   "execution_count": null,
   "metadata": {
    "id": "2P9kMGkGz5nu",
    "outputId": "d6a186ca-fa6c-4a82-9331-de146d23b0e2"
   },
   "outputs": [],
   "source": [
    "# Stampa le 50 ore con i livelli di acido solfidrico del sensore H2S più alti\n",
    "df_H2SMax= df_H2Savg.sort_values('H2S_ug_m3', ascending = False).head(50)\n",
    "df_H2SMax"
   ]
  },
  {
   "cell_type": "code",
   "execution_count": null,
   "metadata": {
    "id": "vif-8rM_z5nu",
    "outputId": "76f5ed23-910c-4f7b-f3cd-a6153aa37480"
   },
   "outputs": [],
   "source": [
    "# Stampa le 50 ore con i livelli di acido solfidrico del sensore H2S più basso\n",
    "df_H2SMin= df_H2Savg.sort_values('H2S_ug_m3', ascending = True).head(50)\n",
    "df_H2SMin"
   ]
  },
  {
   "cell_type": "code",
   "execution_count": null,
   "metadata": {},
   "outputs": [],
   "source": [
    "#Elimina i valori nulli e calcola la media oraria sul dataframe creato per il sensore H2SJ\n",
    "df_H2SJ, df_H2SJavg = media_oraria(df_DatiPuliti, 'H2SJ_ug_m3')\n",
    "# df_H2SJavg"
   ]
  },
  {
   "cell_type": "code",
   "execution_count": null,
   "metadata": {
    "id": "sAQXorXOz5nv",
    "outputId": "730016d1-5367-4305-e72b-003e23572482"
   },
   "outputs": [],
   "source": [
    "# Stampa le 50 ore con i livelli di acido solfidrico del sensore H2SJ più alti\n",
    "df_H2SJMax= df_H2SJavg.sort_values('H2SJ_ug_m3', ascending = False).head(50)\n",
    "df_H2SJMax"
   ]
  },
  {
   "cell_type": "code",
   "execution_count": null,
   "metadata": {
    "id": "YFfCxcBSz5nw",
    "outputId": "2e3d8e86-eaea-4db4-a871-02df83507686"
   },
   "outputs": [],
   "source": [
    "# Stampa le 50 ore con i livelli di acido solfidrico del sensore H2SJ più bassi\n",
    "df_H2SJMin= df_H2SJavg.sort_values('H2SJ_ug_m3', ascending = True).head(50)\n",
    "df_H2SJMin"
   ]
  },
  {
   "cell_type": "code",
   "execution_count": null,
   "metadata": {
    "id": "juoqhY7-z5nw"
   },
   "outputs": [],
   "source": [
    "# Query 6"
   ]
  },
  {
   "cell_type": "code",
   "execution_count": null,
   "metadata": {
    "executionInfo": {
     "elapsed": 255,
     "status": "ok",
     "timestamp": 1655304361634,
     "user": {
      "displayName": "Carmine Martinelli",
      "userId": "17979448709595778797"
     },
     "user_tz": -120
    },
    "id": "jWf6C1cSz5nw"
   },
   "outputs": [],
   "source": [
    "#Elimina i valori nulli e calcola la media oraria sul dataframe creato per il sensore VOC\n",
    "df_VOC, df_VOCavg = media_oraria(df_DatiPuliti, 'VOC_ppm')\n",
    "df_VOCavg"
   ]
  },
  {
   "cell_type": "code",
   "execution_count": null,
   "metadata": {
    "id": "q8ucBSp1z5nx"
   },
   "outputs": [],
   "source": [
    "# Stampa le 50 ore con i livelli di VOC del sensore VOC più alti\n",
    "df_VOCMax= df_VOCavg.sort_values('VOC_ppm', ascending = False).head(50)\n",
    "df_VOCMax"
   ]
  },
  {
   "cell_type": "code",
   "execution_count": null,
   "metadata": {
    "id": "BSlxPad6z5ny",
    "outputId": "9dcd347b-55dc-4c9b-966c-44f9ee0bca99"
   },
   "outputs": [],
   "source": [
    "# Stampa le 50 ore con i livelli di VOC del sensore VOC più bassi\n",
    "df_VOCMin= df_VOCavg.sort_values('VOC_ppm', ascending = True).head(50)\n",
    "df_VOCMin"
   ]
  },
  {
   "cell_type": "code",
   "execution_count": null,
   "metadata": {},
   "outputs": [],
   "source": [
    "#Elimina i valori nulli e calcola la media oraria sul dataframe creato per il sensore PIDVOC\n",
    "df_PIDVOC, df_PIDVOCavg = media_oraria(df_DatiPuliti, 'PIDVOC_ppb')\n",
    "df_PIDVOCavg"
   ]
  },
  {
   "cell_type": "code",
   "execution_count": null,
   "metadata": {
    "id": "ap47eeIJz5ny",
    "outputId": "8e6c2df2-f6a8-45d1-8c11-936bebcad5df"
   },
   "outputs": [],
   "source": [
    "# Stampa le 50 ore con i livelli di VOC del sensore PIDVOC più alti\n",
    "df_PIDVOCMax= df_PIDVOCavg.sort_values('PIDVOC_ppb', ascending = False).head(50)\n",
    "df_PIDVOCMax"
   ]
  },
  {
   "cell_type": "code",
   "execution_count": null,
   "metadata": {
    "id": "zmmjSGmoz5ny"
   },
   "outputs": [],
   "source": [
    "# Stampa le 50 ore con i livelli di VOC del sensore PIDVOC più bassi\n",
    "df_PIDVOCMin= df_PIDVOCavg.sort_values('PIDVOC_ppb', ascending = True).head(50)\n",
    "df_PIDVOCMin"
   ]
  },
  {
   "cell_type": "code",
   "execution_count": null,
   "metadata": {},
   "outputs": [],
   "source": [
    "# Creazione di un dataset per la media oraria"
   ]
  },
  {
   "cell_type": "code",
   "execution_count": null,
   "metadata": {},
   "outputs": [],
   "source": [
    "df_MediaOraria = df_C6H6.copy()\n",
    "df_MediaOraria['H2S_ug_m3'] = df_H2S['H2S_ug_m3']\n",
    "df_MediaOraria['H2SJ_ug_m3'] = df_H2SJ['H2SJ_ug_m3']\n",
    "df_MediaOraria['VOC_ppm'] = df_VOC['VOC_ppm']\n",
    "df_MediaOraria['PIDVOC_ppb'] = df_PIDVOC['PIDVOC_ppb']\n",
    "df_MediaOraria.to_excel('media_oraria.xlsx')"
   ]
  },
  {
   "cell_type": "code",
   "execution_count": null,
   "metadata": {
    "id": "bQbwEz_xz5nz"
   },
   "outputs": [],
   "source": [
    "# Query 7 da rifare"
   ]
  },
  {
   "cell_type": "code",
   "execution_count": null,
   "metadata": {},
   "outputs": [],
   "source": [
    "# Giornate con fallimenti ND\n",
    "df_Fail_ND = df_DatiPuliti[['Data','TRS_ppb','VOC_ppm','C6H6_ug_m3','H2S_ug_m3','H2SJ_ug_m3','PIDVOC_ppb']].copy()\n",
    "df_Fail_ND['Giorno'] = pd.to_datetime(df_Fail_ND['Data'].dt.strftime('%d/%m/%Y'))\n",
    "df_Fail_ND = df_Fail_ND[(df_Fail_ND['TRS_ppb'].isna()) | (df_Fail_ND['VOC_ppm'].isna()) | (df_Fail_ND['C6H6_ug_m3'].isna()) | (df_Fail_ND['H2S_ug_m3'].isna()) | (df_Fail_ND['H2SJ_ug_m3'].isna()) | (df_Fail_ND['PIDVOC_ppb'].isna())]\n",
    "df_Fail_ND = df_Fail_ND.groupby('Giorno').count()\n",
    "df_Fail_ND"
   ]
  },
  {
   "cell_type": "code",
   "execution_count": null,
   "metadata": {},
   "outputs": [],
   "source": [
    "# Errato\n",
    "# Serve trovare anche le righe con 24 (144)(Praticamente per 12h della stessa giornata non ha registrato) 0 che sono comunque ND.\n",
    "df_Fail_0 = df_DatiPuliti[['Data','TRS_ppb','VOC_ppm','C6H6_ug/m3','H2S_ug/m3','H2SJ_ug/m3','PIDVOC_ppb']].copy()\n",
    "df_Fail_0['Giorno'] = pd.to_datetime(df_Fail_0['Data'].dt.strftime('%d/%m/%Y'))\n",
    "df_Fail_0['TRS_ppb'].astype(float)\n",
    "df_Fail_0['VOC_ppm'].astype(float)\n",
    "df_Fail_0['C6H6_ug/m3'].astype(float)\n",
    "df_Fail_0['H2S_ug/m3'].astype(float)\n",
    "df_Fail_0['H2SJ_ug/m3'].astype(float)\n",
    "df_Fail_0['PIDVOC_ppb'].astype(float)\n",
    "df_Fail_0 = df_Fail_0[(df_Fail_0['TRS_ppb'] == 0) | (df_Fail_0['VOC_ppm'] == 0) | (df_Fail_0['C6H6_ug/m3']== 0) | (df_Fail_0['H2S_ug/m3']== 0) | (df_Fail_0['H2SJ_ug/m3']== 0) | (df_Fail_0['PIDVOC_ppb']== 0)]\n",
    "df_Fail_0 = df_Fail_0.groupby('Giorno').count()\n",
    "# df_Fail_0 = df_Fail_0[(df_Fail_0.Data >= 144)]\n",
    "df_Fail_0 = df_Fail_0[(df_Fail_0.Data >= 24)]\n",
    "df_Fail_0"
   ]
  },
  {
   "cell_type": "code",
   "execution_count": null,
   "metadata": {},
   "outputs": [],
   "source": [
    "#Unisco i dati per i fallimenti(Banale union)\n",
    "df_fail = pd.concat([df_Fail_ND, df_Fail_0])"
   ]
  },
  {
   "cell_type": "code",
   "execution_count": null,
   "metadata": {},
   "outputs": [],
   "source": [
    "#3 giorni con il maggior numero di fallimenti\n",
    "df_fail.sort_values(['Data'], ascending=False).head(3)"
   ]
  },
  {
   "cell_type": "code",
   "execution_count": null,
   "metadata": {},
   "outputs": [],
   "source": [
    "#3 giorni con il minor numero di fallimenti\n",
    "df_fail.sort_values(['Data'], ascending=True).head(3)"
   ]
  },
  {
   "cell_type": "code",
   "execution_count": null,
   "metadata": {},
   "outputs": [],
   "source": [
    "# Query 8 da rifare"
   ]
  },
  {
   "cell_type": "code",
   "execution_count": null,
   "metadata": {
    "colab": {
     "base_uri": "https://localhost:8080/",
     "height": 206
    },
    "executionInfo": {
     "elapsed": 1317,
     "status": "ok",
     "timestamp": 1655309855770,
     "user": {
      "displayName": "Carmine Martinelli",
      "userId": "17979448709595778797"
     },
     "user_tz": -120
    },
    "id": "Z9ibKzKhJlNM",
    "outputId": "976f3915-25ad-433d-ac68-ffedd2aea0f3"
   },
   "outputs": [],
   "source": [
    "# 3 giornate con il minor numero di fallimenti (manca il calcolo dei 24 zeri consecutivi)\n",
    "df_Fail = df_DatiPuliti[['Data','C6H6_ug_m3']].copy()\n",
    "df_Fail['Data'] = pd.to_datetime(df_Fail['Data'].dt.strftime('%d/%m/%Y'))\n",
    "df_Fail['Giorno'] = df_Fail['Data']\n",
    "df_Fail = df_Fail[df_Fail['C6H6_ug_m3'].isna()]\n",
    "df_Fail = df_Fail[(df_Fail['C6H6_ug_m3']!='0')]\n",
    "df_Fail = df_Fail.groupby('Giorno').count().sort_values('Data', ascending = True)\n",
    "df_Fail.head(3)"
   ]
  },
  {
   "cell_type": "code",
   "execution_count": null,
   "metadata": {},
   "outputs": [],
   "source": [
    "# Query 9, 10 e 11"
   ]
  },
  {
   "cell_type": "code",
   "execution_count": null,
   "metadata": {},
   "outputs": [],
   "source": [
    "# crea due liste con tutti gli inquinanti e i relativi stati\n",
    "inquinanti = ['TRS_ppb','VOC_ppm','C6H6_ug_m3','H2S_ug_m3','H2SJ_ug_m3','PIDVOC_ppb']\n",
    "stato_Inquinanti = ['TRS_stato','VOC_stato','C6H6_stato', 'H2S_stato','H2SJ_stato', 'PIDVOC_stato']"
   ]
  },
  {
   "cell_type": "code",
   "execution_count": null,
   "metadata": {},
   "outputs": [],
   "source": [
    "# crea un dataframe che contiene la somma dei fallimenti \n",
    "# oltre alle righe con 'ND' che indicano il fallimento nel trasmettere i dati, consideriamo fallimento\n",
    "# anche la presenza consecutiva massiccia di valori 0\n",
    "fails = []\n",
    "df_NFails = pd.DataFrame({'Fallimenti':np.arange(6)})\n",
    "df_NFails = pd.DataFrame({'Sensori':np.arange(6)})\n",
    "for column in range(len(inquinanti)):\n",
    "    df_Fail = df_DatiPuliti[[inquinanti[column], stato_Inquinanti[column]]].copy()\n",
    "    errors = df_Fail[inquinanti[column]].ne(df_Fail[inquinanti[column]].shift()).cumsum()[df_Fail[inquinanti[column]].eq(0.0)].value_counts().ge(24).sum()\n",
    "    num_ND= df_Fail[stato_Inquinanti[column]].value_counts()[\"ND\"]\n",
    "    fails.append(num_ND + errors)\n",
    "\n",
    "df_NFails['Sensori'] = inquinanti\n",
    "df_NFails['Fallimenti'] = fails\n",
    "df_NFails\n"
   ]
  },
  {
   "cell_type": "code",
   "execution_count": null,
   "metadata": {},
   "outputs": [],
   "source": [
    "# Query 9"
   ]
  },
  {
   "cell_type": "code",
   "execution_count": null,
   "metadata": {},
   "outputs": [],
   "source": [
    "df_NFails['Dati TOT'] = len(df_DatiSensori)\n",
    "df_NFails['Media'] = df_NFails['Fallimenti'].div(len(df_DatiSensori))\n",
    "df_NFails"
   ]
  },
  {
   "cell_type": "code",
   "execution_count": null,
   "metadata": {},
   "outputs": [],
   "source": [
    "# Query 10"
   ]
  },
  {
   "cell_type": "code",
   "execution_count": null,
   "metadata": {},
   "outputs": [],
   "source": [
    "# Prende il massimo dal dataframe\n",
    "df_NFails['Fallimenti'].max()"
   ]
  },
  {
   "cell_type": "code",
   "execution_count": null,
   "metadata": {},
   "outputs": [],
   "source": [
    "# Query 11"
   ]
  },
  {
   "cell_type": "code",
   "execution_count": null,
   "metadata": {},
   "outputs": [],
   "source": [
    "# Prende il minimo dal dataframe\n",
    "df_NFails['Fallimenti'].min()"
   ]
  },
  {
   "cell_type": "code",
   "execution_count": null,
   "metadata": {},
   "outputs": [],
   "source": [
    "# # CORRELAZIONI"
   ]
  },
  {
   "cell_type": "code",
   "execution_count": 59,
   "metadata": {},
   "outputs": [],
   "source": [
    "# Funzione correlazione\n",
    "def corr_Sensori(df, compound1, compound2, postazione = None):\n",
    "    if postazione != None:\n",
    "        df1 = df[df['postazione'] == postazione]\n",
    "    else:\n",
    "        df1 = df.copy()\n",
    "    df1.plot.scatter(x= compound1, y=compound2)\n",
    "    a,b = np.polyfit(df1[compound1].to_list(), df1[compound2].to_list(), 1) #Inferiamo y =ax + b\n",
    "    x1 = min(df1[compound1].to_list())\n",
    "    x2 = max(df1[compound1].to_list())\n",
    "    plt.plot([x1,x2], [a*x1 +b, a*x2 +b], color = 'red')\n",
    "    plt.show()\n",
    "    cc = np.corrcoef(df1[compound1], df1[compound2])[1,0]\n",
    "    cs = df1[[compound1, compound2]].corr(method = 'spearman')\n",
    "    return cc, cs.iloc[1,0]"
   ]
  },
  {
   "cell_type": "code",
   "execution_count": null,
   "metadata": {},
   "outputs": [],
   "source": [
    "# CORRELAZIONE 1 TRA I SENSORI H2S E H2SJ NELLE VARIE POSTAZIONI"
   ]
  },
  {
   "cell_type": "code",
   "execution_count": null,
   "metadata": {},
   "outputs": [],
   "source": [
    "# Crea un dataframe contenente entrambi i sensori, rinomina le colonne ed elimina i valori nulli\n",
    "df_AcidoSolf = df_DatiPuliti[['postazione', 'Data', 'H2S_ug_m3', 'H2SJ_ug_m3']]\n",
    "df_AcidoSolf = df_AcidoSolf.dropna()\n",
    "df_AcidoSolf"
   ]
  },
  {
   "cell_type": "code",
   "execution_count": null,
   "metadata": {},
   "outputs": [],
   "source": [
    "# correlazione per la stazione ATM05_01479\n",
    "pearsonPost1, spearmanPost1= corr_Sensori(df_AcidoSolf, 'H2S_ug_m3', 'H2SJ_ug_m3','ATM05_01479')\n",
    "print('Coefficiente di correlazione tra H2S e H2SJ con pearson per la postazione ATM05_01479 è ', pearsonPost1)\n",
    "print('Coefficiente di correlazione tra H2S e H2SJ con spearman per la postazione ATM05_01479 è ', spearmanPost1)"
   ]
  },
  {
   "cell_type": "code",
   "execution_count": null,
   "metadata": {},
   "outputs": [],
   "source": [
    "# correlazione per la stazione ATM07_01480\n",
    "pearsonPost2, spearmanPost2 = corr_Sensori(df_AcidoSolf, 'H2S_ug_m3', 'H2SJ_ug_m3', 'ATM07_01480')\n",
    "print('Coefficiente di correlazione tra H2S e H2SJ con pearson per la postazione ATM07_01480 è ', pearsonPost2)\n",
    "print('Coefficiente di correlazione tra H2S e H2SJ con spearman per la postazione ATM07_01480 è ', spearmanPost2)"
   ]
  },
  {
   "cell_type": "code",
   "execution_count": null,
   "metadata": {},
   "outputs": [],
   "source": [
    "# correlazione per la stazione ATM10_01481\n",
    "pearsonPost3, spearmanPost3 = corr_Sensori(df_AcidoSolf, 'H2S_ug_m3', 'H2SJ_ug_m3', 'ATM10_01481' )\n",
    "print('Coefficiente di correlazione tra H2S e H2SJ con pearson per la postazione ATM10_01481 è ', pearsonPost3)\n",
    "print('Coefficiente di correlazione tra H2S e H2SJ con spearman per la postazione ATM10_01481 è ', spearmanPost3)"
   ]
  },
  {
   "cell_type": "code",
   "execution_count": null,
   "metadata": {},
   "outputs": [],
   "source": [
    "# correlazione per la stazione ATM14_01486\n",
    "pearsonPost4, spearmanPost4= corr_Sensori(df_AcidoSolf, 'H2S_ug_m3', 'H2SJ_ug_m3', 'ATM14_01486' )\n",
    "print('Coefficiente di correlazione tra H2S e H2SJ con pearson per la postazione ATM14_01486 è ', pearsonPost4)\n",
    "print('Coefficiente di correlazione tra H2S e H2SJ con spearman per la postazione ATM14_01486 è ', spearmanPost4)"
   ]
  },
  {
   "cell_type": "code",
   "execution_count": null,
   "metadata": {},
   "outputs": [],
   "source": [
    "# CORRELAZIONE 2 TRA I SENSORI VOC E PIDVOC NELLE VARIE POSTAZIONI"
   ]
  },
  {
   "cell_type": "code",
   "execution_count": null,
   "metadata": {},
   "outputs": [],
   "source": [
    "# Crea un dataframe contenente entrambi i sensori, rinomina le colonne ed elimina i valori nulli\n",
    "df_SensoriVOC = df_DatiPuliti[['postazione', 'Data', 'VOC_ppm', 'PIDVOC_ppb']]\n",
    "df_SensoriVOC = df_SensoriVOC.dropna()\n",
    "df_SensoriVOC"
   ]
  },
  {
   "cell_type": "code",
   "execution_count": null,
   "metadata": {},
   "outputs": [],
   "source": [
    "# correlazione per la stazione ATM05_01479\n",
    "pearsonPost1, spearmanPost1= corr_Sensori(df_SensoriVOC, 'VOC_ppm', 'PIDVOC_ppb', 'ATM05_01479' )\n",
    "print('Coefficiente di correlazione tra VOC e PIDVOC con pearson per la postazione ATM05_01479 è ', pearsonPost1)\n",
    "print('Coefficiente di correlazione tra VOC e PIDVOC con spearman per la postazione ATM05_01479 è ', spearmanPost1)"
   ]
  },
  {
   "cell_type": "code",
   "execution_count": null,
   "metadata": {},
   "outputs": [],
   "source": [
    "# correlazione per la stazione ATM07_01480\n",
    "pearsonPost2, spearmanPost2 = corr_Sensori(df_SensoriVOC, 'VOC_ppm', 'PIDVOC_ppb', 'ATM07_01480' )\n",
    "print('Coefficiente di correlazione tra VOC e PIDVOC con pearson per la postazione ATM07_01480 è ', pearsonPost2)\n",
    "print('Coefficiente di correlazione tra VOC e PIDVOC con spearman per la postazione ATM07_01480 è ', spearmanPost2)"
   ]
  },
  {
   "cell_type": "code",
   "execution_count": null,
   "metadata": {},
   "outputs": [],
   "source": [
    "# correlazione per la stazione ATM10_01481\n",
    "pearsonPost3, spearmanPost3 = corr_Sensori(df_SensoriVOC, 'VOC_ppm', 'PIDVOC_ppb' , 'ATM10_01481')\n",
    "print('Coefficiente di correlazione tra VOC e PIDVOC con pearson per la postazione ATM10_01481 è ', pearsonPost3)\n",
    "print('Coefficiente di correlazione tra VOC e PIDVOC con spearman per la postazione ATM10_01481 è ', spearmanPost3)"
   ]
  },
  {
   "cell_type": "code",
   "execution_count": null,
   "metadata": {},
   "outputs": [],
   "source": [
    "# correlazione per la stazione ATM14_01486\n",
    "pearsonPost4, spearmanPost4= corr_Sensori(df_SensoriVOC, 'VOC_ppm', 'PIDVOC_ppb', 'ATM14_01486' )\n",
    "print('Coefficiente di correlazione tra VOC e PIDVOC con pearson per la postazione ATM14_01486 è ', pearsonPost4)\n",
    "print('Coefficiente di correlazione tra VOC e PIDVOC con spearman per la postazione ATM14_01486 è ', spearmanPost4)"
   ]
  },
  {
   "cell_type": "code",
   "execution_count": null,
   "metadata": {},
   "outputs": [],
   "source": [
    "# CORRELAZIONE 3 TRA I SENSORI TRS E H2S NELLE VARIE POSTAZIONI"
   ]
  },
  {
   "cell_type": "code",
   "execution_count": null,
   "metadata": {},
   "outputs": [],
   "source": [
    "df_SenTRS_H2S = df_DatiPuliti[['postazione', 'Data', 'TRS_ppb', 'H2S_ug_m3']]\n",
    "df_SenTRS_H2S = df_SenTRS_H2S.dropna()\n",
    "df_SenTRS_H2S"
   ]
  },
  {
   "cell_type": "code",
   "execution_count": null,
   "metadata": {},
   "outputs": [],
   "source": [
    "# correlazione per la stazione ATM05_01479\n",
    "pearsonPost, spearmanPost = corr_Sensori(df_SenTRS_H2S, 'TRS_ppb', 'H2S_ug_m3', 'ATM05_01479' )\n",
    "print('Coefficiente di correlazione tra TRS e H2S con pearson per la postazione ATM05_01479 è ', pearsonPost)\n",
    "print('Coefficiente di correlazione tra TRS e H2S con spearman per la postazione ATM05_01479 è ', spearmanPost4)"
   ]
  },
  {
   "cell_type": "code",
   "execution_count": null,
   "metadata": {},
   "outputs": [],
   "source": [
    "# correlazione per la stazione ATM07_01480\n",
    "pearsonPost4, spearmanPost4= corr_Sensori(df_SenTRS_H2S, 'TRS_ppb', 'H2S_ug_m3', 'ATM07_01480' )\n",
    "print('Coefficiente di correlazione tra TRS e H2S con pearson per la postazione ATM07_01480 è ', pearsonPost4)\n",
    "print('Coefficiente di correlazione tra TRS e H2S con spearman per la postazione ATM07_01480 è ', spearmanPost4)"
   ]
  },
  {
   "cell_type": "code",
   "execution_count": null,
   "metadata": {},
   "outputs": [],
   "source": [
    "# correlazione per la stazione ATM10_01481\n",
    "pearsonPost4, spearmanPost4= corr_Sensori(df_SenTRS_H2S, 'TRS_ppb', 'H2S_ug_m3', 'ATM10_01481' )\n",
    "print('Coefficiente di correlazione tra TRS e H2S con pearson per la postazione ATM10_01481 è ', pearsonPost4)\n",
    "print('Coefficiente di correlazione tra TRS e H2S con spearman per la postazione ATM10_01481 è ', spearmanPost4)"
   ]
  },
  {
   "cell_type": "code",
   "execution_count": null,
   "metadata": {},
   "outputs": [],
   "source": [
    "# correlazione per la stazione ATM14_01486\n",
    "pearsonPost4, spearmanPost4= corr_Sensori(df_SenTRS_H2S, 'TRS_ppb', 'H2S_ug_m3', 'ATM14_01486' )\n",
    "print('Coefficiente di correlazione tra TRS e H2S con pearson per la postazione ATM14_01486 è ', pearsonPost4)\n",
    "print('Coefficiente di correlazione tra TRS e H2S con spearman per la postazione ATM14_01486 è ', spearmanPost4)"
   ]
  },
  {
   "cell_type": "code",
   "execution_count": null,
   "metadata": {},
   "outputs": [],
   "source": [
    "# CORRELAZIONE 4 TRA I SENSORI TRS E H2SJ NELLE VARIE POSTAZIONI"
   ]
  },
  {
   "cell_type": "code",
   "execution_count": null,
   "metadata": {},
   "outputs": [],
   "source": [
    "df_SenTRS_H2SJ = df_DatiPuliti[['postazione', 'Data', 'TRS_ppb', 'H2SJ_ug_m3']]\n",
    "df_SenTRS_H2SJ = df_SenTRS_H2SJ.dropna()\n",
    "df_SenTRS_H2SJ"
   ]
  },
  {
   "cell_type": "code",
   "execution_count": null,
   "metadata": {},
   "outputs": [],
   "source": [
    "# correlazione per la stazione ATM05_01479\n",
    "pearsonPost4, spearmanPost4= corr_Sensori(df_SenTRS_H2SJ, 'TRS_ppb', 'H2SJ_ug_m3' , 'ATM05_01479')\n",
    "print('Coefficiente di correlazione tra TRS e H2SJ con pearson per la postazione ATM05_01479 è ', pearsonPost4)\n",
    "print('Coefficiente di correlazione tra TRS e H2SJ con spearman per la postazione ATM05_01479 è ', spearmanPost4)"
   ]
  },
  {
   "cell_type": "code",
   "execution_count": null,
   "metadata": {},
   "outputs": [],
   "source": [
    "# correlazione per la stazione ATM07_01480\n",
    "pearsonPost4, spearmanPost4= correlation(df_SenTRS_H2SJ, 'TRS_ppb', 'H2SJ_ug_m3', 'ATM07_01480' )\n",
    "print('Coefficiente di correlazione tra TRS e H2SJ con pearson per la postazione ATM07_01480 è ', pearsonPost4)\n",
    "print('Coefficiente di correlazione tra TRS e H2SJ con spearman per la postazione ATM07_01480 è ', spearmanPost4)"
   ]
  },
  {
   "cell_type": "code",
   "execution_count": null,
   "metadata": {},
   "outputs": [],
   "source": [
    "# correlazione per la stazione ATM10_01481\n",
    "pearsonPost4, spearmanPost4= corr_Sensori(df_SenTRS_H2SJ, 'TRS_ppb', 'H2SJ_ug_m3' , 'ATM10_01481')\n",
    "print('Coefficiente di correlazione tra TRS e H2SJ con pearson per la postazione ATM10_01481 è ', pearsonPost4)\n",
    "print('Coefficiente di correlazione tra TRS e H2SJ con spearman per la postazione ATM10_01481 è ', spearmanPost4)"
   ]
  },
  {
   "cell_type": "code",
   "execution_count": null,
   "metadata": {},
   "outputs": [],
   "source": [
    "# correlazione per la stazione ATM14_01486\n",
    "pearsonPost4, spearmanPost4= corr_Sensori(df_SenTRS_H2SJ, 'TRS_ppb', 'H2SJ_ug_m3' , 'ATM14_01486')\n",
    "print('Coefficiente di correlazione tra TRS e H2SJ con pearson per la postazione ATM14_01486 è ', pearsonPost4)\n",
    "print('Coefficiente di correlazione tra TRS e H2SJ con spearman per la postazione ATM14_01486 è ', spearmanPost4)"
   ]
  },
  {
   "cell_type": "code",
   "execution_count": null,
   "metadata": {},
   "outputs": [],
   "source": [
    "# CORRELAZIONE 5 TRA I SENSORI VOC E C6H6 NELLE VARIE POSTAZIONI"
   ]
  },
  {
   "cell_type": "code",
   "execution_count": null,
   "metadata": {},
   "outputs": [],
   "source": [
    "df_SenVOC_C6H6 = df_DatiPuliti[['postazione', 'Data', 'VOC_ppm', 'C6H6_ug_m3']]\n",
    "df_SenVOC_C6H6 = df_SenVOC_C6H6.dropna()\n",
    "df_SenVOC_C6H6"
   ]
  },
  {
   "cell_type": "code",
   "execution_count": null,
   "metadata": {},
   "outputs": [],
   "source": [
    "# correlazione per la stazione ATM05_01479\n",
    "pearsonPost4, spearmanPost4= corr_Sensori(df_SenVOC_C6H6, 'VOC_ppm', 'C6H6_ug_m3' , 'ATM05_01479')\n",
    "print('Coefficiente di correlazione tra VOC e C6H6 con pearson per la postazione ATM05_01479 è ', pearsonPost4)\n",
    "print('Coefficiente di correlazione tra VOC e C6H6 con spearman per la postazione ATM05_01479 è ', spearmanPost4)"
   ]
  },
  {
   "cell_type": "code",
   "execution_count": null,
   "metadata": {},
   "outputs": [],
   "source": [
    "# correlazione per la stazione ATM07_01480\n",
    "pearsonPost4, spearmanPost4= corr_Sensori(df_SenVOC_C6H6, 'VOC_ppm', 'C6H6_ug_m3', 'ATM07_01480' )\n",
    "print('Coefficiente di correlazione tra VOC e C6H6 con pearson per la postazione ATM07_01480 è ', pearsonPost4)\n",
    "print('Coefficiente di correlazione tra VOC e C6H6 con spearman per la postazione ATM07_01480 è ', spearmanPost4)"
   ]
  },
  {
   "cell_type": "code",
   "execution_count": null,
   "metadata": {},
   "outputs": [],
   "source": [
    "# correlazione per la stazione ATM10_01481\n",
    "pearsonPost4, spearmanPost4= corr_Sensori(df_SenVOC_C6H6, 'VOC_ppm', 'C6H6_ug_m3' , 'ATM10_01481')\n",
    "print('Coefficiente di correlazione tra VOC e C6H6 con pearson per la postazione ATM10_01481 è ', pearsonPost4)\n",
    "print('Coefficiente di correlazione tra VOC e C6H6 con spearman per la postazione ATM10_01481 è ', spearmanPost4)"
   ]
  },
  {
   "cell_type": "code",
   "execution_count": null,
   "metadata": {},
   "outputs": [],
   "source": [
    "# correlazione per la stazione ATM14_01486\n",
    "pearsonPost4, spearmanPost4= corr_Sensori(df_SenVOC_C6H6, 'VOC_ppm', 'C6H6_ug_m3', 'ATM14_01486' )\n",
    "print('Coefficiente di correlazione tra VOC e C6H6 con pearson per la postazione ATM14_01486 è ', pearsonPost4)\n",
    "print('Coefficiente di correlazione tra VOC e C6H6 con spearman per la postazione ATM14_01486 è ', spearmanPost4)"
   ]
  },
  {
   "cell_type": "code",
   "execution_count": null,
   "metadata": {},
   "outputs": [],
   "source": [
    "# CORRELAZIONE 6 TRA I SENSORI PIDVOC E C6H6 NELLE VARIE POSTAZIONI"
   ]
  },
  {
   "cell_type": "code",
   "execution_count": null,
   "metadata": {},
   "outputs": [],
   "source": [
    "df_SenPIDVOC_C6H6 = df_DatiPuliti[['postazione', 'Data', 'PIDVOC_ppb', 'C6H6_ug_m3']]\n",
    "df_SenPIDVOC_C6H6 = df_SenPIDVOC_C6H6.dropna()\n",
    "df_SenPIDVOC_C6H6"
   ]
  },
  {
   "cell_type": "code",
   "execution_count": null,
   "metadata": {},
   "outputs": [],
   "source": [
    "# correlazione per la stazione ATM05_01479\n",
    "pearsonPost4, spearmanPost4= corr_Sensori(df_SenPIDVOC_C6H6, 'PIDVOC_ppb', 'C6H6_ug_m3', 'ATM05_01479' )\n",
    "print('Coefficiente di correlazione tra PIDVOC e C6H6 con pearson per la postazione ATM05_01479 è ', pearsonPost4)\n",
    "print('Coefficiente di correlazione tra PIDVOC e C6H6 con spearman per la postazione ATM05_01479 è ', spearmanPost4)"
   ]
  },
  {
   "cell_type": "code",
   "execution_count": null,
   "metadata": {},
   "outputs": [],
   "source": [
    "# correlazione per la stazione ATM07_01480\n",
    "pearsonPost4, spearmanPost4= corr_Sensori(df_SenPIDVOC_C6H6, 'PIDVOC_ppb', 'C6H6_ug_m3' , 'ATM07_01480')\n",
    "print('Coefficiente di correlazione tra PIDVOC e C6H6 con pearson per la postazione ATM07_01480 è ', pearsonPost4)\n",
    "print('Coefficiente di correlazione tra PIDVOC e C6H6 con spearman per la postazione ATM07_01480 è ', spearmanPost4)"
   ]
  },
  {
   "cell_type": "code",
   "execution_count": null,
   "metadata": {},
   "outputs": [],
   "source": [
    "# correlazione per la stazione ATM10_01481\n",
    "pearsonPost4, spearmanPost4= corr_Sensori(df_SenPIDVOC_C6H6, 'PIDVOC_ppb', 'C6H6_ug_m3', 'ATM10_01481' )\n",
    "print('Coefficiente di correlazione tra PIDVOC e C6H6 con pearson per la postazione ATM10_01481 è ', pearsonPost4)\n",
    "print('Coefficiente di correlazione tra PIDVOC e C6H6 con spearman per la postazione ATM10_01481 è ', spearmanPost4)"
   ]
  },
  {
   "cell_type": "code",
   "execution_count": null,
   "metadata": {},
   "outputs": [],
   "source": [
    "# correlazione per la stazione ATM14_01486\n",
    "pearsonPost4, spearmanPost4= corr_Sensori(df_SenPIDVOC_C6H6, 'PIDVOC_ppb', 'C6H6_ug_m3', 'ATM14_01486' )\n",
    "print('Coefficiente di correlazione tra PIDVOC e C6H6 con pearson per la postazione ATM14_01486 è ', pearsonPost4)\n",
    "print('Coefficiente di correlazione tra PIDVOC e C6H6 con spearman per la postazione ATM14_01486 è ', spearmanPost4)"
   ]
  },
  {
   "cell_type": "code",
   "execution_count": null,
   "metadata": {},
   "outputs": [],
   "source": [
    "# CORRELAZIONE 7 "
   ]
  },
  {
   "cell_type": "code",
   "execution_count": null,
   "metadata": {},
   "outputs": [],
   "source": [
    "# POSTAZIONI ATM05_01479 E ATM07_01480 "
   ]
  },
  {
   "cell_type": "code",
   "execution_count": 60,
   "metadata": {},
   "outputs": [],
   "source": [
    "def creazione_df(df, postazione1, postazione2, composto):\n",
    "    df_1 = df[df_Dati['postazione'] == postazione1].dropna()[composto].to_frame()\n",
    "    df_2 = df[df_Dati['postazione'] == postazione1].dropna()[composto].reset_index(drop = True).to_frame()\n",
    "    df_Full = pd.concat([df_1, df_2], axis=1)\n",
    "    df_Full.columns = ['postazione_1','postazione_2']\n",
    "    df_Full = df_Full[['postazione_1', 'postazione_2']].fillna(0)\n",
    "    return df_Full"
   ]
  },
  {
   "cell_type": "code",
   "execution_count": 193,
   "metadata": {},
   "outputs": [
    {
     "data": {
      "image/png": "[encoded data removed]",
      "text/plain": [
       "<Figure size 432x288 with 1 Axes>"
      ]
     },
     "metadata": {
      "needs_background": "light"
     },
     "output_type": "display_data"
    },
    {
     "name": "stdout",
     "output_type": "stream",
     "text": [
      "Coefficiente di correlazione di pearson è  0.0032655417592816634\n",
      "Coefficiente di correlazione di spearman è  0.0028682328193752964\n"
     ]
    }
   ],
   "source": [
    "# correlazione per il sensore TRS_ppb\n",
    "pearson, spearman= corr_Sensori(creazione_df(df_Dati, 'ATM05_01479', 'ATM07_01480', 'TRS_ppb' ), 'postazione_1', 'postazione_2')\n",
    "print('Coefficiente di correlazione di pearson è ', pearson)\n",
    "print('Coefficiente di correlazione di spearman è ', spearman)"
   ]
  },
  {
   "cell_type": "code",
   "execution_count": 194,
   "metadata": {},
   "outputs": [
    {
     "data": {
      "image/png": "[encoded data removed]",
      "text/plain": [
       "<Figure size 432x288 with 1 Axes>"
      ]
     },
     "metadata": {
      "needs_background": "light"
     },
     "output_type": "display_data"
    },
    {
     "name": "stdout",
     "output_type": "stream",
     "text": [
      "Coefficiente di correlazione di pearson è  0.16305210367679182\n",
      "Coefficiente di correlazione di spearman è  0.18491681674137436\n"
     ]
    }
   ],
   "source": [
    "# correlazione per il sensore C6H6_ug_m3\n",
    "pearson, spearman= corr_Sensori(creazione_df(df_Dati, 'ATM05_01479', 'ATM07_01480', 'C6H6_ug_m3' ), 'postazione_1', 'postazione_2')\n",
    "print('Coefficiente di correlazione di pearson è ', pearson)\n",
    "print('Coefficiente di correlazione di spearman è ', spearman)"
   ]
  },
  {
   "cell_type": "code",
   "execution_count": 195,
   "metadata": {},
   "outputs": [
    {
     "data": {
      "image/png": "[encoded data removed]",
      "text/plain": [
       "<Figure size 432x288 with 1 Axes>"
      ]
     },
     "metadata": {
      "needs_background": "light"
     },
     "output_type": "display_data"
    },
    {
     "name": "stdout",
     "output_type": "stream",
     "text": [
      "Coefficiente di correlazione di pearson è  -0.0005888521304726334\n",
      "Coefficiente di correlazione di spearman è  -0.0007387666730684736\n"
     ]
    }
   ],
   "source": [
    "# correlazione per il sensore VOC_ppm\n",
    "pearson, spearman= corr_Sensori(creazione_df(df_Dati, 'ATM05_01479', 'ATM07_01480', 'VOC_ppm' ), 'postazione_1', 'postazione_2')\n",
    "print('Coefficiente di correlazione di pearson è ', pearson)\n",
    "print('Coefficiente di correlazione di spearman è ', spearman)"
   ]
  },
  {
   "cell_type": "code",
   "execution_count": 188,
   "metadata": {
    "collapsed": true
   },
   "outputs": [
    {
     "data": {
      "image/png": "[encoded data removed]",
      "text/plain": [
       "<Figure size 432x288 with 1 Axes>"
      ]
     },
     "metadata": {
      "needs_background": "light"
     },
     "output_type": "display_data"
    },
    {
     "name": "stdout",
     "output_type": "stream",
     "text": [
      "Coefficiente di correlazione tra VOC e C6H6 con pearson per la postazione ATM10_01481 è  0.08268656753809843\n",
      "Coefficiente di correlazione tra VOC e C6H6 con spearman per la postazione ATM10_01481 è  0.10617484294034371\n"
     ]
    }
   ],
   "source": [
    "# correlazione per il sensore PIDVOC_ppb\n",
    "pearson, spearman= corr_Sensori(creazione_df(df_Dati, 'ATM05_01479', 'ATM07_01480', 'PIDVOC_ppb' ), 'postazione_1', 'postazione_2')\n",
    "print('Coefficiente di correlazione di pearson è ', pearson)\n",
    "print('Coefficiente di correlazione di spearman è ', spearman)"
   ]
  },
  {
   "cell_type": "code",
   "execution_count": 189,
   "metadata": {
    "collapsed": true
   },
   "outputs": [
    {
     "data": {
      "image/png": "[encoded data removed]",
      "text/plain": [
       "<Figure size 432x288 with 1 Axes>"
      ]
     },
     "metadata": {
      "needs_background": "light"
     },
     "output_type": "display_data"
    },
    {
     "name": "stdout",
     "output_type": "stream",
     "text": [
      "Coefficiente di correlazione tra VOC e C6H6 con pearson per la postazione ATM10_01481 è  0.01609087278844725\n",
      "Coefficiente di correlazione tra VOC e C6H6 con spearman per la postazione ATM10_01481 è  -0.0327253349831956\n"
     ]
    }
   ],
   "source": [
    "# correlazione per il sensore H2S_ug_m3\n",
    "pearson, spearman= corr_Sensori(creazione_df(df_Dati, 'ATM05_01479', 'ATM07_01480', 'H2S_ug_m3' ), 'postazione_1', 'postazione_2')\n",
    "print('Coefficiente di correlazione di pearson è ', pearson)\n",
    "print('Coefficiente di correlazione di spearman è ', spearman)"
   ]
  },
  {
   "cell_type": "code",
   "execution_count": 190,
   "metadata": {
    "collapsed": true
   },
   "outputs": [
    {
     "data": {
      "image/png": "[encoded data removed]",
      "text/plain": [
       "<Figure size 432x288 with 1 Axes>"
      ]
     },
     "metadata": {
      "needs_background": "light"
     },
     "output_type": "display_data"
    },
    {
     "name": "stdout",
     "output_type": "stream",
     "text": [
      "Coefficiente di correlazione tra VOC e C6H6 con pearson per la postazione ATM10_01481 è  0.06386880614243073\n",
      "Coefficiente di correlazione tra VOC e C6H6 con spearman per la postazione ATM10_01481 è  0.08808542220708704\n"
     ]
    }
   ],
   "source": [
    "# correlazione per il sensore H2SJ_ug_m3\n",
    "pearson, spearman= corr_Sensori(creazione_df(df_Dati, 'ATM05_01479', 'ATM07_01480', 'H2SJ_ug_m3' ), 'postazione_1', 'postazione_2')\n",
    "print('Coefficiente di correlazione di pearson è ', pearson)\n",
    "print('Coefficiente di correlazione di spearman è ', spearman)"
   ]
  },
  {
   "cell_type": "code",
   "execution_count": null,
   "metadata": {},
   "outputs": [],
   "source": [
    "# POSTAZIONI ATM05_01479 E ATM10_01481"
   ]
  },
  {
   "cell_type": "code",
   "execution_count": null,
   "metadata": {},
   "outputs": [],
   "source": [
    "# correlazione per il sensore TRS_ppb\n",
    "pearson, spearman= corr_Sensori(creazione_df(df_Dati, 'ATM05_01479', 'ATM10_01481', 'TRS_ppb' ), 'postazione_1', 'postazione_2')\n",
    "print('Coefficiente di correlazione di pearson è ', pearson)\n",
    "print('Coefficiente di correlazione di spearman è ', spearman)"
   ]
  },
  {
   "cell_type": "code",
   "execution_count": null,
   "metadata": {},
   "outputs": [],
   "source": [
    "# correlazione per il sensore C6H6_ug_m3\n",
    "pearson, spearman= corr_Sensori(creazione_df(df_Dati, 'ATM05_01479', 'ATM10_01481', 'C6H6_ug_m3' ), 'postazione_1', 'postazione_2')\n",
    "print('Coefficiente di correlazione di pearson è ', pearson)\n",
    "print('Coefficiente di correlazione di spearman è ', spearman)"
   ]
  },
  {
   "cell_type": "code",
   "execution_count": null,
   "metadata": {},
   "outputs": [],
   "source": [
    "# correlazione per il sensore VOC_pp\n",
    "pearson, spearman= corr_Sensori(creazione_df(df_Dati, 'ATM05_01479', 'ATM10_01481', 'VOC_pp,' ), 'postazione_1', 'postazione_2')\n",
    "print('Coefficiente di correlazione di pearson è ', pearson)\n",
    "print('Coefficiente di correlazione di spearman è ', spearman)"
   ]
  },
  {
   "cell_type": "code",
   "execution_count": null,
   "metadata": {},
   "outputs": [],
   "source": [
    "# correlazione per il sensore PIDVOC_ppm\n",
    "pearson, spearman= corr_Sensori(creazione_df(df_Dati, 'ATM05_01479', 'ATM10_01481', 'PIDVOC_ppm' ), 'postazione_1', 'postazione_2')\n",
    "print('Coefficiente di correlazione di pearson è ', pearson)\n",
    "print('Coefficiente di correlazione di spearman è ', spearman)"
   ]
  },
  {
   "cell_type": "code",
   "execution_count": null,
   "metadata": {},
   "outputs": [],
   "source": [
    "# correlazione per il sensore H2S_ug_m3\n",
    "pearson, spearman= corr_Sensori(creazione_df(df_Dati, 'ATM05_01479', 'ATM10_01481', 'H2S_ug_m3' ), 'postazione_1', 'postazione_2')\n",
    "print('Coefficiente di correlazione di pearson è ', pearson)\n",
    "print('Coefficiente di correlazione di spearman è ', spearman)"
   ]
  },
  {
   "cell_type": "code",
   "execution_count": null,
   "metadata": {},
   "outputs": [],
   "source": [
    "# correlazione per il sensore H2SJ_ug_m3\n",
    "pearson, spearman= corr_Sensori(creazione_df(df_Dati, 'ATM05_01479', 'ATM10_01481', 'H2SJ_ug_m3' ), 'postazione_1', 'postazione_2')\n",
    "print('Coefficiente di correlazione di pearson è ', pearson)\n",
    "print('Coefficiente di correlazione di spearman è ', spearman)"
   ]
  },
  {
   "cell_type": "code",
   "execution_count": null,
   "metadata": {},
   "outputs": [],
   "source": [
    "# POSTAZIONI ATM05_01479 E ATM14_01486"
   ]
  },
  {
   "cell_type": "code",
   "execution_count": null,
   "metadata": {},
   "outputs": [],
   "source": [
    "# correlazione per il sensore TRS_ppb\n",
    "pearson, spearman= corr_Sensori(creazione_df(df_Dati, 'ATM05_01479', 'ATM14_01486', 'TRS_ppb' ), 'postazione_1', 'postazione_2')\n",
    "print('Coefficiente di correlazione di pearson è ', pearson)\n",
    "print('Coefficiente di correlazione di spearman è ', spearman)"
   ]
  },
  {
   "cell_type": "code",
   "execution_count": null,
   "metadata": {},
   "outputs": [],
   "source": [
    "# correlazione per il sensore C6H6_ug_m3\n",
    "pearson, spearman= corr_Sensori(creazione_df(df_Dati, 'ATM05_01479', 'ATM14_01486', 'C6H6_ug_m3' ), 'postazione_1', 'postazione_2')\n",
    "print('Coefficiente di correlazione di pearson è ', pearson)\n",
    "print('Coefficiente di correlazione di spearman è ', spearman)"
   ]
  },
  {
   "cell_type": "code",
   "execution_count": null,
   "metadata": {},
   "outputs": [],
   "source": [
    "# correlazione per il sensore VOC_ppm\n",
    "pearsonPost4, spearman= corr_Sensori(creazione_df(df_Dati, 'ATM05_01479', 'ATM14_01486', 'VOC_ppm' ), 'postazione_1', 'postazione_2')\n",
    "print('Coefficiente di correlazione di pearson è ', pearson)\n",
    "print('Coefficiente di correlazione di spearman è ', spearman)"
   ]
  },
  {
   "cell_type": "code",
   "execution_count": null,
   "metadata": {},
   "outputs": [],
   "source": [
    "# correlazione per il sensore PIDVOC_ppb\n",
    "pearson, spearman= corr_Sensori(creazione_df(df_Dati, 'ATM05_01479', 'ATM14_01486', 'PIDVOC_ppb' ), 'postazione_1', 'postazione_2')\n",
    "print('Coefficiente di correlazione di pearson è ', pearson)\n",
    "print('Coefficiente di correlazione di spearman è ', spearman)"
   ]
  },
  {
   "cell_type": "code",
   "execution_count": null,
   "metadata": {},
   "outputs": [],
   "source": [
    "# correlazione per il sensore H2S_ug_m3\n",
    "pearson, spearman= corr_Sensori(creazione_df(df_Dati, 'ATM05_01479', 'ATM14_01486', 'H2S_ug_m3' ), 'postazione_1', 'postazione_2')\n",
    "print('Coefficiente di correlazione di pearson è ', pearson)\n",
    "print('Coefficiente di correlazione di spearman è ', spearman)"
   ]
  },
  {
   "cell_type": "code",
   "execution_count": null,
   "metadata": {},
   "outputs": [],
   "source": [
    "# correlazione per il sensore H2SJ_ug_m3\n",
    "pearson, spearman= corr_Sensori(creazione_df(df_Dati, 'ATM05_01479', 'ATM14_01486', 'H2SJ_ug_m3' ), 'postazione_1', 'postazione_2')\n",
    "print('Coefficiente di correlazione di pearson è ', pearson)\n",
    "print('Coefficiente di correlazione di spearman è ', spearman)"
   ]
  },
  {
   "cell_type": "code",
   "execution_count": null,
   "metadata": {},
   "outputs": [],
   "source": [
    "# POSTAZIONI ATM07_01480 E ATM10_01481"
   ]
  },
  {
   "cell_type": "code",
   "execution_count": 44,
   "metadata": {},
   "outputs": [
    {
     "data": {
      "image/png": "[encoded data removed]",
      "text/plain": [
       "<Figure size 432x288 with 1 Axes>"
      ]
     },
     "metadata": {
      "needs_background": "light"
     },
     "output_type": "display_data"
    },
    {
     "name": "stdout",
     "output_type": "stream",
     "text": [
      "Coefficiente di correlazione di pearson è  -0.0005671619490109796\n",
      "Coefficiente di correlazione di spearman è  -0.0010888679888088786\n"
     ]
    }
   ],
   "source": [
    "# correlazione per il sensore TRS_ppb\n",
    "pearson, spearman= corr_Sensori(creazione_df(df_Dati, 'ATM07_01480', 'ATM10_01481', 'TRS_ppb' ), 'postazione_1', 'postazione_2')\n",
    "print('Coefficiente di correlazione di pearson è ', pearson)\n",
    "print('Coefficiente di correlazione di spearman è ', spearman)"
   ]
  },
  {
   "cell_type": "code",
   "execution_count": 43,
   "metadata": {},
   "outputs": [
    {
     "data": {
      "image/png": "[encoded data removed]",
      "text/plain": [
       "<Figure size 432x288 with 1 Axes>"
      ]
     },
     "metadata": {
      "needs_background": "light"
     },
     "output_type": "display_data"
    },
    {
     "name": "stdout",
     "output_type": "stream",
     "text": [
      "Coefficiente di correlazione di pearson è  -0.8130496446294359\n",
      "Coefficiente di correlazione di spearman è  -0.8786563763434054\n"
     ]
    }
   ],
   "source": [
    "# correlazione per il sensore C6H6_ug_m3\n",
    "pearson, spearman= corr_Sensori(creazione_df(df_Dati, 'ATM07_01480', 'ATM10_01481', 'C6H6_ug_m3' ), 'postazione_1', 'postazione_2')\n",
    "print('Coefficiente di correlazione di pearson è ', pearson)\n",
    "print('Coefficiente di correlazione di spearman è ', spearman)"
   ]
  },
  {
   "cell_type": "code",
   "execution_count": 42,
   "metadata": {},
   "outputs": [
    {
     "data": {
      "image/png": "[encoded data removed]",
      "text/plain": [
       "<Figure size 432x288 with 1 Axes>"
      ]
     },
     "metadata": {
      "needs_background": "light"
     },
     "output_type": "display_data"
    },
    {
     "name": "stdout",
     "output_type": "stream",
     "text": [
      "Coefficiente di correlazione di pearson è  -0.0031559459739418953\n",
      "Coefficiente di correlazione di spearman è  -0.00434159022731976\n"
     ]
    }
   ],
   "source": [
    "# correlazione per il sensore VOC_ppm\n",
    "pearson, spearman= corr_Sensori(creazione_df(df_Dati, 'ATM07_01480', 'ATM10_01481', 'VOC_ppm' ), 'postazione_1', 'postazione_2')\n",
    "print('Coefficiente di correlazione di pearson è ', pearson)\n",
    "print('Coefficiente di correlazione di spearman è ', spearman)"
   ]
  },
  {
   "cell_type": "code",
   "execution_count": 41,
   "metadata": {},
   "outputs": [
    {
     "data": {
      "image/png": "[encoded data removed]",
      "text/plain": [
       "<Figure size 432x288 with 1 Axes>"
      ]
     },
     "metadata": {
      "needs_background": "light"
     },
     "output_type": "display_data"
    },
    {
     "name": "stdout",
     "output_type": "stream",
     "text": [
      "Coefficiente di correlazione di pearson è  -0.029398405146983317\n",
      "Coefficiente di correlazione di spearman è  -0.6471704002816614\n"
     ]
    }
   ],
   "source": [
    "# correlazione per il sensore PIDVOC_ppb\n",
    "pearson, spearman= corr_Sensori(creazione_df(df_Dati, 'ATM07_01480', 'ATM10_01481', 'PIDVOC_ppb' ), 'postazione_1', 'postazione_2')\n",
    "print('Coefficiente di correlazione di pearson è ', pearson)\n",
    "print('Coefficiente di correlazione di spearman è ', spearman)"
   ]
  },
  {
   "cell_type": "code",
   "execution_count": 40,
   "metadata": {},
   "outputs": [
    {
     "data": {
      "image/png": "[encoded data removed]",
      "text/plain": [
       "<Figure size 432x288 with 1 Axes>"
      ]
     },
     "metadata": {
      "needs_background": "light"
     },
     "output_type": "display_data"
    },
    {
     "name": "stdout",
     "output_type": "stream",
     "text": [
      "Coefficiente di correlazione di pearson è  -0.3807894634527208\n",
      "Coefficiente di correlazione di spearman è  -0.8578174248022576\n"
     ]
    }
   ],
   "source": [
    "# correlazione per il sensore H2S_ug_m3\n",
    "pearson, spearman= corr_Sensori(creazione_df(df_Dati, 'ATM07_01480', 'ATM10_01481', 'H2S_ug_m3' ), 'postazione_1', 'postazione_2')\n",
    "print('Coefficiente di correlazione di pearson è ', pearson)\n",
    "print('Coefficiente di correlazione di spearman è ', spearman)"
   ]
  },
  {
   "cell_type": "code",
   "execution_count": 39,
   "metadata": {},
   "outputs": [
    {
     "data": {
      "image/png": "[encoded data removed]",
      "text/plain": [
       "<Figure size 432x288 with 1 Axes>"
      ]
     },
     "metadata": {
      "needs_background": "light"
     },
     "output_type": "display_data"
    },
    {
     "name": "stdout",
     "output_type": "stream",
     "text": [
      "Coefficiente di correlazione di pearson è  -0.013307397737960996\n",
      "Coefficiente di correlazione di spearman è  -0.160391044405786\n"
     ]
    }
   ],
   "source": [
    "# correlazione per il sensore H2SJ_ug_m3\n",
    "pearson, spearman= corr_Sensori(creazione_df(df_Dati, 'ATM07_01480', 'ATM10_01481', 'H2SJ_ug_m3' ), 'postazione_1', 'postazione_2')\n",
    "print('Coefficiente di correlazione di pearson è ', pearson)\n",
    "print('Coefficiente di correlazione di spearman è ', spearman)"
   ]
  },
  {
   "cell_type": "code",
   "execution_count": null,
   "metadata": {},
   "outputs": [],
   "source": [
    "# POSTAZIONI ATM07_01480 E ATM14_01486"
   ]
  },
  {
   "cell_type": "code",
   "execution_count": 38,
   "metadata": {},
   "outputs": [
    {
     "data": {
      "image/png": "[encoded data removed]",
      "text/plain": [
       "<Figure size 432x288 with 1 Axes>"
      ]
     },
     "metadata": {
      "needs_background": "light"
     },
     "output_type": "display_data"
    },
    {
     "name": "stdout",
     "output_type": "stream",
     "text": [
      "Coefficiente di correlazione di pearson è  -0.0005671619490109796\n",
      "Coefficiente di correlazione di spearman è  -0.0010888679888088786\n"
     ]
    }
   ],
   "source": [
    "# correlazione per il sensore TRS_ppb\n",
    "pearson, spearman= corr_Sensori(creazione_df(df_Dati, 'ATM07_01480', 'ATM14_01486', 'TRS_ppb' ), 'postazione_1', 'postazione_2')\n",
    "print('Coefficiente di correlazione di pearson è ', pearson)\n",
    "print('Coefficiente di correlazione di spearman è ', spearman)"
   ]
  },
  {
   "cell_type": "code",
   "execution_count": 37,
   "metadata": {},
   "outputs": [
    {
     "data": {
      "image/png": "[encoded data removed]",
      "text/plain": [
       "<Figure size 432x288 with 1 Axes>"
      ]
     },
     "metadata": {
      "needs_background": "light"
     },
     "output_type": "display_data"
    },
    {
     "name": "stdout",
     "output_type": "stream",
     "text": [
      "Coefficiente di correlazione di pearson è  0.16305210367679182\n",
      "Coefficiente di correlazione di spearman è  0.18491681674137436\n"
     ]
    }
   ],
   "source": [
    "# correlazione per il sensore C6H6_ug_m3\n",
    "pearson, spearman= corr_Sensori(creazione_df(df_Dati, 'ATM05_01479', 'ATM14_01486', 'C6H6_ug_m3' ), 'postazione_1', 'postazione_2')\n",
    "print('Coefficiente di correlazione di pearson è ', pearson)\n",
    "print('Coefficiente di correlazione di spearman è ', spearman)"
   ]
  },
  {
   "cell_type": "code",
   "execution_count": 35,
   "metadata": {},
   "outputs": [
    {
     "data": {
      "image/png": "[encoded data removed]",
      "text/plain": [
       "<Figure size 432x288 with 1 Axes>"
      ]
     },
     "metadata": {
      "needs_background": "light"
     },
     "output_type": "display_data"
    },
    {
     "name": "stdout",
     "output_type": "stream",
     "text": [
      "Coefficiente di correlazione di pearson è  -0.0031559459739418953\n",
      "Coefficiente di correlazione di spearman è  -0.00434159022731976\n"
     ]
    }
   ],
   "source": [
    "# correlazione per il sensore VOC_ppm\n",
    "pearson, spearman= corr_Sensori(creazione_df(df_Dati, 'ATM07_01480', 'ATM14_01486', 'VOC_ppm' ), 'postazione_1', 'postazione_2')\n",
    "print('Coefficiente di correlazione di pearson è ', pearson)\n",
    "print('Coefficiente di correlazione di spearman è ', spearman)"
   ]
  },
  {
   "cell_type": "code",
   "execution_count": 34,
   "metadata": {},
   "outputs": [
    {
     "data": {
      "image/png": "[encoded data removed]",
      "text/plain": [
       "<Figure size 432x288 with 1 Axes>"
      ]
     },
     "metadata": {
      "needs_background": "light"
     },
     "output_type": "display_data"
    },
    {
     "name": "stdout",
     "output_type": "stream",
     "text": [
      "Coefficiente di correlazione di pearson è  -0.029398405146983317\n",
      "Coefficiente di correlazione di spearman è  -0.6471704002816614\n"
     ]
    }
   ],
   "source": [
    "# correlazione per il sensore PIDVOC_ppb\n",
    "pearson, spearman= corr_Sensori(creazione_df(df_Dati, 'ATM07_01480', 'ATM14_01486', 'PIDVOC_ppb' ), 'postazione_1', 'postazione_2')\n",
    "print('Coefficiente di correlazione di pearson è ', pearson)\n",
    "print('Coefficiente di correlazione di spearman è ', spearman)"
   ]
  },
  {
   "cell_type": "code",
   "execution_count": 33,
   "metadata": {},
   "outputs": [
    {
     "data": {
      "image/png": "[encoded data removed]",
      "text/plain": [
       "<Figure size 432x288 with 1 Axes>"
      ]
     },
     "metadata": {
      "needs_background": "light"
     },
     "output_type": "display_data"
    },
    {
     "name": "stdout",
     "output_type": "stream",
     "text": [
      "Coefficiente di correlazione di pearson è  -0.3807894634527208\n",
      "Coefficiente di correlazione di spearman è  -0.8578174248022576\n"
     ]
    }
   ],
   "source": [
    "# correlazione per il sensore H2S_ug_m3\n",
    "pearson, spearman= corr_Sensori(creazione_df(df_Dati, 'ATM07_01480', 'ATM14_01486', 'H2S_ug_m3' ), 'postazione_1', 'postazione_2')\n",
    "print('Coefficiente di correlazione di pearson è ', pearson)\n",
    "print('Coefficiente di correlazione di spearman è ', spearman)"
   ]
  },
  {
   "cell_type": "code",
   "execution_count": 32,
   "metadata": {},
   "outputs": [
    {
     "data": {
      "image/png": "[encoded data removed]",
      "text/plain": [
       "<Figure size 432x288 with 1 Axes>"
      ]
     },
     "metadata": {
      "needs_background": "light"
     },
     "output_type": "display_data"
    },
    {
     "name": "stdout",
     "output_type": "stream",
     "text": [
      "Coefficiente di correlazione di pearson è  -0.013307397737960996\n",
      "Coefficiente di correlazione di spearman è  -0.160391044405786\n"
     ]
    }
   ],
   "source": [
    "# correlazione per il sensore H2SJ_ug_m3\n",
    "pearson, spearman= corr_Sensori(creazione_df(df_Dati, 'ATM07_01480', 'ATM14_01486', 'H2SJ_ug_m3' ), 'postazione_1', 'postazione_2')\n",
    "print('Coefficiente di correlazione di pearson è ', pearson)\n",
    "print('Coefficiente di correlazione di spearman è ', spearman)"
   ]
  },
  {
   "cell_type": "code",
   "execution_count": null,
   "metadata": {},
   "outputs": [],
   "source": [
    "# POSTAZIONI ATM10_01481 E ATM14_01486"
   ]
  },
  {
   "cell_type": "code",
   "execution_count": 57,
   "metadata": {},
   "outputs": [
    {
     "name": "stdout",
     "output_type": "stream",
     "text": [
      "35230\n",
      "34941\n"
     ]
    },
    {
     "data": {
      "image/png": "[encoded data removed]",
      "text/plain": [
       "<Figure size 432x288 with 1 Axes>"
      ]
     },
     "metadata": {
      "needs_background": "light"
     },
     "output_type": "display_data"
    },
    {
     "name": "stdout",
     "output_type": "stream",
     "text": [
      "Coefficiente di correlazione di pearson è  nan\n",
      "Coefficiente di correlazione di spearman è  nan\n"
     ]
    },
    {
     "name": "stderr",
     "output_type": "stream",
     "text": [
      "C:\\Users\\Antonio\\anaconda3\\lib\\site-packages\\numpy\\lib\\function_base.py:2691: RuntimeWarning: invalid value encountered in true_divide\n",
      "  c /= stddev[:, None]\n",
      "C:\\Users\\Antonio\\anaconda3\\lib\\site-packages\\numpy\\lib\\function_base.py:2692: RuntimeWarning: invalid value encountered in true_divide\n",
      "  c /= stddev[None, :]\n"
     ]
    }
   ],
   "source": [
    "# correlazione per il sensore TRS_ppb\n",
    "pearson, spearman= corr_Sensori(creazione_df(df_Dati, 'ATM10_01481', 'ATM14_01486', 'TRS_ppb' ), 'postazione_1', 'postazione_2')\n",
    "print('Coefficiente di correlazione di pearson è ', pearson)\n",
    "print('Coefficiente di correlazione di spearman è ', spearman)"
   ]
  },
  {
   "cell_type": "code",
   "execution_count": 56,
   "metadata": {},
   "outputs": [
    {
     "name": "stdout",
     "output_type": "stream",
     "text": [
      "35230\n",
      "34941\n"
     ]
    },
    {
     "data": {
      "image/png": "[encoded data removed]",
      "text/plain": [
       "<Figure size 432x288 with 1 Axes>"
      ]
     },
     "metadata": {
      "needs_background": "light"
     },
     "output_type": "display_data"
    },
    {
     "name": "stdout",
     "output_type": "stream",
     "text": [
      "Coefficiente di correlazione di pearson è  -0.12076757467505723\n",
      "Coefficiente di correlazione di spearman è  -0.22079975569668897\n"
     ]
    }
   ],
   "source": [
    "# correlazione per il sensore C6H6_ug_m3\n",
    "pearson, spearman= corr_Sensori(creazione_df(df_Dati, 'ATM10_01481', 'ATM14_01486', 'C6H6_ug_m3' ), 'postazione_1', 'postazione_2')\n",
    "print('Coefficiente di correlazione di pearson è ', pearson)\n",
    "print('Coefficiente di correlazione di spearman è ', spearman)"
   ]
  },
  {
   "cell_type": "code",
   "execution_count": 55,
   "metadata": {},
   "outputs": [
    {
     "name": "stdout",
     "output_type": "stream",
     "text": [
      "35230\n",
      "34941\n"
     ]
    },
    {
     "data": {
      "image/png": "[encoded data removed]",
      "text/plain": [
       "<Figure size 432x288 with 1 Axes>"
      ]
     },
     "metadata": {
      "needs_background": "light"
     },
     "output_type": "display_data"
    },
    {
     "name": "stdout",
     "output_type": "stream",
     "text": [
      "Coefficiente di correlazione di pearson è  0.39565370923447024\n",
      "Coefficiente di correlazione di spearman è  0.16853915249654042\n"
     ]
    }
   ],
   "source": [
    "# correlazione per il sensore VOC_ppm\n",
    "pearson, spearman= corr_Sensori(creazione_df(df_Dati, 'ATM10_01481', 'ATM14_01486', 'VOC_ppm' ), 'postazione_1', 'postazione_2')\n",
    "print('Coefficiente di correlazione di pearson è ', pearson)\n",
    "print('Coefficiente di correlazione di spearman è ', spearman)"
   ]
  },
  {
   "cell_type": "code",
   "execution_count": 54,
   "metadata": {},
   "outputs": [
    {
     "name": "stdout",
     "output_type": "stream",
     "text": [
      "35856\n",
      "34941\n"
     ]
    },
    {
     "data": {
      "image/png": "[encoded data removed]",
      "text/plain": [
       "<Figure size 432x288 with 1 Axes>"
      ]
     },
     "metadata": {
      "needs_background": "light"
     },
     "output_type": "display_data"
    },
    {
     "name": "stdout",
     "output_type": "stream",
     "text": [
      "Coefficiente di correlazione di pearson è  0.06102233921290272\n",
      "Coefficiente di correlazione di spearman è  0.24286269347962888\n"
     ]
    }
   ],
   "source": [
    "# correlazione per il sensore PIDVOC_ppb\n",
    "pearson, spearman= corr_Sensori(creazione_df(df_Dati, 'ATM07_01480', 'ATM14_01486', 'PIDVOC_ppb' ), 'postazione_1', 'postazione_2')\n",
    "print('Coefficiente di correlazione di pearson è ', pearson)\n",
    "print('Coefficiente di correlazione di spearman è ', spearman)"
   ]
  },
  {
   "cell_type": "code",
   "execution_count": 53,
   "metadata": {},
   "outputs": [
    {
     "name": "stdout",
     "output_type": "stream",
     "text": [
      "35230\n",
      "34941\n"
     ]
    },
    {
     "data": {
      "image/png": "[encoded data removed]",
      "text/plain": [
       "<Figure size 432x288 with 1 Axes>"
      ]
     },
     "metadata": {
      "needs_background": "light"
     },
     "output_type": "display_data"
    },
    {
     "name": "stdout",
     "output_type": "stream",
     "text": [
      "Coefficiente di correlazione di pearson è  0.03993108158081625\n",
      "Coefficiente di correlazione di spearman è  0.04800245079343487\n"
     ]
    }
   ],
   "source": [
    "# correlazione per il sensore H2S_ug_m3\n",
    "pearson, spearman= corr_Sensori(creazione_df(df_Dati, 'ATM10_01481', 'ATM14_01486', 'H2S_ug_m3' ), 'postazione_1', 'postazione_2')\n",
    "print('Coefficiente di correlazione di pearson è ', pearson)\n",
    "print('Coefficiente di correlazione di spearman è ', spearman)"
   ]
  },
  {
   "cell_type": "code",
   "execution_count": 61,
   "metadata": {},
   "outputs": [
    {
     "data": {
      "image/png": "[encoded data removed]",
      "text/plain": [
       "<Figure size 432x288 with 1 Axes>"
      ]
     },
     "metadata": {
      "needs_background": "light"
     },
     "output_type": "display_data"
    },
    {
     "name": "stdout",
     "output_type": "stream",
     "text": [
      "Coefficiente di correlazione di pearson è  -0.07863027779135932\n",
      "Coefficiente di correlazione di spearman è  -0.7744297606972596\n"
     ]
    }
   ],
   "source": [
    "# correlazione per il sensore H2SJ_ug_m3\n",
    "pearson, spearman= corr_Sensori(creazione_df(df_Dati, 'ATM10_01481', 'ATM14_01486', 'H2SJ_ug_m3' ), 'postazione_1', 'postazione_2')\n",
    "print('Coefficiente di correlazione di pearson è ', pearson)\n",
    "print('Coefficiente di correlazione di spearman è ', spearman)"
   ]
  },
  {
   "cell_type": "code",
   "execution_count": null,
   "metadata": {},
   "outputs": [],
   "source": [
    "# CORRELAZIONE 8"
   ]
  },
  {
   "cell_type": "code",
   "execution_count": null,
   "metadata": {},
   "outputs": [],
   "source": [
    "# Funzione correlazione\n",
    "def corr_Sensori(df, compound1, compound2, postazione = None):\n",
    "    if postazione != None:\n",
    "        df1 = df[df['postazione'] == postazione]\n",
    "    else:\n",
    "        df1 = df.copy()\n",
    "    df1.plot.scatter(x= compound1, y=compound2)\n",
    "    a,b = np.polyfit(df1[compound1].to_list(), df1[compound2].to_list(), 1) #Inferiamo y =ax + b\n",
    "    x1 = min(df1[compound1].to_list())\n",
    "    x2 = max(df1[compound1].to_list())\n",
    "    plt.plot([x1,x2], [a*x1 +b, a*x2 +b], color = 'red')\n",
    "    plt.show()\n",
    "    cc = np.corrcoef(df1[compound1], df1[compound2])[1,0]\n",
    "    cs = df1[[compound1, compound2]].corr(method = 'spearman')\n",
    "    return cc, cs.iloc[1,0]"
   ]
  },
  {
   "cell_type": "code",
   "execution_count": 66,
   "metadata": {},
   "outputs": [],
   "source": [
    "def creazione_df1(df, postazione1, punto, composto, df2 = None, meteo = None):\n",
    "    df_1 = df[df_Dati['postazione'] == postazione1].dropna()[composto].reset_index(drop = True).to_frame()\n",
    "    df\n",
    "    if df2 is None:\n",
    "        df_2 = df.copy()\n",
    "    else:\n",
    "        df_2 = df2.copy()\n",
    "    if meteo == None:\n",
    "        df_2 = df_2[df_Dati['postazione'] == punto].dropna()[composto].reset_index(drop = True).to_frame()\n",
    "    else:\n",
    "        df_2 = df_2[df_Dati['postazione'] == punto].dropna()[meteo].reset_index(drop = True).to_frame()\n",
    "#     print(len(df_1))\n",
    "#     print(len(df_2))\n",
    "    df_Full = pd.concat([df_1, df_2], axis=1)\n",
    "    df_Full.columns = ['postazione','punto']\n",
    "    df_Full = df_Full[['postazione','punto']].fillna(0)\n",
    "    return df_Full"
   ]
  },
  {
   "cell_type": "code",
   "execution_count": 67,
   "metadata": {},
   "outputs": [
    {
     "name": "stderr",
     "output_type": "stream",
     "text": [
      "C:\\Users\\Antonio\\AppData\\Local\\Temp\\ipykernel_6488\\571168921.py:11: UserWarning: Boolean Series key will be reindexed to match DataFrame index.\n",
      "  df_2 = df_2[df_Dati['postazione'] == punto].dropna()[meteo].reset_index(drop = True).to_frame()\n"
     ]
    }
   ],
   "source": [
    "# crea un df con una colonna postazione che riguarda la postazione del sensore e una colonna posto che riguarda\n",
    "# il posto della temperatura\n",
    "df = creazione_df1(df_Dati, 'ATM10_01481', 'ATM14_01486', 'H2SJ_ug_m3', df2 = df_DatiPuliti, meteo = 'C6H6_ug_m3' )"
   ]
  },
  {
   "cell_type": "code",
   "execution_count": 68,
   "metadata": {},
   "outputs": [
    {
     "data": {
      "image/png": "[encoded data removed]",
      "text/plain": [
       "<Figure size 432x288 with 1 Axes>"
      ]
     },
     "metadata": {
      "needs_background": "light"
     },
     "output_type": "display_data"
    },
    {
     "name": "stdout",
     "output_type": "stream",
     "text": [
      "Coefficiente di correlazione di pearson è  0.0019693769854864382\n",
      "Coefficiente di correlazione di spearman è  0.010624987235302436\n"
     ]
    }
   ],
   "source": [
    "# correlazione per la stazione X tra sensore y e temperatura\n",
    "pearson, spearman= corr_Sensori(creazione_df1(df_Dati, 'ATM05_01479', 'ATM07_01480', 'TRS_ppb' ), 'postazione_1', 'punto')\n",
    "print('Coefficiente di correlazione di pearson è ', pearson)\n",
    "print('Coefficiente di correlazione di spearman è ', spearman)"
   ]
  },
  {
   "cell_type": "code",
   "execution_count": 70,
   "metadata": {},
   "outputs": [],
   "source": [
    "postazioni = ['ATM05_01479','ATM07_01480','ATM10_01481', 'ATM14_01486']\n",
    "sensori = ['TRS_ppb','C6H6_ug_m3', 'VOC_ppm', 'PIDVOC_ppb', 'H2S_ug_m3', 'H2SJ_ug_m3']"
   ]
  },
  {
   "cell_type": "code",
   "execution_count": 71,
   "metadata": {},
   "outputs": [
    {
     "data": {
      "image/png": "[encoded data removed]",
      "text/plain": [
       "<Figure size 432x288 with 1 Axes>"
      ]
     },
     "metadata": {
      "needs_background": "light"
     },
     "output_type": "display_data"
    },
    {
     "name": "stdout",
     "output_type": "stream",
     "text": [
      "Coefficiente di correlazione di pearson è  -0.016458090259726284\n",
      "Coefficiente di correlazione di spearman è  0.2871571404036802\n"
     ]
    }
   ],
   "source": [
    "# correlazione per la stazione X tra sensore y e temperatura\n",
    "pearson, spearman= corr_Sensori(creazione_df1(df_Dati, postazioni[0], postazioni[1], sensori[3] ), 'postazione_1', 'punto')\n",
    "print('Coefficiente di correlazione di pearson è ', pearson)\n",
    "print('Coefficiente di correlazione di spearman è ', spearman)"
   ]
  }
 ],
 "metadata": {
  "colab": {
   "name": "ElaborazioneDati.ipynb",
   "provenance": []
  },
  "kernelspec": {
   "display_name": "Python 3 (ipykernel)",
   "language": "python",
   "name": "python3"
  },
  "language_info": {
   "codemirror_mode": {
    "name": "ipython",
    "version": 3
   },
   "file_extension": ".py",
   "mimetype": "text/x-python",
   "name": "python",
   "nbconvert_exporter": "python",
   "pygments_lexer": "ipython3",
   "version": "3.9.12"
  }
 },
 "nbformat": 4,
 "nbformat_minor": 1
}
