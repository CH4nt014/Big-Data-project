{
 "cells": [
  {
   "cell_type": "code",
   "execution_count": null,
   "metadata": {
    "id": "jRWos7EAz5ne",
    "scrolled": true
   },
   "outputs": [],
   "source": [
    "# Grupppo 1"
   ]
  },
  {
   "cell_type": "code",
   "execution_count": null,
   "metadata": {
    "executionInfo": {
     "elapsed": 740,
     "status": "ok",
     "timestamp": 1655304178382,
     "user": {
      "displayName": "Carmine Martinelli",
      "userId": "17979448709595778797"
     },
     "user_tz": -120
    },
    "id": "asX5o8d9AMMy",
    "scrolled": true
   },
   "outputs": [],
   "source": [
    "import pandas as pd\n",
    "import numpy as np\n",
    "import operator"
   ]
  },
  {
   "cell_type": "code",
   "execution_count": null,
   "metadata": {
    "executionInfo": {
     "elapsed": 44414,
     "status": "ok",
     "timestamp": 1655304225101,
     "user": {
      "displayName": "Carmine Martinelli",
      "userId": "17979448709595778797"
     },
     "user_tz": -120
    },
    "id": "7eM0PG6QUg8c",
    "scrolled": false
   },
   "outputs": [],
   "source": [
    "# Importa i dati dal file excel\n",
    "#Modifica la precisione nella visualizzazione delle cifre\n",
    "pd.options.display.precision = 10\n",
    "\n",
    "#Legge il csv e lo stampa\n",
    "df_DatiSensori = pd.read_excel('Dati_gruppo1.xlsx')"
   ]
  },
  {
   "cell_type": "code",
   "execution_count": null,
   "metadata": {},
   "outputs": [],
   "source": [
    "#Mostra tutte le colonne\n",
    "# pd.set_option('display.max_rows', None)# df_DatiSensori = df_DatiSensori.drop_duplicates()\n",
    "\n",
    "# crea una copia del dataset\n",
    "df_Dati = df_DatiSensori.copy()\n",
    "df_Dati"
   ]
  },
  {
   "cell_type": "code",
   "execution_count": null,
   "metadata": {},
   "outputs": [],
   "source": [
    "# elimina i valori NaN e i valori ND\n",
    "df_Dati = df_Dati[~df_Dati.TRS_stato.str.match('ND')]\n",
    "df_Dati = df_Dati.dropna().reset_index(drop=True)\n",
    "df_Dati\n",
    "# scrive il dataset su disco\n",
    "# df_DatiPuliti.to_excel('datiPuliti.xlsx')"
   ]
  },
  {
   "cell_type": "code",
   "execution_count": null,
   "metadata": {
    "scrolled": true
   },
   "outputs": [],
   "source": [
    "# PROVA\n",
    "\n",
    "df = pd.read_excel('prova.xlsx')\n",
    "pd.set_option('display.max_rows', None)\n",
    "c = []\n",
    "df1 = df['TRS_ppb']\n",
    "df1 = df1.rolling(24, min_periods=1, center=False).sum()\n",
    "for index,row in df1.to_frame().iterrows():\n",
    "#     print(row)\n",
    "    if row.TRS_ppb == 0.0: \n",
    "        c.append(index)\n",
    "\n",
    "print(c)"
   ]
  },
  {
   "cell_type": "code",
   "execution_count": null,
   "metadata": {},
   "outputs": [],
   "source": [
    "# crea un lista contenente l'indice dell'ultimo 0 in un range di 24 indici consecutivi\n",
    "count = []\n",
    "df_DTRS = df_Dati['TRS_ppb'].copy()\n",
    "df_DTRS = df_DTRS.rolling(12, min_periods=1, center=False).sum()\n",
    "for index,row in df1.to_frame().iterrows():\n",
    "    if row.TRS_ppb == 0.0: \n",
    "        count.append(index)"
   ]
  },
  {
   "cell_type": "code",
   "execution_count": null,
   "metadata": {},
   "outputs": [],
   "source": [
    "# elimina i valori duplicati a partire da 23 posizioni che si trovano prima degli indici presenti nella lista\n",
    "for i in range(len(count)):\n",
    "    df_DTRS.drop(count[count[i]-23:coun[i]], axis = 0, inplace = True)\n",
    "\n",
    "df_DTRS"
   ]
  },
  {
   "cell_type": "code",
   "execution_count": null,
   "metadata": {
    "id": "hdQ5HrWPz5nk"
   },
   "outputs": [],
   "source": [
    "#Mostra tutte le colonne\n",
    "# pd.set_option('display.max_rows', None)\n",
    "\n",
    "# dataset iniziale\n",
    "df_DatiSensori\n",
    "\n",
    "# dataset con i duplicati eliminati\n",
    "# df_DatiSensori = df_DatiSensori.drop_duplicates()"
   ]
  },
  {
   "cell_type": "code",
   "execution_count": null,
   "metadata": {},
   "outputs": [],
   "source": [
    "# Query 1"
   ]
  },
  {
   "cell_type": "code",
   "execution_count": null,
   "metadata": {
    "colab": {
     "base_uri": "https://localhost:8080/",
     "height": 424
    },
    "executionInfo": {
     "elapsed": 258,
     "status": "ok",
     "timestamp": 1655304229556,
     "user": {
      "displayName": "Carmine Martinelli",
      "userId": "17979448709595778797"
     },
     "user_tz": -120
    },
    "id": "Jp4Vpjsgz5nl",
    "outputId": "92fbd876-807c-4d8e-d24a-e0d0a2ddcc8e"
   },
   "outputs": [],
   "source": [
    "# query effettuata con un unico comando\n",
    "# df_Benzene = df_DatiSensori.sort_values(by='C6H6_ug/m3', ascending =False)[['postazione', 'Data', 'C6H6_ug/m3']].head(100)\n",
    "\n",
    "# creazione di un dataFrame ordinato in modo discendente per i valori di benzene\n",
    "df_C6H6 = df_DatiPuliti.sort_values(by='C6H6_ug/m3', ascending =False).drop_duplicates(subset=['Data'])\n",
    "# creazione di un dataFrame contenente i 100 maggiori valori di benzene\n",
    "query_C6H6 = df_C6H6[['postazione', 'Data', 'C6H6_ug/m3']]\n",
    "query_C6H6.head(100)"
   ]
  },
  {
   "cell_type": "code",
   "execution_count": null,
   "metadata": {},
   "outputs": [],
   "source": [
    "# Query 2"
   ]
  },
  {
   "cell_type": "code",
   "execution_count": null,
   "metadata": {
    "id": "J5TlwbyEz5nm",
    "scrolled": true
   },
   "outputs": [],
   "source": [
    "# sensore H2S\n",
    "\n",
    "# query effettuata con un unico comando\n",
    "# df_H2S = df_DatiSensori.sort_values(by='H2S_ug/m3', ascending =False)[['postazione', 'Data', 'H2S_ug/m3']].head(100)\n",
    "# creazione di un dataFrame ordinato in modo discendente per i valori di acido solfidrico del sensore H2S\n",
    "df_H2S = df_DatiPuliti.sort_values(by='H2S_ug/m3', ascending =False).drop_duplicates(subset=['Data'])\n",
    "# creazione di un dataFrame contenente i 100 maggiori valori di acido solfidrico del sensore H2SJ\n",
    "query_H2S = df_H2S[['postazione', 'Data', 'H2S_ug/m3', 'H2SJ_ug/m3']].head(100)\n",
    "query_H2S"
   ]
  },
  {
   "cell_type": "code",
   "execution_count": null,
   "metadata": {
    "id": "42y6B_Svz5nm",
    "scrolled": false
   },
   "outputs": [],
   "source": [
    "# sensore H2SJ\n",
    "\n",
    "# query effettuata con un unico comando\n",
    "# df_H2SJ = df_DatiSensori.sort_values(by='H2SJ_ug/m3', ascending =False)[['postazione', 'Data', 'H2SJ_ug/m3']].head(100)\n",
    "# creazione di un dataFrame ordinato in modo discendente per i valori di acido solfidrico del sensore H2SJ\n",
    "df_H2SJ = df_DatiPuliti.sort_values(by='H2SJ_ug/m3', ascending =False).drop_duplicates(subset=['Data'])\n",
    "# creazione di un dataFrame contenente i 100 maggiori valori di acido solfidrico del sensore H2SJ\n",
    "query_H2SJ = df_H2SJ[['postazione', 'Data', 'H2SJ_ug/m3']].head(100)\n",
    "query_H2SJ"
   ]
  },
  {
   "cell_type": "code",
   "execution_count": null,
   "metadata": {},
   "outputs": [],
   "source": [
    "# Query 3"
   ]
  },
  {
   "cell_type": "code",
   "execution_count": null,
   "metadata": {
    "id": "RAzMuBQWz5nn",
    "scrolled": false
   },
   "outputs": [],
   "source": [
    "# sensore VOC\n",
    "\n",
    "# query effettuata con un unico comando\n",
    "# df_VOC = df_DatiSensori.sort_values(by='VOC_ppm', ascending =True)[['postazione', 'Data', 'VOC_ppm']].head(100)\n",
    "# creazione di un dataFrame ordinato in modo discendente per i valori del sensore VOC\n",
    "df_VOC = df_DatiPuliti.sort_values(by='VOC_ppm', ascending =True).drop_duplicates(subset=['Data'])\n",
    "# creazione di un dataFrame contenente i 100 più bassi valori del sensore VOC\n",
    "query_VOC = df_VOC[['postazione', 'Data', 'VOC_ppm']].head(100)\n",
    "query_VOC"
   ]
  },
  {
   "cell_type": "code",
   "execution_count": null,
   "metadata": {
    "id": "TQcNGJiyz5no",
    "scrolled": false
   },
   "outputs": [],
   "source": [
    "# sensore PIDVOC\n",
    "\n",
    "# query effettuata con un unico comando\n",
    "# df_PIDVOC = df_DatiSensori.sort_values(by='PIDVOC_ppb', ascending =True)[['postazione', 'Data', 'PIDVOC_ppb']].head(100)\n",
    "# creazione di un dataFrame ordinato in modo discendente per i valori del sensore PIDVOC\n",
    "df_PIDVOC = df_DatiPuliti.sort_values(by='PIDVOC_ppb', ascending =True).drop_duplicates(subset=['Data'])\n",
    "# creazione di un dataFrame contenente i 100 più bassi valori del sensore PIDVOC\n",
    "query_PIDVOC = df_PIDVOC[['postazione', 'Data', 'PIDVOC_ppb']].head(100)\n",
    "query_PIDVOC"
   ]
  },
  {
   "cell_type": "code",
   "execution_count": null,
   "metadata": {
    "id": "H90_aPnbz5np"
   },
   "outputs": [],
   "source": [
    "# Query 4"
   ]
  },
  {
   "cell_type": "code",
   "execution_count": null,
   "metadata": {
    "executionInfo": {
     "elapsed": 251,
     "status": "ok",
     "timestamp": 1655304751704,
     "user": {
      "displayName": "Carmine Martinelli",
      "userId": "17979448709595778797"
     },
     "user_tz": -120
    },
    "id": "6y6LFUlgz5nq"
   },
   "outputs": [],
   "source": [
    "#Elimina i valori nulli e calcola la media oraria sul dataframe creato\n",
    "df_C6H6 = df_DatiPuliti[['Data','C6H6_ug/m3']].copy()\n",
    "df_C6H6['Data'] = pd.to_datetime(df_C6H6['Data'])\n",
    "df_C6H6 = df_C6H6[df_C6H6['C6H6_ug/m3'].notna()]\n",
    "indexName = df_C6H6[(df_C6H6['C6H6_ug/m3']==0)].index\n",
    "df_C6H6.drop(indexName, inplace = True)\n",
    "df_C6H6 = df_C6H6[['Data', 'C6H6_ug/m3']].resample(\"H\", label = 'right', on = 'Data').mean()\n",
    "df_C6H6"
   ]
  },
  {
   "cell_type": "code",
   "execution_count": null,
   "metadata": {
    "id": "wJ4C4Rr7z5nr"
   },
   "outputs": [],
   "source": [
    "# Stampa le 50 ore con i livelli di benzene più alti\n",
    "df_C6H6Max = df_C6H6.sort_values('C6H6_ug/m3', ascending = False).head(50)\n",
    "df_C6H6Max"
   ]
  },
  {
   "cell_type": "code",
   "execution_count": null,
   "metadata": {
    "id": "29GB_Un3z5nr"
   },
   "outputs": [],
   "source": [
    "# Stampa le 50 ore con i livelli di benzene più bassi\n",
    "df_C6H6Min = df_C6H6.sort_values('C6H6_ug/m3', ascending = True).head(50)\n",
    "df_C6H6Min"
   ]
  },
  {
   "cell_type": "code",
   "execution_count": null,
   "metadata": {
    "id": "fyY2GieZz5ns",
    "scrolled": true
   },
   "outputs": [],
   "source": [
    "#50 ore con il pù basso livello medio di benzene\n",
    "df_C6H6 = df_DatiPuliti[['ora','C6H6_ug/m3']].copy()\n",
    "df_ore = df_C6H6.groupby('ora').mean().sort_values(['C6H6_ug/m3'], ascending =True).head(50).reset_index()\n",
    "df_ore[['ora']]"
   ]
  },
  {
   "cell_type": "code",
   "execution_count": null,
   "metadata": {
    "id": "_K-JKaLUz5nt"
   },
   "outputs": [],
   "source": [
    "# Query 5"
   ]
  },
  {
   "cell_type": "code",
   "execution_count": null,
   "metadata": {
    "id": "_ijWhBlMz5nt"
   },
   "outputs": [],
   "source": [
    "#Elimina i valori nulli e calcola la media oraria sul dataframe creato\n",
    "df_AcidoSolf = df_DatiPuliti[['Data','H2S_ug/m3','H2SJ_ug/m3' ]].copy()\n",
    "df_AcidoSolf['Data'] = pd.to_datetime(df_AcidoSolf['Data'])\n",
    "df_AcidoSolf = df_AcidoSolf[df_AcidoSolf['H2S_ug/m3'].notna()]\n",
    "df_AcidoSolf = df_AcidoSolf[df_AcidoSolf['H2SJ_ug/m3'].notna()]\n",
    "indexName = df_AcidoSolf[(df_AcidoSolf['H2S_ug/m3']==0)].index\n",
    "indexName = df_AcidoSolf[(df_AcidoSolf['H2SJ_ug/m3']==0)].index\n",
    "df_AcidoSolf.drop(indexName, inplace = True)\n",
    "df_AcidoSolf = df_AcidoSolf[['Data', 'H2S_ug/m3', 'H2SJ_ug/m3']].resample(\"H\", label = 'right', on = 'Data').mean()\n",
    "df_AcidoSolf"
   ]
  },
  {
   "cell_type": "code",
   "execution_count": null,
   "metadata": {
    "id": "2P9kMGkGz5nu",
    "outputId": "d6a186ca-fa6c-4a82-9331-de146d23b0e2"
   },
   "outputs": [],
   "source": [
    "# Stampa le 50 ore con i livelli di acido solfidrico del sensore H2S più alti\n",
    "df_H2SMax = df_AcidoSolf[df_AcidoSolf.columns[:-1]].sort_values('H2S_ug/m3', ascending = False).head(50)\n",
    "df_H2SMax"
   ]
  },
  {
   "cell_type": "code",
   "execution_count": null,
   "metadata": {
    "id": "vif-8rM_z5nu",
    "outputId": "76f5ed23-910c-4f7b-f3cd-a6153aa37480"
   },
   "outputs": [],
   "source": [
    "# Stampa le 50 ore con i livelli di acido solfidrico del sensore H2S più basso\n",
    "df_H2SMin = df_AcidoSolf[df_AcidoSolf.columns[:-1]].sort_values('H2S_ug/m3', ascending = True).head(50)\n",
    "df_H2SMin"
   ]
  },
  {
   "cell_type": "code",
   "execution_count": null,
   "metadata": {
    "id": "sAQXorXOz5nv",
    "outputId": "730016d1-5367-4305-e72b-003e23572482"
   },
   "outputs": [],
   "source": [
    "# Stampa le 50 ore con i livelli di acido solfidrico del sensore H2SJ più alti\n",
    "df_H2SJMax = df_AcidoSolf['H2SJ_ug/m3']\n",
    "df_H2SJMax= df_H2SJMax.to_frame().sort_values('H2SJ_ug/m3', ascending = False).head(50)\n",
    "df_H2SJMax"
   ]
  },
  {
   "cell_type": "code",
   "execution_count": null,
   "metadata": {
    "id": "YFfCxcBSz5nw",
    "outputId": "2e3d8e86-eaea-4db4-a871-02df83507686"
   },
   "outputs": [],
   "source": [
    "# Stampa le 50 ore con i livelli di acido solfidrico del sensore H2SJ più bassi\n",
    "df_H2SJMin = df_AcidoSolf['H2SJ_ug/m3']\n",
    "df_H2SJMin= df_H2SJMin.to_frame().sort_values('H2SJ_ug/m3', ascending = True).head(50)\n",
    "df_H2SJMin"
   ]
  },
  {
   "cell_type": "code",
   "execution_count": null,
   "metadata": {
    "id": "juoqhY7-z5nw"
   },
   "outputs": [],
   "source": [
    "# Query 6"
   ]
  },
  {
   "cell_type": "code",
   "execution_count": null,
   "metadata": {
    "executionInfo": {
     "elapsed": 255,
     "status": "ok",
     "timestamp": 1655304361634,
     "user": {
      "displayName": "Carmine Martinelli",
      "userId": "17979448709595778797"
     },
     "user_tz": -120
    },
    "id": "jWf6C1cSz5nw",
    "scrolled": true
   },
   "outputs": [],
   "source": [
    "#Elimina i valori nulli e calcola la media oraria sul dataframe creato\n",
    "df_VOC = df_DatiPuliti[['Data','VOC_ppm','PIDVOC_ppb' ]].copy()\n",
    "df_VOC['Data'] = pd.to_datetime(df_VOC['Data'])\n",
    "df_VOC = df_VOC[df_VOC['VOC_ppm'].notna()]\n",
    "df_VOC = df_VOC[df_VOC['PIDVOC_ppb'].notna()]\n",
    "indexName = df_VOC[(df_VOC['VOC_ppm']==0)].index\n",
    "indexName = df_VOC[(df_VOC['PIDVOC_ppb']==0)].index\n",
    "df_VOC.drop(indexName, inplace = True)\n",
    "df_VOC = df_VOC[['Data', 'VOC_ppm', 'PIDVOC_ppb']].resample(\"H\", label = 'right', on = 'Data').mean()"
   ]
  },
  {
   "cell_type": "code",
   "execution_count": null,
   "metadata": {
    "id": "q8ucBSp1z5nx"
   },
   "outputs": [],
   "source": [
    "# Stampa le 50 ore con i livelli di VOC del sensore VOC più alti\n",
    "df_VOCMax = df_VOC[df_VOC.columns[:-1]].sort_values('VOC_ppm', ascending = False).head(50)\n",
    "df_VOCMax"
   ]
  },
  {
   "cell_type": "code",
   "execution_count": null,
   "metadata": {
    "id": "BSlxPad6z5ny",
    "outputId": "9dcd347b-55dc-4c9b-966c-44f9ee0bca99"
   },
   "outputs": [],
   "source": [
    "# Stampa le 50 ore con i livelli di VOC del sensore VOC più bassi\n",
    "df_VOCMin = df_VOC[df_VOC.columns[:-1]].sort_values('VOC_ppm', ascending = True).head(50)\n",
    "df_VOCMin"
   ]
  },
  {
   "cell_type": "code",
   "execution_count": null,
   "metadata": {
    "id": "ap47eeIJz5ny",
    "outputId": "8e6c2df2-f6a8-45d1-8c11-936bebcad5df"
   },
   "outputs": [],
   "source": [
    "# Stampa le 50 ore con i livelli di VOC del sensore PIDVOC più alti\n",
    "df_PIDVOCMax = df_VOC['PIDVOC_ppb']\n",
    "df_PIDVOCMax= df_PIDVOCMax.to_frame().sort_values('PIDVOC_ppb', ascending = False).head(50)\n",
    "df_PIDVOCMax"
   ]
  },
  {
   "cell_type": "code",
   "execution_count": null,
   "metadata": {
    "id": "zmmjSGmoz5ny"
   },
   "outputs": [],
   "source": [
    "# Stampa le 50 ore con i livelli di VOC del sensore PIDVOC più bassi\n",
    "df_PIDVOCMin = df_VOC['PIDVOC_ppb']\n",
    "df_PIDVOCMin= df_PIDVOCMin.to_frame().sort_values('PIDVOC_ppb', ascending = True).head(50)\n",
    "df_PIDVOCMin"
   ]
  },
  {
   "cell_type": "code",
   "execution_count": null,
   "metadata": {},
   "outputs": [],
   "source": [
    "# Creazione di un dataset per la media oraria"
   ]
  },
  {
   "cell_type": "code",
   "execution_count": null,
   "metadata": {},
   "outputs": [],
   "source": [
    "df_MediaOraria = df_C6H6.copy()\n",
    "df_MediaOraria['H2S_ug/m3'] = df_AcidoSolf['H2S_ug/m3']\n",
    "df_MediaOraria['H2SJ_ug/m3'] = df_AcidoSolf['H2SJ_ug/m3']\n",
    "df_MediaOraria['VOC_ppm'] = df_VOC['VOC_ppm']\n",
    "df_MediaOraria['PIDVOC_ppb'] = df_VOC['PIDVOC_ppb']\n",
    "df_MediaOraria.to_excel('media_oraria.xlsx')"
   ]
  },
  {
   "cell_type": "code",
   "execution_count": null,
   "metadata": {
    "id": "bQbwEz_xz5nz"
   },
   "outputs": [],
   "source": [
    "# Query 7"
   ]
  },
  {
   "cell_type": "code",
   "execution_count": null,
   "metadata": {},
   "outputs": [],
   "source": [
    "# Giornate con fallimenti ND\n",
    "df_Fail_ND = df_DatiSensori[['Data','TRS_ppb','VOC_ppm','C6H6_ug/m3','H2S_ug/m3','H2SJ_ug/m3','PIDVOC_ppb']].copy()\n",
    "df_Fail_ND['Giorno'] = pd.to_datetime(df_Fail_ND['Data'].dt.strftime('%d/%m/%Y'))\n",
    "df_Fail_ND = df_Fail_ND[(df_Fail_ND['TRS_ppb'].isna()) | (df_Fail_ND['VOC_ppm'].isna()) | (df_Fail_ND['C6H6_ug/m3'].isna()) | (df_Fail_ND['H2S_ug/m3'].isna()) | (df_Fail_ND['H2SJ_ug/m3'].isna()) | (df_Fail_ND['PIDVOC_ppb'].isna())]\n",
    "df_Fail_ND = df_Fail_ND.groupby('Giorno').count()\n",
    "df_Fail_ND"
   ]
  },
  {
   "cell_type": "code",
   "execution_count": null,
   "metadata": {},
   "outputs": [],
   "source": [
    "# Serve trovare anche le righe con 24 (144)(Praticamente per 12h della stessa giornata non ha registrato) 0 che sono comunque ND.\n",
    "df_Fail_0 = df_DatiSensori[['Data','TRS_ppb','VOC_ppm','C6H6_ug/m3','H2S_ug/m3','H2SJ_ug/m3','PIDVOC_ppb']].copy()\n",
    "df_Fail_0['Giorno'] = pd.to_datetime(df_Fail_0['Data'].dt.strftime('%d/%m/%Y'))\n",
    "df_Fail_0['TRS_ppb'].astype(float)\n",
    "df_Fail_0['VOC_ppm'].astype(float)\n",
    "df_Fail_0['C6H6_ug/m3'].astype(float)\n",
    "df_Fail_0['H2S_ug/m3'].astype(float)\n",
    "df_Fail_0['H2SJ_ug/m3'].astype(float)\n",
    "df_Fail_0['PIDVOC_ppb'].astype(float)\n",
    "df_Fail_0 = df_Fail_0[(df_Fail_0['TRS_ppb'] == 0) | (df_Fail_0['VOC_ppm'] == 0) | (df_Fail_0['C6H6_ug/m3']== 0) | (df_Fail_0['H2S_ug/m3']== 0) | (df_Fail_0['H2SJ_ug/m3']== 0) | (df_Fail_0['PIDVOC_ppb']== 0)]\n",
    "df_Fail_0 = df_Fail_0.groupby('Giorno').count()\n",
    "# df_Fail_0 = df_Fail_0[(df_Fail_0.Data >= 144)]\n",
    "df_Fail_0 = df_Fail_0[(df_Fail_0.Data >= 24)]\n",
    "df_Fail_0"
   ]
  },
  {
   "cell_type": "code",
   "execution_count": null,
   "metadata": {},
   "outputs": [],
   "source": [
    "#Unisco i dati per i fallimenti(Banale union)\n",
    "df_fail = pd.concat([df_Fail_ND, df_Fail_0])"
   ]
  },
  {
   "cell_type": "code",
   "execution_count": null,
   "metadata": {},
   "outputs": [],
   "source": [
    "#3 giorni con il maggior numero di fallimenti\n",
    "df_fail.sort_values(['Data'], ascending=False).head(3)"
   ]
  },
  {
   "cell_type": "code",
   "execution_count": null,
   "metadata": {},
   "outputs": [],
   "source": [
    "#3 giorni con il minor numero di fallimenti\n",
    "df_fail.sort_values(['Data'], ascending=True).head(3)"
   ]
  },
  {
   "cell_type": "code",
   "execution_count": null,
   "metadata": {},
   "outputs": [],
   "source": [
    "# Query 8"
   ]
  },
  {
   "cell_type": "code",
   "execution_count": null,
   "metadata": {
    "colab": {
     "base_uri": "https://localhost:8080/",
     "height": 206
    },
    "executionInfo": {
     "elapsed": 1317,
     "status": "ok",
     "timestamp": 1655309855770,
     "user": {
      "displayName": "Carmine Martinelli",
      "userId": "17979448709595778797"
     },
     "user_tz": -120
    },
    "id": "Z9ibKzKhJlNM",
    "outputId": "976f3915-25ad-433d-ac68-ffedd2aea0f3"
   },
   "outputs": [],
   "source": [
    "# 3 giornate con il minor numero di fallimenti (manca il calcolo dei 24 zeri consecutivi)\n",
    "df_Fail = df_DatiSensori[['Data','C6H6_ug/m3']].copy()\n",
    "df_Fail['Data'] = pd.to_datetime(df_Fail['Data'].dt.strftime('%d/%m/%Y'))\n",
    "df_Fail['Giorno'] = df_Fail['Data']\n",
    "df_Fail = df_Fail[df_Fail['C6H6_ug/m3'].isna()]\n",
    "df_Fail = df_Fail[(df_Fail['C6H6_ug/m3']!='0')]\n",
    "df_Fail = df_Fail.groupby('Giorno').count().sort_values('Data', ascending = True)\n",
    "df_Fail.head(3)"
   ]
  },
  {
   "cell_type": "code",
   "execution_count": null,
   "metadata": {},
   "outputs": [],
   "source": [
    "# Query 9, 10 e 11"
   ]
  },
  {
   "cell_type": "code",
   "execution_count": null,
   "metadata": {},
   "outputs": [],
   "source": [
    "# crea due liste con tutti gli inquinanti e i relativi stati\n",
    "inquinanti = ['TRS_ppb','VOC_ppm','C6H6_ug/m3','H2S_ug/m3','H2SJ_ug/m3','PIDVOC_ppb']\n",
    "stato_Inquinanti = ['TRS_stato','VOC_stato','C6H6_stato', 'H2S_stato','H2SJ_stato', 'PIDVOC_stato']"
   ]
  },
  {
   "cell_type": "code",
   "execution_count": null,
   "metadata": {},
   "outputs": [],
   "source": [
    "# crea un dataframe che contiene la somma dei fallimenti \n",
    "# oltre alle righe con 'ND' che indicano il fallimento nel trasmettere i dati, consideriamo fallimento\n",
    "# anche la presenza consecutiva massiccia di valori 0\n",
    "fails = []\n",
    "df_NFails = pd.DataFrame({'Fallimenti':np.arange(6)})\n",
    "df_NFails = pd.DataFrame({'Sensori':np.arange(6)})\n",
    "for column in range(len(inquinanti)):\n",
    "    df_Fail = df_DatiSensori[[inquinanti[column], stato_Inquinanti[column]]].copy()\n",
    "    errors = df_Fail[inquinanti[column]].ne(df_Fail[inquinanti[column]].shift()).cumsum()[df_Fail[inquinanti[column]].eq(0.0)].value_counts().ge(24).sum()\n",
    "    num_ND= df_Fail[stato_Inquinanti[column]].value_counts()[\"ND\"]\n",
    "    fails.append(num_ND + errors)\n",
    "\n",
    "df_NFails['Sensori'] = inquinanti\n",
    "df_NFails['Fallimenti'] = fails\n",
    "df_NFails\n"
   ]
  },
  {
   "cell_type": "code",
   "execution_count": null,
   "metadata": {},
   "outputs": [],
   "source": [
    "# Query 9"
   ]
  },
  {
   "cell_type": "code",
   "execution_count": null,
   "metadata": {},
   "outputs": [],
   "source": [
    "df_NFails['Dati TOT'] = len(df_DatiSensori)\n",
    "df_NFails['Media'] = df_NFails['Fallimenti'].div(len(df_DatiSensori))\n",
    "df_NFails"
   ]
  },
  {
   "cell_type": "code",
   "execution_count": null,
   "metadata": {},
   "outputs": [],
   "source": [
    "# Query 10"
   ]
  },
  {
   "cell_type": "code",
   "execution_count": null,
   "metadata": {},
   "outputs": [],
   "source": [
    "# Prende il massimo dal dataframe\n",
    "df_NFails['Fallimenti'].max()"
   ]
  },
  {
   "cell_type": "code",
   "execution_count": null,
   "metadata": {},
   "outputs": [],
   "source": [
    "# Query 11"
   ]
  },
  {
   "cell_type": "code",
   "execution_count": null,
   "metadata": {},
   "outputs": [],
   "source": [
    "# Prende il minimo dal dataframe\n",
    "df_NFails['Fallimenti'].min()"
   ]
  }
 ],
 "metadata": {
  "colab": {
   "name": "ElaborazioneDati.ipynb",
   "provenance": []
  },
  "kernelspec": {
   "display_name": "Python 3 (ipykernel)",
   "language": "python",
   "name": "python3"
  },
  "language_info": {
   "codemirror_mode": {
    "name": "ipython",
    "version": 3
   },
   "file_extension": ".py",
   "mimetype": "text/x-python",
   "name": "python",
   "nbconvert_exporter": "python",
   "pygments_lexer": "ipython3",
   "version": "3.9.12"
  }
 },
 "nbformat": 4,
 "nbformat_minor": 1
}
