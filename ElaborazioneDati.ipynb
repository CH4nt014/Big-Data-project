{
 "cells": [
  {
   "cell_type": "markdown",
   "metadata": {
    "id": "jRWos7EAz5ne",
    "scrolled": true
   },
   "source": [
    "# Import dipendeze"
   ]
  },
  {
   "cell_type": "code",
   "execution_count": null,
   "metadata": {
    "executionInfo": {
     "elapsed": 740,
     "status": "ok",
     "timestamp": 1655304178382,
     "user": {
      "displayName": "Carmine Martinelli",
      "userId": "17979448709595778797"
     },
     "user_tz": -120
    },
    "id": "asX5o8d9AMMy"
   },
   "outputs": [],
   "source": [
    "import pandas as pd\n",
    "import numpy as np\n",
    "import operator\n",
    "import matplotlib.pyplot as plt"
   ]
  },
  {
   "cell_type": "markdown",
   "metadata": {},
   "source": [
    "# Caricamento dati"
   ]
  },
  {
   "cell_type": "code",
   "execution_count": null,
   "metadata": {
    "executionInfo": {
     "elapsed": 44414,
     "status": "ok",
     "timestamp": 1655304225101,
     "user": {
      "displayName": "Carmine Martinelli",
      "userId": "17979448709595778797"
     },
     "user_tz": -120
    },
    "id": "7eM0PG6QUg8c"
   },
   "outputs": [],
   "source": [
    "#Modifica la precisione nella visualizzazione delle cifre\n",
    "pd.options.display.precision = 10\n",
    "\n",
    "## Importa i dati dal file excel\n",
    "df_DatiSensori = pd.read_excel('Dati_gruppo1.xlsx')\n",
    "\n",
    "# Mostra tutte le colonne\n",
    "# pd.set_option('display.max_rows', None)"
   ]
  },
  {
   "cell_type": "markdown",
   "metadata": {},
   "source": [
    "# Pulizia dataset"
   ]
  },
  {
   "cell_type": "code",
   "execution_count": null,
   "metadata": {},
   "outputs": [],
   "source": [
    "#Rinomina le colonne con carattersi speciali e assegna il valore di soglia \n",
    "df_DatiSensori.rename(columns = {'C6H6_ug/m3':'C6H6_ug_m3', 'H2S_ug/m3':'H2S_ug_m3', 'H2SJ_ug/m3':'H2SJ_ug_m3'}, inplace = True)\n",
    "threshold = 24\n",
    "\n",
    "# crea una copia del dataset per lavorarci\n",
    "df_Dati = df_DatiSensori.copy()"
   ]
  },
  {
   "cell_type": "code",
   "execution_count": null,
   "metadata": {},
   "outputs": [],
   "source": [
    "#Restituisce la lista con gli indici delle righe con almeno un valore di threshold di zeri consecutivi\n",
    "def find_fail(colonna, df, threshold): \n",
    "    index, dizionario = {} , {}\n",
    "    listaTagli, out  = [], []\n",
    "    df1 =df[[colonna]].copy() \n",
    "    df1[\"Somma\"] = df1.rolling(threshold).sum() \n",
    "    for i in df1.index: \n",
    "        if df1['Somma'][i] == 0: \n",
    "            index[i] = df1['Somma'][i] \n",
    "    indici = list(index.keys()) \n",
    "    for i in range(len(indici)-1): \n",
    "        if (indici[i+1] - indici[i] > 1): \n",
    "            listaTagli.append(i) \n",
    "    listaTagli.append(0) \n",
    "    listaTagli.sort() \n",
    "    for i in range(len(listaTagli)-1): \n",
    "        if i == 0: \n",
    "            dizionario[i] = indici[listaTagli[i]:listaTagli[i+1]+1] \n",
    "        else: \n",
    "            dizionario[i] = indici[listaTagli[i]+1:listaTagli[i+1]+1] \n",
    "    dizionario[len(dizionario.values())] = indici[listaTagli[-1]+1:] \n",
    "    if (len(dizionario[0]) == 0):\n",
    "        return out\n",
    "    else:\n",
    "        for key in dizionario.keys(): \n",
    "            maxIndice= dizionario[key][0] \n",
    "            minIndice = maxIndice - threshold \n",
    "            maxIndice = maxIndice + len(dizionario[key]) - 1 \n",
    "            out = out + list(np.arange(minIndice,maxIndice+1)) \n",
    "        return out"
   ]
  },
  {
   "cell_type": "code",
   "execution_count": null,
   "metadata": {},
   "outputs": [],
   "source": [
    "# creo diversi dataframe quanti sono i sensori ed effettuo il controllo sui 24 zeri consecutivi ritenuti fallimento\n",
    "# e infine effettuo il drop degli indici delle righe trovate\n",
    "dfTRS = df_Dati[['TRS_ppb', 'TRS_stato']]\n",
    "dfTRS = dfTRS.drop(find_fail('TRS_ppb', df_Dati, threshold)).reset_index()#TRS_ppb\n",
    "dfVOC = df_Dati[['VOC_ppm', 'VOC_stato']]\n",
    "dfVOC = dfVOC.drop(find_fail('VOC_ppm', df_Dati, threshold)).reset_index() #VOC\n",
    "dfC6H6 = df_Dati[['C6H6_ug_m3', 'C6H6_stato']]\n",
    "dfC6H6 = dfC6H6.drop(find_fail('C6H6_ug_m3', df_Dati, threshold)).reset_index().reset_index() #C6H6_ug/m3\n",
    "dfH2S = df_Dati[['H2S_ug_m3', 'H2S_stato']]\n",
    "dfH2S = dfH2S.drop(find_fail('H2S_ug_m3', df_Dati, threshold)).reset_index() #H2S_ug/m3\n",
    "dfH2SJ = df_Dati[['H2SJ_ug_m3', 'H2SJ_stato']]\n",
    "dfH2SJ = dfH2SJ.drop(find_fail('H2SJ_ug_m3', df_Dati, threshold)).reset_index() #H2SJ_ug/m3\n",
    "dfPIDVOC = df_Dati[['PIDVOC_ppb', 'PIDVOC_stato']]\n",
    "dfPIDVOC = dfPIDVOC.drop(find_fail('PIDVOC_ppb', df_Dati, threshold)).reset_index() #PIDVOC_ppb"
   ]
  },
  {
   "cell_type": "code",
   "execution_count": null,
   "metadata": {},
   "outputs": [],
   "source": [
    "df_DatiPuliti = pd.concat([dfTRS[['TRS_ppb', 'TRS_stato']], dfVOC[['VOC_ppm', 'VOC_stato']],\n",
    "                           dfC6H6[['C6H6_ug_m3', 'C6H6_stato']],dfH2S[['H2S_ug_m3', 'H2S_stato']],\n",
    "                           dfH2SJ[['H2SJ_ug_m3', 'H2SJ_stato']],dfPIDVOC[['PIDVOC_ppb', 'PIDVOC_stato']]], axis=1)\n",
    "# df_DatiPuliti"
   ]
  },
  {
   "cell_type": "code",
   "execution_count": null,
   "metadata": {
    "scrolled": true
   },
   "outputs": [],
   "source": [
    "# elimina i valori ND\n",
    "df_DatiPuliti = df_DatiPuliti[~df_Dati.TRS_stato.str.match('ND')]\n",
    "# df_DatiPuliti "
   ]
  },
  {
   "cell_type": "code",
   "execution_count": null,
   "metadata": {},
   "outputs": [],
   "source": [
    "# elimina i valori NaN \n",
    "df_DatiPuliti = df_Dati.dropna().reset_index(drop=True)\n",
    "# df_DatiPuliti"
   ]
  },
  {
   "cell_type": "code",
   "execution_count": null,
   "metadata": {},
   "outputs": [],
   "source": [
    "df_copia = df_DatiPuliti.copy()"
   ]
  },
  {
   "cell_type": "code",
   "execution_count": null,
   "metadata": {},
   "outputs": [],
   "source": [
    "# df_Dati\n",
    "# scrive il dataset su disco\n",
    "df_DatiPuliti.to_excel('datiPuliti.xlsx')"
   ]
  },
  {
   "cell_type": "markdown",
   "metadata": {},
   "source": [
    "# # QUERY"
   ]
  },
  {
   "cell_type": "markdown",
   "metadata": {},
   "source": [
    "# Query 1"
   ]
  },
  {
   "cell_type": "code",
   "execution_count": null,
   "metadata": {
    "colab": {
     "base_uri": "https://localhost:8080/",
     "height": 424
    },
    "executionInfo": {
     "elapsed": 258,
     "status": "ok",
     "timestamp": 1655304229556,
     "user": {
      "displayName": "Carmine Martinelli",
      "userId": "17979448709595778797"
     },
     "user_tz": -120
    },
    "id": "Jp4Vpjsgz5nl",
    "outputId": "92fbd876-807c-4d8e-d24a-e0d0a2ddcc8e",
    "pycharm": {
     "name": "#%%\n"
    }
   },
   "outputs": [],
   "source": [
    "# query effettuata con un unico comando\n",
    "\n",
    "# creazione di un dataFrame ordinato in modo discendente per i valori di benzene\n",
    "df_C6H6 = df_DatiPuliti.sort_values(by='C6H6_ug_m3', ascending =False)[['postazione', 'Data', 'C6H6_ug/m3']].head(100)\n",
    "df_C6H6.head(100)"
   ]
  },
  {
   "cell_type": "markdown",
   "metadata": {},
   "source": [
    "# Query 2"
   ]
  },
  {
   "cell_type": "code",
   "execution_count": null,
   "metadata": {
    "id": "J5TlwbyEz5nm"
   },
   "outputs": [],
   "source": [
    "# sensore H2S\n",
    "\n",
    "# creazione di un dataFrame ordinato in modo discendente per i valori di acido solfidrico del sensore H2S\n",
    "df_H2S = df_DatiPuliti.sort_values(by='H2S_ug_m3', ascending =False)[['postazione', 'Data', 'H2S_ug_m3']].head(100)\n",
    "df_H2S"
   ]
  },
  {
   "cell_type": "code",
   "execution_count": null,
   "metadata": {
    "id": "42y6B_Svz5nm"
   },
   "outputs": [],
   "source": [
    "# sensore H2SJ\n",
    "\n",
    "# creazione di un dataFrame ordinato in modo discendente per i valori di acido solfidrico del sensore H2SJ\n",
    "df_H2SJ = df_DatiPuliti.sort_values(by='H2SJ_ug_m3', ascending =False)[['postazione', 'Data', 'H2SJ_ug_m3']].head(100)\n",
    "df_H2SJ"
   ]
  },
  {
   "cell_type": "markdown",
   "metadata": {},
   "source": [
    "# Query 3"
   ]
  },
  {
   "cell_type": "code",
   "execution_count": null,
   "metadata": {
    "id": "RAzMuBQWz5nn"
   },
   "outputs": [],
   "source": [
    "# sensore VOC\n",
    "\n",
    "# creazione di un dataFrame ordinato in modo discendente per i valori del sensore VOC\n",
    "df_VOC = df_DatiPuliti.sort_values(by='VOC_ppm', ascending =True)[['postazione', 'Data', 'VOC_ppm']].head(100)\n",
    "df_VOC"
   ]
  },
  {
   "cell_type": "code",
   "execution_count": null,
   "metadata": {
    "id": "TQcNGJiyz5no"
   },
   "outputs": [],
   "source": [
    "# sensore PIDVOC\n",
    "\n",
    "# creazione di un dataFrame ordinato in modo discendente per i valori del sensore PIDVOC\n",
    "df_PIDVOC = df_DatiPuliti.sort_values(by='PIDVOC_ppb', ascending =True)[['postazione', 'Data', 'PIDVOC_ppb']].head(100)\n",
    "df_PIDVOC"
   ]
  },
  {
   "cell_type": "markdown",
   "metadata": {
    "id": "H90_aPnbz5np"
   },
   "source": [
    "# Query 4"
   ]
  },
  {
   "cell_type": "code",
   "execution_count": null,
   "metadata": {},
   "outputs": [],
   "source": [
    "# funzione che permette di eliminare i valori nulli, calcola la media oraria e restituisce un dataframe ordinato sull'ora\n",
    "def media_oraria(df, compound, postazione = None):\n",
    "    if postazione == None:\n",
    "        df1 = df[['postazione', 'Data', compound]].copy()\n",
    "    else:\n",
    "        df1 = df[['postazione', 'Data', compound]].copy()\n",
    "        df1 = df1[df1['postazione'] == postazione]\n",
    "    df1['Data'] = pd.to_datetime(df1['Data'].dt.strftime('%Y/%m/%d %H'))\n",
    "    indexName = df1[(df1[compound]==0)].index\n",
    "    df1.drop(indexName, inplace = True)\n",
    "    return df1.groupby('Data').mean()"
   ]
  },
  {
   "cell_type": "code",
   "execution_count": null,
   "metadata": {},
   "outputs": [],
   "source": [
    "df2 = media_oraria(df_DatiPuliti, 'C6H6_ug_m3', postazione = 'ATM05_01479')\n",
    "df2"
   ]
  },
  {
   "cell_type": "code",
   "execution_count": null,
   "metadata": {
    "executionInfo": {
     "elapsed": 251,
     "status": "ok",
     "timestamp": 1655304751704,
     "user": {
      "displayName": "Carmine Martinelli",
      "userId": "17979448709595778797"
     },
     "user_tz": -120
    },
    "id": "6y6LFUlgz5nq"
   },
   "outputs": [],
   "source": [
    "# Creazione di un dataframe ordinato sulla media oraria effettuato sull'intero dataset\n",
    "df_C6H6avg = media_oraria(df_DatiPuliti, 'C6H6_ug_m3')\n",
    "df_C6H6avg"
   ]
  },
  {
   "cell_type": "code",
   "execution_count": null,
   "metadata": {
    "id": "wJ4C4Rr7z5nr"
   },
   "outputs": [],
   "source": [
    "# Stampa le 50 ore con i livelli di benzene più alti\n",
    "df_C6H6Max = df_C6H6avg.sort_values('C6H6_ug_m3', ascending = False).head(50)\n",
    "df_C6H6Max"
   ]
  },
  {
   "cell_type": "code",
   "execution_count": null,
   "metadata": {
    "id": "29GB_Un3z5nr"
   },
   "outputs": [],
   "source": [
    "# Stampa le 50 ore con i livelli di benzene più bassi\n",
    "df_C6H6Min = df_C6H6avg.sort_values('C6H6_ug_m3', ascending = True).head(50)\n",
    "df_C6H6Min"
   ]
  },
  {
   "cell_type": "code",
   "execution_count": 193,
   "metadata": {},
   "outputs": [],
   "source": [
    "# SECONDO METODO\n",
    "# Creazione di un dataframe ordinato sulla media oraria effettuato su ogni stazione\n",
    "df_C6H6avgtot = pd.concat([media_oraria(df_DatiPuliti, 'C6H6_ug_m3', postazione = 'ATM05_01479')['C6H6_ug_m3'],\n",
    "                      media_oraria(df_DatiPuliti, 'C6H6_ug_m3', postazione = 'ATM07_01480')['C6H6_ug_m3'],\n",
    "                      media_oraria(df_DatiPuliti, 'C6H6_ug_m3', postazione = 'ATM10_01481')['C6H6_ug_m3'],\n",
    "                      media_oraria(df_DatiPuliti, 'C6H6_ug_m3', postazione = 'ATM14_01486')['C6H6_ug_m3']], axis=0)"
   ]
  },
  {
   "cell_type": "code",
   "execution_count": 195,
   "metadata": {
    "collapsed": true
   },
   "outputs": [
    {
     "data": {
      "text/html": [
       "<div>\n",
       "<style scoped>\n",
       "    .dataframe tbody tr th:only-of-type {\n",
       "        vertical-align: middle;\n",
       "    }\n",
       "\n",
       "    .dataframe tbody tr th {\n",
       "        vertical-align: top;\n",
       "    }\n",
       "\n",
       "    .dataframe thead th {\n",
       "        text-align: right;\n",
       "    }\n",
       "</style>\n",
       "<table border=\"1\" class=\"dataframe\">\n",
       "  <thead>\n",
       "    <tr style=\"text-align: right;\">\n",
       "      <th></th>\n",
       "      <th>C6H6_ug_m3</th>\n",
       "    </tr>\n",
       "    <tr>\n",
       "      <th>Data</th>\n",
       "      <th></th>\n",
       "    </tr>\n",
       "  </thead>\n",
       "  <tbody>\n",
       "    <tr>\n",
       "      <th>2021-07-10 13:00:00</th>\n",
       "      <td>1.4333333075</td>\n",
       "    </tr>\n",
       "    <tr>\n",
       "      <th>2021-06-23 15:00:00</th>\n",
       "      <td>1.1333333453</td>\n",
       "    </tr>\n",
       "    <tr>\n",
       "      <th>2021-11-20 16:00:00</th>\n",
       "      <td>1.1083333343</td>\n",
       "    </tr>\n",
       "    <tr>\n",
       "      <th>2021-06-23 14:00:00</th>\n",
       "      <td>1.0166666706</td>\n",
       "    </tr>\n",
       "    <tr>\n",
       "      <th>2021-06-23 16:00:00</th>\n",
       "      <td>1.0000000050</td>\n",
       "    </tr>\n",
       "    <tr>\n",
       "      <th>2021-11-07 15:00:00</th>\n",
       "      <td>0.9749999940</td>\n",
       "    </tr>\n",
       "    <tr>\n",
       "      <th>2021-11-07 12:00:00</th>\n",
       "      <td>0.9666666587</td>\n",
       "    </tr>\n",
       "    <tr>\n",
       "      <th>2021-06-29 15:00:00</th>\n",
       "      <td>0.9499999930</td>\n",
       "    </tr>\n",
       "    <tr>\n",
       "      <th>2021-11-07 13:00:00</th>\n",
       "      <td>0.9499999881</td>\n",
       "    </tr>\n",
       "    <tr>\n",
       "      <th>2021-11-07 16:00:00</th>\n",
       "      <td>0.9249999821</td>\n",
       "    </tr>\n",
       "    <tr>\n",
       "      <th>2021-06-29 14:00:00</th>\n",
       "      <td>0.9249999821</td>\n",
       "    </tr>\n",
       "    <tr>\n",
       "      <th>2021-11-07 14:00:00</th>\n",
       "      <td>0.9249999821</td>\n",
       "    </tr>\n",
       "    <tr>\n",
       "      <th>2021-06-23 13:00:00</th>\n",
       "      <td>0.9166666567</td>\n",
       "    </tr>\n",
       "    <tr>\n",
       "      <th>2021-11-04 17:00:00</th>\n",
       "      <td>0.9166666468</td>\n",
       "    </tr>\n",
       "    <tr>\n",
       "      <th>2021-11-07 11:00:00</th>\n",
       "      <td>0.9124999791</td>\n",
       "    </tr>\n",
       "    <tr>\n",
       "      <th>2021-11-06 14:00:00</th>\n",
       "      <td>0.9083333115</td>\n",
       "    </tr>\n",
       "    <tr>\n",
       "      <th>2021-06-23 12:00:00</th>\n",
       "      <td>0.8999999861</td>\n",
       "    </tr>\n",
       "    <tr>\n",
       "      <th>2021-11-05 08:00:00</th>\n",
       "      <td>0.8999999762</td>\n",
       "    </tr>\n",
       "    <tr>\n",
       "      <th>2021-11-05 15:00:00</th>\n",
       "      <td>0.8999999762</td>\n",
       "    </tr>\n",
       "    <tr>\n",
       "      <th>2021-11-05 09:00:00</th>\n",
       "      <td>0.8999999762</td>\n",
       "    </tr>\n",
       "    <tr>\n",
       "      <th>2021-11-07 17:00:00</th>\n",
       "      <td>0.8999999762</td>\n",
       "    </tr>\n",
       "    <tr>\n",
       "      <th>2021-11-05 11:00:00</th>\n",
       "      <td>0.8999999762</td>\n",
       "    </tr>\n",
       "    <tr>\n",
       "      <th>2021-11-05 12:00:00</th>\n",
       "      <td>0.8999999762</td>\n",
       "    </tr>\n",
       "    <tr>\n",
       "      <th>2021-11-05 13:00:00</th>\n",
       "      <td>0.8999999762</td>\n",
       "    </tr>\n",
       "    <tr>\n",
       "      <th>2021-11-05 10:00:00</th>\n",
       "      <td>0.8999999762</td>\n",
       "    </tr>\n",
       "    <tr>\n",
       "      <th>2021-11-05 16:00:00</th>\n",
       "      <td>0.8999999762</td>\n",
       "    </tr>\n",
       "    <tr>\n",
       "      <th>2021-11-04 15:00:00</th>\n",
       "      <td>0.8999999762</td>\n",
       "    </tr>\n",
       "    <tr>\n",
       "      <th>2021-11-05 17:00:00</th>\n",
       "      <td>0.8999999762</td>\n",
       "    </tr>\n",
       "    <tr>\n",
       "      <th>2021-11-10 10:00:00</th>\n",
       "      <td>0.8999999762</td>\n",
       "    </tr>\n",
       "    <tr>\n",
       "      <th>2021-11-04 16:00:00</th>\n",
       "      <td>0.8999999762</td>\n",
       "    </tr>\n",
       "    <tr>\n",
       "      <th>2021-11-04 18:00:00</th>\n",
       "      <td>0.8999999762</td>\n",
       "    </tr>\n",
       "    <tr>\n",
       "      <th>2021-11-05 20:00:00</th>\n",
       "      <td>0.8999999762</td>\n",
       "    </tr>\n",
       "    <tr>\n",
       "      <th>2021-11-05 21:00:00</th>\n",
       "      <td>0.8999999762</td>\n",
       "    </tr>\n",
       "    <tr>\n",
       "      <th>2021-11-07 18:00:00</th>\n",
       "      <td>0.8999999762</td>\n",
       "    </tr>\n",
       "    <tr>\n",
       "      <th>2021-11-04 23:00:00</th>\n",
       "      <td>0.8916666458</td>\n",
       "    </tr>\n",
       "    <tr>\n",
       "      <th>2021-11-06 13:00:00</th>\n",
       "      <td>0.8916666458</td>\n",
       "    </tr>\n",
       "    <tr>\n",
       "      <th>2021-11-04 10:00:00</th>\n",
       "      <td>0.8899999797</td>\n",
       "    </tr>\n",
       "    <tr>\n",
       "      <th>2021-11-07 09:00:00</th>\n",
       "      <td>0.8899999797</td>\n",
       "    </tr>\n",
       "    <tr>\n",
       "      <th>2021-11-05 22:00:00</th>\n",
       "      <td>0.8833333155</td>\n",
       "    </tr>\n",
       "    <tr>\n",
       "      <th>2021-11-04 21:00:00</th>\n",
       "      <td>0.8749999851</td>\n",
       "    </tr>\n",
       "    <tr>\n",
       "      <th>2021-11-04 19:00:00</th>\n",
       "      <td>0.8749999851</td>\n",
       "    </tr>\n",
       "    <tr>\n",
       "      <th>2021-11-04 14:00:00</th>\n",
       "      <td>0.8749999851</td>\n",
       "    </tr>\n",
       "    <tr>\n",
       "      <th>2021-11-04 08:00:00</th>\n",
       "      <td>0.8749999851</td>\n",
       "    </tr>\n",
       "    <tr>\n",
       "      <th>2021-11-07 10:00:00</th>\n",
       "      <td>0.8699999928</td>\n",
       "    </tr>\n",
       "    <tr>\n",
       "      <th>2021-11-05 23:00:00</th>\n",
       "      <td>0.8666666547</td>\n",
       "    </tr>\n",
       "    <tr>\n",
       "      <th>2021-11-05 18:00:00</th>\n",
       "      <td>0.8666666547</td>\n",
       "    </tr>\n",
       "    <tr>\n",
       "      <th>2021-11-04 20:00:00</th>\n",
       "      <td>0.8583333244</td>\n",
       "    </tr>\n",
       "    <tr>\n",
       "      <th>2021-11-05 07:00:00</th>\n",
       "      <td>0.8545454470</td>\n",
       "    </tr>\n",
       "    <tr>\n",
       "      <th>2021-11-10 11:00:00</th>\n",
       "      <td>0.8444444405</td>\n",
       "    </tr>\n",
       "    <tr>\n",
       "      <th>2021-11-05 19:00:00</th>\n",
       "      <td>0.8416666637</td>\n",
       "    </tr>\n",
       "  </tbody>\n",
       "</table>\n",
       "</div>"
      ],
      "text/plain": [
       "                       C6H6_ug_m3\n",
       "Data                             \n",
       "2021-07-10 13:00:00  1.4333333075\n",
       "2021-06-23 15:00:00  1.1333333453\n",
       "2021-11-20 16:00:00  1.1083333343\n",
       "2021-06-23 14:00:00  1.0166666706\n",
       "2021-06-23 16:00:00  1.0000000050\n",
       "2021-11-07 15:00:00  0.9749999940\n",
       "2021-11-07 12:00:00  0.9666666587\n",
       "2021-06-29 15:00:00  0.9499999930\n",
       "2021-11-07 13:00:00  0.9499999881\n",
       "2021-11-07 16:00:00  0.9249999821\n",
       "2021-06-29 14:00:00  0.9249999821\n",
       "2021-11-07 14:00:00  0.9249999821\n",
       "2021-06-23 13:00:00  0.9166666567\n",
       "2021-11-04 17:00:00  0.9166666468\n",
       "2021-11-07 11:00:00  0.9124999791\n",
       "2021-11-06 14:00:00  0.9083333115\n",
       "2021-06-23 12:00:00  0.8999999861\n",
       "2021-11-05 08:00:00  0.8999999762\n",
       "2021-11-05 15:00:00  0.8999999762\n",
       "2021-11-05 09:00:00  0.8999999762\n",
       "2021-11-07 17:00:00  0.8999999762\n",
       "2021-11-05 11:00:00  0.8999999762\n",
       "2021-11-05 12:00:00  0.8999999762\n",
       "2021-11-05 13:00:00  0.8999999762\n",
       "2021-11-05 10:00:00  0.8999999762\n",
       "2021-11-05 16:00:00  0.8999999762\n",
       "2021-11-04 15:00:00  0.8999999762\n",
       "2021-11-05 17:00:00  0.8999999762\n",
       "2021-11-10 10:00:00  0.8999999762\n",
       "2021-11-04 16:00:00  0.8999999762\n",
       "2021-11-04 18:00:00  0.8999999762\n",
       "2021-11-05 20:00:00  0.8999999762\n",
       "2021-11-05 21:00:00  0.8999999762\n",
       "2021-11-07 18:00:00  0.8999999762\n",
       "2021-11-04 23:00:00  0.8916666458\n",
       "2021-11-06 13:00:00  0.8916666458\n",
       "2021-11-04 10:00:00  0.8899999797\n",
       "2021-11-07 09:00:00  0.8899999797\n",
       "2021-11-05 22:00:00  0.8833333155\n",
       "2021-11-04 21:00:00  0.8749999851\n",
       "2021-11-04 19:00:00  0.8749999851\n",
       "2021-11-04 14:00:00  0.8749999851\n",
       "2021-11-04 08:00:00  0.8749999851\n",
       "2021-11-07 10:00:00  0.8699999928\n",
       "2021-11-05 23:00:00  0.8666666547\n",
       "2021-11-05 18:00:00  0.8666666547\n",
       "2021-11-04 20:00:00  0.8583333244\n",
       "2021-11-05 07:00:00  0.8545454470\n",
       "2021-11-10 11:00:00  0.8444444405\n",
       "2021-11-05 19:00:00  0.8416666637"
      ]
     },
     "execution_count": 195,
     "metadata": {},
     "output_type": "execute_result"
    }
   ],
   "source": [
    "# Stampa le 50 ore con i livelli di benzene più alti\n",
    "df_C6H6avgtot.to_frame().sort_values('C6H6_ug_m3', ascending = False).head(50)\n",
    "# aggiungo il drop_duplicates perche la query restituisce sempre lo stesso valore, anche se presente in diverse ore\n",
    "df_C6H6avgtot.to_frame().sort_values('C6H6_ug_m3', ascending = False).drop_duplicates(subset=['C6H6_ug_m3']).head(50)"
   ]
  },
  {
   "cell_type": "code",
   "execution_count": 196,
   "metadata": {
    "collapsed": true
   },
   "outputs": [
    {
     "data": {
      "text/html": [
       "<div>\n",
       "<style scoped>\n",
       "    .dataframe tbody tr th:only-of-type {\n",
       "        vertical-align: middle;\n",
       "    }\n",
       "\n",
       "    .dataframe tbody tr th {\n",
       "        vertical-align: top;\n",
       "    }\n",
       "\n",
       "    .dataframe thead th {\n",
       "        text-align: right;\n",
       "    }\n",
       "</style>\n",
       "<table border=\"1\" class=\"dataframe\">\n",
       "  <thead>\n",
       "    <tr style=\"text-align: right;\">\n",
       "      <th></th>\n",
       "      <th>C6H6_ug_m3</th>\n",
       "    </tr>\n",
       "    <tr>\n",
       "      <th>Data</th>\n",
       "      <th></th>\n",
       "    </tr>\n",
       "  </thead>\n",
       "  <tbody>\n",
       "    <tr>\n",
       "      <th>2021-10-18 02:00:00</th>\n",
       "      <td>0.1000000015</td>\n",
       "    </tr>\n",
       "    <tr>\n",
       "      <th>2021-10-19 02:00:00</th>\n",
       "      <td>0.1000000015</td>\n",
       "    </tr>\n",
       "    <tr>\n",
       "      <th>2021-10-19 04:00:00</th>\n",
       "      <td>0.1000000015</td>\n",
       "    </tr>\n",
       "    <tr>\n",
       "      <th>2021-10-19 05:00:00</th>\n",
       "      <td>0.1000000015</td>\n",
       "    </tr>\n",
       "    <tr>\n",
       "      <th>2021-11-17 05:00:00</th>\n",
       "      <td>0.1000000015</td>\n",
       "    </tr>\n",
       "    <tr>\n",
       "      <th>2021-11-19 08:00:00</th>\n",
       "      <td>0.1000000015</td>\n",
       "    </tr>\n",
       "    <tr>\n",
       "      <th>2021-11-19 07:00:00</th>\n",
       "      <td>0.1000000015</td>\n",
       "    </tr>\n",
       "    <tr>\n",
       "      <th>2021-10-21 01:00:00</th>\n",
       "      <td>0.1000000015</td>\n",
       "    </tr>\n",
       "    <tr>\n",
       "      <th>2021-05-18 01:00:00</th>\n",
       "      <td>0.1000000015</td>\n",
       "    </tr>\n",
       "    <tr>\n",
       "      <th>2021-10-18 04:00:00</th>\n",
       "      <td>0.1000000015</td>\n",
       "    </tr>\n",
       "    <tr>\n",
       "      <th>2021-05-19 01:00:00</th>\n",
       "      <td>0.1000000015</td>\n",
       "    </tr>\n",
       "    <tr>\n",
       "      <th>2021-04-25 03:00:00</th>\n",
       "      <td>0.1000000015</td>\n",
       "    </tr>\n",
       "    <tr>\n",
       "      <th>2021-04-25 02:00:00</th>\n",
       "      <td>0.1000000015</td>\n",
       "    </tr>\n",
       "    <tr>\n",
       "      <th>2021-11-18 22:00:00</th>\n",
       "      <td>0.1000000015</td>\n",
       "    </tr>\n",
       "    <tr>\n",
       "      <th>2021-06-01 01:00:00</th>\n",
       "      <td>0.1000000015</td>\n",
       "    </tr>\n",
       "    <tr>\n",
       "      <th>2021-11-28 01:00:00</th>\n",
       "      <td>0.1000000015</td>\n",
       "    </tr>\n",
       "    <tr>\n",
       "      <th>2021-11-27 23:00:00</th>\n",
       "      <td>0.1000000015</td>\n",
       "    </tr>\n",
       "    <tr>\n",
       "      <th>2021-11-28 02:00:00</th>\n",
       "      <td>0.1000000015</td>\n",
       "    </tr>\n",
       "    <tr>\n",
       "      <th>2021-11-27 22:00:00</th>\n",
       "      <td>0.1000000015</td>\n",
       "    </tr>\n",
       "    <tr>\n",
       "      <th>2021-11-27 13:00:00</th>\n",
       "      <td>0.1000000015</td>\n",
       "    </tr>\n",
       "    <tr>\n",
       "      <th>2021-11-28 03:00:00</th>\n",
       "      <td>0.1000000015</td>\n",
       "    </tr>\n",
       "    <tr>\n",
       "      <th>2021-11-27 21:00:00</th>\n",
       "      <td>0.1000000015</td>\n",
       "    </tr>\n",
       "    <tr>\n",
       "      <th>2021-11-27 20:00:00</th>\n",
       "      <td>0.1000000015</td>\n",
       "    </tr>\n",
       "    <tr>\n",
       "      <th>2021-11-27 19:00:00</th>\n",
       "      <td>0.1000000015</td>\n",
       "    </tr>\n",
       "    <tr>\n",
       "      <th>2021-11-27 18:00:00</th>\n",
       "      <td>0.1000000015</td>\n",
       "    </tr>\n",
       "    <tr>\n",
       "      <th>2021-11-27 17:00:00</th>\n",
       "      <td>0.1000000015</td>\n",
       "    </tr>\n",
       "    <tr>\n",
       "      <th>2021-11-27 16:00:00</th>\n",
       "      <td>0.1000000015</td>\n",
       "    </tr>\n",
       "    <tr>\n",
       "      <th>2021-11-27 15:00:00</th>\n",
       "      <td>0.1000000015</td>\n",
       "    </tr>\n",
       "    <tr>\n",
       "      <th>2021-11-27 14:00:00</th>\n",
       "      <td>0.1000000015</td>\n",
       "    </tr>\n",
       "    <tr>\n",
       "      <th>2021-11-28 00:00:00</th>\n",
       "      <td>0.1000000015</td>\n",
       "    </tr>\n",
       "    <tr>\n",
       "      <th>2021-11-27 12:00:00</th>\n",
       "      <td>0.1000000015</td>\n",
       "    </tr>\n",
       "    <tr>\n",
       "      <th>2021-11-26 23:00:00</th>\n",
       "      <td>0.1000000015</td>\n",
       "    </tr>\n",
       "    <tr>\n",
       "      <th>2021-11-26 22:00:00</th>\n",
       "      <td>0.1000000015</td>\n",
       "    </tr>\n",
       "    <tr>\n",
       "      <th>2021-11-27 00:00:00</th>\n",
       "      <td>0.1000000015</td>\n",
       "    </tr>\n",
       "    <tr>\n",
       "      <th>2021-11-27 01:00:00</th>\n",
       "      <td>0.1000000015</td>\n",
       "    </tr>\n",
       "    <tr>\n",
       "      <th>2021-11-27 02:00:00</th>\n",
       "      <td>0.1000000015</td>\n",
       "    </tr>\n",
       "    <tr>\n",
       "      <th>2021-11-27 03:00:00</th>\n",
       "      <td>0.1000000015</td>\n",
       "    </tr>\n",
       "    <tr>\n",
       "      <th>2021-11-27 04:00:00</th>\n",
       "      <td>0.1000000015</td>\n",
       "    </tr>\n",
       "    <tr>\n",
       "      <th>2021-11-26 21:00:00</th>\n",
       "      <td>0.1000000015</td>\n",
       "    </tr>\n",
       "    <tr>\n",
       "      <th>2021-11-26 20:00:00</th>\n",
       "      <td>0.1000000015</td>\n",
       "    </tr>\n",
       "    <tr>\n",
       "      <th>2021-11-27 05:00:00</th>\n",
       "      <td>0.1000000015</td>\n",
       "    </tr>\n",
       "    <tr>\n",
       "      <th>2021-11-27 11:00:00</th>\n",
       "      <td>0.1000000015</td>\n",
       "    </tr>\n",
       "    <tr>\n",
       "      <th>2021-11-20 01:00:00</th>\n",
       "      <td>0.1000000015</td>\n",
       "    </tr>\n",
       "    <tr>\n",
       "      <th>2021-11-27 06:00:00</th>\n",
       "      <td>0.1000000015</td>\n",
       "    </tr>\n",
       "    <tr>\n",
       "      <th>2021-11-27 07:00:00</th>\n",
       "      <td>0.1000000015</td>\n",
       "    </tr>\n",
       "    <tr>\n",
       "      <th>2021-11-19 23:00:00</th>\n",
       "      <td>0.1000000015</td>\n",
       "    </tr>\n",
       "    <tr>\n",
       "      <th>2021-11-19 22:00:00</th>\n",
       "      <td>0.1000000015</td>\n",
       "    </tr>\n",
       "    <tr>\n",
       "      <th>2021-11-28 04:00:00</th>\n",
       "      <td>0.1000000015</td>\n",
       "    </tr>\n",
       "    <tr>\n",
       "      <th>2021-11-27 08:00:00</th>\n",
       "      <td>0.1000000015</td>\n",
       "    </tr>\n",
       "    <tr>\n",
       "      <th>2021-11-27 09:00:00</th>\n",
       "      <td>0.1000000015</td>\n",
       "    </tr>\n",
       "  </tbody>\n",
       "</table>\n",
       "</div>"
      ],
      "text/plain": [
       "                       C6H6_ug_m3\n",
       "Data                             \n",
       "2021-10-18 02:00:00  0.1000000015\n",
       "2021-10-19 02:00:00  0.1000000015\n",
       "2021-10-19 04:00:00  0.1000000015\n",
       "2021-10-19 05:00:00  0.1000000015\n",
       "2021-11-17 05:00:00  0.1000000015\n",
       "2021-11-19 08:00:00  0.1000000015\n",
       "2021-11-19 07:00:00  0.1000000015\n",
       "2021-10-21 01:00:00  0.1000000015\n",
       "2021-05-18 01:00:00  0.1000000015\n",
       "2021-10-18 04:00:00  0.1000000015\n",
       "2021-05-19 01:00:00  0.1000000015\n",
       "2021-04-25 03:00:00  0.1000000015\n",
       "2021-04-25 02:00:00  0.1000000015\n",
       "2021-11-18 22:00:00  0.1000000015\n",
       "2021-06-01 01:00:00  0.1000000015\n",
       "2021-11-28 01:00:00  0.1000000015\n",
       "2021-11-27 23:00:00  0.1000000015\n",
       "2021-11-28 02:00:00  0.1000000015\n",
       "2021-11-27 22:00:00  0.1000000015\n",
       "2021-11-27 13:00:00  0.1000000015\n",
       "2021-11-28 03:00:00  0.1000000015\n",
       "2021-11-27 21:00:00  0.1000000015\n",
       "2021-11-27 20:00:00  0.1000000015\n",
       "2021-11-27 19:00:00  0.1000000015\n",
       "2021-11-27 18:00:00  0.1000000015\n",
       "2021-11-27 17:00:00  0.1000000015\n",
       "2021-11-27 16:00:00  0.1000000015\n",
       "2021-11-27 15:00:00  0.1000000015\n",
       "2021-11-27 14:00:00  0.1000000015\n",
       "2021-11-28 00:00:00  0.1000000015\n",
       "2021-11-27 12:00:00  0.1000000015\n",
       "2021-11-26 23:00:00  0.1000000015\n",
       "2021-11-26 22:00:00  0.1000000015\n",
       "2021-11-27 00:00:00  0.1000000015\n",
       "2021-11-27 01:00:00  0.1000000015\n",
       "2021-11-27 02:00:00  0.1000000015\n",
       "2021-11-27 03:00:00  0.1000000015\n",
       "2021-11-27 04:00:00  0.1000000015\n",
       "2021-11-26 21:00:00  0.1000000015\n",
       "2021-11-26 20:00:00  0.1000000015\n",
       "2021-11-27 05:00:00  0.1000000015\n",
       "2021-11-27 11:00:00  0.1000000015\n",
       "2021-11-20 01:00:00  0.1000000015\n",
       "2021-11-27 06:00:00  0.1000000015\n",
       "2021-11-27 07:00:00  0.1000000015\n",
       "2021-11-19 23:00:00  0.1000000015\n",
       "2021-11-19 22:00:00  0.1000000015\n",
       "2021-11-28 04:00:00  0.1000000015\n",
       "2021-11-27 08:00:00  0.1000000015\n",
       "2021-11-27 09:00:00  0.1000000015"
      ]
     },
     "execution_count": 196,
     "metadata": {},
     "output_type": "execute_result"
    }
   ],
   "source": [
    "# Stampa le 50 ore con i livelli di benzene più bassi\n",
    "df_C6H6avgtot.to_frame().sort_values('C6H6_ug_m3', ascending = True).head(50)\n",
    "# aggiungo il drop_duplicates perche la query restituisce sempre lo stesso valore, anche se presente in diverse ore\n",
    "df_C6H6avgtot.to_frame().sort_values('C6H6_ug_m3', ascending = True).drop_duplicates(subset=['C6H6_ug_m3']).head(50)"
   ]
  },
  {
   "cell_type": "markdown",
   "metadata": {
    "id": "_K-JKaLUz5nt"
   },
   "source": [
    "# Query 5"
   ]
  },
  {
   "cell_type": "markdown",
   "metadata": {},
   "source": [
    "## H2S "
   ]
  },
  {
   "cell_type": "code",
   "execution_count": null,
   "metadata": {
    "id": "_ijWhBlMz5nt"
   },
   "outputs": [],
   "source": [
    "#Elimina i valori nulli e calcola la media oraria sul dataframe creato per il sensore H2S\n",
    "df_H2Savg = media_oraria(df_DatiPuliti, 'H2S_ug_m3')"
   ]
  },
  {
   "cell_type": "code",
   "execution_count": null,
   "metadata": {
    "id": "2P9kMGkGz5nu",
    "outputId": "d6a186ca-fa6c-4a82-9331-de146d23b0e2",
    "scrolled": true
   },
   "outputs": [],
   "source": [
    "# Stampa le 50 ore con i livelli di acido solfidrico del sensore H2S più alti\n",
    "df_H2Savg.sort_values('H2S_ug_m3', ascending = False).head(50)"
   ]
  },
  {
   "cell_type": "code",
   "execution_count": null,
   "metadata": {
    "id": "vif-8rM_z5nu",
    "outputId": "76f5ed23-910c-4f7b-f3cd-a6153aa37480",
    "scrolled": true
   },
   "outputs": [],
   "source": [
    "# Stampa le 50 ore con i livelli di acido solfidrico del sensore H2S più basso\n",
    "df_H2Savg.sort_values('H2S_ug_m3', ascending = True).head(50)"
   ]
  },
  {
   "cell_type": "code",
   "execution_count": 198,
   "metadata": {},
   "outputs": [],
   "source": [
    "# SECONDO METODO\n",
    "# Creazione di un dataframe ordinato sulla media oraria effettuato su ogni stazione\n",
    "df_H2Savgtot = pd.concat([media_oraria(df_DatiPuliti, 'H2S_ug_m3', postazione = 'ATM05_01479')['H2S_ug_m3'],\n",
    "                      media_oraria(df_DatiPuliti, 'H2S_ug_m3', postazione = 'ATM07_01480')['H2S_ug_m3'],\n",
    "                      media_oraria(df_DatiPuliti, 'H2S_ug_m3', postazione = 'ATM10_01481')['H2S_ug_m3'],\n",
    "                      media_oraria(df_DatiPuliti, 'H2S_ug_m3', postazione = 'ATM14_01486')['H2S_ug_m3']], axis=0)"
   ]
  },
  {
   "cell_type": "code",
   "execution_count": 210,
   "metadata": {
    "collapsed": true
   },
   "outputs": [
    {
     "data": {
      "text/html": [
       "<div>\n",
       "<style scoped>\n",
       "    .dataframe tbody tr th:only-of-type {\n",
       "        vertical-align: middle;\n",
       "    }\n",
       "\n",
       "    .dataframe tbody tr th {\n",
       "        vertical-align: top;\n",
       "    }\n",
       "\n",
       "    .dataframe thead th {\n",
       "        text-align: right;\n",
       "    }\n",
       "</style>\n",
       "<table border=\"1\" class=\"dataframe\">\n",
       "  <thead>\n",
       "    <tr style=\"text-align: right;\">\n",
       "      <th></th>\n",
       "      <th>H2S_ug_m3</th>\n",
       "    </tr>\n",
       "    <tr>\n",
       "      <th>Data</th>\n",
       "      <th></th>\n",
       "    </tr>\n",
       "  </thead>\n",
       "  <tbody>\n",
       "    <tr>\n",
       "      <th>2021-08-11 17:00:00</th>\n",
       "      <td>107.6999988556</td>\n",
       "    </tr>\n",
       "    <tr>\n",
       "      <th>2021-07-31 18:00:00</th>\n",
       "      <td>103.4444452922</td>\n",
       "    </tr>\n",
       "    <tr>\n",
       "      <th>2021-08-11 18:00:00</th>\n",
       "      <td>95.9333330790</td>\n",
       "    </tr>\n",
       "    <tr>\n",
       "      <th>2021-07-09 16:00:00</th>\n",
       "      <td>91.8166656494</td>\n",
       "    </tr>\n",
       "    <tr>\n",
       "      <th>2021-08-11 17:00:00</th>\n",
       "      <td>87.2749989827</td>\n",
       "    </tr>\n",
       "    <tr>\n",
       "      <th>2021-08-11 17:00:00</th>\n",
       "      <td>86.6250006358</td>\n",
       "    </tr>\n",
       "    <tr>\n",
       "      <th>2021-08-11 18:00:00</th>\n",
       "      <td>85.9500007629</td>\n",
       "    </tr>\n",
       "    <tr>\n",
       "      <th>2021-07-10 17:00:00</th>\n",
       "      <td>84.9750010173</td>\n",
       "    </tr>\n",
       "    <tr>\n",
       "      <th>2021-08-11 18:00:00</th>\n",
       "      <td>83.5083338420</td>\n",
       "    </tr>\n",
       "    <tr>\n",
       "      <th>2021-07-12 16:00:00</th>\n",
       "      <td>83.3833338420</td>\n",
       "    </tr>\n",
       "    <tr>\n",
       "      <th>2021-07-27 16:00:00</th>\n",
       "      <td>81.3750000000</td>\n",
       "    </tr>\n",
       "    <tr>\n",
       "      <th>2021-07-31 19:00:00</th>\n",
       "      <td>81.2545460788</td>\n",
       "    </tr>\n",
       "    <tr>\n",
       "      <th>2021-08-10 16:00:00</th>\n",
       "      <td>80.9583320618</td>\n",
       "    </tr>\n",
       "    <tr>\n",
       "      <th>2021-07-31 17:00:00</th>\n",
       "      <td>80.8833338420</td>\n",
       "    </tr>\n",
       "    <tr>\n",
       "      <th>2021-08-01 19:00:00</th>\n",
       "      <td>80.6666679382</td>\n",
       "    </tr>\n",
       "    <tr>\n",
       "      <th>2021-08-10 17:00:00</th>\n",
       "      <td>80.5583330790</td>\n",
       "    </tr>\n",
       "    <tr>\n",
       "      <th>2021-07-27 17:00:00</th>\n",
       "      <td>79.4416669210</td>\n",
       "    </tr>\n",
       "    <tr>\n",
       "      <th>2021-07-01 19:00:00</th>\n",
       "      <td>78.7583347956</td>\n",
       "    </tr>\n",
       "    <tr>\n",
       "      <th>2021-07-31 18:00:00</th>\n",
       "      <td>78.3750000000</td>\n",
       "    </tr>\n",
       "    <tr>\n",
       "      <th>2021-06-29 17:00:00</th>\n",
       "      <td>75.9583339691</td>\n",
       "    </tr>\n",
       "    <tr>\n",
       "      <th>2021-08-11 19:00:00</th>\n",
       "      <td>75.5250008901</td>\n",
       "    </tr>\n",
       "    <tr>\n",
       "      <th>2021-07-12 17:00:00</th>\n",
       "      <td>75.5083344777</td>\n",
       "    </tr>\n",
       "    <tr>\n",
       "      <th>2021-07-31 18:00:00</th>\n",
       "      <td>73.8125000000</td>\n",
       "    </tr>\n",
       "    <tr>\n",
       "      <th>2021-07-28 17:00:00</th>\n",
       "      <td>73.5500011444</td>\n",
       "    </tr>\n",
       "    <tr>\n",
       "      <th>2021-07-28 19:00:00</th>\n",
       "      <td>73.2875003815</td>\n",
       "    </tr>\n",
       "    <tr>\n",
       "      <th>2021-06-29 17:00:00</th>\n",
       "      <td>73.2833337784</td>\n",
       "    </tr>\n",
       "    <tr>\n",
       "      <th>2021-08-01 18:00:00</th>\n",
       "      <td>73.0666662852</td>\n",
       "    </tr>\n",
       "    <tr>\n",
       "      <th>2021-06-23 16:00:00</th>\n",
       "      <td>72.7833334605</td>\n",
       "    </tr>\n",
       "    <tr>\n",
       "      <th>2021-07-01 19:00:00</th>\n",
       "      <td>72.1500005722</td>\n",
       "    </tr>\n",
       "    <tr>\n",
       "      <th>2021-07-10 16:00:00</th>\n",
       "      <td>71.9000002543</td>\n",
       "    </tr>\n",
       "    <tr>\n",
       "      <th>2021-06-27 17:00:00</th>\n",
       "      <td>71.8416684469</td>\n",
       "    </tr>\n",
       "    <tr>\n",
       "      <th>2021-07-31 19:00:00</th>\n",
       "      <td>71.4666659037</td>\n",
       "    </tr>\n",
       "    <tr>\n",
       "      <th>2021-07-13 16:00:00</th>\n",
       "      <td>70.8083333969</td>\n",
       "    </tr>\n",
       "    <tr>\n",
       "      <th>2021-06-29 17:00:00</th>\n",
       "      <td>70.4500004450</td>\n",
       "    </tr>\n",
       "    <tr>\n",
       "      <th>2021-08-12 16:00:00</th>\n",
       "      <td>70.0916671753</td>\n",
       "    </tr>\n",
       "    <tr>\n",
       "      <th>2021-07-29 16:00:00</th>\n",
       "      <td>70.0000005450</td>\n",
       "    </tr>\n",
       "    <tr>\n",
       "      <th>2021-08-01 19:00:00</th>\n",
       "      <td>69.8599998474</td>\n",
       "    </tr>\n",
       "    <tr>\n",
       "      <th>2021-07-30 19:00:00</th>\n",
       "      <td>68.6666666667</td>\n",
       "    </tr>\n",
       "    <tr>\n",
       "      <th>2021-08-11 19:00:00</th>\n",
       "      <td>68.4249995550</td>\n",
       "    </tr>\n",
       "    <tr>\n",
       "      <th>2021-08-01 20:00:00</th>\n",
       "      <td>68.3833332062</td>\n",
       "    </tr>\n",
       "    <tr>\n",
       "      <th>2021-07-13 17:00:00</th>\n",
       "      <td>68.3833325704</td>\n",
       "    </tr>\n",
       "    <tr>\n",
       "      <th>2021-08-11 16:00:00</th>\n",
       "      <td>67.2833344142</td>\n",
       "    </tr>\n",
       "    <tr>\n",
       "      <th>2021-06-27 16:00:00</th>\n",
       "      <td>66.9500004450</td>\n",
       "    </tr>\n",
       "    <tr>\n",
       "      <th>2021-07-26 19:00:00</th>\n",
       "      <td>66.6500012080</td>\n",
       "    </tr>\n",
       "    <tr>\n",
       "      <th>2021-07-09 16:00:00</th>\n",
       "      <td>66.3416673342</td>\n",
       "    </tr>\n",
       "    <tr>\n",
       "      <th>2021-07-04 19:00:00</th>\n",
       "      <td>66.2666664124</td>\n",
       "    </tr>\n",
       "    <tr>\n",
       "      <th>2021-08-12 18:00:00</th>\n",
       "      <td>66.0916671753</td>\n",
       "    </tr>\n",
       "    <tr>\n",
       "      <th>2021-07-31 19:00:00</th>\n",
       "      <td>66.0909094377</td>\n",
       "    </tr>\n",
       "    <tr>\n",
       "      <th>2021-08-11 20:00:00</th>\n",
       "      <td>65.9500004450</td>\n",
       "    </tr>\n",
       "    <tr>\n",
       "      <th>2021-07-03 17:00:00</th>\n",
       "      <td>65.6999985377</td>\n",
       "    </tr>\n",
       "  </tbody>\n",
       "</table>\n",
       "</div>"
      ],
      "text/plain": [
       "                          H2S_ug_m3\n",
       "Data                               \n",
       "2021-08-11 17:00:00  107.6999988556\n",
       "2021-07-31 18:00:00  103.4444452922\n",
       "2021-08-11 18:00:00   95.9333330790\n",
       "2021-07-09 16:00:00   91.8166656494\n",
       "2021-08-11 17:00:00   87.2749989827\n",
       "2021-08-11 17:00:00   86.6250006358\n",
       "2021-08-11 18:00:00   85.9500007629\n",
       "2021-07-10 17:00:00   84.9750010173\n",
       "2021-08-11 18:00:00   83.5083338420\n",
       "2021-07-12 16:00:00   83.3833338420\n",
       "2021-07-27 16:00:00   81.3750000000\n",
       "2021-07-31 19:00:00   81.2545460788\n",
       "2021-08-10 16:00:00   80.9583320618\n",
       "2021-07-31 17:00:00   80.8833338420\n",
       "2021-08-01 19:00:00   80.6666679382\n",
       "2021-08-10 17:00:00   80.5583330790\n",
       "2021-07-27 17:00:00   79.4416669210\n",
       "2021-07-01 19:00:00   78.7583347956\n",
       "2021-07-31 18:00:00   78.3750000000\n",
       "2021-06-29 17:00:00   75.9583339691\n",
       "2021-08-11 19:00:00   75.5250008901\n",
       "2021-07-12 17:00:00   75.5083344777\n",
       "2021-07-31 18:00:00   73.8125000000\n",
       "2021-07-28 17:00:00   73.5500011444\n",
       "2021-07-28 19:00:00   73.2875003815\n",
       "2021-06-29 17:00:00   73.2833337784\n",
       "2021-08-01 18:00:00   73.0666662852\n",
       "2021-06-23 16:00:00   72.7833334605\n",
       "2021-07-01 19:00:00   72.1500005722\n",
       "2021-07-10 16:00:00   71.9000002543\n",
       "2021-06-27 17:00:00   71.8416684469\n",
       "2021-07-31 19:00:00   71.4666659037\n",
       "2021-07-13 16:00:00   70.8083333969\n",
       "2021-06-29 17:00:00   70.4500004450\n",
       "2021-08-12 16:00:00   70.0916671753\n",
       "2021-07-29 16:00:00   70.0000005450\n",
       "2021-08-01 19:00:00   69.8599998474\n",
       "2021-07-30 19:00:00   68.6666666667\n",
       "2021-08-11 19:00:00   68.4249995550\n",
       "2021-08-01 20:00:00   68.3833332062\n",
       "2021-07-13 17:00:00   68.3833325704\n",
       "2021-08-11 16:00:00   67.2833344142\n",
       "2021-06-27 16:00:00   66.9500004450\n",
       "2021-07-26 19:00:00   66.6500012080\n",
       "2021-07-09 16:00:00   66.3416673342\n",
       "2021-07-04 19:00:00   66.2666664124\n",
       "2021-08-12 18:00:00   66.0916671753\n",
       "2021-07-31 19:00:00   66.0909094377\n",
       "2021-08-11 20:00:00   65.9500004450\n",
       "2021-07-03 17:00:00   65.6999985377"
      ]
     },
     "execution_count": 210,
     "metadata": {},
     "output_type": "execute_result"
    }
   ],
   "source": [
    "# Stampa le 50 ore con i livelli di H2S più alti\n",
    "df_H2Savgtot.to_frame().sort_values('H2S_ug_m3', ascending = False).head(50)\n",
    "# aggiungo il drop_duplicates perche la query restituisce sempre lo stesso valore, anche se presente in diverse ore\n",
    "df_H2Savgtot.to_frame().sort_values('H2S_ug_m3', ascending = False).drop_duplicates(subset=['H2S_ug_m3']).head(50)"
   ]
  },
  {
   "cell_type": "code",
   "execution_count": 208,
   "metadata": {
    "collapsed": true
   },
   "outputs": [
    {
     "data": {
      "text/html": [
       "<div>\n",
       "<style scoped>\n",
       "    .dataframe tbody tr th:only-of-type {\n",
       "        vertical-align: middle;\n",
       "    }\n",
       "\n",
       "    .dataframe tbody tr th {\n",
       "        vertical-align: top;\n",
       "    }\n",
       "\n",
       "    .dataframe thead th {\n",
       "        text-align: right;\n",
       "    }\n",
       "</style>\n",
       "<table border=\"1\" class=\"dataframe\">\n",
       "  <thead>\n",
       "    <tr style=\"text-align: right;\">\n",
       "      <th></th>\n",
       "      <th>H2S_ug_m3</th>\n",
       "    </tr>\n",
       "    <tr>\n",
       "      <th>Data</th>\n",
       "      <th></th>\n",
       "    </tr>\n",
       "  </thead>\n",
       "  <tbody>\n",
       "    <tr>\n",
       "      <th>2021-10-22 08:00:00</th>\n",
       "      <td>0.1000000015</td>\n",
       "    </tr>\n",
       "    <tr>\n",
       "      <th>2021-04-17 05:00:00</th>\n",
       "      <td>0.1166666684</td>\n",
       "    </tr>\n",
       "    <tr>\n",
       "      <th>2021-04-17 06:00:00</th>\n",
       "      <td>0.1250000019</td>\n",
       "    </tr>\n",
       "    <tr>\n",
       "      <th>2021-06-15 11:00:00</th>\n",
       "      <td>0.1333333353</td>\n",
       "    </tr>\n",
       "    <tr>\n",
       "      <th>2021-10-22 05:00:00</th>\n",
       "      <td>0.1500000022</td>\n",
       "    </tr>\n",
       "    <tr>\n",
       "      <th>2021-05-16 03:00:00</th>\n",
       "      <td>0.1666666692</td>\n",
       "    </tr>\n",
       "    <tr>\n",
       "      <th>2021-11-07 09:00:00</th>\n",
       "      <td>0.1666666716</td>\n",
       "    </tr>\n",
       "    <tr>\n",
       "      <th>2021-05-14 14:00:00</th>\n",
       "      <td>0.1800000012</td>\n",
       "    </tr>\n",
       "    <tr>\n",
       "      <th>2021-04-13 00:00:00</th>\n",
       "      <td>0.1857142895</td>\n",
       "    </tr>\n",
       "    <tr>\n",
       "      <th>2021-07-17 05:00:00</th>\n",
       "      <td>0.2000000015</td>\n",
       "    </tr>\n",
       "    <tr>\n",
       "      <th>2021-06-28 05:00:00</th>\n",
       "      <td>0.2000000030</td>\n",
       "    </tr>\n",
       "    <tr>\n",
       "      <th>2021-06-16 16:00:00</th>\n",
       "      <td>0.2000000030</td>\n",
       "    </tr>\n",
       "    <tr>\n",
       "      <th>2021-10-28 10:00:00</th>\n",
       "      <td>0.2000000055</td>\n",
       "    </tr>\n",
       "    <tr>\n",
       "      <th>2021-04-13 13:00:00</th>\n",
       "      <td>0.2000000067</td>\n",
       "    </tr>\n",
       "    <tr>\n",
       "      <th>2021-10-22 04:00:00</th>\n",
       "      <td>0.2100000061</td>\n",
       "    </tr>\n",
       "    <tr>\n",
       "      <th>2021-04-24 23:00:00</th>\n",
       "      <td>0.2166666662</td>\n",
       "    </tr>\n",
       "    <tr>\n",
       "      <th>2021-07-08 04:00:00</th>\n",
       "      <td>0.2285714298</td>\n",
       "    </tr>\n",
       "    <tr>\n",
       "      <th>2021-06-15 12:00:00</th>\n",
       "      <td>0.2499999975</td>\n",
       "    </tr>\n",
       "    <tr>\n",
       "      <th>2021-05-17 07:00:00</th>\n",
       "      <td>0.2500000019</td>\n",
       "    </tr>\n",
       "    <tr>\n",
       "      <th>2021-04-24 17:00:00</th>\n",
       "      <td>0.2500000030</td>\n",
       "    </tr>\n",
       "    <tr>\n",
       "      <th>2021-05-18 10:00:00</th>\n",
       "      <td>0.2500000037</td>\n",
       "    </tr>\n",
       "    <tr>\n",
       "      <th>2021-05-22 13:00:00</th>\n",
       "      <td>0.2500000056</td>\n",
       "    </tr>\n",
       "    <tr>\n",
       "      <th>2021-10-22 07:00:00</th>\n",
       "      <td>0.2555555519</td>\n",
       "    </tr>\n",
       "    <tr>\n",
       "      <th>2021-05-30 20:00:00</th>\n",
       "      <td>0.2571428588</td>\n",
       "    </tr>\n",
       "    <tr>\n",
       "      <th>2021-04-22 14:00:00</th>\n",
       "      <td>0.2600000039</td>\n",
       "    </tr>\n",
       "    <tr>\n",
       "      <th>2021-07-15 02:00:00</th>\n",
       "      <td>0.2666666682</td>\n",
       "    </tr>\n",
       "    <tr>\n",
       "      <th>2021-06-05 08:00:00</th>\n",
       "      <td>0.2666666731</td>\n",
       "    </tr>\n",
       "    <tr>\n",
       "      <th>2021-07-08 03:00:00</th>\n",
       "      <td>0.2700000018</td>\n",
       "    </tr>\n",
       "    <tr>\n",
       "      <th>2021-07-16 03:00:00</th>\n",
       "      <td>0.2750000041</td>\n",
       "    </tr>\n",
       "    <tr>\n",
       "      <th>2021-04-14 13:00:00</th>\n",
       "      <td>0.2799999967</td>\n",
       "    </tr>\n",
       "    <tr>\n",
       "      <th>2021-06-05 09:00:00</th>\n",
       "      <td>0.3000000007</td>\n",
       "    </tr>\n",
       "    <tr>\n",
       "      <th>2021-11-17 06:00:00</th>\n",
       "      <td>0.3000000022</td>\n",
       "    </tr>\n",
       "    <tr>\n",
       "      <th>2021-06-04 09:00:00</th>\n",
       "      <td>0.3000000045</td>\n",
       "    </tr>\n",
       "    <tr>\n",
       "      <th>2021-04-17 10:00:00</th>\n",
       "      <td>0.3000000060</td>\n",
       "    </tr>\n",
       "    <tr>\n",
       "      <th>2021-04-17 12:00:00</th>\n",
       "      <td>0.3000000070</td>\n",
       "    </tr>\n",
       "    <tr>\n",
       "      <th>2021-11-11 11:00:00</th>\n",
       "      <td>0.3000000094</td>\n",
       "    </tr>\n",
       "    <tr>\n",
       "      <th>2021-07-13 04:00:00</th>\n",
       "      <td>0.3000000119</td>\n",
       "    </tr>\n",
       "    <tr>\n",
       "      <th>2021-04-25 14:00:00</th>\n",
       "      <td>0.3125000047</td>\n",
       "    </tr>\n",
       "    <tr>\n",
       "      <th>2021-04-20 10:00:00</th>\n",
       "      <td>0.3333333308</td>\n",
       "    </tr>\n",
       "    <tr>\n",
       "      <th>2021-05-20 12:00:00</th>\n",
       "      <td>0.3333333383</td>\n",
       "    </tr>\n",
       "    <tr>\n",
       "      <th>2021-11-21 08:00:00</th>\n",
       "      <td>0.3333333458</td>\n",
       "    </tr>\n",
       "    <tr>\n",
       "      <th>2021-06-28 11:00:00</th>\n",
       "      <td>0.3500000015</td>\n",
       "    </tr>\n",
       "    <tr>\n",
       "      <th>2021-06-02 11:00:00</th>\n",
       "      <td>0.3500000071</td>\n",
       "    </tr>\n",
       "    <tr>\n",
       "      <th>2021-05-24 09:00:00</th>\n",
       "      <td>0.3666666597</td>\n",
       "    </tr>\n",
       "    <tr>\n",
       "      <th>2021-05-31 13:00:00</th>\n",
       "      <td>0.3666666696</td>\n",
       "    </tr>\n",
       "    <tr>\n",
       "      <th>2021-06-03 10:00:00</th>\n",
       "      <td>0.3666666721</td>\n",
       "    </tr>\n",
       "    <tr>\n",
       "      <th>2021-05-30 09:00:00</th>\n",
       "      <td>0.3749999981</td>\n",
       "    </tr>\n",
       "    <tr>\n",
       "      <th>2021-05-21 10:00:00</th>\n",
       "      <td>0.3800000086</td>\n",
       "    </tr>\n",
       "    <tr>\n",
       "      <th>2021-04-25 11:00:00</th>\n",
       "      <td>0.3857142893</td>\n",
       "    </tr>\n",
       "    <tr>\n",
       "      <th>2021-06-17 10:00:00</th>\n",
       "      <td>0.3999999892</td>\n",
       "    </tr>\n",
       "  </tbody>\n",
       "</table>\n",
       "</div>"
      ],
      "text/plain": [
       "                        H2S_ug_m3\n",
       "Data                             \n",
       "2021-10-22 08:00:00  0.1000000015\n",
       "2021-04-17 05:00:00  0.1166666684\n",
       "2021-04-17 06:00:00  0.1250000019\n",
       "2021-06-15 11:00:00  0.1333333353\n",
       "2021-10-22 05:00:00  0.1500000022\n",
       "2021-05-16 03:00:00  0.1666666692\n",
       "2021-11-07 09:00:00  0.1666666716\n",
       "2021-05-14 14:00:00  0.1800000012\n",
       "2021-04-13 00:00:00  0.1857142895\n",
       "2021-07-17 05:00:00  0.2000000015\n",
       "2021-06-28 05:00:00  0.2000000030\n",
       "2021-06-16 16:00:00  0.2000000030\n",
       "2021-10-28 10:00:00  0.2000000055\n",
       "2021-04-13 13:00:00  0.2000000067\n",
       "2021-10-22 04:00:00  0.2100000061\n",
       "2021-04-24 23:00:00  0.2166666662\n",
       "2021-07-08 04:00:00  0.2285714298\n",
       "2021-06-15 12:00:00  0.2499999975\n",
       "2021-05-17 07:00:00  0.2500000019\n",
       "2021-04-24 17:00:00  0.2500000030\n",
       "2021-05-18 10:00:00  0.2500000037\n",
       "2021-05-22 13:00:00  0.2500000056\n",
       "2021-10-22 07:00:00  0.2555555519\n",
       "2021-05-30 20:00:00  0.2571428588\n",
       "2021-04-22 14:00:00  0.2600000039\n",
       "2021-07-15 02:00:00  0.2666666682\n",
       "2021-06-05 08:00:00  0.2666666731\n",
       "2021-07-08 03:00:00  0.2700000018\n",
       "2021-07-16 03:00:00  0.2750000041\n",
       "2021-04-14 13:00:00  0.2799999967\n",
       "2021-06-05 09:00:00  0.3000000007\n",
       "2021-11-17 06:00:00  0.3000000022\n",
       "2021-06-04 09:00:00  0.3000000045\n",
       "2021-04-17 10:00:00  0.3000000060\n",
       "2021-04-17 12:00:00  0.3000000070\n",
       "2021-11-11 11:00:00  0.3000000094\n",
       "2021-07-13 04:00:00  0.3000000119\n",
       "2021-04-25 14:00:00  0.3125000047\n",
       "2021-04-20 10:00:00  0.3333333308\n",
       "2021-05-20 12:00:00  0.3333333383\n",
       "2021-11-21 08:00:00  0.3333333458\n",
       "2021-06-28 11:00:00  0.3500000015\n",
       "2021-06-02 11:00:00  0.3500000071\n",
       "2021-05-24 09:00:00  0.3666666597\n",
       "2021-05-31 13:00:00  0.3666666696\n",
       "2021-06-03 10:00:00  0.3666666721\n",
       "2021-05-30 09:00:00  0.3749999981\n",
       "2021-05-21 10:00:00  0.3800000086\n",
       "2021-04-25 11:00:00  0.3857142893\n",
       "2021-06-17 10:00:00  0.3999999892"
      ]
     },
     "execution_count": 208,
     "metadata": {},
     "output_type": "execute_result"
    }
   ],
   "source": [
    "# Stampa le 50 ore con i livelli di H2S più bassi\n",
    "df_H2Savgtot.to_frame().sort_values('H2S_ug_m3', ascending = True).head(50)\n",
    "# aggiungo il drop_duplicates perche la query restituisce sempre lo stesso valore, anche se presente in diverse ore\n",
    "df_H2Savgtot.to_frame().sort_values('H2S_ug_m3', ascending = True).drop_duplicates(subset=['H2S_ug_m3']).head(50)"
   ]
  },
  {
   "cell_type": "markdown",
   "metadata": {},
   "source": [
    "## H2SJ "
   ]
  },
  {
   "cell_type": "code",
   "execution_count": null,
   "metadata": {},
   "outputs": [],
   "source": [
    "#Elimina i valori nulli e calcola la media oraria sul dataframe creato per il sensore H2SJ\n",
    "df_H2SJavg = media_oraria(df_DatiPuliti, 'H2SJ_ug_m3')"
   ]
  },
  {
   "cell_type": "code",
   "execution_count": null,
   "metadata": {
    "id": "sAQXorXOz5nv",
    "outputId": "730016d1-5367-4305-e72b-003e23572482",
    "scrolled": true
   },
   "outputs": [],
   "source": [
    "# Stampa le 50 ore con i livelli di acido solfidrico del sensore H2SJ più alti\n",
    "df_H2SJavg.sort_values('H2SJ_ug_m3', ascending = False).head(50)"
   ]
  },
  {
   "cell_type": "code",
   "execution_count": null,
   "metadata": {
    "id": "YFfCxcBSz5nw",
    "outputId": "2e3d8e86-eaea-4db4-a871-02df83507686"
   },
   "outputs": [],
   "source": [
    "# Stampa le 50 ore con i livelli di acido solfidrico del sensore H2SJ più bassi\n",
    "df_H2SJMin= df_H2SJavg.sort_values('H2SJ_ug_m3', ascending = True).head(50)\n",
    "df_H2SJMin"
   ]
  },
  {
   "cell_type": "code",
   "execution_count": 201,
   "metadata": {},
   "outputs": [],
   "source": [
    "# SECONDO METODO\n",
    "# Creazione di un dataframe ordinato sulla media oraria effettuato su ogni stazione\n",
    "df_H2SJavgtot = pd.concat([media_oraria(df_DatiPuliti, 'H2SJ_ug_m3', postazione = 'ATM05_01479')['H2SJ_ug_m3'],\n",
    "                      media_oraria(df_DatiPuliti, 'H2SJ_ug_m3', postazione = 'ATM07_01480')['H2SJ_ug_m3'],\n",
    "                      media_oraria(df_DatiPuliti, 'H2SJ_ug_m3', postazione = 'ATM10_01481')['H2SJ_ug_m3'],\n",
    "                      media_oraria(df_DatiPuliti, 'H2SJ_ug_m3', postazione = 'ATM14_01486')['H2SJ_ug_m3']], axis=0)"
   ]
  },
  {
   "cell_type": "code",
   "execution_count": 209,
   "metadata": {
    "collapsed": true
   },
   "outputs": [
    {
     "data": {
      "text/html": [
       "<div>\n",
       "<style scoped>\n",
       "    .dataframe tbody tr th:only-of-type {\n",
       "        vertical-align: middle;\n",
       "    }\n",
       "\n",
       "    .dataframe tbody tr th {\n",
       "        vertical-align: top;\n",
       "    }\n",
       "\n",
       "    .dataframe thead th {\n",
       "        text-align: right;\n",
       "    }\n",
       "</style>\n",
       "<table border=\"1\" class=\"dataframe\">\n",
       "  <thead>\n",
       "    <tr style=\"text-align: right;\">\n",
       "      <th></th>\n",
       "      <th>H2SJ_ug_m3</th>\n",
       "    </tr>\n",
       "    <tr>\n",
       "      <th>Data</th>\n",
       "      <th></th>\n",
       "    </tr>\n",
       "  </thead>\n",
       "  <tbody>\n",
       "    <tr>\n",
       "      <th>2021-11-18 06:00:00</th>\n",
       "      <td>56.4000015259</td>\n",
       "    </tr>\n",
       "    <tr>\n",
       "      <th>2021-11-24 00:00:00</th>\n",
       "      <td>56.2000007629</td>\n",
       "    </tr>\n",
       "    <tr>\n",
       "      <th>2021-07-06 12:00:00</th>\n",
       "      <td>55.8000011444</td>\n",
       "    </tr>\n",
       "    <tr>\n",
       "      <th>2021-11-27 16:00:00</th>\n",
       "      <td>54.7000007629</td>\n",
       "    </tr>\n",
       "    <tr>\n",
       "      <th>2021-11-22 12:00:00</th>\n",
       "      <td>53.8500003815</td>\n",
       "    </tr>\n",
       "    <tr>\n",
       "      <th>2021-06-28 23:00:00</th>\n",
       "      <td>53.7000007629</td>\n",
       "    </tr>\n",
       "    <tr>\n",
       "      <th>2021-11-23 13:00:00</th>\n",
       "      <td>53.5000000000</td>\n",
       "    </tr>\n",
       "    <tr>\n",
       "      <th>2021-06-22 01:00:00</th>\n",
       "      <td>53.2500000000</td>\n",
       "    </tr>\n",
       "    <tr>\n",
       "      <th>2021-11-23 20:00:00</th>\n",
       "      <td>52.9000015259</td>\n",
       "    </tr>\n",
       "    <tr>\n",
       "      <th>2021-07-03 16:00:00</th>\n",
       "      <td>52.4000015259</td>\n",
       "    </tr>\n",
       "    <tr>\n",
       "      <th>2021-07-26 12:00:00</th>\n",
       "      <td>52.2999992371</td>\n",
       "    </tr>\n",
       "    <tr>\n",
       "      <th>2021-08-11 03:00:00</th>\n",
       "      <td>52.2666676839</td>\n",
       "    </tr>\n",
       "    <tr>\n",
       "      <th>2021-11-18 04:00:00</th>\n",
       "      <td>52.1499996185</td>\n",
       "    </tr>\n",
       "    <tr>\n",
       "      <th>2021-11-17 11:00:00</th>\n",
       "      <td>51.7500000000</td>\n",
       "    </tr>\n",
       "    <tr>\n",
       "      <th>2021-11-18 14:00:00</th>\n",
       "      <td>51.6800003052</td>\n",
       "    </tr>\n",
       "    <tr>\n",
       "      <th>2021-11-26 04:00:00</th>\n",
       "      <td>51.5999984741</td>\n",
       "    </tr>\n",
       "    <tr>\n",
       "      <th>2021-06-20 18:00:00</th>\n",
       "      <td>51.4000015259</td>\n",
       "    </tr>\n",
       "    <tr>\n",
       "      <th>2021-06-28 23:00:00</th>\n",
       "      <td>51.3749996821</td>\n",
       "    </tr>\n",
       "    <tr>\n",
       "      <th>2021-11-22 13:00:00</th>\n",
       "      <td>51.2999992371</td>\n",
       "    </tr>\n",
       "    <tr>\n",
       "      <th>2021-11-17 09:00:00</th>\n",
       "      <td>51.1499996185</td>\n",
       "    </tr>\n",
       "    <tr>\n",
       "      <th>2021-06-24 20:00:00</th>\n",
       "      <td>51.0000012716</td>\n",
       "    </tr>\n",
       "    <tr>\n",
       "      <th>2021-06-17 17:00:00</th>\n",
       "      <td>50.6999988556</td>\n",
       "    </tr>\n",
       "    <tr>\n",
       "      <th>2021-06-24 15:00:00</th>\n",
       "      <td>50.5500011444</td>\n",
       "    </tr>\n",
       "    <tr>\n",
       "      <th>2021-06-16 07:00:00</th>\n",
       "      <td>50.2999992371</td>\n",
       "    </tr>\n",
       "    <tr>\n",
       "      <th>2021-06-24 00:00:00</th>\n",
       "      <td>50.2749996185</td>\n",
       "    </tr>\n",
       "    <tr>\n",
       "      <th>2021-11-22 02:00:00</th>\n",
       "      <td>50.2666664124</td>\n",
       "    </tr>\n",
       "    <tr>\n",
       "      <th>2021-10-18 03:00:00</th>\n",
       "      <td>50.0999984741</td>\n",
       "    </tr>\n",
       "    <tr>\n",
       "      <th>2021-06-26 13:00:00</th>\n",
       "      <td>50.0000000000</td>\n",
       "    </tr>\n",
       "    <tr>\n",
       "      <th>2021-07-09 20:00:00</th>\n",
       "      <td>49.6499996185</td>\n",
       "    </tr>\n",
       "    <tr>\n",
       "      <th>2021-06-27 19:00:00</th>\n",
       "      <td>49.6333325704</td>\n",
       "    </tr>\n",
       "    <tr>\n",
       "      <th>2021-06-23 21:00:00</th>\n",
       "      <td>49.6249990463</td>\n",
       "    </tr>\n",
       "    <tr>\n",
       "      <th>2021-07-16 09:00:00</th>\n",
       "      <td>49.5999984741</td>\n",
       "    </tr>\n",
       "    <tr>\n",
       "      <th>2021-07-26 15:00:00</th>\n",
       "      <td>49.4857134138</td>\n",
       "    </tr>\n",
       "    <tr>\n",
       "      <th>2021-07-02 15:00:00</th>\n",
       "      <td>49.4666659037</td>\n",
       "    </tr>\n",
       "    <tr>\n",
       "      <th>2021-06-16 09:00:00</th>\n",
       "      <td>49.4499988556</td>\n",
       "    </tr>\n",
       "    <tr>\n",
       "      <th>2021-07-31 17:00:00</th>\n",
       "      <td>49.3999996185</td>\n",
       "    </tr>\n",
       "    <tr>\n",
       "      <th>2021-07-30 15:00:00</th>\n",
       "      <td>49.3199989319</td>\n",
       "    </tr>\n",
       "    <tr>\n",
       "      <th>2021-08-12 09:00:00</th>\n",
       "      <td>49.2999992371</td>\n",
       "    </tr>\n",
       "    <tr>\n",
       "      <th>2021-07-01 15:00:00</th>\n",
       "      <td>49.2666676839</td>\n",
       "    </tr>\n",
       "    <tr>\n",
       "      <th>2021-11-22 16:00:00</th>\n",
       "      <td>49.2500000000</td>\n",
       "    </tr>\n",
       "    <tr>\n",
       "      <th>2021-07-28 22:00:00</th>\n",
       "      <td>49.2199996948</td>\n",
       "    </tr>\n",
       "    <tr>\n",
       "      <th>2021-08-10 06:00:00</th>\n",
       "      <td>49.2000007629</td>\n",
       "    </tr>\n",
       "    <tr>\n",
       "      <th>2021-06-26 18:00:00</th>\n",
       "      <td>49.1799995422</td>\n",
       "    </tr>\n",
       "    <tr>\n",
       "      <th>2021-08-13 12:00:00</th>\n",
       "      <td>49.0799995422</td>\n",
       "    </tr>\n",
       "    <tr>\n",
       "      <th>2021-07-28 17:00:00</th>\n",
       "      <td>49.0750007629</td>\n",
       "    </tr>\n",
       "    <tr>\n",
       "      <th>2021-06-29 12:00:00</th>\n",
       "      <td>49.0666669210</td>\n",
       "    </tr>\n",
       "    <tr>\n",
       "      <th>2021-06-20 20:00:00</th>\n",
       "      <td>49.0249996185</td>\n",
       "    </tr>\n",
       "    <tr>\n",
       "      <th>2021-11-22 15:00:00</th>\n",
       "      <td>48.9666659037</td>\n",
       "    </tr>\n",
       "    <tr>\n",
       "      <th>2021-07-04 12:00:00</th>\n",
       "      <td>48.9499988556</td>\n",
       "    </tr>\n",
       "    <tr>\n",
       "      <th>2021-07-07 14:00:00</th>\n",
       "      <td>48.8333320618</td>\n",
       "    </tr>\n",
       "  </tbody>\n",
       "</table>\n",
       "</div>"
      ],
      "text/plain": [
       "                        H2SJ_ug_m3\n",
       "Data                              \n",
       "2021-11-18 06:00:00  56.4000015259\n",
       "2021-11-24 00:00:00  56.2000007629\n",
       "2021-07-06 12:00:00  55.8000011444\n",
       "2021-11-27 16:00:00  54.7000007629\n",
       "2021-11-22 12:00:00  53.8500003815\n",
       "2021-06-28 23:00:00  53.7000007629\n",
       "2021-11-23 13:00:00  53.5000000000\n",
       "2021-06-22 01:00:00  53.2500000000\n",
       "2021-11-23 20:00:00  52.9000015259\n",
       "2021-07-03 16:00:00  52.4000015259\n",
       "2021-07-26 12:00:00  52.2999992371\n",
       "2021-08-11 03:00:00  52.2666676839\n",
       "2021-11-18 04:00:00  52.1499996185\n",
       "2021-11-17 11:00:00  51.7500000000\n",
       "2021-11-18 14:00:00  51.6800003052\n",
       "2021-11-26 04:00:00  51.5999984741\n",
       "2021-06-20 18:00:00  51.4000015259\n",
       "2021-06-28 23:00:00  51.3749996821\n",
       "2021-11-22 13:00:00  51.2999992371\n",
       "2021-11-17 09:00:00  51.1499996185\n",
       "2021-06-24 20:00:00  51.0000012716\n",
       "2021-06-17 17:00:00  50.6999988556\n",
       "2021-06-24 15:00:00  50.5500011444\n",
       "2021-06-16 07:00:00  50.2999992371\n",
       "2021-06-24 00:00:00  50.2749996185\n",
       "2021-11-22 02:00:00  50.2666664124\n",
       "2021-10-18 03:00:00  50.0999984741\n",
       "2021-06-26 13:00:00  50.0000000000\n",
       "2021-07-09 20:00:00  49.6499996185\n",
       "2021-06-27 19:00:00  49.6333325704\n",
       "2021-06-23 21:00:00  49.6249990463\n",
       "2021-07-16 09:00:00  49.5999984741\n",
       "2021-07-26 15:00:00  49.4857134138\n",
       "2021-07-02 15:00:00  49.4666659037\n",
       "2021-06-16 09:00:00  49.4499988556\n",
       "2021-07-31 17:00:00  49.3999996185\n",
       "2021-07-30 15:00:00  49.3199989319\n",
       "2021-08-12 09:00:00  49.2999992371\n",
       "2021-07-01 15:00:00  49.2666676839\n",
       "2021-11-22 16:00:00  49.2500000000\n",
       "2021-07-28 22:00:00  49.2199996948\n",
       "2021-08-10 06:00:00  49.2000007629\n",
       "2021-06-26 18:00:00  49.1799995422\n",
       "2021-08-13 12:00:00  49.0799995422\n",
       "2021-07-28 17:00:00  49.0750007629\n",
       "2021-06-29 12:00:00  49.0666669210\n",
       "2021-06-20 20:00:00  49.0249996185\n",
       "2021-11-22 15:00:00  48.9666659037\n",
       "2021-07-04 12:00:00  48.9499988556\n",
       "2021-07-07 14:00:00  48.8333320618"
      ]
     },
     "execution_count": 209,
     "metadata": {},
     "output_type": "execute_result"
    }
   ],
   "source": [
    "# Stampa le 50 ore con i livelli di H2SJ più alti\n",
    "df_H2SJavgtot.to_frame().sort_values('H2SJ_ug_m3', ascending = False).head(50)\n",
    "# aggiungo il drop_duplicates perche la query restituisce sempre lo stesso valore, anche se presente in diverse ore\n",
    "df_H2SJavgtot.to_frame().sort_values('H2SJ_ug_m3', ascending = False).drop_duplicates(subset=['H2SJ_ug_m3']).head(50)"
   ]
  },
  {
   "cell_type": "code",
   "execution_count": 206,
   "metadata": {
    "scrolled": true
   },
   "outputs": [
    {
     "data": {
      "text/html": [
       "<div>\n",
       "<style scoped>\n",
       "    .dataframe tbody tr th:only-of-type {\n",
       "        vertical-align: middle;\n",
       "    }\n",
       "\n",
       "    .dataframe tbody tr th {\n",
       "        vertical-align: top;\n",
       "    }\n",
       "\n",
       "    .dataframe thead th {\n",
       "        text-align: right;\n",
       "    }\n",
       "</style>\n",
       "<table border=\"1\" class=\"dataframe\">\n",
       "  <thead>\n",
       "    <tr style=\"text-align: right;\">\n",
       "      <th></th>\n",
       "      <th>H2SJ_ug_m3</th>\n",
       "    </tr>\n",
       "    <tr>\n",
       "      <th>Data</th>\n",
       "      <th></th>\n",
       "    </tr>\n",
       "  </thead>\n",
       "  <tbody>\n",
       "    <tr>\n",
       "      <th>2021-04-22 09:00:00</th>\n",
       "      <td>0.1000000015</td>\n",
       "    </tr>\n",
       "    <tr>\n",
       "      <th>2021-06-18 01:00:00</th>\n",
       "      <td>0.1000000015</td>\n",
       "    </tr>\n",
       "    <tr>\n",
       "      <th>2021-07-02 00:00:00</th>\n",
       "      <td>0.1083333349</td>\n",
       "    </tr>\n",
       "    <tr>\n",
       "      <th>2021-06-18 03:00:00</th>\n",
       "      <td>0.1090909107</td>\n",
       "    </tr>\n",
       "    <tr>\n",
       "      <th>2021-04-24 05:00:00</th>\n",
       "      <td>0.1100000016</td>\n",
       "    </tr>\n",
       "    <tr>\n",
       "      <th>2021-11-09 06:00:00</th>\n",
       "      <td>0.1111111128</td>\n",
       "    </tr>\n",
       "    <tr>\n",
       "      <th>2021-10-31 03:00:00</th>\n",
       "      <td>0.1125000017</td>\n",
       "    </tr>\n",
       "    <tr>\n",
       "      <th>2021-11-01 14:00:00</th>\n",
       "      <td>0.1142857160</td>\n",
       "    </tr>\n",
       "    <tr>\n",
       "      <th>2021-04-19 21:00:00</th>\n",
       "      <td>0.1166666684</td>\n",
       "    </tr>\n",
       "    <tr>\n",
       "      <th>2021-04-22 20:00:00</th>\n",
       "      <td>0.1166666690</td>\n",
       "    </tr>\n",
       "    <tr>\n",
       "      <th>2021-11-04 17:00:00</th>\n",
       "      <td>0.1181818199</td>\n",
       "    </tr>\n",
       "    <tr>\n",
       "      <th>2021-04-17 17:00:00</th>\n",
       "      <td>0.1181818206</td>\n",
       "    </tr>\n",
       "    <tr>\n",
       "      <th>2021-06-15 00:00:00</th>\n",
       "      <td>0.1200000018</td>\n",
       "    </tr>\n",
       "    <tr>\n",
       "      <th>2021-07-02 01:00:00</th>\n",
       "      <td>0.1200000025</td>\n",
       "    </tr>\n",
       "    <tr>\n",
       "      <th>2021-11-04 10:00:00</th>\n",
       "      <td>0.1222222240</td>\n",
       "    </tr>\n",
       "    <tr>\n",
       "      <th>2021-04-13 18:00:00</th>\n",
       "      <td>0.1250000019</td>\n",
       "    </tr>\n",
       "    <tr>\n",
       "      <th>2021-11-08 11:00:00</th>\n",
       "      <td>0.1250000019</td>\n",
       "    </tr>\n",
       "    <tr>\n",
       "      <th>2021-10-25 03:00:00</th>\n",
       "      <td>0.1250000028</td>\n",
       "    </tr>\n",
       "    <tr>\n",
       "      <th>2021-04-14 06:00:00</th>\n",
       "      <td>0.1272727292</td>\n",
       "    </tr>\n",
       "    <tr>\n",
       "      <th>2021-10-25 05:00:00</th>\n",
       "      <td>0.1272727298</td>\n",
       "    </tr>\n",
       "    <tr>\n",
       "      <th>2021-11-03 04:00:00</th>\n",
       "      <td>0.1285714305</td>\n",
       "    </tr>\n",
       "    <tr>\n",
       "      <th>2021-10-24 07:00:00</th>\n",
       "      <td>0.1300000019</td>\n",
       "    </tr>\n",
       "    <tr>\n",
       "      <th>2021-10-25 00:00:00</th>\n",
       "      <td>0.1300000027</td>\n",
       "    </tr>\n",
       "    <tr>\n",
       "      <th>2021-04-23 23:00:00</th>\n",
       "      <td>0.1333333353</td>\n",
       "    </tr>\n",
       "    <tr>\n",
       "      <th>2021-10-22 20:00:00</th>\n",
       "      <td>0.1333333353</td>\n",
       "    </tr>\n",
       "    <tr>\n",
       "      <th>2021-06-16 05:00:00</th>\n",
       "      <td>0.1333333359</td>\n",
       "    </tr>\n",
       "    <tr>\n",
       "      <th>2021-11-04 12:00:00</th>\n",
       "      <td>0.1333333361</td>\n",
       "    </tr>\n",
       "    <tr>\n",
       "      <th>2021-11-03 00:00:00</th>\n",
       "      <td>0.1333333366</td>\n",
       "    </tr>\n",
       "    <tr>\n",
       "      <th>2021-11-12 17:00:00</th>\n",
       "      <td>0.1363636384</td>\n",
       "    </tr>\n",
       "    <tr>\n",
       "      <th>2021-06-17 05:00:00</th>\n",
       "      <td>0.1363636391</td>\n",
       "    </tr>\n",
       "    <tr>\n",
       "      <th>2021-11-10 20:00:00</th>\n",
       "      <td>0.1375000020</td>\n",
       "    </tr>\n",
       "    <tr>\n",
       "      <th>2021-04-18 20:00:00</th>\n",
       "      <td>0.1400000021</td>\n",
       "    </tr>\n",
       "    <tr>\n",
       "      <th>2021-11-09 00:00:00</th>\n",
       "      <td>0.1400000028</td>\n",
       "    </tr>\n",
       "    <tr>\n",
       "      <th>2021-10-22 05:00:00</th>\n",
       "      <td>0.1416666688</td>\n",
       "    </tr>\n",
       "    <tr>\n",
       "      <th>2021-11-10 18:00:00</th>\n",
       "      <td>0.1416666694</td>\n",
       "    </tr>\n",
       "    <tr>\n",
       "      <th>2021-10-24 22:00:00</th>\n",
       "      <td>0.1428571450</td>\n",
       "    </tr>\n",
       "    <tr>\n",
       "      <th>2021-04-20 19:00:00</th>\n",
       "      <td>0.1444444466</td>\n",
       "    </tr>\n",
       "    <tr>\n",
       "      <th>2021-11-03 03:00:00</th>\n",
       "      <td>0.1444444474</td>\n",
       "    </tr>\n",
       "    <tr>\n",
       "      <th>2021-06-28 02:00:00</th>\n",
       "      <td>0.1444444483</td>\n",
       "    </tr>\n",
       "    <tr>\n",
       "      <th>2021-05-16 15:00:00</th>\n",
       "      <td>0.1454545476</td>\n",
       "    </tr>\n",
       "    <tr>\n",
       "      <th>2021-04-23 17:00:00</th>\n",
       "      <td>0.1454545483</td>\n",
       "    </tr>\n",
       "    <tr>\n",
       "      <th>2021-04-23 16:00:00</th>\n",
       "      <td>0.1454545483</td>\n",
       "    </tr>\n",
       "    <tr>\n",
       "      <th>2021-11-09 11:00:00</th>\n",
       "      <td>0.1500000022</td>\n",
       "    </tr>\n",
       "    <tr>\n",
       "      <th>2021-04-22 14:00:00</th>\n",
       "      <td>0.1500000029</td>\n",
       "    </tr>\n",
       "    <tr>\n",
       "      <th>2021-07-06 12:00:00</th>\n",
       "      <td>0.1500000030</td>\n",
       "    </tr>\n",
       "    <tr>\n",
       "      <th>2021-06-20 21:00:00</th>\n",
       "      <td>0.1500000032</td>\n",
       "    </tr>\n",
       "    <tr>\n",
       "      <th>2021-11-11 15:00:00</th>\n",
       "      <td>0.1500000035</td>\n",
       "    </tr>\n",
       "    <tr>\n",
       "      <th>2021-10-31 02:00:00</th>\n",
       "      <td>0.1500000037</td>\n",
       "    </tr>\n",
       "    <tr>\n",
       "      <th>2021-10-20 22:00:00</th>\n",
       "      <td>0.1500000041</td>\n",
       "    </tr>\n",
       "    <tr>\n",
       "      <th>2021-04-17 11:00:00</th>\n",
       "      <td>0.1545454568</td>\n",
       "    </tr>\n",
       "  </tbody>\n",
       "</table>\n",
       "</div>"
      ],
      "text/plain": [
       "                       H2SJ_ug_m3\n",
       "Data                             \n",
       "2021-04-22 09:00:00  0.1000000015\n",
       "2021-06-18 01:00:00  0.1000000015\n",
       "2021-07-02 00:00:00  0.1083333349\n",
       "2021-06-18 03:00:00  0.1090909107\n",
       "2021-04-24 05:00:00  0.1100000016\n",
       "2021-11-09 06:00:00  0.1111111128\n",
       "2021-10-31 03:00:00  0.1125000017\n",
       "2021-11-01 14:00:00  0.1142857160\n",
       "2021-04-19 21:00:00  0.1166666684\n",
       "2021-04-22 20:00:00  0.1166666690\n",
       "2021-11-04 17:00:00  0.1181818199\n",
       "2021-04-17 17:00:00  0.1181818206\n",
       "2021-06-15 00:00:00  0.1200000018\n",
       "2021-07-02 01:00:00  0.1200000025\n",
       "2021-11-04 10:00:00  0.1222222240\n",
       "2021-04-13 18:00:00  0.1250000019\n",
       "2021-11-08 11:00:00  0.1250000019\n",
       "2021-10-25 03:00:00  0.1250000028\n",
       "2021-04-14 06:00:00  0.1272727292\n",
       "2021-10-25 05:00:00  0.1272727298\n",
       "2021-11-03 04:00:00  0.1285714305\n",
       "2021-10-24 07:00:00  0.1300000019\n",
       "2021-10-25 00:00:00  0.1300000027\n",
       "2021-04-23 23:00:00  0.1333333353\n",
       "2021-10-22 20:00:00  0.1333333353\n",
       "2021-06-16 05:00:00  0.1333333359\n",
       "2021-11-04 12:00:00  0.1333333361\n",
       "2021-11-03 00:00:00  0.1333333366\n",
       "2021-11-12 17:00:00  0.1363636384\n",
       "2021-06-17 05:00:00  0.1363636391\n",
       "2021-11-10 20:00:00  0.1375000020\n",
       "2021-04-18 20:00:00  0.1400000021\n",
       "2021-11-09 00:00:00  0.1400000028\n",
       "2021-10-22 05:00:00  0.1416666688\n",
       "2021-11-10 18:00:00  0.1416666694\n",
       "2021-10-24 22:00:00  0.1428571450\n",
       "2021-04-20 19:00:00  0.1444444466\n",
       "2021-11-03 03:00:00  0.1444444474\n",
       "2021-06-28 02:00:00  0.1444444483\n",
       "2021-05-16 15:00:00  0.1454545476\n",
       "2021-04-23 17:00:00  0.1454545483\n",
       "2021-04-23 16:00:00  0.1454545483\n",
       "2021-11-09 11:00:00  0.1500000022\n",
       "2021-04-22 14:00:00  0.1500000029\n",
       "2021-07-06 12:00:00  0.1500000030\n",
       "2021-06-20 21:00:00  0.1500000032\n",
       "2021-11-11 15:00:00  0.1500000035\n",
       "2021-10-31 02:00:00  0.1500000037\n",
       "2021-10-20 22:00:00  0.1500000041\n",
       "2021-04-17 11:00:00  0.1545454568"
      ]
     },
     "execution_count": 206,
     "metadata": {},
     "output_type": "execute_result"
    }
   ],
   "source": [
    "# Stampa le 50 ore con i livelli di H2SJ più alti\n",
    "df_H2SJavgtot.to_frame().sort_values('H2SJ_ug_m3', ascending = True).head(50)\n",
    "# aggiungo il drop_duplicates perche la query restituisce sempre lo stesso valore, anche se presente in diverse ore\n",
    "df_H2SJavgtot.to_frame().sort_values('H2SJ_ug_m3', ascending = True).drop_duplicates(subset=['H2SJ_ug_m3']).head(50)"
   ]
  },
  {
   "cell_type": "markdown",
   "metadata": {
    "id": "juoqhY7-z5nw"
   },
   "source": [
    "# Query 6"
   ]
  },
  {
   "cell_type": "markdown",
   "metadata": {},
   "source": [
    "## VOC "
   ]
  },
  {
   "cell_type": "code",
   "execution_count": null,
   "metadata": {
    "executionInfo": {
     "elapsed": 255,
     "status": "ok",
     "timestamp": 1655304361634,
     "user": {
      "displayName": "Carmine Martinelli",
      "userId": "17979448709595778797"
     },
     "user_tz": -120
    },
    "id": "jWf6C1cSz5nw"
   },
   "outputs": [],
   "source": [
    "#Elimina i valori nulli e calcola la media oraria sul dataframe creato per il sensore VOC\n",
    "df_VOCavg = media_oraria(df_DatiPuliti, 'VOC_ppm')"
   ]
  },
  {
   "cell_type": "code",
   "execution_count": null,
   "metadata": {
    "id": "q8ucBSp1z5nx"
   },
   "outputs": [],
   "source": [
    "# Stampa le 50 ore con i livelli di VOC del sensore VOC più alti\n",
    "df_VOCMax= df_VOCavg.sort_values('VOC_ppm', ascending = False).head(50)\n",
    "df_VOCMax"
   ]
  },
  {
   "cell_type": "code",
   "execution_count": null,
   "metadata": {
    "id": "BSlxPad6z5ny",
    "outputId": "9dcd347b-55dc-4c9b-966c-44f9ee0bca99"
   },
   "outputs": [],
   "source": [
    "# Stampa le 50 ore con i livelli di VOC del sensore VOC più bassi\n",
    "df_VOCMin= df_VOCavg.sort_values('VOC_ppm', ascending = True).head(50)\n",
    "df_VOCMin"
   ]
  },
  {
   "cell_type": "code",
   "execution_count": null,
   "metadata": {
    "scrolled": true
   },
   "outputs": [],
   "source": [
    "# SECONDO METODO\n",
    "# Creazione di un dataframe ordinato sulla media oraria effettuato su ogni stazione\n",
    "df_VOCavgtot = pd.concat([media_oraria(df_DatiPuliti, 'VOC_ppm', postazione = 'ATM05_01479')['VOC_ppm'],\n",
    "                      media_oraria(df_DatiPuliti, 'VOC_ppm', postazione = 'ATM07_01480')['VOC_ppm'],\n",
    "                      media_oraria(df_DatiPuliti, 'VOC_ppm', postazione = 'ATM10_01481')['VOC_ppm'],\n",
    "                      media_oraria(df_DatiPuliti, 'VOC_ppm', postazione = 'ATM14_01486')['VOC_ppm']], axis=0)"
   ]
  },
  {
   "cell_type": "code",
   "execution_count": null,
   "metadata": {},
   "outputs": [],
   "source": [
    "# Stampa le 50 ore con i livelli di VOC più alti\n",
    "df_VOCavgtot.to_frame().sort_values('VOC_ppm', ascending = False).head(50)\n",
    "# aggiungo il drop_duplicates perche la query restituisce sempre lo stesso valore, anche se presente in diverse ore\n",
    "df_VOCavgtot.to_frame().sort_values('VOC_ppm', ascending = False).drop_duplicates(subset=['VOC_ppm']).head(50)"
   ]
  },
  {
   "cell_type": "code",
   "execution_count": null,
   "metadata": {},
   "outputs": [],
   "source": [
    "# Stampa le 50 ore con i livelli di VOC più bassi\n",
    "df_VOCavgtot.to_frame().sort_values('VOC_ppm', ascending = True).head(50)\n",
    "# aggiungo il drop_duplicates perche la query restituisce sempre lo stesso valore, anche se presente in diverse ore\n",
    "df_VOCavgtot.to_frame().sort_values('VOC_ppm', ascending = True).drop_duplicates(subset=['VOC_ppm']).head(50)"
   ]
  },
  {
   "cell_type": "markdown",
   "metadata": {},
   "source": [
    "## PIDVOC"
   ]
  },
  {
   "cell_type": "code",
   "execution_count": null,
   "metadata": {},
   "outputs": [],
   "source": [
    "#Elimina i valori nulli e calcola la media oraria sul dataframe creato per il sensore PIDVOC\n",
    "df_PIDVOCavg = media_oraria(df_DatiPuliti, 'PIDVOC_ppb')"
   ]
  },
  {
   "cell_type": "code",
   "execution_count": null,
   "metadata": {
    "id": "ap47eeIJz5ny",
    "outputId": "8e6c2df2-f6a8-45d1-8c11-936bebcad5df"
   },
   "outputs": [],
   "source": [
    "# Stampa le 50 ore con i livelli di VOC del sensore PIDVOC più alti\n",
    "df_PIDVOCMax= df_PIDVOCavg.sort_values('PIDVOC_ppb', ascending = False).head(50)\n",
    "df_PIDVOCMax"
   ]
  },
  {
   "cell_type": "code",
   "execution_count": null,
   "metadata": {
    "id": "zmmjSGmoz5ny"
   },
   "outputs": [],
   "source": [
    "# Stampa le 50 ore con i livelli di VOC del sensore PIDVOC più bassi\n",
    "df_PIDVOCMin= df_PIDVOCavg.sort_values('PIDVOC_ppb', ascending = True).head(50)\n",
    "df_PIDVOCMin"
   ]
  },
  {
   "cell_type": "code",
   "execution_count": null,
   "metadata": {
    "scrolled": true
   },
   "outputs": [],
   "source": [
    "# SECONDO METODO\n",
    "# Creazione di un dataframe ordinato sulla media oraria effettuato su ogni stazione\n",
    "df_PIDVOCavgtot = pd.concat([media_oraria(df_DatiPuliti, 'PIDVOC_ppb', postazione = 'ATM05_01479')['PIDVOC_ppb'],\n",
    "                      media_oraria(df_DatiPuliti, 'PIDVOC_ppb', postazione = 'ATM07_01480')['PIDVOC_ppb'],\n",
    "                      media_oraria(df_DatiPuliti, 'PIDVOC_ppb', postazione = 'ATM10_01481')['PIDVOC_ppb'],\n",
    "                      media_oraria(df_DatiPuliti, 'PIDVOC_ppb', postazione = 'ATM14_01486')['PIDVOC_ppb']], axis=0)"
   ]
  },
  {
   "cell_type": "code",
   "execution_count": null,
   "metadata": {},
   "outputs": [],
   "source": [
    "# Stampa le 50 ore con i livelli di PIDVOC più alti\n",
    "df_PIDVOCavgtot.to_frame().sort_values('PIDVOC_ppb', ascending = False).head(50)\n",
    "# aggiungo il drop_duplicates perche la query restituisce sempre lo stesso valore, anche se presente in diverse ore\n",
    "df_PIDVOCavgtot.to_frame().sort_values('PIDVOC_ppb', ascending = False).drop_duplicates(subset=['PIDVOC_ppb']).head(50)"
   ]
  },
  {
   "cell_type": "code",
   "execution_count": null,
   "metadata": {},
   "outputs": [],
   "source": [
    "# Stampa le 50 ore con i livelli di PIDVOC più bassi\n",
    "df_PIDVOCavgtot.to_frame().sort_values('PIDVOC_ppb', ascending = True).head(50)\n",
    "# aggiungo il drop_duplicates perche la query restituisce sempre lo stesso valore, anche se presente in diverse ore\n",
    "df_PIDVOCavgtot.to_frame().sort_values('PIDVOC_ppb', ascending = True).drop_duplicates(subset=['PIDVOC_ppb']).head(50)"
   ]
  },
  {
   "cell_type": "markdown",
   "metadata": {
    "id": "bQbwEz_xz5nz"
   },
   "source": [
    "# Query 7 & 8"
   ]
  },
  {
   "cell_type": "code",
   "execution_count": null,
   "metadata": {},
   "outputs": [],
   "source": [
    "# Giornate con fallimenti ND (i fallimenti nell'invio dei dati sono uguali per ogni sensore)\n",
    "df_Fail_ND = df_DatiSensori[['Data','TRS_ppb','VOC_ppm','C6H6_ug_m3','H2S_ug_m3','H2SJ_ug_m3','PIDVOC_ppb']].copy()\n",
    "df_Fail_ND['Giorno'] = pd.to_datetime(df_Fail_ND['Data'].dt.strftime('%Y/%m/%d'))\n",
    "df_Fail_ND = df_Fail_ND.TRS_ppb.isnull().groupby(df_Fail_ND['Giorno']).sum().transform(int).reset_index(name='count')\n",
    "df_Fail_ND"
   ]
  },
  {
   "cell_type": "code",
   "execution_count": null,
   "metadata": {},
   "outputs": [],
   "source": [
    "# 3 giorni con il maggior numero di fallimenti\n",
    "df_Fail_ND.sort_values('count', ascending = False).head(3)"
   ]
  },
  {
   "cell_type": "code",
   "execution_count": null,
   "metadata": {},
   "outputs": [],
   "source": [
    "# 3 giorni con il minor numero di fallimenti\n",
    "df_Fail_ND.sort_values('count', ascending = True).head(3)"
   ]
  },
  {
   "cell_type": "markdown",
   "metadata": {},
   "source": [
    "# Query 9, 10 e 11"
   ]
  },
  {
   "cell_type": "code",
   "execution_count": null,
   "metadata": {},
   "outputs": [],
   "source": [
    "# crea due liste con tutti gli inquinanti e i relativi stati\n",
    "inquinanti = ['TRS_ppb','VOC_ppm','C6H6_ug_m3','H2S_ug_m3','H2SJ_ug_m3','PIDVOC_ppb']\n",
    "stato_Inquinanti = ['TRS_stato','VOC_stato','C6H6_stato', 'H2S_stato','H2SJ_stato', 'PIDVOC_stato']"
   ]
  },
  {
   "cell_type": "code",
   "execution_count": null,
   "metadata": {},
   "outputs": [],
   "source": [
    "# crea un dataframe che contiene la somma dei fallimenti \n",
    "# oltre alle righe con 'ND' che indicano il fallimento nel trasmettere i dati, consideriamo fallimento\n",
    "# anche la presenza consecutiva massiccia di valori 0\n",
    "fails = []\n",
    "df_NFails = pd.DataFrame({'Fallimenti':np.arange(6)})\n",
    "df_NFails = pd.DataFrame({'Sensori':np.arange(6)})\n",
    "for column in range(len(inquinanti)):\n",
    "    df_Fail = df_Dati[[inquinanti[column], stato_Inquinanti[column]]].copy()\n",
    "    errors = df_Fail[inquinanti[column]].ne(df_Fail\n",
    "                                  [inquinanti[column]].shift()).cumsum()[df_Fail\n",
    "                                                                         [inquinanti[column]].eq(0.0)].value_counts().ge(24).sum()\n",
    "    num_ND= df_Fail[stato_Inquinanti[column]].value_counts()[\"ND\"]\n",
    "    fails.append(num_ND + errors)\n",
    "\n",
    "df_NFails['Sensori'] = inquinanti\n",
    "df_NFails['Fallimenti'] = fails\n",
    "df_NFails\n"
   ]
  },
  {
   "cell_type": "markdown",
   "metadata": {},
   "source": [
    "## Query 9"
   ]
  },
  {
   "cell_type": "code",
   "execution_count": null,
   "metadata": {},
   "outputs": [],
   "source": [
    "df_NFails.at[0, 'Dati TOT'] = len(dfTRS)\n",
    "df_NFails.at[1, 'Dati TOT'] = len(dfVOC)\n",
    "df_NFails.at[2, 'Dati TOT'] = len(dfC6H6)\n",
    "df_NFails.at[3, 'Dati TOT'] = len(dfH2S)\n",
    "df_NFails.at[4, 'Dati TOT'] = len(dfH2SJ)\n",
    "df_NFails.at[5, 'Dati TOT'] = len(dfPIDVOC)\n",
    "df_NFails['Media'] = df_NFails['Fallimenti'].div(df_NFails['Dati TOT'])\n",
    "df_NFails"
   ]
  },
  {
   "cell_type": "markdown",
   "metadata": {},
   "source": [
    "## Query 10"
   ]
  },
  {
   "cell_type": "code",
   "execution_count": null,
   "metadata": {},
   "outputs": [],
   "source": [
    "# Prende il massimo dal dataframe\n",
    "df_NFails['Fallimenti'].max()"
   ]
  },
  {
   "cell_type": "markdown",
   "metadata": {},
   "source": [
    "## Query 11"
   ]
  },
  {
   "cell_type": "code",
   "execution_count": null,
   "metadata": {},
   "outputs": [],
   "source": [
    "# Prende il minimo dal dataframe\n",
    "df_NFails['Fallimenti'].min()"
   ]
  },
  {
   "cell_type": "markdown",
   "metadata": {},
   "source": [
    "# ANALISI VISUALI"
   ]
  },
  {
   "cell_type": "code",
   "execution_count": null,
   "metadata": {},
   "outputs": [],
   "source": [
    "# Creazione di un dataset per la media oraria"
   ]
  },
  {
   "cell_type": "code",
   "execution_count": null,
   "metadata": {},
   "outputs": [],
   "source": [
    "df_TRSavg = media_oraria(df_DatiPuliti, 'TRS_ppb')\n",
    "df_MediaOraria = pd.concat([df_TRSavg, df_C6H6avg['C6H6_ug_m3'] ,df_H2Savg['H2S_ug_m3'], df_H2SJavg['H2SJ_ug_m3'], df_VOCavg['VOC_ppm'], df_PIDVOCavg['PIDVOC_ppb']], axis=1)\n",
    "df_MediaOraria\n",
    "# df_MediaOraria.to_excel('media_oraria.xlsx')"
   ]
  },
  {
   "cell_type": "code",
   "execution_count": null,
   "metadata": {
    "scrolled": true
   },
   "outputs": [],
   "source": [
    "# Creazione di file excel per il sensore C6H6 per ogni stazione, utili alle considerazioni sul traffico\n",
    "\n",
    "df_atm5 = media_oraria(df_DatiPuliti[df_DatiPuliti['postazione'] == 'ATM05_01479'], 'C6H6_ug_m3')\n",
    "df_atm7 = media_oraria(df_DatiPuliti[df_DatiPuliti['postazione'] == 'ATM07_01480'], 'C6H6_ug_m3')\n",
    "df_atm10 = media_oraria(df_DatiPuliti[df_DatiPuliti['postazione'] == 'ATM10_01481'], 'C6H6_ug_m3')\n",
    "df_atm14 = media_oraria(df_DatiPuliti[df_DatiPuliti['postazione'] == 'ATM14_01486'], 'C6H6_ug_m3')\n",
    "df_atm5.iloc[768:959].to_excel('mediaBenzene5.xlsx')\n",
    "# df_atm5.to_excel('mediaBenzene5.xlsx')\n",
    "df_atm7.iloc[768:959].to_excel('mediaBenzene7.xlsx')\n",
    "# df_atm7.to_excel('mediaBenzene7.xlsx')\n",
    "df_atm10.iloc[768:959].to_excel('mediaBenzene10.xlsx')\n",
    "# df_atm10.to_excel('mediaBenzene10.xlsx')\n",
    "df_atm14.iloc[768:959].to_excel('mediaBenzene14.xlsx')\n",
    "# df_atm14.to_excel('mediaBenzene14.xlsx')"
   ]
  },
  {
   "cell_type": "markdown",
   "metadata": {},
   "source": [
    "# # CORRELAZIONI"
   ]
  },
  {
   "cell_type": "code",
   "execution_count": null,
   "metadata": {},
   "outputs": [],
   "source": [
    "# Funzione correlazione\n",
    "def corr_Sensori1(df, colonna1, colonna2, postazione = None):\n",
    "    if postazione != None:\n",
    "        df1 = df[df['postazione'] == postazione]\n",
    "    else:\n",
    "        df1 = df.copy()\n",
    "    df1.plot.scatter(x= colonna1, y=colonna2)\n",
    "    a,b = np.polyfit(df1[colonna1].to_list(), df1[colonna2].to_list(), 1) #Inferiamo y =ax + b\n",
    "    x1 = min(df1[colonna1].to_list())\n",
    "    x2 = max(df1[colonna1].to_list())\n",
    "    plt.plot([x1,x2], [a*x1 +b, a*x2 +b], color = 'red')\n",
    "    plt.show()\n",
    "    cc = np.corrcoef(df1[colonna1], df1[colonna2])[1,0]\n",
    "    cs = df1[[colonna1, colonna2]].corr(method = 'spearman')\n",
    "    ck = df1[[colonna1, colonna2]].corr(method = 'kendall')\n",
    "    return cc, cs.iloc[1,0], ck.iloc[1,0]"
   ]
  },
  {
   "cell_type": "code",
   "execution_count": null,
   "metadata": {},
   "outputs": [],
   "source": [
    "# Funzione correlazione\n",
    "def corr_Sensori(df, colonna1, colonna2, postazione = None):\n",
    "    cc = -2\n",
    "    cs = pd.DataFrame([{'a': 0},{'a': -2}])\n",
    "    ck = pd.DataFrame([{'a': 0},{'a': -2}])\n",
    "    if postazione != None:\n",
    "        df1 = df[df['postazione'] == postazione]\n",
    "    else:\n",
    "        df1 = df.copy()\n",
    "    df1.plot.scatter(x= colonna1, y=colonna2)\n",
    "    if np.sum(df1[colonna1].to_list())!=0 and np.sum(df1[colonna2].to_list()) !=0:\n",
    "        a,b = np.polyfit(df1[colonna1].to_list(), df1[colonna2].to_list(), 1) #Inferiamo y =ax + b\n",
    "        x1 = min(df1[colonna1].to_list())\n",
    "        x2 = max(df1[colonna1].to_list())\n",
    "        plt.plot([x1,x2], [a*x1 +b, a*x2 +b], color = 'red')\n",
    "        plt.show()\n",
    "        cc = np.corrcoef(df1[colonna1], df1[colonna2])[1,0]\n",
    "        cs = df1[[colonna1, colonna2]].corr(method = 'spearman')\n",
    "        ck = df1[[colonna1, colonna2]].corr(method = 'kendall')  \n",
    "    return cc, cs.iloc[1,0], ck.iloc[1,0]"
   ]
  },
  {
   "cell_type": "markdown",
   "metadata": {},
   "source": [
    "# CORRELAZIONE 1 TRA I SENSORI H2S E H2SJ NELLE VARIE POSTAZIONI"
   ]
  },
  {
   "cell_type": "code",
   "execution_count": null,
   "metadata": {},
   "outputs": [],
   "source": [
    "# Crea un dataframe contenente entrambi i sensori, rinomina le colonne ed elimina i valori nulli\n",
    "df_AcidoSolf = df_DatiPuliti[['postazione', 'Data', 'H2S_ug_m3', 'H2SJ_ug_m3']]\n",
    "df_AcidoSolf = df_AcidoSolf.dropna()\n",
    "df_AcidoSolf"
   ]
  },
  {
   "cell_type": "code",
   "execution_count": null,
   "metadata": {},
   "outputs": [],
   "source": [
    "# correlazione per la stazione ATM05_01479\n",
    "pearson, spearman, kendall= corr_Sensori(df_AcidoSolf, 'H2S_ug_m3', 'H2SJ_ug_m3','ATM05_01479')\n",
    "print('Correlazione tra H2S e H2SJ:\\npearson: ', pearson,' spearman: ', spearman,' kendall: ', kendall)"
   ]
  },
  {
   "cell_type": "code",
   "execution_count": null,
   "metadata": {},
   "outputs": [],
   "source": [
    "# correlazione per la stazione ATM07_01480\n",
    "pearson, spearman, kendall = corr_Sensori(df_AcidoSolf, 'H2S_ug_m3', 'H2SJ_ug_m3', 'ATM07_01480')\n",
    "print('Correlazione tra H2S e H2SJ:\\npearson: ', pearson,' spearman: ', spearman,' kendall: ', kendall)"
   ]
  },
  {
   "cell_type": "code",
   "execution_count": null,
   "metadata": {},
   "outputs": [],
   "source": [
    "# correlazione per la stazione ATM10_01481\n",
    "pearson, spearman, kendall = corr_Sensori(df_AcidoSolf, 'H2S_ug_m3', 'H2SJ_ug_m3', 'ATM10_01481' )\n",
    "print('Correlazione tra H2S e H2SJ:\\npearson: ', pearson,' spearman: ', spearman,' kendall: ', kendall)"
   ]
  },
  {
   "cell_type": "code",
   "execution_count": null,
   "metadata": {},
   "outputs": [],
   "source": [
    "# correlazione per la stazione ATM14_01486\n",
    "pearson, spearman, kendall= corr_Sensori(df_AcidoSolf, 'H2S_ug_m3', 'H2SJ_ug_m3', 'ATM14_01486' )\n",
    "print('Correlazione tra H2S e H2SJ:\\npearson: ', pearson,' spearman: ', spearman,' kendall: ', kendall)"
   ]
  },
  {
   "cell_type": "markdown",
   "metadata": {},
   "source": [
    "# CORRELAZIONE 2 TRA I SENSORI VOC E PIDVOC NELLE VARIE POSTAZIONI"
   ]
  },
  {
   "cell_type": "code",
   "execution_count": null,
   "metadata": {},
   "outputs": [],
   "source": [
    "# Crea un dataframe contenente entrambi i sensori, rinomina le colonne ed elimina i valori nulli\n",
    "df_SensoriVOC = df_DatiPuliti[['postazione', 'Data', 'VOC_ppm', 'PIDVOC_ppb']]\n",
    "df_SensoriVOC = df_SensoriVOC.dropna()\n",
    "df_SensoriVOC"
   ]
  },
  {
   "cell_type": "code",
   "execution_count": null,
   "metadata": {},
   "outputs": [],
   "source": [
    "# correlazione per la stazione ATM05_01479\n",
    "pearson, spearman, kendall= corr_Sensori(df_SensoriVOC, 'VOC_ppm', 'PIDVOC_ppb', 'ATM05_01479' )\n",
    "print('Correlazione tra VOC e PIDVOC:\\npearson: ', pearson,' spearman: ', spearman,' kendall: ', kendall)"
   ]
  },
  {
   "cell_type": "code",
   "execution_count": null,
   "metadata": {},
   "outputs": [],
   "source": [
    "# correlazione per la stazione ATM07_01480\n",
    "pearson, spearman, kendall = corr_Sensori(df_SensoriVOC, 'VOC_ppm', 'PIDVOC_ppb', 'ATM07_01480' )\n",
    "print('Correlazione tra VOC e PIDVOC:\\npearson: ', pearson,' spearman: ', spearman,' kendall: ', kendall)"
   ]
  },
  {
   "cell_type": "code",
   "execution_count": null,
   "metadata": {},
   "outputs": [],
   "source": [
    "# correlazione per la stazione ATM10_01481\n",
    "pearson, spearman, kendall = corr_Sensori(df_SensoriVOC, 'VOC_ppm', 'PIDVOC_ppb' , 'ATM10_01481')\n",
    "print('Correlazione tra VOC e PIDVOC:\\npearson: ', pearson,' spearman: ', spearman,' kendall: ', kendall)"
   ]
  },
  {
   "cell_type": "code",
   "execution_count": null,
   "metadata": {},
   "outputs": [],
   "source": [
    "# correlazione per la stazione ATM14_01486\n",
    "pearson, spearman, kendall= corr_Sensori(df_SensoriVOC, 'VOC_ppm', 'PIDVOC_ppb', 'ATM14_01486' )\n",
    "print('Correlazione tra VOC e PIDVOC:\\npearson: ', pearson,' spearman: ', spearman,' kendall: ', kendall)"
   ]
  },
  {
   "cell_type": "markdown",
   "metadata": {},
   "source": [
    "# CORRELAZIONE 3 TRA I SENSORI TRS E H2S NELLE VARIE POSTAZIONI"
   ]
  },
  {
   "cell_type": "code",
   "execution_count": null,
   "metadata": {},
   "outputs": [],
   "source": [
    "df_SenTRS_H2S = df_DatiPuliti[['postazione', 'Data', 'TRS_ppb', 'H2S_ug_m3']]\n",
    "df_SenTRS_H2S = df_SenTRS_H2S.dropna()\n",
    "df_SenTRS_H2S.fillna(0)"
   ]
  },
  {
   "cell_type": "code",
   "execution_count": null,
   "metadata": {},
   "outputs": [],
   "source": [
    "# correlazione per la stazione ATM05_01479\n",
    "pearson, spearman, kendall = corr_Sensori(df_SenTRS_H2S, 'TRS_ppb', 'H2S_ug_m3', 'ATM05_01479' )\n",
    "print('Correlazione tra TRS e H2S:\\npearson: ', pearson,' spearman: ', spearman,' kendall: ', kendall)"
   ]
  },
  {
   "cell_type": "code",
   "execution_count": null,
   "metadata": {},
   "outputs": [],
   "source": [
    "# correlazione per la stazione ATM07_01480\n",
    "pearson, spearman, kendall= corr_Sensori(df_SenTRS_H2S, 'TRS_ppb', 'H2S_ug_m3', 'ATM07_01480' )\n",
    "print('Correlazione tra TRS e H2S:\\npearson: ', pearson,' spearman: ', spearman,' kendall: ', kendall)"
   ]
  },
  {
   "cell_type": "code",
   "execution_count": null,
   "metadata": {},
   "outputs": [],
   "source": [
    "# correlazione per la stazione ATM10_01481\n",
    "pearson, spearman, kendall= corr_Sensori(df_SenTRS_H2S, 'TRS_ppb', 'H2S_ug_m3', 'ATM10_01481' )\n",
    "print('Correlazione tra TRS e H2S:\\npearson: ', pearson,' spearman: ', spearman,' kendall: ', kendall)"
   ]
  },
  {
   "cell_type": "code",
   "execution_count": null,
   "metadata": {
    "scrolled": true
   },
   "outputs": [],
   "source": [
    "# correlazione per la stazione ATM14_01486\n",
    "pearson, spearman, kendall= corr_Sensori(df_SenTRS_H2S, 'TRS_ppb', 'H2S_ug_m3', 'ATM14_01486' )\n",
    "print('Correlazione tra TRS e H2SJ:\\npearson: ', pearson,' spearman: ', spearman,' kendall: ', kendall)"
   ]
  },
  {
   "cell_type": "markdown",
   "metadata": {},
   "source": [
    "# CORRELAZIONE 4 TRA I SENSORI TRS E H2SJ NELLE VARIE POSTAZIONI"
   ]
  },
  {
   "cell_type": "code",
   "execution_count": null,
   "metadata": {},
   "outputs": [],
   "source": [
    "df_SenTRS_H2SJ = df_DatiPuliti[['postazione', 'Data', 'TRS_ppb', 'H2SJ_ug_m3']]\n",
    "df_SenTRS_H2SJ = df_SenTRS_H2SJ.dropna()\n",
    "df_SenTRS_H2SJ"
   ]
  },
  {
   "cell_type": "code",
   "execution_count": null,
   "metadata": {},
   "outputs": [],
   "source": [
    "# correlazione per la stazione ATM05_01479\n",
    "pearson, spearman, kendall= corr_Sensori(df_SenTRS_H2SJ, 'TRS_ppb', 'H2SJ_ug_m3' , 'ATM05_01479')\n",
    "print('Correlazione tra TRS e H2SJ:\\npearson: ', pearson,' spearman: ', spearman,' kendall: ', kendall)"
   ]
  },
  {
   "cell_type": "code",
   "execution_count": null,
   "metadata": {},
   "outputs": [],
   "source": [
    "# correlazione per la stazione ATM07_01480\n",
    "pearson, spearman, kendall= corr_Sensori(df_SenTRS_H2SJ, 'TRS_ppb', 'H2SJ_ug_m3', 'ATM07_01480' )\n",
    "print('Correlazione tra TRS e H2SJ:\\npearson: ', pearson,' spearman: ', spearman,' kendall: ', kendall)"
   ]
  },
  {
   "cell_type": "code",
   "execution_count": null,
   "metadata": {},
   "outputs": [],
   "source": [
    "# correlazione per la stazione ATM10_01481\n",
    "pearson, spearman, kendall= corr_Sensori(df_SenTRS_H2SJ, 'TRS_ppb', 'H2SJ_ug_m3' , 'ATM10_01481')\n",
    "print('Correlazione tra TRS e H2SJ:\\npearson: ', pearson,' spearman: ', spearman,' kendall: ', kendall)"
   ]
  },
  {
   "cell_type": "code",
   "execution_count": null,
   "metadata": {},
   "outputs": [],
   "source": [
    "# correlazione per la stazione ATM14_01486\n",
    "pearson, spearman, kendall= corr_Sensori(df_SenTRS_H2SJ, 'TRS_ppb', 'H2SJ_ug_m3' , 'ATM14_01486')\n",
    "print('Correlazione tra TRS e H2SJ:\\npearson: ', pearson,' spearman: ', spearman,' kendall: ', kendall)"
   ]
  },
  {
   "cell_type": "markdown",
   "metadata": {},
   "source": [
    "# CORRELAZIONE 5 TRA I SENSORI VOC E C6H6 NELLE VARIE POSTAZIONI"
   ]
  },
  {
   "cell_type": "code",
   "execution_count": null,
   "metadata": {},
   "outputs": [],
   "source": [
    "df_SenVOC_C6H6 = df_DatiPuliti[['postazione', 'Data', 'VOC_ppm', 'C6H6_ug_m3']]\n",
    "df_SenVOC_C6H6 = df_SenVOC_C6H6.dropna()\n",
    "df_SenVOC_C6H6"
   ]
  },
  {
   "cell_type": "code",
   "execution_count": null,
   "metadata": {},
   "outputs": [],
   "source": [
    "# correlazione per la stazione ATM05_01479\n",
    "pearson, spearman, kendall= corr_Sensori(df_SenVOC_C6H6, 'VOC_ppm', 'C6H6_ug_m3' , 'ATM05_01479')\n",
    "print('Correlazione tra VOC e C6H6:\\npearson: ', pearson,' spearman: ', spearman,' kendall: ', kendall)"
   ]
  },
  {
   "cell_type": "code",
   "execution_count": null,
   "metadata": {},
   "outputs": [],
   "source": [
    "# correlazione per la stazione ATM07_01480\n",
    "pearson, spearman, kendall= corr_Sensori(df_SenVOC_C6H6, 'VOC_ppm', 'C6H6_ug_m3', 'ATM07_01480' )\n",
    "print('Correlazione tra VOC e C6H6:\\npearson: ', pearson,' spearman: ', spearman,' kendall: ', kendall)"
   ]
  },
  {
   "cell_type": "code",
   "execution_count": null,
   "metadata": {},
   "outputs": [],
   "source": [
    "# correlazione per la stazione ATM10_01481\n",
    "pearson, spearman, kendall= corr_Sensori(df_SenVOC_C6H6, 'VOC_ppm', 'C6H6_ug_m3' , 'ATM10_01481')\n",
    "print('Correlazione tra VOC e C6H6:\\npearson: ', pearson,' spearman: ', spearman,' kendall: ', kendall)"
   ]
  },
  {
   "cell_type": "code",
   "execution_count": null,
   "metadata": {},
   "outputs": [],
   "source": [
    "# correlazione per la stazione ATM14_01486\n",
    "pearson, spearman, kendall= corr_Sensori(df_SenVOC_C6H6, 'VOC_ppm', 'C6H6_ug_m3', 'ATM14_01486' )\n",
    "print('Correlazione tra VOC e C6H6:\\npearson: ', pearson,' spearman: ', spearman,' kendall: ', kendall)"
   ]
  },
  {
   "cell_type": "markdown",
   "metadata": {},
   "source": [
    "# CORRELAZIONE 6 TRA I SENSORI PIDVOC E C6H6 NELLE VARIE POSTAZIONI"
   ]
  },
  {
   "cell_type": "code",
   "execution_count": null,
   "metadata": {},
   "outputs": [],
   "source": [
    "df_SenPIDVOC_C6H6 = df_DatiPuliti[['postazione', 'Data', 'PIDVOC_ppb', 'C6H6_ug_m3']]\n",
    "df_SenPIDVOC_C6H6 = df_SenPIDVOC_C6H6.dropna()\n",
    "df_SenPIDVOC_C6H6"
   ]
  },
  {
   "cell_type": "code",
   "execution_count": null,
   "metadata": {},
   "outputs": [],
   "source": [
    "# correlazione per la stazione ATM05_01479\n",
    "pearson, spearman, kendall= corr_Sensori(df_SenPIDVOC_C6H6, 'PIDVOC_ppb', 'C6H6_ug_m3', 'ATM05_01479' )\n",
    "print('Correlazione tra PIDVOC e C6H6:\\npearson: ', pearson,' spearman: ', spearman,' kendall: ', kendall)"
   ]
  },
  {
   "cell_type": "code",
   "execution_count": null,
   "metadata": {},
   "outputs": [],
   "source": [
    "# correlazione per la stazione ATM07_01480\n",
    "pearson, spearman, kendall= corr_Sensori(df_SenPIDVOC_C6H6, 'PIDVOC_ppb', 'C6H6_ug_m3' , 'ATM07_01480')\n",
    "print('Correlazione tra PIDVOC e C6H6:\\npearson: ', pearson,' spearman: ', spearman,' kendall: ', kendall)"
   ]
  },
  {
   "cell_type": "code",
   "execution_count": null,
   "metadata": {},
   "outputs": [],
   "source": [
    "# correlazione per la stazione ATM10_01481\n",
    "pearson, spearman, kendall= corr_Sensori(df_SenPIDVOC_C6H6, 'PIDVOC_ppb', 'C6H6_ug_m3', 'ATM10_01481' )\n",
    "print('Correlazione tra PIDVOC e C6H6:\\npearson: ', pearson,' spearman: ', spearman,' kendall: ', kendall)"
   ]
  },
  {
   "cell_type": "code",
   "execution_count": null,
   "metadata": {},
   "outputs": [],
   "source": [
    "# correlazione per la stazione ATM14_01486\n",
    "pearson, spearman, kendall= corr_Sensori(df_SenPIDVOC_C6H6, 'PIDVOC_ppb', 'C6H6_ug_m3', 'ATM14_01486' )\n",
    "print('Correlazione tra PIDVOC e C6H6:\\npearson: ', pearson,' spearman: ', spearman,' kendall: ', kendall)"
   ]
  },
  {
   "cell_type": "markdown",
   "metadata": {},
   "source": [
    "# CORRELAZIONE 7 "
   ]
  },
  {
   "cell_type": "markdown",
   "metadata": {},
   "source": [
    "# POSTAZIONI ATM05_01479 E ATM07_01480 "
   ]
  },
  {
   "cell_type": "code",
   "execution_count": null,
   "metadata": {},
   "outputs": [],
   "source": [
    "def creazione_df(df, colonna1, colonna2, composto, df2 = None):\n",
    "    df_1 = df[df['postazione'] == colonna1].dropna()[composto].reset_index(drop = True).to_frame()\n",
    "    if df2 is None:\n",
    "        df_2 = df.copy()\n",
    "        df_2 = df_2[df_2['postazione'] == colonna2].dropna()[composto].reset_index(drop = True).to_frame()\n",
    "    else:\n",
    "        df_2 = df2.copy()\n",
    "        df_2 = df_2[colonna2].dropna().reset_index(drop = True).to_frame()\n",
    "    df_Full = pd.concat([df_1, df_2], axis=1)\n",
    "    df_Full.columns = [colonna1,colonna2]\n",
    "    df_Full = df_Full[[colonna1,colonna2]].fillna(0)\n",
    "    return df_Full"
   ]
  },
  {
   "cell_type": "code",
   "execution_count": null,
   "metadata": {},
   "outputs": [],
   "source": [
    "# correlazione per il sensore TRS_ppb\n",
    "pearson, spearman, kendall= corr_Sensori(creazione_df(df_Dati, 'ATM05_01479', 'ATM07_01480', 'TRS_ppb' ),\n",
    "                                         'ATM05_01479', 'ATM07_01480')\n",
    "print('pearson: ', pearson, ' spearman: ', spearman, ' kendall: ', kendall)\n",
    " "
   ]
  },
  {
   "cell_type": "code",
   "execution_count": null,
   "metadata": {},
   "outputs": [],
   "source": [
    "# correlazione per il sensore C6H6_ug_m3\n",
    "pearson, spearman, kendall= corr_Sensori(creazione_df(df_Dati, 'ATM05_01479', 'ATM07_01480', 'C6H6_ug_m3' ), 'ATM05_01479', 'ATM07_01480')\n",
    "print('pearson: ', pearson, ' spearman: ', spearman, ' kendall: ', kendall)\n",
    " "
   ]
  },
  {
   "cell_type": "code",
   "execution_count": null,
   "metadata": {},
   "outputs": [],
   "source": [
    "# correlazione per il sensore VOC_ppm\n",
    "pearson, spearman, kendall= corr_Sensori(creazione_df(df_Dati, 'ATM05_01479', 'ATM07_01480', 'VOC_ppm' ), 'ATM05_01479', 'ATM07_01480')\n",
    "print('pearson: ', pearson, ' spearman: ', spearman, ' kendall: ', kendall)\n",
    " "
   ]
  },
  {
   "cell_type": "code",
   "execution_count": null,
   "metadata": {},
   "outputs": [],
   "source": [
    "# correlazione per il sensore PIDVOC_ppb\n",
    "pearson, spearman, kendall= corr_Sensori(creazione_df(df_Dati, 'ATM05_01479', 'ATM07_01480', 'PIDVOC_ppb' ), 'ATM05_01479', 'ATM07_01480')\n",
    "print('pearson: ', pearson, ' spearman: ', spearman, ' kendall: ', kendall)\n",
    " "
   ]
  },
  {
   "cell_type": "code",
   "execution_count": null,
   "metadata": {},
   "outputs": [],
   "source": [
    "# correlazione per il sensore H2S_ug_m3\n",
    "pearson, spearman, kendall= corr_Sensori(creazione_df(df_Dati, 'ATM05_01479', 'ATM07_01480', 'H2S_ug_m3' ), 'ATM05_01479', 'ATM07_01480')\n",
    "print('pearson: ', pearson, ' spearman: ', spearman, ' kendall: ', kendall)\n",
    " "
   ]
  },
  {
   "cell_type": "code",
   "execution_count": null,
   "metadata": {},
   "outputs": [],
   "source": [
    "# correlazione per il sensore H2SJ_ug_m3\n",
    "pearson, spearman, kendall= corr_Sensori(creazione_df(df_Dati, 'ATM05_01479', 'ATM07_01480', 'H2SJ_ug_m3' ), 'ATM05_01479', 'ATM07_01480')\n",
    "print('pearson: ', pearson, ' spearman: ', spearman, ' kendall: ', kendall)\n",
    " "
   ]
  },
  {
   "cell_type": "markdown",
   "metadata": {},
   "source": [
    "# POSTAZIONI ATM05_01479 E ATM10_01481"
   ]
  },
  {
   "cell_type": "code",
   "execution_count": null,
   "metadata": {},
   "outputs": [],
   "source": [
    "# correlazione per il sensore TRS_ppb\n",
    "pearson, spearman, kendall= corr_Sensori(creazione_df(df_Dati, 'ATM05_01479', 'ATM10_01481', 'TRS_ppb' ), 'ATM05_01479', 'ATM10_01481')\n",
    "print('pearson: ', pearson, ' spearman: ', spearman, ' kendall: ', kendall)\n",
    " "
   ]
  },
  {
   "cell_type": "code",
   "execution_count": null,
   "metadata": {},
   "outputs": [],
   "source": [
    "# correlazione per il sensore C6H6_ug_m3\n",
    "pearson, spearman, kendall= corr_Sensori(creazione_df(df_Dati, 'ATM05_01479', 'ATM10_01481', 'C6H6_ug_m3' ), 'ATM05_01479', 'ATM10_01481')\n",
    "print('pearson: ', pearson, ' spearman: ', spearman, ' kendall: ', kendall)\n",
    " "
   ]
  },
  {
   "cell_type": "code",
   "execution_count": null,
   "metadata": {},
   "outputs": [],
   "source": [
    "# correlazione per il sensore VOC_pp\n",
    "pearson, spearman, kendall= corr_Sensori(creazione_df(df_Dati, 'ATM05_01479', 'ATM10_01481', 'VOC_ppm' ), 'ATM05_01479', 'ATM10_01481')\n",
    "print('pearson: ', pearson, ' spearman: ', spearman, ' kendall: ', kendall)\n",
    " "
   ]
  },
  {
   "cell_type": "code",
   "execution_count": null,
   "metadata": {},
   "outputs": [],
   "source": [
    "# correlazione per il sensore PIDVOC_ppm\n",
    "pearson, spearman, kendall= corr_Sensori(creazione_df(df_Dati, 'ATM05_01479', 'ATM10_01481', 'PIDVOC_ppb' ), 'ATM05_01479', 'ATM10_01481')\n",
    "print('pearson: ', pearson, ' spearman: ', spearman, ' kendall: ', kendall)\n",
    " "
   ]
  },
  {
   "cell_type": "code",
   "execution_count": null,
   "metadata": {},
   "outputs": [],
   "source": [
    "# correlazione per il sensore H2S_ug_m3\n",
    "pearson, spearman, kendall= corr_Sensori(creazione_df(df_Dati, 'ATM05_01479', 'ATM10_01481', 'H2S_ug_m3' ), 'ATM05_01479', 'ATM10_01481')\n",
    "print('pearson: ', pearson, ' spearman: ', spearman, ' kendall: ', kendall)\n",
    " "
   ]
  },
  {
   "cell_type": "code",
   "execution_count": null,
   "metadata": {},
   "outputs": [],
   "source": [
    "# correlazione per il sensore H2SJ_ug_m3\n",
    "pearson, spearman, kendall= corr_Sensori(creazione_df(df_Dati, 'ATM05_01479', 'ATM10_01481', 'H2SJ_ug_m3' ), 'ATM05_01479', 'ATM10_01481')\n",
    "print('pearson: ', pearson, ' spearman: ', spearman, ' kendall: ', kendall)\n",
    " "
   ]
  },
  {
   "cell_type": "markdown",
   "metadata": {},
   "source": [
    "# POSTAZIONI ATM05_01479 E ATM14_01486"
   ]
  },
  {
   "cell_type": "code",
   "execution_count": null,
   "metadata": {},
   "outputs": [],
   "source": [
    "# correlazione per il sensore TRS_ppb\n",
    "pearson, spearman, kendall= corr_Sensori(creazione_df(df_Dati, 'ATM05_01479', 'ATM14_01486', 'TRS_ppb' ), 'ATM05_01479', 'ATM14_01486')\n",
    "print('pearson: ', pearson, ' spearman: ', spearman, ' kendall: ', kendall)\n",
    " "
   ]
  },
  {
   "cell_type": "code",
   "execution_count": null,
   "metadata": {},
   "outputs": [],
   "source": [
    "# correlazione per il sensore C6H6_ug_m3\n",
    "pearson, spearman, kendall= corr_Sensori(creazione_df(df_Dati, 'ATM05_01479', 'ATM14_01486', 'C6H6_ug_m3' ), 'ATM05_01479', 'ATM14_01486')\n",
    "print('pearson: ', pearson, ' spearman: ', spearman, ' kendall: ', kendall)\n",
    " "
   ]
  },
  {
   "cell_type": "code",
   "execution_count": null,
   "metadata": {},
   "outputs": [],
   "source": [
    "# correlazione per il sensore VOC_ppm\n",
    "pearsonPost4, spearman, kendall= corr_Sensori(creazione_df(df_Dati, 'ATM05_01479', 'ATM14_01486', 'VOC_ppm' ), 'ATM05_01479', 'ATM14_01486')\n",
    "print('pearson: ', pearson, ' spearman: ', spearman, ' kendall: ', kendall)\n",
    " "
   ]
  },
  {
   "cell_type": "code",
   "execution_count": null,
   "metadata": {},
   "outputs": [],
   "source": [
    "# correlazione per il sensore PIDVOC_ppb\n",
    "pearson, spearman, kendall= corr_Sensori(creazione_df(df_Dati, 'ATM05_01479', 'ATM14_01486', 'PIDVOC_ppb' ), 'ATM05_01479', 'ATM14_01486')\n",
    "print('pearson: ', pearson, ' spearman: ', spearman, ' kendall: ', kendall)\n",
    " "
   ]
  },
  {
   "cell_type": "code",
   "execution_count": null,
   "metadata": {},
   "outputs": [],
   "source": [
    "# correlazione per il sensore H2S_ug_m3\n",
    "pearson, spearman, kendall= corr_Sensori(creazione_df(df_Dati, 'ATM05_01479', 'ATM14_01486', 'H2S_ug_m3' ), 'ATM05_01479', 'ATM14_01486')\n",
    "print('pearson: ', pearson, ' spearman: ', spearman, ' kendall: ', kendall)\n",
    " "
   ]
  },
  {
   "cell_type": "code",
   "execution_count": null,
   "metadata": {},
   "outputs": [],
   "source": [
    "# correlazione per il sensore H2SJ_ug_m3\n",
    "pearson, spearman, kendall= corr_Sensori(creazione_df(df_Dati, 'ATM05_01479', 'ATM14_01486', 'H2SJ_ug_m3' ), 'ATM05_01479', 'ATM14_01486')\n",
    "print('pearson: ', pearson, ' spearman: ', spearman, ' kendall: ', kendall)\n",
    " "
   ]
  },
  {
   "cell_type": "markdown",
   "metadata": {},
   "source": [
    "# POSTAZIONI ATM07_01480 E ATM10_01481"
   ]
  },
  {
   "cell_type": "code",
   "execution_count": null,
   "metadata": {},
   "outputs": [],
   "source": [
    "# correlazione per il sensore TRS_ppb\n",
    "pearson, spearman, kendall= corr_Sensori(creazione_df(df_Dati, 'ATM07_01480', 'ATM10_01481', 'TRS_ppb' ), 'ATM07_01480', 'ATM10_01481')\n",
    "print('pearson: ', pearson, ' spearman: ', spearman, ' kendall: ', kendall)\n",
    " "
   ]
  },
  {
   "cell_type": "code",
   "execution_count": null,
   "metadata": {},
   "outputs": [],
   "source": [
    "# correlazione per il sensore C6H6_ug_m3\n",
    "pearson, spearman, kendall= corr_Sensori(creazione_df(df_Dati, 'ATM07_01480', 'ATM10_01481', 'C6H6_ug_m3' ), 'ATM07_01480', 'ATM10_01481')\n",
    "print('pearson: ', pearson, ' spearman: ', spearman, ' kendall: ', kendall)\n",
    " "
   ]
  },
  {
   "cell_type": "code",
   "execution_count": null,
   "metadata": {},
   "outputs": [],
   "source": [
    "# correlazione per il sensore VOC_ppm\n",
    "pearson, spearman, kendall= corr_Sensori(creazione_df(df_Dati, 'ATM07_01480', 'ATM10_01481', 'VOC_ppm' ), 'ATM07_01480', 'ATM10_01481')\n",
    "print('pearson: ', pearson, ' spearman: ', spearman, ' kendall: ', kendall)\n",
    " "
   ]
  },
  {
   "cell_type": "code",
   "execution_count": null,
   "metadata": {},
   "outputs": [],
   "source": [
    "# correlazione per il sensore PIDVOC_ppb\n",
    "pearson, spearman, kendall= corr_Sensori(creazione_df(df_Dati, 'ATM07_01480', 'ATM10_01481', 'PIDVOC_ppb' ), 'ATM07_01480', 'ATM10_01481')\n",
    "print('pearson: ', pearson, ' spearman: ', spearman, ' kendall: ', kendall)\n",
    " "
   ]
  },
  {
   "cell_type": "code",
   "execution_count": null,
   "metadata": {},
   "outputs": [],
   "source": [
    "# correlazione per il sensore H2S_ug_m3\n",
    "pearson, spearman, kendall= corr_Sensori(creazione_df(df_Dati, 'ATM07_01480', 'ATM10_01481', 'H2S_ug_m3' ), 'ATM07_01480', 'ATM10_01481')\n",
    "print('pearson: ', pearson, ' spearman: ', spearman, ' kendall: ', kendall)\n",
    " "
   ]
  },
  {
   "cell_type": "code",
   "execution_count": null,
   "metadata": {},
   "outputs": [],
   "source": [
    "# correlazione per il sensore H2SJ_ug_m3\n",
    "pearson, spearman, kendall= corr_Sensori(creazione_df(df_Dati, 'ATM07_01480', 'ATM10_01481', 'H2SJ_ug_m3' ), 'ATM07_01480', 'ATM10_01481')\n",
    "print('pearson: ', pearson, ' spearman: ', spearman, ' kendall: ', kendall)\n",
    " "
   ]
  },
  {
   "cell_type": "markdown",
   "metadata": {},
   "source": [
    "# POSTAZIONI ATM07_01480 E ATM14_01486"
   ]
  },
  {
   "cell_type": "code",
   "execution_count": null,
   "metadata": {},
   "outputs": [],
   "source": [
    "# correlazione per il sensore TRS_ppb\n",
    "pearson, spearman, kendall= corr_Sensori(creazione_df(df_Dati, 'ATM07_01480', 'ATM14_01486', 'TRS_ppb' ), 'ATM07_01480', 'ATM14_01486')\n",
    "print('pearson: ', pearson, ' spearman: ', spearman, ' kendall: ', kendall)\n",
    " "
   ]
  },
  {
   "cell_type": "code",
   "execution_count": null,
   "metadata": {},
   "outputs": [],
   "source": [
    "# correlazione per il sensore C6H6_ug_m3\n",
    "pearson, spearman, kendall= corr_Sensori(creazione_df(df_Dati, 'ATM07_01480', 'ATM14_01486', 'C6H6_ug_m3' ), 'ATM07_01480', 'ATM14_01486')\n",
    "print('pearson: ', pearson, ' spearman: ', spearman, ' kendall: ', kendall)\n",
    " "
   ]
  },
  {
   "cell_type": "code",
   "execution_count": null,
   "metadata": {},
   "outputs": [],
   "source": [
    "# correlazione per il sensore VOC_ppm\n",
    "pearson, spearman, kendall= corr_Sensori(creazione_df(df_Dati, 'ATM07_01480', 'ATM14_01486', 'VOC_ppm' ), 'ATM07_01480', 'ATM14_01486')\n",
    "print('pearson: ', pearson, ' spearman: ', spearman, ' kendall: ', kendall)\n",
    " "
   ]
  },
  {
   "cell_type": "code",
   "execution_count": null,
   "metadata": {},
   "outputs": [],
   "source": [
    "# correlazione per il sensore PIDVOC_ppb\n",
    "pearson, spearman, kendall= corr_Sensori(creazione_df(df_Dati, 'ATM07_01480', 'ATM14_01486', 'PIDVOC_ppb' ), 'ATM07_01480', 'ATM14_01486')\n",
    "print('pearson: ', pearson, ' spearman: ', spearman, ' kendall: ', kendall)\n",
    " "
   ]
  },
  {
   "cell_type": "code",
   "execution_count": null,
   "metadata": {},
   "outputs": [],
   "source": [
    "# correlazione per il sensore H2S_ug_m3\n",
    "pearson, spearman, kendall= corr_Sensori(creazione_df(df_Dati, 'ATM07_01480', 'ATM14_01486', 'H2S_ug_m3' ), 'ATM07_01480', 'ATM14_01486')\n",
    "print('pearson: ', pearson, ' spearman: ', spearman, ' kendall: ', kendall)\n",
    " "
   ]
  },
  {
   "cell_type": "code",
   "execution_count": null,
   "metadata": {},
   "outputs": [],
   "source": [
    "# correlazione per il sensore H2SJ_ug_m3\n",
    "pearson, spearman, kendall= corr_Sensori(creazione_df(df_Dati, 'ATM07_01480', 'ATM14_01486', 'H2SJ_ug_m3' ), 'ATM07_01480', 'ATM14_01486')\n",
    "print('pearson: ', pearson, ' spearman: ', spearman, ' kendall: ', kendall)\n",
    " "
   ]
  },
  {
   "cell_type": "markdown",
   "metadata": {},
   "source": [
    "# POSTAZIONI ATM10_01481 E ATM14_01486"
   ]
  },
  {
   "cell_type": "code",
   "execution_count": null,
   "metadata": {},
   "outputs": [],
   "source": [
    "# correlazione per il sensore TRS_ppb\n",
    "pearson, spearman, kendall= corr_Sensori(creazione_df(df_Dati, 'ATM10_01481', 'ATM14_01486', 'TRS_ppb' ), 'ATM10_01481', 'ATM14_01486')\n",
    "print('pearson: ', pearson, ' spearman: ', spearman, ' kendall: ', kendall)\n",
    " "
   ]
  },
  {
   "cell_type": "code",
   "execution_count": null,
   "metadata": {},
   "outputs": [],
   "source": [
    "# correlazione per il sensore C6H6_ug_m3\n",
    "pearson, spearman, kendall= corr_Sensori(creazione_df(df_Dati, 'ATM10_01481', 'ATM14_01486', 'C6H6_ug_m3' ), 'ATM10_01481', 'ATM14_01486')\n",
    "print('pearson: ', pearson, ' spearman: ', spearman, ' kendall: ', kendall)\n",
    " "
   ]
  },
  {
   "cell_type": "code",
   "execution_count": null,
   "metadata": {},
   "outputs": [],
   "source": [
    "# correlazione per il sensore VOC_ppm\n",
    "pearson, spearman, kendall= corr_Sensori(creazione_df(df_Dati, 'ATM10_01481', 'ATM14_01486', 'VOC_ppm' ), 'ATM10_01481', 'ATM14_01486')\n",
    "print('pearson: ', pearson, ' spearman: ', spearman, ' kendall: ', kendall)\n",
    " "
   ]
  },
  {
   "cell_type": "code",
   "execution_count": null,
   "metadata": {},
   "outputs": [],
   "source": [
    "# correlazione per il sensore PIDVOC_ppb\n",
    "pearson, spearman, kendall= corr_Sensori(creazione_df(df_Dati, 'ATM10_01481', 'ATM14_01486', 'PIDVOC_ppb' ), 'ATM10_01481', 'ATM14_01486')\n",
    "print('pearson: ', pearson, ' spearman: ', spearman, ' kendall: ', kendall)\n",
    " "
   ]
  },
  {
   "cell_type": "code",
   "execution_count": null,
   "metadata": {},
   "outputs": [],
   "source": [
    "# correlazione per il sensore H2S_ug_m3\n",
    "pearson, spearman, kendall= corr_Sensori(creazione_df(df_Dati, 'ATM10_01481', 'ATM14_01486', 'H2S_ug_m3' ), 'ATM10_01481', 'ATM14_01486')\n",
    "print('pearson: ', pearson, ' spearman: ', spearman, ' kendall: ', kendall)\n",
    " "
   ]
  },
  {
   "cell_type": "code",
   "execution_count": null,
   "metadata": {},
   "outputs": [],
   "source": [
    "# correlazione per il sensore H2SJ_ug_m3\n",
    "pearson, spearman, kendall= corr_Sensori(creazione_df(df_Dati, 'ATM10_01481', 'ATM14_01486', 'H2SJ_ug_m3' ), 'ATM10_01481', 'ATM14_01486')\n",
    "print('pearson: ', pearson, ' spearman: ', spearman, ' kendall: ', kendall)\n",
    " "
   ]
  },
  {
   "cell_type": "markdown",
   "metadata": {},
   "source": [
    "# CORRELAZIONE 8"
   ]
  },
  {
   "cell_type": "code",
   "execution_count": null,
   "metadata": {},
   "outputs": [],
   "source": [
    "df_DatiMeteo = pd.read_excel('Dati_Meteo.xlsx')"
   ]
  },
  {
   "cell_type": "code",
   "execution_count": null,
   "metadata": {},
   "outputs": [],
   "source": [
    "df_DatiMeteo.plot()"
   ]
  },
  {
   "cell_type": "code",
   "execution_count": null,
   "metadata": {},
   "outputs": [],
   "source": [
    "# crea un dataframe composto dalla media oraria dei sensori in base alla stazione scelta\n",
    "def media_Stazione(df, postazione):\n",
    "    df1 = df[df['postazione'] == postazione]\n",
    "    df2 = pd.concat([media_oraria(df1, 'C6H6_ug_m3')['C6H6_ug_m3'],\n",
    "                      media_oraria(df1, 'H2S_ug_m3')['H2S_ug_m3'],\n",
    "                      media_oraria(df1, 'H2SJ_ug_m3')['H2SJ_ug_m3'],\n",
    "                      media_oraria(df1, 'VOC_ppm')['VOC_ppm'], \n",
    "                      media_oraria(df1, 'PIDVOC_ppb')['PIDVOC_ppb']], axis=1)\n",
    "    if postazione == 'ATM14_01486':\n",
    "        df2['TRS_ppb'] = 0\n",
    "    else:\n",
    "        df2['TRS_ppb'] = media_oraria(df1, 'TRS_ppb')['TRS_ppb']\n",
    "    return df2"
   ]
  },
  {
   "cell_type": "code",
   "execution_count": null,
   "metadata": {},
   "outputs": [],
   "source": [
    "stazione = ['ATM05_01479','ATM07_01480','ATM10_01481', 'ATM14_01486']\n",
    "sensore = ['TRS_ppb','C6H6_ug_m3', 'VOC_ppm', 'PIDVOC_ppb', 'H2S_ug_m3', 'H2SJ_ug_m3']\n",
    "meteo = ['temperatura_gradiC', 'direzione_vento_gradi','pressione_hPa', 'intensità_vento_km_h', 'umidità_relativa', 'precipitazioni']"
   ]
  },
  {
   "cell_type": "code",
   "execution_count": null,
   "metadata": {},
   "outputs": [],
   "source": [
    "# correlazione con la temperatura per il sensore ATM05_01479 \n",
    "df_ATM5 = media_Stazione(df_DatiPuliti, stazione[0]).fillna(0)\n",
    "df_ATM5['postazione'] = 'ATM05_01479'\n",
    "df_ATM5"
   ]
  },
  {
   "cell_type": "code",
   "execution_count": null,
   "metadata": {},
   "outputs": [],
   "source": [
    "pearson, spearman, kendall = corr_Sensori(creazione_df(df_ATM5, \n",
    "                                              stazione[0], meteo[0], sensore[0], df2 = df_DatiMeteo), stazione[0], meteo[0])\n",
    "print('pearson: ', pearson, ' spearman: ', spearman, ' kendall: ', kendall)\n",
    " "
   ]
  },
  {
   "cell_type": "code",
   "execution_count": null,
   "metadata": {},
   "outputs": [],
   "source": [
    "pearson, spearman, kendall = corr_Sensori(creazione_df(df_ATM5, \n",
    "                                              stazione[0], meteo[0], sensore[1], df2 = df_DatiMeteo), stazione[0], meteo[0])\n",
    "print('pearson: ', pearson, ' spearman: ', spearman, ' kendall: ', kendall)\n",
    " "
   ]
  },
  {
   "cell_type": "code",
   "execution_count": null,
   "metadata": {},
   "outputs": [],
   "source": [
    "pearson, spearman, kendall = corr_Sensori(creazione_df(df_ATM5, \n",
    "                                              stazione[0], meteo[0], sensore[2], df2 = df_DatiMeteo), stazione[0], meteo[0])\n",
    "print('pearson: ', pearson, ' spearman: ', spearman, ' kendall: ', kendall)\n",
    " "
   ]
  },
  {
   "cell_type": "code",
   "execution_count": null,
   "metadata": {},
   "outputs": [],
   "source": [
    "pearson, spearman, kendall = corr_Sensori(creazione_df(df_ATM5, \n",
    "                                              stazione[0], meteo[0], sensore[3], df2 = df_DatiMeteo), stazione[0], meteo[0])\n",
    "print('pearson: ', pearson, ' spearman: ', spearman, ' kendall: ', kendall)\n",
    " "
   ]
  },
  {
   "cell_type": "code",
   "execution_count": null,
   "metadata": {},
   "outputs": [],
   "source": [
    "pearson, spearman, kendall = corr_Sensori(creazione_df(df_ATM5, \n",
    "                                              stazione[0], meteo[0], sensore[4], df2 = df_DatiMeteo), stazione[0], meteo[0])\n",
    "print('pearson: ', pearson, ' spearman: ', spearman, ' kendall: ', kendall)\n",
    " "
   ]
  },
  {
   "cell_type": "code",
   "execution_count": null,
   "metadata": {},
   "outputs": [],
   "source": [
    "pearson, spearman, kendall = corr_Sensori(creazione_df(df_ATM5, \n",
    "                                              stazione[0], meteo[0], sensore[5], df2 = df_DatiMeteo), stazione[0], meteo[0])\n",
    "print('pearson: ', pearson, ' spearman: ', spearman, ' kendall: ', kendall)\n",
    " "
   ]
  },
  {
   "cell_type": "code",
   "execution_count": null,
   "metadata": {},
   "outputs": [],
   "source": [
    "# correlazione con la temperatura per il sensore ATM07_01480\n",
    "df_ATM7 = media_Stazione(df_DatiPuliti, stazione[1]).fillna(0)\n",
    "df_ATM7['postazione'] = 'ATM07_01480'\n",
    "df_ATM7\n"
   ]
  },
  {
   "cell_type": "code",
   "execution_count": null,
   "metadata": {},
   "outputs": [],
   "source": [
    "pearson, spearman, kendall = corr_Sensori(creazione_df(df_ATM7, \n",
    "                                              stazione[1], meteo[0], sensore[0], df2 = df_DatiMeteo), stazione[1], meteo[0])\n",
    "print('pearson: ', pearson, ' spearman: ', spearman, ' kendall: ', kendall)\n",
    " "
   ]
  },
  {
   "cell_type": "code",
   "execution_count": null,
   "metadata": {},
   "outputs": [],
   "source": [
    "pearson, spearman, kendall = corr_Sensori(creazione_df(df_ATM7, \n",
    "                                              stazione[1], meteo[0], sensore[1], df2 = df_DatiMeteo), stazione[1], meteo[0])\n",
    "print('pearson: ', pearson, ' spearman: ', spearman, ' kendall: ', kendall)\n",
    " "
   ]
  },
  {
   "cell_type": "code",
   "execution_count": null,
   "metadata": {},
   "outputs": [],
   "source": [
    "pearson, spearman, kendall = corr_Sensori(creazione_df(df_ATM7, \n",
    "                                              stazione[1], meteo[0], sensore[2], df2 = df_DatiMeteo), stazione[1], meteo[0])\n",
    "print('pearson: ', pearson, ' spearman: ', spearman, ' kendall: ', kendall)\n",
    " "
   ]
  },
  {
   "cell_type": "code",
   "execution_count": null,
   "metadata": {},
   "outputs": [],
   "source": [
    "pearson, spearman, kendall = corr_Sensori(creazione_df(df_ATM7, \n",
    "                                              stazione[1], meteo[0], sensore[3], df2 = df_DatiMeteo), stazione[1], meteo[0])\n",
    "print('pearson: ', pearson, ' spearman: ', spearman, ' kendall: ', kendall)\n",
    " "
   ]
  },
  {
   "cell_type": "code",
   "execution_count": null,
   "metadata": {},
   "outputs": [],
   "source": [
    "pearson, spearman, kendall = corr_Sensori(creazione_df(df_ATM7, \n",
    "                                              stazione[1], meteo[0], sensore[4], df2 = df_DatiMeteo), stazione[1], meteo[0])\n",
    "print('pearson: ', pearson, ' spearman: ', spearman, ' kendall: ', kendall)\n",
    " "
   ]
  },
  {
   "cell_type": "code",
   "execution_count": null,
   "metadata": {},
   "outputs": [],
   "source": [
    "pearson, spearman, kendall = corr_Sensori(creazione_df(df_ATM7, \n",
    "                                              stazione[1], meteo[0], sensore[5], df2 = df_DatiMeteo), stazione[1], meteo[0])\n",
    "print('pearson: ', pearson, ' spearman: ', spearman, ' kendall: ', kendall)\n",
    " "
   ]
  },
  {
   "cell_type": "code",
   "execution_count": null,
   "metadata": {},
   "outputs": [],
   "source": [
    "# correlazione con la temperatura per il sensore ATM10_01481\n",
    "df_ATM10 = media_Stazione(df_DatiPuliti, stazione[2]).fillna(0)\n",
    "df_ATM10['postazione'] = 'ATM10_01481'\n",
    "df_ATM10"
   ]
  },
  {
   "cell_type": "code",
   "execution_count": null,
   "metadata": {},
   "outputs": [],
   "source": [
    "pearson, spearman, kendall = corr_Sensori(creazione_df(df_ATM10, \n",
    "                                              stazione[2], meteo[0], sensore[0], df2 = df_DatiMeteo), stazione[2], meteo[0])\n",
    "print('pearson: ', pearson, ' spearman: ', spearman, ' kendall: ', kendall)\n",
    " "
   ]
  },
  {
   "cell_type": "code",
   "execution_count": null,
   "metadata": {},
   "outputs": [],
   "source": [
    "pearson, spearman, kendall = corr_Sensori(creazione_df(df_ATM10, \n",
    "                                              stazione[2], meteo[0], sensore[1], df2 = df_DatiMeteo), stazione[2], meteo[0])\n",
    "print('pearson: ', pearson, ' spearman: ', spearman, ' kendall: ', kendall)\n",
    " "
   ]
  },
  {
   "cell_type": "code",
   "execution_count": null,
   "metadata": {},
   "outputs": [],
   "source": [
    "pearson, spearman, kendall = corr_Sensori(creazione_df(df_ATM10, \n",
    "                                              stazione[2], meteo[0], sensore[2], df2 = df_DatiMeteo), stazione[2], meteo[0])\n",
    "print('pearson: ', pearson, ' spearman: ', spearman, ' kendall: ', kendall)\n",
    " "
   ]
  },
  {
   "cell_type": "code",
   "execution_count": null,
   "metadata": {},
   "outputs": [],
   "source": [
    "pearson, spearman, kendall = corr_Sensori(creazione_df(df_ATM10, \n",
    "                                              stazione[2], meteo[0], sensore[3], df2 = df_DatiMeteo), stazione[2], meteo[0])\n",
    "print('pearson: ', pearson, ' spearman: ', spearman, ' kendall: ', kendall)\n",
    " "
   ]
  },
  {
   "cell_type": "code",
   "execution_count": null,
   "metadata": {},
   "outputs": [],
   "source": [
    "pearson, spearman, kendall = corr_Sensori(creazione_df(df_ATM10, \n",
    "                                              stazione[2], meteo[0], sensore[4], df2 = df_DatiMeteo), stazione[2], meteo[0])\n",
    "print('pearson: ', pearson, ' spearman: ', spearman, ' kendall: ', kendall)\n",
    " "
   ]
  },
  {
   "cell_type": "code",
   "execution_count": null,
   "metadata": {},
   "outputs": [],
   "source": [
    "pearson, spearman, kendall = corr_Sensori(creazione_df(df_ATM10, \n",
    "                                              stazione[2], meteo[0], sensore[5], df2 = df_DatiMeteo), stazione[2], meteo[0])\n",
    "print('pearson: ', pearson, ' spearman: ', spearman, ' kendall: ', kendall)\n",
    " "
   ]
  },
  {
   "cell_type": "code",
   "execution_count": null,
   "metadata": {},
   "outputs": [],
   "source": [
    "# correlazione con la temperatura per il sensore ATM14_01486\n",
    "df_ATM14 = media_Stazione(df_DatiPuliti, stazione[3]).fillna(0)\n",
    "df_ATM14['postazione'] = 'ATM14_01486'\n",
    "df_ATM14\n"
   ]
  },
  {
   "cell_type": "code",
   "execution_count": null,
   "metadata": {},
   "outputs": [],
   "source": [
    "pearson, spearman, kendall = corr_Sensori(creazione_df(df_ATM14, \n",
    "                                              stazione[3], meteo[0], sensore[0], df2 = df_DatiMeteo), stazione[3], meteo[0])\n",
    "print('pearson: ', pearson, ' spearman: ', spearman, ' kendall: ', kendall)"
   ]
  },
  {
   "cell_type": "code",
   "execution_count": null,
   "metadata": {},
   "outputs": [],
   "source": [
    "pearson, spearman, kendall = corr_Sensori(creazione_df(df_ATM14, \n",
    "                                              stazione[3], meteo[0], sensore[1], df2 = df_DatiMeteo), stazione[3], meteo[0])\n",
    "print('pearson: ', pearson, ' spearman: ', spearman, ' kendall: ', kendall)"
   ]
  },
  {
   "cell_type": "code",
   "execution_count": null,
   "metadata": {},
   "outputs": [],
   "source": [
    "pearson, spearman, kendall = corr_Sensori(creazione_df(df_ATM14, \n",
    "                                              stazione[3], meteo[0], sensore[2], df2 = df_DatiMeteo), stazione[3], meteo[0])\n",
    "print('pearson: ', pearson, ' spearman: ', spearman, ' kendall: ', kendall)"
   ]
  },
  {
   "cell_type": "code",
   "execution_count": null,
   "metadata": {},
   "outputs": [],
   "source": [
    "pearson, spearman, kendall = corr_Sensori(creazione_df(df_ATM14, \n",
    "                                              stazione[3], meteo[0], sensore[3], df2 = df_DatiMeteo), stazione[3], meteo[0])\n",
    "print('pearson: ', pearson, ' spearman: ', spearman, ' kendall: ', kendall)\n",
    " "
   ]
  },
  {
   "cell_type": "code",
   "execution_count": null,
   "metadata": {},
   "outputs": [],
   "source": [
    "pearson, spearman, kendall = corr_Sensori(creazione_df(df_ATM14, \n",
    "                                              stazione[3], meteo[0], sensore[4], df2 = df_DatiMeteo), stazione[3], meteo[0])\n",
    "print('pearson: ', pearson, ' spearman: ', spearman, ' kendall: ', kendall) "
   ]
  },
  {
   "cell_type": "code",
   "execution_count": null,
   "metadata": {},
   "outputs": [],
   "source": [
    "pearson, spearman, kendall = corr_Sensori(creazione_df(df_ATM14, \n",
    "                                              stazione[3], meteo[0], sensore[5], df2 = df_DatiMeteo), stazione[3], meteo[0])\n",
    "print('pearson: ', pearson, ' spearman: ', spearman, ' kendall: ', kendall)"
   ]
  },
  {
   "cell_type": "markdown",
   "metadata": {},
   "source": [
    "# CORRELAZIONE 9"
   ]
  },
  {
   "cell_type": "code",
   "execution_count": null,
   "metadata": {},
   "outputs": [],
   "source": [
    "# correlazione con la direzione del vento per il sensore ATM05_01479 \n",
    "df_ATM5 = media_Stazione(df_DatiPuliti, stazione[0]).fillna(0)\n",
    "df_ATM5['postazione'] = 'ATM05_01479'\n",
    "df_ATM5"
   ]
  },
  {
   "cell_type": "code",
   "execution_count": null,
   "metadata": {},
   "outputs": [],
   "source": [
    "pearson, spearman, kendall = corr_Sensori(creazione_df(df_ATM5, \n",
    "                                              stazione[0], meteo[1], sensore[0], df2 = df_DatiMeteo), stazione[0], meteo[1])\n",
    "print('pearson: ', pearson, ' spearman: ', spearman, ' kendall: ', kendall)\n",
    " "
   ]
  },
  {
   "cell_type": "code",
   "execution_count": null,
   "metadata": {},
   "outputs": [],
   "source": [
    "pearson, spearman, kendall = corr_Sensori(creazione_df(df_ATM5, \n",
    "                                              stazione[0], meteo[1], sensore[1], df2 = df_DatiMeteo), stazione[0], meteo[1])\n",
    "print('pearson: ', pearson, ' spearman: ', spearman, ' kendall: ', kendall)\n",
    " "
   ]
  },
  {
   "cell_type": "code",
   "execution_count": null,
   "metadata": {},
   "outputs": [],
   "source": [
    "pearson, spearman, kendall = corr_Sensori(creazione_df(df_ATM5, \n",
    "                                              stazione[0], meteo[1], sensore[2], df2 = df_DatiMeteo), stazione[0], meteo[1])\n",
    "print('pearson: ', pearson, ' spearman: ', spearman, ' kendall: ', kendall)\n",
    " "
   ]
  },
  {
   "cell_type": "code",
   "execution_count": null,
   "metadata": {},
   "outputs": [],
   "source": [
    "pearson, spearman, kendall = corr_Sensori(creazione_df(df_ATM5, \n",
    "                                              stazione[0], meteo[1], sensore[3], df2 = df_DatiMeteo), stazione[0], meteo[1])\n",
    "print('pearson: ', pearson, ' spearman: ', spearman, ' kendall: ', kendall)\n",
    " "
   ]
  },
  {
   "cell_type": "code",
   "execution_count": null,
   "metadata": {},
   "outputs": [],
   "source": [
    "pearson, spearman, kendall = corr_Sensori(creazione_df(df_ATM5, \n",
    "                                              stazione[0], meteo[1], sensore[4], df2 = df_DatiMeteo), stazione[0], meteo[1])\n",
    "print('pearson: ', pearson, ' spearman: ', spearman, ' kendall: ', kendall)\n",
    " "
   ]
  },
  {
   "cell_type": "code",
   "execution_count": null,
   "metadata": {},
   "outputs": [],
   "source": [
    "pearson, spearman, kendall = corr_Sensori(creazione_df(df_ATM5, \n",
    "                                              stazione[0], meteo[1], sensore[5], df2 = df_DatiMeteo), stazione[0], meteo[1])\n",
    "print('pearson: ', pearson, ' spearman: ', spearman, ' kendall: ', kendall)\n",
    " "
   ]
  },
  {
   "cell_type": "code",
   "execution_count": null,
   "metadata": {},
   "outputs": [],
   "source": [
    "# correlazione con la direzione del vento per il sensore ATM07_01480\n",
    "df_ATM7 = media_Stazione(df_DatiPuliti, stazione[1]).fillna(0)\n",
    "df_ATM7['postazione'] = 'ATM07_01480'\n",
    "df_ATM7\n"
   ]
  },
  {
   "cell_type": "code",
   "execution_count": null,
   "metadata": {},
   "outputs": [],
   "source": [
    "pearson, spearman, kendall = corr_Sensori(creazione_df(df_ATM7, \n",
    "                                              stazione[1], meteo[1], sensore[0], df2 = df_DatiMeteo), stazione[1], meteo[1])\n",
    "print('pearson: ', pearson, ' spearman: ', spearman, ' kendall: ', kendall)\n",
    " "
   ]
  },
  {
   "cell_type": "code",
   "execution_count": null,
   "metadata": {},
   "outputs": [],
   "source": [
    "pearson, spearman, kendall = corr_Sensori(creazione_df(df_ATM7, \n",
    "                                              stazione[1], meteo[1], sensore[1], df2 = df_DatiMeteo), stazione[1], meteo[1])\n",
    "print('pearson: ', pearson, ' spearman: ', spearman, ' kendall: ', kendall)\n",
    " "
   ]
  },
  {
   "cell_type": "code",
   "execution_count": null,
   "metadata": {},
   "outputs": [],
   "source": [
    "pearson, spearman, kendall = corr_Sensori(creazione_df(df_ATM7, \n",
    "                                              stazione[1], meteo[1], sensore[2], df2 = df_DatiMeteo), stazione[1], meteo[1])\n",
    "print('pearson: ', pearson, ' spearman: ', spearman, ' kendall: ', kendall)\n",
    " "
   ]
  },
  {
   "cell_type": "code",
   "execution_count": null,
   "metadata": {},
   "outputs": [],
   "source": [
    "pearson, spearman, kendall = corr_Sensori(creazione_df(df_ATM7, \n",
    "                                              stazione[1], meteo[1], sensore[3], df2 = df_DatiMeteo), stazione[1], meteo[1])\n",
    "print('pearson: ', pearson, ' spearman: ', spearman, ' kendall: ', kendall)\n",
    " "
   ]
  },
  {
   "cell_type": "code",
   "execution_count": null,
   "metadata": {},
   "outputs": [],
   "source": [
    "pearson, spearman, kendall = corr_Sensori(creazione_df(df_ATM7, \n",
    "                                              stazione[1], meteo[1], sensore[4], df2 = df_DatiMeteo), stazione[1], meteo[1])\n",
    "print('pearson: ', pearson, ' spearman: ', spearman, ' kendall: ', kendall)"
   ]
  },
  {
   "cell_type": "code",
   "execution_count": null,
   "metadata": {},
   "outputs": [],
   "source": [
    "pearson, spearman, kendall = corr_Sensori(creazione_df(df_ATM7, \n",
    "                                              stazione[1], meteo[1], sensore[5], df2 = df_DatiMeteo), stazione[1], meteo[1])\n",
    "print('pearson: ', pearson, ' spearman: ', spearman, ' kendall: ', kendall)\n",
    " "
   ]
  },
  {
   "cell_type": "code",
   "execution_count": null,
   "metadata": {},
   "outputs": [],
   "source": [
    "# correlazione con la direzione del vento per il sensore ATM10_01481\n",
    "df_ATM10 = media_Stazione(df_DatiPuliti, stazione[2]).fillna(0)\n",
    "df_ATM10['postazione'] = 'ATM10_01481'\n",
    "df_ATM10\n"
   ]
  },
  {
   "cell_type": "code",
   "execution_count": null,
   "metadata": {},
   "outputs": [],
   "source": [
    "pearson, spearman, kendall = corr_Sensori(creazione_df(df_ATM10, \n",
    "                                              stazione[2], meteo[1], sensore[0], df2 = df_DatiMeteo), stazione[2], meteo[1])\n",
    "print('pearson: ', pearson, ' spearman: ', spearman, ' kendall: ', kendall)\n",
    " "
   ]
  },
  {
   "cell_type": "code",
   "execution_count": null,
   "metadata": {},
   "outputs": [],
   "source": [
    "pearson, spearman, kendall = corr_Sensori(creazione_df(df_ATM10, \n",
    "                                              stazione[2], meteo[1], sensore[1], df2 = df_DatiMeteo), stazione[2], meteo[1])\n",
    "print('pearson: ', pearson, ' spearman: ', spearman, ' kendall: ', kendall)\n"
   ]
  },
  {
   "cell_type": "code",
   "execution_count": null,
   "metadata": {},
   "outputs": [],
   "source": [
    "pearson, spearman, kendall = corr_Sensori(creazione_df(df_ATM10, \n",
    "                                              stazione[2], meteo[1], sensore[2], df2 = df_DatiMeteo), stazione[2], meteo[1])\n",
    "print('pearson: ', pearson, ' spearman: ', spearman, ' kendall: ', kendall)\n",
    " "
   ]
  },
  {
   "cell_type": "code",
   "execution_count": null,
   "metadata": {},
   "outputs": [],
   "source": [
    "pearson, spearman, kendall = corr_Sensori(creazione_df(df_ATM10, \n",
    "                                              stazione[2], meteo[1], sensore[3], df2 = df_DatiMeteo), stazione[2], meteo[1])\n",
    "print('pearson: ', pearson, ' spearman: ', spearman, ' kendall: ', kendall)\n",
    " "
   ]
  },
  {
   "cell_type": "code",
   "execution_count": null,
   "metadata": {},
   "outputs": [],
   "source": [
    "pearson, spearman, kendall = corr_Sensori(creazione_df(df_ATM10, \n",
    "                                              stazione[2], meteo[1], sensore[4], df2 = df_DatiMeteo), stazione[2], meteo[1])\n",
    "print('pearson: ', pearson, ' spearman: ', spearman, ' kendall: ', kendall)\n",
    " "
   ]
  },
  {
   "cell_type": "code",
   "execution_count": null,
   "metadata": {},
   "outputs": [],
   "source": [
    "pearson, spearman, kendall = corr_Sensori(creazione_df(df_ATM10, \n",
    "                                              stazione[2], meteo[1], sensore[5], df2 = df_DatiMeteo), stazione[2], meteo[1])\n",
    "print('pearson: ', pearson, ' spearman: ', spearman, ' kendall: ', kendall)\n",
    " "
   ]
  },
  {
   "cell_type": "code",
   "execution_count": null,
   "metadata": {},
   "outputs": [],
   "source": [
    "# correlazione con la direzione del vento per il sensore ATM14_01486\n",
    "df_ATM14 = media_Stazione(df_DatiPuliti, stazione[3]).fillna(0)\n",
    "df_ATM14['postazione'] = 'ATM14_01486'\n",
    "df_ATM14"
   ]
  },
  {
   "cell_type": "code",
   "execution_count": null,
   "metadata": {},
   "outputs": [],
   "source": [
    "pearson, spearman, kendall = corr_Sensori(creazione_df(df_ATM14, \n",
    "                                              stazione[3], meteo[1], sensore[0], df2 = df_DatiMeteo), stazione[3], meteo[1])\n",
    "print('pearson: ', pearson, ' spearman: ', spearman, ' kendall: ', kendall)"
   ]
  },
  {
   "cell_type": "code",
   "execution_count": null,
   "metadata": {},
   "outputs": [],
   "source": [
    "pearson, spearman, kendall = corr_Sensori(creazione_df(df_ATM14, \n",
    "                                              stazione[3], meteo[1], sensore[1], df2 = df_DatiMeteo), stazione[3], meteo[1])\n",
    "print('pearson: ', pearson, ' spearman: ', spearman, ' kendall: ', kendall)\n",
    " "
   ]
  },
  {
   "cell_type": "code",
   "execution_count": null,
   "metadata": {},
   "outputs": [],
   "source": [
    "pearson, spearman, kendall = corr_Sensori(creazione_df(df_ATM14, \n",
    "                                              stazione[3], meteo[1], sensore[2], df2 = df_DatiMeteo), stazione[3], meteo[1])\n",
    "print('pearson: ', pearson, ' spearman: ', spearman, ' kendall: ', kendall)\n",
    " "
   ]
  },
  {
   "cell_type": "code",
   "execution_count": null,
   "metadata": {},
   "outputs": [],
   "source": [
    "pearson, spearman, kendall = corr_Sensori(creazione_df(df_ATM14, \n",
    "                                              stazione[3], meteo[1], sensore[3], df2 = df_DatiMeteo), stazione[3], meteo[1])\n",
    "print('pearson: ', pearson, ' spearman: ', spearman, ' kendall: ', kendall)\n",
    " "
   ]
  },
  {
   "cell_type": "code",
   "execution_count": null,
   "metadata": {},
   "outputs": [],
   "source": [
    "pearson, spearman, kendall = corr_Sensori(creazione_df(df_ATM14, \n",
    "                                              stazione[3], meteo[1], sensore[4], df2 = df_DatiMeteo), stazione[3], meteo[1])\n",
    "print('pearson: ', pearson, ' spearman: ', spearman, ' kendall: ', kendall)\n",
    " "
   ]
  },
  {
   "cell_type": "code",
   "execution_count": null,
   "metadata": {},
   "outputs": [],
   "source": [
    "pearson, spearman, kendall = corr_Sensori(creazione_df(df_ATM14, \n",
    "                                              stazione[3], meteo[1], sensore[5], df2 = df_DatiMeteo), stazione[3], meteo[1])\n",
    "print('pearson: ', pearson, ' spearman: ', spearman, ' kendall: ', kendall)\n",
    " "
   ]
  },
  {
   "cell_type": "markdown",
   "metadata": {},
   "source": [
    "# CORRELAZIONE 10"
   ]
  },
  {
   "cell_type": "code",
   "execution_count": null,
   "metadata": {},
   "outputs": [],
   "source": [
    "# correlazione con la pressione atmosferica per il sensore ATM05_01479 \n",
    "df_ATM5 = media_Stazione(df_DatiPuliti, stazione[0]).fillna(0)\n",
    "df_ATM5['postazione'] = 'ATM05_01479'\n",
    "df_ATM5"
   ]
  },
  {
   "cell_type": "code",
   "execution_count": null,
   "metadata": {},
   "outputs": [],
   "source": [
    "pearson, spearman, kendall = corr_Sensori(creazione_df(df_ATM5, \n",
    "                                              stazione[0], meteo[2], sensore[0], df2 = df_DatiMeteo), stazione[0], meteo[2])\n",
    "print('pearson: ', pearson, ' spearman: ', spearman, ' kendall: ', kendall)\n",
    " "
   ]
  },
  {
   "cell_type": "code",
   "execution_count": null,
   "metadata": {},
   "outputs": [],
   "source": [
    "pearson, spearman, kendall = corr_Sensori(creazione_df(df_ATM5, \n",
    "                                              stazione[0], meteo[2], sensore[1], df2 = df_DatiMeteo), stazione[0], meteo[2])\n",
    "print('pearson: ', pearson, ' spearman: ', spearman, ' kendall: ', kendall)\n",
    " "
   ]
  },
  {
   "cell_type": "code",
   "execution_count": null,
   "metadata": {},
   "outputs": [],
   "source": [
    "pearson, spearman, kendall = corr_Sensori(creazione_df(df_ATM5, \n",
    "                                              stazione[0], meteo[2], sensore[2], df2 = df_DatiMeteo), stazione[0], meteo[2])\n",
    "print('pearson: ', pearson, ' spearman: ', spearman, ' kendall: ', kendall)\n",
    " "
   ]
  },
  {
   "cell_type": "code",
   "execution_count": null,
   "metadata": {},
   "outputs": [],
   "source": [
    "pearson, spearman, kendall = corr_Sensori(creazione_df(df_ATM5, \n",
    "                                              stazione[0], meteo[2], sensore[3], df2 = df_DatiMeteo), stazione[0], meteo[2])\n",
    "print('pearson: ', pearson, ' spearman: ', spearman, ' kendall: ', kendall)\n",
    " "
   ]
  },
  {
   "cell_type": "code",
   "execution_count": null,
   "metadata": {},
   "outputs": [],
   "source": [
    "pearson, spearman, kendall = corr_Sensori(creazione_df(df_ATM5, \n",
    "                                              stazione[0], meteo[2], sensore[4], df2 = df_DatiMeteo), stazione[0], meteo[2])\n",
    "print('pearson: ', pearson, ' spearman: ', spearman, ' kendall: ', kendall)\n",
    " "
   ]
  },
  {
   "cell_type": "code",
   "execution_count": null,
   "metadata": {},
   "outputs": [],
   "source": [
    "pearson, spearman, kendall = corr_Sensori(creazione_df(df_ATM5, \n",
    "                                              stazione[0], meteo[2], sensore[5], df2 = df_DatiMeteo), stazione[0], meteo[2])\n",
    "print('pearson: ', pearson, ' spearman: ', spearman, ' kendall: ', kendall)\n",
    " "
   ]
  },
  {
   "cell_type": "code",
   "execution_count": null,
   "metadata": {},
   "outputs": [],
   "source": [
    "# correlazione con la pressione atmosferica per il sensore ATM07_01480\n",
    "df_ATM7 = media_Stazione(df_DatiPuliti, stazione[1]).fillna(0)\n",
    "df_ATM7['postazione'] = 'ATM07_01480'\n",
    "df_ATM7"
   ]
  },
  {
   "cell_type": "code",
   "execution_count": null,
   "metadata": {},
   "outputs": [],
   "source": [
    "pearson, spearman, kendall = corr_Sensori(creazione_df(df_ATM7, \n",
    "                                              stazione[1], meteo[2], sensore[0], df2 = df_DatiMeteo), stazione[1], meteo[2])\n",
    "print('pearson: ', pearson, ' spearman: ', spearman, ' kendall: ', kendall)\n",
    " "
   ]
  },
  {
   "cell_type": "code",
   "execution_count": null,
   "metadata": {},
   "outputs": [],
   "source": [
    "pearson, spearman, kendall = corr_Sensori(creazione_df(df_ATM7, \n",
    "                                              stazione[1], meteo[2], sensore[1], df2 = df_DatiMeteo), stazione[1], meteo[2])\n",
    "print('pearson: ', pearson, ' spearman: ', spearman, ' kendall: ', kendall)\n",
    " "
   ]
  },
  {
   "cell_type": "code",
   "execution_count": null,
   "metadata": {},
   "outputs": [],
   "source": [
    "pearson, spearman, kendall = corr_Sensori(creazione_df(df_ATM7, \n",
    "                                              stazione[1], meteo[2], sensore[2], df2 = df_DatiMeteo), stazione[1], meteo[2])\n",
    "print('pearson: ', pearson, ' spearman: ', spearman, ' kendall: ', kendall)\n",
    " "
   ]
  },
  {
   "cell_type": "code",
   "execution_count": null,
   "metadata": {},
   "outputs": [],
   "source": [
    "pearson, spearman, kendall = corr_Sensori(creazione_df(df_ATM7, \n",
    "                                              stazione[1], meteo[2], sensore[3], df2 = df_DatiMeteo), stazione[1], meteo[2])\n",
    "print('pearson: ', pearson, ' spearman: ', spearman, ' kendall: ', kendall)\n",
    " "
   ]
  },
  {
   "cell_type": "code",
   "execution_count": null,
   "metadata": {},
   "outputs": [],
   "source": [
    "pearson, spearman, kendall = corr_Sensori(creazione_df(df_ATM7, \n",
    "                                              stazione[1], meteo[2], sensore[4], df2 = df_DatiMeteo), stazione[1], meteo[2])\n",
    "print('pearson: ', pearson, ' spearman: ', spearman, ' kendall: ', kendall)\n",
    " "
   ]
  },
  {
   "cell_type": "code",
   "execution_count": null,
   "metadata": {},
   "outputs": [],
   "source": [
    "pearson, spearman, kendall = corr_Sensori(creazione_df(df_ATM7, \n",
    "                                              stazione[1], meteo[2], sensore[5], df2 = df_DatiMeteo), stazione[1], meteo[2])\n",
    "print('pearson: ', pearson, ' spearman: ', spearman, ' kendall: ', kendall)\n",
    " "
   ]
  },
  {
   "cell_type": "code",
   "execution_count": null,
   "metadata": {},
   "outputs": [],
   "source": [
    "# correlazione con la pressione atmosferica per il sensore ATM10_01481\n",
    "df_ATM10 = media_Stazione(df_DatiPuliti, stazione[2]).fillna(0)\n",
    "df_ATM10['postazione'] = 'ATM10_01481'\n",
    "df_ATM10"
   ]
  },
  {
   "cell_type": "code",
   "execution_count": null,
   "metadata": {},
   "outputs": [],
   "source": [
    "pearson, spearman, kendall = corr_Sensori(creazione_df(df_ATM10, \n",
    "                                              stazione[2], meteo[2], sensore[0], df2 = df_DatiMeteo), stazione[2], meteo[2])\n",
    "print('pearson: ', pearson, ' spearman: ', spearman, ' kendall: ', kendall)\n",
    " "
   ]
  },
  {
   "cell_type": "code",
   "execution_count": null,
   "metadata": {},
   "outputs": [],
   "source": [
    "pearson, spearman, kendall = corr_Sensori(creazione_df(df_ATM10, \n",
    "                                              stazione[2], meteo[2], sensore[1], df2 = df_DatiMeteo), stazione[2], meteo[2])\n",
    "print('pearson: ', pearson, ' spearman: ', spearman, ' kendall: ', kendall)\n",
    " "
   ]
  },
  {
   "cell_type": "code",
   "execution_count": null,
   "metadata": {},
   "outputs": [],
   "source": [
    "pearson, spearman, kendall = corr_Sensori(creazione_df(df_ATM10, \n",
    "                                              stazione[2], meteo[2], sensore[2], df2 = df_DatiMeteo), stazione[2], meteo[2])\n",
    "print('pearson: ', pearson, ' spearman: ', spearman, ' kendall: ', kendall)\n",
    " "
   ]
  },
  {
   "cell_type": "code",
   "execution_count": null,
   "metadata": {},
   "outputs": [],
   "source": [
    "pearson, spearman, kendall = corr_Sensori(creazione_df(df_ATM10, \n",
    "                                              stazione[2], meteo[2], sensore[3], df2 = df_DatiMeteo), stazione[2], meteo[2])\n",
    "print('pearson: ', pearson, ' spearman: ', spearman, ' kendall: ', kendall)\n",
    " "
   ]
  },
  {
   "cell_type": "code",
   "execution_count": null,
   "metadata": {},
   "outputs": [],
   "source": [
    "pearson, spearman, kendall = corr_Sensori(creazione_df(df_ATM10, \n",
    "                                              stazione[2], meteo[2], sensore[4], df2 = df_DatiMeteo), stazione[2], meteo[2])\n",
    "print('pearson: ', pearson, ' spearman: ', spearman, ' kendall: ', kendall)\n",
    " "
   ]
  },
  {
   "cell_type": "code",
   "execution_count": null,
   "metadata": {},
   "outputs": [],
   "source": [
    "pearson, spearman, kendall = corr_Sensori(creazione_df(df_ATM10, \n",
    "                                              stazione[2], meteo[2], sensore[5], df2 = df_DatiMeteo), stazione[2], meteo[2])\n",
    "print('pearson: ', pearson, ' spearman: ', spearman, ' kendall: ', kendall)\n",
    " "
   ]
  },
  {
   "cell_type": "code",
   "execution_count": null,
   "metadata": {},
   "outputs": [],
   "source": [
    "# correlazione con la pressione atmosferica per il sensore ATM14_01486\n",
    "df_ATM14 = media_Stazione(df_DatiPuliti, stazione[3]).fillna(0)\n",
    "df_ATM14['postazione'] = 'ATM14_01486'\n",
    "df_ATM14"
   ]
  },
  {
   "cell_type": "code",
   "execution_count": null,
   "metadata": {},
   "outputs": [],
   "source": [
    "pearson, spearman, kendall = corr_Sensori(creazione_df(df_ATM14, \n",
    "                                              stazione[3], meteo[2], sensore[0], df2 = df_DatiMeteo), stazione[3], meteo[2])\n",
    "print('pearson: ', pearson, ' spearman: ', spearman, ' kendall: ', kendall)\n",
    " "
   ]
  },
  {
   "cell_type": "code",
   "execution_count": null,
   "metadata": {},
   "outputs": [],
   "source": [
    "pearson, spearman, kendall = corr_Sensori(creazione_df(df_ATM14, \n",
    "                                              stazione[3], meteo[2], sensore[1], df2 = df_DatiMeteo), stazione[3], meteo[2])\n",
    "print('pearson: ', pearson, ' spearman: ', spearman, ' kendall: ', kendall)\n",
    " "
   ]
  },
  {
   "cell_type": "code",
   "execution_count": null,
   "metadata": {},
   "outputs": [],
   "source": [
    "pearson, spearman, kendall = corr_Sensori(creazione_df(df_ATM14, \n",
    "                                              stazione[3], meteo[2], sensore[2], df2 = df_DatiMeteo), stazione[3], meteo[2])\n",
    "print('pearson: ', pearson, ' spearman: ', spearman, ' kendall: ', kendall)\n",
    " "
   ]
  },
  {
   "cell_type": "code",
   "execution_count": null,
   "metadata": {},
   "outputs": [],
   "source": [
    "pearson, spearman, kendall = corr_Sensori(creazione_df(df_ATM14, \n",
    "                                              stazione[3], meteo[2], sensore[3], df2 = df_DatiMeteo), stazione[3], meteo[2])\n",
    "print('pearson: ', pearson, ' spearman: ', spearman, ' kendall: ', kendall)\n",
    " "
   ]
  },
  {
   "cell_type": "code",
   "execution_count": null,
   "metadata": {},
   "outputs": [],
   "source": [
    "pearson, spearman, kendall = corr_Sensori(creazione_df(df_ATM14, \n",
    "                                              stazione[3], meteo[2], sensore[4], df2 = df_DatiMeteo), stazione[3], meteo[2])\n",
    "print('pearson: ', pearson, ' spearman: ', spearman, ' kendall: ', kendall)\n",
    " "
   ]
  },
  {
   "cell_type": "code",
   "execution_count": null,
   "metadata": {},
   "outputs": [],
   "source": [
    "pearson, spearman, kendall = corr_Sensori(creazione_df(df_ATM14, \n",
    "                                              stazione[3], meteo[2], sensore[5], df2 = df_DatiMeteo), stazione[3], meteo[2])\n",
    "print('pearson: ', pearson, ' spearman: ', spearman, ' kendall: ', kendall)\n",
    " "
   ]
  },
  {
   "cell_type": "markdown",
   "metadata": {},
   "source": [
    "# CORRELAZIONE 11"
   ]
  },
  {
   "cell_type": "code",
   "execution_count": null,
   "metadata": {},
   "outputs": [],
   "source": [
    "# correlazione con l'intensità del vento per il sensore ATM05_01479 \n",
    "df_ATM5 = media_Stazione(df_DatiPuliti, stazione[0]).fillna(0)\n",
    "df_ATM5['postazione'] = 'ATM05_01479'\n",
    "df_ATM5"
   ]
  },
  {
   "cell_type": "code",
   "execution_count": null,
   "metadata": {},
   "outputs": [],
   "source": [
    "pearson, spearman, kendall = corr_Sensori(creazione_df(df_ATM5, \n",
    "                                              stazione[0], meteo[3], sensore[0], df2 = df_DatiMeteo), stazione[0], meteo[3])\n",
    "print('pearson: ', pearson, ' spearman: ', spearman, ' kendall: ', kendall)\n",
    " "
   ]
  },
  {
   "cell_type": "code",
   "execution_count": null,
   "metadata": {},
   "outputs": [],
   "source": [
    "pearson, spearman, kendall = corr_Sensori(creazione_df(df_ATM5, \n",
    "                                              stazione[0], meteo[3], sensore[1], df2 = df_DatiMeteo), stazione[0], meteo[3])\n",
    "print('pearson: ', pearson, ' spearman: ', spearman, ' kendall: ', kendall)\n",
    " "
   ]
  },
  {
   "cell_type": "code",
   "execution_count": null,
   "metadata": {},
   "outputs": [],
   "source": [
    "pearson, spearman, kendall = corr_Sensori(creazione_df(df_ATM5, \n",
    "                                              stazione[0], meteo[3], sensore[2], df2 = df_DatiMeteo), stazione[0], meteo[3])\n",
    "print('pearson: ', pearson, ' spearman: ', spearman, ' kendall: ', kendall)\n",
    " "
   ]
  },
  {
   "cell_type": "code",
   "execution_count": null,
   "metadata": {},
   "outputs": [],
   "source": [
    "pearson, spearman, kendall = corr_Sensori(creazione_df(df_ATM5, \n",
    "                                              stazione[0], meteo[3], sensore[3], df2 = df_DatiMeteo), stazione[0], meteo[3])\n",
    "print('pearson: ', pearson, ' spearman: ', spearman, ' kendall: ', kendall)\n",
    " "
   ]
  },
  {
   "cell_type": "code",
   "execution_count": null,
   "metadata": {},
   "outputs": [],
   "source": [
    "pearson, spearman, kendall = corr_Sensori(creazione_df(df_ATM5, \n",
    "                                              stazione[0], meteo[3], sensore[4], df2 = df_DatiMeteo), stazione[0], meteo[3])\n",
    "print('pearson: ', pearson, ' spearman: ', spearman, ' kendall: ', kendall)\n",
    " "
   ]
  },
  {
   "cell_type": "code",
   "execution_count": null,
   "metadata": {},
   "outputs": [],
   "source": [
    "pearson, spearman, kendall = corr_Sensori(creazione_df(df_ATM5, \n",
    "                                              stazione[0], meteo[3], sensore[5], df2 = df_DatiMeteo), stazione[0], meteo[3])\n",
    "print('pearson: ', pearson, ' spearman: ', spearman, ' kendall: ', kendall)\n",
    " "
   ]
  },
  {
   "cell_type": "code",
   "execution_count": null,
   "metadata": {},
   "outputs": [],
   "source": [
    "# correlazione con l'intensità del vento per il sensore ATM07_01480\n",
    "df_ATM7 = media_Stazione(df_DatiPuliti, stazione[1]).fillna(0)\n",
    "df_ATM7['postazione'] = 'ATM07_01480'\n",
    "df_ATM7"
   ]
  },
  {
   "cell_type": "code",
   "execution_count": null,
   "metadata": {},
   "outputs": [],
   "source": [
    "pearson, spearman, kendall = corr_Sensori(creazione_df(df_ATM7, \n",
    "                                              stazione[1], meteo[3], sensore[0], df2 = df_DatiMeteo), stazione[1], meteo[3])\n",
    "print('pearson: ', pearson, ' spearman: ', spearman, ' kendall: ', kendall)\n",
    " "
   ]
  },
  {
   "cell_type": "code",
   "execution_count": null,
   "metadata": {},
   "outputs": [],
   "source": [
    "pearson, spearman, kendall = corr_Sensori(creazione_df(df_ATM7, \n",
    "                                              stazione[1], meteo[3], sensore[1], df2 = df_DatiMeteo), stazione[1], meteo[3])\n",
    "print('pearson: ', pearson, ' spearman: ', spearman, ' kendall: ', kendall)\n",
    " "
   ]
  },
  {
   "cell_type": "code",
   "execution_count": null,
   "metadata": {},
   "outputs": [],
   "source": [
    "pearson, spearman, kendall = corr_Sensori(creazione_df(df_ATM7, \n",
    "                                              stazione[1], meteo[3], sensore[2], df2 = df_DatiMeteo), stazione[1], meteo[3])\n",
    "print('pearson: ', pearson, ' spearman: ', spearman, ' kendall: ', kendall)\n",
    " "
   ]
  },
  {
   "cell_type": "code",
   "execution_count": null,
   "metadata": {},
   "outputs": [],
   "source": [
    "pearson, spearman, kendall = corr_Sensori(creazione_df(df_ATM7, \n",
    "                                              stazione[1], meteo[3], sensore[3], df2 = df_DatiMeteo), stazione[1], meteo[3])\n",
    "print('pearson: ', pearson, ' spearman: ', spearman, ' kendall: ', kendall)\n",
    " "
   ]
  },
  {
   "cell_type": "code",
   "execution_count": null,
   "metadata": {},
   "outputs": [],
   "source": [
    "pearson, spearman, kendall = corr_Sensori(creazione_df(df_ATM7, \n",
    "                                              stazione[1], meteo[3], sensore[4], df2 = df_DatiMeteo), stazione[1], meteo[3])\n",
    "print('pearson: ', pearson, ' spearman: ', spearman, ' kendall: ', kendall)\n",
    " "
   ]
  },
  {
   "cell_type": "code",
   "execution_count": null,
   "metadata": {},
   "outputs": [],
   "source": [
    "pearson, spearman, kendall = corr_Sensori(creazione_df(df_ATM7, \n",
    "                                              stazione[1], meteo[3], sensore[5], df2 = df_DatiMeteo), stazione[1], meteo[3])\n",
    "print('pearson: ', pearson, ' spearman: ', spearman, ' kendall: ', kendall)\n",
    " "
   ]
  },
  {
   "cell_type": "code",
   "execution_count": null,
   "metadata": {},
   "outputs": [],
   "source": [
    "# correlazione con l'intensità del vento per il sensore ATM10_01481\n",
    "df_ATM10 = media_Stazione(df_DatiPuliti, stazione[2]).fillna(0)\n",
    "df_ATM10['postazione'] = 'ATM10_01481'\n",
    "df_ATM10"
   ]
  },
  {
   "cell_type": "code",
   "execution_count": null,
   "metadata": {},
   "outputs": [],
   "source": [
    "pearson, spearman, kendall = corr_Sensori(creazione_df(df_ATM10, \n",
    "                                              stazione[2], meteo[3], sensore[0], df2 = df_DatiMeteo), stazione[2], meteo[3])\n",
    "print('pearson: ', pearson, ' spearman: ', spearman, ' kendall: ', kendall)\n",
    " "
   ]
  },
  {
   "cell_type": "code",
   "execution_count": null,
   "metadata": {},
   "outputs": [],
   "source": [
    "pearson, spearman, kendall = corr_Sensori(creazione_df(df_ATM10, \n",
    "                                              stazione[2], meteo[3], sensore[1], df2 = df_DatiMeteo), stazione[2], meteo[3])\n",
    "print('pearson: ', pearson, ' spearman: ', spearman, ' kendall: ', kendall)\n",
    " "
   ]
  },
  {
   "cell_type": "code",
   "execution_count": null,
   "metadata": {},
   "outputs": [],
   "source": [
    "pearson, spearman, kendall = corr_Sensori(creazione_df(df_ATM10, \n",
    "                                              stazione[2], meteo[3], sensore[2], df2 = df_DatiMeteo), stazione[2], meteo[3])\n",
    "print('pearson: ', pearson, ' spearman: ', spearman, ' kendall: ', kendall)\n",
    " "
   ]
  },
  {
   "cell_type": "code",
   "execution_count": null,
   "metadata": {},
   "outputs": [],
   "source": [
    "pearson, spearman, kendall = corr_Sensori(creazione_df(df_ATM10, \n",
    "                                              stazione[2], meteo[3], sensore[3], df2 = df_DatiMeteo), stazione[2], meteo[3])\n",
    "print('pearson: ', pearson, ' spearman: ', spearman, ' kendall: ', kendall)\n",
    " "
   ]
  },
  {
   "cell_type": "code",
   "execution_count": null,
   "metadata": {},
   "outputs": [],
   "source": [
    "pearson, spearman, kendall = corr_Sensori(creazione_df(df_ATM10, \n",
    "                                              stazione[2], meteo[3], sensore[4], df2 = df_DatiMeteo), stazione[2], meteo[3])\n",
    "print('pearson: ', pearson, ' spearman: ', spearman, ' kendall: ', kendall)\n",
    " "
   ]
  },
  {
   "cell_type": "code",
   "execution_count": null,
   "metadata": {},
   "outputs": [],
   "source": [
    "pearson, spearman, kendall = corr_Sensori(creazione_df(df_ATM10, \n",
    "                                              stazione[2], meteo[3], sensore[5], df2 = df_DatiMeteo), stazione[2], meteo[3])\n",
    "print('pearson: ', pearson, ' spearman: ', spearman, ' kendall: ', kendall)\n"
   ]
  },
  {
   "cell_type": "code",
   "execution_count": null,
   "metadata": {},
   "outputs": [],
   "source": [
    "# correlazione con l'intensità del vento per il sensore ATM14_01486\n",
    "df_ATM14 = media_Stazione(df_DatiPuliti, stazione[3])\n",
    "df_ATM14['postazione'] = 'ATM14_01486'\n",
    "df_ATM14"
   ]
  },
  {
   "cell_type": "code",
   "execution_count": null,
   "metadata": {},
   "outputs": [],
   "source": [
    "pearson, spearman, kendall = corr_Sensori(creazione_df(df_ATM14, \n",
    "                                              stazione[3], meteo[3], sensore[0], df2 = df_DatiMeteo), stazione[3], meteo[3])\n",
    "print('pearson: ', pearson, ' spearman: ', spearman, ' kendall: ', kendall)\n",
    " "
   ]
  },
  {
   "cell_type": "code",
   "execution_count": null,
   "metadata": {},
   "outputs": [],
   "source": [
    "pearson, spearman, kendall = corr_Sensori(creazione_df(df_ATM14, \n",
    "                                              stazione[3], meteo[3], sensore[1], df2 = df_DatiMeteo), stazione[3], meteo[3])\n",
    "print('pearson: ', pearson, ' spearman: ', spearman, ' kendall: ', kendall)\n",
    " "
   ]
  },
  {
   "cell_type": "code",
   "execution_count": null,
   "metadata": {},
   "outputs": [],
   "source": [
    "pearson, spearman, kendall = corr_Sensori(creazione_df(df_ATM14, \n",
    "                                              stazione[3], meteo[3], sensore[2], df2 = df_DatiMeteo), stazione[3], meteo[3])\n",
    "print('pearson: ', pearson, ' spearman: ', spearman, ' kendall: ', kendall)\n",
    " "
   ]
  },
  {
   "cell_type": "code",
   "execution_count": null,
   "metadata": {},
   "outputs": [],
   "source": [
    "pearson, spearman, kendall = corr_Sensori(creazione_df(df_ATM14, \n",
    "                                              stazione[3], meteo[3], sensore[3], df2 = df_DatiMeteo), stazione[3], meteo[3])\n",
    "print('pearson: ', pearson, ' spearman: ', spearman, ' kendall: ', kendall)\n",
    " "
   ]
  },
  {
   "cell_type": "code",
   "execution_count": null,
   "metadata": {},
   "outputs": [],
   "source": [
    "pearson, spearman, kendall = corr_Sensori(creazione_df(df_ATM14, \n",
    "                                              stazione[3], meteo[3], sensore[4], df2 = df_DatiMeteo), stazione[3], meteo[3])\n",
    "print('pearson: ', pearson, ' spearman: ', spearman, ' kendall: ', kendall)\n",
    " "
   ]
  },
  {
   "cell_type": "code",
   "execution_count": null,
   "metadata": {},
   "outputs": [],
   "source": [
    "pearson, spearman, kendall = corr_Sensori(creazione_df(df_ATM14, \n",
    "                                              stazione[3], meteo[3], sensore[5], df2 = df_DatiMeteo), stazione[3], meteo[3])\n",
    "print('pearson: ', pearson, ' spearman: ', spearman, ' kendall: ', kendall)"
   ]
  },
  {
   "cell_type": "markdown",
   "metadata": {
    "collapsed": true
   },
   "source": [
    "# Altre correlazioni, anche spurie"
   ]
  },
  {
   "cell_type": "markdown",
   "metadata": {},
   "source": [
    "## calcolo correlazione tra i dati meteo e i fallimenti giornalieri"
   ]
  },
  {
   "cell_type": "code",
   "execution_count": null,
   "metadata": {},
   "outputs": [],
   "source": [
    "df1 = df_DatiMeteo.copy()\n",
    "df1['Giorno'] = pd.to_datetime(df1['Data'].dt.strftime('%Y/%m/%d'))\n",
    "df1 = df1.groupby(['Giorno']).mean()\n",
    "df_nuovo = df1.merge(df_Fail_ND, on= 'Giorno')"
   ]
  },
  {
   "cell_type": "code",
   "execution_count": null,
   "metadata": {},
   "outputs": [],
   "source": [
    "df_nuovo"
   ]
  },
  {
   "cell_type": "code",
   "execution_count": null,
   "metadata": {},
   "outputs": [],
   "source": [
    "# correlazione tra fallimenti e temperatura in gradi\n",
    "pearson, spearman , kendall = corr_Sensori(df_nuovo,meteo[0], 'count')\n",
    "print('pearson: ', pearson, ' spearman: ', spearman, ' kendall: ', kendall)"
   ]
  },
  {
   "cell_type": "code",
   "execution_count": null,
   "metadata": {},
   "outputs": [],
   "source": [
    "# correlazione tra fallimenti e direzione del vento in gradi\n",
    "pearson, spearman , kendall = corr_Sensori(df_nuovo,meteo[1], 'count')\n",
    "print('pearson: ', pearson, ' spearman: ', spearman, ' kendall: ', kendall)"
   ]
  },
  {
   "cell_type": "code",
   "execution_count": null,
   "metadata": {},
   "outputs": [],
   "source": [
    "# correlazione tra fallimenti e pressione atmosferica in gradi\n",
    "pearson, spearman , kendall = corr_Sensori(df_nuovo,meteo[2], 'count')\n",
    "print('pearson: ', pearson, ' spearman: ', spearman, ' kendall: ', kendall)"
   ]
  },
  {
   "cell_type": "code",
   "execution_count": null,
   "metadata": {},
   "outputs": [],
   "source": [
    "# correlazione tra fallimenti e intensità del vento in gradi\n",
    "pearson, spearman , kendall = corr_Sensori(df_nuovo,meteo[3], 'count')\n",
    "print('pearson: ', pearson, ' spearman: ', spearman, ' kendall: ', kendall)"
   ]
  },
  {
   "cell_type": "code",
   "execution_count": null,
   "metadata": {},
   "outputs": [],
   "source": [
    "# correlazione tra fallimenti e umidità relativa in gradi\n",
    "pearson, spearman , kendall = corr_Sensori(df_nuovo,meteo[4], 'count')\n",
    "print('pearson: ', pearson, ' spearman: ', spearman, ' kendall: ', kendall)"
   ]
  },
  {
   "cell_type": "code",
   "execution_count": null,
   "metadata": {},
   "outputs": [],
   "source": [
    "# correlazione tra fallimenti e precipitazioni in gradi\n",
    "pearson, spearman , kendall = corr_Sensori(df_nuovo,meteo[5], 'count')\n",
    "print('pearson: ', pearson, ' spearman: ', spearman, ' kendall: ', kendall)"
   ]
  },
  {
   "cell_type": "markdown",
   "metadata": {},
   "source": [
    "# Odori"
   ]
  },
  {
   "cell_type": "code",
   "execution_count": null,
   "metadata": {},
   "outputs": [],
   "source": [
    "#Considerando che la massa molare del H2S è 34.08 g/mol\n",
    "#Per convertire il ppm in ug/m3 basta moliplicarlo per il peso molecolare (PM) della sostanza espressa in grammi \n",
    "#e dividere tutto per 24,45 m3mol−1\n",
    "puzza_min = (0.0005*34.08)/(24.45)\n",
    "puzza_max = (0.3*34.08)/(24.45)\n",
    "print('La soglia minima per la puzza in ug_m3 è: ',puzza_min)\n",
    "print('La soglia massima per la puzza in ug_m3 è: ',puzza_max)"
   ]
  },
  {
   "cell_type": "markdown",
   "metadata": {},
   "source": [
    "## ATM05"
   ]
  },
  {
   "cell_type": "code",
   "execution_count": null,
   "metadata": {},
   "outputs": [],
   "source": [
    "df_H2S = df_DatiPuliti[df_DatiPuliti['postazione'] == 'ATM05_01479'][['Data','H2S_ug_m3']].reset_index(drop = True)\n",
    "df_H2SJ = df_DatiPuliti[df_DatiPuliti['postazione'] == 'ATM05_01479'][['Data','H2SJ_ug_m3']].reset_index(drop = True)\n",
    "df_od = pd.concat([df_H2S,df_H2SJ]).reset_index().drop(['index'], axis = 1) \n",
    "df_od['Data'] = pd.to_datetime(df_od['Data'].dt.strftime('%Y/%m/%d'))\n",
    "df_od = df_od.groupby('Data').mean()\n",
    "df_od.insert(1,'H2S_odore', df_od['H2S_ug_m3'].apply(lambda x: True if x >= puzza_max else \n",
    "                                                     (False if x <= puzza_min else None )))\n",
    "df_od.insert(3,'H2SJ_odore', df_od['H2SJ_ug_m3'].apply(lambda x: True if x >= puzza_max else \n",
    "                                                     (False if x <= puzza_min else None)))\n",
    "df_od"
   ]
  },
  {
   "cell_type": "markdown",
   "metadata": {},
   "source": [
    "## ATM07"
   ]
  },
  {
   "cell_type": "code",
   "execution_count": null,
   "metadata": {},
   "outputs": [],
   "source": [
    "df_H2S = df_DatiPuliti[df_DatiPuliti['postazione'] == 'ATM07_01480'][['Data','H2S_ug_m3']].reset_index(drop = True)\n",
    "df_H2SJ = df_DatiPuliti[df_DatiPuliti['postazione'] == 'ATM07_01480'][['Data','H2SJ_ug_m3']].reset_index(drop = True)\n",
    "df_od = pd.concat([df_H2S,df_H2SJ]).reset_index().drop(['index'], axis = 1) \n",
    "df_od['Data'] = pd.to_datetime(df_od['Data'].dt.strftime('%Y/%m/%d'))\n",
    "df_od = df_od.groupby('Data').mean()\n",
    "df_od.insert(1,'H2S_odore', df_od['H2S_ug_m3'].apply(lambda x: True if x >= puzza_max else \n",
    "                                                     (False if x <= puzza_min else None )))\n",
    "df_od.insert(3,'H2SJ_odore', df_od['H2SJ_ug_m3'].apply(lambda x: True if x >= puzza_max else \n",
    "                                                     (False if x <= puzza_min else None)))\n",
    "df_od"
   ]
  },
  {
   "cell_type": "markdown",
   "metadata": {},
   "source": [
    "## ATM10"
   ]
  },
  {
   "cell_type": "code",
   "execution_count": null,
   "metadata": {},
   "outputs": [],
   "source": [
    "df_H2S = df_DatiPuliti[df_DatiPuliti['postazione'] == 'ATM10_01481'][['Data','H2S_ug_m3']].reset_index(drop = True)\n",
    "df_H2SJ = df_DatiPuliti[df_DatiPuliti['postazione'] == 'ATM10_01481'][['Data','H2SJ_ug_m3']].reset_index(drop = True)\n",
    "df_od = pd.concat([df_H2S,df_H2SJ]).reset_index().drop(['index'], axis = 1) \n",
    "df_od['Data'] = pd.to_datetime(df_od['Data'].dt.strftime('%Y/%m/%d'))\n",
    "df_od = df_od.groupby('Data').mean()\n",
    "df_od.insert(1,'H2S_odore', df_od['H2S_ug_m3'].apply(lambda x: True if x >= puzza_max else \n",
    "                                                     (False if x <= puzza_min else None)))\n",
    "df_od.insert(3,'H2SJ_odore', df_od['H2SJ_ug_m3'].apply(lambda x: True if x >= puzza_max else \n",
    "                                                       (False if x <= puzza_min else None)))\n",
    "df_od"
   ]
  },
  {
   "cell_type": "markdown",
   "metadata": {},
   "source": [
    "## ATM14"
   ]
  },
  {
   "cell_type": "code",
   "execution_count": null,
   "metadata": {},
   "outputs": [],
   "source": [
    "df_H2S = df_DatiPuliti[df_DatiPuliti['postazione'] == 'ATM14_01486'][['Data','H2S_ug_m3']].reset_index(drop = True)\n",
    "df_H2SJ = df_DatiPuliti[df_DatiPuliti['postazione'] == 'ATM14_01486'][['Data','H2SJ_ug_m3']].reset_index(drop = True)\n",
    "df_od = pd.concat([df_H2S,df_H2SJ]).reset_index().drop(['index'], axis = 1) \n",
    "df_od['Data'] = pd.to_datetime(df_od['Data'].dt.strftime('%Y/%m/%d'))\n",
    "df_od = df_od.groupby('Data').mean()\n",
    "df_od.insert(1,'H2S_odore', df_od['H2S_ug_m3'].apply(lambda x: True if x >= puzza_max else \n",
    "                                                     (False if x <= puzza_min else None )))\n",
    "df_od.insert(3,'H2SJ_odore', df_od['H2SJ_ug_m3'].apply(lambda x: True if x >= puzza_max else \n",
    "                                                     (False if x <= puzza_min else None)))\n",
    "df_od"
   ]
  }
 ],
 "metadata": {
  "colab": {
   "name": "ElaborazioneDati.ipynb",
   "provenance": []
  },
  "kernelspec": {
   "display_name": "Python 3 (ipykernel)",
   "language": "python",
   "name": "python3"
  },
  "language_info": {
   "codemirror_mode": {
    "name": "ipython",
    "version": 3
   },
   "file_extension": ".py",
   "mimetype": "text/x-python",
   "name": "python",
   "nbconvert_exporter": "python",
   "pygments_lexer": "ipython3",
   "version": "3.9.12"
  }
 },
 "nbformat": 4,
 "nbformat_minor": 1
}
