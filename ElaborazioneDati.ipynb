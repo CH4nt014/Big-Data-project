{
 "cells": [
  {
   "cell_type": "code",
   "execution_count": null,
   "metadata": {
    "id": "jRWos7EAz5ne",
    "scrolled": true
   },
   "outputs": [],
   "source": [
    "# Import dipendeze"
   ]
  },
  {
   "cell_type": "code",
   "execution_count": 23,
   "metadata": {
    "executionInfo": {
     "elapsed": 740,
     "status": "ok",
     "timestamp": 1655304178382,
     "user": {
      "displayName": "Carmine Martinelli",
      "userId": "17979448709595778797"
     },
     "user_tz": -120
    },
    "id": "asX5o8d9AMMy",
    "scrolled": true
   },
   "outputs": [],
   "source": [
    "import pandas as pd\n",
    "import numpy as np\n",
    "import operator\n",
    "import matplotlib.pyplot as plt\n",
    "import sys"
   ]
  },
  {
   "cell_type": "code",
   "execution_count": null,
   "metadata": {},
   "outputs": [],
   "source": [
    "# Caricamento dati"
   ]
  },
  {
   "cell_type": "code",
   "execution_count": 3,
   "metadata": {
    "executionInfo": {
     "elapsed": 44414,
     "status": "ok",
     "timestamp": 1655304225101,
     "user": {
      "displayName": "Carmine Martinelli",
      "userId": "17979448709595778797"
     },
     "user_tz": -120
    },
    "id": "7eM0PG6QUg8c",
    "scrolled": false
   },
   "outputs": [],
   "source": [
    "# Importa i dati dal file excel\n",
    "#Modifica la precisione nella visualizzazione delle cifre\n",
    "pd.options.display.precision = 10\n",
    "\n",
    "#Legge il csv e lo stampa\n",
    "df_DatiSensori = pd.read_excel('Dati_gruppo1.xlsx')"
   ]
  },
  {
   "cell_type": "code",
   "execution_count": null,
   "metadata": {},
   "outputs": [],
   "source": [
    "# Creazione di un dataframe di lavoro"
   ]
  },
  {
   "cell_type": "code",
   "execution_count": 24,
   "metadata": {
    "collapsed": true
   },
   "outputs": [
    {
     "data": {
      "text/html": [
       "<div>\n",
       "<style scoped>\n",
       "    .dataframe tbody tr th:only-of-type {\n",
       "        vertical-align: middle;\n",
       "    }\n",
       "\n",
       "    .dataframe tbody tr th {\n",
       "        vertical-align: top;\n",
       "    }\n",
       "\n",
       "    .dataframe thead th {\n",
       "        text-align: right;\n",
       "    }\n",
       "</style>\n",
       "<table border=\"1\" class=\"dataframe\">\n",
       "  <thead>\n",
       "    <tr style=\"text-align: right;\">\n",
       "      <th></th>\n",
       "      <th>postazione</th>\n",
       "      <th>Data</th>\n",
       "      <th>TRS_ppb</th>\n",
       "      <th>TRS_stato</th>\n",
       "      <th>VOC_ppm</th>\n",
       "      <th>VOC_stato</th>\n",
       "      <th>C6H6_ug/m3</th>\n",
       "      <th>C6H6_stato</th>\n",
       "      <th>H2S_ug/m3</th>\n",
       "      <th>H2S_stato</th>\n",
       "      <th>H2SJ_ug/m3</th>\n",
       "      <th>H2SJ_stato</th>\n",
       "      <th>PIDVOC_ppb</th>\n",
       "      <th>PIDVOC_stato</th>\n",
       "    </tr>\n",
       "  </thead>\n",
       "  <tbody>\n",
       "    <tr>\n",
       "      <th>0</th>\n",
       "      <td>ATM05_01479</td>\n",
       "      <td>2021-04-12 00:00:00</td>\n",
       "      <td>2.0000000000</td>\n",
       "      <td>K</td>\n",
       "      <td>0.0</td>\n",
       "      <td>K</td>\n",
       "      <td>0.3000000119</td>\n",
       "      <td>K</td>\n",
       "      <td>0.0000000000</td>\n",
       "      <td>K</td>\n",
       "      <td>0.0</td>\n",
       "      <td>K</td>\n",
       "      <td>44.5999984741</td>\n",
       "      <td>K</td>\n",
       "    </tr>\n",
       "    <tr>\n",
       "      <th>1</th>\n",
       "      <td>ATM05_01479</td>\n",
       "      <td>2021-04-12 00:05:00</td>\n",
       "      <td>0.0000000000</td>\n",
       "      <td>K</td>\n",
       "      <td>0.0</td>\n",
       "      <td>K</td>\n",
       "      <td>0.2000000030</td>\n",
       "      <td>K</td>\n",
       "      <td>0.2000000030</td>\n",
       "      <td>K</td>\n",
       "      <td>0.0</td>\n",
       "      <td>K</td>\n",
       "      <td>44.0000000000</td>\n",
       "      <td>K</td>\n",
       "    </tr>\n",
       "    <tr>\n",
       "      <th>2</th>\n",
       "      <td>ATM05_01479</td>\n",
       "      <td>2021-04-12 00:10:00</td>\n",
       "      <td>0.0000000000</td>\n",
       "      <td>K</td>\n",
       "      <td>0.0</td>\n",
       "      <td>K</td>\n",
       "      <td>0.2000000030</td>\n",
       "      <td>K</td>\n",
       "      <td>1.7000000477</td>\n",
       "      <td>K</td>\n",
       "      <td>0.0</td>\n",
       "      <td>K</td>\n",
       "      <td>44.2000007629</td>\n",
       "      <td>K</td>\n",
       "    </tr>\n",
       "    <tr>\n",
       "      <th>3</th>\n",
       "      <td>ATM05_01479</td>\n",
       "      <td>2021-04-12 00:15:00</td>\n",
       "      <td>11.8999996185</td>\n",
       "      <td>K</td>\n",
       "      <td>0.0</td>\n",
       "      <td>K</td>\n",
       "      <td>0.2000000030</td>\n",
       "      <td>K</td>\n",
       "      <td>1.8999999762</td>\n",
       "      <td>K</td>\n",
       "      <td>0.0</td>\n",
       "      <td>K</td>\n",
       "      <td>44.4000015259</td>\n",
       "      <td>K</td>\n",
       "    </tr>\n",
       "    <tr>\n",
       "      <th>4</th>\n",
       "      <td>ATM05_01479</td>\n",
       "      <td>2021-04-12 00:20:00</td>\n",
       "      <td>26.1000003815</td>\n",
       "      <td>K</td>\n",
       "      <td>0.0</td>\n",
       "      <td>K</td>\n",
       "      <td>0.2000000030</td>\n",
       "      <td>K</td>\n",
       "      <td>2.5000000000</td>\n",
       "      <td>K</td>\n",
       "      <td>0.0</td>\n",
       "      <td>K</td>\n",
       "      <td>40.7999992371</td>\n",
       "      <td>K</td>\n",
       "    </tr>\n",
       "    <tr>\n",
       "      <th>...</th>\n",
       "      <td>...</td>\n",
       "      <td>...</td>\n",
       "      <td>...</td>\n",
       "      <td>...</td>\n",
       "      <td>...</td>\n",
       "      <td>...</td>\n",
       "      <td>...</td>\n",
       "      <td>...</td>\n",
       "      <td>...</td>\n",
       "      <td>...</td>\n",
       "      <td>...</td>\n",
       "      <td>...</td>\n",
       "      <td>...</td>\n",
       "      <td>...</td>\n",
       "    </tr>\n",
       "    <tr>\n",
       "      <th>153211</th>\n",
       "      <td>ATM14_01486</td>\n",
       "      <td>NaT</td>\n",
       "      <td>NaN</td>\n",
       "      <td>ND</td>\n",
       "      <td>NaN</td>\n",
       "      <td>ND</td>\n",
       "      <td>NaN</td>\n",
       "      <td>ND</td>\n",
       "      <td>NaN</td>\n",
       "      <td>ND</td>\n",
       "      <td>NaN</td>\n",
       "      <td>ND</td>\n",
       "      <td>NaN</td>\n",
       "      <td>ND</td>\n",
       "    </tr>\n",
       "    <tr>\n",
       "      <th>153212</th>\n",
       "      <td>ATM14_01486</td>\n",
       "      <td>NaT</td>\n",
       "      <td>NaN</td>\n",
       "      <td>ND</td>\n",
       "      <td>NaN</td>\n",
       "      <td>ND</td>\n",
       "      <td>NaN</td>\n",
       "      <td>ND</td>\n",
       "      <td>NaN</td>\n",
       "      <td>ND</td>\n",
       "      <td>NaN</td>\n",
       "      <td>ND</td>\n",
       "      <td>NaN</td>\n",
       "      <td>ND</td>\n",
       "    </tr>\n",
       "    <tr>\n",
       "      <th>153213</th>\n",
       "      <td>ATM14_01486</td>\n",
       "      <td>NaT</td>\n",
       "      <td>NaN</td>\n",
       "      <td>ND</td>\n",
       "      <td>NaN</td>\n",
       "      <td>ND</td>\n",
       "      <td>NaN</td>\n",
       "      <td>ND</td>\n",
       "      <td>NaN</td>\n",
       "      <td>ND</td>\n",
       "      <td>NaN</td>\n",
       "      <td>ND</td>\n",
       "      <td>NaN</td>\n",
       "      <td>ND</td>\n",
       "    </tr>\n",
       "    <tr>\n",
       "      <th>153214</th>\n",
       "      <td>ATM14_01486</td>\n",
       "      <td>NaT</td>\n",
       "      <td>NaN</td>\n",
       "      <td>ND</td>\n",
       "      <td>NaN</td>\n",
       "      <td>ND</td>\n",
       "      <td>NaN</td>\n",
       "      <td>ND</td>\n",
       "      <td>NaN</td>\n",
       "      <td>ND</td>\n",
       "      <td>NaN</td>\n",
       "      <td>ND</td>\n",
       "      <td>NaN</td>\n",
       "      <td>ND</td>\n",
       "    </tr>\n",
       "    <tr>\n",
       "      <th>153215</th>\n",
       "      <td>ATM14_01486</td>\n",
       "      <td>NaT</td>\n",
       "      <td>NaN</td>\n",
       "      <td>ND</td>\n",
       "      <td>NaN</td>\n",
       "      <td>ND</td>\n",
       "      <td>NaN</td>\n",
       "      <td>ND</td>\n",
       "      <td>NaN</td>\n",
       "      <td>ND</td>\n",
       "      <td>NaN</td>\n",
       "      <td>ND</td>\n",
       "      <td>NaN</td>\n",
       "      <td>ND</td>\n",
       "    </tr>\n",
       "  </tbody>\n",
       "</table>\n",
       "<p>153216 rows × 14 columns</p>\n",
       "</div>"
      ],
      "text/plain": [
       "         postazione                Data        TRS_ppb TRS_stato  VOC_ppm  \\\n",
       "0       ATM05_01479 2021-04-12 00:00:00   2.0000000000         K      0.0   \n",
       "1       ATM05_01479 2021-04-12 00:05:00   0.0000000000         K      0.0   \n",
       "2       ATM05_01479 2021-04-12 00:10:00   0.0000000000         K      0.0   \n",
       "3       ATM05_01479 2021-04-12 00:15:00  11.8999996185         K      0.0   \n",
       "4       ATM05_01479 2021-04-12 00:20:00  26.1000003815         K      0.0   \n",
       "...             ...                 ...            ...       ...      ...   \n",
       "153211  ATM14_01486                 NaT            NaN        ND      NaN   \n",
       "153212  ATM14_01486                 NaT            NaN        ND      NaN   \n",
       "153213  ATM14_01486                 NaT            NaN        ND      NaN   \n",
       "153214  ATM14_01486                 NaT            NaN        ND      NaN   \n",
       "153215  ATM14_01486                 NaT            NaN        ND      NaN   \n",
       "\n",
       "       VOC_stato    C6H6_ug/m3 C6H6_stato     H2S_ug/m3 H2S_stato  H2SJ_ug/m3  \\\n",
       "0              K  0.3000000119          K  0.0000000000         K         0.0   \n",
       "1              K  0.2000000030          K  0.2000000030         K         0.0   \n",
       "2              K  0.2000000030          K  1.7000000477         K         0.0   \n",
       "3              K  0.2000000030          K  1.8999999762         K         0.0   \n",
       "4              K  0.2000000030          K  2.5000000000         K         0.0   \n",
       "...          ...           ...        ...           ...       ...         ...   \n",
       "153211        ND           NaN         ND           NaN        ND         NaN   \n",
       "153212        ND           NaN         ND           NaN        ND         NaN   \n",
       "153213        ND           NaN         ND           NaN        ND         NaN   \n",
       "153214        ND           NaN         ND           NaN        ND         NaN   \n",
       "153215        ND           NaN         ND           NaN        ND         NaN   \n",
       "\n",
       "       H2SJ_stato     PIDVOC_ppb PIDVOC_stato  \n",
       "0               K  44.5999984741            K  \n",
       "1               K  44.0000000000            K  \n",
       "2               K  44.2000007629            K  \n",
       "3               K  44.4000015259            K  \n",
       "4               K  40.7999992371            K  \n",
       "...           ...            ...          ...  \n",
       "153211         ND            NaN           ND  \n",
       "153212         ND            NaN           ND  \n",
       "153213         ND            NaN           ND  \n",
       "153214         ND            NaN           ND  \n",
       "153215         ND            NaN           ND  \n",
       "\n",
       "[153216 rows x 14 columns]"
      ]
     },
     "execution_count": 24,
     "metadata": {},
     "output_type": "execute_result"
    }
   ],
   "source": [
    "# Mostra tutte le colonne\n",
    "# pd.set_option('display.max_rows', None)# df_DatiSensori = df_DatiSensori.drop_duplicates()\n",
    "\n",
    "# crea una copia del dataset\n",
    "df_Dati = df_DatiSensori.copy()\n",
    "df_Dati"
   ]
  },
  {
   "cell_type": "code",
   "execution_count": null,
   "metadata": {},
   "outputs": [],
   "source": [
    "# Pulizia dataset"
   ]
  },
  {
   "cell_type": "code",
   "execution_count": 43,
   "metadata": {},
   "outputs": [],
   "source": [
    "#Rinomina le colonne con carattersi speciali e assegna la soglia \n",
    "df_Dati.rename(columns = {'C6H6_ug/m3':'C6H6_ug_m3', 'H2S_ug/m3':'H2S_ug_m3', 'H2SJ_ug/m3':'H2SJ_ug_m3'}, inplace = True)\n",
    "theshold = 24"
   ]
  },
  {
   "cell_type": "code",
   "execution_count": 26,
   "metadata": {},
   "outputs": [],
   "source": [
    "#Restituisce la lista con i valori della colonna e assegna il valore NaN ai theshold-valori consescutivi\n",
    "def find_repeats(L, required_number, num_repeats, stop_after_match=False):\n",
    "  idx = 0\n",
    "  while idx < len(L):\n",
    "    if [required_number]*num_repeats == L[idx:idx+num_repeats]:\n",
    "      L[idx:idx+num_repeats] = [np.nan]*num_repeats\n",
    "      idx += num_repeats\n",
    "      if stop_after_match:\n",
    "        break\n",
    "    else:\n",
    "        idx += 1\n",
    "  return L"
   ]
  },
  {
   "cell_type": "code",
   "execution_count": 27,
   "metadata": {},
   "outputs": [],
   "source": [
    "#funzione find_fail sostituisce NaN, così evitiamo una coversione inutile\n",
    "def find_fail(column, df, theshold):\n",
    "  dfSensor = df[[column]]\n",
    "  sensor_list = dfSensor[column].values.tolist()\n",
    "  sensor_indexList = find_repeats(sensor_list, 0, theshold)\n",
    "  dfSensor[column] = pd.DataFrame(sensor_indexList)\n",
    "  return dfSensor"
   ]
  },
  {
   "cell_type": "code",
   "execution_count": 38,
   "metadata": {
    "collapsed": true
   },
   "outputs": [
    {
     "name": "stderr",
     "output_type": "stream",
     "text": [
      "C:\\Users\\Antonio\\AppData\\Local\\Temp\\ipykernel_18916\\1014118646.py:6: SettingWithCopyWarning: \n",
      "A value is trying to be set on a copy of a slice from a DataFrame.\n",
      "Try using .loc[row_indexer,col_indexer] = value instead\n",
      "\n",
      "See the caveats in the documentation: https://pandas.pydata.org/pandas-docs/stable/user_guide/indexing.html#returning-a-view-versus-a-copy\n",
      "  dfSensor[column] = pd.DataFrame(sensor_indexList)\n",
      "C:\\Users\\Antonio\\AppData\\Local\\Temp\\ipykernel_18916\\1496240997.py:2: SettingWithCopyWarning: \n",
      "A value is trying to be set on a copy of a slice from a DataFrame.\n",
      "Try using .loc[row_indexer,col_indexer] = value instead\n",
      "\n",
      "See the caveats in the documentation: https://pandas.pydata.org/pandas-docs/stable/user_guide/indexing.html#returning-a-view-versus-a-copy\n",
      "  dfTRS['TRS_ppb'] = find_fail('TRS_ppb', df_Dati, theshold) #TRS_ppb\n",
      "C:\\Users\\Antonio\\AppData\\Local\\Temp\\ipykernel_18916\\1014118646.py:6: SettingWithCopyWarning: \n",
      "A value is trying to be set on a copy of a slice from a DataFrame.\n",
      "Try using .loc[row_indexer,col_indexer] = value instead\n",
      "\n",
      "See the caveats in the documentation: https://pandas.pydata.org/pandas-docs/stable/user_guide/indexing.html#returning-a-view-versus-a-copy\n",
      "  dfSensor[column] = pd.DataFrame(sensor_indexList)\n",
      "C:\\Users\\Antonio\\AppData\\Local\\Temp\\ipykernel_18916\\1496240997.py:4: SettingWithCopyWarning: \n",
      "A value is trying to be set on a copy of a slice from a DataFrame.\n",
      "Try using .loc[row_indexer,col_indexer] = value instead\n",
      "\n",
      "See the caveats in the documentation: https://pandas.pydata.org/pandas-docs/stable/user_guide/indexing.html#returning-a-view-versus-a-copy\n",
      "  dfVOC['VOC_ppm'] = find_fail('VOC_ppm', df_Dati, theshold) #VOC_ppm\n",
      "C:\\Users\\Antonio\\AppData\\Local\\Temp\\ipykernel_18916\\1014118646.py:6: SettingWithCopyWarning: \n",
      "A value is trying to be set on a copy of a slice from a DataFrame.\n",
      "Try using .loc[row_indexer,col_indexer] = value instead\n",
      "\n",
      "See the caveats in the documentation: https://pandas.pydata.org/pandas-docs/stable/user_guide/indexing.html#returning-a-view-versus-a-copy\n",
      "  dfSensor[column] = pd.DataFrame(sensor_indexList)\n",
      "C:\\Users\\Antonio\\AppData\\Local\\Temp\\ipykernel_18916\\1496240997.py:6: SettingWithCopyWarning: \n",
      "A value is trying to be set on a copy of a slice from a DataFrame.\n",
      "Try using .loc[row_indexer,col_indexer] = value instead\n",
      "\n",
      "See the caveats in the documentation: https://pandas.pydata.org/pandas-docs/stable/user_guide/indexing.html#returning-a-view-versus-a-copy\n",
      "  dfC6H6['C6H6_ug_m3'] = find_fail('C6H6_ug_m3', df_Dati, theshold) #C6H6_ug/m3\n",
      "C:\\Users\\Antonio\\AppData\\Local\\Temp\\ipykernel_18916\\1014118646.py:6: SettingWithCopyWarning: \n",
      "A value is trying to be set on a copy of a slice from a DataFrame.\n",
      "Try using .loc[row_indexer,col_indexer] = value instead\n",
      "\n",
      "See the caveats in the documentation: https://pandas.pydata.org/pandas-docs/stable/user_guide/indexing.html#returning-a-view-versus-a-copy\n",
      "  dfSensor[column] = pd.DataFrame(sensor_indexList)\n",
      "C:\\Users\\Antonio\\AppData\\Local\\Temp\\ipykernel_18916\\1496240997.py:8: SettingWithCopyWarning: \n",
      "A value is trying to be set on a copy of a slice from a DataFrame.\n",
      "Try using .loc[row_indexer,col_indexer] = value instead\n",
      "\n",
      "See the caveats in the documentation: https://pandas.pydata.org/pandas-docs/stable/user_guide/indexing.html#returning-a-view-versus-a-copy\n",
      "  dfH2S['H2S_ug_m3'] = find_fail('H2S_ug_m3', df_Dati, theshold) #H2S_ug/m3\n",
      "C:\\Users\\Antonio\\AppData\\Local\\Temp\\ipykernel_18916\\1014118646.py:6: SettingWithCopyWarning: \n",
      "A value is trying to be set on a copy of a slice from a DataFrame.\n",
      "Try using .loc[row_indexer,col_indexer] = value instead\n",
      "\n",
      "See the caveats in the documentation: https://pandas.pydata.org/pandas-docs/stable/user_guide/indexing.html#returning-a-view-versus-a-copy\n",
      "  dfSensor[column] = pd.DataFrame(sensor_indexList)\n",
      "C:\\Users\\Antonio\\AppData\\Local\\Temp\\ipykernel_18916\\1496240997.py:10: SettingWithCopyWarning: \n",
      "A value is trying to be set on a copy of a slice from a DataFrame.\n",
      "Try using .loc[row_indexer,col_indexer] = value instead\n",
      "\n",
      "See the caveats in the documentation: https://pandas.pydata.org/pandas-docs/stable/user_guide/indexing.html#returning-a-view-versus-a-copy\n",
      "  dfH2SJ['H2SJ_ug_m3'] = find_fail('H2SJ_ug_m3', df_Dati, theshold) #H2SJ_ug/m3\n",
      "C:\\Users\\Antonio\\AppData\\Local\\Temp\\ipykernel_18916\\1014118646.py:6: SettingWithCopyWarning: \n",
      "A value is trying to be set on a copy of a slice from a DataFrame.\n",
      "Try using .loc[row_indexer,col_indexer] = value instead\n",
      "\n",
      "See the caveats in the documentation: https://pandas.pydata.org/pandas-docs/stable/user_guide/indexing.html#returning-a-view-versus-a-copy\n",
      "  dfSensor[column] = pd.DataFrame(sensor_indexList)\n",
      "C:\\Users\\Antonio\\AppData\\Local\\Temp\\ipykernel_18916\\1496240997.py:12: SettingWithCopyWarning: \n",
      "A value is trying to be set on a copy of a slice from a DataFrame.\n",
      "Try using .loc[row_indexer,col_indexer] = value instead\n",
      "\n",
      "See the caveats in the documentation: https://pandas.pydata.org/pandas-docs/stable/user_guide/indexing.html#returning-a-view-versus-a-copy\n",
      "  dfPIDVOC['PIDVOC_ppb'] = find_fail('PIDVOC_ppb', df_Dati, theshold) #PIDVOC_ppb\n"
     ]
    }
   ],
   "source": [
    "dfTRS = df_Dati[['postazione', 'Data']]\n",
    "dfTRS['TRS_ppb'] = find_fail('TRS_ppb', df_Dati, theshold) #TRS_ppb\n",
    "dfVOC = df_Dati[['postazione', 'Data']]\n",
    "dfVOC['VOC_ppm'] = find_fail('VOC_ppm', df_Dati, theshold) #VOC_ppm\n",
    "dfC6H6 = df_Dati[['postazione', 'Data']]\n",
    "dfC6H6['C6H6_ug_m3'] = find_fail('C6H6_ug_m3', df_Dati, theshold) #C6H6_ug/m3\n",
    "dfH2S = df_Dati[['postazione', 'Data']]\n",
    "dfH2S['H2S_ug_m3'] = find_fail('H2S_ug_m3', df_Dati, theshold) #H2S_ug/m3\n",
    "dfH2SJ = df_Dati[['postazione', 'Data']]\n",
    "dfH2SJ['H2SJ_ug_m3'] = find_fail('H2SJ_ug_m3', df_Dati, theshold) #H2SJ_ug/m3\n",
    "dfPIDVOC = df_Dati[['postazione', 'Data']]\n",
    "dfPIDVOC['PIDVOC_ppb'] = find_fail('PIDVOC_ppb', df_Dati, theshold) #PIDVOC_ppb"
   ]
  },
  {
   "cell_type": "code",
   "execution_count": 60,
   "metadata": {},
   "outputs": [],
   "source": [
    "# elimina i valori NaN e i valori ND\n",
    "df_DatiPuliti = df_Dati[~df_Dati.TRS_stato.str.match('ND')]\n",
    "df_DatiPuliti = df_Dati.dropna().reset_index(drop=True)\n",
    "# df_Dati\n",
    "# scrive il dataset su disco\n",
    "# df_DatiPuliti.to_excel('datiPuliti.xlsx')"
   ]
  },
  {
   "cell_type": "code",
   "execution_count": null,
   "metadata": {},
   "outputs": [],
   "source": [
    "# crea una lista con tutti gli indici degli 0 presenti nella colonna TRS_ppb del dataset\n",
    "# zero_indices_list = df_DatiPuliti.index[df_DatiPuliti[\"TRS_ppb\"] == 0].tolist()\n",
    "# zero_indices_list\n",
    "\n",
    "col_List = df_Dati.TRS_ppb.values.tolist()\n",
    "indexList = find_repeats(col_List, 0, 24)\n",
    "df_Dati['TRS_ppb'] = pd.DataFrame(indexList)\n",
    "\n",
    "for indexDataFrame in range(len(df_Dati)):\n",
    "  if(df_Dati.at[indexDataFrame, 'TRS_ppb'] == True):\n",
    "    df_Dati.drop(indexDataFrame, inplace=True)\n"
   ]
  },
  {
   "cell_type": "code",
   "execution_count": 61,
   "metadata": {
    "collapsed": true
   },
   "outputs": [
    {
     "data": {
      "text/html": [
       "<div>\n",
       "<style scoped>\n",
       "    .dataframe tbody tr th:only-of-type {\n",
       "        vertical-align: middle;\n",
       "    }\n",
       "\n",
       "    .dataframe tbody tr th {\n",
       "        vertical-align: top;\n",
       "    }\n",
       "\n",
       "    .dataframe thead th {\n",
       "        text-align: right;\n",
       "    }\n",
       "</style>\n",
       "<table border=\"1\" class=\"dataframe\">\n",
       "  <thead>\n",
       "    <tr style=\"text-align: right;\">\n",
       "      <th></th>\n",
       "      <th>postazione</th>\n",
       "      <th>Data</th>\n",
       "      <th>TRS_ppb</th>\n",
       "      <th>TRS_stato</th>\n",
       "      <th>VOC_ppm</th>\n",
       "      <th>VOC_stato</th>\n",
       "      <th>C6H6_ug_m3</th>\n",
       "      <th>C6H6_stato</th>\n",
       "      <th>H2S_ug_m3</th>\n",
       "      <th>H2S_stato</th>\n",
       "      <th>H2SJ_ug_m3</th>\n",
       "      <th>H2SJ_stato</th>\n",
       "      <th>PIDVOC_ppb</th>\n",
       "      <th>PIDVOC_stato</th>\n",
       "    </tr>\n",
       "  </thead>\n",
       "  <tbody>\n",
       "    <tr>\n",
       "      <th>0</th>\n",
       "      <td>ATM05_01479</td>\n",
       "      <td>2021-04-12 00:00:00</td>\n",
       "      <td>2.0000000000</td>\n",
       "      <td>K</td>\n",
       "      <td>0.0</td>\n",
       "      <td>K</td>\n",
       "      <td>0.3000000119</td>\n",
       "      <td>K</td>\n",
       "      <td>0.0000000000</td>\n",
       "      <td>K</td>\n",
       "      <td>0.0000000000</td>\n",
       "      <td>K</td>\n",
       "      <td>44.5999984741</td>\n",
       "      <td>K</td>\n",
       "    </tr>\n",
       "    <tr>\n",
       "      <th>1</th>\n",
       "      <td>ATM05_01479</td>\n",
       "      <td>2021-04-12 00:05:00</td>\n",
       "      <td>0.0000000000</td>\n",
       "      <td>K</td>\n",
       "      <td>0.0</td>\n",
       "      <td>K</td>\n",
       "      <td>0.2000000030</td>\n",
       "      <td>K</td>\n",
       "      <td>0.2000000030</td>\n",
       "      <td>K</td>\n",
       "      <td>0.0000000000</td>\n",
       "      <td>K</td>\n",
       "      <td>44.0000000000</td>\n",
       "      <td>K</td>\n",
       "    </tr>\n",
       "    <tr>\n",
       "      <th>2</th>\n",
       "      <td>ATM05_01479</td>\n",
       "      <td>2021-04-12 00:10:00</td>\n",
       "      <td>0.0000000000</td>\n",
       "      <td>K</td>\n",
       "      <td>0.0</td>\n",
       "      <td>K</td>\n",
       "      <td>0.2000000030</td>\n",
       "      <td>K</td>\n",
       "      <td>1.7000000477</td>\n",
       "      <td>K</td>\n",
       "      <td>0.0000000000</td>\n",
       "      <td>K</td>\n",
       "      <td>44.2000007629</td>\n",
       "      <td>K</td>\n",
       "    </tr>\n",
       "    <tr>\n",
       "      <th>3</th>\n",
       "      <td>ATM05_01479</td>\n",
       "      <td>2021-04-12 00:15:00</td>\n",
       "      <td>11.8999996185</td>\n",
       "      <td>K</td>\n",
       "      <td>0.0</td>\n",
       "      <td>K</td>\n",
       "      <td>0.2000000030</td>\n",
       "      <td>K</td>\n",
       "      <td>1.8999999762</td>\n",
       "      <td>K</td>\n",
       "      <td>0.0000000000</td>\n",
       "      <td>K</td>\n",
       "      <td>44.4000015259</td>\n",
       "      <td>K</td>\n",
       "    </tr>\n",
       "    <tr>\n",
       "      <th>4</th>\n",
       "      <td>ATM05_01479</td>\n",
       "      <td>2021-04-12 00:20:00</td>\n",
       "      <td>26.1000003815</td>\n",
       "      <td>K</td>\n",
       "      <td>0.0</td>\n",
       "      <td>K</td>\n",
       "      <td>0.2000000030</td>\n",
       "      <td>K</td>\n",
       "      <td>2.5000000000</td>\n",
       "      <td>K</td>\n",
       "      <td>0.0000000000</td>\n",
       "      <td>K</td>\n",
       "      <td>40.7999992371</td>\n",
       "      <td>K</td>\n",
       "    </tr>\n",
       "    <tr>\n",
       "      <th>...</th>\n",
       "      <td>...</td>\n",
       "      <td>...</td>\n",
       "      <td>...</td>\n",
       "      <td>...</td>\n",
       "      <td>...</td>\n",
       "      <td>...</td>\n",
       "      <td>...</td>\n",
       "      <td>...</td>\n",
       "      <td>...</td>\n",
       "      <td>...</td>\n",
       "      <td>...</td>\n",
       "      <td>...</td>\n",
       "      <td>...</td>\n",
       "      <td>...</td>\n",
       "    </tr>\n",
       "    <tr>\n",
       "      <th>140193</th>\n",
       "      <td>ATM14_01486</td>\n",
       "      <td>2021-11-28 23:35:00</td>\n",
       "      <td>0.0000000000</td>\n",
       "      <td>K</td>\n",
       "      <td>0.0</td>\n",
       "      <td>K</td>\n",
       "      <td>0.6000000238</td>\n",
       "      <td>K</td>\n",
       "      <td>8.8999996185</td>\n",
       "      <td>K</td>\n",
       "      <td>0.3000000119</td>\n",
       "      <td>K</td>\n",
       "      <td>352.6000061035</td>\n",
       "      <td>K</td>\n",
       "    </tr>\n",
       "    <tr>\n",
       "      <th>140194</th>\n",
       "      <td>ATM14_01486</td>\n",
       "      <td>2021-11-28 23:40:00</td>\n",
       "      <td>0.0000000000</td>\n",
       "      <td>K</td>\n",
       "      <td>0.0</td>\n",
       "      <td>K</td>\n",
       "      <td>0.6000000238</td>\n",
       "      <td>K</td>\n",
       "      <td>8.3000001907</td>\n",
       "      <td>K</td>\n",
       "      <td>0.3000000119</td>\n",
       "      <td>K</td>\n",
       "      <td>350.6000061035</td>\n",
       "      <td>K</td>\n",
       "    </tr>\n",
       "    <tr>\n",
       "      <th>140195</th>\n",
       "      <td>ATM14_01486</td>\n",
       "      <td>2021-11-28 23:45:00</td>\n",
       "      <td>0.0000000000</td>\n",
       "      <td>K</td>\n",
       "      <td>0.0</td>\n",
       "      <td>K</td>\n",
       "      <td>0.6000000238</td>\n",
       "      <td>K</td>\n",
       "      <td>8.6999998093</td>\n",
       "      <td>K</td>\n",
       "      <td>0.3000000119</td>\n",
       "      <td>K</td>\n",
       "      <td>353.0000000000</td>\n",
       "      <td>K</td>\n",
       "    </tr>\n",
       "    <tr>\n",
       "      <th>140196</th>\n",
       "      <td>ATM14_01486</td>\n",
       "      <td>2021-11-28 23:50:00</td>\n",
       "      <td>0.0000000000</td>\n",
       "      <td>K</td>\n",
       "      <td>0.0</td>\n",
       "      <td>K</td>\n",
       "      <td>0.6000000238</td>\n",
       "      <td>K</td>\n",
       "      <td>9.1999998093</td>\n",
       "      <td>K</td>\n",
       "      <td>1.2000000477</td>\n",
       "      <td>K</td>\n",
       "      <td>352.7999877930</td>\n",
       "      <td>K</td>\n",
       "    </tr>\n",
       "    <tr>\n",
       "      <th>140197</th>\n",
       "      <td>ATM14_01486</td>\n",
       "      <td>2021-11-28 23:55:00</td>\n",
       "      <td>0.0000000000</td>\n",
       "      <td>K</td>\n",
       "      <td>0.0</td>\n",
       "      <td>K</td>\n",
       "      <td>0.6000000238</td>\n",
       "      <td>K</td>\n",
       "      <td>9.1999998093</td>\n",
       "      <td>K</td>\n",
       "      <td>1.1000000238</td>\n",
       "      <td>K</td>\n",
       "      <td>352.2000122070</td>\n",
       "      <td>K</td>\n",
       "    </tr>\n",
       "  </tbody>\n",
       "</table>\n",
       "<p>140198 rows × 14 columns</p>\n",
       "</div>"
      ],
      "text/plain": [
       "         postazione                Data        TRS_ppb TRS_stato  VOC_ppm  \\\n",
       "0       ATM05_01479 2021-04-12 00:00:00   2.0000000000         K      0.0   \n",
       "1       ATM05_01479 2021-04-12 00:05:00   0.0000000000         K      0.0   \n",
       "2       ATM05_01479 2021-04-12 00:10:00   0.0000000000         K      0.0   \n",
       "3       ATM05_01479 2021-04-12 00:15:00  11.8999996185         K      0.0   \n",
       "4       ATM05_01479 2021-04-12 00:20:00  26.1000003815         K      0.0   \n",
       "...             ...                 ...            ...       ...      ...   \n",
       "140193  ATM14_01486 2021-11-28 23:35:00   0.0000000000         K      0.0   \n",
       "140194  ATM14_01486 2021-11-28 23:40:00   0.0000000000         K      0.0   \n",
       "140195  ATM14_01486 2021-11-28 23:45:00   0.0000000000         K      0.0   \n",
       "140196  ATM14_01486 2021-11-28 23:50:00   0.0000000000         K      0.0   \n",
       "140197  ATM14_01486 2021-11-28 23:55:00   0.0000000000         K      0.0   \n",
       "\n",
       "       VOC_stato    C6H6_ug_m3 C6H6_stato     H2S_ug_m3 H2S_stato  \\\n",
       "0              K  0.3000000119          K  0.0000000000         K   \n",
       "1              K  0.2000000030          K  0.2000000030         K   \n",
       "2              K  0.2000000030          K  1.7000000477         K   \n",
       "3              K  0.2000000030          K  1.8999999762         K   \n",
       "4              K  0.2000000030          K  2.5000000000         K   \n",
       "...          ...           ...        ...           ...       ...   \n",
       "140193         K  0.6000000238          K  8.8999996185         K   \n",
       "140194         K  0.6000000238          K  8.3000001907         K   \n",
       "140195         K  0.6000000238          K  8.6999998093         K   \n",
       "140196         K  0.6000000238          K  9.1999998093         K   \n",
       "140197         K  0.6000000238          K  9.1999998093         K   \n",
       "\n",
       "          H2SJ_ug_m3 H2SJ_stato      PIDVOC_ppb PIDVOC_stato  \n",
       "0       0.0000000000          K   44.5999984741            K  \n",
       "1       0.0000000000          K   44.0000000000            K  \n",
       "2       0.0000000000          K   44.2000007629            K  \n",
       "3       0.0000000000          K   44.4000015259            K  \n",
       "4       0.0000000000          K   40.7999992371            K  \n",
       "...              ...        ...             ...          ...  \n",
       "140193  0.3000000119          K  352.6000061035            K  \n",
       "140194  0.3000000119          K  350.6000061035            K  \n",
       "140195  0.3000000119          K  353.0000000000            K  \n",
       "140196  1.2000000477          K  352.7999877930            K  \n",
       "140197  1.1000000238          K  352.2000122070            K  \n",
       "\n",
       "[140198 rows x 14 columns]"
      ]
     },
     "execution_count": 61,
     "metadata": {},
     "output_type": "execute_result"
    }
   ],
   "source": [
    "df_DatiPuliti"
   ]
  },
  {
   "cell_type": "code",
   "execution_count": null,
   "metadata": {},
   "outputs": [],
   "source": [
    "# # QUERY"
   ]
  },
  {
   "cell_type": "code",
   "execution_count": null,
   "metadata": {},
   "outputs": [],
   "source": [
    "# Query 1"
   ]
  },
  {
   "cell_type": "code",
   "execution_count": null,
   "metadata": {
    "colab": {
     "base_uri": "https://localhost:8080/",
     "height": 424
    },
    "executionInfo": {
     "elapsed": 258,
     "status": "ok",
     "timestamp": 1655304229556,
     "user": {
      "displayName": "Carmine Martinelli",
      "userId": "17979448709595778797"
     },
     "user_tz": -120
    },
    "id": "Jp4Vpjsgz5nl",
    "outputId": "92fbd876-807c-4d8e-d24a-e0d0a2ddcc8e"
   },
   "outputs": [],
   "source": [
    "# query effettuata con un unico comando\n",
    "# df_Benzene = df_DatiSensori.sort_values(by='C6H6_ug/m3', ascending =False)[['postazione', 'Data', 'C6H6_ug/m3']].head(100)\n",
    "\n",
    "# creazione di un dataFrame ordinato in modo discendente per i valori di benzene\n",
    "df_C6H6 = df_DatiPuliti.sort_values(by='C6H6_ug/m3', ascending =False).drop_duplicates(subset=['Data'])\n",
    "# creazione di un dataFrame contenente i 100 maggiori valori di benzene\n",
    "query_C6H6 = df_C6H6[['postazione', 'Data', 'C6H6_ug/m3']]\n",
    "query_C6H6.head(100)"
   ]
  },
  {
   "cell_type": "code",
   "execution_count": null,
   "metadata": {},
   "outputs": [],
   "source": [
    "# Query 2"
   ]
  },
  {
   "cell_type": "code",
   "execution_count": null,
   "metadata": {
    "id": "J5TlwbyEz5nm"
   },
   "outputs": [],
   "source": [
    "# sensore H2S\n",
    "\n",
    "# query effettuata con un unico comando\n",
    "# df_H2S = df_DatiSensori.sort_values(by='H2S_ug/m3', ascending =False)[['postazione', 'Data', 'H2S_ug/m3']].head(100)\n",
    "# creazione di un dataFrame ordinato in modo discendente per i valori di acido solfidrico del sensore H2S\n",
    "df_H2S = df_DatiPuliti.sort_values(by='H2S_ug/m3', ascending =False).drop_duplicates(subset=['Data'])\n",
    "# creazione di un dataFrame contenente i 100 maggiori valori di acido solfidrico del sensore H2SJ\n",
    "query_H2S = df_H2S[['postazione', 'Data', 'H2S_ug/m3']].head(100)\n",
    "query_H2S"
   ]
  },
  {
   "cell_type": "code",
   "execution_count": null,
   "metadata": {
    "id": "42y6B_Svz5nm",
    "scrolled": false
   },
   "outputs": [],
   "source": [
    "# sensore H2SJ\n",
    "\n",
    "# query effettuata con un unico comando\n",
    "# df_H2SJ = df_DatiSensori.sort_values(by='H2SJ_ug/m3', ascending =False)[['postazione', 'Data', 'H2SJ_ug/m3']].head(100)\n",
    "# creazione di un dataFrame ordinato in modo discendente per i valori di acido solfidrico del sensore H2SJ\n",
    "df_H2SJ = df_DatiPuliti.sort_values(by='H2SJ_ug/m3', ascending =False).drop_duplicates(subset=['Data'])\n",
    "# creazione di un dataFrame contenente i 100 maggiori valori di acido solfidrico del sensore H2SJ\n",
    "query_H2SJ = df_H2SJ[['postazione', 'Data', 'H2SJ_ug/m3']].head(100)\n",
    "query_H2SJ"
   ]
  },
  {
   "cell_type": "code",
   "execution_count": null,
   "metadata": {},
   "outputs": [],
   "source": [
    "# Query 3"
   ]
  },
  {
   "cell_type": "code",
   "execution_count": null,
   "metadata": {
    "id": "RAzMuBQWz5nn",
    "scrolled": false
   },
   "outputs": [],
   "source": [
    "# sensore VOC\n",
    "\n",
    "# query effettuata con un unico comando\n",
    "# df_VOC = df_DatiSensori.sort_values(by='VOC_ppm', ascending =True)[['postazione', 'Data', 'VOC_ppm']].head(100)\n",
    "# creazione di un dataFrame ordinato in modo discendente per i valori del sensore VOC\n",
    "df_VOC = df_DatiPuliti.sort_values(by='VOC_ppm', ascending =True).drop_duplicates(subset=['Data'])\n",
    "# creazione di un dataFrame contenente i 100 più bassi valori del sensore VOC\n",
    "query_VOC = df_VOC[['postazione', 'Data', 'VOC_ppm']].head(100)\n",
    "query_VOC"
   ]
  },
  {
   "cell_type": "code",
   "execution_count": null,
   "metadata": {
    "id": "TQcNGJiyz5no",
    "scrolled": false
   },
   "outputs": [],
   "source": [
    "# sensore PIDVOC\n",
    "\n",
    "# query effettuata con un unico comando\n",
    "# df_PIDVOC = df_DatiSensori.sort_values(by='PIDVOC_ppb', ascending =True)[['postazione', 'Data', 'PIDVOC_ppb']].head(100)\n",
    "# creazione di un dataFrame ordinato in modo discendente per i valori del sensore PIDVOC\n",
    "df_PIDVOC = df_DatiPuliti.sort_values(by='PIDVOC_ppb', ascending =True).drop_duplicates(subset=['Data'])\n",
    "# creazione di un dataFrame contenente i 100 più bassi valori del sensore PIDVOC\n",
    "query_PIDVOC = df_PIDVOC[['postazione', 'Data', 'PIDVOC_ppb']].head(100)\n",
    "query_PIDVOC"
   ]
  },
  {
   "cell_type": "code",
   "execution_count": null,
   "metadata": {
    "id": "H90_aPnbz5np"
   },
   "outputs": [],
   "source": [
    "# Query 4"
   ]
  },
  {
   "cell_type": "code",
   "execution_count": 5,
   "metadata": {},
   "outputs": [],
   "source": [
    "# funzione che permette di eliminare i valori nulli, calcola la media oraria e restituisce un dataframe ordinato sull'ora\n",
    "def media_oraria(df, compound ):\n",
    "  df1 = df[['postazione', 'Data', compound]].copy()\n",
    "  df1['Data'] = pd.to_datetime(df1['Data'])\n",
    "  df1 = df1[df1[compound].notna()]\n",
    "  indexName = df1[(df1[compound]==0)].index\n",
    "  df1.drop(indexName, inplace = True)\n",
    "  return df1, df1[['Data', compound]].resample(\"H\", label = 'right', on = 'Data').mean()"
   ]
  },
  {
   "cell_type": "code",
   "execution_count": 56,
   "metadata": {
    "collapsed": true,
    "executionInfo": {
     "elapsed": 251,
     "status": "ok",
     "timestamp": 1655304751704,
     "user": {
      "displayName": "Carmine Martinelli",
      "userId": "17979448709595778797"
     },
     "user_tz": -120
    },
    "id": "6y6LFUlgz5nq"
   },
   "outputs": [
    {
     "data": {
      "text/html": [
       "<div>\n",
       "<style scoped>\n",
       "    .dataframe tbody tr th:only-of-type {\n",
       "        vertical-align: middle;\n",
       "    }\n",
       "\n",
       "    .dataframe tbody tr th {\n",
       "        vertical-align: top;\n",
       "    }\n",
       "\n",
       "    .dataframe thead th {\n",
       "        text-align: right;\n",
       "    }\n",
       "</style>\n",
       "<table border=\"1\" class=\"dataframe\">\n",
       "  <thead>\n",
       "    <tr style=\"text-align: right;\">\n",
       "      <th></th>\n",
       "      <th>C6H6_ug/m3</th>\n",
       "    </tr>\n",
       "    <tr>\n",
       "      <th>Data</th>\n",
       "      <th></th>\n",
       "    </tr>\n",
       "  </thead>\n",
       "  <tbody>\n",
       "    <tr>\n",
       "      <th>2021-04-12 01:00:00</th>\n",
       "      <td>0.2750000053</td>\n",
       "    </tr>\n",
       "    <tr>\n",
       "      <th>2021-04-12 02:00:00</th>\n",
       "      <td>0.2461538498</td>\n",
       "    </tr>\n",
       "    <tr>\n",
       "      <th>2021-04-12 03:00:00</th>\n",
       "      <td>0.2400000036</td>\n",
       "    </tr>\n",
       "    <tr>\n",
       "      <th>2021-04-12 04:00:00</th>\n",
       "      <td>0.2739130476</td>\n",
       "    </tr>\n",
       "    <tr>\n",
       "      <th>2021-04-12 05:00:00</th>\n",
       "      <td>0.2409090948</td>\n",
       "    </tr>\n",
       "    <tr>\n",
       "      <th>...</th>\n",
       "      <td>...</td>\n",
       "    </tr>\n",
       "    <tr>\n",
       "      <th>2021-11-28 20:00:00</th>\n",
       "      <td>0.2999999989</td>\n",
       "    </tr>\n",
       "    <tr>\n",
       "      <th>2021-11-28 21:00:00</th>\n",
       "      <td>0.2999999989</td>\n",
       "    </tr>\n",
       "    <tr>\n",
       "      <th>2021-11-28 22:00:00</th>\n",
       "      <td>0.2999999989</td>\n",
       "    </tr>\n",
       "    <tr>\n",
       "      <th>2021-11-28 23:00:00</th>\n",
       "      <td>0.2958333337</td>\n",
       "    </tr>\n",
       "    <tr>\n",
       "      <th>2021-11-29 00:00:00</th>\n",
       "      <td>0.2875000034</td>\n",
       "    </tr>\n",
       "  </tbody>\n",
       "</table>\n",
       "<p>5544 rows × 1 columns</p>\n",
       "</div>"
      ],
      "text/plain": [
       "                       C6H6_ug/m3\n",
       "Data                             \n",
       "2021-04-12 01:00:00  0.2750000053\n",
       "2021-04-12 02:00:00  0.2461538498\n",
       "2021-04-12 03:00:00  0.2400000036\n",
       "2021-04-12 04:00:00  0.2739130476\n",
       "2021-04-12 05:00:00  0.2409090948\n",
       "...                           ...\n",
       "2021-11-28 20:00:00  0.2999999989\n",
       "2021-11-28 21:00:00  0.2999999989\n",
       "2021-11-28 22:00:00  0.2999999989\n",
       "2021-11-28 23:00:00  0.2958333337\n",
       "2021-11-29 00:00:00  0.2875000034\n",
       "\n",
       "[5544 rows x 1 columns]"
      ]
     },
     "execution_count": 56,
     "metadata": {},
     "output_type": "execute_result"
    }
   ],
   "source": [
    "df_C6H6, df_C6H6avg = media_oraria(df_DatiSensori, 'C6H6_ug/m3')\n",
    "df_C6H6avg"
   ]
  },
  {
   "cell_type": "code",
   "execution_count": null,
   "metadata": {},
   "outputs": [],
   "source": [
    "print(len(indexName))"
   ]
  },
  {
   "cell_type": "code",
   "execution_count": null,
   "metadata": {
    "id": "wJ4C4Rr7z5nr"
   },
   "outputs": [],
   "source": [
    "# Stampa le 50 ore con i livelli di benzene più alti\n",
    "df_C6H6Max = df_C6H6avg.sort_values('C6H6_ug/m3', ascending = False).head(50)\n",
    "df_C6H6Max"
   ]
  },
  {
   "cell_type": "code",
   "execution_count": null,
   "metadata": {
    "id": "29GB_Un3z5nr"
   },
   "outputs": [],
   "source": [
    "# Stampa le 50 ore con i livelli di benzene più bassi\n",
    "df_C6H6Min = df_C6H6avg.sort_values('C6H6_ug/m3', ascending = True).head(50)\n",
    "df_C6H6Min"
   ]
  },
  {
   "cell_type": "code",
   "execution_count": null,
   "metadata": {
    "id": "fyY2GieZz5ns",
    "scrolled": true
   },
   "outputs": [],
   "source": [
    "#50 ore con il pù basso livello medio di benzene\n",
    "df_C6H6 = df_DatiSensori[['ora','C6H6_ug/m3']].copy()\n",
    "df_ore = df_C6H6.groupby('ora').mean().sort_values(['C6H6_ug/m3'], ascending =True).head(50).reset_index()\n",
    "df_ore[['ora']]"
   ]
  },
  {
   "cell_type": "code",
   "execution_count": null,
   "metadata": {
    "id": "_K-JKaLUz5nt"
   },
   "outputs": [],
   "source": [
    "# Query 5"
   ]
  },
  {
   "cell_type": "code",
   "execution_count": 6,
   "metadata": {
    "id": "_ijWhBlMz5nt"
   },
   "outputs": [],
   "source": [
    "#Elimina i valori nulli e calcola la media oraria sul dataframe creato per il sensore H2S\n",
    "df_H2S, df_H2Savg = media_oraria(df_DatiSensori, 'H2S_ug/m3')\n",
    "# df_H2Savg"
   ]
  },
  {
   "cell_type": "code",
   "execution_count": null,
   "metadata": {
    "id": "2P9kMGkGz5nu",
    "outputId": "d6a186ca-fa6c-4a82-9331-de146d23b0e2"
   },
   "outputs": [],
   "source": [
    "# Stampa le 50 ore con i livelli di acido solfidrico del sensore H2S più alti\n",
    "df_H2SMax= df_H2Savg.sort_values('H2S_ug/m3', ascending = False).head(50)\n",
    "df_H2SMax"
   ]
  },
  {
   "cell_type": "code",
   "execution_count": null,
   "metadata": {
    "id": "vif-8rM_z5nu",
    "outputId": "76f5ed23-910c-4f7b-f3cd-a6153aa37480"
   },
   "outputs": [],
   "source": [
    "# Stampa le 50 ore con i livelli di acido solfidrico del sensore H2S più basso\n",
    "df_H2SMin= df_H2Savg.sort_values('H2S_ug/m3', ascending = True).head(50)\n",
    "df_H2SMin"
   ]
  },
  {
   "cell_type": "code",
   "execution_count": 7,
   "metadata": {},
   "outputs": [],
   "source": [
    "#Elimina i valori nulli e calcola la media oraria sul dataframe creato per il sensore H2SJ\n",
    "df_H2SJ, df_H2SJavg = media_oraria(df_DatiSensori, 'H2SJ_ug/m3')\n",
    "# df_H2SJavg"
   ]
  },
  {
   "cell_type": "code",
   "execution_count": null,
   "metadata": {
    "id": "sAQXorXOz5nv",
    "outputId": "730016d1-5367-4305-e72b-003e23572482"
   },
   "outputs": [],
   "source": [
    "# Stampa le 50 ore con i livelli di acido solfidrico del sensore H2SJ più alti\n",
    "df_H2SJMax= df_H2SJavg.sort_values('H2SJ_ug/m3', ascending = False).head(50)\n",
    "df_H2SJMax"
   ]
  },
  {
   "cell_type": "code",
   "execution_count": null,
   "metadata": {
    "id": "YFfCxcBSz5nw",
    "outputId": "2e3d8e86-eaea-4db4-a871-02df83507686"
   },
   "outputs": [],
   "source": [
    "# Stampa le 50 ore con i livelli di acido solfidrico del sensore H2SJ più bassi\n",
    "df_H2SJMin= df_H2SJavg.sort_values('H2SJ_ug/m3', ascending = True).head(50)\n",
    "df_H2SJMin"
   ]
  },
  {
   "cell_type": "code",
   "execution_count": null,
   "metadata": {
    "id": "juoqhY7-z5nw"
   },
   "outputs": [],
   "source": [
    "# Query 6"
   ]
  },
  {
   "cell_type": "code",
   "execution_count": 41,
   "metadata": {
    "collapsed": true,
    "executionInfo": {
     "elapsed": 255,
     "status": "ok",
     "timestamp": 1655304361634,
     "user": {
      "displayName": "Carmine Martinelli",
      "userId": "17979448709595778797"
     },
     "user_tz": -120
    },
    "id": "jWf6C1cSz5nw"
   },
   "outputs": [
    {
     "data": {
      "text/html": [
       "<div>\n",
       "<style scoped>\n",
       "    .dataframe tbody tr th:only-of-type {\n",
       "        vertical-align: middle;\n",
       "    }\n",
       "\n",
       "    .dataframe tbody tr th {\n",
       "        vertical-align: top;\n",
       "    }\n",
       "\n",
       "    .dataframe thead th {\n",
       "        text-align: right;\n",
       "    }\n",
       "</style>\n",
       "<table border=\"1\" class=\"dataframe\">\n",
       "  <thead>\n",
       "    <tr style=\"text-align: right;\">\n",
       "      <th></th>\n",
       "      <th>VOC_ppm</th>\n",
       "    </tr>\n",
       "    <tr>\n",
       "      <th>Data</th>\n",
       "      <th></th>\n",
       "    </tr>\n",
       "  </thead>\n",
       "  <tbody>\n",
       "    <tr>\n",
       "      <th>2021-04-12 01:00:00</th>\n",
       "      <td>0.2000000030</td>\n",
       "    </tr>\n",
       "    <tr>\n",
       "      <th>2021-04-12 02:00:00</th>\n",
       "      <td>0.2000000030</td>\n",
       "    </tr>\n",
       "    <tr>\n",
       "      <th>2021-04-12 03:00:00</th>\n",
       "      <td>0.2000000030</td>\n",
       "    </tr>\n",
       "    <tr>\n",
       "      <th>2021-04-12 04:00:00</th>\n",
       "      <td>0.2000000030</td>\n",
       "    </tr>\n",
       "    <tr>\n",
       "      <th>2021-04-12 05:00:00</th>\n",
       "      <td>0.2000000030</td>\n",
       "    </tr>\n",
       "    <tr>\n",
       "      <th>...</th>\n",
       "      <td>...</td>\n",
       "    </tr>\n",
       "    <tr>\n",
       "      <th>2021-11-28 20:00:00</th>\n",
       "      <td>0.2000000030</td>\n",
       "    </tr>\n",
       "    <tr>\n",
       "      <th>2021-11-28 21:00:00</th>\n",
       "      <td>0.2416666734</td>\n",
       "    </tr>\n",
       "    <tr>\n",
       "      <th>2021-11-28 22:00:00</th>\n",
       "      <td>0.2166666711</td>\n",
       "    </tr>\n",
       "    <tr>\n",
       "      <th>2021-11-28 23:00:00</th>\n",
       "      <td>0.2333333393</td>\n",
       "    </tr>\n",
       "    <tr>\n",
       "      <th>2021-11-29 00:00:00</th>\n",
       "      <td>0.2583333415</td>\n",
       "    </tr>\n",
       "  </tbody>\n",
       "</table>\n",
       "<p>5544 rows × 1 columns</p>\n",
       "</div>"
      ],
      "text/plain": [
       "                          VOC_ppm\n",
       "Data                             \n",
       "2021-04-12 01:00:00  0.2000000030\n",
       "2021-04-12 02:00:00  0.2000000030\n",
       "2021-04-12 03:00:00  0.2000000030\n",
       "2021-04-12 04:00:00  0.2000000030\n",
       "2021-04-12 05:00:00  0.2000000030\n",
       "...                           ...\n",
       "2021-11-28 20:00:00  0.2000000030\n",
       "2021-11-28 21:00:00  0.2416666734\n",
       "2021-11-28 22:00:00  0.2166666711\n",
       "2021-11-28 23:00:00  0.2333333393\n",
       "2021-11-29 00:00:00  0.2583333415\n",
       "\n",
       "[5544 rows x 1 columns]"
      ]
     },
     "execution_count": 41,
     "metadata": {},
     "output_type": "execute_result"
    }
   ],
   "source": [
    "#Elimina i valori nulli e calcola la media oraria sul dataframe creato per il sensore VOC\n",
    "df_VOC, df_VOCavg = media_oraria(df_DatiSensori, 'VOC_ppm')\n",
    "df_VOCavg"
   ]
  },
  {
   "cell_type": "code",
   "execution_count": null,
   "metadata": {
    "id": "q8ucBSp1z5nx"
   },
   "outputs": [],
   "source": [
    "# Stampa le 50 ore con i livelli di VOC del sensore VOC più alti\n",
    "df_VOCMax= df_VOCavg.sort_values('VOC_ppm', ascending = False).head(50)\n",
    "df_VOCMax"
   ]
  },
  {
   "cell_type": "code",
   "execution_count": null,
   "metadata": {
    "id": "BSlxPad6z5ny",
    "outputId": "9dcd347b-55dc-4c9b-966c-44f9ee0bca99"
   },
   "outputs": [],
   "source": [
    "# Stampa le 50 ore con i livelli di VOC del sensore VOC più bassi\n",
    "df_VOCMin= df_VOCavg.sort_values('VOC_ppm', ascending = True).head(50)\n",
    "df_VOCMin"
   ]
  },
  {
   "cell_type": "code",
   "execution_count": 42,
   "metadata": {
    "collapsed": true
   },
   "outputs": [
    {
     "data": {
      "text/html": [
       "<div>\n",
       "<style scoped>\n",
       "    .dataframe tbody tr th:only-of-type {\n",
       "        vertical-align: middle;\n",
       "    }\n",
       "\n",
       "    .dataframe tbody tr th {\n",
       "        vertical-align: top;\n",
       "    }\n",
       "\n",
       "    .dataframe thead th {\n",
       "        text-align: right;\n",
       "    }\n",
       "</style>\n",
       "<table border=\"1\" class=\"dataframe\">\n",
       "  <thead>\n",
       "    <tr style=\"text-align: right;\">\n",
       "      <th></th>\n",
       "      <th>PIDVOC_ppb</th>\n",
       "    </tr>\n",
       "    <tr>\n",
       "      <th>Data</th>\n",
       "      <th></th>\n",
       "    </tr>\n",
       "  </thead>\n",
       "  <tbody>\n",
       "    <tr>\n",
       "      <th>2021-04-12 01:00:00</th>\n",
       "      <td>75.2958326340</td>\n",
       "    </tr>\n",
       "    <tr>\n",
       "      <th>2021-04-12 02:00:00</th>\n",
       "      <td>73.7435896947</td>\n",
       "    </tr>\n",
       "    <tr>\n",
       "      <th>2021-04-12 03:00:00</th>\n",
       "      <td>70.9600000064</td>\n",
       "    </tr>\n",
       "    <tr>\n",
       "      <th>2021-04-12 04:00:00</th>\n",
       "      <td>74.2608698555</td>\n",
       "    </tr>\n",
       "    <tr>\n",
       "      <th>2021-04-12 05:00:00</th>\n",
       "      <td>75.1590911692</td>\n",
       "    </tr>\n",
       "    <tr>\n",
       "      <th>...</th>\n",
       "      <td>...</td>\n",
       "    </tr>\n",
       "    <tr>\n",
       "      <th>2021-11-28 20:00:00</th>\n",
       "      <td>132.1666666667</td>\n",
       "    </tr>\n",
       "    <tr>\n",
       "      <th>2021-11-28 21:00:00</th>\n",
       "      <td>130.8277769883</td>\n",
       "    </tr>\n",
       "    <tr>\n",
       "      <th>2021-11-28 22:00:00</th>\n",
       "      <td>127.9666655064</td>\n",
       "    </tr>\n",
       "    <tr>\n",
       "      <th>2021-11-28 23:00:00</th>\n",
       "      <td>125.2944432629</td>\n",
       "    </tr>\n",
       "    <tr>\n",
       "      <th>2021-11-29 00:00:00</th>\n",
       "      <td>126.2555556032</td>\n",
       "    </tr>\n",
       "  </tbody>\n",
       "</table>\n",
       "<p>5544 rows × 1 columns</p>\n",
       "</div>"
      ],
      "text/plain": [
       "                         PIDVOC_ppb\n",
       "Data                               \n",
       "2021-04-12 01:00:00   75.2958326340\n",
       "2021-04-12 02:00:00   73.7435896947\n",
       "2021-04-12 03:00:00   70.9600000064\n",
       "2021-04-12 04:00:00   74.2608698555\n",
       "2021-04-12 05:00:00   75.1590911692\n",
       "...                             ...\n",
       "2021-11-28 20:00:00  132.1666666667\n",
       "2021-11-28 21:00:00  130.8277769883\n",
       "2021-11-28 22:00:00  127.9666655064\n",
       "2021-11-28 23:00:00  125.2944432629\n",
       "2021-11-29 00:00:00  126.2555556032\n",
       "\n",
       "[5544 rows x 1 columns]"
      ]
     },
     "execution_count": 42,
     "metadata": {},
     "output_type": "execute_result"
    }
   ],
   "source": [
    "#Elimina i valori nulli e calcola la media oraria sul dataframe creato per il sensore PIDVOC\n",
    "df_PIDVOC, df_PIDVOCavg = media_oraria(df_DatiSensori, 'PIDVOC_ppb')\n",
    "df_PIDVOCavg"
   ]
  },
  {
   "cell_type": "code",
   "execution_count": null,
   "metadata": {
    "id": "ap47eeIJz5ny",
    "outputId": "8e6c2df2-f6a8-45d1-8c11-936bebcad5df"
   },
   "outputs": [],
   "source": [
    "# Stampa le 50 ore con i livelli di VOC del sensore PIDVOC più alti\n",
    "df_PIDVOCMax= df_PIDVOCavg.sort_values('PIDVOC_ppb', ascending = False).head(50)\n",
    "df_PIDVOCMax"
   ]
  },
  {
   "cell_type": "code",
   "execution_count": null,
   "metadata": {
    "id": "zmmjSGmoz5ny"
   },
   "outputs": [],
   "source": [
    "# Stampa le 50 ore con i livelli di VOC del sensore PIDVOC più bassi\n",
    "df_PIDVOCMin= df_PIDVOCavg.sort_values('PIDVOC_ppb', ascending = True).head(50)\n",
    "df_PIDVOCMin"
   ]
  },
  {
   "cell_type": "code",
   "execution_count": null,
   "metadata": {},
   "outputs": [],
   "source": [
    "# Creazione di un dataset per la media oraria"
   ]
  },
  {
   "cell_type": "code",
   "execution_count": null,
   "metadata": {},
   "outputs": [],
   "source": [
    "df_MediaOraria = df_C6H6.copy()\n",
    "df_MediaOraria['H2S_ug/m3'] = df_H2S['H2S_ug/m3']\n",
    "df_MediaOraria['H2SJ_ug/m3'] = df_H2SJ['H2SJ_ug/m3']\n",
    "df_MediaOraria['VOC_ppm'] = df_VOC['VOC_ppm']\n",
    "df_MediaOraria['PIDVOC_ppb'] = df_PIDVOC['PIDVOC_ppb']\n",
    "df_MediaOraria.to_excel('media_oraria.xlsx')"
   ]
  },
  {
   "cell_type": "code",
   "execution_count": null,
   "metadata": {
    "id": "bQbwEz_xz5nz"
   },
   "outputs": [],
   "source": [
    "# Query 7"
   ]
  },
  {
   "cell_type": "code",
   "execution_count": null,
   "metadata": {},
   "outputs": [],
   "source": [
    "# Giornate con fallimenti ND\n",
    "df_Fail_ND = df_DatiSensori[['Data','TRS_ppb','VOC_ppm','C6H6_ug/m3','H2S_ug/m3','H2SJ_ug/m3','PIDVOC_ppb']].copy()\n",
    "df_Fail_ND['Giorno'] = pd.to_datetime(df_Fail_ND['Data'].dt.strftime('%d/%m/%Y'))\n",
    "df_Fail_ND = df_Fail_ND[(df_Fail_ND['TRS_ppb'].isna()) | (df_Fail_ND['VOC_ppm'].isna()) | (df_Fail_ND['C6H6_ug/m3'].isna()) | (df_Fail_ND['H2S_ug/m3'].isna()) | (df_Fail_ND['H2SJ_ug/m3'].isna()) | (df_Fail_ND['PIDVOC_ppb'].isna())]\n",
    "df_Fail_ND = df_Fail_ND.groupby('Giorno').count()\n",
    "df_Fail_ND"
   ]
  },
  {
   "cell_type": "code",
   "execution_count": null,
   "metadata": {},
   "outputs": [],
   "source": [
    "# Errato\n",
    "# Serve trovare anche le righe con 24 (144)(Praticamente per 12h della stessa giornata non ha registrato) 0 che sono comunque ND.\n",
    "df_Fail_0 = df_DatiSensori[['Data','TRS_ppb','VOC_ppm','C6H6_ug/m3','H2S_ug/m3','H2SJ_ug/m3','PIDVOC_ppb']].copy()\n",
    "df_Fail_0['Giorno'] = pd.to_datetime(df_Fail_0['Data'].dt.strftime('%d/%m/%Y'))\n",
    "df_Fail_0['TRS_ppb'].astype(float)\n",
    "df_Fail_0['VOC_ppm'].astype(float)\n",
    "df_Fail_0['C6H6_ug/m3'].astype(float)\n",
    "df_Fail_0['H2S_ug/m3'].astype(float)\n",
    "df_Fail_0['H2SJ_ug/m3'].astype(float)\n",
    "df_Fail_0['PIDVOC_ppb'].astype(float)\n",
    "df_Fail_0 = df_Fail_0[(df_Fail_0['TRS_ppb'] == 0) | (df_Fail_0['VOC_ppm'] == 0) | (df_Fail_0['C6H6_ug/m3']== 0) | (df_Fail_0['H2S_ug/m3']== 0) | (df_Fail_0['H2SJ_ug/m3']== 0) | (df_Fail_0['PIDVOC_ppb']== 0)]\n",
    "df_Fail_0 = df_Fail_0.groupby('Giorno').count()\n",
    "# df_Fail_0 = df_Fail_0[(df_Fail_0.Data >= 144)]\n",
    "df_Fail_0 = df_Fail_0[(df_Fail_0.Data >= 24)]\n",
    "df_Fail_0"
   ]
  },
  {
   "cell_type": "code",
   "execution_count": null,
   "metadata": {},
   "outputs": [],
   "source": [
    "#Unisco i dati per i fallimenti(Banale union)\n",
    "df_fail = pd.concat([df_Fail_ND, df_Fail_0])"
   ]
  },
  {
   "cell_type": "code",
   "execution_count": null,
   "metadata": {},
   "outputs": [],
   "source": [
    "#3 giorni con il maggior numero di fallimenti\n",
    "df_fail.sort_values(['Data'], ascending=False).head(3)"
   ]
  },
  {
   "cell_type": "code",
   "execution_count": null,
   "metadata": {},
   "outputs": [],
   "source": [
    "#3 giorni con il minor numero di fallimenti\n",
    "df_fail.sort_values(['Data'], ascending=True).head(3)"
   ]
  },
  {
   "cell_type": "code",
   "execution_count": null,
   "metadata": {},
   "outputs": [],
   "source": [
    "# Query 8"
   ]
  },
  {
   "cell_type": "code",
   "execution_count": null,
   "metadata": {
    "colab": {
     "base_uri": "https://localhost:8080/",
     "height": 206
    },
    "executionInfo": {
     "elapsed": 1317,
     "status": "ok",
     "timestamp": 1655309855770,
     "user": {
      "displayName": "Carmine Martinelli",
      "userId": "17979448709595778797"
     },
     "user_tz": -120
    },
    "id": "Z9ibKzKhJlNM",
    "outputId": "976f3915-25ad-433d-ac68-ffedd2aea0f3"
   },
   "outputs": [],
   "source": [
    "# 3 giornate con il minor numero di fallimenti (manca il calcolo dei 24 zeri consecutivi)\n",
    "df_Fail = df_DatiSensori[['Data','C6H6_ug/m3']].copy()\n",
    "df_Fail['Data'] = pd.to_datetime(df_Fail['Data'].dt.strftime('%d/%m/%Y'))\n",
    "df_Fail['Giorno'] = df_Fail['Data']\n",
    "df_Fail = df_Fail[df_Fail['C6H6_ug/m3'].isna()]\n",
    "df_Fail = df_Fail[(df_Fail['C6H6_ug/m3']!='0')]\n",
    "df_Fail = df_Fail.groupby('Giorno').count().sort_values('Data', ascending = True)\n",
    "df_Fail.head(3)"
   ]
  },
  {
   "cell_type": "code",
   "execution_count": null,
   "metadata": {},
   "outputs": [],
   "source": [
    "# Query 9, 10 e 11"
   ]
  },
  {
   "cell_type": "code",
   "execution_count": 48,
   "metadata": {},
   "outputs": [],
   "source": [
    "# crea due liste con tutti gli inquinanti e i relativi stati\n",
    "inquinanti = ['TRS_ppb','VOC_ppm','C6H6_ug/m3','H2S_ug/m3','H2SJ_ug/m3','PIDVOC_ppb']\n",
    "stato_Inquinanti = ['TRS_stato','VOC_stato','C6H6_stato', 'H2S_stato','H2SJ_stato', 'PIDVOC_stato']"
   ]
  },
  {
   "cell_type": "code",
   "execution_count": 49,
   "metadata": {
    "collapsed": true
   },
   "outputs": [
    {
     "data": {
      "text/html": [
       "<div>\n",
       "<style scoped>\n",
       "    .dataframe tbody tr th:only-of-type {\n",
       "        vertical-align: middle;\n",
       "    }\n",
       "\n",
       "    .dataframe tbody tr th {\n",
       "        vertical-align: top;\n",
       "    }\n",
       "\n",
       "    .dataframe thead th {\n",
       "        text-align: right;\n",
       "    }\n",
       "</style>\n",
       "<table border=\"1\" class=\"dataframe\">\n",
       "  <thead>\n",
       "    <tr style=\"text-align: right;\">\n",
       "      <th></th>\n",
       "      <th>Sensori</th>\n",
       "      <th>Fallimenti</th>\n",
       "    </tr>\n",
       "  </thead>\n",
       "  <tbody>\n",
       "    <tr>\n",
       "      <th>0</th>\n",
       "      <td>TRS_ppb</td>\n",
       "      <td>13460</td>\n",
       "    </tr>\n",
       "    <tr>\n",
       "      <th>1</th>\n",
       "      <td>VOC_ppm</td>\n",
       "      <td>13613</td>\n",
       "    </tr>\n",
       "    <tr>\n",
       "      <th>2</th>\n",
       "      <td>C6H6_ug/m3</td>\n",
       "      <td>13001</td>\n",
       "    </tr>\n",
       "    <tr>\n",
       "      <th>3</th>\n",
       "      <td>H2S_ug/m3</td>\n",
       "      <td>13091</td>\n",
       "    </tr>\n",
       "    <tr>\n",
       "      <th>4</th>\n",
       "      <td>H2SJ_ug/m3</td>\n",
       "      <td>13426</td>\n",
       "    </tr>\n",
       "    <tr>\n",
       "      <th>5</th>\n",
       "      <td>PIDVOC_ppb</td>\n",
       "      <td>13051</td>\n",
       "    </tr>\n",
       "  </tbody>\n",
       "</table>\n",
       "</div>"
      ],
      "text/plain": [
       "      Sensori  Fallimenti\n",
       "0     TRS_ppb       13460\n",
       "1     VOC_ppm       13613\n",
       "2  C6H6_ug/m3       13001\n",
       "3   H2S_ug/m3       13091\n",
       "4  H2SJ_ug/m3       13426\n",
       "5  PIDVOC_ppb       13051"
      ]
     },
     "execution_count": 49,
     "metadata": {},
     "output_type": "execute_result"
    }
   ],
   "source": [
    "# crea un dataframe che contiene la somma dei fallimenti \n",
    "# oltre alle righe con 'ND' che indicano il fallimento nel trasmettere i dati, consideriamo fallimento\n",
    "# anche la presenza consecutiva massiccia di valori 0\n",
    "fails = []\n",
    "df_NFails = pd.DataFrame({'Fallimenti':np.arange(6)})\n",
    "df_NFails = pd.DataFrame({'Sensori':np.arange(6)})\n",
    "for column in range(len(inquinanti)):\n",
    "    df_Fail = df_DatiSensori[[inquinanti[column], stato_Inquinanti[column]]].copy()\n",
    "    errors = df_Fail[inquinanti[column]].ne(df_Fail[inquinanti[column]].shift()).cumsum()[df_Fail[inquinanti[column]].eq(0.0)].value_counts().ge(24).sum()\n",
    "    num_ND= df_Fail[stato_Inquinanti[column]].value_counts()[\"ND\"]\n",
    "    fails.append(num_ND + errors)\n",
    "\n",
    "df_NFails['Sensori'] = inquinanti\n",
    "df_NFails['Fallimenti'] = fails\n",
    "df_NFails\n"
   ]
  },
  {
   "cell_type": "code",
   "execution_count": null,
   "metadata": {},
   "outputs": [],
   "source": [
    "# Query 9"
   ]
  },
  {
   "cell_type": "code",
   "execution_count": null,
   "metadata": {},
   "outputs": [],
   "source": [
    "df_NFails['Dati TOT'] = len(df_DatiSensori)\n",
    "df_NFails['Media'] = df_NFails['Fallimenti'].div(len(df_DatiSensori))\n",
    "df_NFails"
   ]
  },
  {
   "cell_type": "code",
   "execution_count": null,
   "metadata": {},
   "outputs": [],
   "source": [
    "# Query 10"
   ]
  },
  {
   "cell_type": "code",
   "execution_count": null,
   "metadata": {},
   "outputs": [],
   "source": [
    "# Prende il massimo dal dataframe\n",
    "df_NFails['Fallimenti'].max()"
   ]
  },
  {
   "cell_type": "code",
   "execution_count": null,
   "metadata": {},
   "outputs": [],
   "source": [
    "# Query 11"
   ]
  },
  {
   "cell_type": "code",
   "execution_count": null,
   "metadata": {},
   "outputs": [],
   "source": [
    "# Prende il minimo dal dataframe\n",
    "df_NFails['Fallimenti'].min()"
   ]
  },
  {
   "cell_type": "code",
   "execution_count": null,
   "metadata": {},
   "outputs": [],
   "source": [
    "# # CORRELAZIONI"
   ]
  },
  {
   "cell_type": "code",
   "execution_count": 18,
   "metadata": {},
   "outputs": [],
   "source": [
    "# Funzione correlazione\n",
    "def correlation(df, postazione, compound1, compound2,):\n",
    "    df1 = df[df['postazione'] == postazione]\n",
    "    df1.plot.scatter(x= compound1, y=compound2)\n",
    "    a,b = np.polyfit(df1[compound1].to_list(), df1[compound2].to_list(), 1) #Inferiamo y =ax + b\n",
    "    x1 = min(df1[compound1].to_list())\n",
    "    x2 = max(df1[compound1].to_list())\n",
    "    plt.plot([x1,x2], [a*x1 +b, a*x2 +b], color = 'red')\n",
    "    plt.show()\n",
    "    cc = np.corrcoef(df1[compound1], df1[compound2])[1,0]\n",
    "    cs = df1[[compound1, compound2]].corr(method = 'spearman')\n",
    "    return cc, cs.iloc[1,0]"
   ]
  },
  {
   "cell_type": "code",
   "execution_count": null,
   "metadata": {},
   "outputs": [],
   "source": [
    "# CORRELAZIONE 1 TRA I SENSORI H2S E H2SJ NELLE VARIE POSTAZIONI"
   ]
  },
  {
   "cell_type": "code",
   "execution_count": 67,
   "metadata": {
    "collapsed": true
   },
   "outputs": [
    {
     "data": {
      "text/html": [
       "<div>\n",
       "<style scoped>\n",
       "    .dataframe tbody tr th:only-of-type {\n",
       "        vertical-align: middle;\n",
       "    }\n",
       "\n",
       "    .dataframe tbody tr th {\n",
       "        vertical-align: top;\n",
       "    }\n",
       "\n",
       "    .dataframe thead th {\n",
       "        text-align: right;\n",
       "    }\n",
       "</style>\n",
       "<table border=\"1\" class=\"dataframe\">\n",
       "  <thead>\n",
       "    <tr style=\"text-align: right;\">\n",
       "      <th></th>\n",
       "      <th>postazione</th>\n",
       "      <th>Data</th>\n",
       "      <th>H2S_ug_m3</th>\n",
       "      <th>H2SJ_ug_m3</th>\n",
       "    </tr>\n",
       "  </thead>\n",
       "  <tbody>\n",
       "    <tr>\n",
       "      <th>0</th>\n",
       "      <td>ATM05_01479</td>\n",
       "      <td>2021-04-12 00:00:00</td>\n",
       "      <td>0.0000000000</td>\n",
       "      <td>0.0000000000</td>\n",
       "    </tr>\n",
       "    <tr>\n",
       "      <th>1</th>\n",
       "      <td>ATM05_01479</td>\n",
       "      <td>2021-04-12 00:05:00</td>\n",
       "      <td>0.2000000030</td>\n",
       "      <td>0.0000000000</td>\n",
       "    </tr>\n",
       "    <tr>\n",
       "      <th>2</th>\n",
       "      <td>ATM05_01479</td>\n",
       "      <td>2021-04-12 00:10:00</td>\n",
       "      <td>1.7000000477</td>\n",
       "      <td>0.0000000000</td>\n",
       "    </tr>\n",
       "    <tr>\n",
       "      <th>3</th>\n",
       "      <td>ATM05_01479</td>\n",
       "      <td>2021-04-12 00:15:00</td>\n",
       "      <td>1.8999999762</td>\n",
       "      <td>0.0000000000</td>\n",
       "    </tr>\n",
       "    <tr>\n",
       "      <th>4</th>\n",
       "      <td>ATM05_01479</td>\n",
       "      <td>2021-04-12 00:20:00</td>\n",
       "      <td>2.5000000000</td>\n",
       "      <td>0.0000000000</td>\n",
       "    </tr>\n",
       "    <tr>\n",
       "      <th>...</th>\n",
       "      <td>...</td>\n",
       "      <td>...</td>\n",
       "      <td>...</td>\n",
       "      <td>...</td>\n",
       "    </tr>\n",
       "    <tr>\n",
       "      <th>140193</th>\n",
       "      <td>ATM14_01486</td>\n",
       "      <td>2021-11-28 23:35:00</td>\n",
       "      <td>8.8999996185</td>\n",
       "      <td>0.3000000119</td>\n",
       "    </tr>\n",
       "    <tr>\n",
       "      <th>140194</th>\n",
       "      <td>ATM14_01486</td>\n",
       "      <td>2021-11-28 23:40:00</td>\n",
       "      <td>8.3000001907</td>\n",
       "      <td>0.3000000119</td>\n",
       "    </tr>\n",
       "    <tr>\n",
       "      <th>140195</th>\n",
       "      <td>ATM14_01486</td>\n",
       "      <td>2021-11-28 23:45:00</td>\n",
       "      <td>8.6999998093</td>\n",
       "      <td>0.3000000119</td>\n",
       "    </tr>\n",
       "    <tr>\n",
       "      <th>140196</th>\n",
       "      <td>ATM14_01486</td>\n",
       "      <td>2021-11-28 23:50:00</td>\n",
       "      <td>9.1999998093</td>\n",
       "      <td>1.2000000477</td>\n",
       "    </tr>\n",
       "    <tr>\n",
       "      <th>140197</th>\n",
       "      <td>ATM14_01486</td>\n",
       "      <td>2021-11-28 23:55:00</td>\n",
       "      <td>9.1999998093</td>\n",
       "      <td>1.1000000238</td>\n",
       "    </tr>\n",
       "  </tbody>\n",
       "</table>\n",
       "<p>140198 rows × 4 columns</p>\n",
       "</div>"
      ],
      "text/plain": [
       "         postazione                Data     H2S_ug_m3    H2SJ_ug_m3\n",
       "0       ATM05_01479 2021-04-12 00:00:00  0.0000000000  0.0000000000\n",
       "1       ATM05_01479 2021-04-12 00:05:00  0.2000000030  0.0000000000\n",
       "2       ATM05_01479 2021-04-12 00:10:00  1.7000000477  0.0000000000\n",
       "3       ATM05_01479 2021-04-12 00:15:00  1.8999999762  0.0000000000\n",
       "4       ATM05_01479 2021-04-12 00:20:00  2.5000000000  0.0000000000\n",
       "...             ...                 ...           ...           ...\n",
       "140193  ATM14_01486 2021-11-28 23:35:00  8.8999996185  0.3000000119\n",
       "140194  ATM14_01486 2021-11-28 23:40:00  8.3000001907  0.3000000119\n",
       "140195  ATM14_01486 2021-11-28 23:45:00  8.6999998093  0.3000000119\n",
       "140196  ATM14_01486 2021-11-28 23:50:00  9.1999998093  1.2000000477\n",
       "140197  ATM14_01486 2021-11-28 23:55:00  9.1999998093  1.1000000238\n",
       "\n",
       "[140198 rows x 4 columns]"
      ]
     },
     "execution_count": 67,
     "metadata": {},
     "output_type": "execute_result"
    }
   ],
   "source": [
    "# Crea un dataframe contenente entrambi i sensori, rinomina le colonne ed elimina i valori nulli\n",
    "df_AcidoSolf = df_DatiPuliti[['postazione', 'Data', 'H2S_ug_m3', 'H2SJ_ug_m3']]\n",
    "df_AcidoSolf = df_AcidoSolf.dropna()\n",
    "df_AcidoSolf"
   ]
  },
  {
   "cell_type": "code",
   "execution_count": 68,
   "metadata": {
    "collapsed": true
   },
   "outputs": [
    {
     "data": {
      "image/png": "[encoded data removed]",
      "text/plain": [
       "<Figure size 432x288 with 1 Axes>"
      ]
     },
     "metadata": {
      "needs_background": "light"
     },
     "output_type": "display_data"
    },
    {
     "name": "stdout",
     "output_type": "stream",
     "text": [
      "Coefficiente di correlazione tra H2S e H2SJ con pearson per la postazione ATM05_01479 è  0.07594690162434233\n",
      "Coefficiente di correlazione tra H2S e H2SJ con spearman per la postazione ATM05_01479 è  0.0204889041470487\n"
     ]
    }
   ],
   "source": [
    "# correlazione per la stazione ATM05_01479\n",
    "pearsonPost1, spearmanPost1= correlation(df_AcidoSolf, 'ATM05_01479', 'H2S_ug_m3', 'H2SJ_ug_m3' )\n",
    "print('Coefficiente di correlazione tra H2S e H2SJ con pearson per la postazione ATM05_01479 è ', pearsonPost1)\n",
    "print('Coefficiente di correlazione tra H2S e H2SJ con spearman per la postazione ATM05_01479 è ', spearmanPost1)"
   ]
  },
  {
   "cell_type": "code",
   "execution_count": 69,
   "metadata": {
    "collapsed": true
   },
   "outputs": [
    {
     "data": {
      "image/png": "[encoded data removed]",
      "text/plain": [
       "<Figure size 432x288 with 1 Axes>"
      ]
     },
     "metadata": {
      "needs_background": "light"
     },
     "output_type": "display_data"
    },
    {
     "name": "stdout",
     "output_type": "stream",
     "text": [
      "Coefficiente di correlazione tra H2S e H2SJ con pearson per la postazione ATM07_01480 è  0.07424772401108427\n",
      "Coefficiente di correlazione tra H2S e H2SJ con spearman per la postazione ATM07_01480 è  -0.03060405992865737\n"
     ]
    }
   ],
   "source": [
    "# correlazione per la stazione ATM07_01480\n",
    "pearsonPost2, spearmanPost2 = correlation(df_AcidoSolf, 'ATM07_01480', 'H2S_ug_m3', 'H2SJ_ug_m3' )\n",
    "print('Coefficiente di correlazione tra H2S e H2SJ con pearson per la postazione ATM07_01480 è ', pearsonPost2)\n",
    "print('Coefficiente di correlazione tra H2S e H2SJ con spearman per la postazione ATM07_01480 è ', spearmanPost2)"
   ]
  },
  {
   "cell_type": "code",
   "execution_count": 70,
   "metadata": {
    "collapsed": true
   },
   "outputs": [
    {
     "data": {
      "image/png": "[encoded data removed]",
      "text/plain": [
       "<Figure size 432x288 with 1 Axes>"
      ]
     },
     "metadata": {
      "needs_background": "light"
     },
     "output_type": "display_data"
    },
    {
     "name": "stdout",
     "output_type": "stream",
     "text": [
      "Coefficiente di correlazione tra H2S e H2SJ con pearson per la postazione ATM10_01481 è  0.06808761112626863\n",
      "Coefficiente di correlazione tra H2S e H2SJ con spearman per la postazione ATM10_01481 è  -0.08060107144896163\n"
     ]
    }
   ],
   "source": [
    "# correlazione per la stazione ATM10_01481\n",
    "pearsonPost3, spearmanPost3 = correlation(df_AcidoSolf, 'ATM10_01481', 'H2S_ug_m3', 'H2SJ_ug_m3' )\n",
    "print('Coefficiente di correlazione tra H2S e H2SJ con pearson per la postazione ATM10_01481 è ', pearsonPost3)\n",
    "print('Coefficiente di correlazione tra H2S e H2SJ con spearman per la postazione ATM10_01481 è ', spearmanPost3)"
   ]
  },
  {
   "cell_type": "code",
   "execution_count": 71,
   "metadata": {
    "collapsed": true
   },
   "outputs": [
    {
     "data": {
      "image/png": "[encoded data removed]",
      "text/plain": [
       "<Figure size 432x288 with 1 Axes>"
      ]
     },
     "metadata": {
      "needs_background": "light"
     },
     "output_type": "display_data"
    },
    {
     "name": "stdout",
     "output_type": "stream",
     "text": [
      "Coefficiente di correlazione tra H2S e H2SJ con pearson per la postazione ATM14_01486 è  -0.11589078570837154\n",
      "Coefficiente di correlazione tra H2S e H2SJ con spearman per la postazione ATM14_01486 è  -0.05214788209965612\n"
     ]
    }
   ],
   "source": [
    "# correlazione per la stazione ATM14_01486\n",
    "pearsonPost4, spearmanPost4= correlation(df_AcidoSolf, 'ATM14_01486', 'H2S_ug_m3', 'H2SJ_ug_m3' )\n",
    "print('Coefficiente di correlazione tra H2S e H2SJ con pearson per la postazione ATM14_01486 è ', pearsonPost4)\n",
    "print('Coefficiente di correlazione tra H2S e H2SJ con spearman per la postazione ATM14_01486 è ', spearmanPost4)"
   ]
  },
  {
   "cell_type": "code",
   "execution_count": null,
   "metadata": {},
   "outputs": [],
   "source": [
    "# CORRELAZIONE 2 TRA I SENSORI VOC E PIDVOC NELLE VARIE POSTAZIONI"
   ]
  },
  {
   "cell_type": "code",
   "execution_count": 62,
   "metadata": {
    "collapsed": true
   },
   "outputs": [
    {
     "data": {
      "text/html": [
       "<div>\n",
       "<style scoped>\n",
       "    .dataframe tbody tr th:only-of-type {\n",
       "        vertical-align: middle;\n",
       "    }\n",
       "\n",
       "    .dataframe tbody tr th {\n",
       "        vertical-align: top;\n",
       "    }\n",
       "\n",
       "    .dataframe thead th {\n",
       "        text-align: right;\n",
       "    }\n",
       "</style>\n",
       "<table border=\"1\" class=\"dataframe\">\n",
       "  <thead>\n",
       "    <tr style=\"text-align: right;\">\n",
       "      <th></th>\n",
       "      <th>postazione</th>\n",
       "      <th>Data</th>\n",
       "      <th>VOC_ppm</th>\n",
       "      <th>PIDVOC_ppb</th>\n",
       "    </tr>\n",
       "  </thead>\n",
       "  <tbody>\n",
       "    <tr>\n",
       "      <th>0</th>\n",
       "      <td>ATM05_01479</td>\n",
       "      <td>2021-04-12 00:00:00</td>\n",
       "      <td>0.0</td>\n",
       "      <td>44.5999984741</td>\n",
       "    </tr>\n",
       "    <tr>\n",
       "      <th>1</th>\n",
       "      <td>ATM05_01479</td>\n",
       "      <td>2021-04-12 00:05:00</td>\n",
       "      <td>0.0</td>\n",
       "      <td>44.0000000000</td>\n",
       "    </tr>\n",
       "    <tr>\n",
       "      <th>2</th>\n",
       "      <td>ATM05_01479</td>\n",
       "      <td>2021-04-12 00:10:00</td>\n",
       "      <td>0.0</td>\n",
       "      <td>44.2000007629</td>\n",
       "    </tr>\n",
       "    <tr>\n",
       "      <th>3</th>\n",
       "      <td>ATM05_01479</td>\n",
       "      <td>2021-04-12 00:15:00</td>\n",
       "      <td>0.0</td>\n",
       "      <td>44.4000015259</td>\n",
       "    </tr>\n",
       "    <tr>\n",
       "      <th>4</th>\n",
       "      <td>ATM05_01479</td>\n",
       "      <td>2021-04-12 00:20:00</td>\n",
       "      <td>0.0</td>\n",
       "      <td>40.7999992371</td>\n",
       "    </tr>\n",
       "    <tr>\n",
       "      <th>...</th>\n",
       "      <td>...</td>\n",
       "      <td>...</td>\n",
       "      <td>...</td>\n",
       "      <td>...</td>\n",
       "    </tr>\n",
       "    <tr>\n",
       "      <th>140193</th>\n",
       "      <td>ATM14_01486</td>\n",
       "      <td>2021-11-28 23:35:00</td>\n",
       "      <td>0.0</td>\n",
       "      <td>352.6000061035</td>\n",
       "    </tr>\n",
       "    <tr>\n",
       "      <th>140194</th>\n",
       "      <td>ATM14_01486</td>\n",
       "      <td>2021-11-28 23:40:00</td>\n",
       "      <td>0.0</td>\n",
       "      <td>350.6000061035</td>\n",
       "    </tr>\n",
       "    <tr>\n",
       "      <th>140195</th>\n",
       "      <td>ATM14_01486</td>\n",
       "      <td>2021-11-28 23:45:00</td>\n",
       "      <td>0.0</td>\n",
       "      <td>353.0000000000</td>\n",
       "    </tr>\n",
       "    <tr>\n",
       "      <th>140196</th>\n",
       "      <td>ATM14_01486</td>\n",
       "      <td>2021-11-28 23:50:00</td>\n",
       "      <td>0.0</td>\n",
       "      <td>352.7999877930</td>\n",
       "    </tr>\n",
       "    <tr>\n",
       "      <th>140197</th>\n",
       "      <td>ATM14_01486</td>\n",
       "      <td>2021-11-28 23:55:00</td>\n",
       "      <td>0.0</td>\n",
       "      <td>352.2000122070</td>\n",
       "    </tr>\n",
       "  </tbody>\n",
       "</table>\n",
       "<p>140198 rows × 4 columns</p>\n",
       "</div>"
      ],
      "text/plain": [
       "         postazione                Data  VOC_ppm      PIDVOC_ppb\n",
       "0       ATM05_01479 2021-04-12 00:00:00      0.0   44.5999984741\n",
       "1       ATM05_01479 2021-04-12 00:05:00      0.0   44.0000000000\n",
       "2       ATM05_01479 2021-04-12 00:10:00      0.0   44.2000007629\n",
       "3       ATM05_01479 2021-04-12 00:15:00      0.0   44.4000015259\n",
       "4       ATM05_01479 2021-04-12 00:20:00      0.0   40.7999992371\n",
       "...             ...                 ...      ...             ...\n",
       "140193  ATM14_01486 2021-11-28 23:35:00      0.0  352.6000061035\n",
       "140194  ATM14_01486 2021-11-28 23:40:00      0.0  350.6000061035\n",
       "140195  ATM14_01486 2021-11-28 23:45:00      0.0  353.0000000000\n",
       "140196  ATM14_01486 2021-11-28 23:50:00      0.0  352.7999877930\n",
       "140197  ATM14_01486 2021-11-28 23:55:00      0.0  352.2000122070\n",
       "\n",
       "[140198 rows x 4 columns]"
      ]
     },
     "execution_count": 62,
     "metadata": {},
     "output_type": "execute_result"
    }
   ],
   "source": [
    "# Crea un dataframe contenente entrambi i sensori, rinomina le colonne ed elimina i valori nulli\n",
    "df_SensoriVOC = df_DatiPuliti[['postazione', 'Data', 'VOC_ppm', 'PIDVOC_ppb']]\n",
    "df_SensoriVOC = df_SensoriVOC.dropna()\n",
    "df_SensoriVOC"
   ]
  },
  {
   "cell_type": "code",
   "execution_count": 63,
   "metadata": {
    "collapsed": true
   },
   "outputs": [
    {
     "data": {
      "image/png": "[encoded data removed]",
      "text/plain": [
       "<Figure size 432x288 with 1 Axes>"
      ]
     },
     "metadata": {
      "needs_background": "light"
     },
     "output_type": "display_data"
    },
    {
     "name": "stdout",
     "output_type": "stream",
     "text": [
      "Coefficiente di correlazione tra H2S e H2SJ con pearson per la postazione ATM05_01479 è  0.002802759904770849\n",
      "Coefficiente di correlazione tra H2S e H2SJ con spearman per la postazione ATM05_01479 è  0.019924073582987926\n"
     ]
    }
   ],
   "source": [
    "# correlazione per la stazione ATM05_01479\n",
    "pearsonPost1, spearmanPost1= correlation(df_SensoriVOC, 'ATM05_01479', 'VOC_ppm', 'PIDVOC_ppb' )\n",
    "print('Coefficiente di correlazione tra VOC e PIDVOC con pearson per la postazione ATM05_01479 è ', pearsonPost1)\n",
    "print('Coefficiente di correlazione tra VOC e PIDVOC con spearman per la postazione ATM05_01479 è ', spearmanPost1)"
   ]
  },
  {
   "cell_type": "code",
   "execution_count": 64,
   "metadata": {
    "collapsed": true
   },
   "outputs": [
    {
     "data": {
      "image/png": "[encoded data removed]",
      "text/plain": [
       "<Figure size 432x288 with 1 Axes>"
      ]
     },
     "metadata": {
      "needs_background": "light"
     },
     "output_type": "display_data"
    },
    {
     "name": "stdout",
     "output_type": "stream",
     "text": [
      "Coefficiente di correlazione tra H2S e H2SJ con pearson per la postazione ATM07_01480 è  -0.01360985738008193\n",
      "Coefficiente di correlazione tra H2S e H2SJ con spearman per la postazione ATM07_01480 è  -0.029252430274637562\n"
     ]
    }
   ],
   "source": [
    "# correlazione per la stazione ATM07_01480\n",
    "pearsonPost2, spearmanPost2 = correlation(df_SensoriVOC, 'ATM07_01480', 'VOC_ppm', 'PIDVOC_ppb' )\n",
    "print('Coefficiente di correlazione tra VOC e PIDVOC con pearson per la postazione ATM07_01480 è ', pearsonPost2)\n",
    "print('Coefficiente di correlazione tra VOC e PIDVOC con spearman per la postazione ATM07_01480 è ', spearmanPost2)"
   ]
  },
  {
   "cell_type": "code",
   "execution_count": 65,
   "metadata": {
    "collapsed": true
   },
   "outputs": [
    {
     "data": {
      "image/png": "[encoded data removed]",
      "text/plain": [
       "<Figure size 432x288 with 1 Axes>"
      ]
     },
     "metadata": {
      "needs_background": "light"
     },
     "output_type": "display_data"
    },
    {
     "name": "stdout",
     "output_type": "stream",
     "text": [
      "Coefficiente di correlazione tra H2S e H2SJ con pearson per la postazione ATM10_01481 è  0.34753132766621386\n",
      "Coefficiente di correlazione tra H2S e H2SJ con spearman per la postazione ATM10_01481 è  0.1950890328734912\n"
     ]
    }
   ],
   "source": [
    "# correlazione per la stazione ATM10_01481\n",
    "pearsonPost3, spearmanPost3 = correlation(df_SensoriVOC, 'ATM10_01481', 'VOC_ppm', 'PIDVOC_ppb' )\n",
    "print('Coefficiente di correlazione tra VOC e PIDVOC con pearson per la postazione ATM10_01481 è ', pearsonPost3)\n",
    "print('Coefficiente di correlazione tra VOC e PIDVOC con spearman per la postazione ATM10_01481 è ', spearmanPost3)"
   ]
  },
  {
   "cell_type": "code",
   "execution_count": 66,
   "metadata": {
    "collapsed": true
   },
   "outputs": [
    {
     "data": {
      "image/png": "[encoded data removed]",
      "text/plain": [
       "<Figure size 432x288 with 1 Axes>"
      ]
     },
     "metadata": {
      "needs_background": "light"
     },
     "output_type": "display_data"
    },
    {
     "name": "stdout",
     "output_type": "stream",
     "text": [
      "Coefficiente di correlazione tra H2S e H2SJ con pearson per la postazione ATM14_01486 è  -0.08684644306221975\n",
      "Coefficiente di correlazione tra H2S e H2SJ con spearman per la postazione ATM14_01486 è  -0.03032925679018794\n"
     ]
    }
   ],
   "source": [
    "# correlazione per la stazione ATM14_01486\n",
    "pearsonPost4, spearmanPost4= correlation(df_SensoriVOC, 'ATM14_01486', 'VOC_ppm', 'PIDVOC_ppb' )\n",
    "print('Coefficiente di correlazione tra VOC e PIDVOC con pearson per la postazione ATM14_01486 è ', pearsonPost4)\n",
    "print('Coefficiente di correlazione tra VOC e PIDVOC con spearman per la postazione ATM14_01486 è ', spearmanPost4)"
   ]
  },
  {
   "cell_type": "code",
   "execution_count": null,
   "metadata": {},
   "outputs": [],
   "source": [
    "# CORRELAZIONE 3 TRA I SENSORI TRS E H2S NELLE VARIE POSTAZIONI"
   ]
  },
  {
   "cell_type": "code",
   "execution_count": 84,
   "metadata": {
    "collapsed": true
   },
   "outputs": [
    {
     "data": {
      "text/html": [
       "<div>\n",
       "<style scoped>\n",
       "    .dataframe tbody tr th:only-of-type {\n",
       "        vertical-align: middle;\n",
       "    }\n",
       "\n",
       "    .dataframe tbody tr th {\n",
       "        vertical-align: top;\n",
       "    }\n",
       "\n",
       "    .dataframe thead th {\n",
       "        text-align: right;\n",
       "    }\n",
       "</style>\n",
       "<table border=\"1\" class=\"dataframe\">\n",
       "  <thead>\n",
       "    <tr style=\"text-align: right;\">\n",
       "      <th></th>\n",
       "      <th>postazione</th>\n",
       "      <th>Data</th>\n",
       "      <th>TRS_ppb</th>\n",
       "      <th>H2S_ug_m3</th>\n",
       "    </tr>\n",
       "  </thead>\n",
       "  <tbody>\n",
       "    <tr>\n",
       "      <th>0</th>\n",
       "      <td>ATM05_01479</td>\n",
       "      <td>2021-04-12 00:00:00</td>\n",
       "      <td>2.0000000000</td>\n",
       "      <td>0.0000000000</td>\n",
       "    </tr>\n",
       "    <tr>\n",
       "      <th>1</th>\n",
       "      <td>ATM05_01479</td>\n",
       "      <td>2021-04-12 00:05:00</td>\n",
       "      <td>0.0000000000</td>\n",
       "      <td>0.2000000030</td>\n",
       "    </tr>\n",
       "    <tr>\n",
       "      <th>2</th>\n",
       "      <td>ATM05_01479</td>\n",
       "      <td>2021-04-12 00:10:00</td>\n",
       "      <td>0.0000000000</td>\n",
       "      <td>1.7000000477</td>\n",
       "    </tr>\n",
       "    <tr>\n",
       "      <th>3</th>\n",
       "      <td>ATM05_01479</td>\n",
       "      <td>2021-04-12 00:15:00</td>\n",
       "      <td>11.8999996185</td>\n",
       "      <td>1.8999999762</td>\n",
       "    </tr>\n",
       "    <tr>\n",
       "      <th>4</th>\n",
       "      <td>ATM05_01479</td>\n",
       "      <td>2021-04-12 00:20:00</td>\n",
       "      <td>26.1000003815</td>\n",
       "      <td>2.5000000000</td>\n",
       "    </tr>\n",
       "    <tr>\n",
       "      <th>...</th>\n",
       "      <td>...</td>\n",
       "      <td>...</td>\n",
       "      <td>...</td>\n",
       "      <td>...</td>\n",
       "    </tr>\n",
       "    <tr>\n",
       "      <th>140193</th>\n",
       "      <td>ATM14_01486</td>\n",
       "      <td>2021-11-28 23:35:00</td>\n",
       "      <td>0.0000000000</td>\n",
       "      <td>8.8999996185</td>\n",
       "    </tr>\n",
       "    <tr>\n",
       "      <th>140194</th>\n",
       "      <td>ATM14_01486</td>\n",
       "      <td>2021-11-28 23:40:00</td>\n",
       "      <td>0.0000000000</td>\n",
       "      <td>8.3000001907</td>\n",
       "    </tr>\n",
       "    <tr>\n",
       "      <th>140195</th>\n",
       "      <td>ATM14_01486</td>\n",
       "      <td>2021-11-28 23:45:00</td>\n",
       "      <td>0.0000000000</td>\n",
       "      <td>8.6999998093</td>\n",
       "    </tr>\n",
       "    <tr>\n",
       "      <th>140196</th>\n",
       "      <td>ATM14_01486</td>\n",
       "      <td>2021-11-28 23:50:00</td>\n",
       "      <td>0.0000000000</td>\n",
       "      <td>9.1999998093</td>\n",
       "    </tr>\n",
       "    <tr>\n",
       "      <th>140197</th>\n",
       "      <td>ATM14_01486</td>\n",
       "      <td>2021-11-28 23:55:00</td>\n",
       "      <td>0.0000000000</td>\n",
       "      <td>9.1999998093</td>\n",
       "    </tr>\n",
       "  </tbody>\n",
       "</table>\n",
       "<p>140198 rows × 4 columns</p>\n",
       "</div>"
      ],
      "text/plain": [
       "         postazione                Data        TRS_ppb     H2S_ug_m3\n",
       "0       ATM05_01479 2021-04-12 00:00:00   2.0000000000  0.0000000000\n",
       "1       ATM05_01479 2021-04-12 00:05:00   0.0000000000  0.2000000030\n",
       "2       ATM05_01479 2021-04-12 00:10:00   0.0000000000  1.7000000477\n",
       "3       ATM05_01479 2021-04-12 00:15:00  11.8999996185  1.8999999762\n",
       "4       ATM05_01479 2021-04-12 00:20:00  26.1000003815  2.5000000000\n",
       "...             ...                 ...            ...           ...\n",
       "140193  ATM14_01486 2021-11-28 23:35:00   0.0000000000  8.8999996185\n",
       "140194  ATM14_01486 2021-11-28 23:40:00   0.0000000000  8.3000001907\n",
       "140195  ATM14_01486 2021-11-28 23:45:00   0.0000000000  8.6999998093\n",
       "140196  ATM14_01486 2021-11-28 23:50:00   0.0000000000  9.1999998093\n",
       "140197  ATM14_01486 2021-11-28 23:55:00   0.0000000000  9.1999998093\n",
       "\n",
       "[140198 rows x 4 columns]"
      ]
     },
     "execution_count": 84,
     "metadata": {},
     "output_type": "execute_result"
    }
   ],
   "source": [
    "df_SenTRS_H2S = df_DatiPuliti[['postazione', 'Data', 'TRS_ppb', 'H2S_ug_m3']]\n",
    "df_SenTRS_H2S = df_SenTRS_H2S.dropna()\n",
    "df_SenTRS_H2S"
   ]
  },
  {
   "cell_type": "code",
   "execution_count": 80,
   "metadata": {
    "collapsed": true
   },
   "outputs": [
    {
     "data": {
      "image/png": "[encoded data removed]",
      "text/plain": [
       "<Figure size 432x288 with 1 Axes>"
      ]
     },
     "metadata": {
      "needs_background": "light"
     },
     "output_type": "display_data"
    },
    {
     "name": "stdout",
     "output_type": "stream",
     "text": [
      "Coefficiente di correlazione tra H2S e H2SJ con pearson per la postazione ATM05_01479 è  -0.013028664747631756\n",
      "Coefficiente di correlazione tra H2S e H2SJ con spearman per la postazione ATM05_01479 è  -0.04929222414161009\n"
     ]
    }
   ],
   "source": [
    "# correlazione per la stazione ATM05_01479\n",
    "pearsonPost4, spearmanPost4= correlation(df_SenTRS_H2S, 'ATM05_01479', 'TRS_ppb', 'H2S_ug_m3' )\n",
    "print('Coefficiente di correlazione tra TRS e H2S con pearson per la postazione ATM05_01479 è ', pearsonPost4)\n",
    "print('Coefficiente di correlazione tra TRS e H2S con spearman per la postazione ATM05_01479 è ', spearmanPost4)"
   ]
  },
  {
   "cell_type": "code",
   "execution_count": 81,
   "metadata": {
    "collapsed": true
   },
   "outputs": [
    {
     "data": {
      "image/png": "[encoded data removed]",
      "text/plain": [
       "<Figure size 432x288 with 1 Axes>"
      ]
     },
     "metadata": {
      "needs_background": "light"
     },
     "output_type": "display_data"
    },
    {
     "name": "stdout",
     "output_type": "stream",
     "text": [
      "Coefficiente di correlazione tra H2S e H2SJ con pearson per la postazione ATM07_01480 è  -0.02490068855696131\n",
      "Coefficiente di correlazione tra H2S e H2SJ con spearman per la postazione ATM07_01480 è  -0.04232862707203519\n"
     ]
    }
   ],
   "source": [
    "# correlazione per la stazione ATM07_01480\n",
    "pearsonPost4, spearmanPost4= correlation(df_SenTRS_H2S, 'ATM07_01480', 'TRS_ppb', 'H2S_ug_m3' )\n",
    "print('Coefficiente di correlazione tra TRS e H2S con pearson per la postazione ATM07_01480 è ', pearsonPost4)\n",
    "print('Coefficiente di correlazione tra TRS e H2S con spearman per la postazione ATM07_01480 è ', spearmanPost4)"
   ]
  },
  {
   "cell_type": "code",
   "execution_count": 82,
   "metadata": {
    "collapsed": true
   },
   "outputs": [
    {
     "data": {
      "image/png": "[encoded data removed]",
      "text/plain": [
       "<Figure size 432x288 with 1 Axes>"
      ]
     },
     "metadata": {
      "needs_background": "light"
     },
     "output_type": "display_data"
    },
    {
     "name": "stdout",
     "output_type": "stream",
     "text": [
      "Coefficiente di correlazione tra H2S e H2SJ con pearson per la postazione ATM10_01481 è  -0.10629043206775543\n",
      "Coefficiente di correlazione tra H2S e H2SJ con spearman per la postazione ATM10_01481 è  -0.14545394146491405\n"
     ]
    }
   ],
   "source": [
    "# correlazione per la stazione ATM10_01481\n",
    "pearsonPost4, spearmanPost4= correlation(df_SenTRS_H2S, 'ATM10_01481', 'TRS_ppb', 'H2S_ug_m3' )\n",
    "print('Coefficiente di correlazione tra TRS e H2S con pearson per la postazione ATM10_01481 è ', pearsonPost4)\n",
    "print('Coefficiente di correlazione tra TRS e H2S con spearman per la postazione ATM10_01481 è ', spearmanPost4)"
   ]
  },
  {
   "cell_type": "code",
   "execution_count": 86,
   "metadata": {
    "collapsed": true
   },
   "outputs": [
    {
     "ename": "LinAlgError",
     "evalue": "SVD did not converge in Linear Least Squares",
     "output_type": "error",
     "traceback": [
      "\u001b[1;31m---------------------------------------------------------------------------\u001b[0m",
      "\u001b[1;31mLinAlgError\u001b[0m                               Traceback (most recent call last)",
      "Input \u001b[1;32mIn [86]\u001b[0m, in \u001b[0;36m<cell line: 2>\u001b[1;34m()\u001b[0m\n\u001b[0;32m      1\u001b[0m \u001b[38;5;66;03m# correlazione per la stazione ATM14_01486\u001b[39;00m\n\u001b[1;32m----> 2\u001b[0m pearsonPost4, spearmanPost4\u001b[38;5;241m=\u001b[39m \u001b[43mcorrelation\u001b[49m\u001b[43m(\u001b[49m\u001b[43mdf_SenTRS_H2S\u001b[49m\u001b[43m,\u001b[49m\u001b[43m \u001b[49m\u001b[38;5;124;43m'\u001b[39;49m\u001b[38;5;124;43mATM14_01486\u001b[39;49m\u001b[38;5;124;43m'\u001b[39;49m\u001b[43m,\u001b[49m\u001b[43m \u001b[49m\u001b[38;5;124;43m'\u001b[39;49m\u001b[38;5;124;43mTRS_ppb\u001b[39;49m\u001b[38;5;124;43m'\u001b[39;49m\u001b[43m,\u001b[49m\u001b[43m \u001b[49m\u001b[38;5;124;43m'\u001b[39;49m\u001b[38;5;124;43mH2S_ug_m3\u001b[39;49m\u001b[38;5;124;43m'\u001b[39;49m\u001b[43m \u001b[49m\u001b[43m)\u001b[49m\n\u001b[0;32m      3\u001b[0m \u001b[38;5;28mprint\u001b[39m(\u001b[38;5;124m'\u001b[39m\u001b[38;5;124mCoefficiente di correlazione tra H2S e H2SJ con pearson per la postazione ATM14_01486 è \u001b[39m\u001b[38;5;124m'\u001b[39m, pearsonPost4)\n\u001b[0;32m      4\u001b[0m \u001b[38;5;28mprint\u001b[39m(\u001b[38;5;124m'\u001b[39m\u001b[38;5;124mCoefficiente di correlazione tra H2S e H2SJ con spearman per la postazione ATM14_01486 è \u001b[39m\u001b[38;5;124m'\u001b[39m, spearmanPost4)\n",
      "Input \u001b[1;32mIn [18]\u001b[0m, in \u001b[0;36mcorrelation\u001b[1;34m(df, postazione, compound1, compound2)\u001b[0m\n\u001b[0;32m      3\u001b[0m df1 \u001b[38;5;241m=\u001b[39m df[df[\u001b[38;5;124m'\u001b[39m\u001b[38;5;124mpostazione\u001b[39m\u001b[38;5;124m'\u001b[39m] \u001b[38;5;241m==\u001b[39m postazione]\n\u001b[0;32m      4\u001b[0m df1\u001b[38;5;241m.\u001b[39mplot\u001b[38;5;241m.\u001b[39mscatter(x\u001b[38;5;241m=\u001b[39m compound1, y\u001b[38;5;241m=\u001b[39mcompound2)\n\u001b[1;32m----> 5\u001b[0m a,b \u001b[38;5;241m=\u001b[39m \u001b[43mnp\u001b[49m\u001b[38;5;241;43m.\u001b[39;49m\u001b[43mpolyfit\u001b[49m\u001b[43m(\u001b[49m\u001b[43mdf1\u001b[49m\u001b[43m[\u001b[49m\u001b[43mcompound1\u001b[49m\u001b[43m]\u001b[49m\u001b[38;5;241;43m.\u001b[39;49m\u001b[43mto_list\u001b[49m\u001b[43m(\u001b[49m\u001b[43m)\u001b[49m\u001b[43m,\u001b[49m\u001b[43m \u001b[49m\u001b[43mdf1\u001b[49m\u001b[43m[\u001b[49m\u001b[43mcompound2\u001b[49m\u001b[43m]\u001b[49m\u001b[38;5;241;43m.\u001b[39;49m\u001b[43mto_list\u001b[49m\u001b[43m(\u001b[49m\u001b[43m)\u001b[49m\u001b[43m,\u001b[49m\u001b[43m \u001b[49m\u001b[38;5;241;43m1\u001b[39;49m\u001b[43m)\u001b[49m \u001b[38;5;66;03m#Inferiamo y =ax + b\u001b[39;00m\n\u001b[0;32m      6\u001b[0m x1 \u001b[38;5;241m=\u001b[39m \u001b[38;5;28mmin\u001b[39m(df1[compound1]\u001b[38;5;241m.\u001b[39mto_list())\n\u001b[0;32m      7\u001b[0m x2 \u001b[38;5;241m=\u001b[39m \u001b[38;5;28mmax\u001b[39m(df1[compound1]\u001b[38;5;241m.\u001b[39mto_list())\n",
      "File \u001b[1;32m<__array_function__ internals>:5\u001b[0m, in \u001b[0;36mpolyfit\u001b[1;34m(*args, **kwargs)\u001b[0m\n",
      "File \u001b[1;32m~\\anaconda3\\lib\\site-packages\\numpy\\lib\\polynomial.py:660\u001b[0m, in \u001b[0;36mpolyfit\u001b[1;34m(x, y, deg, rcond, full, w, cov)\u001b[0m\n\u001b[0;32m    658\u001b[0m scale \u001b[38;5;241m=\u001b[39m NX\u001b[38;5;241m.\u001b[39msqrt((lhs\u001b[38;5;241m*\u001b[39mlhs)\u001b[38;5;241m.\u001b[39msum(axis\u001b[38;5;241m=\u001b[39m\u001b[38;5;241m0\u001b[39m))\n\u001b[0;32m    659\u001b[0m lhs \u001b[38;5;241m/\u001b[39m\u001b[38;5;241m=\u001b[39m scale\n\u001b[1;32m--> 660\u001b[0m c, resids, rank, s \u001b[38;5;241m=\u001b[39m \u001b[43mlstsq\u001b[49m\u001b[43m(\u001b[49m\u001b[43mlhs\u001b[49m\u001b[43m,\u001b[49m\u001b[43m \u001b[49m\u001b[43mrhs\u001b[49m\u001b[43m,\u001b[49m\u001b[43m \u001b[49m\u001b[43mrcond\u001b[49m\u001b[43m)\u001b[49m\n\u001b[0;32m    661\u001b[0m c \u001b[38;5;241m=\u001b[39m (c\u001b[38;5;241m.\u001b[39mT\u001b[38;5;241m/\u001b[39mscale)\u001b[38;5;241m.\u001b[39mT  \u001b[38;5;66;03m# broadcast scale coefficients\u001b[39;00m\n\u001b[0;32m    663\u001b[0m \u001b[38;5;66;03m# warn on rank reduction, which indicates an ill conditioned matrix\u001b[39;00m\n",
      "File \u001b[1;32m<__array_function__ internals>:5\u001b[0m, in \u001b[0;36mlstsq\u001b[1;34m(*args, **kwargs)\u001b[0m\n",
      "File \u001b[1;32m~\\anaconda3\\lib\\site-packages\\numpy\\linalg\\linalg.py:2306\u001b[0m, in \u001b[0;36mlstsq\u001b[1;34m(a, b, rcond)\u001b[0m\n\u001b[0;32m   2303\u001b[0m \u001b[38;5;28;01mif\u001b[39;00m n_rhs \u001b[38;5;241m==\u001b[39m \u001b[38;5;241m0\u001b[39m:\n\u001b[0;32m   2304\u001b[0m     \u001b[38;5;66;03m# lapack can't handle n_rhs = 0 - so allocate the array one larger in that axis\u001b[39;00m\n\u001b[0;32m   2305\u001b[0m     b \u001b[38;5;241m=\u001b[39m zeros(b\u001b[38;5;241m.\u001b[39mshape[:\u001b[38;5;241m-\u001b[39m\u001b[38;5;241m2\u001b[39m] \u001b[38;5;241m+\u001b[39m (m, n_rhs \u001b[38;5;241m+\u001b[39m \u001b[38;5;241m1\u001b[39m), dtype\u001b[38;5;241m=\u001b[39mb\u001b[38;5;241m.\u001b[39mdtype)\n\u001b[1;32m-> 2306\u001b[0m x, resids, rank, s \u001b[38;5;241m=\u001b[39m \u001b[43mgufunc\u001b[49m\u001b[43m(\u001b[49m\u001b[43ma\u001b[49m\u001b[43m,\u001b[49m\u001b[43m \u001b[49m\u001b[43mb\u001b[49m\u001b[43m,\u001b[49m\u001b[43m \u001b[49m\u001b[43mrcond\u001b[49m\u001b[43m,\u001b[49m\u001b[43m \u001b[49m\u001b[43msignature\u001b[49m\u001b[38;5;241;43m=\u001b[39;49m\u001b[43msignature\u001b[49m\u001b[43m,\u001b[49m\u001b[43m \u001b[49m\u001b[43mextobj\u001b[49m\u001b[38;5;241;43m=\u001b[39;49m\u001b[43mextobj\u001b[49m\u001b[43m)\u001b[49m\n\u001b[0;32m   2307\u001b[0m \u001b[38;5;28;01mif\u001b[39;00m m \u001b[38;5;241m==\u001b[39m \u001b[38;5;241m0\u001b[39m:\n\u001b[0;32m   2308\u001b[0m     x[\u001b[38;5;241m.\u001b[39m\u001b[38;5;241m.\u001b[39m\u001b[38;5;241m.\u001b[39m] \u001b[38;5;241m=\u001b[39m \u001b[38;5;241m0\u001b[39m\n",
      "File \u001b[1;32m~\\anaconda3\\lib\\site-packages\\numpy\\linalg\\linalg.py:100\u001b[0m, in \u001b[0;36m_raise_linalgerror_lstsq\u001b[1;34m(err, flag)\u001b[0m\n\u001b[0;32m     99\u001b[0m \u001b[38;5;28;01mdef\u001b[39;00m \u001b[38;5;21m_raise_linalgerror_lstsq\u001b[39m(err, flag):\n\u001b[1;32m--> 100\u001b[0m     \u001b[38;5;28;01mraise\u001b[39;00m LinAlgError(\u001b[38;5;124m\"\u001b[39m\u001b[38;5;124mSVD did not converge in Linear Least Squares\u001b[39m\u001b[38;5;124m\"\u001b[39m)\n",
      "\u001b[1;31mLinAlgError\u001b[0m: SVD did not converge in Linear Least Squares"
     ]
    },
    {
     "data": {
      "image/png": "[encoded data removed]",
      "text/plain": [
       "<Figure size 432x288 with 1 Axes>"
      ]
     },
     "metadata": {
      "needs_background": "light"
     },
     "output_type": "display_data"
    }
   ],
   "source": [
    "# correlazione per la stazione ATM14_01486\n",
    "pearsonPost4, spearmanPost4= correlation(df_SenTRS_H2S, 'ATM14_01486', 'TRS_ppb', 'H2S_ug_m3' )\n",
    "print('Coefficiente di correlazione tra TRS e H2S con pearson per la postazione ATM14_01486 è ', pearsonPost4)\n",
    "print('Coefficiente di correlazione tra TRS e H2S con spearman per la postazione ATM14_01486 è ', spearmanPost4)"
   ]
  },
  {
   "cell_type": "code",
   "execution_count": null,
   "metadata": {},
   "outputs": [],
   "source": [
    "# CORRELAZIONE 4 TRA I SENSORI TRS E H2SJ NELLE VARIE POSTAZIONI"
   ]
  },
  {
   "cell_type": "code",
   "execution_count": 87,
   "metadata": {
    "collapsed": true
   },
   "outputs": [
    {
     "data": {
      "text/html": [
       "<div>\n",
       "<style scoped>\n",
       "    .dataframe tbody tr th:only-of-type {\n",
       "        vertical-align: middle;\n",
       "    }\n",
       "\n",
       "    .dataframe tbody tr th {\n",
       "        vertical-align: top;\n",
       "    }\n",
       "\n",
       "    .dataframe thead th {\n",
       "        text-align: right;\n",
       "    }\n",
       "</style>\n",
       "<table border=\"1\" class=\"dataframe\">\n",
       "  <thead>\n",
       "    <tr style=\"text-align: right;\">\n",
       "      <th></th>\n",
       "      <th>postazione</th>\n",
       "      <th>Data</th>\n",
       "      <th>TRS_ppb</th>\n",
       "      <th>H2SJ_ug_m3</th>\n",
       "    </tr>\n",
       "  </thead>\n",
       "  <tbody>\n",
       "    <tr>\n",
       "      <th>0</th>\n",
       "      <td>ATM05_01479</td>\n",
       "      <td>2021-04-12 00:00:00</td>\n",
       "      <td>2.0000000000</td>\n",
       "      <td>0.0000000000</td>\n",
       "    </tr>\n",
       "    <tr>\n",
       "      <th>1</th>\n",
       "      <td>ATM05_01479</td>\n",
       "      <td>2021-04-12 00:05:00</td>\n",
       "      <td>0.0000000000</td>\n",
       "      <td>0.0000000000</td>\n",
       "    </tr>\n",
       "    <tr>\n",
       "      <th>2</th>\n",
       "      <td>ATM05_01479</td>\n",
       "      <td>2021-04-12 00:10:00</td>\n",
       "      <td>0.0000000000</td>\n",
       "      <td>0.0000000000</td>\n",
       "    </tr>\n",
       "    <tr>\n",
       "      <th>3</th>\n",
       "      <td>ATM05_01479</td>\n",
       "      <td>2021-04-12 00:15:00</td>\n",
       "      <td>11.8999996185</td>\n",
       "      <td>0.0000000000</td>\n",
       "    </tr>\n",
       "    <tr>\n",
       "      <th>4</th>\n",
       "      <td>ATM05_01479</td>\n",
       "      <td>2021-04-12 00:20:00</td>\n",
       "      <td>26.1000003815</td>\n",
       "      <td>0.0000000000</td>\n",
       "    </tr>\n",
       "    <tr>\n",
       "      <th>...</th>\n",
       "      <td>...</td>\n",
       "      <td>...</td>\n",
       "      <td>...</td>\n",
       "      <td>...</td>\n",
       "    </tr>\n",
       "    <tr>\n",
       "      <th>140193</th>\n",
       "      <td>ATM14_01486</td>\n",
       "      <td>2021-11-28 23:35:00</td>\n",
       "      <td>0.0000000000</td>\n",
       "      <td>0.3000000119</td>\n",
       "    </tr>\n",
       "    <tr>\n",
       "      <th>140194</th>\n",
       "      <td>ATM14_01486</td>\n",
       "      <td>2021-11-28 23:40:00</td>\n",
       "      <td>0.0000000000</td>\n",
       "      <td>0.3000000119</td>\n",
       "    </tr>\n",
       "    <tr>\n",
       "      <th>140195</th>\n",
       "      <td>ATM14_01486</td>\n",
       "      <td>2021-11-28 23:45:00</td>\n",
       "      <td>0.0000000000</td>\n",
       "      <td>0.3000000119</td>\n",
       "    </tr>\n",
       "    <tr>\n",
       "      <th>140196</th>\n",
       "      <td>ATM14_01486</td>\n",
       "      <td>2021-11-28 23:50:00</td>\n",
       "      <td>0.0000000000</td>\n",
       "      <td>1.2000000477</td>\n",
       "    </tr>\n",
       "    <tr>\n",
       "      <th>140197</th>\n",
       "      <td>ATM14_01486</td>\n",
       "      <td>2021-11-28 23:55:00</td>\n",
       "      <td>0.0000000000</td>\n",
       "      <td>1.1000000238</td>\n",
       "    </tr>\n",
       "  </tbody>\n",
       "</table>\n",
       "<p>140198 rows × 4 columns</p>\n",
       "</div>"
      ],
      "text/plain": [
       "         postazione                Data        TRS_ppb    H2SJ_ug_m3\n",
       "0       ATM05_01479 2021-04-12 00:00:00   2.0000000000  0.0000000000\n",
       "1       ATM05_01479 2021-04-12 00:05:00   0.0000000000  0.0000000000\n",
       "2       ATM05_01479 2021-04-12 00:10:00   0.0000000000  0.0000000000\n",
       "3       ATM05_01479 2021-04-12 00:15:00  11.8999996185  0.0000000000\n",
       "4       ATM05_01479 2021-04-12 00:20:00  26.1000003815  0.0000000000\n",
       "...             ...                 ...            ...           ...\n",
       "140193  ATM14_01486 2021-11-28 23:35:00   0.0000000000  0.3000000119\n",
       "140194  ATM14_01486 2021-11-28 23:40:00   0.0000000000  0.3000000119\n",
       "140195  ATM14_01486 2021-11-28 23:45:00   0.0000000000  0.3000000119\n",
       "140196  ATM14_01486 2021-11-28 23:50:00   0.0000000000  1.2000000477\n",
       "140197  ATM14_01486 2021-11-28 23:55:00   0.0000000000  1.1000000238\n",
       "\n",
       "[140198 rows x 4 columns]"
      ]
     },
     "execution_count": 87,
     "metadata": {},
     "output_type": "execute_result"
    }
   ],
   "source": [
    "df_SenTRS_H2SJ = df_DatiPuliti[['postazione', 'Data', 'TRS_ppb', 'H2SJ_ug_m3']]\n",
    "df_SenTRS_H2SJ = df_SenTRS_H2SJ.dropna()\n",
    "df_SenTRS_H2SJ"
   ]
  },
  {
   "cell_type": "code",
   "execution_count": 92,
   "metadata": {
    "collapsed": true
   },
   "outputs": [
    {
     "data": {
      "image/png": "[encoded data removed]",
      "text/plain": [
       "<Figure size 432x288 with 1 Axes>"
      ]
     },
     "metadata": {
      "needs_background": "light"
     },
     "output_type": "display_data"
    },
    {
     "name": "stdout",
     "output_type": "stream",
     "text": [
      "Coefficiente di correlazione tra H2S e H2SJ con pearson per la postazione ATM05_01479 è  0.05612023202544828\n",
      "Coefficiente di correlazione tra H2S e H2SJ con spearman per la postazione ATM05_01479 è  0.045931019468425364\n"
     ]
    }
   ],
   "source": [
    "# correlazione per la stazione ATM05_01479\n",
    "pearsonPost4, spearmanPost4= correlation(df_SenTRS_H2SJ, 'ATM05_01479', 'TRS_ppb', 'H2SJ_ug_m3' )\n",
    "print('Coefficiente di correlazione tra TRS e H2SJ con pearson per la postazione ATM05_01479 è ', pearsonPost4)\n",
    "print('Coefficiente di correlazione tra TRS e H2SJ con spearman per la postazione ATM05_01479 è ', spearmanPost4)"
   ]
  },
  {
   "cell_type": "code",
   "execution_count": 93,
   "metadata": {
    "collapsed": true
   },
   "outputs": [
    {
     "data": {
      "image/png": "[encoded data removed]",
      "text/plain": [
       "<Figure size 432x288 with 1 Axes>"
      ]
     },
     "metadata": {
      "needs_background": "light"
     },
     "output_type": "display_data"
    },
    {
     "name": "stdout",
     "output_type": "stream",
     "text": [
      "Coefficiente di correlazione tra H2S e H2SJ con pearson per la postazione ATM07_01480 è  -0.0028539806364508706\n",
      "Coefficiente di correlazione tra H2S e H2SJ con spearman per la postazione ATM07_01480 è  -0.01186432651634976\n"
     ]
    }
   ],
   "source": [
    "# correlazione per la stazione ATM07_01480\n",
    "pearsonPost4, spearmanPost4= correlation(df_SenTRS_H2SJ, 'ATM07_01480', 'TRS_ppb', 'H2SJ_ug_m3' )\n",
    "print('Coefficiente di correlazione tra TRS e H2SJ con pearson per la postazione ATM07_01480 è ', pearsonPost4)\n",
    "print('Coefficiente di correlazione tra TRS e H2SJ con spearman per la postazione ATM07_01480 è ', spearmanPost4)"
   ]
  },
  {
   "cell_type": "code",
   "execution_count": 94,
   "metadata": {
    "collapsed": true
   },
   "outputs": [
    {
     "data": {
      "image/png": "[encoded data removed]",
      "text/plain": [
       "<Figure size 432x288 with 1 Axes>"
      ]
     },
     "metadata": {
      "needs_background": "light"
     },
     "output_type": "display_data"
    },
    {
     "name": "stdout",
     "output_type": "stream",
     "text": [
      "Coefficiente di correlazione tra H2S e H2SJ con pearson per la postazione ATM10_01481 è  0.007706397882671803\n",
      "Coefficiente di correlazione tra H2S e H2SJ con spearman per la postazione ATM10_01481 è  -0.12178441802055145\n"
     ]
    }
   ],
   "source": [
    "# correlazione per la stazione ATM10_01481\n",
    "pearsonPost4, spearmanPost4= correlation(df_SenTRS_H2SJ, 'ATM10_01481', 'TRS_ppb', 'H2SJ_ug_m3' )\n",
    "print('Coefficiente di correlazione tra TRS e H2SJ con pearson per la postazione ATM10_01481 è ', pearsonPost4)\n",
    "print('Coefficiente di correlazione tra TRS e H2SJ con spearman per la postazione ATM10_01481 è ', spearmanPost4)"
   ]
  },
  {
   "cell_type": "code",
   "execution_count": 95,
   "metadata": {
    "collapsed": true
   },
   "outputs": [
    {
     "name": "stderr",
     "output_type": "stream",
     "text": [
      "C:\\Users\\Antonio\\anaconda3\\lib\\site-packages\\numpy\\lib\\polynomial.py:659: RuntimeWarning: invalid value encountered in true_divide\n",
      "  lhs /= scale\n"
     ]
    },
    {
     "ename": "LinAlgError",
     "evalue": "SVD did not converge in Linear Least Squares",
     "output_type": "error",
     "traceback": [
      "\u001b[1;31m---------------------------------------------------------------------------\u001b[0m",
      "\u001b[1;31mLinAlgError\u001b[0m                               Traceback (most recent call last)",
      "Input \u001b[1;32mIn [95]\u001b[0m, in \u001b[0;36m<cell line: 2>\u001b[1;34m()\u001b[0m\n\u001b[0;32m      1\u001b[0m \u001b[38;5;66;03m# correlazione per la stazione ATM14_01486\u001b[39;00m\n\u001b[1;32m----> 2\u001b[0m pearsonPost4, spearmanPost4\u001b[38;5;241m=\u001b[39m \u001b[43mcorrelation\u001b[49m\u001b[43m(\u001b[49m\u001b[43mdf_SenTRS_H2SJ\u001b[49m\u001b[43m,\u001b[49m\u001b[43m \u001b[49m\u001b[38;5;124;43m'\u001b[39;49m\u001b[38;5;124;43mATM14_01486\u001b[39;49m\u001b[38;5;124;43m'\u001b[39;49m\u001b[43m,\u001b[49m\u001b[43m \u001b[49m\u001b[38;5;124;43m'\u001b[39;49m\u001b[38;5;124;43mTRS_ppb\u001b[39;49m\u001b[38;5;124;43m'\u001b[39;49m\u001b[43m,\u001b[49m\u001b[43m \u001b[49m\u001b[38;5;124;43m'\u001b[39;49m\u001b[38;5;124;43mH2SJ_ug_m3\u001b[39;49m\u001b[38;5;124;43m'\u001b[39;49m\u001b[43m \u001b[49m\u001b[43m)\u001b[49m\n\u001b[0;32m      3\u001b[0m \u001b[38;5;28mprint\u001b[39m(\u001b[38;5;124m'\u001b[39m\u001b[38;5;124mCoefficiente di correlazione tra H2S e H2SJ con pearson per la postazione ATM14_01486 è \u001b[39m\u001b[38;5;124m'\u001b[39m, pearsonPost4)\n\u001b[0;32m      4\u001b[0m \u001b[38;5;28mprint\u001b[39m(\u001b[38;5;124m'\u001b[39m\u001b[38;5;124mCoefficiente di correlazione tra H2S e H2SJ con spearman per la postazione ATM14_01486 è \u001b[39m\u001b[38;5;124m'\u001b[39m, spearmanPost4)\n",
      "Input \u001b[1;32mIn [18]\u001b[0m, in \u001b[0;36mcorrelation\u001b[1;34m(df, postazione, compound1, compound2)\u001b[0m\n\u001b[0;32m      3\u001b[0m df1 \u001b[38;5;241m=\u001b[39m df[df[\u001b[38;5;124m'\u001b[39m\u001b[38;5;124mpostazione\u001b[39m\u001b[38;5;124m'\u001b[39m] \u001b[38;5;241m==\u001b[39m postazione]\n\u001b[0;32m      4\u001b[0m df1\u001b[38;5;241m.\u001b[39mplot\u001b[38;5;241m.\u001b[39mscatter(x\u001b[38;5;241m=\u001b[39m compound1, y\u001b[38;5;241m=\u001b[39mcompound2)\n\u001b[1;32m----> 5\u001b[0m a,b \u001b[38;5;241m=\u001b[39m \u001b[43mnp\u001b[49m\u001b[38;5;241;43m.\u001b[39;49m\u001b[43mpolyfit\u001b[49m\u001b[43m(\u001b[49m\u001b[43mdf1\u001b[49m\u001b[43m[\u001b[49m\u001b[43mcompound1\u001b[49m\u001b[43m]\u001b[49m\u001b[38;5;241;43m.\u001b[39;49m\u001b[43mto_list\u001b[49m\u001b[43m(\u001b[49m\u001b[43m)\u001b[49m\u001b[43m,\u001b[49m\u001b[43m \u001b[49m\u001b[43mdf1\u001b[49m\u001b[43m[\u001b[49m\u001b[43mcompound2\u001b[49m\u001b[43m]\u001b[49m\u001b[38;5;241;43m.\u001b[39;49m\u001b[43mto_list\u001b[49m\u001b[43m(\u001b[49m\u001b[43m)\u001b[49m\u001b[43m,\u001b[49m\u001b[43m \u001b[49m\u001b[38;5;241;43m1\u001b[39;49m\u001b[43m)\u001b[49m \u001b[38;5;66;03m#Inferiamo y =ax + b\u001b[39;00m\n\u001b[0;32m      6\u001b[0m x1 \u001b[38;5;241m=\u001b[39m \u001b[38;5;28mmin\u001b[39m(df1[compound1]\u001b[38;5;241m.\u001b[39mto_list())\n\u001b[0;32m      7\u001b[0m x2 \u001b[38;5;241m=\u001b[39m \u001b[38;5;28mmax\u001b[39m(df1[compound1]\u001b[38;5;241m.\u001b[39mto_list())\n",
      "File \u001b[1;32m<__array_function__ internals>:5\u001b[0m, in \u001b[0;36mpolyfit\u001b[1;34m(*args, **kwargs)\u001b[0m\n",
      "File \u001b[1;32m~\\anaconda3\\lib\\site-packages\\numpy\\lib\\polynomial.py:660\u001b[0m, in \u001b[0;36mpolyfit\u001b[1;34m(x, y, deg, rcond, full, w, cov)\u001b[0m\n\u001b[0;32m    658\u001b[0m scale \u001b[38;5;241m=\u001b[39m NX\u001b[38;5;241m.\u001b[39msqrt((lhs\u001b[38;5;241m*\u001b[39mlhs)\u001b[38;5;241m.\u001b[39msum(axis\u001b[38;5;241m=\u001b[39m\u001b[38;5;241m0\u001b[39m))\n\u001b[0;32m    659\u001b[0m lhs \u001b[38;5;241m/\u001b[39m\u001b[38;5;241m=\u001b[39m scale\n\u001b[1;32m--> 660\u001b[0m c, resids, rank, s \u001b[38;5;241m=\u001b[39m \u001b[43mlstsq\u001b[49m\u001b[43m(\u001b[49m\u001b[43mlhs\u001b[49m\u001b[43m,\u001b[49m\u001b[43m \u001b[49m\u001b[43mrhs\u001b[49m\u001b[43m,\u001b[49m\u001b[43m \u001b[49m\u001b[43mrcond\u001b[49m\u001b[43m)\u001b[49m\n\u001b[0;32m    661\u001b[0m c \u001b[38;5;241m=\u001b[39m (c\u001b[38;5;241m.\u001b[39mT\u001b[38;5;241m/\u001b[39mscale)\u001b[38;5;241m.\u001b[39mT  \u001b[38;5;66;03m# broadcast scale coefficients\u001b[39;00m\n\u001b[0;32m    663\u001b[0m \u001b[38;5;66;03m# warn on rank reduction, which indicates an ill conditioned matrix\u001b[39;00m\n",
      "File \u001b[1;32m<__array_function__ internals>:5\u001b[0m, in \u001b[0;36mlstsq\u001b[1;34m(*args, **kwargs)\u001b[0m\n",
      "File \u001b[1;32m~\\anaconda3\\lib\\site-packages\\numpy\\linalg\\linalg.py:2306\u001b[0m, in \u001b[0;36mlstsq\u001b[1;34m(a, b, rcond)\u001b[0m\n\u001b[0;32m   2303\u001b[0m \u001b[38;5;28;01mif\u001b[39;00m n_rhs \u001b[38;5;241m==\u001b[39m \u001b[38;5;241m0\u001b[39m:\n\u001b[0;32m   2304\u001b[0m     \u001b[38;5;66;03m# lapack can't handle n_rhs = 0 - so allocate the array one larger in that axis\u001b[39;00m\n\u001b[0;32m   2305\u001b[0m     b \u001b[38;5;241m=\u001b[39m zeros(b\u001b[38;5;241m.\u001b[39mshape[:\u001b[38;5;241m-\u001b[39m\u001b[38;5;241m2\u001b[39m] \u001b[38;5;241m+\u001b[39m (m, n_rhs \u001b[38;5;241m+\u001b[39m \u001b[38;5;241m1\u001b[39m), dtype\u001b[38;5;241m=\u001b[39mb\u001b[38;5;241m.\u001b[39mdtype)\n\u001b[1;32m-> 2306\u001b[0m x, resids, rank, s \u001b[38;5;241m=\u001b[39m \u001b[43mgufunc\u001b[49m\u001b[43m(\u001b[49m\u001b[43ma\u001b[49m\u001b[43m,\u001b[49m\u001b[43m \u001b[49m\u001b[43mb\u001b[49m\u001b[43m,\u001b[49m\u001b[43m \u001b[49m\u001b[43mrcond\u001b[49m\u001b[43m,\u001b[49m\u001b[43m \u001b[49m\u001b[43msignature\u001b[49m\u001b[38;5;241;43m=\u001b[39;49m\u001b[43msignature\u001b[49m\u001b[43m,\u001b[49m\u001b[43m \u001b[49m\u001b[43mextobj\u001b[49m\u001b[38;5;241;43m=\u001b[39;49m\u001b[43mextobj\u001b[49m\u001b[43m)\u001b[49m\n\u001b[0;32m   2307\u001b[0m \u001b[38;5;28;01mif\u001b[39;00m m \u001b[38;5;241m==\u001b[39m \u001b[38;5;241m0\u001b[39m:\n\u001b[0;32m   2308\u001b[0m     x[\u001b[38;5;241m.\u001b[39m\u001b[38;5;241m.\u001b[39m\u001b[38;5;241m.\u001b[39m] \u001b[38;5;241m=\u001b[39m \u001b[38;5;241m0\u001b[39m\n",
      "File \u001b[1;32m~\\anaconda3\\lib\\site-packages\\numpy\\linalg\\linalg.py:100\u001b[0m, in \u001b[0;36m_raise_linalgerror_lstsq\u001b[1;34m(err, flag)\u001b[0m\n\u001b[0;32m     99\u001b[0m \u001b[38;5;28;01mdef\u001b[39;00m \u001b[38;5;21m_raise_linalgerror_lstsq\u001b[39m(err, flag):\n\u001b[1;32m--> 100\u001b[0m     \u001b[38;5;28;01mraise\u001b[39;00m LinAlgError(\u001b[38;5;124m\"\u001b[39m\u001b[38;5;124mSVD did not converge in Linear Least Squares\u001b[39m\u001b[38;5;124m\"\u001b[39m)\n",
      "\u001b[1;31mLinAlgError\u001b[0m: SVD did not converge in Linear Least Squares"
     ]
    },
    {
     "data": {
      "image/png": "[encoded data removed]",
      "text/plain": [
       "<Figure size 432x288 with 1 Axes>"
      ]
     },
     "metadata": {
      "needs_background": "light"
     },
     "output_type": "display_data"
    }
   ],
   "source": [
    "# correlazione per la stazione ATM14_01486\n",
    "pearsonPost4, spearmanPost4= correlation(df_SenTRS_H2SJ, 'ATM14_01486', 'TRS_ppb', 'H2SJ_ug_m3' )\n",
    "print('Coefficiente di correlazione tra TRS e H2SJ con pearson per la postazione ATM14_01486 è ', pearsonPost4)\n",
    "print('Coefficiente di correlazione tra TRS e H2SJ con spearman per la postazione ATM14_01486 è ', spearmanPost4)"
   ]
  },
  {
   "cell_type": "code",
   "execution_count": null,
   "metadata": {},
   "outputs": [],
   "source": [
    "# CORRELAZIONE 5 TRA I SENSORI VOC E C6H6 NELLE VARIE POSTAZIONI"
   ]
  },
  {
   "cell_type": "code",
   "execution_count": 74,
   "metadata": {
    "collapsed": true
   },
   "outputs": [
    {
     "data": {
      "text/html": [
       "<div>\n",
       "<style scoped>\n",
       "    .dataframe tbody tr th:only-of-type {\n",
       "        vertical-align: middle;\n",
       "    }\n",
       "\n",
       "    .dataframe tbody tr th {\n",
       "        vertical-align: top;\n",
       "    }\n",
       "\n",
       "    .dataframe thead th {\n",
       "        text-align: right;\n",
       "    }\n",
       "</style>\n",
       "<table border=\"1\" class=\"dataframe\">\n",
       "  <thead>\n",
       "    <tr style=\"text-align: right;\">\n",
       "      <th></th>\n",
       "      <th>postazione</th>\n",
       "      <th>Data</th>\n",
       "      <th>VOC_ppm</th>\n",
       "      <th>C6H6_ug_m3</th>\n",
       "    </tr>\n",
       "  </thead>\n",
       "  <tbody>\n",
       "    <tr>\n",
       "      <th>0</th>\n",
       "      <td>ATM05_01479</td>\n",
       "      <td>2021-04-12 00:00:00</td>\n",
       "      <td>0.0</td>\n",
       "      <td>0.3000000119</td>\n",
       "    </tr>\n",
       "    <tr>\n",
       "      <th>1</th>\n",
       "      <td>ATM05_01479</td>\n",
       "      <td>2021-04-12 00:05:00</td>\n",
       "      <td>0.0</td>\n",
       "      <td>0.2000000030</td>\n",
       "    </tr>\n",
       "    <tr>\n",
       "      <th>2</th>\n",
       "      <td>ATM05_01479</td>\n",
       "      <td>2021-04-12 00:10:00</td>\n",
       "      <td>0.0</td>\n",
       "      <td>0.2000000030</td>\n",
       "    </tr>\n",
       "    <tr>\n",
       "      <th>3</th>\n",
       "      <td>ATM05_01479</td>\n",
       "      <td>2021-04-12 00:15:00</td>\n",
       "      <td>0.0</td>\n",
       "      <td>0.2000000030</td>\n",
       "    </tr>\n",
       "    <tr>\n",
       "      <th>4</th>\n",
       "      <td>ATM05_01479</td>\n",
       "      <td>2021-04-12 00:20:00</td>\n",
       "      <td>0.0</td>\n",
       "      <td>0.2000000030</td>\n",
       "    </tr>\n",
       "    <tr>\n",
       "      <th>...</th>\n",
       "      <td>...</td>\n",
       "      <td>...</td>\n",
       "      <td>...</td>\n",
       "      <td>...</td>\n",
       "    </tr>\n",
       "    <tr>\n",
       "      <th>140193</th>\n",
       "      <td>ATM14_01486</td>\n",
       "      <td>2021-11-28 23:35:00</td>\n",
       "      <td>0.0</td>\n",
       "      <td>0.6000000238</td>\n",
       "    </tr>\n",
       "    <tr>\n",
       "      <th>140194</th>\n",
       "      <td>ATM14_01486</td>\n",
       "      <td>2021-11-28 23:40:00</td>\n",
       "      <td>0.0</td>\n",
       "      <td>0.6000000238</td>\n",
       "    </tr>\n",
       "    <tr>\n",
       "      <th>140195</th>\n",
       "      <td>ATM14_01486</td>\n",
       "      <td>2021-11-28 23:45:00</td>\n",
       "      <td>0.0</td>\n",
       "      <td>0.6000000238</td>\n",
       "    </tr>\n",
       "    <tr>\n",
       "      <th>140196</th>\n",
       "      <td>ATM14_01486</td>\n",
       "      <td>2021-11-28 23:50:00</td>\n",
       "      <td>0.0</td>\n",
       "      <td>0.6000000238</td>\n",
       "    </tr>\n",
       "    <tr>\n",
       "      <th>140197</th>\n",
       "      <td>ATM14_01486</td>\n",
       "      <td>2021-11-28 23:55:00</td>\n",
       "      <td>0.0</td>\n",
       "      <td>0.6000000238</td>\n",
       "    </tr>\n",
       "  </tbody>\n",
       "</table>\n",
       "<p>140198 rows × 4 columns</p>\n",
       "</div>"
      ],
      "text/plain": [
       "         postazione                Data  VOC_ppm    C6H6_ug_m3\n",
       "0       ATM05_01479 2021-04-12 00:00:00      0.0  0.3000000119\n",
       "1       ATM05_01479 2021-04-12 00:05:00      0.0  0.2000000030\n",
       "2       ATM05_01479 2021-04-12 00:10:00      0.0  0.2000000030\n",
       "3       ATM05_01479 2021-04-12 00:15:00      0.0  0.2000000030\n",
       "4       ATM05_01479 2021-04-12 00:20:00      0.0  0.2000000030\n",
       "...             ...                 ...      ...           ...\n",
       "140193  ATM14_01486 2021-11-28 23:35:00      0.0  0.6000000238\n",
       "140194  ATM14_01486 2021-11-28 23:40:00      0.0  0.6000000238\n",
       "140195  ATM14_01486 2021-11-28 23:45:00      0.0  0.6000000238\n",
       "140196  ATM14_01486 2021-11-28 23:50:00      0.0  0.6000000238\n",
       "140197  ATM14_01486 2021-11-28 23:55:00      0.0  0.6000000238\n",
       "\n",
       "[140198 rows x 4 columns]"
      ]
     },
     "execution_count": 74,
     "metadata": {},
     "output_type": "execute_result"
    }
   ],
   "source": [
    "df_SenVOC_C6H6 = df_DatiPuliti[['postazione', 'Data', 'VOC_ppm', 'C6H6_ug_m3']]\n",
    "df_SenVOC_C6H6 = df_SenVOC_C6H6.dropna()\n",
    "df_SenVOC_C6H6"
   ]
  },
  {
   "cell_type": "code",
   "execution_count": 75,
   "metadata": {
    "collapsed": true
   },
   "outputs": [
    {
     "data": {
      "image/png": "[encoded data removed]",
      "text/plain": [
       "<Figure size 432x288 with 1 Axes>"
      ]
     },
     "metadata": {
      "needs_background": "light"
     },
     "output_type": "display_data"
    },
    {
     "name": "stdout",
     "output_type": "stream",
     "text": [
      "Coefficiente di correlazione tra H2S e H2SJ con pearson per la postazione ATM05_01479 è  0.11023743060925593\n",
      "Coefficiente di correlazione tra H2S e H2SJ con spearman per la postazione ATM05_01479 è  0.04905724751831981\n"
     ]
    }
   ],
   "source": [
    "# correlazione per la stazione ATM05_01479\n",
    "pearsonPost4, spearmanPost4= correlation(df_SenVOC_C6H6, 'ATM05_01479', 'VOC_ppm', 'C6H6_ug_m3' )\n",
    "print('Coefficiente di correlazione tra VOC e C6H6 con pearson per la postazione ATM05_01479 è ', pearsonPost4)\n",
    "print('Coefficiente di correlazione tra VOC e C6H6 con spearman per la postazione ATM05_01479 è ', spearmanPost4)"
   ]
  },
  {
   "cell_type": "code",
   "execution_count": 76,
   "metadata": {
    "collapsed": true
   },
   "outputs": [
    {
     "data": {
      "image/png": "[encoded data removed]",
      "text/plain": [
       "<Figure size 432x288 with 1 Axes>"
      ]
     },
     "metadata": {
      "needs_background": "light"
     },
     "output_type": "display_data"
    },
    {
     "name": "stdout",
     "output_type": "stream",
     "text": [
      "Coefficiente di correlazione tra H2S e H2SJ con pearson per la postazione ATM07_01480 è  0.1712151818551854\n",
      "Coefficiente di correlazione tra H2S e H2SJ con spearman per la postazione ATM07_01480 è  0.14456731322341157\n"
     ]
    }
   ],
   "source": [
    "# correlazione per la stazione ATM07_01480\n",
    "pearsonPost4, spearmanPost4= correlation(df_SenVOC_C6H6, 'ATM07_01480', 'VOC_ppm', 'C6H6_ug_m3' )\n",
    "print('Coefficiente di correlazione tra VOC e C6H6 con pearson per la postazione ATM07_01480 è ', pearsonPost4)\n",
    "print('Coefficiente di correlazione tra VOC e C6H6 con spearman per la postazione ATM07_01480 è ', spearmanPost4)"
   ]
  },
  {
   "cell_type": "code",
   "execution_count": 77,
   "metadata": {
    "collapsed": true
   },
   "outputs": [
    {
     "data": {
      "image/png": "[encoded data removed]",
      "text/plain": [
       "<Figure size 432x288 with 1 Axes>"
      ]
     },
     "metadata": {
      "needs_background": "light"
     },
     "output_type": "display_data"
    },
    {
     "name": "stdout",
     "output_type": "stream",
     "text": [
      "Coefficiente di correlazione tra H2S e H2SJ con pearson per la postazione ATM10_01481 è  0.43758613936919916\n",
      "Coefficiente di correlazione tra H2S e H2SJ con spearman per la postazione ATM10_01481 è  -0.002849972879777744\n"
     ]
    }
   ],
   "source": [
    "# correlazione per la stazione ATM10_01481\n",
    "pearsonPost4, spearmanPost4= correlation(df_SenVOC_C6H6, 'ATM10_01481', 'VOC_ppm', 'C6H6_ug_m3' )\n",
    "print('Coefficiente di correlazione tra VOC e C6H6 con pearson per la postazione ATM10_01481 è ', pearsonPost4)\n",
    "print('Coefficiente di correlazione tra VOC e C6H6 con spearman per la postazione ATM10_01481 è ', spearmanPost4)"
   ]
  },
  {
   "cell_type": "code",
   "execution_count": 78,
   "metadata": {
    "collapsed": true
   },
   "outputs": [
    {
     "data": {
      "image/png": "[encoded data removed]",
      "text/plain": [
       "<Figure size 432x288 with 1 Axes>"
      ]
     },
     "metadata": {
      "needs_background": "light"
     },
     "output_type": "display_data"
    },
    {
     "name": "stdout",
     "output_type": "stream",
     "text": [
      "Coefficiente di correlazione tra H2S e H2SJ con pearson per la postazione ATM14_01486 è  0.14214224807356757\n",
      "Coefficiente di correlazione tra H2S e H2SJ con spearman per la postazione ATM14_01486 è  0.1264743339904002\n"
     ]
    }
   ],
   "source": [
    "# correlazione per la stazione ATM14_01486\n",
    "pearsonPost4, spearmanPost4= correlation(df_SenVOC_C6H6, 'ATM14_01486', 'VOC_ppm', 'C6H6_ug_m3' )\n",
    "print('Coefficiente di correlazione tra VOC e C6H6 con pearson per la postazione ATM14_01486 è ', pearsonPost4)\n",
    "print('Coefficiente di correlazione tra VOC e C6H6 con spearman per la postazione ATM14_01486 è ', spearmanPost4)"
   ]
  },
  {
   "cell_type": "code",
   "execution_count": null,
   "metadata": {},
   "outputs": [],
   "source": [
    "# CORRELAZIONE 6 TRA I SENSORI PIDVOC E C6H6 NELLE VARIE POSTAZIONI"
   ]
  },
  {
   "cell_type": "code",
   "execution_count": 96,
   "metadata": {
    "collapsed": true
   },
   "outputs": [
    {
     "data": {
      "text/html": [
       "<div>\n",
       "<style scoped>\n",
       "    .dataframe tbody tr th:only-of-type {\n",
       "        vertical-align: middle;\n",
       "    }\n",
       "\n",
       "    .dataframe tbody tr th {\n",
       "        vertical-align: top;\n",
       "    }\n",
       "\n",
       "    .dataframe thead th {\n",
       "        text-align: right;\n",
       "    }\n",
       "</style>\n",
       "<table border=\"1\" class=\"dataframe\">\n",
       "  <thead>\n",
       "    <tr style=\"text-align: right;\">\n",
       "      <th></th>\n",
       "      <th>postazione</th>\n",
       "      <th>Data</th>\n",
       "      <th>PIDVOC_ppb</th>\n",
       "      <th>C6H6_ug_m3</th>\n",
       "    </tr>\n",
       "  </thead>\n",
       "  <tbody>\n",
       "    <tr>\n",
       "      <th>0</th>\n",
       "      <td>ATM05_01479</td>\n",
       "      <td>2021-04-12 00:00:00</td>\n",
       "      <td>44.5999984741</td>\n",
       "      <td>0.3000000119</td>\n",
       "    </tr>\n",
       "    <tr>\n",
       "      <th>1</th>\n",
       "      <td>ATM05_01479</td>\n",
       "      <td>2021-04-12 00:05:00</td>\n",
       "      <td>44.0000000000</td>\n",
       "      <td>0.2000000030</td>\n",
       "    </tr>\n",
       "    <tr>\n",
       "      <th>2</th>\n",
       "      <td>ATM05_01479</td>\n",
       "      <td>2021-04-12 00:10:00</td>\n",
       "      <td>44.2000007629</td>\n",
       "      <td>0.2000000030</td>\n",
       "    </tr>\n",
       "    <tr>\n",
       "      <th>3</th>\n",
       "      <td>ATM05_01479</td>\n",
       "      <td>2021-04-12 00:15:00</td>\n",
       "      <td>44.4000015259</td>\n",
       "      <td>0.2000000030</td>\n",
       "    </tr>\n",
       "    <tr>\n",
       "      <th>4</th>\n",
       "      <td>ATM05_01479</td>\n",
       "      <td>2021-04-12 00:20:00</td>\n",
       "      <td>40.7999992371</td>\n",
       "      <td>0.2000000030</td>\n",
       "    </tr>\n",
       "    <tr>\n",
       "      <th>...</th>\n",
       "      <td>...</td>\n",
       "      <td>...</td>\n",
       "      <td>...</td>\n",
       "      <td>...</td>\n",
       "    </tr>\n",
       "    <tr>\n",
       "      <th>140193</th>\n",
       "      <td>ATM14_01486</td>\n",
       "      <td>2021-11-28 23:35:00</td>\n",
       "      <td>352.6000061035</td>\n",
       "      <td>0.6000000238</td>\n",
       "    </tr>\n",
       "    <tr>\n",
       "      <th>140194</th>\n",
       "      <td>ATM14_01486</td>\n",
       "      <td>2021-11-28 23:40:00</td>\n",
       "      <td>350.6000061035</td>\n",
       "      <td>0.6000000238</td>\n",
       "    </tr>\n",
       "    <tr>\n",
       "      <th>140195</th>\n",
       "      <td>ATM14_01486</td>\n",
       "      <td>2021-11-28 23:45:00</td>\n",
       "      <td>353.0000000000</td>\n",
       "      <td>0.6000000238</td>\n",
       "    </tr>\n",
       "    <tr>\n",
       "      <th>140196</th>\n",
       "      <td>ATM14_01486</td>\n",
       "      <td>2021-11-28 23:50:00</td>\n",
       "      <td>352.7999877930</td>\n",
       "      <td>0.6000000238</td>\n",
       "    </tr>\n",
       "    <tr>\n",
       "      <th>140197</th>\n",
       "      <td>ATM14_01486</td>\n",
       "      <td>2021-11-28 23:55:00</td>\n",
       "      <td>352.2000122070</td>\n",
       "      <td>0.6000000238</td>\n",
       "    </tr>\n",
       "  </tbody>\n",
       "</table>\n",
       "<p>140198 rows × 4 columns</p>\n",
       "</div>"
      ],
      "text/plain": [
       "         postazione                Data      PIDVOC_ppb    C6H6_ug_m3\n",
       "0       ATM05_01479 2021-04-12 00:00:00   44.5999984741  0.3000000119\n",
       "1       ATM05_01479 2021-04-12 00:05:00   44.0000000000  0.2000000030\n",
       "2       ATM05_01479 2021-04-12 00:10:00   44.2000007629  0.2000000030\n",
       "3       ATM05_01479 2021-04-12 00:15:00   44.4000015259  0.2000000030\n",
       "4       ATM05_01479 2021-04-12 00:20:00   40.7999992371  0.2000000030\n",
       "...             ...                 ...             ...           ...\n",
       "140193  ATM14_01486 2021-11-28 23:35:00  352.6000061035  0.6000000238\n",
       "140194  ATM14_01486 2021-11-28 23:40:00  350.6000061035  0.6000000238\n",
       "140195  ATM14_01486 2021-11-28 23:45:00  353.0000000000  0.6000000238\n",
       "140196  ATM14_01486 2021-11-28 23:50:00  352.7999877930  0.6000000238\n",
       "140197  ATM14_01486 2021-11-28 23:55:00  352.2000122070  0.6000000238\n",
       "\n",
       "[140198 rows x 4 columns]"
      ]
     },
     "execution_count": 96,
     "metadata": {},
     "output_type": "execute_result"
    }
   ],
   "source": [
    "df_SenPIDVOC_C6H6 = df_DatiPuliti[['postazione', 'Data', 'PIDVOC_ppb', 'C6H6_ug_m3']]\n",
    "df_SenPIDVOC_C6H6 = df_SenPIDVOC_C6H6.dropna()\n",
    "df_SenPIDVOC_C6H6"
   ]
  },
  {
   "cell_type": "code",
   "execution_count": 97,
   "metadata": {},
   "outputs": [
    {
     "data": {
      "image/png": "[encoded data removed]",
      "text/plain": [
       "<Figure size 432x288 with 1 Axes>"
      ]
     },
     "metadata": {
      "needs_background": "light"
     },
     "output_type": "display_data"
    },
    {
     "name": "stdout",
     "output_type": "stream",
     "text": [
      "Coefficiente di correlazione tra H2S e H2SJ con pearson per la postazione ATM05_01479 è  0.10441473692213753\n",
      "Coefficiente di correlazione tra H2S e H2SJ con spearman per la postazione ATM05_01479 è  0.17363200281853491\n"
     ]
    }
   ],
   "source": [
    "# correlazione per la stazione ATM05_01479\n",
    "pearsonPost4, spearmanPost4= correlation(df_SenPIDVOC_C6H6, 'ATM05_01479', 'PIDVOC_ppb', 'C6H6_ug_m3' )\n",
    "print('Coefficiente di correlazione tra PIDVOC e C6H6 con pearson per la postazione ATM05_01479 è ', pearsonPost4)\n",
    "print('Coefficiente di correlazione tra PIDVOC e C6H6 con spearman per la postazione ATM05_01479 è ', spearmanPost4)"
   ]
  },
  {
   "cell_type": "code",
   "execution_count": 98,
   "metadata": {},
   "outputs": [
    {
     "data": {
      "image/png": "[encoded data removed]",
      "text/plain": [
       "<Figure size 432x288 with 1 Axes>"
      ]
     },
     "metadata": {
      "needs_background": "light"
     },
     "output_type": "display_data"
    },
    {
     "name": "stdout",
     "output_type": "stream",
     "text": [
      "Coefficiente di correlazione tra H2S e H2SJ con pearson per la postazione ATM07_01480 è  -0.07893927831700971\n",
      "Coefficiente di correlazione tra H2S e H2SJ con spearman per la postazione ATM07_01480 è  -0.01111394593546374\n"
     ]
    }
   ],
   "source": [
    "# correlazione per la stazione ATM07_01480\n",
    "pearsonPost4, spearmanPost4= correlation(df_SenPIDVOC_C6H6, 'ATM07_01480', 'PIDVOC_ppb', 'C6H6_ug_m3' )\n",
    "print('Coefficiente di correlazione tra PIDVOC e C6H6 con pearson per la postazione ATM07_01480 è ', pearsonPost4)\n",
    "print('Coefficiente di correlazione tra PIDVOC e C6H6 con spearman per la postazione ATM07_01480 è ', spearmanPost4)"
   ]
  },
  {
   "cell_type": "code",
   "execution_count": 99,
   "metadata": {},
   "outputs": [
    {
     "data": {
      "image/png": "[encoded data removed]",
      "text/plain": [
       "<Figure size 432x288 with 1 Axes>"
      ]
     },
     "metadata": {
      "needs_background": "light"
     },
     "output_type": "display_data"
    },
    {
     "name": "stdout",
     "output_type": "stream",
     "text": [
      "Coefficiente di correlazione tra H2S e H2SJ con pearson per la postazione ATM10_01481 è  0.4919979185721272\n",
      "Coefficiente di correlazione tra H2S e H2SJ con spearman per la postazione ATM10_01481 è  0.5357929673911618\n"
     ]
    }
   ],
   "source": [
    "# correlazione per la stazione ATM10_01481\n",
    "pearsonPost4, spearmanPost4= correlation(df_SenPIDVOC_C6H6, 'ATM10_01481', 'PIDVOC_ppb', 'C6H6_ug_m3' )\n",
    "print('Coefficiente di correlazione tra PIDVOC e C6H6 con pearson per la postazione ATM10_01481 è ', pearsonPost4)\n",
    "print('Coefficiente di correlazione tra PIDVOC e C6H6 con spearman per la postazione ATM10_01481 è ', spearmanPost4)"
   ]
  },
  {
   "cell_type": "code",
   "execution_count": 100,
   "metadata": {},
   "outputs": [
    {
     "data": {
      "image/png": "[encoded data removed]",
      "text/plain": [
       "<Figure size 432x288 with 1 Axes>"
      ]
     },
     "metadata": {
      "needs_background": "light"
     },
     "output_type": "display_data"
    },
    {
     "name": "stdout",
     "output_type": "stream",
     "text": [
      "Coefficiente di correlazione tra H2S e H2SJ con pearson per la postazione ATM14_01486 è  0.7322690887945411\n",
      "Coefficiente di correlazione tra H2S e H2SJ con spearman per la postazione ATM14_01486 è  0.8468934054603997\n"
     ]
    }
   ],
   "source": [
    "# correlazione per la stazione ATM14_01486\n",
    "pearsonPost4, spearmanPost4= correlation(df_SenPIDVOC_C6H6, 'ATM14_01486', 'PIDVOC_ppb', 'C6H6_ug_m3' )\n",
    "print('Coefficiente di correlazione tra PIDVOC e C6H6 con pearson per la postazione ATM14_01486 è ', pearsonPost4)\n",
    "print('Coefficiente di correlazione tra PIDVOC e C6H6 con spearman per la postazione ATM14_01486 è ', spearmanPost4)"
   ]
  }
 ],
 "metadata": {
  "colab": {
   "name": "ElaborazioneDati.ipynb",
   "provenance": []
  },
  "kernelspec": {
   "display_name": "Python 3 (ipykernel)",
   "language": "python",
   "name": "python3"
  },
  "language_info": {
   "codemirror_mode": {
    "name": "ipython",
    "version": 3
   },
   "file_extension": ".py",
   "mimetype": "text/x-python",
   "name": "python",
   "nbconvert_exporter": "python",
   "pygments_lexer": "ipython3",
   "version": "3.9.12"
  }
 },
 "nbformat": 4,
 "nbformat_minor": 1
}
